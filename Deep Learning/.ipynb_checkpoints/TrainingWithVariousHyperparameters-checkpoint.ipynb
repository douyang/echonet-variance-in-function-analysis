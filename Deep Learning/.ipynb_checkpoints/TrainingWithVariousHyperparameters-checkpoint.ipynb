{
 "cells": [
  {
   "cell_type": "code",
   "execution_count": 1,
   "metadata": {},
   "outputs": [
    {
     "ename": "ModuleNotFoundError",
     "evalue": "No module named 'dataset'",
     "output_type": "error",
     "traceback": [
      "\u001b[0;31m---------------------------------------------------------------------------\u001b[0m",
      "\u001b[0;31mModuleNotFoundError\u001b[0m                       Traceback (most recent call last)",
      "\u001b[0;32m<ipython-input-1-6cc6d1aa02df>\u001b[0m in \u001b[0;36m<module>\u001b[0;34m\u001b[0m\n\u001b[1;32m     35\u001b[0m \u001b[0;32mimport\u001b[0m \u001b[0mPIL\u001b[0m\u001b[0;34m.\u001b[0m\u001b[0mImage\u001b[0m\u001b[0;34m\u001b[0m\u001b[0;34m\u001b[0m\u001b[0m\n\u001b[1;32m     36\u001b[0m \u001b[0;32mimport\u001b[0m \u001b[0mcv2\u001b[0m\u001b[0;34m\u001b[0m\u001b[0;34m\u001b[0m\u001b[0m\n\u001b[0;32m---> 37\u001b[0;31m \u001b[0;32mimport\u001b[0m \u001b[0mdataset\u001b[0m \u001b[0;31m#  https://medium.com/@grvsinghal/speed-up-your-python-code-using-multiprocessing-on-windows-and-jupyter-or-ipython-2714b49d6fac\u001b[0m\u001b[0;34m\u001b[0m\u001b[0;34m\u001b[0m\u001b[0m\n\u001b[0m\u001b[1;32m     38\u001b[0m \u001b[0;32mimport\u001b[0m \u001b[0mrandom\u001b[0m\u001b[0;34m\u001b[0m\u001b[0;34m\u001b[0m\u001b[0m\n\u001b[1;32m     39\u001b[0m \u001b[0;32mimport\u001b[0m \u001b[0mdataset\u001b[0m\u001b[0;34m\u001b[0m\u001b[0;34m\u001b[0m\u001b[0m\n",
      "\u001b[0;31mModuleNotFoundError\u001b[0m: No module named 'dataset'"
     ]
    }
   ],
   "source": [
    "# David Ouyang 3/2/2020\n",
    "\n",
    "# 3/2/20\n",
    "# [x] Create loss to constrain subsequent frames, IOU, and DSC\n",
    "\n",
    "# 3/3/20\n",
    "# [x] Train with different losses\n",
    "\n",
    "# 3/5/20\n",
    "# [x] Train with Adam optimizer instead of SGD\n",
    "\n",
    "# 3/12/20\n",
    "# [x] Constrained Loss training\n",
    "\n",
    "# 3/15/20\n",
    "# [x] Troubleshoot the backprop of constrained loss, remake videos\n",
    "\n",
    "# 3/18/20\n",
    "# [x] Hyperparameter search at 50 epochs, best visual performance with L2 loss and weight around 0.9\n",
    "# Current run with diff instead of diff / x / y (much bigger constrainedLoss term)\n",
    "\n",
    "import echonet\n",
    "import os\n",
    "import collections\n",
    "import numpy as np\n",
    "import tqdm\n",
    "import math \n",
    "import skimage.segmentation\n",
    "import scipy\n",
    "import torch\n",
    "import torchvision\n",
    "import seaborn as sns\n",
    "import matplotlib.pyplot as plt\n",
    "import re\n",
    "import PIL.Image\n",
    "import cv2\n",
    "import dataset #  https://medium.com/@grvsinghal/speed-up-your-python-code-using-multiprocessing-on-windows-and-jupyter-or-ipython-2714b49d6fac\n",
    "import random\n",
    "import dataset\n",
    "import variousLossFunctions\n",
    "\n",
    "SQLtracings = \"C:\\\\Datasets\\\\RVWork\\\\SQLPull-RVMasks\"\n",
    "SQLvideos = \"C:\\\\Datasets\\\\RVWork\\\\SQLPull-DownsampledFilesWithTracings\"\n",
    "\n"
   ]
  },
  {
   "cell_type": "code",
   "execution_count": 2,
   "metadata": {},
   "outputs": [
    {
     "name": "stderr",
     "output_type": "stream",
     "text": [
      "100%|██████████████████████████████████████████████████████████████████████████████████| 10/10 [00:19<00:00,  1.97s/it]\n"
     ]
    },
    {
     "name": "stdout",
     "output_type": "stream",
     "text": [
      "[32.14274  31.699886 31.5132  ] [49.326927 48.895126 48.61154 ]\n"
     ]
    }
   ],
   "source": [
    "mean, std = echonet.utils.get_mean_and_std(echonet.datasets.Echo(split=\"train\"))\n",
    "print(mean,std)\n",
    "\n",
    "#mean = np.array([28.951515,28.914696,28.896002], dtype = np.float32)\n",
    "#std = np.array([47.857174,47.831146,47.798138], dtype = np.float32)\n",
    "\n",
    "#print(mean.dtype)"
   ]
  },
  {
   "cell_type": "code",
   "execution_count": 9,
   "metadata": {},
   "outputs": [
    {
     "name": "stderr",
     "output_type": "stream",
     "text": [
      "4005it [00:03, 1274.05it/s]\n",
      "4005it [00:00, 6706.81it/s]\n",
      " 31%|████         | 40/128 [01:21<01:48,  1.24s/it, train0.0 total0.2792 dsc0.7963 ce0.2792 constrain77.3234  (0.1920)]Exception in thread QueueFeederThread:\n",
      "Traceback (most recent call last):\n",
      "  File \"C:\\Users\\Windows\\Anaconda3\\lib\\multiprocessing\\queues.py\", line 232, in _feed\n",
      "    close()\n",
      "  File \"C:\\Users\\Windows\\Anaconda3\\lib\\multiprocessing\\connection.py\", line 177, in close\n",
      "    self._close()\n",
      "  File \"C:\\Users\\Windows\\Anaconda3\\lib\\multiprocessing\\connection.py\", line 277, in _close\n",
      "    _CloseHandle(self._handle)\n",
      "OSError: [WinError 6] The handle is invalid\n",
      "\n",
      "During handling of the above exception, another exception occurred:\n",
      "\n",
      "Traceback (most recent call last):\n",
      "  File \"C:\\Users\\Windows\\Anaconda3\\lib\\threading.py\", line 926, in _bootstrap_inner\n",
      "    self.run()\n",
      "  File \"C:\\Users\\Windows\\Anaconda3\\lib\\threading.py\", line 870, in run\n",
      "    self._target(*self._args, **self._kwargs)\n",
      "  File \"C:\\Users\\Windows\\Anaconda3\\lib\\multiprocessing\\queues.py\", line 263, in _feed\n",
      "    queue_sem.release()\n",
      "ValueError: semaphore or lock released too many times\n",
      "\n",
      "100%|████████████| 128/128 [03:12<00:00,  1.50s/it, train0.0 total0.1849 dsc0.6496 ce0.1849 constrain44.4103  (0.1200)]\n",
      "100%|████████████████| 25/25 [00:56<00:00,  1.20it/s, val0.0 total0.1158 dsc0.5204 ce0.1158 constrain26.0780  (0.1092)]"
     ]
    },
    {
     "name": "stdout",
     "output_type": "stream",
     "text": [
      "this is the best so far tensor(0.1158, device='cuda:0', dtype=torch.float64)\n"
     ]
    },
    {
     "name": "stderr",
     "output_type": "stream",
     "text": [
      "100%|████████████████| 25/25 [00:57<00:00,  2.29s/it, val0.0 total0.1158 dsc0.5204 ce0.1158 constrain26.0780  (0.1092)]\n",
      "100%|████████████| 128/128 [03:13<00:00,  1.51s/it, train1.0 total0.0996 dsc0.4421 ce0.0996 constrain30.0261  (0.0756)]\n",
      "100%|████████████████| 25/25 [00:56<00:00,  1.18it/s, val1.0 total0.0843 dsc0.3901 ce0.0843 constrain38.1658  (0.0942)]"
     ]
    },
    {
     "name": "stdout",
     "output_type": "stream",
     "text": [
      "this is the best so far tensor(0.0843, device='cuda:0', dtype=torch.float64)\n"
     ]
    },
    {
     "name": "stderr",
     "output_type": "stream",
     "text": [
      "100%|████████████████| 25/25 [00:57<00:00,  2.31s/it, val1.0 total0.0843 dsc0.3901 ce0.0843 constrain38.1658  (0.0942)]\n",
      "100%|████████████| 128/128 [03:13<00:00,  1.52s/it, train2.0 total0.0786 dsc0.3452 ce0.0786 constrain36.2852  (0.0859)]\n",
      "100%|████████████████| 25/25 [00:59<00:00,  1.11it/s, val2.0 total0.0715 dsc0.3169 ce0.0715 constrain33.1695  (0.0714)]"
     ]
    },
    {
     "name": "stdout",
     "output_type": "stream",
     "text": [
      "this is the best so far tensor(0.0715, device='cuda:0', dtype=torch.float64)\n"
     ]
    },
    {
     "name": "stderr",
     "output_type": "stream",
     "text": [
      "100%|████████████████| 25/25 [00:59<00:00,  2.39s/it, val2.0 total0.0715 dsc0.3169 ce0.0715 constrain33.1695  (0.0714)]\n",
      "100%|████████████| 128/128 [03:36<00:00,  1.69s/it, train3.0 total0.0666 dsc0.2841 ce0.0666 constrain39.0108  (0.0671)]\n",
      "100%|████████████████| 25/25 [00:55<00:00,  1.24it/s, val3.0 total0.0595 dsc0.2590 ce0.0595 constrain34.1199  (0.0549)]"
     ]
    },
    {
     "name": "stdout",
     "output_type": "stream",
     "text": [
      "this is the best so far tensor(0.0595, device='cuda:0', dtype=torch.float64)\n"
     ]
    },
    {
     "name": "stderr",
     "output_type": "stream",
     "text": [
      "100%|████████████████| 25/25 [00:56<00:00,  2.25s/it, val3.0 total0.0595 dsc0.2590 ce0.0595 constrain34.1199  (0.0549)]\n",
      "100%|████████████| 128/128 [03:35<00:00,  1.68s/it, train4.0 total0.0557 dsc0.2121 ce0.0557 constrain47.6449  (0.0514)]\n",
      "100%|████████████████| 25/25 [00:55<00:00,  1.18it/s, val4.0 total0.0487 dsc0.1816 ce0.0487 constrain45.1623  (0.0472)]"
     ]
    },
    {
     "name": "stdout",
     "output_type": "stream",
     "text": [
      "this is the best so far tensor(0.0487, device='cuda:0', dtype=torch.float64)\n"
     ]
    },
    {
     "name": "stderr",
     "output_type": "stream",
     "text": [
      "100%|████████████████| 25/25 [00:56<00:00,  2.26s/it, val4.0 total0.0487 dsc0.1816 ce0.0487 constrain45.1623  (0.0472)]\n",
      "100%|████████████| 128/128 [03:36<00:00,  1.69s/it, train5.0 total0.0478 dsc0.1675 ce0.0478 constrain54.4683  (0.0406)]\n",
      "100%|████████████████| 25/25 [00:56<00:00,  1.02it/s, val5.0 total0.0480 dsc0.1717 ce0.0480 constrain44.3771  (0.0444)]"
     ]
    },
    {
     "name": "stdout",
     "output_type": "stream",
     "text": [
      "this is the best so far tensor(0.0480, device='cuda:0', dtype=torch.float64)\n"
     ]
    },
    {
     "name": "stderr",
     "output_type": "stream",
     "text": [
      "100%|████████████████| 25/25 [00:57<00:00,  2.29s/it, val5.0 total0.0480 dsc0.1717 ce0.0480 constrain44.3771  (0.0444)]\n",
      "100%|████████████| 128/128 [03:35<00:00,  1.68s/it, train6.0 total0.0464 dsc0.1620 ce0.0464 constrain52.2302  (0.0510)]\n",
      "100%|████████████████| 25/25 [00:58<00:00,  2.32s/it, val6.0 total0.0498 dsc0.1782 ce0.0498 constrain50.9255  (0.0478)]\n",
      "100%|████████████| 128/128 [03:34<00:00,  1.68s/it, train7.0 total0.0441 dsc0.1554 ce0.0441 constrain52.3066  (0.0366)]\n",
      "100%|████████████████| 25/25 [00:55<00:00,  1.20it/s, val7.0 total0.0439 dsc0.1526 ce0.0439 constrain50.9030  (0.0379)]"
     ]
    },
    {
     "name": "stdout",
     "output_type": "stream",
     "text": [
      "this is the best so far tensor(0.0439, device='cuda:0', dtype=torch.float64)\n"
     ]
    },
    {
     "name": "stderr",
     "output_type": "stream",
     "text": [
      "100%|████████████████| 25/25 [00:56<00:00,  2.27s/it, val7.0 total0.0439 dsc0.1526 ce0.0439 constrain50.9030  (0.0379)]\n",
      "100%|████████████| 128/128 [03:34<00:00,  1.67s/it, train8.0 total0.0404 dsc0.1428 ce0.0404 constrain53.1668  (0.0391)]\n",
      "100%|████████████████| 25/25 [00:55<00:00,  1.28it/s, val8.0 total0.0435 dsc0.1507 ce0.0435 constrain51.3384  (0.0517)]"
     ]
    },
    {
     "name": "stdout",
     "output_type": "stream",
     "text": [
      "this is the best so far tensor(0.0435, device='cuda:0', dtype=torch.float64)\n"
     ]
    },
    {
     "name": "stderr",
     "output_type": "stream",
     "text": [
      "100%|████████████████| 25/25 [00:56<00:00,  2.26s/it, val8.0 total0.0435 dsc0.1507 ce0.0435 constrain51.3384  (0.0517)]\n",
      "100%|████████████| 128/128 [03:34<00:00,  1.68s/it, train9.0 total0.0404 dsc0.1422 ce0.0404 constrain54.1404  (0.0383)]\n",
      "100%|████████████████| 25/25 [00:54<00:00,  1.32it/s, val9.0 total0.0427 dsc0.1530 ce0.0427 constrain49.1877  (0.0427)]"
     ]
    },
    {
     "name": "stdout",
     "output_type": "stream",
     "text": [
      "this is the best so far tensor(0.0427, device='cuda:0', dtype=torch.float64)\n"
     ]
    },
    {
     "name": "stderr",
     "output_type": "stream",
     "text": [
      "100%|████████████████| 25/25 [00:55<00:00,  2.22s/it, val9.0 total0.0427 dsc0.1530 ce0.0427 constrain49.1877  (0.0427)]\n",
      "100%|███████████| 128/128 [03:35<00:00,  1.68s/it, train10.0 total0.0411 dsc0.1442 ce0.0411 constrain54.8127  (0.0381)]\n",
      "100%|███████████████| 25/25 [00:56<00:00,  2.27s/it, val10.0 total0.0441 dsc0.1565 ce0.0441 constrain52.1092  (0.0409)]\n",
      "100%|███████████| 128/128 [03:34<00:00,  1.67s/it, train11.0 total0.0389 dsc0.1374 ce0.0389 constrain55.7709  (0.0420)]\n",
      "100%|███████████████| 25/25 [00:55<00:00,  1.26it/s, val11.0 total0.0419 dsc0.1459 ce0.0419 constrain55.7085  (0.0447)]"
     ]
    },
    {
     "name": "stdout",
     "output_type": "stream",
     "text": [
      "this is the best so far tensor(0.0419, device='cuda:0', dtype=torch.float64)\n"
     ]
    },
    {
     "name": "stderr",
     "output_type": "stream",
     "text": [
      "100%|███████████████| 25/25 [00:56<00:00,  2.26s/it, val11.0 total0.0419 dsc0.1459 ce0.0419 constrain55.7085  (0.0447)]\n",
      "100%|███████████| 128/128 [03:35<00:00,  1.68s/it, train12.0 total0.0366 dsc0.1300 ce0.0366 constrain56.7381  (0.0354)]\n",
      "100%|███████████████| 25/25 [00:56<00:00,  2.27s/it, val12.0 total0.0435 dsc0.1444 ce0.0435 constrain56.3974  (0.0453)]\n",
      "100%|███████████| 128/128 [03:34<00:00,  1.68s/it, train13.0 total0.0356 dsc0.1257 ce0.0356 constrain59.2729  (0.0414)]\n",
      "100%|███████████████| 25/25 [00:55<00:00,  1.25it/s, val13.0 total0.0416 dsc0.1397 ce0.0416 constrain61.0010  (0.0452)]"
     ]
    },
    {
     "name": "stdout",
     "output_type": "stream",
     "text": [
      "this is the best so far tensor(0.0416, device='cuda:0', dtype=torch.float64)\n"
     ]
    },
    {
     "name": "stderr",
     "output_type": "stream",
     "text": [
      "100%|███████████████| 25/25 [00:56<00:00,  2.26s/it, val13.0 total0.0416 dsc0.1397 ce0.0416 constrain61.0010  (0.0452)]\n",
      "100%|███████████| 128/128 [03:35<00:00,  1.68s/it, train14.0 total0.0387 dsc0.1356 ce0.0387 constrain62.1435  (0.0467)]\n",
      "100%|███████████████| 25/25 [00:57<00:00,  2.29s/it, val14.0 total0.0480 dsc0.1585 ce0.0480 constrain62.7261  (0.0511)]\n",
      "100%|███████████| 128/128 [03:34<00:00,  1.67s/it, train15.0 total0.0370 dsc0.1312 ce0.0370 constrain58.9976  (0.0395)]\n",
      "100%|███████████████| 25/25 [00:56<00:00,  2.25s/it, val15.0 total0.0427 dsc0.1422 ce0.0427 constrain55.6164  (0.0425)]\n",
      "100%|███████████| 128/128 [03:35<00:00,  1.68s/it, train16.0 total0.0339 dsc0.1207 ce0.0339 constrain62.0380  (0.0377)]\n",
      "100%|███████████████| 25/25 [00:56<00:00,  1.07it/s, val16.0 total0.0402 dsc0.1348 ce0.0402 constrain58.1263  (0.0360)]"
     ]
    },
    {
     "name": "stdout",
     "output_type": "stream",
     "text": [
      "this is the best so far tensor(0.0402, device='cuda:0', dtype=torch.float64)\n"
     ]
    },
    {
     "name": "stderr",
     "output_type": "stream",
     "text": [
      "100%|███████████████| 25/25 [00:57<00:00,  2.28s/it, val16.0 total0.0402 dsc0.1348 ce0.0402 constrain58.1263  (0.0360)]\n",
      "100%|███████████| 128/128 [03:33<00:00,  1.67s/it, train17.0 total0.0328 dsc0.1164 ce0.0328 constrain65.1355  (0.0296)]\n",
      "100%|███████████████| 25/25 [00:55<00:00,  2.22s/it, val17.0 total0.0425 dsc0.1367 ce0.0425 constrain64.6335  (0.0375)]\n",
      "100%|███████████| 128/128 [03:34<00:00,  1.68s/it, train18.0 total0.0319 dsc0.1134 ce0.0319 constrain69.7260  (0.0317)]\n",
      "100%|███████████████| 25/25 [00:56<00:00,  2.27s/it, val18.0 total0.0431 dsc0.1372 ce0.0431 constrain68.3977  (0.0397)]\n",
      "100%|███████████| 128/128 [03:35<00:00,  1.68s/it, train19.0 total0.0316 dsc0.1123 ce0.0316 constrain73.3629  (0.0333)]\n",
      "100%|███████████████| 25/25 [00:57<00:00,  2.30s/it, val19.0 total0.0419 dsc0.1384 ce0.0419 constrain65.5820  (0.0430)]\n",
      "100%|███████████| 128/128 [03:35<00:00,  1.68s/it, train20.0 total0.0307 dsc0.1092 ce0.0307 constrain76.3211  (0.0301)]\n",
      "100%|███████████████| 25/25 [00:57<00:00,  2.28s/it, val20.0 total0.0450 dsc0.1370 ce0.0450 constrain77.1514  (0.0404)]\n",
      "100%|███████████| 128/128 [03:35<00:00,  1.68s/it, train21.0 total0.0390 dsc0.1347 ce0.0390 constrain68.2232  (0.0346)]\n",
      "100%|███████████████| 25/25 [00:56<00:00,  2.26s/it, val21.0 total0.0428 dsc0.1471 ce0.0428 constrain54.9934  (0.0499)]\n",
      "100%|███████████| 128/128 [03:35<00:00,  1.69s/it, train22.0 total0.0327 dsc0.1171 ce0.0327 constrain65.6759  (0.0300)]\n",
      "100%|███████████████| 25/25 [00:57<00:00,  2.28s/it, val22.0 total0.0411 dsc0.1304 ce0.0411 constrain71.3812  (0.0360)]\n",
      "100%|███████████| 128/128 [03:35<00:00,  1.69s/it, train23.0 total0.0290 dsc0.1035 ce0.0290 constrain76.8812  (0.0296)]\n",
      "100%|███████████████| 25/25 [00:57<00:00,  2.32s/it, val23.0 total0.0425 dsc0.1287 ce0.0425 constrain74.0548  (0.0541)]\n",
      "100%|███████████| 128/128 [03:35<00:00,  1.68s/it, train24.0 total0.0278 dsc0.0987 ce0.0278 constrain85.5264  (0.0315)]\n",
      "100%|███████████████| 25/25 [00:56<00:00,  2.26s/it, val24.0 total0.0441 dsc0.1342 ce0.0441 constrain75.4834  (0.0416)]\n",
      "100%|███████████| 128/128 [03:34<00:00,  1.68s/it, train25.0 total0.0276 dsc0.0985 ce0.0276 constrain85.0379  (0.0256)]\n",
      "100%|███████████████| 25/25 [00:57<00:00,  2.29s/it, val25.0 total0.0455 dsc0.1307 ce0.0455 constrain91.3669  (0.0419)]\n",
      "100%|███████████| 128/128 [03:35<00:00,  1.68s/it, train26.0 total0.0261 dsc0.0929 ce0.0261 constrain91.2314  (0.0243)]\n",
      "100%|███████████████| 25/25 [00:56<00:00,  2.25s/it, val26.0 total0.0445 dsc0.1253 ce0.0445 constrain88.1519  (0.0395)]\n",
      "100%|███████████| 128/128 [03:34<00:00,  1.68s/it, train27.0 total0.0252 dsc0.0896 ce0.0252 constrain94.9745  (0.0254)]\n",
      "100%|███████████████| 25/25 [00:56<00:00,  2.28s/it, val27.0 total0.0456 dsc0.1285 ce0.0456 constrain89.5673  (0.0496)]\n",
      "100%|███████████| 128/128 [03:36<00:00,  1.69s/it, train28.0 total0.0247 dsc0.0878 ce0.0247 constrain98.6204  (0.0331)]\n",
      "100%|██████████████| 25/25 [00:56<00:00,  2.26s/it, val28.0 total0.0509 dsc0.1314 ce0.0509 constrain100.1540  (0.0474)]\n",
      "100%|██████████| 128/128 [03:21<00:00,  1.58s/it, train29.0 total0.0239 dsc0.0852 ce0.0239 constrain101.6220  (0.0230)]\n",
      "100%|██████████████| 25/25 [00:56<00:00,  2.27s/it, val29.0 total0.0480 dsc0.1238 ce0.0480 constrain105.7897  (0.0550)]\n",
      "100%|██████████| 128/128 [03:33<00:00,  1.67s/it, train30.0 total0.0229 dsc0.0817 ce0.0229 constrain105.6874  (0.0212)]\n",
      "100%|██████████████| 25/25 [00:57<00:00,  2.29s/it, val30.0 total0.0503 dsc0.1249 ce0.0503 constrain102.2975  (0.0553)]\n",
      "100%|██████████| 128/128 [03:34<00:00,  1.68s/it, train31.0 total0.0227 dsc0.0806 ce0.0227 constrain108.6021  (0.0241)]\n",
      "100%|██████████████| 25/25 [00:59<00:00,  2.38s/it, val31.0 total0.0496 dsc0.1237 ce0.0496 constrain107.0949  (0.0444)]\n",
      "100%|██████████| 128/128 [03:35<00:00,  1.68s/it, train32.0 total0.0218 dsc0.0778 ce0.0218 constrain109.5208  (0.0211)]\n",
      "100%|██████████████| 25/25 [00:56<00:00,  2.27s/it, val32.0 total0.0506 dsc0.1231 ce0.0506 constrain110.2911  (0.0512)]\n",
      "100%|██████████| 128/128 [03:35<00:00,  1.68s/it, train33.0 total0.0209 dsc0.0747 ce0.0209 constrain112.4469  (0.0205)]\n",
      "100%|██████████████| 25/25 [00:55<00:00,  2.23s/it, val33.0 total0.0526 dsc0.1227 ce0.0526 constrain118.7548  (0.0468)]\n",
      "100%|██████████| 128/128 [03:35<00:00,  1.69s/it, train34.0 total0.0219 dsc0.0772 ce0.0219 constrain113.9684  (0.0222)]\n",
      "100%|██████████████| 25/25 [00:56<00:00,  2.25s/it, val34.0 total0.0508 dsc0.1248 ce0.0508 constrain104.0667  (0.0439)]\n",
      "100%|██████████| 128/128 [03:35<00:00,  1.68s/it, train35.0 total0.0209 dsc0.0750 ce0.0209 constrain112.6485  (0.0222)]\n",
      "100%|██████████████| 25/25 [00:57<00:00,  2.31s/it, val35.0 total0.0502 dsc0.1161 ce0.0502 constrain114.2033  (0.0452)]\n",
      "100%|██████████| 128/128 [03:35<00:00,  1.68s/it, train36.0 total0.0196 dsc0.0699 ce0.0196 constrain117.3111  (0.0193)]\n",
      "100%|██████████████| 25/25 [00:56<00:00,  2.27s/it, val36.0 total0.0535 dsc0.1188 ce0.0535 constrain119.6431  (0.0554)]\n",
      "100%|██████████| 128/128 [03:35<00:00,  1.69s/it, train37.0 total0.0192 dsc0.0684 ce0.0192 constrain119.7316  (0.0184)]\n",
      "100%|██████████████| 25/25 [00:56<00:00,  2.28s/it, val37.0 total0.0556 dsc0.1188 ce0.0556 constrain128.6656  (0.0532)]\n",
      "100%|██████████| 128/128 [03:34<00:00,  1.68s/it, train38.0 total0.0188 dsc0.0669 ce0.0188 constrain121.3217  (0.0169)]\n",
      "100%|██████████████| 25/25 [00:56<00:00,  2.26s/it, val38.0 total0.0567 dsc0.1181 ce0.0567 constrain115.9205  (0.0571)]\n",
      "100%|██████████| 128/128 [03:34<00:00,  1.68s/it, train39.0 total0.0176 dsc0.0631 ce0.0176 constrain124.9653  (0.0176)]\n",
      "100%|██████████████| 25/25 [00:56<00:00,  2.26s/it, val39.0 total0.0560 dsc0.1152 ce0.0560 constrain130.6965  (0.0645)]\n",
      "100%|██████████| 128/128 [03:35<00:00,  1.69s/it, train40.0 total0.0175 dsc0.0623 ce0.0175 constrain127.1085  (0.0178)]\n",
      "100%|██████████████| 25/25 [00:56<00:00,  2.26s/it, val40.0 total0.0595 dsc0.1166 ce0.0595 constrain132.5299  (0.0506)]\n",
      "100%|██████████| 128/128 [03:35<00:00,  1.69s/it, train41.0 total0.0177 dsc0.0630 ce0.0177 constrain126.7340  (0.0186)]\n",
      "100%|██████████████| 25/25 [00:57<00:00,  2.30s/it, val41.0 total0.0575 dsc0.1165 ce0.0575 constrain127.3210  (0.0521)]\n",
      "100%|██████████| 128/128 [03:36<00:00,  1.69s/it, train42.0 total0.0172 dsc0.0615 ce0.0172 constrain127.6885  (0.0167)]\n",
      "100%|██████████████| 25/25 [00:56<00:00,  2.27s/it, val42.0 total0.0563 dsc0.1127 ce0.0563 constrain132.1599  (0.0666)]\n",
      "100%|██████████| 128/128 [03:36<00:00,  1.69s/it, train43.0 total0.0170 dsc0.0602 ce0.0170 constrain130.3248  (0.0216)]\n",
      "100%|██████████████| 25/25 [00:57<00:00,  2.29s/it, val43.0 total0.0570 dsc0.1154 ce0.0570 constrain133.2224  (0.0608)]\n",
      "100%|███████████| 128/128 [03:34<00:00,  1.68s/it, train44.0 total0.0439 dsc0.1462 ce0.0439 constrain76.4744  (0.0373)]\n",
      "100%|███████████████| 25/25 [00:56<00:00,  2.24s/it, val44.0 total0.0464 dsc0.1564 ce0.0464 constrain46.5865  (0.0564)]\n",
      "100%|███████████| 128/128 [03:34<00:00,  1.67s/it, train45.0 total0.0350 dsc0.1234 ce0.0350 constrain63.6718  (0.0323)]\n",
      "100%|███████████████| 25/25 [00:55<00:00,  2.22s/it, val45.0 total0.0418 dsc0.1316 ce0.0418 constrain69.9454  (0.0400)]\n",
      "100%|███████████| 128/128 [03:35<00:00,  1.68s/it, train46.0 total0.0260 dsc0.0934 ce0.0260 constrain86.8573  (0.0251)]\n",
      "100%|███████████████| 25/25 [00:57<00:00,  2.28s/it, val46.0 total0.0493 dsc0.1284 ce0.0493 constrain95.0619  (0.0477)]\n",
      "100%|██████████| 128/128 [03:35<00:00,  1.68s/it, train47.0 total0.0209 dsc0.0758 ce0.0209 constrain106.3512  (0.0227)]\n",
      "100%|██████████████| 25/25 [00:56<00:00,  2.25s/it, val47.0 total0.0538 dsc0.1211 ce0.0538 constrain116.6728  (0.0511)]\n",
      "100%|██████████| 128/128 [03:35<00:00,  1.68s/it, train48.0 total0.0188 dsc0.0677 ce0.0188 constrain117.5405  (0.0207)]\n",
      "100%|██████████████| 25/25 [00:55<00:00,  2.23s/it, val48.0 total0.0551 dsc0.1182 ce0.0551 constrain126.5019  (0.0604)]\n",
      "100%|██████████| 128/128 [03:34<00:00,  1.68s/it, train49.0 total0.0174 dsc0.0626 ce0.0174 constrain122.2718  (0.0184)]\n",
      "100%|██████████████| 25/25 [00:56<00:00,  2.26s/it, val49.0 total0.0561 dsc0.1144 ce0.0561 constrain130.4340  (0.0439)]\n",
      "4005it [00:02, 1338.80it/s]\n",
      "4005it [00:00, 8009.50it/s]\n",
      "100%|████████████| 128/128 [03:35<00:00,  1.68s/it, train0.0 total5.2514 dsc0.8542 ce0.7758 constrain18.6783  (0.5716)]\n",
      "100%|█████████████████| 25/25 [00:56<00:00,  1.27it/s, val0.0 total0.5631 dsc0.8603 ce0.5436 constrain0.6217  (0.4844)]"
     ]
    },
    {
     "name": "stdout",
     "output_type": "stream",
     "text": [
      "this is the best so far tensor(0.5631, device='cuda:0', dtype=torch.float64)\n"
     ]
    },
    {
     "name": "stderr",
     "output_type": "stream",
     "text": [
      "100%|█████████████████| 25/25 [00:57<00:00,  2.30s/it, val0.0 total0.5631 dsc0.8603 ce0.5436 constrain0.6217  (0.4844)]\n",
      "100%|█████████████| 128/128 [03:35<00:00,  1.68s/it, train1.0 total0.4344 dsc0.8666 ce0.4358 constrain0.4302  (0.3049)]\n",
      "100%|█████████████████| 25/25 [00:56<00:00,  1.19it/s, val1.0 total0.2896 dsc0.8813 ce0.3431 constrain0.1288  (0.2959)]"
     ]
    },
    {
     "name": "stdout",
     "output_type": "stream",
     "text": [
      "this is the best so far tensor(0.2896, device='cuda:0', dtype=torch.float64)\n"
     ]
    },
    {
     "name": "stderr",
     "output_type": "stream",
     "text": [
      "100%|█████████████████| 25/25 [00:57<00:00,  2.30s/it, val1.0 total0.2896 dsc0.8813 ce0.3431 constrain0.1288  (0.2959)]\n",
      "100%|█████████████| 128/128 [03:35<00:00,  1.68s/it, train2.0 total0.2568 dsc0.8969 ce0.3115 constrain0.0927  (0.2188)]\n",
      "100%|█████████████████| 25/25 [00:56<00:00,  1.27it/s, val2.0 total0.2254 dsc0.9102 ce0.2887 constrain0.0358  (0.2130)]"
     ]
    },
    {
     "name": "stdout",
     "output_type": "stream",
     "text": [
      "this is the best so far tensor(0.2254, device='cuda:0', dtype=torch.float64)\n"
     ]
    },
    {
     "name": "stderr",
     "output_type": "stream",
     "text": [
      "100%|█████████████████| 25/25 [00:56<00:00,  2.27s/it, val2.0 total0.2254 dsc0.9102 ce0.2887 constrain0.0358  (0.2130)]\n",
      "100%|█████████████| 128/128 [03:35<00:00,  1.68s/it, train3.0 total0.2301 dsc0.9138 ce0.2950 constrain0.0354  (0.2262)]\n",
      "100%|█████████████████| 25/25 [00:55<00:00,  1.13s/it, val3.0 total0.2205 dsc0.9175 ce0.2861 constrain0.0238  (0.2200)]"
     ]
    },
    {
     "name": "stdout",
     "output_type": "stream",
     "text": [
      "this is the best so far tensor(0.2205, device='cuda:0', dtype=torch.float64)\n"
     ]
    },
    {
     "name": "stderr",
     "output_type": "stream",
     "text": [
      "100%|█████████████████| 25/25 [00:56<00:00,  2.27s/it, val3.0 total0.2205 dsc0.9175 ce0.2861 constrain0.0238  (0.2200)]\n",
      "100%|█████████████| 128/128 [03:34<00:00,  1.67s/it, train4.0 total0.2260 dsc0.9167 ce0.2924 constrain0.0267  (0.2857)]\n",
      "100%|█████████████████| 25/25 [00:55<00:00,  1.29it/s, val4.0 total0.2175 dsc0.9170 ce0.2831 constrain0.0207  (0.2206)]"
     ]
    },
    {
     "name": "stdout",
     "output_type": "stream",
     "text": [
      "this is the best so far tensor(0.2175, device='cuda:0', dtype=torch.float64)\n"
     ]
    },
    {
     "name": "stderr",
     "output_type": "stream",
     "text": [
      "100%|█████████████████| 25/25 [00:55<00:00,  2.24s/it, val4.0 total0.2175 dsc0.9170 ce0.2831 constrain0.0207  (0.2206)]\n",
      "100%|█████████████| 128/128 [03:35<00:00,  1.69s/it, train5.0 total0.2237 dsc0.9166 ce0.2907 constrain0.0227  (0.2013)]\n",
      "100%|█████████████████| 25/25 [00:56<00:00,  1.11it/s, val5.0 total0.2166 dsc0.9151 ce0.2833 constrain0.0164  (0.2304)]"
     ]
    },
    {
     "name": "stdout",
     "output_type": "stream",
     "text": [
      "this is the best so far tensor(0.2166, device='cuda:0', dtype=torch.float64)\n"
     ]
    },
    {
     "name": "stderr",
     "output_type": "stream",
     "text": [
      "100%|█████████████████| 25/25 [00:56<00:00,  2.28s/it, val5.0 total0.2166 dsc0.9151 ce0.2833 constrain0.0164  (0.2304)]\n",
      "100%|█████████████| 128/128 [03:23<00:00,  1.59s/it, train6.0 total0.2224 dsc0.9141 ce0.2893 constrain0.0216  (0.2115)]\n",
      "100%|█████████████████| 25/25 [00:55<00:00,  1.35it/s, val6.0 total0.2164 dsc0.9159 ce0.2827 constrain0.0176  (0.2078)]"
     ]
    },
    {
     "name": "stdout",
     "output_type": "stream",
     "text": [
      "this is the best so far tensor(0.2164, device='cuda:0', dtype=torch.float64)\n"
     ]
    },
    {
     "name": "stderr",
     "output_type": "stream",
     "text": [
      "100%|█████████████████| 25/25 [00:56<00:00,  2.26s/it, val6.0 total0.2164 dsc0.9159 ce0.2827 constrain0.0176  (0.2078)]\n",
      "100%|█████████████| 128/128 [03:37<00:00,  1.70s/it, train7.0 total0.2211 dsc0.9133 ce0.2886 constrain0.0186  (0.2096)]\n",
      "100%|█████████████████| 25/25 [00:54<00:00,  1.34it/s, val7.0 total0.2151 dsc0.9150 ce0.2809 constrain0.0177  (0.2221)]"
     ]
    },
    {
     "name": "stdout",
     "output_type": "stream",
     "text": [
      "this is the best so far tensor(0.2151, device='cuda:0', dtype=torch.float64)\n"
     ]
    },
    {
     "name": "stderr",
     "output_type": "stream",
     "text": [
      "100%|█████████████████| 25/25 [00:55<00:00,  2.22s/it, val7.0 total0.2151 dsc0.9150 ce0.2809 constrain0.0177  (0.2221)]\n",
      "100%|█████████████| 128/128 [03:37<00:00,  1.70s/it, train8.0 total0.2206 dsc0.9129 ce0.2883 constrain0.0176  (0.2075)]\n",
      "100%|█████████████████| 25/25 [00:55<00:00,  1.21it/s, val8.0 total0.2138 dsc0.9134 ce0.2808 constrain0.0131  (0.2148)]"
     ]
    },
    {
     "name": "stdout",
     "output_type": "stream",
     "text": [
      "this is the best so far tensor(0.2138, device='cuda:0', dtype=torch.float64)\n"
     ]
    },
    {
     "name": "stderr",
     "output_type": "stream",
     "text": [
      "100%|█████████████████| 25/25 [00:56<00:00,  2.26s/it, val8.0 total0.2138 dsc0.9134 ce0.2808 constrain0.0131  (0.2148)]\n",
      "100%|█████████████| 128/128 [03:35<00:00,  1.68s/it, train9.0 total0.2209 dsc0.9124 ce0.2880 constrain0.0197  (0.2161)]\n",
      "100%|█████████████████| 25/25 [00:55<00:00,  1.33it/s, val9.0 total0.2129 dsc0.9144 ce0.2799 constrain0.0118  (0.2031)]"
     ]
    },
    {
     "name": "stdout",
     "output_type": "stream",
     "text": [
      "this is the best so far tensor(0.2129, device='cuda:0', dtype=torch.float64)\n"
     ]
    },
    {
     "name": "stderr",
     "output_type": "stream",
     "text": [
      "100%|█████████████████| 25/25 [00:56<00:00,  2.26s/it, val9.0 total0.2129 dsc0.9144 ce0.2799 constrain0.0118  (0.2031)]\n",
      "100%|████████████| 128/128 [03:34<00:00,  1.68s/it, train10.0 total0.2196 dsc0.9120 ce0.2872 constrain0.0168  (0.2061)]\n",
      "100%|████████████████| 25/25 [00:55<00:00,  2.23s/it, val10.0 total0.2135 dsc0.9122 ce0.2794 constrain0.0155  (0.1787)]\n",
      "100%|████████████| 128/128 [03:34<00:00,  1.68s/it, train11.0 total0.2190 dsc0.9109 ce0.2864 constrain0.0167  (0.2064)]\n",
      "100%|████████████████| 25/25 [00:56<00:00,  1.02it/s, val11.0 total0.2118 dsc0.9101 ce0.2785 constrain0.0117  (0.2226)]"
     ]
    },
    {
     "name": "stdout",
     "output_type": "stream",
     "text": [
      "this is the best so far tensor(0.2118, device='cuda:0', dtype=torch.float64)\n"
     ]
    },
    {
     "name": "stderr",
     "output_type": "stream",
     "text": [
      "100%|████████████████| 25/25 [00:57<00:00,  2.29s/it, val11.0 total0.2118 dsc0.9101 ce0.2785 constrain0.0117  (0.2226)]\n",
      "100%|████████████| 128/128 [03:35<00:00,  1.68s/it, train12.0 total0.2187 dsc0.9102 ce0.2857 constrain0.0177  (0.2245)]\n",
      "100%|████████████████| 25/25 [00:57<00:00,  2.28s/it, val12.0 total0.2118 dsc0.9095 ce0.2783 constrain0.0126  (0.1987)]\n",
      "100%|████████████| 128/128 [03:35<00:00,  1.68s/it, train13.0 total0.2176 dsc0.9089 ce0.2842 constrain0.0177  (0.2169)]\n",
      "100%|████████████████| 25/25 [00:58<00:00,  1.31it/s, val13.0 total0.2102 dsc0.9093 ce0.2757 constrain0.0136  (0.2003)]"
     ]
    },
    {
     "name": "stdout",
     "output_type": "stream",
     "text": [
      "this is the best so far tensor(0.2102, device='cuda:0', dtype=torch.float64)\n"
     ]
    },
    {
     "name": "stderr",
     "output_type": "stream",
     "text": [
      "100%|████████████████| 25/25 [00:58<00:00,  2.36s/it, val13.0 total0.2102 dsc0.9093 ce0.2757 constrain0.0136  (0.2003)]\n",
      "100%|████████████| 128/128 [03:35<00:00,  1.68s/it, train14.0 total0.2168 dsc0.9077 ce0.2825 constrain0.0196  (0.2075)]\n",
      "100%|████████████████| 25/25 [00:57<00:00,  2.29s/it, val14.0 total0.2106 dsc0.9065 ce0.2755 constrain0.0160  (0.2117)]\n",
      "100%|████████████| 128/128 [03:35<00:00,  1.69s/it, train15.0 total0.2150 dsc0.9046 ce0.2791 constrain0.0229  (0.2056)]\n",
      "100%|████████████████| 25/25 [00:56<00:00,  1.10it/s, val15.0 total0.2074 dsc0.9061 ce0.2701 constrain0.0194  (0.2130)]"
     ]
    },
    {
     "name": "stdout",
     "output_type": "stream",
     "text": [
      "this is the best so far tensor(0.2074, device='cuda:0', dtype=torch.float64)\n"
     ]
    },
    {
     "name": "stderr",
     "output_type": "stream",
     "text": [
      "100%|████████████████| 25/25 [00:56<00:00,  2.28s/it, val15.0 total0.2074 dsc0.9061 ce0.2701 constrain0.0194  (0.2130)]\n",
      "100%|████████████| 128/128 [03:35<00:00,  1.68s/it, train16.0 total0.2111 dsc0.8992 ce0.2713 constrain0.0304  (0.1872)]\n",
      "100%|████████████████| 25/25 [00:56<00:00,  1.11it/s, val16.0 total0.2038 dsc0.8940 ce0.2589 constrain0.0385  (0.2006)]"
     ]
    },
    {
     "name": "stdout",
     "output_type": "stream",
     "text": [
      "this is the best so far tensor(0.2038, device='cuda:0', dtype=torch.float64)\n"
     ]
    },
    {
     "name": "stderr",
     "output_type": "stream",
     "text": [
      "100%|████████████████| 25/25 [00:57<00:00,  2.31s/it, val16.0 total0.2038 dsc0.8940 ce0.2589 constrain0.0385  (0.2006)]\n",
      "100%|████████████| 128/128 [03:34<00:00,  1.68s/it, train17.0 total0.2050 dsc0.8881 ce0.2595 constrain0.0412  (0.2623)]\n",
      "100%|████████████████| 25/25 [00:56<00:00,  1.27it/s, val17.0 total0.1953 dsc0.8825 ce0.2461 constrain0.0427  (0.1731)]"
     ]
    },
    {
     "name": "stdout",
     "output_type": "stream",
     "text": [
      "this is the best so far tensor(0.1953, device='cuda:0', dtype=torch.float64)\n"
     ]
    },
    {
     "name": "stderr",
     "output_type": "stream",
     "text": [
      "100%|████████████████| 25/25 [00:57<00:00,  2.29s/it, val17.0 total0.1953 dsc0.8825 ce0.2461 constrain0.0427  (0.1731)]\n",
      "100%|████████████| 128/128 [03:34<00:00,  1.68s/it, train18.0 total0.1977 dsc0.8754 ce0.2476 constrain0.0480  (0.1990)]\n",
      "100%|████████████████| 25/25 [00:55<00:00,  1.31it/s, val18.0 total0.1886 dsc0.8682 ce0.2347 constrain0.0503  (0.1970)]"
     ]
    },
    {
     "name": "stdout",
     "output_type": "stream",
     "text": [
      "this is the best so far tensor(0.1886, device='cuda:0', dtype=torch.float64)\n"
     ]
    },
    {
     "name": "stderr",
     "output_type": "stream",
     "text": [
      "100%|████████████████| 25/25 [00:56<00:00,  2.26s/it, val18.0 total0.1886 dsc0.8682 ce0.2347 constrain0.0503  (0.1970)]\n",
      "100%|████████████| 128/128 [03:35<00:00,  1.69s/it, train19.0 total0.1873 dsc0.8530 ce0.2320 constrain0.0533  (0.1670)]\n",
      "100%|████████████████| 25/25 [00:56<00:00,  1.31it/s, val19.0 total0.1767 dsc0.8370 ce0.2160 constrain0.0588  (0.1745)]"
     ]
    },
    {
     "name": "stdout",
     "output_type": "stream",
     "text": [
      "this is the best so far tensor(0.1767, device='cuda:0', dtype=torch.float64)\n"
     ]
    },
    {
     "name": "stderr",
     "output_type": "stream",
     "text": [
      "100%|████████████████| 25/25 [00:57<00:00,  2.29s/it, val19.0 total0.1767 dsc0.8370 ce0.2160 constrain0.0588  (0.1745)]\n",
      "100%|████████████| 128/128 [03:33<00:00,  1.67s/it, train20.0 total0.1766 dsc0.8239 ce0.2169 constrain0.0557  (0.1626)]\n",
      "100%|████████████████| 25/25 [00:55<00:00,  1.13it/s, val20.0 total0.1649 dsc0.8077 ce0.2032 constrain0.0497  (0.1624)]"
     ]
    },
    {
     "name": "stdout",
     "output_type": "stream",
     "text": [
      "this is the best so far tensor(0.1649, device='cuda:0', dtype=torch.float64)\n"
     ]
    },
    {
     "name": "stderr",
     "output_type": "stream",
     "text": [
      "100%|████████████████| 25/25 [00:56<00:00,  2.26s/it, val20.0 total0.1649 dsc0.8077 ce0.2032 constrain0.0497  (0.1624)]\n",
      "100%|████████████| 128/128 [03:34<00:00,  1.68s/it, train21.0 total0.1664 dsc0.7898 ce0.2041 constrain0.0533  (0.1450)]\n",
      "100%|████████████████| 25/25 [00:58<00:00,  1.06it/s, val21.0 total0.1540 dsc0.7645 ce0.1896 constrain0.0473  (0.1609)]"
     ]
    },
    {
     "name": "stdout",
     "output_type": "stream",
     "text": [
      "this is the best so far tensor(0.1540, device='cuda:0', dtype=torch.float64)\n"
     ]
    },
    {
     "name": "stderr",
     "output_type": "stream",
     "text": [
      "100%|████████████████| 25/25 [00:59<00:00,  2.37s/it, val21.0 total0.1540 dsc0.7645 ce0.1896 constrain0.0473  (0.1609)]\n",
      "100%|████████████| 128/128 [03:34<00:00,  1.68s/it, train22.0 total0.1527 dsc0.7381 ce0.1903 constrain0.0397  (0.1256)]\n",
      "100%|████████████████| 25/25 [00:56<00:00,  1.08it/s, val22.0 total0.1426 dsc0.7167 ce0.1800 constrain0.0305  (0.1483)]"
     ]
    },
    {
     "name": "stdout",
     "output_type": "stream",
     "text": [
      "this is the best so far tensor(0.1426, device='cuda:0', dtype=torch.float64)\n"
     ]
    },
    {
     "name": "stderr",
     "output_type": "stream",
     "text": [
      "100%|████████████████| 25/25 [00:57<00:00,  2.30s/it, val22.0 total0.1426 dsc0.7167 ce0.1800 constrain0.0305  (0.1483)]\n",
      "100%|████████████| 128/128 [03:35<00:00,  1.69s/it, train23.0 total0.1591 dsc0.7337 ce0.1923 constrain0.0596  (0.1650)]\n",
      "100%|████████████████| 25/25 [00:56<00:00,  2.27s/it, val23.0 total0.1489 dsc0.7482 ce0.1905 constrain0.0243  (0.1474)]\n",
      "100%|████████████| 128/128 [03:35<00:00,  1.68s/it, train24.0 total0.1473 dsc0.7125 ce0.1893 constrain0.0214  (0.2346)]\n",
      "100%|████████████████| 25/25 [00:55<00:00,  1.27it/s, val24.0 total0.1382 dsc0.6909 ce0.1785 constrain0.0172  (0.1409)]"
     ]
    },
    {
     "name": "stdout",
     "output_type": "stream",
     "text": [
      "this is the best so far tensor(0.1382, device='cuda:0', dtype=torch.float64)\n"
     ]
    },
    {
     "name": "stderr",
     "output_type": "stream",
     "text": [
      "100%|████████████████| 25/25 [00:56<00:00,  2.24s/it, val24.0 total0.1382 dsc0.6909 ce0.1785 constrain0.0172  (0.1409)]\n",
      "100%|████████████| 128/128 [03:34<00:00,  1.68s/it, train25.0 total0.1447 dsc0.6846 ce0.1843 constrain0.0261  (0.1547)]\n",
      "100%|████████████████| 25/25 [00:56<00:00,  1.15it/s, val25.0 total0.1369 dsc0.6750 ce0.1767 constrain0.0174  (0.1482)]"
     ]
    },
    {
     "name": "stdout",
     "output_type": "stream",
     "text": [
      "this is the best so far tensor(0.1369, device='cuda:0', dtype=torch.float64)\n"
     ]
    },
    {
     "name": "stderr",
     "output_type": "stream",
     "text": [
      "100%|████████████████| 25/25 [00:57<00:00,  2.30s/it, val25.0 total0.1369 dsc0.6750 ce0.1767 constrain0.0174  (0.1482)]\n",
      "100%|████████████| 128/128 [03:34<00:00,  1.68s/it, train26.0 total0.1486 dsc0.6774 ce0.1849 constrain0.0395  (0.1599)]\n",
      "100%|████████████████| 25/25 [00:56<00:00,  2.26s/it, val26.0 total0.1433 dsc0.6825 ce0.1796 constrain0.0345  (0.1333)]\n",
      "100%|████████████| 128/128 [03:35<00:00,  1.68s/it, train27.0 total0.1467 dsc0.6813 ce0.1842 constrain0.0344  (0.1394)]\n",
      "100%|████████████████| 25/25 [00:56<00:00,  2.28s/it, val27.0 total0.1394 dsc0.6733 ce0.1768 constrain0.0274  (0.1656)]\n",
      "100%|████████████| 128/128 [03:35<00:00,  1.68s/it, train28.0 total0.1447 dsc0.6722 ce0.1817 constrain0.0335  (0.1279)]\n",
      "100%|████████████████| 25/25 [00:57<00:00,  2.30s/it, val28.0 total0.1377 dsc0.6691 ce0.1753 constrain0.0247  (0.1332)]\n",
      "100%|████████████| 128/128 [03:35<00:00,  1.68s/it, train29.0 total0.1431 dsc0.6653 ce0.1798 constrain0.0330  (0.1478)]\n",
      "100%|████████████████| 25/25 [00:55<00:00,  2.23s/it, val29.0 total0.1392 dsc0.6678 ce0.1732 constrain0.0373  (0.1609)]\n",
      "100%|████████████| 128/128 [03:35<00:00,  1.68s/it, train30.0 total0.1413 dsc0.6649 ce0.1783 constrain0.0302  (0.1354)]\n",
      "100%|████████████████| 25/25 [00:54<00:00,  1.41it/s, val30.0 total0.1356 dsc0.6614 ce0.1704 constrain0.0312  (0.1464)]"
     ]
    },
    {
     "name": "stdout",
     "output_type": "stream",
     "text": [
      "this is the best so far tensor(0.1356, device='cuda:0', dtype=torch.float64)\n"
     ]
    },
    {
     "name": "stderr",
     "output_type": "stream",
     "text": [
      "100%|████████████████| 25/25 [00:55<00:00,  2.21s/it, val30.0 total0.1356 dsc0.6614 ce0.1704 constrain0.0312  (0.1464)]\n",
      "100%|████████████| 128/128 [03:36<00:00,  1.69s/it, train31.0 total0.1393 dsc0.6586 ce0.1766 constrain0.0274  (0.1356)]\n",
      "100%|████████████████| 25/25 [00:55<00:00,  1.35it/s, val31.0 total0.1355 dsc0.6640 ce0.1715 constrain0.0275  (0.1239)]"
     ]
    },
    {
     "name": "stdout",
     "output_type": "stream",
     "text": [
      "this is the best so far tensor(0.1355, device='cuda:0', dtype=torch.float64)\n"
     ]
    },
    {
     "name": "stderr",
     "output_type": "stream",
     "text": [
      "100%|████████████████| 25/25 [00:56<00:00,  2.26s/it, val31.0 total0.1355 dsc0.6640 ce0.1715 constrain0.0275  (0.1239)]\n",
      "100%|████████████| 128/128 [03:35<00:00,  1.68s/it, train32.0 total0.1392 dsc0.6587 ce0.1765 constrain0.0274  (0.1237)]\n",
      "100%|████████████████| 25/25 [00:56<00:00,  1.51it/s, val32.0 total0.1344 dsc0.6594 ce0.1711 constrain0.0243  (0.1293)]"
     ]
    },
    {
     "name": "stdout",
     "output_type": "stream",
     "text": [
      "this is the best so far tensor(0.1344, device='cuda:0', dtype=torch.float64)\n"
     ]
    },
    {
     "name": "stderr",
     "output_type": "stream",
     "text": [
      "100%|████████████████| 25/25 [00:56<00:00,  2.27s/it, val32.0 total0.1344 dsc0.6594 ce0.1711 constrain0.0243  (0.1293)]\n",
      "100%|████████████| 128/128 [03:30<00:00,  1.64s/it, train33.0 total0.1383 dsc0.6545 ce0.1755 constrain0.0268  (0.1292)]\n",
      "100%|████████████████| 25/25 [00:56<00:00,  2.28s/it, val33.0 total0.1353 dsc0.6579 ce0.1706 constrain0.0293  (0.1301)]\n",
      "100%|████████████| 128/128 [03:37<00:00,  1.70s/it, train34.0 total0.1366 dsc0.6539 ce0.1749 constrain0.0218  (0.1459)]\n",
      "100%|████████████████| 25/25 [00:56<00:00,  1.16it/s, val34.0 total0.1313 dsc0.6529 ce0.1687 constrain0.0190  (0.1335)]"
     ]
    },
    {
     "name": "stdout",
     "output_type": "stream",
     "text": [
      "this is the best so far tensor(0.1313, device='cuda:0', dtype=torch.float64)\n"
     ]
    },
    {
     "name": "stderr",
     "output_type": "stream",
     "text": [
      "100%|████████████████| 25/25 [00:57<00:00,  2.29s/it, val34.0 total0.1313 dsc0.6529 ce0.1687 constrain0.0190  (0.1335)]\n",
      "100%|████████████| 128/128 [03:34<00:00,  1.68s/it, train35.0 total0.1343 dsc0.6476 ce0.1740 constrain0.0154  (0.1463)]\n",
      "100%|████████████████| 25/25 [00:56<00:00,  2.28s/it, val35.0 total0.1315 dsc0.6458 ce0.1691 constrain0.0184  (0.1383)]\n",
      "100%|████████████| 128/128 [03:35<00:00,  1.68s/it, train36.0 total0.1337 dsc0.6418 ce0.1733 constrain0.0151  (0.1325)]\n",
      "100%|████████████████| 25/25 [00:55<00:00,  1.26it/s, val36.0 total0.1279 dsc0.6382 ce0.1679 constrain0.0080  (0.1234)]"
     ]
    },
    {
     "name": "stdout",
     "output_type": "stream",
     "text": [
      "this is the best so far tensor(0.1279, device='cuda:0', dtype=torch.float64)\n"
     ]
    },
    {
     "name": "stderr",
     "output_type": "stream",
     "text": [
      "100%|████████████████| 25/25 [00:56<00:00,  2.26s/it, val36.0 total0.1279 dsc0.6382 ce0.1679 constrain0.0080  (0.1234)]\n",
      "100%|████████████| 128/128 [03:34<00:00,  1.68s/it, train37.0 total0.1365 dsc0.6466 ce0.1739 constrain0.0244  (0.1467)]\n",
      "100%|████████████████| 25/25 [00:56<00:00,  2.28s/it, val37.0 total0.1309 dsc0.6447 ce0.1681 constrain0.0191  (0.1380)]\n",
      "100%|████████████| 128/128 [03:35<00:00,  1.68s/it, train38.0 total0.1341 dsc0.6426 ce0.1731 constrain0.0168  (0.1606)]\n",
      "100%|████████████████| 25/25 [00:55<00:00,  2.23s/it, val38.0 total0.1292 dsc0.6404 ce0.1686 constrain0.0109  (0.1290)]\n",
      "100%|████████████| 128/128 [03:34<00:00,  1.68s/it, train39.0 total0.1323 dsc0.6352 ce0.1723 constrain0.0124  (0.1276)]\n",
      "100%|████████████████| 25/25 [00:56<00:00,  2.24s/it, val39.0 total0.1317 dsc0.6416 ce0.1672 constrain0.0250  (0.1225)]\n",
      "100%|████████████| 128/128 [03:34<00:00,  1.67s/it, train40.0 total0.1348 dsc0.6425 ce0.1727 constrain0.0210  (0.1368)]\n",
      "100%|████████████████| 25/25 [00:56<00:00,  2.28s/it, val40.0 total0.1289 dsc0.6468 ce0.1679 constrain0.0119  (0.1320)]\n",
      "100%|████████████| 128/128 [03:35<00:00,  1.68s/it, train41.0 total0.1320 dsc0.6374 ce0.1722 constrain0.0114  (0.1237)]\n",
      "100%|████████████████| 25/25 [00:55<00:00,  1.24it/s, val41.0 total0.1276 dsc0.6336 ce0.1675 constrain0.0077  (0.1433)]"
     ]
    },
    {
     "name": "stdout",
     "output_type": "stream",
     "text": [
      "this is the best so far tensor(0.1276, device='cuda:0', dtype=torch.float64)\n"
     ]
    },
    {
     "name": "stderr",
     "output_type": "stream",
     "text": [
      "100%|████████████████| 25/25 [00:56<00:00,  2.27s/it, val41.0 total0.1276 dsc0.6336 ce0.1675 constrain0.0077  (0.1433)]\n",
      "100%|████████████| 128/128 [03:35<00:00,  1.69s/it, train42.0 total0.1312 dsc0.6308 ce0.1714 constrain0.0105  (0.1242)]\n",
      "100%|████████████████| 25/25 [00:56<00:00,  1.13it/s, val42.0 total0.1274 dsc0.6301 ce0.1671 constrain0.0081  (0.1265)]"
     ]
    },
    {
     "name": "stdout",
     "output_type": "stream",
     "text": [
      "this is the best so far tensor(0.1274, device='cuda:0', dtype=torch.float64)\n"
     ]
    },
    {
     "name": "stderr",
     "output_type": "stream",
     "text": [
      "100%|████████████████| 25/25 [00:57<00:00,  2.29s/it, val42.0 total0.1274 dsc0.6301 ce0.1671 constrain0.0081  (0.1265)]\n",
      "100%|████████████| 128/128 [03:36<00:00,  1.69s/it, train43.0 total0.1349 dsc0.6408 ce0.1724 constrain0.0224  (0.1266)]\n",
      "100%|████████████████| 25/25 [00:56<00:00,  2.26s/it, val43.0 total0.1308 dsc0.6378 ce0.1682 constrain0.0186  (0.1204)]\n",
      "100%|████████████| 128/128 [03:35<00:00,  1.68s/it, train44.0 total0.1352 dsc0.6447 ce0.1727 constrain0.0226  (0.1301)]\n",
      "100%|████████████████| 25/25 [00:56<00:00,  2.27s/it, val44.0 total0.1285 dsc0.6421 ce0.1676 constrain0.0111  (0.1286)]\n",
      "100%|████████████| 128/128 [03:34<00:00,  1.68s/it, train45.0 total0.1336 dsc0.6401 ce0.1718 constrain0.0189  (0.1250)]\n",
      "100%|████████████████| 25/25 [00:56<00:00,  2.27s/it, val45.0 total0.1277 dsc0.6398 ce0.1665 constrain0.0110  (0.1210)]\n",
      "100%|████████████| 128/128 [03:35<00:00,  1.69s/it, train46.0 total0.1324 dsc0.6349 ce0.1713 constrain0.0159  (0.1400)]\n",
      "100%|████████████████| 25/25 [00:57<00:00,  2.30s/it, val46.0 total0.1289 dsc0.6376 ce0.1668 constrain0.0150  (0.1282)]\n",
      "100%|████████████| 128/128 [03:34<00:00,  1.68s/it, train47.0 total0.1307 dsc0.6294 ce0.1701 constrain0.0124  (0.1374)]\n",
      "100%|████████████████| 25/25 [00:56<00:00,  1.01s/it, val47.0 total0.1260 dsc0.6257 ce0.1649 constrain0.0091  (0.1355)]"
     ]
    },
    {
     "name": "stdout",
     "output_type": "stream",
     "text": [
      "this is the best so far tensor(0.1260, device='cuda:0', dtype=torch.float64)\n"
     ]
    },
    {
     "name": "stderr",
     "output_type": "stream",
     "text": [
      "100%|████████████████| 25/25 [00:57<00:00,  2.30s/it, val47.0 total0.1260 dsc0.6257 ce0.1649 constrain0.0091  (0.1355)]\n",
      "100%|████████████| 128/128 [03:35<00:00,  1.68s/it, train48.0 total0.1294 dsc0.6207 ce0.1692 constrain0.0099  (0.1430)]\n",
      "100%|████████████████| 25/25 [00:56<00:00,  1.18it/s, val48.0 total0.1255 dsc0.6196 ce0.1647 constrain0.0082  (0.1344)]"
     ]
    },
    {
     "name": "stdout",
     "output_type": "stream",
     "text": [
      "this is the best so far tensor(0.1255, device='cuda:0', dtype=torch.float64)\n"
     ]
    },
    {
     "name": "stderr",
     "output_type": "stream",
     "text": [
      "100%|████████████████| 25/25 [00:56<00:00,  2.27s/it, val48.0 total0.1255 dsc0.6196 ce0.1647 constrain0.0082  (0.1344)]\n",
      "100%|████████████| 128/128 [03:35<00:00,  1.68s/it, train49.0 total0.1288 dsc0.6176 ce0.1684 constrain0.0101  (0.1299)]\n",
      "100%|████████████████| 25/25 [00:56<00:00,  1.06s/it, val49.0 total0.1253 dsc0.6202 ce0.1642 constrain0.0086  (0.1473)]"
     ]
    },
    {
     "name": "stdout",
     "output_type": "stream",
     "text": [
      "this is the best so far tensor(0.1253, device='cuda:0', dtype=torch.float64)\n"
     ]
    },
    {
     "name": "stderr",
     "output_type": "stream",
     "text": [
      "100%|████████████████| 25/25 [00:57<00:00,  2.29s/it, val49.0 total0.1253 dsc0.6202 ce0.1642 constrain0.0086  (0.1473)]\n",
      "4005it [00:02, 1436.18it/s]\n",
      "4005it [00:00, 6802.14it/s]\n",
      "100%|████████████| 128/128 [03:35<00:00,  1.68s/it, train0.0 total2.7870 dsc0.8602 ce0.5026 constrain23.3474  (0.5068)]\n",
      "100%|█████████████████| 25/25 [00:55<00:00,  1.01it/s, val0.0 total0.4545 dsc0.8635 ce0.3658 constrain1.2533  (0.4478)]"
     ]
    },
    {
     "name": "stdout",
     "output_type": "stream",
     "text": [
      "this is the best so far tensor(0.4545, device='cuda:0', dtype=torch.float64)\n"
     ]
    },
    {
     "name": "stderr",
     "output_type": "stream",
     "text": [
      "100%|█████████████████| 25/25 [00:56<00:00,  2.24s/it, val0.0 total0.4545 dsc0.8635 ce0.3658 constrain1.2533  (0.4478)]\n",
      "100%|█████████████| 128/128 [03:34<00:00,  1.67s/it, train1.0 total0.3341 dsc0.8731 ce0.3048 constrain0.5974  (0.2773)]\n",
      "100%|█████████████████| 25/25 [00:55<00:00,  1.29it/s, val1.0 total0.2613 dsc0.8919 ce0.2677 constrain0.2032  (0.2627)]"
     ]
    },
    {
     "name": "stdout",
     "output_type": "stream",
     "text": [
      "this is the best so far tensor(0.2613, device='cuda:0', dtype=torch.float64)\n"
     ]
    },
    {
     "name": "stderr",
     "output_type": "stream",
     "text": [
      "100%|█████████████████| 25/25 [00:56<00:00,  2.27s/it, val1.0 total0.2613 dsc0.8919 ce0.2677 constrain0.2032  (0.2627)]\n",
      "100%|█████████████| 128/128 [03:34<00:00,  1.68s/it, train2.0 total0.2581 dsc0.8929 ce0.2697 constrain0.1536  (0.2359)]\n",
      "100%|█████████████████| 25/25 [00:55<00:00,  1.08it/s, val2.0 total0.2437 dsc0.8900 ce0.2560 constrain0.1331  (0.2351)]"
     ]
    },
    {
     "name": "stdout",
     "output_type": "stream",
     "text": [
      "this is the best so far tensor(0.2437, device='cuda:0', dtype=torch.float64)\n"
     ]
    },
    {
     "name": "stderr",
     "output_type": "stream",
     "text": [
      "100%|█████████████████| 25/25 [00:56<00:00,  2.26s/it, val2.0 total0.2437 dsc0.8900 ce0.2560 constrain0.1331  (0.2351)]\n",
      "100%|█████████████| 128/128 [03:34<00:00,  1.68s/it, train3.0 total0.2457 dsc0.8833 ce0.2582 constrain0.1326  (0.2475)]\n",
      "100%|█████████████████| 25/25 [00:55<00:00,  1.32it/s, val3.0 total0.2349 dsc0.8769 ce0.2462 constrain0.1329  (0.2315)]"
     ]
    },
    {
     "name": "stdout",
     "output_type": "stream",
     "text": [
      "this is the best so far tensor(0.2349, device='cuda:0', dtype=torch.float64)\n"
     ]
    },
    {
     "name": "stderr",
     "output_type": "stream",
     "text": [
      "100%|█████████████████| 25/25 [00:55<00:00,  2.23s/it, val3.0 total0.2349 dsc0.8769 ce0.2462 constrain0.1329  (0.2315)]\n",
      "100%|█████████████| 128/128 [03:35<00:00,  1.69s/it, train4.0 total0.2362 dsc0.8685 ce0.2467 constrain0.1421  (0.2381)]\n",
      "100%|█████████████████| 25/25 [00:57<00:00,  1.12it/s, val4.0 total0.2266 dsc0.8625 ce0.2348 constrain0.1528  (0.2251)]"
     ]
    },
    {
     "name": "stdout",
     "output_type": "stream",
     "text": [
      "this is the best so far tensor(0.2266, device='cuda:0', dtype=torch.float64)\n"
     ]
    },
    {
     "name": "stderr",
     "output_type": "stream",
     "text": [
      "100%|█████████████████| 25/25 [00:57<00:00,  2.31s/it, val4.0 total0.2266 dsc0.8625 ce0.2348 constrain0.1528  (0.2251)]\n",
      "100%|█████████████| 128/128 [03:36<00:00,  1.69s/it, train5.0 total0.2266 dsc0.8496 ce0.2333 constrain0.1665  (0.2103)]\n",
      "100%|█████████████████| 25/25 [00:55<00:00,  1.43it/s, val5.0 total0.2140 dsc0.8377 ce0.2174 constrain0.1837  (0.2099)]"
     ]
    },
    {
     "name": "stdout",
     "output_type": "stream",
     "text": [
      "this is the best so far tensor(0.2140, device='cuda:0', dtype=torch.float64)\n"
     ]
    },
    {
     "name": "stderr",
     "output_type": "stream",
     "text": [
      "100%|█████████████████| 25/25 [00:55<00:00,  2.24s/it, val5.0 total0.2140 dsc0.8377 ce0.2174 constrain0.1837  (0.2099)]\n",
      "100%|█████████████| 128/128 [03:37<00:00,  1.70s/it, train6.0 total0.2062 dsc0.8028 ce0.2052 constrain0.2157  (0.1783)]\n",
      "100%|█████████████████| 25/25 [00:55<00:00,  1.19it/s, val6.0 total0.1880 dsc0.7732 ce0.1858 constrain0.2082  (0.1802)]"
     ]
    },
    {
     "name": "stdout",
     "output_type": "stream",
     "text": [
      "this is the best so far tensor(0.1880, device='cuda:0', dtype=torch.float64)\n"
     ]
    },
    {
     "name": "stderr",
     "output_type": "stream",
     "text": [
      "100%|█████████████████| 25/25 [00:56<00:00,  2.25s/it, val6.0 total0.1880 dsc0.7732 ce0.1858 constrain0.2082  (0.1802)]\n",
      "100%|█████████████| 128/128 [03:34<00:00,  1.67s/it, train7.0 total0.1878 dsc0.7524 ce0.1864 constrain0.2010  (0.1805)]\n",
      "100%|█████████████████| 25/25 [00:55<00:00,  1.22it/s, val7.0 total0.1769 dsc0.7381 ce0.1773 constrain0.1741  (0.1820)]"
     ]
    },
    {
     "name": "stdout",
     "output_type": "stream",
     "text": [
      "this is the best so far tensor(0.1769, device='cuda:0', dtype=torch.float64)\n"
     ]
    },
    {
     "name": "stderr",
     "output_type": "stream",
     "text": [
      "100%|█████████████████| 25/25 [00:56<00:00,  2.25s/it, val7.0 total0.1769 dsc0.7381 ce0.1773 constrain0.1741  (0.1820)]\n",
      "100%|█████████████| 128/128 [03:34<00:00,  1.68s/it, train8.0 total0.1778 dsc0.7226 ce0.1790 constrain0.1663  (0.1536)]\n",
      "100%|█████████████████| 25/25 [00:55<00:00,  1.19it/s, val8.0 total0.1687 dsc0.7127 ce0.1712 constrain0.1470  (0.1701)]"
     ]
    },
    {
     "name": "stdout",
     "output_type": "stream",
     "text": [
      "this is the best so far tensor(0.1687, device='cuda:0', dtype=torch.float64)\n"
     ]
    },
    {
     "name": "stderr",
     "output_type": "stream",
     "text": [
      "100%|█████████████████| 25/25 [00:56<00:00,  2.24s/it, val8.0 total0.1687 dsc0.7127 ce0.1712 constrain0.1470  (0.1701)]\n",
      "100%|█████████████| 128/128 [03:29<00:00,  1.64s/it, train9.0 total0.1709 dsc0.7007 ce0.1742 constrain0.1412  (0.1701)]\n",
      "100%|█████████████████| 25/25 [00:56<00:00,  1.05it/s, val9.0 total0.1640 dsc0.6943 ce0.1674 constrain0.1340  (0.1670)]"
     ]
    },
    {
     "name": "stdout",
     "output_type": "stream",
     "text": [
      "this is the best so far tensor(0.1640, device='cuda:0', dtype=torch.float64)\n"
     ]
    },
    {
     "name": "stderr",
     "output_type": "stream",
     "text": [
      "100%|█████████████████| 25/25 [00:57<00:00,  2.29s/it, val9.0 total0.1640 dsc0.6943 ce0.1674 constrain0.1340  (0.1670)]\n",
      "100%|████████████| 128/128 [03:34<00:00,  1.68s/it, train10.0 total0.1655 dsc0.6803 ce0.1701 constrain0.1240  (0.1616)]\n",
      "100%|████████████████| 25/25 [00:55<00:00,  1.02s/it, val10.0 total0.1583 dsc0.6762 ce0.1642 constrain0.1050  (0.1570)]"
     ]
    },
    {
     "name": "stdout",
     "output_type": "stream",
     "text": [
      "this is the best so far tensor(0.1583, device='cuda:0', dtype=torch.float64)\n"
     ]
    },
    {
     "name": "stderr",
     "output_type": "stream",
     "text": [
      "100%|████████████████| 25/25 [00:56<00:00,  2.26s/it, val10.0 total0.1583 dsc0.6762 ce0.1642 constrain0.1050  (0.1570)]\n",
      "100%|████████████| 128/128 [03:35<00:00,  1.69s/it, train11.0 total0.1593 dsc0.6569 ce0.1659 constrain0.1000  (0.1466)]\n",
      "100%|████████████████| 25/25 [00:55<00:00,  1.23it/s, val11.0 total0.1531 dsc0.6464 ce0.1604 constrain0.0879  (0.1628)]"
     ]
    },
    {
     "name": "stdout",
     "output_type": "stream",
     "text": [
      "this is the best so far tensor(0.1531, device='cuda:0', dtype=torch.float64)\n"
     ]
    },
    {
     "name": "stderr",
     "output_type": "stream",
     "text": [
      "100%|████████████████| 25/25 [00:56<00:00,  2.26s/it, val11.0 total0.1531 dsc0.6464 ce0.1604 constrain0.0879  (0.1628)]\n",
      "100%|████████████| 128/128 [03:35<00:00,  1.69s/it, train12.0 total0.1545 dsc0.6342 ce0.1628 constrain0.0803  (0.1404)]\n",
      "100%|████████████████| 25/25 [00:56<00:00,  1.22it/s, val12.0 total0.1496 dsc0.6324 ce0.1581 constrain0.0726  (0.1463)]"
     ]
    },
    {
     "name": "stdout",
     "output_type": "stream",
     "text": [
      "this is the best so far tensor(0.1496, device='cuda:0', dtype=torch.float64)\n"
     ]
    },
    {
     "name": "stderr",
     "output_type": "stream",
     "text": [
      "100%|████████████████| 25/25 [00:56<00:00,  2.28s/it, val12.0 total0.1496 dsc0.6324 ce0.1581 constrain0.0726  (0.1463)]\n",
      "100%|████████████| 128/128 [03:34<00:00,  1.68s/it, train13.0 total0.1510 dsc0.6169 ce0.1609 constrain0.0621  (0.1749)]\n",
      "100%|████████████████| 25/25 [00:57<00:00,  1.10s/it, val13.0 total0.1456 dsc0.6088 ce0.1554 constrain0.0571  (0.1404)]"
     ]
    },
    {
     "name": "stdout",
     "output_type": "stream",
     "text": [
      "this is the best so far tensor(0.1456, device='cuda:0', dtype=torch.float64)\n"
     ]
    },
    {
     "name": "stderr",
     "output_type": "stream",
     "text": [
      "100%|████████████████| 25/25 [00:58<00:00,  2.34s/it, val13.0 total0.1456 dsc0.6088 ce0.1554 constrain0.0571  (0.1404)]\n",
      "100%|████████████| 128/128 [03:34<00:00,  1.68s/it, train14.0 total0.1495 dsc0.6070 ce0.1599 constrain0.0555  (0.1446)]\n",
      "100%|████████████████| 25/25 [00:55<00:00,  1.20it/s, val14.0 total0.1443 dsc0.6014 ce0.1545 constrain0.0523  (0.1371)]"
     ]
    },
    {
     "name": "stdout",
     "output_type": "stream",
     "text": [
      "this is the best so far tensor(0.1443, device='cuda:0', dtype=torch.float64)\n"
     ]
    },
    {
     "name": "stderr",
     "output_type": "stream",
     "text": [
      "100%|████████████████| 25/25 [00:55<00:00,  2.23s/it, val14.0 total0.1443 dsc0.6014 ce0.1545 constrain0.0523  (0.1371)]\n",
      "100%|████████████| 128/128 [03:34<00:00,  1.68s/it, train15.0 total0.1485 dsc0.6026 ce0.1591 constrain0.0528  (0.1508)]\n",
      "100%|████████████████| 25/25 [00:56<00:00,  1.24it/s, val15.0 total0.1441 dsc0.6007 ce0.1550 constrain0.0460  (0.1466)]"
     ]
    },
    {
     "name": "stdout",
     "output_type": "stream",
     "text": [
      "this is the best so far tensor(0.1441, device='cuda:0', dtype=torch.float64)\n"
     ]
    },
    {
     "name": "stderr",
     "output_type": "stream",
     "text": [
      "100%|████████████████| 25/25 [00:56<00:00,  2.27s/it, val15.0 total0.1441 dsc0.6007 ce0.1550 constrain0.0460  (0.1466)]\n",
      "100%|████████████| 128/128 [03:34<00:00,  1.68s/it, train16.0 total0.1478 dsc0.5985 ce0.1585 constrain0.0515  (0.1463)]\n",
      "100%|████████████████| 25/25 [00:56<00:00,  1.07it/s, val16.0 total0.1433 dsc0.5959 ce0.1533 constrain0.0527  (0.1428)]"
     ]
    },
    {
     "name": "stdout",
     "output_type": "stream",
     "text": [
      "this is the best so far tensor(0.1433, device='cuda:0', dtype=torch.float64)\n"
     ]
    },
    {
     "name": "stderr",
     "output_type": "stream",
     "text": [
      "100%|████████████████| 25/25 [00:57<00:00,  2.29s/it, val16.0 total0.1433 dsc0.5959 ce0.1533 constrain0.0527  (0.1428)]\n",
      "100%|████████████| 128/128 [03:34<00:00,  1.68s/it, train17.0 total0.1470 dsc0.5955 ce0.1575 constrain0.0524  (0.1359)]\n",
      "100%|████████████████| 25/25 [00:56<00:00,  2.27s/it, val17.0 total0.1433 dsc0.6002 ce0.1546 constrain0.0412  (0.1436)]\n",
      "100%|████████████| 128/128 [03:33<00:00,  1.67s/it, train18.0 total0.1469 dsc0.5945 ce0.1573 constrain0.0527  (0.1597)]\n",
      "100%|████████████████| 25/25 [00:57<00:00,  2.28s/it, val18.0 total0.1442 dsc0.5931 ce0.1538 constrain0.0582  (0.1355)]\n",
      "100%|████████████| 128/128 [03:34<00:00,  1.68s/it, train19.0 total0.1466 dsc0.5927 ce0.1571 constrain0.0524  (0.1523)]\n",
      "100%|████████████████| 25/25 [00:55<00:00,  1.24it/s, val19.0 total0.1420 dsc0.5895 ce0.1518 constrain0.0545  (0.1447)]"
     ]
    },
    {
     "name": "stdout",
     "output_type": "stream",
     "text": [
      "this is the best so far tensor(0.1420, device='cuda:0', dtype=torch.float64)\n"
     ]
    },
    {
     "name": "stderr",
     "output_type": "stream",
     "text": [
      "100%|████████████████| 25/25 [00:56<00:00,  2.25s/it, val19.0 total0.1420 dsc0.5895 ce0.1518 constrain0.0545  (0.1447)]\n",
      "100%|████████████| 128/128 [03:35<00:00,  1.68s/it, train20.0 total0.1455 dsc0.5890 ce0.1556 constrain0.0549  (0.1399)]\n",
      "100%|████████████████| 25/25 [00:55<00:00,  1.22it/s, val20.0 total0.1414 dsc0.5955 ce0.1508 constrain0.0568  (0.1435)]"
     ]
    },
    {
     "name": "stdout",
     "output_type": "stream",
     "text": [
      "this is the best so far tensor(0.1414, device='cuda:0', dtype=torch.float64)\n"
     ]
    },
    {
     "name": "stderr",
     "output_type": "stream",
     "text": [
      "100%|████████████████| 25/25 [00:56<00:00,  2.27s/it, val20.0 total0.1414 dsc0.5955 ce0.1508 constrain0.0568  (0.1435)]\n",
      "100%|████████████| 128/128 [03:35<00:00,  1.68s/it, train21.0 total0.1452 dsc0.5886 ce0.1549 constrain0.0576  (0.1492)]\n",
      "100%|████████████████| 25/25 [00:55<00:00,  1.25it/s, val21.0 total0.1410 dsc0.5873 ce0.1503 constrain0.0570  (0.1439)]"
     ]
    },
    {
     "name": "stdout",
     "output_type": "stream",
     "text": [
      "this is the best so far tensor(0.1410, device='cuda:0', dtype=torch.float64)\n"
     ]
    },
    {
     "name": "stderr",
     "output_type": "stream",
     "text": [
      "100%|████████████████| 25/25 [00:56<00:00,  2.25s/it, val21.0 total0.1410 dsc0.5873 ce0.1503 constrain0.0570  (0.1439)]\n",
      "100%|████████████| 128/128 [03:35<00:00,  1.68s/it, train22.0 total0.1448 dsc0.5861 ce0.1543 constrain0.0590  (0.1400)]\n",
      "100%|████████████████| 25/25 [00:56<00:00,  1.16s/it, val22.0 total0.1407 dsc0.5889 ce0.1504 constrain0.0528  (0.1378)]"
     ]
    },
    {
     "name": "stdout",
     "output_type": "stream",
     "text": [
      "this is the best so far tensor(0.1407, device='cuda:0', dtype=torch.float64)\n"
     ]
    },
    {
     "name": "stderr",
     "output_type": "stream",
     "text": [
      "100%|████████████████| 25/25 [00:57<00:00,  2.28s/it, val22.0 total0.1407 dsc0.5889 ce0.1504 constrain0.0528  (0.1378)]\n",
      "100%|████████████| 128/128 [03:35<00:00,  1.68s/it, train23.0 total0.1442 dsc0.5848 ce0.1535 constrain0.0604  (0.1418)]\n",
      "100%|████████████████| 25/25 [00:56<00:00,  1.29it/s, val23.0 total0.1406 dsc0.5873 ce0.1495 constrain0.0606  (0.1368)]"
     ]
    },
    {
     "name": "stdout",
     "output_type": "stream",
     "text": [
      "this is the best so far tensor(0.1406, device='cuda:0', dtype=torch.float64)\n"
     ]
    },
    {
     "name": "stderr",
     "output_type": "stream",
     "text": [
      "100%|████████████████| 25/25 [00:56<00:00,  2.27s/it, val23.0 total0.1406 dsc0.5873 ce0.1495 constrain0.0606  (0.1368)]\n",
      "100%|████████████| 128/128 [03:26<00:00,  1.61s/it, train24.0 total0.1438 dsc0.5825 ce0.1532 constrain0.0598  (0.1435)]\n",
      "100%|████████████████| 25/25 [00:56<00:00,  1.09it/s, val24.0 total0.1400 dsc0.5783 ce0.1470 constrain0.0766  (0.1290)]"
     ]
    },
    {
     "name": "stdout",
     "output_type": "stream",
     "text": [
      "this is the best so far tensor(0.1400, device='cuda:0', dtype=torch.float64)\n"
     ]
    },
    {
     "name": "stderr",
     "output_type": "stream",
     "text": [
      "100%|████████████████| 25/25 [00:56<00:00,  2.28s/it, val24.0 total0.1400 dsc0.5783 ce0.1470 constrain0.0766  (0.1290)]\n",
      "100%|████████████| 128/128 [03:12<00:00,  1.50s/it, train25.0 total0.1437 dsc0.5825 ce0.1526 constrain0.0636  (0.1327)]\n",
      "100%|████████████████| 25/25 [00:57<00:00,  2.32s/it, val25.0 total0.1400 dsc0.5793 ce0.1478 constrain0.0695  (0.1382)]\n",
      "100%|████████████| 128/128 [03:12<00:00,  1.50s/it, train26.0 total0.1437 dsc0.5809 ce0.1524 constrain0.0647  (0.1506)]\n",
      "100%|████████████████| 25/25 [00:55<00:00,  1.21it/s, val26.0 total0.1396 dsc0.5794 ce0.1489 constrain0.0558  (0.1395)]"
     ]
    },
    {
     "name": "stdout",
     "output_type": "stream",
     "text": [
      "this is the best so far tensor(0.1396, device='cuda:0', dtype=torch.float64)\n"
     ]
    },
    {
     "name": "stderr",
     "output_type": "stream",
     "text": [
      "100%|████████████████| 25/25 [00:56<00:00,  2.25s/it, val26.0 total0.1396 dsc0.5794 ce0.1489 constrain0.0558  (0.1395)]\n",
      "100%|████████████| 128/128 [03:17<00:00,  1.54s/it, train27.0 total0.1425 dsc0.5780 ce0.1512 constrain0.0648  (0.1424)]\n",
      "100%|████████████████| 25/25 [00:58<00:00,  1.23it/s, val27.0 total0.1385 dsc0.5787 ce0.1462 constrain0.0695  (0.1411)]"
     ]
    },
    {
     "name": "stdout",
     "output_type": "stream",
     "text": [
      "this is the best so far tensor(0.1385, device='cuda:0', dtype=torch.float64)\n"
     ]
    },
    {
     "name": "stderr",
     "output_type": "stream",
     "text": [
      "100%|████████████████| 25/25 [00:59<00:00,  2.39s/it, val27.0 total0.1385 dsc0.5787 ce0.1462 constrain0.0695  (0.1411)]\n",
      "100%|████████████| 128/128 [03:21<00:00,  1.58s/it, train28.0 total0.1428 dsc0.5779 ce0.1512 constrain0.0670  (0.1323)]\n",
      "100%|████████████████| 25/25 [01:01<00:00,  2.44s/it, val28.0 total0.1387 dsc0.5733 ce0.1449 constrain0.0829  (0.1358)]\n",
      "100%|████████████| 128/128 [03:17<00:00,  1.54s/it, train29.0 total0.1417 dsc0.5752 ce0.1499 constrain0.0685  (0.1446)]\n",
      "100%|████████████████| 25/25 [00:56<00:00,  1.18it/s, val29.0 total0.1376 dsc0.5729 ce0.1450 constrain0.0707  (0.1280)]"
     ]
    },
    {
     "name": "stdout",
     "output_type": "stream",
     "text": [
      "this is the best so far tensor(0.1376, device='cuda:0', dtype=torch.float64)\n"
     ]
    },
    {
     "name": "stderr",
     "output_type": "stream",
     "text": [
      "100%|████████████████| 25/25 [00:57<00:00,  2.29s/it, val29.0 total0.1376 dsc0.5729 ce0.1450 constrain0.0707  (0.1280)]\n",
      "100%|████████████| 128/128 [03:16<00:00,  1.54s/it, train30.0 total0.1421 dsc0.5756 ce0.1500 constrain0.0709  (0.1365)]\n",
      "100%|████████████████| 25/25 [00:57<00:00,  2.28s/it, val30.0 total0.1394 dsc0.5876 ce0.1494 constrain0.0493  (0.1406)]\n",
      "100%|████████████| 128/128 [03:16<00:00,  1.54s/it, train31.0 total0.1419 dsc0.5759 ce0.1500 constrain0.0699  (0.1297)]\n",
      "100%|████████████████| 25/25 [00:58<00:00,  1.23s/it, val31.0 total0.1374 dsc0.5765 ce0.1454 constrain0.0655  (0.1306)]"
     ]
    },
    {
     "name": "stdout",
     "output_type": "stream",
     "text": [
      "this is the best so far tensor(0.1374, device='cuda:0', dtype=torch.float64)\n"
     ]
    },
    {
     "name": "stderr",
     "output_type": "stream",
     "text": [
      "100%|████████████████| 25/25 [00:59<00:00,  2.37s/it, val31.0 total0.1374 dsc0.5765 ce0.1454 constrain0.0655  (0.1306)]\n",
      "100%|████████████| 128/128 [03:15<00:00,  1.53s/it, train32.0 total0.1418 dsc0.5744 ce0.1494 constrain0.0730  (0.1446)]\n",
      "100%|████████████████| 25/25 [00:55<00:00,  2.21s/it, val32.0 total0.1377 dsc0.5771 ce0.1464 constrain0.0593  (0.1592)]\n",
      "100%|████████████| 128/128 [03:13<00:00,  1.51s/it, train33.0 total0.1412 dsc0.5732 ce0.1486 constrain0.0744  (0.1238)]\n",
      "100%|████████████████| 25/25 [00:58<00:00,  2.35s/it, val33.0 total0.1396 dsc0.5883 ce0.1478 constrain0.0662  (0.1482)]\n",
      "100%|████████████| 128/128 [03:17<00:00,  1.54s/it, train34.0 total0.1407 dsc0.5726 ce0.1481 constrain0.0742  (0.1357)]\n",
      "100%|████████████████| 25/25 [00:56<00:00,  1.14it/s, val34.0 total0.1362 dsc0.5732 ce0.1437 constrain0.0695  (0.1438)]"
     ]
    },
    {
     "name": "stdout",
     "output_type": "stream",
     "text": [
      "this is the best so far tensor(0.1362, device='cuda:0', dtype=torch.float64)\n"
     ]
    },
    {
     "name": "stderr",
     "output_type": "stream",
     "text": [
      "100%|████████████████| 25/25 [00:57<00:00,  2.28s/it, val34.0 total0.1362 dsc0.5732 ce0.1437 constrain0.0695  (0.1438)]\n",
      "100%|████████████| 128/128 [03:15<00:00,  1.52s/it, train35.0 total0.1403 dsc0.5701 ce0.1475 constrain0.0754  (0.1305)]\n",
      "100%|████████████████| 25/25 [00:56<00:00,  2.26s/it, val35.0 total0.1366 dsc0.5677 ce0.1427 constrain0.0822  (0.1352)]\n",
      "100%|████████████| 128/128 [03:12<00:00,  1.50s/it, train36.0 total0.1399 dsc0.5701 ce0.1469 constrain0.0775  (0.1370)]\n",
      "100%|████████████████| 25/25 [00:55<00:00,  2.23s/it, val36.0 total0.1370 dsc0.5718 ce0.1430 constrain0.0826  (0.1231)]\n",
      "100%|████████████| 128/128 [03:11<00:00,  1.50s/it, train37.0 total0.1397 dsc0.5685 ce0.1463 constrain0.0799  (0.1343)]\n",
      "100%|████████████████| 25/25 [00:58<00:00,  2.33s/it, val37.0 total0.1371 dsc0.5720 ce0.1438 constrain0.0768  (0.1420)]\n",
      "100%|████████████| 128/128 [03:17<00:00,  1.54s/it, train38.0 total0.1402 dsc0.5694 ce0.1473 constrain0.0769  (0.1318)]\n",
      "100%|████████████████| 25/25 [00:56<00:00,  2.28s/it, val38.0 total0.1366 dsc0.5739 ce0.1443 constrain0.0668  (0.1435)]\n",
      "100%|████████████| 128/128 [03:15<00:00,  1.52s/it, train39.0 total0.1397 dsc0.5679 ce0.1464 constrain0.0793  (0.1362)]\n",
      "100%|████████████████| 25/25 [00:57<00:00,  1.13s/it, val39.0 total0.1350 dsc0.5796 ce0.1430 constrain0.0630  (0.1250)]"
     ]
    },
    {
     "name": "stdout",
     "output_type": "stream",
     "text": [
      "this is the best so far tensor(0.1350, device='cuda:0', dtype=torch.float64)\n"
     ]
    },
    {
     "name": "stderr",
     "output_type": "stream",
     "text": [
      "100%|████████████████| 25/25 [00:58<00:00,  2.33s/it, val39.0 total0.1350 dsc0.5796 ce0.1430 constrain0.0630  (0.1250)]\n",
      "100%|████████████| 128/128 [03:15<00:00,  1.53s/it, train40.0 total0.1402 dsc0.5703 ce0.1466 constrain0.0824  (0.1371)]\n",
      "100%|████████████████| 25/25 [00:57<00:00,  2.29s/it, val40.0 total0.1374 dsc0.5721 ce0.1460 constrain0.0607  (0.1297)]\n",
      "100%|████████████| 128/128 [03:13<00:00,  1.52s/it, train41.0 total0.1412 dsc0.5719 ce0.1482 constrain0.0782  (0.1247)]\n",
      "100%|████████████████| 25/25 [00:56<00:00,  2.26s/it, val41.0 total0.1367 dsc0.5654 ce0.1432 constrain0.0783  (0.1327)]\n",
      "100%|████████████| 128/128 [03:14<00:00,  1.52s/it, train42.0 total0.1390 dsc0.5662 ce0.1460 constrain0.0754  (0.1300)]\n",
      "100%|████████████████| 25/25 [00:56<00:00,  2.25s/it, val42.0 total0.1356 dsc0.5604 ce0.1413 constrain0.0840  (0.1375)]\n",
      "100%|████████████| 128/128 [03:16<00:00,  1.53s/it, train43.0 total0.1384 dsc0.5648 ce0.1447 constrain0.0813  (0.1332)]\n",
      "100%|████████████████| 25/25 [00:57<00:00,  2.31s/it, val43.0 total0.1355 dsc0.5613 ce0.1426 constrain0.0717  (0.1312)]\n",
      "100%|████████████| 128/128 [03:13<00:00,  1.52s/it, train44.0 total0.1387 dsc0.5644 ce0.1446 constrain0.0851  (0.1351)]\n",
      "100%|████████████████| 25/25 [00:56<00:00,  2.28s/it, val44.0 total0.1363 dsc0.5617 ce0.1413 constrain0.0918  (0.1441)]\n",
      "100%|████████████| 128/128 [03:16<00:00,  1.53s/it, train45.0 total0.1389 dsc0.5641 ce0.1445 constrain0.0883  (0.1381)]\n",
      "100%|████████████████| 25/25 [00:56<00:00,  2.25s/it, val45.0 total0.1363 dsc0.5662 ce0.1416 constrain0.0877  (0.1555)]\n",
      "100%|████████████| 128/128 [03:14<00:00,  1.52s/it, train46.0 total0.1386 dsc0.5645 ce0.1448 constrain0.0831  (0.1368)]\n",
      "100%|████████████████| 25/25 [00:55<00:00,  2.23s/it, val46.0 total0.1352 dsc0.5789 ce0.1434 constrain0.0619  (0.1305)]\n",
      "100%|████████████| 128/128 [03:16<00:00,  1.53s/it, train47.0 total0.1361 dsc0.5572 ce0.1417 constrain0.0854  (0.1420)]\n",
      "100%|████████████████| 25/25 [00:58<00:00,  2.32s/it, val47.0 total0.1443 dsc0.6101 ce0.1559 constrain0.0404  (0.1446)]\n",
      "100%|████████████| 128/128 [03:16<00:00,  1.54s/it, train48.0 total0.1384 dsc0.5640 ce0.1437 constrain0.0898  (0.1355)]\n",
      "100%|████████████████| 25/25 [00:56<00:00,  1.03it/s, val48.0 total0.1341 dsc0.5628 ce0.1408 constrain0.0738  (0.1284)]"
     ]
    },
    {
     "name": "stdout",
     "output_type": "stream",
     "text": [
      "this is the best so far tensor(0.1341, device='cuda:0', dtype=torch.float64)\n"
     ]
    },
    {
     "name": "stderr",
     "output_type": "stream",
     "text": [
      "100%|████████████████| 25/25 [00:57<00:00,  2.28s/it, val48.0 total0.1341 dsc0.5628 ce0.1408 constrain0.0738  (0.1284)]\n",
      "100%|████████████| 128/128 [03:18<00:00,  1.55s/it, train49.0 total0.1368 dsc0.5583 ce0.1422 constrain0.0879  (0.1334)]\n",
      "100%|████████████████| 25/25 [00:55<00:00,  1.34it/s, val49.0 total0.1332 dsc0.5642 ce0.1388 constrain0.0834  (0.1284)]"
     ]
    },
    {
     "name": "stdout",
     "output_type": "stream",
     "text": [
      "this is the best so far tensor(0.1332, device='cuda:0', dtype=torch.float64)\n"
     ]
    },
    {
     "name": "stderr",
     "output_type": "stream",
     "text": [
      "100%|████████████████| 25/25 [00:56<00:00,  2.24s/it, val49.0 total0.1332 dsc0.5642 ce0.1388 constrain0.0834  (0.1284)]\n",
      "4005it [00:03, 1314.69it/s]\n",
      "4005it [00:00, 6610.42it/s]\n",
      "100%|████████████| 128/128 [03:15<00:00,  1.52s/it, train0.0 total9.0102 dsc0.8512 ce1.0081 constrain17.0123  (0.5499)]\n",
      "100%|█████████████████| 25/25 [00:55<00:00,  1.04it/s, val0.0 total0.8911 dsc0.8554 ce0.8917 constrain0.8905  (0.8528)]"
     ]
    },
    {
     "name": "stdout",
     "output_type": "stream",
     "text": [
      "this is the best so far tensor(0.8911, device='cuda:0', dtype=torch.float64)\n"
     ]
    },
    {
     "name": "stderr",
     "output_type": "stream",
     "text": [
      "100%|█████████████████| 25/25 [00:56<00:00,  2.26s/it, val0.0 total0.8911 dsc0.8554 ce0.8917 constrain0.8905  (0.8528)]\n",
      "100%|█████████████| 128/128 [03:14<00:00,  1.52s/it, train1.0 total0.5390 dsc0.8494 ce0.8678 constrain0.2102  (0.4186)]\n",
      "100%|█████████████████| 25/25 [00:56<00:00,  1.03s/it, val1.0 total0.4183 dsc0.8537 ce0.8243 constrain0.0123  (0.4228)]"
     ]
    },
    {
     "name": "stdout",
     "output_type": "stream",
     "text": [
      "this is the best so far tensor(0.4183, device='cuda:0', dtype=torch.float64)\n"
     ]
    },
    {
     "name": "stderr",
     "output_type": "stream",
     "text": [
      "100%|█████████████████| 25/25 [00:57<00:00,  2.30s/it, val1.0 total0.4183 dsc0.8537 ce0.8243 constrain0.0123  (0.4228)]\n",
      "100%|█████████████| 128/128 [03:12<00:00,  1.50s/it, train2.0 total0.4011 dsc0.8504 ce0.7860 constrain0.0162  (0.3789)]\n",
      "100%|█████████████████| 25/25 [00:55<00:00,  1.18it/s, val2.0 total0.3790 dsc0.8556 ce0.7497 constrain0.0082  (0.3778)]"
     ]
    },
    {
     "name": "stdout",
     "output_type": "stream",
     "text": [
      "this is the best so far tensor(0.3790, device='cuda:0', dtype=torch.float64)\n"
     ]
    },
    {
     "name": "stderr",
     "output_type": "stream",
     "text": [
      "100%|█████████████████| 25/25 [00:56<00:00,  2.26s/it, val2.0 total0.3790 dsc0.8556 ce0.7497 constrain0.0082  (0.3778)]\n",
      "100%|█████████████| 128/128 [03:13<00:00,  1.51s/it, train3.0 total0.3625 dsc0.8519 ce0.7166 constrain0.0085  (0.3471)]\n",
      "100%|█████████████████| 25/25 [00:56<00:00,  1.35it/s, val3.0 total0.3462 dsc0.8567 ce0.6816 constrain0.0108  (0.3472)]"
     ]
    },
    {
     "name": "stdout",
     "output_type": "stream",
     "text": [
      "this is the best so far tensor(0.3462, device='cuda:0', dtype=torch.float64)\n"
     ]
    },
    {
     "name": "stderr",
     "output_type": "stream",
     "text": [
      "100%|█████████████████| 25/25 [00:57<00:00,  2.29s/it, val3.0 total0.3462 dsc0.8567 ce0.6816 constrain0.0108  (0.3472)]\n",
      "100%|█████████████| 128/128 [03:12<00:00,  1.50s/it, train4.0 total0.3309 dsc0.8537 ce0.6480 constrain0.0137  (0.3109)]\n",
      "100%|█████████████████| 25/25 [00:56<00:00,  1.32it/s, val4.0 total0.3234 dsc0.8583 ce0.6134 constrain0.0333  (0.3291)]"
     ]
    },
    {
     "name": "stdout",
     "output_type": "stream",
     "text": [
      "this is the best so far tensor(0.3234, device='cuda:0', dtype=torch.float64)\n"
     ]
    },
    {
     "name": "stderr",
     "output_type": "stream",
     "text": [
      "100%|█████████████████| 25/25 [00:57<00:00,  2.31s/it, val4.0 total0.3234 dsc0.8583 ce0.6134 constrain0.0333  (0.3291)]\n",
      "100%|█████████████| 128/128 [03:14<00:00,  1.52s/it, train5.0 total0.3005 dsc0.8565 ce0.5722 constrain0.0289  (0.2717)]\n",
      "100%|█████████████████| 25/25 [00:55<00:00,  1.34it/s, val5.0 total0.2711 dsc0.8621 ce0.5282 constrain0.0139  (0.2687)]"
     ]
    },
    {
     "name": "stdout",
     "output_type": "stream",
     "text": [
      "this is the best so far tensor(0.2711, device='cuda:0', dtype=torch.float64)\n"
     ]
    },
    {
     "name": "stderr",
     "output_type": "stream",
     "text": [
      "100%|█████████████████| 25/25 [00:56<00:00,  2.27s/it, val5.0 total0.2711 dsc0.8621 ce0.5282 constrain0.0139  (0.2687)]\n",
      "100%|█████████████| 128/128 [03:14<00:00,  1.52s/it, train6.0 total0.3280 dsc0.8634 ce0.4674 constrain0.1885  (0.2347)]\n",
      "100%|█████████████████| 25/25 [00:55<00:00,  1.35it/s, val6.0 total0.2134 dsc0.8727 ce0.3861 constrain0.0408  (0.2102)]"
     ]
    },
    {
     "name": "stdout",
     "output_type": "stream",
     "text": [
      "this is the best so far tensor(0.2134, device='cuda:0', dtype=torch.float64)\n"
     ]
    },
    {
     "name": "stderr",
     "output_type": "stream",
     "text": [
      "100%|█████████████████| 25/25 [00:56<00:00,  2.24s/it, val6.0 total0.2134 dsc0.8727 ce0.3861 constrain0.0408  (0.2102)]\n",
      "100%|█████████████| 128/128 [03:14<00:00,  1.52s/it, train7.0 total0.1884 dsc0.8759 ce0.3579 constrain0.0190  (0.1756)]\n",
      "100%|█████████████████| 25/25 [00:56<00:00,  1.37it/s, val7.0 total0.1677 dsc0.8857 ce0.3246 constrain0.0109  (0.1753)]"
     ]
    },
    {
     "name": "stdout",
     "output_type": "stream",
     "text": [
      "this is the best so far tensor(0.1677, device='cuda:0', dtype=torch.float64)\n"
     ]
    },
    {
     "name": "stderr",
     "output_type": "stream",
     "text": [
      "100%|█████████████████| 25/25 [00:56<00:00,  2.28s/it, val7.0 total0.1677 dsc0.8857 ce0.3246 constrain0.0109  (0.1753)]\n",
      "100%|█████████████| 128/128 [03:14<00:00,  1.52s/it, train8.0 total0.1612 dsc0.8900 ce0.3132 constrain0.0091  (0.1571)]\n",
      "100%|█████████████████| 25/25 [00:55<00:00,  1.29it/s, val8.0 total0.1510 dsc0.8989 ce0.2962 constrain0.0057  (0.1417)]"
     ]
    },
    {
     "name": "stdout",
     "output_type": "stream",
     "text": [
      "this is the best so far tensor(0.1510, device='cuda:0', dtype=torch.float64)\n"
     ]
    },
    {
     "name": "stderr",
     "output_type": "stream",
     "text": [
      "100%|█████████████████| 25/25 [00:56<00:00,  2.25s/it, val8.0 total0.1510 dsc0.8989 ce0.2962 constrain0.0057  (0.1417)]\n",
      "100%|█████████████| 128/128 [03:16<00:00,  1.53s/it, train9.0 total0.1512 dsc0.9024 ce0.2973 constrain0.0051  (0.1423)]\n",
      "100%|█████████████████| 25/25 [00:55<00:00,  1.52it/s, val9.0 total0.1460 dsc0.9081 ce0.2884 constrain0.0037  (0.1435)]"
     ]
    },
    {
     "name": "stdout",
     "output_type": "stream",
     "text": [
      "this is the best so far tensor(0.1460, device='cuda:0', dtype=torch.float64)\n"
     ]
    },
    {
     "name": "stderr",
     "output_type": "stream",
     "text": [
      "100%|█████████████████| 25/25 [00:56<00:00,  2.25s/it, val9.0 total0.1460 dsc0.9081 ce0.2884 constrain0.0037  (0.1435)]\n",
      "100%|████████████| 128/128 [03:16<00:00,  1.54s/it, train10.0 total0.1489 dsc0.9092 ce0.2943 constrain0.0035  (0.1403)]\n",
      "100%|████████████████| 25/25 [00:55<00:00,  1.32it/s, val10.0 total0.1448 dsc0.9127 ce0.2871 constrain0.0026  (0.1447)]"
     ]
    },
    {
     "name": "stdout",
     "output_type": "stream",
     "text": [
      "this is the best so far tensor(0.1448, device='cuda:0', dtype=torch.float64)\n"
     ]
    },
    {
     "name": "stderr",
     "output_type": "stream",
     "text": [
      "100%|████████████████| 25/25 [00:56<00:00,  2.27s/it, val10.0 total0.1448 dsc0.9127 ce0.2871 constrain0.0026  (0.1447)]\n",
      "100%|████████████| 128/128 [03:17<00:00,  1.54s/it, train11.0 total0.1481 dsc0.9123 ce0.2937 constrain0.0025  (0.1590)]\n",
      "100%|████████████████| 25/25 [00:55<00:00,  1.26it/s, val11.0 total0.1446 dsc0.9144 ce0.2873 constrain0.0019  (0.1368)]"
     ]
    },
    {
     "name": "stdout",
     "output_type": "stream",
     "text": [
      "this is the best so far tensor(0.1446, device='cuda:0', dtype=torch.float64)\n"
     ]
    },
    {
     "name": "stderr",
     "output_type": "stream",
     "text": [
      "100%|████████████████| 25/25 [00:56<00:00,  2.26s/it, val11.0 total0.1446 dsc0.9144 ce0.2873 constrain0.0019  (0.1368)]\n",
      "100%|████████████| 128/128 [03:12<00:00,  1.51s/it, train12.0 total0.1479 dsc0.9135 ce0.2937 constrain0.0021  (0.1446)]\n",
      "100%|████████████████| 25/25 [00:57<00:00,  2.31s/it, val12.0 total0.1447 dsc0.9148 ce0.2872 constrain0.0021  (0.1455)]\n",
      "100%|████████████| 128/128 [03:14<00:00,  1.52s/it, train13.0 total0.1478 dsc0.9137 ce0.2938 constrain0.0019  (0.1432)]\n",
      "100%|████████████████| 25/25 [00:57<00:00,  1.44it/s, val13.0 total0.1445 dsc0.9154 ce0.2873 constrain0.0017  (0.1437)]"
     ]
    },
    {
     "name": "stdout",
     "output_type": "stream",
     "text": [
      "this is the best so far tensor(0.1445, device='cuda:0', dtype=torch.float64)\n"
     ]
    },
    {
     "name": "stderr",
     "output_type": "stream",
     "text": [
      "100%|████████████████| 25/25 [00:57<00:00,  2.31s/it, val13.0 total0.1445 dsc0.9154 ce0.2873 constrain0.0017  (0.1437)]\n",
      "100%|████████████| 128/128 [03:16<00:00,  1.53s/it, train14.0 total0.1476 dsc0.9137 ce0.2937 constrain0.0015  (0.1472)]\n",
      "100%|████████████████| 25/25 [00:56<00:00,  1.20it/s, val14.0 total0.1442 dsc0.9152 ce0.2872 constrain0.0013  (0.1402)]"
     ]
    },
    {
     "name": "stdout",
     "output_type": "stream",
     "text": [
      "this is the best so far tensor(0.1442, device='cuda:0', dtype=torch.float64)\n"
     ]
    },
    {
     "name": "stderr",
     "output_type": "stream",
     "text": [
      "100%|████████████████| 25/25 [00:57<00:00,  2.29s/it, val14.0 total0.1442 dsc0.9152 ce0.2872 constrain0.0013  (0.1402)]\n",
      "100%|████████████| 128/128 [03:12<00:00,  1.51s/it, train15.0 total0.1476 dsc0.9136 ce0.2937 constrain0.0014  (0.1470)]\n",
      "100%|████████████████| 25/25 [00:56<00:00,  1.15it/s, val15.0 total0.1441 dsc0.9152 ce0.2869 constrain0.0012  (0.1359)]"
     ]
    },
    {
     "name": "stdout",
     "output_type": "stream",
     "text": [
      "this is the best so far tensor(0.1441, device='cuda:0', dtype=torch.float64)\n"
     ]
    },
    {
     "name": "stderr",
     "output_type": "stream",
     "text": [
      "100%|████████████████| 25/25 [00:57<00:00,  2.30s/it, val15.0 total0.1441 dsc0.9152 ce0.2869 constrain0.0012  (0.1359)]\n",
      "100%|████████████| 128/128 [03:14<00:00,  1.52s/it, train16.0 total0.1474 dsc0.9139 ce0.2936 constrain0.0012  (0.1542)]\n",
      "100%|████████████████| 25/25 [00:57<00:00,  1.30s/it, val16.0 total0.1440 dsc0.9152 ce0.2869 constrain0.0011  (0.1570)]"
     ]
    },
    {
     "name": "stdout",
     "output_type": "stream",
     "text": [
      "this is the best so far tensor(0.1440, device='cuda:0', dtype=torch.float64)\n"
     ]
    },
    {
     "name": "stderr",
     "output_type": "stream",
     "text": [
      "100%|████████████████| 25/25 [00:57<00:00,  2.31s/it, val16.0 total0.1440 dsc0.9152 ce0.2869 constrain0.0011  (0.1570)]\n",
      "100%|████████████| 128/128 [03:16<00:00,  1.53s/it, train17.0 total0.1475 dsc0.9136 ce0.2938 constrain0.0013  (0.1476)]\n",
      "100%|████████████████| 25/25 [00:56<00:00,  2.27s/it, val17.0 total0.1441 dsc0.9148 ce0.2869 constrain0.0014  (0.1389)]\n",
      "100%|████████████| 128/128 [03:34<00:00,  1.68s/it, train18.0 total0.1473 dsc0.9136 ce0.2937 constrain0.0010  (0.1453)]\n",
      "100%|████████████████| 25/25 [00:56<00:00,  2.26s/it, val18.0 total0.1443 dsc0.9147 ce0.2875 constrain0.0011  (0.1353)]\n",
      "100%|████████████| 128/128 [03:35<00:00,  1.68s/it, train19.0 total0.1473 dsc0.9135 ce0.2936 constrain0.0010  (0.1428)]\n",
      "100%|████████████████| 25/25 [00:58<00:00,  2.34s/it, val19.0 total0.1440 dsc0.9150 ce0.2873 constrain0.0008  (0.1427)]\n",
      "100%|████████████| 128/128 [03:36<00:00,  1.69s/it, train20.0 total0.1472 dsc0.9136 ce0.2935 constrain0.0009  (0.1460)]\n",
      "100%|████████████████| 25/25 [00:56<00:00,  1.22it/s, val20.0 total0.1438 dsc0.9150 ce0.2869 constrain0.0007  (0.1512)]"
     ]
    },
    {
     "name": "stdout",
     "output_type": "stream",
     "text": [
      "this is the best so far tensor(0.1438, device='cuda:0', dtype=torch.float64)\n"
     ]
    },
    {
     "name": "stderr",
     "output_type": "stream",
     "text": [
      "100%|████████████████| 25/25 [00:57<00:00,  2.28s/it, val20.0 total0.1438 dsc0.9150 ce0.2869 constrain0.0007  (0.1512)]\n",
      "100%|████████████| 128/128 [03:35<00:00,  1.69s/it, train21.0 total0.1472 dsc0.9135 ce0.2937 constrain0.0008  (0.1467)]\n",
      "100%|████████████████| 25/25 [00:56<00:00,  2.28s/it, val21.0 total0.1439 dsc0.9146 ce0.2868 constrain0.0009  (0.1457)]\n",
      "100%|████████████| 128/128 [03:35<00:00,  1.69s/it, train22.0 total0.1472 dsc0.9133 ce0.2937 constrain0.0008  (0.1526)]\n",
      "100%|████████████████| 25/25 [00:57<00:00,  2.28s/it, val22.0 total0.1441 dsc0.9147 ce0.2875 constrain0.0007  (0.1412)]\n",
      "100%|████████████| 128/128 [03:35<00:00,  1.68s/it, train23.0 total0.1471 dsc0.9134 ce0.2934 constrain0.0008  (0.1461)]\n",
      "100%|████████████████| 25/25 [00:56<00:00,  2.26s/it, val23.0 total0.1439 dsc0.9147 ce0.2870 constrain0.0007  (0.1569)]\n",
      "100%|████████████| 128/128 [03:35<00:00,  1.68s/it, train24.0 total0.1472 dsc0.9135 ce0.2936 constrain0.0008  (0.1500)]\n",
      "100%|████████████████| 25/25 [00:57<00:00,  2.31s/it, val24.0 total0.1438 dsc0.9144 ce0.2870 constrain0.0007  (0.1463)]\n",
      "100%|████████████| 128/128 [03:37<00:00,  1.70s/it, train25.0 total0.1471 dsc0.9132 ce0.2935 constrain0.0007  (0.1442)]\n",
      "100%|████████████████| 25/25 [00:56<00:00,  1.23it/s, val25.0 total0.1436 dsc0.9145 ce0.2864 constrain0.0007  (0.1458)]"
     ]
    },
    {
     "name": "stdout",
     "output_type": "stream",
     "text": [
      "this is the best so far tensor(0.1436, device='cuda:0', dtype=torch.float64)\n"
     ]
    },
    {
     "name": "stderr",
     "output_type": "stream",
     "text": [
      "100%|████████████████| 25/25 [00:56<00:00,  2.28s/it, val25.0 total0.1436 dsc0.9145 ce0.2864 constrain0.0007  (0.1458)]\n",
      "100%|████████████| 128/128 [03:35<00:00,  1.69s/it, train26.0 total0.1471 dsc0.9133 ce0.2934 constrain0.0007  (0.1421)]\n",
      "100%|████████████████| 25/25 [00:57<00:00,  2.29s/it, val26.0 total0.1438 dsc0.9143 ce0.2868 constrain0.0007  (0.1377)]\n",
      "100%|████████████| 128/128 [03:36<00:00,  1.69s/it, train27.0 total0.1471 dsc0.9132 ce0.2933 constrain0.0008  (0.1434)]\n",
      "100%|████████████████| 25/25 [00:58<00:00,  1.18it/s, val27.0 total0.1433 dsc0.9147 ce0.2860 constrain0.0007  (0.1425)]"
     ]
    },
    {
     "name": "stdout",
     "output_type": "stream",
     "text": [
      "this is the best so far tensor(0.1433, device='cuda:0', dtype=torch.float64)\n"
     ]
    },
    {
     "name": "stderr",
     "output_type": "stream",
     "text": [
      "100%|████████████████| 25/25 [00:59<00:00,  2.36s/it, val27.0 total0.1433 dsc0.9147 ce0.2860 constrain0.0007  (0.1425)]\n",
      "100%|████████████| 128/128 [03:34<00:00,  1.68s/it, train28.0 total0.1471 dsc0.9132 ce0.2934 constrain0.0008  (0.1563)]\n",
      "100%|████████████████| 25/25 [00:56<00:00,  2.25s/it, val28.0 total0.1433 dsc0.9146 ce0.2860 constrain0.0007  (0.1386)]\n",
      "100%|████████████| 128/128 [03:35<00:00,  1.68s/it, train29.0 total0.1470 dsc0.9130 ce0.2932 constrain0.0008  (0.1434)]\n",
      "100%|████████████████| 25/25 [00:56<00:00,  1.20it/s, val29.0 total0.1432 dsc0.9151 ce0.2856 constrain0.0008  (0.1356)]"
     ]
    },
    {
     "name": "stdout",
     "output_type": "stream",
     "text": [
      "this is the best so far tensor(0.1432, device='cuda:0', dtype=torch.float64)\n"
     ]
    },
    {
     "name": "stderr",
     "output_type": "stream",
     "text": [
      "100%|████████████████| 25/25 [00:56<00:00,  2.27s/it, val29.0 total0.1432 dsc0.9151 ce0.2856 constrain0.0008  (0.1356)]\n",
      "100%|████████████| 128/128 [03:36<00:00,  1.69s/it, train30.0 total0.1469 dsc0.9132 ce0.2929 constrain0.0008  (0.1438)]\n",
      "100%|████████████████| 25/25 [00:58<00:00,  2.33s/it, val30.0 total0.1434 dsc0.9145 ce0.2859 constrain0.0009  (0.1559)]\n",
      "100%|████████████| 128/128 [03:34<00:00,  1.68s/it, train31.0 total0.1470 dsc0.9130 ce0.2931 constrain0.0009  (0.1498)]\n",
      "100%|████████████████| 25/25 [00:55<00:00,  2.21s/it, val31.0 total0.1437 dsc0.9143 ce0.2865 constrain0.0009  (0.1459)]\n",
      "100%|████████████| 128/128 [03:33<00:00,  1.67s/it, train32.0 total0.1468 dsc0.9130 ce0.2925 constrain0.0010  (0.1481)]\n",
      "100%|████████████████| 25/25 [00:55<00:00,  2.22s/it, val32.0 total0.1435 dsc0.9141 ce0.2861 constrain0.0010  (0.1427)]\n",
      "100%|████████████| 128/128 [03:35<00:00,  1.68s/it, train33.0 total0.1468 dsc0.9125 ce0.2924 constrain0.0012  (0.1413)]\n",
      "100%|████████████████| 25/25 [00:56<00:00,  1.07it/s, val33.0 total0.1431 dsc0.9143 ce0.2851 constrain0.0012  (0.1423)]"
     ]
    },
    {
     "name": "stdout",
     "output_type": "stream",
     "text": [
      "this is the best so far tensor(0.1431, device='cuda:0', dtype=torch.float64)\n"
     ]
    },
    {
     "name": "stderr",
     "output_type": "stream",
     "text": [
      "100%|████████████████| 25/25 [00:56<00:00,  2.27s/it, val33.0 total0.1431 dsc0.9143 ce0.2851 constrain0.0012  (0.1423)]\n",
      "100%|████████████| 128/128 [03:33<00:00,  1.67s/it, train34.0 total0.1466 dsc0.9123 ce0.2917 constrain0.0016  (0.1414)]\n",
      "100%|████████████████| 25/25 [00:55<00:00,  1.21it/s, val34.0 total0.1429 dsc0.9133 ce0.2840 constrain0.0019  (0.1455)]"
     ]
    },
    {
     "name": "stdout",
     "output_type": "stream",
     "text": [
      "this is the best so far tensor(0.1429, device='cuda:0', dtype=torch.float64)\n"
     ]
    },
    {
     "name": "stderr",
     "output_type": "stream",
     "text": [
      "100%|████████████████| 25/25 [00:56<00:00,  2.26s/it, val34.0 total0.1429 dsc0.9133 ce0.2840 constrain0.0019  (0.1455)]\n",
      "100%|████████████| 128/128 [03:33<00:00,  1.67s/it, train35.0 total0.1461 dsc0.9109 ce0.2891 constrain0.0030  (0.1477)]\n",
      "100%|████████████████| 25/25 [00:56<00:00,  2.26s/it, val35.0 total0.1447 dsc0.9160 ce0.2841 constrain0.0054  (0.1397)]\n",
      "100%|████████████| 128/128 [03:35<00:00,  1.68s/it, train36.0 total0.1431 dsc0.9032 ce0.2780 constrain0.0081  (0.1422)]\n",
      "100%|████████████████| 25/25 [00:55<00:00,  1.25it/s, val36.0 total0.1353 dsc0.8970 ce0.2610 constrain0.0095  (0.1332)]"
     ]
    },
    {
     "name": "stdout",
     "output_type": "stream",
     "text": [
      "this is the best so far tensor(0.1353, device='cuda:0', dtype=torch.float64)\n"
     ]
    },
    {
     "name": "stderr",
     "output_type": "stream",
     "text": [
      "100%|████████████████| 25/25 [00:56<00:00,  2.27s/it, val36.0 total0.1353 dsc0.8970 ce0.2610 constrain0.0095  (0.1332)]\n",
      "100%|████████████| 128/128 [03:35<00:00,  1.68s/it, train37.0 total0.1331 dsc0.8777 ce0.2526 constrain0.0137  (0.1296)]\n",
      "100%|████████████████| 25/25 [00:55<00:00,  1.18it/s, val37.0 total0.1233 dsc0.8595 ce0.2319 constrain0.0146  (0.1205)]"
     ]
    },
    {
     "name": "stdout",
     "output_type": "stream",
     "text": [
      "this is the best so far tensor(0.1233, device='cuda:0', dtype=torch.float64)\n"
     ]
    },
    {
     "name": "stderr",
     "output_type": "stream",
     "text": [
      "100%|████████████████| 25/25 [00:56<00:00,  2.25s/it, val37.0 total0.1233 dsc0.8595 ce0.2319 constrain0.0146  (0.1205)]\n",
      "100%|████████████| 128/128 [03:34<00:00,  1.67s/it, train38.0 total0.1191 dsc0.8270 ce0.2241 constrain0.0141  (0.1029)]\n",
      "100%|████████████████| 25/25 [00:56<00:00,  1.23it/s, val38.0 total0.1065 dsc0.7830 ce0.2013 constrain0.0118  (0.0967)]"
     ]
    },
    {
     "name": "stdout",
     "output_type": "stream",
     "text": [
      "this is the best so far tensor(0.1065, device='cuda:0', dtype=torch.float64)\n"
     ]
    },
    {
     "name": "stderr",
     "output_type": "stream",
     "text": [
      "100%|████████████████| 25/25 [00:56<00:00,  2.28s/it, val38.0 total0.1065 dsc0.7830 ce0.2013 constrain0.0118  (0.0967)]\n",
      "100%|████████████| 128/128 [03:35<00:00,  1.69s/it, train39.0 total0.1049 dsc0.7405 ce0.1965 constrain0.0133  (0.1003)]\n",
      "100%|████████████████| 25/25 [00:59<00:00,  1.18it/s, val39.0 total0.0967 dsc0.7154 ce0.1846 constrain0.0087  (0.0997)]"
     ]
    },
    {
     "name": "stdout",
     "output_type": "stream",
     "text": [
      "this is the best so far tensor(0.0967, device='cuda:0', dtype=torch.float64)\n"
     ]
    },
    {
     "name": "stderr",
     "output_type": "stream",
     "text": [
      "100%|████████████████| 25/25 [01:00<00:00,  2.41s/it, val39.0 total0.0967 dsc0.7154 ce0.1846 constrain0.0087  (0.0997)]\n",
      "100%|████████████| 128/128 [03:36<00:00,  1.69s/it, train40.0 total0.0972 dsc0.6814 ce0.1844 constrain0.0101  (0.1020)]\n",
      "100%|████████████████| 25/25 [00:56<00:00,  1.27it/s, val40.0 total0.0908 dsc0.6594 ce0.1755 constrain0.0061  (0.0988)]"
     ]
    },
    {
     "name": "stdout",
     "output_type": "stream",
     "text": [
      "this is the best so far tensor(0.0908, device='cuda:0', dtype=torch.float64)\n"
     ]
    },
    {
     "name": "stderr",
     "output_type": "stream",
     "text": [
      "100%|████████████████| 25/25 [00:57<00:00,  2.28s/it, val40.0 total0.0908 dsc0.6594 ce0.1755 constrain0.0061  (0.0988)]\n",
      "100%|████████████| 128/128 [03:35<00:00,  1.69s/it, train41.0 total0.1875 dsc0.8391 ce0.2858 constrain0.0892  (0.1550)]\n",
      "100%|████████████████| 25/25 [00:56<00:00,  2.25s/it, val41.0 total0.1622 dsc0.9424 ce0.2989 constrain0.0255  (0.1684)]\n",
      "100%|████████████| 128/128 [03:34<00:00,  1.67s/it, train42.0 total0.1497 dsc0.9117 ce0.2722 constrain0.0272  (0.1425)]\n",
      "100%|████████████████| 25/25 [00:55<00:00,  2.23s/it, val42.0 total0.1349 dsc0.8884 ce0.2431 constrain0.0266  (0.1369)]\n",
      "100%|████████████| 128/128 [03:34<00:00,  1.67s/it, train43.0 total0.1326 dsc0.8740 ce0.2405 constrain0.0248  (0.1292)]\n",
      "100%|████████████████| 25/25 [00:56<00:00,  2.27s/it, val43.0 total0.1233 dsc0.8602 ce0.2242 constrain0.0223  (0.1339)]\n",
      "100%|████████████| 128/128 [03:35<00:00,  1.68s/it, train44.0 total0.1220 dsc0.8424 ce0.2231 constrain0.0209  (0.1127)]\n",
      "100%|████████████████| 25/25 [00:56<00:00,  2.25s/it, val44.0 total0.1139 dsc0.8233 ce0.2073 constrain0.0205  (0.1049)]\n",
      "100%|████████████| 128/128 [03:35<00:00,  1.68s/it, train45.0 total0.1201 dsc0.8052 ce0.2084 constrain0.0317  (0.1457)]\n",
      "100%|████████████████| 25/25 [00:57<00:00,  2.28s/it, val45.0 total0.1339 dsc0.8857 ce0.2426 constrain0.0252  (0.1217)]\n",
      "100%|████████████| 128/128 [03:35<00:00,  1.68s/it, train46.0 total0.1248 dsc0.8516 ce0.2303 constrain0.0193  (0.1110)]\n",
      "100%|████████████████| 25/25 [00:55<00:00,  2.24s/it, val46.0 total0.1139 dsc0.8206 ce0.2078 constrain0.0199  (0.1178)]\n",
      "100%|████████████| 128/128 [03:34<00:00,  1.67s/it, train47.0 total0.1126 dsc0.7990 ce0.2061 constrain0.0191  (0.0977)]\n",
      "100%|████████████████| 25/25 [00:56<00:00,  2.25s/it, val47.0 total0.1061 dsc0.7820 ce0.1943 constrain0.0179  (0.1087)]\n",
      "100%|████████████| 128/128 [03:34<00:00,  1.67s/it, train48.0 total0.1051 dsc0.7627 ce0.1944 constrain0.0158  (0.1045)]\n",
      "100%|████████████████| 25/25 [00:56<00:00,  2.25s/it, val48.0 total0.0990 dsc0.7455 ce0.1848 constrain0.0131  (0.0968)]\n",
      "100%|████████████| 128/128 [03:34<00:00,  1.68s/it, train49.0 total0.0979 dsc0.7251 ce0.1852 constrain0.0106  (0.0913)]\n",
      "100%|████████████████| 25/25 [00:57<00:00,  2.29s/it, val49.0 total0.0921 dsc0.7101 ce0.1777 constrain0.0064  (0.0925)]\n",
      "4005it [00:02, 1401.60it/s]\n",
      "4005it [00:00, 6873.40it/s]\n",
      "100%|███████████| 128/128 [03:33<00:00,  1.67s/it, train0.0 total11.0234 dsc0.8339 ce1.6460 constrain14.1492  (0.9039)]\n",
      "100%|█████████████████| 25/25 [00:55<00:00,  1.22it/s, val0.0 total0.9746 dsc0.8440 ce1.9239 constrain0.6582  (0.9627)]"
     ]
    },
    {
     "name": "stdout",
     "output_type": "stream",
     "text": [
      "this is the best so far tensor(0.9746, device='cuda:0', dtype=torch.float64)\n"
     ]
    },
    {
     "name": "stderr",
     "output_type": "stream",
     "text": [
      "100%|█████████████████| 25/25 [00:55<00:00,  2.23s/it, val0.0 total0.9746 dsc0.8440 ce1.9239 constrain0.6582  (0.9627)]\n",
      "100%|█████████████| 128/128 [03:34<00:00,  1.68s/it, train1.0 total0.8996 dsc0.8414 ce2.0786 constrain0.5066  (0.6963)]\n",
      "100%|█████████████████| 25/25 [00:55<00:00,  1.29it/s, val1.0 total0.7955 dsc0.8474 ce2.1907 constrain0.3305  (0.7086)]"
     ]
    },
    {
     "name": "stdout",
     "output_type": "stream",
     "text": [
      "this is the best so far tensor(0.7955, device='cuda:0', dtype=torch.float64)\n"
     ]
    },
    {
     "name": "stderr",
     "output_type": "stream",
     "text": [
      "100%|█████████████████| 25/25 [00:55<00:00,  2.23s/it, val1.0 total0.7955 dsc0.8474 ce2.1907 constrain0.3305  (0.7086)]\n",
      "100%|█████████████| 128/128 [03:34<00:00,  1.67s/it, train2.0 total0.6830 dsc0.8423 ce2.1243 constrain0.2025  (0.6172)]\n",
      "100%|█████████████████| 25/25 [00:56<00:00,  1.30it/s, val2.0 total0.6214 dsc0.8466 ce2.0452 constrain0.1467  (0.6475)]"
     ]
    },
    {
     "name": "stdout",
     "output_type": "stream",
     "text": [
      "this is the best so far tensor(0.6214, device='cuda:0', dtype=torch.float64)\n"
     ]
    },
    {
     "name": "stderr",
     "output_type": "stream",
     "text": [
      "100%|█████████████████| 25/25 [00:57<00:00,  2.30s/it, val2.0 total0.6214 dsc0.8466 ce2.0452 constrain0.1467  (0.6475)]\n",
      "100%|█████████████| 128/128 [03:34<00:00,  1.68s/it, train3.0 total0.5692 dsc0.8435 ce1.8694 constrain0.1358  (0.5070)]\n",
      "100%|█████████████████| 25/25 [00:56<00:00,  1.03it/s, val3.0 total0.5190 dsc0.8494 ce1.7263 constrain0.1166  (0.5148)]"
     ]
    },
    {
     "name": "stdout",
     "output_type": "stream",
     "text": [
      "this is the best so far tensor(0.5190, device='cuda:0', dtype=torch.float64)\n"
     ]
    },
    {
     "name": "stderr",
     "output_type": "stream",
     "text": [
      "100%|█████████████████| 25/25 [00:57<00:00,  2.30s/it, val3.0 total0.5190 dsc0.8494 ce1.7263 constrain0.1166  (0.5148)]\n",
      "100%|█████████████| 128/128 [03:33<00:00,  1.67s/it, train4.0 total0.6243 dsc0.8444 ce1.8826 constrain0.2049  (0.4980)]\n",
      "100%|█████████████████| 25/25 [00:56<00:00,  1.30it/s, val4.0 total0.4889 dsc0.8479 ce1.7872 constrain0.0562  (0.4889)]"
     ]
    },
    {
     "name": "stdout",
     "output_type": "stream",
     "text": [
      "this is the best so far tensor(0.4889, device='cuda:0', dtype=torch.float64)\n"
     ]
    },
    {
     "name": "stderr",
     "output_type": "stream",
     "text": [
      "100%|█████████████████| 25/25 [00:56<00:00,  2.28s/it, val4.0 total0.4889 dsc0.8479 ce1.7872 constrain0.0562  (0.4889)]\n",
      "100%|█████████████| 128/128 [03:34<00:00,  1.68s/it, train5.0 total0.3908 dsc0.8447 ce1.4363 constrain0.0423  (0.3144)]\n",
      "100%|█████████████████| 25/25 [00:55<00:00,  1.24it/s, val5.0 total0.3184 dsc0.8505 ce1.1864 constrain0.0290  (0.3209)]"
     ]
    },
    {
     "name": "stdout",
     "output_type": "stream",
     "text": [
      "this is the best so far tensor(0.3184, device='cuda:0', dtype=torch.float64)\n"
     ]
    },
    {
     "name": "stderr",
     "output_type": "stream",
     "text": [
      "100%|█████████████████| 25/25 [00:56<00:00,  2.24s/it, val5.0 total0.3184 dsc0.8505 ce1.1864 constrain0.0290  (0.3209)]\n",
      "100%|█████████████| 128/128 [03:34<00:00,  1.67s/it, train6.0 total0.5204 dsc0.8473 ce1.3885 constrain0.2310  (0.3639)]\n",
      "100%|█████████████████| 25/25 [00:57<00:00,  2.31s/it, val6.0 total0.3754 dsc0.8502 ce1.3272 constrain0.0581  (0.3700)]\n",
      "100%|█████████████| 128/128 [03:35<00:00,  1.68s/it, train7.0 total0.4728 dsc0.8468 ce1.2815 constrain0.2032  (1.1431)]\n",
      "100%|█████████████████| 25/25 [00:57<00:00,  2.30s/it, val7.0 total1.1556 dsc0.8520 ce3.3992 constrain0.4077  (1.1343)]\n",
      "100%|█████████████| 128/128 [03:36<00:00,  1.69s/it, train8.0 total0.9349 dsc0.8434 ce3.2730 constrain0.1555  (0.7039)]\n",
      "100%|█████████████████| 25/25 [00:57<00:00,  2.30s/it, val8.0 total0.7755 dsc0.8479 ce2.8394 constrain0.0875  (0.8023)]\n",
      "100%|█████████████| 128/128 [03:35<00:00,  1.68s/it, train9.0 total0.7636 dsc0.8442 ce2.3175 constrain0.2457  (1.5294)]\n",
      "100%|█████████████████| 25/25 [00:56<00:00,  2.26s/it, val9.0 total0.9862 dsc0.8479 ce3.5861 constrain0.1195  (1.0071)]\n",
      "100%|████████████| 128/128 [03:36<00:00,  1.69s/it, train10.0 total0.8254 dsc0.8430 ce3.0180 constrain0.0945  (0.6354)]\n",
      "100%|████████████████| 25/25 [00:56<00:00,  2.25s/it, val10.0 total0.6222 dsc0.8484 ce2.2254 constrain0.0877  (0.6529)]\n",
      "100%|████████████| 128/128 [03:33<00:00,  1.67s/it, train11.0 total0.5556 dsc0.8445 ce1.8490 constrain0.1245  (0.4752)]\n",
      "100%|████████████████| 25/25 [00:56<00:00,  2.27s/it, val11.0 total0.5230 dsc0.8496 ce1.7050 constrain0.1290  (0.5182)]\n",
      "100%|████████████| 128/128 [03:34<00:00,  1.68s/it, train12.0 total0.5158 dsc0.8449 ce1.6102 constrain0.1510  (0.4515)]\n",
      "100%|████████████████| 25/25 [00:56<00:00,  2.27s/it, val12.0 total0.4401 dsc0.8499 ce1.5530 constrain0.0691  (0.4390)]\n",
      "100%|████████████| 128/128 [03:34<00:00,  1.68s/it, train13.0 total0.4201 dsc0.8461 ce1.3709 constrain0.1032  (0.3142)]\n",
      "100%|████████████████| 25/25 [00:58<00:00,  2.33s/it, val13.0 total0.4172 dsc0.8519 ce1.1541 constrain0.1715  (1.1324)]\n",
      "100%|████████████| 128/128 [03:35<00:00,  1.68s/it, train14.0 total0.3637 dsc0.8478 ce1.1093 constrain0.1152  (0.2864)]\n",
      "100%|████████████████| 25/25 [00:57<00:00,  1.06s/it, val14.0 total0.3038 dsc0.8532 ce1.0058 constrain0.0697  (0.2810)]"
     ]
    },
    {
     "name": "stdout",
     "output_type": "stream",
     "text": [
      "this is the best so far tensor(0.3038, device='cuda:0', dtype=torch.float64)\n"
     ]
    },
    {
     "name": "stderr",
     "output_type": "stream",
     "text": [
      "100%|████████████████| 25/25 [00:57<00:00,  2.32s/it, val14.0 total0.3038 dsc0.8532 ce1.0058 constrain0.0697  (0.2810)]\n",
      "100%|████████████| 128/128 [03:34<00:00,  1.68s/it, train15.0 total0.3370 dsc0.8494 ce0.9546 constrain0.1312  (0.2637)]\n",
      "100%|████████████████| 25/25 [00:55<00:00,  1.16it/s, val15.0 total0.2797 dsc0.8538 ce0.9325 constrain0.0621  (0.2612)]"
     ]
    },
    {
     "name": "stdout",
     "output_type": "stream",
     "text": [
      "this is the best so far tensor(0.2797, device='cuda:0', dtype=torch.float64)\n"
     ]
    },
    {
     "name": "stderr",
     "output_type": "stream",
     "text": [
      "100%|████████████████| 25/25 [00:56<00:00,  2.26s/it, val15.0 total0.2797 dsc0.8538 ce0.9325 constrain0.0621  (0.2612)]\n",
      "100%|████████████| 128/128 [03:35<00:00,  1.69s/it, train16.0 total0.3350 dsc0.8503 ce0.8778 constrain0.1541  (0.2624)]\n",
      "100%|████████████████| 25/25 [00:58<00:00,  2.35s/it, val16.0 total0.2938 dsc0.8543 ce0.8785 constrain0.0989  (0.2509)]\n",
      "100%|████████████| 128/128 [03:34<00:00,  1.68s/it, train17.0 total0.2805 dsc0.8506 ce0.8290 constrain0.0977  (0.2335)]\n",
      "100%|████████████████| 25/25 [00:55<00:00,  1.31it/s, val17.0 total0.2473 dsc0.8554 ce0.7767 constrain0.0708  (0.2365)]"
     ]
    },
    {
     "name": "stdout",
     "output_type": "stream",
     "text": [
      "this is the best so far tensor(0.2473, device='cuda:0', dtype=torch.float64)\n"
     ]
    },
    {
     "name": "stderr",
     "output_type": "stream",
     "text": [
      "100%|████████████████| 25/25 [00:56<00:00,  2.27s/it, val17.0 total0.2473 dsc0.8554 ce0.7767 constrain0.0708  (0.2365)]\n",
      "100%|████████████| 128/128 [03:35<00:00,  1.68s/it, train18.0 total0.2429 dsc0.8519 ce0.7365 constrain0.0783  (0.1742)]\n",
      "100%|████████████████| 25/25 [00:57<00:00,  1.20it/s, val18.0 total0.1748 dsc0.8572 ce0.6804 constrain0.0063  (0.1753)]"
     ]
    },
    {
     "name": "stdout",
     "output_type": "stream",
     "text": [
      "this is the best so far tensor(0.1748, device='cuda:0', dtype=torch.float64)\n"
     ]
    },
    {
     "name": "stderr",
     "output_type": "stream",
     "text": [
      "100%|████████████████| 25/25 [00:57<00:00,  2.31s/it, val18.0 total0.1748 dsc0.8572 ce0.6804 constrain0.0063  (0.1753)]\n",
      "100%|████████████| 128/128 [03:34<00:00,  1.68s/it, train19.0 total0.1584 dsc0.8554 ce0.6130 constrain0.0069  (0.1395)]\n",
      "100%|████████████████| 25/25 [00:56<00:00,  1.27it/s, val19.0 total0.1393 dsc0.8632 ce0.5364 constrain0.0069  (0.1413)]"
     ]
    },
    {
     "name": "stdout",
     "output_type": "stream",
     "text": [
      "this is the best so far tensor(0.1393, device='cuda:0', dtype=torch.float64)\n"
     ]
    },
    {
     "name": "stderr",
     "output_type": "stream",
     "text": [
      "100%|████████████████| 25/25 [00:56<00:00,  2.27s/it, val19.0 total0.1393 dsc0.8632 ce0.5364 constrain0.0069  (0.1413)]\n",
      "100%|████████████| 128/128 [03:34<00:00,  1.68s/it, train20.0 total0.1214 dsc0.8650 ce0.4503 constrain0.0117  (0.0950)]\n",
      "100%|████████████████| 25/25 [00:55<00:00,  1.22it/s, val20.0 total0.0965 dsc0.8767 ce0.3670 constrain0.0064  (0.0961)]"
     ]
    },
    {
     "name": "stdout",
     "output_type": "stream",
     "text": [
      "this is the best so far tensor(0.0965, device='cuda:0', dtype=torch.float64)\n"
     ]
    },
    {
     "name": "stderr",
     "output_type": "stream",
     "text": [
      "100%|████████████████| 25/25 [00:55<00:00,  2.24s/it, val20.0 total0.0965 dsc0.8767 ce0.3670 constrain0.0064  (0.0961)]\n",
      "100%|████████████| 128/128 [03:34<00:00,  1.68s/it, train21.0 total0.0847 dsc0.8848 ce0.3298 constrain0.0030  (0.0756)]\n",
      "100%|████████████████| 25/25 [00:56<00:00,  1.25it/s, val21.0 total0.0764 dsc0.8971 ce0.3004 constrain0.0018  (0.0783)]"
     ]
    },
    {
     "name": "stdout",
     "output_type": "stream",
     "text": [
      "this is the best so far tensor(0.0764, device='cuda:0', dtype=torch.float64)\n"
     ]
    },
    {
     "name": "stderr",
     "output_type": "stream",
     "text": [
      "100%|████████████████| 25/25 [00:57<00:00,  2.29s/it, val21.0 total0.0764 dsc0.8971 ce0.3004 constrain0.0018  (0.0783)]\n",
      "100%|████████████| 128/128 [03:34<00:00,  1.68s/it, train22.0 total0.0760 dsc0.9023 ce0.2985 constrain0.0018  (0.0806)]\n",
      "100%|████████████████| 25/25 [00:56<00:00,  1.26it/s, val22.0 total0.0726 dsc0.9097 ce0.2883 constrain0.0007  (0.0768)]"
     ]
    },
    {
     "name": "stdout",
     "output_type": "stream",
     "text": [
      "this is the best so far tensor(0.0726, device='cuda:0', dtype=torch.float64)\n"
     ]
    },
    {
     "name": "stderr",
     "output_type": "stream",
     "text": [
      "100%|████████████████| 25/25 [00:57<00:00,  2.29s/it, val22.0 total0.0726 dsc0.9097 ce0.2883 constrain0.0007  (0.0768)]\n",
      "100%|████████████| 128/128 [03:37<00:00,  1.70s/it, train23.0 total0.0741 dsc0.9104 ce0.2946 constrain0.0006  (0.0755)]\n",
      "100%|████████████████| 25/25 [00:56<00:00,  1.23it/s, val23.0 total0.0723 dsc0.9135 ce0.2877 constrain0.0005  (0.0734)]"
     ]
    },
    {
     "name": "stdout",
     "output_type": "stream",
     "text": [
      "this is the best so far tensor(0.0723, device='cuda:0', dtype=torch.float64)\n"
     ]
    },
    {
     "name": "stderr",
     "output_type": "stream",
     "text": [
      "100%|████████████████| 25/25 [00:57<00:00,  2.29s/it, val23.0 total0.0723 dsc0.9135 ce0.2877 constrain0.0005  (0.0734)]\n",
      "100%|████████████| 128/128 [03:36<00:00,  1.69s/it, train24.0 total0.0739 dsc0.9129 ce0.2943 constrain0.0004  (0.0767)]\n",
      "100%|████████████████| 25/25 [00:56<00:00,  1.29it/s, val24.0 total0.0723 dsc0.9149 ce0.2879 constrain0.0004  (0.0779)]"
     ]
    },
    {
     "name": "stdout",
     "output_type": "stream",
     "text": [
      "this is the best so far tensor(0.0723, device='cuda:0', dtype=torch.float64)\n"
     ]
    },
    {
     "name": "stderr",
     "output_type": "stream",
     "text": [
      "100%|████████████████| 25/25 [00:56<00:00,  2.27s/it, val24.0 total0.0723 dsc0.9149 ce0.2879 constrain0.0004  (0.0779)]\n",
      "100%|████████████| 128/128 [03:14<00:00,  1.52s/it, train25.0 total0.0738 dsc0.9137 ce0.2941 constrain0.0004  (0.0781)]\n",
      "100%|████████████████| 25/25 [00:56<00:00,  1.19it/s, val25.0 total0.0722 dsc0.9152 ce0.2879 constrain0.0003  (0.0744)]"
     ]
    },
    {
     "name": "stdout",
     "output_type": "stream",
     "text": [
      "this is the best so far tensor(0.0722, device='cuda:0', dtype=torch.float64)\n"
     ]
    },
    {
     "name": "stderr",
     "output_type": "stream",
     "text": [
      "100%|████████████████| 25/25 [00:56<00:00,  2.27s/it, val25.0 total0.0722 dsc0.9152 ce0.2879 constrain0.0003  (0.0744)]\n",
      "100%|████████████| 128/128 [03:12<00:00,  1.50s/it, train26.0 total0.0737 dsc0.9138 ce0.2939 constrain0.0003  (0.0775)]\n",
      "100%|████████████████| 25/25 [00:56<00:00,  1.05it/s, val26.0 total0.0719 dsc0.9153 ce0.2867 constrain0.0003  (0.0665)]"
     ]
    },
    {
     "name": "stdout",
     "output_type": "stream",
     "text": [
      "this is the best so far tensor(0.0719, device='cuda:0', dtype=torch.float64)\n"
     ]
    },
    {
     "name": "stderr",
     "output_type": "stream",
     "text": [
      "100%|████████████████| 25/25 [00:57<00:00,  2.29s/it, val26.0 total0.0719 dsc0.9153 ce0.2867 constrain0.0003  (0.0665)]\n",
      "100%|████████████| 128/128 [03:13<00:00,  1.51s/it, train27.0 total0.0737 dsc0.9137 ce0.2939 constrain0.0003  (0.0731)]\n",
      "100%|████████████████| 25/25 [00:56<00:00,  2.28s/it, val27.0 total0.0731 dsc0.9149 ce0.2868 constrain0.0019  (0.0719)]\n",
      "100%|████████████| 128/128 [03:13<00:00,  1.51s/it, train28.0 total0.0739 dsc0.9142 ce0.2936 constrain0.0007  (0.0714)]\n",
      "100%|████████████████| 25/25 [00:56<00:00,  1.27it/s, val28.0 total0.0718 dsc0.9152 ce0.2860 constrain0.0004  (0.0646)]"
     ]
    },
    {
     "name": "stdout",
     "output_type": "stream",
     "text": [
      "this is the best so far tensor(0.0718, device='cuda:0', dtype=torch.float64)\n"
     ]
    },
    {
     "name": "stderr",
     "output_type": "stream",
     "text": [
      "100%|████████████████| 25/25 [00:57<00:00,  2.29s/it, val28.0 total0.0718 dsc0.9152 ce0.2860 constrain0.0004  (0.0646)]\n",
      "100%|████████████| 128/128 [03:12<00:00,  1.51s/it, train29.0 total0.0736 dsc0.9134 ce0.2932 constrain0.0004  (0.0795)]\n",
      "100%|████████████████| 25/25 [00:56<00:00,  2.26s/it, val29.0 total0.0721 dsc0.9146 ce0.2872 constrain0.0005  (0.0683)]\n",
      "100%|████████████| 128/128 [03:13<00:00,  1.51s/it, train30.0 total0.0735 dsc0.9131 ce0.2928 constrain0.0004  (0.0747)]\n",
      "100%|████████████████| 25/25 [00:56<00:00,  2.26s/it, val30.0 total0.0718 dsc0.9142 ce0.2860 constrain0.0004  (0.0695)]\n",
      "100%|████████████| 128/128 [03:17<00:00,  1.54s/it, train31.0 total0.0734 dsc0.9127 ce0.2923 constrain0.0004  (0.0756)]\n",
      "100%|████████████████| 25/25 [00:56<00:00,  1.26it/s, val31.0 total0.0717 dsc0.9138 ce0.2854 constrain0.0005  (0.0675)]"
     ]
    },
    {
     "name": "stdout",
     "output_type": "stream",
     "text": [
      "this is the best so far tensor(0.0717, device='cuda:0', dtype=torch.float64)\n"
     ]
    },
    {
     "name": "stderr",
     "output_type": "stream",
     "text": [
      "100%|████████████████| 25/25 [00:56<00:00,  2.28s/it, val31.0 total0.0717 dsc0.9138 ce0.2854 constrain0.0005  (0.0675)]\n",
      "100%|████████████| 128/128 [03:12<00:00,  1.50s/it, train32.0 total0.0733 dsc0.9124 ce0.2919 constrain0.0005  (0.0704)]\n",
      "100%|████████████████| 25/25 [00:55<00:00,  1.18it/s, val32.0 total0.0715 dsc0.9136 ce0.2846 constrain0.0005  (0.0684)]"
     ]
    },
    {
     "name": "stdout",
     "output_type": "stream",
     "text": [
      "this is the best so far tensor(0.0715, device='cuda:0', dtype=torch.float64)\n"
     ]
    },
    {
     "name": "stderr",
     "output_type": "stream",
     "text": [
      "100%|████████████████| 25/25 [00:55<00:00,  2.24s/it, val32.0 total0.0715 dsc0.9136 ce0.2846 constrain0.0005  (0.0684)]\n",
      "100%|████████████| 128/128 [03:12<00:00,  1.51s/it, train33.0 total0.0734 dsc0.9122 ce0.2916 constrain0.0006  (0.0744)]\n",
      "100%|████████████████| 25/25 [00:56<00:00,  2.27s/it, val33.0 total0.0716 dsc0.9132 ce0.2845 constrain0.0007  (0.0695)]\n",
      "100%|████████████| 128/128 [03:12<00:00,  1.50s/it, train34.0 total0.0734 dsc0.9118 ce0.2910 constrain0.0008  (0.0797)]\n",
      "100%|████████████████| 25/25 [00:57<00:00,  2.29s/it, val34.0 total0.0717 dsc0.9139 ce0.2846 constrain0.0007  (0.0717)]\n",
      "100%|████████████| 128/128 [03:13<00:00,  1.51s/it, train35.0 total0.0732 dsc0.9121 ce0.2905 constrain0.0007  (0.0707)]\n",
      "100%|████████████████| 25/25 [00:56<00:00,  1.20it/s, val35.0 total0.0714 dsc0.9129 ce0.2835 constrain0.0007  (0.0774)]"
     ]
    },
    {
     "name": "stdout",
     "output_type": "stream",
     "text": [
      "this is the best so far tensor(0.0714, device='cuda:0', dtype=torch.float64)\n"
     ]
    },
    {
     "name": "stderr",
     "output_type": "stream",
     "text": [
      "100%|████████████████| 25/25 [00:57<00:00,  2.29s/it, val35.0 total0.0714 dsc0.9129 ce0.2835 constrain0.0007  (0.0774)]\n",
      "100%|████████████| 128/128 [03:12<00:00,  1.51s/it, train36.0 total0.0776 dsc0.9217 ce0.2947 constrain0.0053  (0.0755)]\n",
      "100%|████████████████| 25/25 [00:57<00:00,  2.29s/it, val36.0 total0.0724 dsc0.9233 ce0.2851 constrain0.0015  (0.0677)]\n",
      "100%|████████████| 128/128 [03:13<00:00,  1.51s/it, train37.0 total0.0734 dsc0.9145 ce0.2896 constrain0.0013  (0.0693)]\n",
      "100%|████████████████| 25/25 [00:56<00:00,  1.09s/it, val37.0 total0.0713 dsc0.9137 ce0.2823 constrain0.0010  (0.0704)]"
     ]
    },
    {
     "name": "stdout",
     "output_type": "stream",
     "text": [
      "this is the best so far tensor(0.0713, device='cuda:0', dtype=torch.float64)\n"
     ]
    },
    {
     "name": "stderr",
     "output_type": "stream",
     "text": [
      "100%|████████████████| 25/25 [00:57<00:00,  2.30s/it, val37.0 total0.0713 dsc0.9137 ce0.2823 constrain0.0010  (0.0704)]\n",
      "100%|████████████| 128/128 [03:11<00:00,  1.50s/it, train38.0 total0.0730 dsc0.9109 ce0.2886 constrain0.0011  (0.0635)]\n",
      "100%|████████████████| 25/25 [00:56<00:00,  1.25it/s, val38.0 total0.0711 dsc0.9117 ce0.2810 constrain0.0011  (0.0660)]"
     ]
    },
    {
     "name": "stdout",
     "output_type": "stream",
     "text": [
      "this is the best so far tensor(0.0711, device='cuda:0', dtype=torch.float64)\n"
     ]
    },
    {
     "name": "stderr",
     "output_type": "stream",
     "text": [
      "100%|████████████████| 25/25 [00:57<00:00,  2.30s/it, val38.0 total0.0711 dsc0.9117 ce0.2810 constrain0.0011  (0.0660)]\n",
      "100%|████████████| 128/128 [03:14<00:00,  1.52s/it, train39.0 total0.0729 dsc0.9103 ce0.2876 constrain0.0013  (0.0670)]\n",
      "100%|████████████████| 25/25 [00:56<00:00,  1.08s/it, val39.0 total0.0709 dsc0.9115 ce0.2794 constrain0.0014  (0.0758)]"
     ]
    },
    {
     "name": "stdout",
     "output_type": "stream",
     "text": [
      "this is the best so far tensor(0.0709, device='cuda:0', dtype=torch.float64)\n"
     ]
    },
    {
     "name": "stderr",
     "output_type": "stream",
     "text": [
      "100%|████████████████| 25/25 [00:57<00:00,  2.31s/it, val39.0 total0.0709 dsc0.9115 ce0.2794 constrain0.0014  (0.0758)]\n",
      "100%|████████████| 128/128 [03:12<00:00,  1.50s/it, train40.0 total0.0727 dsc0.9096 ce0.2864 constrain0.0015  (0.0697)]\n",
      "100%|████████████████| 25/25 [00:57<00:00,  2.28s/it, val40.0 total0.0711 dsc0.9127 ce0.2806 constrain0.0013  (0.0673)]\n",
      "100%|████████████| 128/128 [03:15<00:00,  1.52s/it, train41.0 total0.0726 dsc0.9094 ce0.2854 constrain0.0017  (0.0721)]\n",
      "100%|████████████████| 25/25 [00:56<00:00,  1.18it/s, val41.0 total0.0704 dsc0.9090 ce0.2768 constrain0.0017  (0.0715)]"
     ]
    },
    {
     "name": "stdout",
     "output_type": "stream",
     "text": [
      "this is the best so far tensor(0.0704, device='cuda:0', dtype=torch.float64)\n"
     ]
    },
    {
     "name": "stderr",
     "output_type": "stream",
     "text": [
      "100%|████████████████| 25/25 [00:57<00:00,  2.30s/it, val41.0 total0.0704 dsc0.9090 ce0.2768 constrain0.0017  (0.0715)]\n",
      "100%|████████████| 128/128 [03:13<00:00,  1.51s/it, train42.0 total0.0720 dsc0.9072 ce0.2835 constrain0.0016  (0.0683)]\n",
      "100%|████████████████| 25/25 [00:54<00:00,  1.30it/s, val42.0 total0.0703 dsc0.9075 ce0.2765 constrain0.0015  (0.0695)]"
     ]
    },
    {
     "name": "stdout",
     "output_type": "stream",
     "text": [
      "this is the best so far tensor(0.0703, device='cuda:0', dtype=torch.float64)\n"
     ]
    },
    {
     "name": "stderr",
     "output_type": "stream",
     "text": [
      "100%|████████████████| 25/25 [00:55<00:00,  2.22s/it, val42.0 total0.0703 dsc0.9075 ce0.2765 constrain0.0015  (0.0695)]\n",
      "100%|████████████| 128/128 [03:13<00:00,  1.51s/it, train43.0 total0.0717 dsc0.9057 ce0.2817 constrain0.0017  (0.0759)]\n",
      "100%|████████████████| 25/25 [00:55<00:00,  1.33it/s, val43.0 total0.0696 dsc0.9059 ce0.2729 constrain0.0018  (0.0652)]"
     ]
    },
    {
     "name": "stdout",
     "output_type": "stream",
     "text": [
      "this is the best so far tensor(0.0696, device='cuda:0', dtype=torch.float64)\n"
     ]
    },
    {
     "name": "stderr",
     "output_type": "stream",
     "text": [
      "100%|████████████████| 25/25 [00:56<00:00,  2.25s/it, val43.0 total0.0696 dsc0.9059 ce0.2729 constrain0.0018  (0.0652)]\n",
      "100%|████████████| 128/128 [03:14<00:00,  1.52s/it, train44.0 total0.0712 dsc0.9037 ce0.2793 constrain0.0018  (0.0690)]\n",
      "100%|████████████████| 25/25 [00:56<00:00,  1.19it/s, val44.0 total0.0693 dsc0.9038 ce0.2713 constrain0.0020  (0.0731)]"
     ]
    },
    {
     "name": "stdout",
     "output_type": "stream",
     "text": [
      "this is the best so far tensor(0.0693, device='cuda:0', dtype=torch.float64)\n"
     ]
    },
    {
     "name": "stderr",
     "output_type": "stream",
     "text": [
      "100%|████████████████| 25/25 [00:57<00:00,  2.29s/it, val44.0 total0.0693 dsc0.9038 ce0.2713 constrain0.0020  (0.0731)]\n",
      "100%|████████████| 128/128 [03:13<00:00,  1.51s/it, train45.0 total0.0708 dsc0.9019 ce0.2767 constrain0.0021  (0.0734)]\n",
      "100%|████████████████| 25/25 [00:56<00:00,  1.30it/s, val45.0 total0.0689 dsc0.9010 ce0.2690 constrain0.0023  (0.0692)]"
     ]
    },
    {
     "name": "stdout",
     "output_type": "stream",
     "text": [
      "this is the best so far tensor(0.0689, device='cuda:0', dtype=torch.float64)\n"
     ]
    },
    {
     "name": "stderr",
     "output_type": "stream",
     "text": [
      "100%|████████████████| 25/25 [00:56<00:00,  2.27s/it, val45.0 total0.0689 dsc0.9010 ce0.2690 constrain0.0023  (0.0692)]\n",
      "100%|████████████| 128/128 [03:16<00:00,  1.54s/it, train46.0 total0.0703 dsc0.8996 ce0.2740 constrain0.0024  (0.0697)]\n",
      "100%|████████████████| 25/25 [00:55<00:00,  1.01s/it, val46.0 total0.0682 dsc0.8994 ce0.2657 constrain0.0024  (0.0668)]"
     ]
    },
    {
     "name": "stdout",
     "output_type": "stream",
     "text": [
      "this is the best so far tensor(0.0682, device='cuda:0', dtype=torch.float64)\n"
     ]
    },
    {
     "name": "stderr",
     "output_type": "stream",
     "text": [
      "100%|████████████████| 25/25 [00:56<00:00,  2.27s/it, val46.0 total0.0682 dsc0.8994 ce0.2657 constrain0.0024  (0.0668)]\n",
      "100%|████████████| 128/128 [03:13<00:00,  1.52s/it, train47.0 total0.0696 dsc0.8959 ce0.2704 constrain0.0027  (0.0694)]\n",
      "100%|████████████████| 25/25 [00:56<00:00,  1.05it/s, val47.0 total0.0673 dsc0.8953 ce0.2614 constrain0.0026  (0.0734)]"
     ]
    },
    {
     "name": "stdout",
     "output_type": "stream",
     "text": [
      "this is the best so far tensor(0.0673, device='cuda:0', dtype=torch.float64)\n"
     ]
    },
    {
     "name": "stderr",
     "output_type": "stream",
     "text": [
      "100%|████████████████| 25/25 [00:57<00:00,  2.30s/it, val47.0 total0.0673 dsc0.8953 ce0.2614 constrain0.0026  (0.0734)]\n",
      "100%|████████████| 128/128 [03:11<00:00,  1.50s/it, train48.0 total0.0686 dsc0.8912 ce0.2654 constrain0.0030  (0.0755)]\n",
      "100%|████████████████| 25/25 [00:55<00:00,  1.37it/s, val48.0 total0.0664 dsc0.8897 ce0.2560 constrain0.0032  (0.0641)]"
     ]
    },
    {
     "name": "stdout",
     "output_type": "stream",
     "text": [
      "this is the best so far tensor(0.0664, device='cuda:0', dtype=torch.float64)\n"
     ]
    },
    {
     "name": "stderr",
     "output_type": "stream",
     "text": [
      "100%|████████████████| 25/25 [00:56<00:00,  2.25s/it, val48.0 total0.0664 dsc0.8897 ce0.2560 constrain0.0032  (0.0641)]\n",
      "100%|████████████| 128/128 [03:11<00:00,  1.50s/it, train49.0 total0.0677 dsc0.8864 ce0.2606 constrain0.0034  (0.0683)]\n",
      "100%|████████████████| 25/25 [00:55<00:00,  1.29it/s, val49.0 total0.0650 dsc0.8804 ce0.2483 constrain0.0039  (0.0702)]"
     ]
    },
    {
     "name": "stdout",
     "output_type": "stream",
     "text": [
      "this is the best so far tensor(0.0650, device='cuda:0', dtype=torch.float64)\n"
     ]
    },
    {
     "name": "stderr",
     "output_type": "stream",
     "text": [
      "100%|████████████████| 25/25 [00:56<00:00,  2.26s/it, val49.0 total0.0650 dsc0.8804 ce0.2483 constrain0.0039  (0.0702)]\n",
      "4005it [00:02, 1340.51it/s]\n",
      "4005it [00:00, 7586.18it/s]\n",
      "100%|███████████| 128/128 [03:11<00:00,  1.50s/it, train0.0 total16.3340 dsc0.8702 ce0.7969 constrain18.0604  (1.9486)]\n",
      "100%|█████████████████| 25/25 [00:56<00:00,  1.10it/s, val0.0 total2.4080 dsc0.8758 ce0.5000 constrain2.6200  (2.7093)]"
     ]
    },
    {
     "name": "stdout",
     "output_type": "stream",
     "text": [
      "this is the best so far tensor(2.4080, device='cuda:0', dtype=torch.float64)\n"
     ]
    },
    {
     "name": "stderr",
     "output_type": "stream",
     "text": [
      "100%|█████████████████| 25/25 [00:56<00:00,  2.28s/it, val0.0 total2.4080 dsc0.8758 ce0.5000 constrain2.6200  (2.7093)]\n",
      "100%|█████████████| 128/128 [03:11<00:00,  1.50s/it, train1.0 total0.5825 dsc0.8693 ce0.4053 constrain0.6022  (0.2170)]\n",
      "100%|█████████████████| 25/25 [00:55<00:00,  1.15it/s, val1.0 total0.3287 dsc0.8804 ce0.3455 constrain0.3268  (0.1951)]"
     ]
    },
    {
     "name": "stdout",
     "output_type": "stream",
     "text": [
      "this is the best so far tensor(0.3287, device='cuda:0', dtype=torch.float64)\n"
     ]
    },
    {
     "name": "stderr",
     "output_type": "stream",
     "text": [
      "100%|█████████████████| 25/25 [00:56<00:00,  2.27s/it, val1.0 total0.3287 dsc0.8804 ce0.3455 constrain0.3268  (0.1951)]\n",
      "100%|█████████████| 128/128 [03:29<00:00,  1.63s/it, train2.0 total0.1640 dsc0.8820 ce0.3304 constrain0.1455  (0.0986)]\n",
      "100%|█████████████████| 25/25 [00:56<00:00,  1.21s/it, val2.0 total0.1550 dsc0.8890 ce0.3109 constrain0.1376  (0.0872)]"
     ]
    },
    {
     "name": "stdout",
     "output_type": "stream",
     "text": [
      "this is the best so far tensor(0.1550, device='cuda:0', dtype=torch.float64)\n"
     ]
    },
    {
     "name": "stderr",
     "output_type": "stream",
     "text": [
      "100%|█████████████████| 25/25 [00:57<00:00,  2.29s/it, val2.0 total0.1550 dsc0.8890 ce0.3109 constrain0.1376  (0.0872)]\n",
      "100%|█████████████| 128/128 [03:36<00:00,  1.69s/it, train3.0 total0.0946 dsc0.8920 ce0.3058 constrain0.0711  (0.0724)]\n",
      "100%|█████████████████| 25/25 [00:56<00:00,  1.12s/it, val3.0 total0.0943 dsc0.9013 ce0.2920 constrain0.0723  (0.0660)]"
     ]
    },
    {
     "name": "stdout",
     "output_type": "stream",
     "text": [
      "this is the best so far tensor(0.0943, device='cuda:0', dtype=torch.float64)\n"
     ]
    },
    {
     "name": "stderr",
     "output_type": "stream",
     "text": [
      "100%|█████████████████| 25/25 [00:56<00:00,  2.28s/it, val3.0 total0.0943 dsc0.9013 ce0.2920 constrain0.0723  (0.0660)]\n",
      "100%|█████████████| 128/128 [03:35<00:00,  1.68s/it, train4.0 total0.0698 dsc0.9059 ce0.2937 constrain0.0449  (0.0859)]\n",
      "100%|█████████████████| 25/25 [00:55<00:00,  1.28it/s, val4.0 total0.0440 dsc0.9136 ce0.2857 constrain0.0171  (0.0533)]"
     ]
    },
    {
     "name": "stdout",
     "output_type": "stream",
     "text": [
      "this is the best so far tensor(0.0440, device='cuda:0', dtype=torch.float64)\n"
     ]
    },
    {
     "name": "stderr",
     "output_type": "stream",
     "text": [
      "100%|█████████████████| 25/25 [00:56<00:00,  2.24s/it, val4.0 total0.0440 dsc0.9136 ce0.2857 constrain0.0171  (0.0533)]\n",
      "100%|█████████████| 128/128 [03:34<00:00,  1.68s/it, train5.0 total0.0452 dsc0.9155 ce0.2928 constrain0.0177  (0.0388)]\n",
      "100%|█████████████████| 25/25 [00:56<00:00,  2.28s/it, val5.0 total0.0464 dsc0.9201 ce0.2863 constrain0.0197  (0.0365)]\n",
      "100%|█████████████| 128/128 [03:34<00:00,  1.68s/it, train6.0 total0.0401 dsc0.9215 ce0.2945 constrain0.0118  (0.0380)]\n",
      "100%|█████████████████| 25/25 [00:56<00:00,  1.01s/it, val6.0 total0.0386 dsc0.9252 ce0.2881 constrain0.0109  (0.0323)]"
     ]
    },
    {
     "name": "stdout",
     "output_type": "stream",
     "text": [
      "this is the best so far tensor(0.0386, device='cuda:0', dtype=torch.float64)\n"
     ]
    },
    {
     "name": "stderr",
     "output_type": "stream",
     "text": [
      "100%|█████████████████| 25/25 [00:56<00:00,  2.27s/it, val6.0 total0.0386 dsc0.9252 ce0.2881 constrain0.0109  (0.0323)]\n",
      "100%|█████████████| 128/128 [03:36<00:00,  1.69s/it, train7.0 total0.0395 dsc0.9268 ce0.2971 constrain0.0108  (0.0356)]\n",
      "100%|█████████████████| 25/25 [00:57<00:00,  2.31s/it, val7.0 total0.0396 dsc0.9307 ce0.2911 constrain0.0117  (0.0368)]\n",
      "100%|█████████████| 128/128 [03:35<00:00,  1.68s/it, train8.0 total0.0374 dsc0.9318 ce0.3010 constrain0.0082  (0.0375)]\n",
      "100%|█████████████████| 25/25 [00:55<00:00,  1.29it/s, val8.0 total0.0346 dsc0.9347 ce0.2951 constrain0.0057  (0.0509)]"
     ]
    },
    {
     "name": "stdout",
     "output_type": "stream",
     "text": [
      "this is the best so far tensor(0.0346, device='cuda:0', dtype=torch.float64)\n"
     ]
    },
    {
     "name": "stderr",
     "output_type": "stream",
     "text": [
      "100%|█████████████████| 25/25 [00:56<00:00,  2.26s/it, val8.0 total0.0346 dsc0.9347 ce0.2951 constrain0.0057  (0.0509)]\n",
      "100%|█████████████| 128/128 [03:35<00:00,  1.68s/it, train9.0 total0.0365 dsc0.9355 ce0.3042 constrain0.0067  (0.0714)]\n",
      "100%|█████████████████| 25/25 [00:54<00:00,  1.27it/s, val9.0 total0.0345 dsc0.9382 ce0.2972 constrain0.0053  (0.0357)]"
     ]
    },
    {
     "name": "stdout",
     "output_type": "stream",
     "text": [
      "this is the best so far tensor(0.0345, device='cuda:0', dtype=torch.float64)\n"
     ]
    },
    {
     "name": "stderr",
     "output_type": "stream",
     "text": [
      "100%|█████████████████| 25/25 [00:55<00:00,  2.22s/it, val9.0 total0.0345 dsc0.9382 ce0.2972 constrain0.0053  (0.0357)]\n",
      "100%|████████████| 128/128 [03:34<00:00,  1.68s/it, train10.0 total0.0352 dsc0.9383 ce0.3070 constrain0.0050  (0.0368)]\n",
      "100%|████████████████| 25/25 [00:55<00:00,  1.19it/s, val10.0 total0.0344 dsc0.9401 ce0.2999 constrain0.0049  (0.0355)]"
     ]
    },
    {
     "name": "stdout",
     "output_type": "stream",
     "text": [
      "this is the best so far tensor(0.0344, device='cuda:0', dtype=torch.float64)\n"
     ]
    },
    {
     "name": "stderr",
     "output_type": "stream",
     "text": [
      "100%|████████████████| 25/25 [00:56<00:00,  2.26s/it, val10.0 total0.0344 dsc0.9401 ce0.2999 constrain0.0049  (0.0355)]\n",
      "100%|████████████| 128/128 [03:34<00:00,  1.68s/it, train11.0 total0.0348 dsc0.9403 ce0.3090 constrain0.0044  (0.0323)]\n",
      "100%|████████████████| 25/25 [00:55<00:00,  1.30it/s, val11.0 total0.0327 dsc0.9415 ce0.3008 constrain0.0029  (0.0335)]"
     ]
    },
    {
     "name": "stdout",
     "output_type": "stream",
     "text": [
      "this is the best so far tensor(0.0327, device='cuda:0', dtype=torch.float64)\n"
     ]
    },
    {
     "name": "stderr",
     "output_type": "stream",
     "text": [
      "100%|████████████████| 25/25 [00:55<00:00,  2.23s/it, val11.0 total0.0327 dsc0.9415 ce0.3008 constrain0.0029  (0.0335)]\n",
      "100%|████████████| 128/128 [03:35<00:00,  1.68s/it, train12.0 total0.0349 dsc0.9418 ce0.3109 constrain0.0043  (0.0376)]\n",
      "100%|████████████████| 25/25 [00:57<00:00,  2.30s/it, val12.0 total0.0330 dsc0.9430 ce0.3034 constrain0.0030  (0.0348)]\n",
      "100%|████████████| 128/128 [03:36<00:00,  1.69s/it, train13.0 total0.0343 dsc0.9426 ce0.3118 constrain0.0035  (0.0320)]\n",
      "100%|████████████████| 25/25 [00:56<00:00,  1.06it/s, val13.0 total0.0325 dsc0.9437 ce0.3017 constrain0.0026  (0.0329)]"
     ]
    },
    {
     "name": "stdout",
     "output_type": "stream",
     "text": [
      "this is the best so far tensor(0.0325, device='cuda:0', dtype=torch.float64)\n"
     ]
    },
    {
     "name": "stderr",
     "output_type": "stream",
     "text": [
      "100%|████████████████| 25/25 [00:57<00:00,  2.30s/it, val13.0 total0.0325 dsc0.9437 ce0.3017 constrain0.0026  (0.0329)]\n",
      "100%|████████████| 128/128 [03:37<00:00,  1.70s/it, train14.0 total0.0343 dsc0.9432 ce0.3124 constrain0.0034  (0.0295)]\n",
      "100%|████████████████| 25/25 [00:56<00:00,  2.25s/it, val14.0 total0.0326 dsc0.9440 ce0.3048 constrain0.0023  (0.0300)]\n",
      "100%|████████████| 128/128 [03:34<00:00,  1.67s/it, train15.0 total0.0342 dsc0.9434 ce0.3125 constrain0.0033  (0.0422)]\n",
      "100%|████████████████| 25/25 [00:55<00:00,  2.21s/it, val15.0 total0.0328 dsc0.9443 ce0.3032 constrain0.0028  (0.0292)]\n",
      "100%|████████████| 128/128 [03:34<00:00,  1.68s/it, train16.0 total0.0340 dsc0.9436 ce0.3129 constrain0.0030  (0.0333)]\n",
      "100%|████████████████| 25/25 [00:55<00:00,  2.22s/it, val16.0 total0.0338 dsc0.9442 ce0.3047 constrain0.0037  (0.0308)]\n",
      "100%|████████████| 128/128 [03:33<00:00,  1.67s/it, train17.0 total0.0336 dsc0.9431 ce0.3121 constrain0.0026  (0.0333)]\n",
      "100%|████████████████| 25/25 [00:54<00:00,  1.36it/s, val17.0 total0.0324 dsc0.9434 ce0.3041 constrain0.0022  (0.0280)]"
     ]
    },
    {
     "name": "stdout",
     "output_type": "stream",
     "text": [
      "this is the best so far tensor(0.0324, device='cuda:0', dtype=torch.float64)\n"
     ]
    },
    {
     "name": "stderr",
     "output_type": "stream",
     "text": [
      "100%|████████████████| 25/25 [00:55<00:00,  2.21s/it, val17.0 total0.0324 dsc0.9434 ce0.3041 constrain0.0022  (0.0280)]\n",
      "100%|████████████| 128/128 [03:34<00:00,  1.67s/it, train18.0 total0.0340 dsc0.9431 ce0.3120 constrain0.0031  (0.0346)]\n",
      "100%|████████████████| 25/25 [00:54<00:00,  2.19s/it, val18.0 total0.0351 dsc0.9438 ce0.3034 constrain0.0052  (0.0334)]\n",
      "100%|████████████| 128/128 [03:33<00:00,  1.67s/it, train19.0 total0.0338 dsc0.9431 ce0.3120 constrain0.0029  (0.0364)]\n",
      "100%|████████████████| 25/25 [00:55<00:00,  2.21s/it, val19.0 total0.0332 dsc0.9439 ce0.3029 constrain0.0032  (0.0319)]\n",
      "100%|████████████| 128/128 [03:33<00:00,  1.67s/it, train20.0 total0.0340 dsc0.9435 ce0.3127 constrain0.0030  (0.0306)]\n",
      "100%|████████████████| 25/25 [00:56<00:00,  2.25s/it, val20.0 total0.0326 dsc0.9440 ce0.3036 constrain0.0024  (0.0277)]\n",
      "100%|████████████| 128/128 [03:33<00:00,  1.67s/it, train21.0 total0.0336 dsc0.9428 ce0.3114 constrain0.0027  (0.0317)]\n",
      "100%|████████████████| 25/25 [00:56<00:00,  2.27s/it, val21.0 total0.0332 dsc0.9435 ce0.3027 constrain0.0033  (0.0283)]\n",
      "100%|████████████| 128/128 [03:34<00:00,  1.67s/it, train22.0 total0.0334 dsc0.9427 ce0.3112 constrain0.0025  (0.0342)]\n",
      "100%|████████████████| 25/25 [00:55<00:00,  2.22s/it, val22.0 total0.0341 dsc0.9429 ce0.3023 constrain0.0043  (0.0318)]\n",
      "100%|████████████| 128/128 [03:34<00:00,  1.67s/it, train23.0 total0.0336 dsc0.9421 ce0.3106 constrain0.0028  (0.0343)]\n",
      "100%|████████████████| 25/25 [01:00<00:00,  2.41s/it, val23.0 total0.0334 dsc0.9427 ce0.3023 constrain0.0035  (0.0393)]\n",
      "100%|████████████| 128/128 [03:35<00:00,  1.68s/it, train24.0 total0.0334 dsc0.9418 ce0.3106 constrain0.0026  (0.0334)]\n",
      "100%|████████████████| 25/25 [00:57<00:00,  1.05s/it, val24.0 total0.0319 dsc0.9423 ce0.3005 constrain0.0021  (0.0318)]"
     ]
    },
    {
     "name": "stdout",
     "output_type": "stream",
     "text": [
      "this is the best so far tensor(0.0319, device='cuda:0', dtype=torch.float64)\n"
     ]
    },
    {
     "name": "stderr",
     "output_type": "stream",
     "text": [
      "100%|████████████████| 25/25 [00:57<00:00,  2.32s/it, val24.0 total0.0319 dsc0.9423 ce0.3005 constrain0.0021  (0.0318)]\n",
      "100%|████████████| 128/128 [03:35<00:00,  1.69s/it, train25.0 total0.0334 dsc0.9412 ce0.3097 constrain0.0027  (0.0316)]\n",
      "100%|████████████████| 25/25 [00:56<00:00,  1.12it/s, val25.0 total0.0319 dsc0.9425 ce0.3028 constrain0.0018  (0.0332)]"
     ]
    },
    {
     "name": "stdout",
     "output_type": "stream",
     "text": [
      "this is the best so far tensor(0.0319, device='cuda:0', dtype=torch.float64)\n"
     ]
    },
    {
     "name": "stderr",
     "output_type": "stream",
     "text": [
      "100%|████████████████| 25/25 [00:57<00:00,  2.31s/it, val25.0 total0.0319 dsc0.9425 ce0.3028 constrain0.0018  (0.0332)]\n",
      "100%|████████████| 128/128 [03:35<00:00,  1.68s/it, train26.0 total0.0331 dsc0.9411 ce0.3095 constrain0.0024  (0.0310)]\n",
      "100%|████████████████| 25/25 [00:57<00:00,  2.31s/it, val26.0 total0.0338 dsc0.9409 ce0.2995 constrain0.0043  (0.0292)]\n",
      "100%|████████████| 128/128 [03:18<00:00,  1.55s/it, train27.0 total0.0336 dsc0.9411 ce0.3094 constrain0.0030  (0.0334)]\n",
      "100%|████████████████| 25/25 [00:55<00:00,  2.23s/it, val27.0 total0.0323 dsc0.9421 ce0.3023 constrain0.0023  (0.0333)]\n",
      "100%|████████████| 128/128 [03:10<00:00,  1.49s/it, train28.0 total0.0334 dsc0.9410 ce0.3093 constrain0.0028  (0.0319)]\n",
      "100%|████████████████| 25/25 [00:56<00:00,  2.27s/it, val28.0 total0.0319 dsc0.9428 ce0.3033 constrain0.0018  (0.0327)]\n",
      "100%|████████████| 128/128 [03:11<00:00,  1.50s/it, train29.0 total0.0349 dsc0.9425 ce0.3112 constrain0.0042  (0.0329)]\n",
      "100%|████████████████| 25/25 [00:55<00:00,  2.24s/it, val29.0 total0.0336 dsc0.9499 ce0.3107 constrain0.0028  (0.0343)]\n",
      "100%|████████████| 128/128 [03:12<00:00,  1.50s/it, train30.0 total0.0336 dsc0.9466 ce0.3165 constrain0.0022  (0.0301)]\n",
      "100%|████████████████| 25/25 [00:58<00:00,  2.32s/it, val30.0 total0.0325 dsc0.9454 ce0.3066 constrain0.0020  (0.0318)]\n",
      "100%|████████████| 128/128 [03:12<00:00,  1.50s/it, train31.0 total0.0333 dsc0.9430 ce0.3120 constrain0.0023  (0.0338)]\n",
      "100%|████████████████| 25/25 [00:56<00:00,  2.26s/it, val31.0 total0.0327 dsc0.9430 ce0.3015 constrain0.0028  (0.0305)]\n",
      "100%|████████████| 128/128 [03:13<00:00,  1.51s/it, train32.0 total0.0330 dsc0.9405 ce0.3088 constrain0.0023  (0.0343)]\n",
      "100%|████████████████| 25/25 [00:56<00:00,  1.11s/it, val32.0 total0.0316 dsc0.9409 ce0.2994 constrain0.0018  (0.0321)]"
     ]
    },
    {
     "name": "stdout",
     "output_type": "stream",
     "text": [
      "this is the best so far tensor(0.0316, device='cuda:0', dtype=torch.float64)\n"
     ]
    },
    {
     "name": "stderr",
     "output_type": "stream",
     "text": [
      "100%|████████████████| 25/25 [00:57<00:00,  2.30s/it, val32.0 total0.0316 dsc0.9409 ce0.2994 constrain0.0018  (0.0321)]\n",
      "100%|████████████| 128/128 [03:13<00:00,  1.51s/it, train33.0 total0.0336 dsc0.9414 ce0.3099 constrain0.0029  (0.0336)]\n",
      "100%|████████████████| 25/25 [00:55<00:00,  2.23s/it, val33.0 total0.0316 dsc0.9424 ce0.3019 constrain0.0016  (0.0324)]\n",
      "100%|████████████| 128/128 [03:14<00:00,  1.52s/it, train34.0 total0.0333 dsc0.9417 ce0.3099 constrain0.0025  (0.0313)]\n",
      "100%|████████████████| 25/25 [00:56<00:00,  2.26s/it, val34.0 total0.0316 dsc0.9411 ce0.3005 constrain0.0017  (0.0319)]\n",
      "100%|████████████| 128/128 [03:12<00:00,  1.50s/it, train35.0 total0.0330 dsc0.9400 ce0.3080 constrain0.0025  (0.0316)]\n",
      "100%|████████████████| 25/25 [00:56<00:00,  2.26s/it, val35.0 total0.0322 dsc0.9403 ce0.2996 constrain0.0024  (0.0292)]\n",
      "100%|████████████| 128/128 [03:13<00:00,  1.51s/it, train36.0 total0.0327 dsc0.9385 ce0.3064 constrain0.0023  (0.0328)]\n",
      "100%|████████████████| 25/25 [00:57<00:00,  1.36it/s, val36.0 total0.0312 dsc0.9382 ce0.2959 constrain0.0018  (0.0309)]"
     ]
    },
    {
     "name": "stdout",
     "output_type": "stream",
     "text": [
      "this is the best so far tensor(0.0312, device='cuda:0', dtype=torch.float64)\n"
     ]
    },
    {
     "name": "stderr",
     "output_type": "stream",
     "text": [
      "100%|████████████████| 25/25 [00:57<00:00,  2.32s/it, val36.0 total0.0312 dsc0.9382 ce0.2959 constrain0.0018  (0.0309)]\n",
      "100%|████████████| 128/128 [03:11<00:00,  1.50s/it, train37.0 total0.0332 dsc0.9384 ce0.3061 constrain0.0029  (0.0303)]\n",
      "100%|████████████████| 25/25 [00:57<00:00,  2.32s/it, val37.0 total0.0319 dsc0.9417 ce0.3003 constrain0.0021  (0.0294)]\n",
      "100%|████████████| 128/128 [03:14<00:00,  1.52s/it, train38.0 total0.0328 dsc0.9393 ce0.3073 constrain0.0023  (0.0342)]\n",
      "100%|████████████████| 25/25 [00:57<00:00,  2.32s/it, val38.0 total0.0317 dsc0.9393 ce0.2990 constrain0.0020  (0.0342)]\n",
      "100%|████████████| 128/128 [03:13<00:00,  1.51s/it, train39.0 total0.0324 dsc0.9370 ce0.3048 constrain0.0022  (0.0319)]\n",
      "100%|████████████████| 25/25 [00:56<00:00,  2.27s/it, val39.0 total0.0314 dsc0.9368 ce0.2967 constrain0.0019  (0.0313)]\n",
      "100%|████████████| 128/128 [03:11<00:00,  1.50s/it, train40.0 total0.0324 dsc0.9359 ce0.3040 constrain0.0023  (0.0324)]\n",
      "100%|████████████████| 25/25 [00:57<00:00,  2.31s/it, val40.0 total0.0315 dsc0.9362 ce0.2958 constrain0.0021  (0.0297)]\n",
      "100%|████████████| 128/128 [03:35<00:00,  1.68s/it, train41.0 total0.0325 dsc0.9362 ce0.3041 constrain0.0023  (0.0293)]\n",
      "100%|████████████████| 25/25 [00:56<00:00,  2.27s/it, val41.0 total0.0318 dsc0.9364 ce0.2953 constrain0.0026  (0.0266)]\n",
      "100%|████████████| 128/128 [03:35<00:00,  1.68s/it, train42.0 total0.0324 dsc0.9356 ce0.3035 constrain0.0023  (0.0387)]\n",
      "100%|████████████████| 25/25 [00:55<00:00,  1.12s/it, val42.0 total0.0309 dsc0.9355 ce0.2950 constrain0.0016  (0.0305)]"
     ]
    },
    {
     "name": "stdout",
     "output_type": "stream",
     "text": [
      "this is the best so far tensor(0.0309, device='cuda:0', dtype=torch.float64)\n"
     ]
    },
    {
     "name": "stderr",
     "output_type": "stream",
     "text": [
      "100%|████████████████| 25/25 [00:56<00:00,  2.26s/it, val42.0 total0.0309 dsc0.9355 ce0.2950 constrain0.0016  (0.0305)]\n",
      "100%|████████████| 128/128 [03:34<00:00,  1.68s/it, train43.0 total0.0332 dsc0.9388 ce0.3071 constrain0.0028  (0.0364)]\n",
      "100%|████████████████| 25/25 [00:56<00:00,  2.27s/it, val43.0 total0.0310 dsc0.9391 ce0.2978 constrain0.0014  (0.0307)]\n",
      "100%|████████████| 128/128 [03:34<00:00,  1.68s/it, train44.0 total0.0322 dsc0.9365 ce0.3045 constrain0.0020  (0.0305)]\n",
      "100%|████████████████| 25/25 [00:57<00:00,  1.16it/s, val44.0 total0.0309 dsc0.9345 ce0.2945 constrain0.0016  (0.0329)]"
     ]
    },
    {
     "name": "stdout",
     "output_type": "stream",
     "text": [
      "this is the best so far tensor(0.0309, device='cuda:0', dtype=torch.float64)\n"
     ]
    },
    {
     "name": "stderr",
     "output_type": "stream",
     "text": [
      "100%|████████████████| 25/25 [00:57<00:00,  2.31s/it, val44.0 total0.0309 dsc0.9345 ce0.2945 constrain0.0016  (0.0329)]\n",
      "100%|████████████| 128/128 [03:35<00:00,  1.68s/it, train45.0 total0.0319 dsc0.9332 ce0.3014 constrain0.0019  (0.0312)]\n",
      "100%|████████████████| 25/25 [00:58<00:00,  2.32s/it, val45.0 total0.0310 dsc0.9329 ce0.2926 constrain0.0020  (0.0322)]\n",
      "100%|████████████| 128/128 [03:36<00:00,  1.69s/it, train46.0 total0.0321 dsc0.9326 ce0.3007 constrain0.0022  (0.0290)]\n",
      "100%|████████████████| 25/25 [00:55<00:00,  1.36it/s, val46.0 total0.0309 dsc0.9338 ce0.2933 constrain0.0017  (0.0324)]"
     ]
    },
    {
     "name": "stdout",
     "output_type": "stream",
     "text": [
      "this is the best so far tensor(0.0309, device='cuda:0', dtype=torch.float64)\n"
     ]
    },
    {
     "name": "stderr",
     "output_type": "stream",
     "text": [
      "100%|████████████████| 25/25 [00:55<00:00,  2.23s/it, val46.0 total0.0309 dsc0.9338 ce0.2933 constrain0.0017  (0.0324)]\n",
      "100%|████████████| 128/128 [03:34<00:00,  1.67s/it, train47.0 total0.0318 dsc0.9321 ce0.3003 constrain0.0019  (0.0400)]\n",
      "100%|████████████████| 25/25 [00:55<00:00,  1.32it/s, val47.0 total0.0305 dsc0.9324 ce0.2919 constrain0.0015  (0.0273)]"
     ]
    },
    {
     "name": "stdout",
     "output_type": "stream",
     "text": [
      "this is the best so far tensor(0.0305, device='cuda:0', dtype=torch.float64)\n"
     ]
    },
    {
     "name": "stderr",
     "output_type": "stream",
     "text": [
      "100%|████████████████| 25/25 [00:56<00:00,  2.27s/it, val47.0 total0.0305 dsc0.9324 ce0.2919 constrain0.0015  (0.0273)]\n",
      "100%|████████████| 128/128 [03:35<00:00,  1.69s/it, train48.0 total0.0325 dsc0.9350 ce0.3031 constrain0.0025  (0.0324)]\n",
      "100%|████████████████| 25/25 [00:57<00:00,  2.28s/it, val48.0 total0.0322 dsc0.9351 ce0.2945 constrain0.0031  (0.0268)]\n",
      "100%|████████████| 128/128 [03:34<00:00,  1.68s/it, train49.0 total0.0313 dsc0.9302 ce0.2990 constrain0.0016  (0.0328)]\n",
      "100%|████████████████| 25/25 [00:55<00:00,  1.15it/s, val49.0 total0.0302 dsc0.9305 ce0.2910 constrain0.0012  (0.0286)]"
     ]
    },
    {
     "name": "stdout",
     "output_type": "stream",
     "text": [
      "this is the best so far tensor(0.0302, device='cuda:0', dtype=torch.float64)\n"
     ]
    },
    {
     "name": "stderr",
     "output_type": "stream",
     "text": [
      "100%|████████████████| 25/25 [00:56<00:00,  2.26s/it, val49.0 total0.0302 dsc0.9305 ce0.2910 constrain0.0012  (0.0286)]\n",
      "4005it [00:02, 1438.18it/s]\n",
      "4005it [00:00, 7076.48it/s]\n",
      "100%|███████████| 128/128 [03:34<00:00,  1.68s/it, train0.0 total15.2308 dsc0.8529 ce0.7042 constrain15.2308  (0.1573)]\n",
      "100%|█████████████████| 25/25 [00:55<00:00,  1.18it/s, val0.0 total0.1361 dsc0.8572 ce0.6846 constrain0.1361  (0.1146)]"
     ]
    },
    {
     "name": "stdout",
     "output_type": "stream",
     "text": [
      "this is the best so far tensor(0.1361, device='cuda:0', dtype=torch.float64)\n"
     ]
    },
    {
     "name": "stderr",
     "output_type": "stream",
     "text": [
      "100%|█████████████████| 25/25 [00:56<00:00,  2.25s/it, val0.0 total0.1361 dsc0.8572 ce0.6846 constrain0.1361  (0.1146)]\n",
      "100%|█████████████| 128/128 [03:35<00:00,  1.69s/it, train1.0 total0.0905 dsc0.8528 ce0.6852 constrain0.0905  (0.0142)]\n",
      "100%|█████████████████| 25/25 [00:55<00:00,  1.26it/s, val1.0 total0.0142 dsc0.8569 ce0.6851 constrain0.0142  (0.0161)]"
     ]
    },
    {
     "name": "stdout",
     "output_type": "stream",
     "text": [
      "this is the best so far tensor(0.0142, device='cuda:0', dtype=torch.float64)\n"
     ]
    },
    {
     "name": "stderr",
     "output_type": "stream",
     "text": [
      "100%|█████████████████| 25/25 [00:56<00:00,  2.25s/it, val1.0 total0.0142 dsc0.8569 ce0.6851 constrain0.0142  (0.0161)]\n",
      "100%|█████████████| 128/128 [03:33<00:00,  1.67s/it, train2.0 total0.0796 dsc0.8527 ce0.6860 constrain0.0796  (0.0333)]\n",
      "100%|█████████████████| 25/25 [00:55<00:00,  2.24s/it, val2.0 total0.0240 dsc0.8566 ce0.6863 constrain0.0240  (0.0235)]\n",
      "100%|█████████████| 128/128 [03:33<00:00,  1.67s/it, train3.0 total0.6539 dsc0.8528 ce0.6792 constrain0.6539  (0.0254)]\n",
      "100%|█████████████████| 25/25 [00:55<00:00,  1.05it/s, val3.0 total0.0123 dsc0.8570 ce0.6685 constrain0.0123  (0.0149)]"
     ]
    },
    {
     "name": "stdout",
     "output_type": "stream",
     "text": [
      "this is the best so far tensor(0.0123, device='cuda:0', dtype=torch.float64)\n"
     ]
    },
    {
     "name": "stderr",
     "output_type": "stream",
     "text": [
      "100%|█████████████████| 25/25 [00:55<00:00,  2.24s/it, val3.0 total0.0123 dsc0.8570 ce0.6685 constrain0.0123  (0.0149)]\n",
      "100%|█████████████| 128/128 [03:34<00:00,  1.67s/it, train4.0 total0.0061 dsc0.8533 ce0.6702 constrain0.0061  (0.0031)]\n",
      "100%|█████████████████| 25/25 [00:54<00:00,  1.28it/s, val4.0 total0.0034 dsc0.8571 ce0.6711 constrain0.0034  (0.0030)]"
     ]
    },
    {
     "name": "stdout",
     "output_type": "stream",
     "text": [
      "this is the best so far tensor(0.0034, device='cuda:0', dtype=torch.float64)\n"
     ]
    },
    {
     "name": "stderr",
     "output_type": "stream",
     "text": [
      "100%|█████████████████| 25/25 [00:55<00:00,  2.21s/it, val4.0 total0.0034 dsc0.8571 ce0.6711 constrain0.0034  (0.0030)]\n",
      "100%|█████████████| 128/128 [03:35<00:00,  1.68s/it, train5.0 total0.0042 dsc0.8531 ce0.6719 constrain0.0042  (0.0234)]\n",
      "100%|█████████████████| 25/25 [00:55<00:00,  1.10it/s, val5.0 total0.0030 dsc0.8575 ce0.6723 constrain0.0030  (0.0025)]"
     ]
    },
    {
     "name": "stdout",
     "output_type": "stream",
     "text": [
      "this is the best so far tensor(0.0030, device='cuda:0', dtype=torch.float64)\n"
     ]
    },
    {
     "name": "stderr",
     "output_type": "stream",
     "text": [
      "100%|█████████████████| 25/25 [00:55<00:00,  2.23s/it, val5.0 total0.0030 dsc0.8575 ce0.6723 constrain0.0030  (0.0025)]\n",
      "100%|█████████████| 128/128 [03:34<00:00,  1.67s/it, train6.0 total0.0039 dsc0.8531 ce0.6730 constrain0.0039  (0.0016)]\n",
      "100%|█████████████████| 25/25 [00:55<00:00,  1.34it/s, val6.0 total0.0019 dsc0.8572 ce0.6730 constrain0.0019  (0.0016)]"
     ]
    },
    {
     "name": "stdout",
     "output_type": "stream",
     "text": [
      "this is the best so far tensor(0.0019, device='cuda:0', dtype=torch.float64)\n"
     ]
    },
    {
     "name": "stderr",
     "output_type": "stream",
     "text": [
      "100%|█████████████████| 25/25 [00:56<00:00,  2.25s/it, val6.0 total0.0019 dsc0.8572 ce0.6730 constrain0.0019  (0.0016)]\n",
      "100%|█████████████| 128/128 [03:33<00:00,  1.67s/it, train7.0 total0.0019 dsc0.8532 ce0.6735 constrain0.0019  (0.0011)]\n",
      "100%|█████████████████| 25/25 [00:55<00:00,  1.25it/s, val7.0 total0.0014 dsc0.8573 ce0.6736 constrain0.0014  (0.0012)]"
     ]
    },
    {
     "name": "stdout",
     "output_type": "stream",
     "text": [
      "this is the best so far tensor(0.0014, device='cuda:0', dtype=torch.float64)\n"
     ]
    },
    {
     "name": "stderr",
     "output_type": "stream",
     "text": [
      "100%|█████████████████| 25/25 [00:56<00:00,  2.24s/it, val7.0 total0.0014 dsc0.8573 ce0.6736 constrain0.0014  (0.0012)]\n",
      "100%|█████████████| 128/128 [03:33<00:00,  1.67s/it, train8.0 total0.0014 dsc0.8532 ce0.6739 constrain0.0014  (0.0041)]\n",
      "100%|█████████████████| 25/25 [00:56<00:00,  2.26s/it, val8.0 total0.0015 dsc0.8567 ce0.6738 constrain0.0015  (0.0013)]\n",
      "100%|█████████████| 128/128 [03:34<00:00,  1.68s/it, train9.0 total0.1770 dsc0.8531 ce0.6755 constrain0.1770  (0.1569)]\n",
      "100%|█████████████████| 25/25 [00:55<00:00,  2.21s/it, val9.0 total0.4967 dsc0.8581 ce0.6892 constrain0.4967  (0.5014)]\n",
      "100%|████████████| 128/128 [03:34<00:00,  1.67s/it, train10.0 total0.3346 dsc0.8533 ce0.6643 constrain0.3346  (0.0041)]\n",
      "100%|████████████████| 25/25 [00:55<00:00,  2.24s/it, val10.0 total0.0020 dsc0.8578 ce0.6622 constrain0.0020  (0.0021)]\n",
      "100%|████████████| 128/128 [03:34<00:00,  1.68s/it, train11.0 total0.0012 dsc0.8534 ce0.6628 constrain0.0012  (0.0007)]\n",
      "100%|████████████████| 25/25 [00:54<00:00,  1.25it/s, val11.0 total0.0007 dsc0.8575 ce0.6632 constrain0.0007  (0.0007)]"
     ]
    },
    {
     "name": "stdout",
     "output_type": "stream",
     "text": [
      "this is the best so far tensor(0.0007, device='cuda:0', dtype=torch.float64)\n"
     ]
    },
    {
     "name": "stderr",
     "output_type": "stream",
     "text": [
      "100%|████████████████| 25/25 [00:55<00:00,  2.23s/it, val11.0 total0.0007 dsc0.8575 ce0.6632 constrain0.0007  (0.0007)]\n",
      "100%|████████████| 128/128 [03:33<00:00,  1.67s/it, train12.0 total0.0007 dsc0.8535 ce0.6636 constrain0.0007  (0.0005)]\n",
      "100%|████████████████| 25/25 [00:55<00:00,  1.09it/s, val12.0 total0.0006 dsc0.8570 ce0.6635 constrain0.0006  (0.0006)]"
     ]
    },
    {
     "name": "stdout",
     "output_type": "stream",
     "text": [
      "this is the best so far tensor(0.0006, device='cuda:0', dtype=torch.float64)\n"
     ]
    },
    {
     "name": "stderr",
     "output_type": "stream",
     "text": [
      "100%|████████████████| 25/25 [00:56<00:00,  2.24s/it, val12.0 total0.0006 dsc0.8570 ce0.6635 constrain0.0006  (0.0006)]\n",
      "100%|████████████| 128/128 [03:34<00:00,  1.67s/it, train13.0 total0.0005 dsc0.8535 ce0.6641 constrain0.0005  (0.0004)]\n",
      "100%|████████████████| 25/25 [00:55<00:00,  1.22it/s, val13.0 total0.0004 dsc0.8573 ce0.6640 constrain0.0004  (0.0004)]"
     ]
    },
    {
     "name": "stdout",
     "output_type": "stream",
     "text": [
      "this is the best so far tensor(0.0004, device='cuda:0', dtype=torch.float64)\n"
     ]
    },
    {
     "name": "stderr",
     "output_type": "stream",
     "text": [
      "100%|████████████████| 25/25 [00:55<00:00,  2.23s/it, val13.0 total0.0004 dsc0.8573 ce0.6640 constrain0.0004  (0.0004)]\n",
      "100%|████████████| 128/128 [03:34<00:00,  1.67s/it, train14.0 total0.0004 dsc0.8534 ce0.6644 constrain0.0004  (0.0004)]\n",
      "100%|████████████████| 25/25 [00:55<00:00,  2.24s/it, val14.0 total0.0005 dsc0.8574 ce0.6643 constrain0.0005  (0.0006)]\n",
      "100%|████████████| 128/128 [03:34<00:00,  1.67s/it, train15.0 total0.0004 dsc0.8534 ce0.6647 constrain0.0004  (0.0003)]\n",
      "100%|████████████████| 25/25 [00:57<00:00,  1.23it/s, val15.0 total0.0003 dsc0.8577 ce0.6647 constrain0.0003  (0.0003)]"
     ]
    },
    {
     "name": "stdout",
     "output_type": "stream",
     "text": [
      "this is the best so far tensor(0.0003, device='cuda:0', dtype=torch.float64)\n"
     ]
    },
    {
     "name": "stderr",
     "output_type": "stream",
     "text": [
      "100%|████████████████| 25/25 [00:58<00:00,  2.34s/it, val15.0 total0.0003 dsc0.8577 ce0.6647 constrain0.0003  (0.0003)]\n",
      "100%|████████████| 128/128 [03:35<00:00,  1.69s/it, train16.0 total0.0004 dsc0.8533 ce0.6650 constrain0.0004  (0.0003)]\n",
      "100%|████████████████| 25/25 [00:56<00:00,  2.27s/it, val16.0 total0.0006 dsc0.8578 ce0.6651 constrain0.0006  (0.0004)]\n",
      "100%|████████████| 128/128 [03:35<00:00,  1.68s/it, train17.0 total0.0003 dsc0.8534 ce0.6652 constrain0.0003  (0.0004)]\n",
      "100%|████████████████| 25/25 [00:56<00:00,  1.34it/s, val17.0 total0.0003 dsc0.8577 ce0.6651 constrain0.0003  (0.0002)]"
     ]
    },
    {
     "name": "stdout",
     "output_type": "stream",
     "text": [
      "this is the best so far tensor(0.0003, device='cuda:0', dtype=torch.float64)\n"
     ]
    },
    {
     "name": "stderr",
     "output_type": "stream",
     "text": [
      "100%|████████████████| 25/25 [00:56<00:00,  2.28s/it, val17.0 total0.0003 dsc0.8577 ce0.6651 constrain0.0003  (0.0002)]\n",
      "100%|████████████| 128/128 [03:35<00:00,  1.68s/it, train18.0 total0.0002 dsc0.8534 ce0.6655 constrain0.0002  (0.0002)]\n",
      "100%|████████████████| 25/25 [00:56<00:00,  1.22it/s, val18.0 total0.0003 dsc0.8573 ce0.6653 constrain0.0003  (0.0002)]"
     ]
    },
    {
     "name": "stdout",
     "output_type": "stream",
     "text": [
      "this is the best so far tensor(0.0003, device='cuda:0', dtype=torch.float64)\n"
     ]
    },
    {
     "name": "stderr",
     "output_type": "stream",
     "text": [
      "100%|████████████████| 25/25 [00:57<00:00,  2.30s/it, val18.0 total0.0003 dsc0.8573 ce0.6653 constrain0.0003  (0.0002)]\n",
      "100%|████████████| 128/128 [03:35<00:00,  1.68s/it, train19.0 total0.0002 dsc0.8534 ce0.6657 constrain0.0002  (0.0002)]\n",
      "100%|████████████████| 25/25 [00:55<00:00,  2.23s/it, val19.0 total0.0003 dsc0.8574 ce0.6657 constrain0.0003  (0.0003)]\n",
      "100%|████████████| 128/128 [03:34<00:00,  1.68s/it, train20.0 total0.0014 dsc0.8534 ce0.6659 constrain0.0014  (0.0003)]\n",
      "100%|████████████████| 25/25 [00:56<00:00,  2.24s/it, val20.0 total0.0003 dsc0.8573 ce0.6657 constrain0.0003  (0.0003)]\n",
      "100%|████████████| 128/128 [03:34<00:00,  1.68s/it, train21.0 total0.0003 dsc0.8533 ce0.6661 constrain0.0003  (0.0003)]\n",
      "100%|████████████████| 25/25 [00:55<00:00,  2.22s/it, val21.0 total0.0003 dsc0.8575 ce0.6661 constrain0.0003  (0.0002)]\n",
      "100%|████████████| 128/128 [03:34<00:00,  1.68s/it, train22.0 total0.0009 dsc0.8534 ce0.6663 constrain0.0009  (0.0007)]\n",
      "100%|████████████████| 25/25 [00:55<00:00,  2.24s/it, val22.0 total0.0015 dsc0.8571 ce0.6659 constrain0.0015  (0.0013)]\n",
      "100%|████████████| 128/128 [03:34<00:00,  1.67s/it, train23.0 total0.0085 dsc0.8533 ce0.6665 constrain0.0085  (0.0006)]\n",
      "100%|████████████████| 25/25 [00:55<00:00,  1.41it/s, val23.0 total0.0002 dsc0.8576 ce0.6663 constrain0.0002  (0.0002)]"
     ]
    },
    {
     "name": "stdout",
     "output_type": "stream",
     "text": [
      "this is the best so far tensor(0.0002, device='cuda:0', dtype=torch.float64)\n"
     ]
    },
    {
     "name": "stderr",
     "output_type": "stream",
     "text": [
      "100%|████████████████| 25/25 [00:56<00:00,  2.24s/it, val23.0 total0.0002 dsc0.8576 ce0.6663 constrain0.0002  (0.0002)]\n",
      "100%|████████████| 128/128 [03:34<00:00,  1.68s/it, train24.0 total0.0066 dsc0.8535 ce0.6667 constrain0.0066  (0.0002)]\n",
      "100%|████████████████| 25/25 [00:56<00:00,  2.25s/it, val24.0 total0.0004 dsc0.8573 ce0.6663 constrain0.0004  (0.0004)]\n",
      "100%|████████████| 128/128 [03:34<00:00,  1.67s/it, train25.0 total0.0003 dsc0.8533 ce0.6668 constrain0.0003  (0.0003)]\n",
      "100%|████████████████| 25/25 [00:56<00:00,  2.25s/it, val25.0 total0.0002 dsc0.8571 ce0.6670 constrain0.0002  (0.0002)]\n",
      "100%|████████████| 128/128 [03:34<00:00,  1.67s/it, train26.0 total0.0002 dsc0.8533 ce0.6670 constrain0.0002  (0.0001)]\n",
      "100%|████████████████| 25/25 [00:55<00:00,  1.23it/s, val26.0 total0.0001 dsc0.8575 ce0.6669 constrain0.0001  (0.0001)]"
     ]
    },
    {
     "name": "stdout",
     "output_type": "stream",
     "text": [
      "this is the best so far tensor(0.0001, device='cuda:0', dtype=torch.float64)\n"
     ]
    },
    {
     "name": "stderr",
     "output_type": "stream",
     "text": [
      "100%|████████████████| 25/25 [00:55<00:00,  2.24s/it, val26.0 total0.0001 dsc0.8575 ce0.6669 constrain0.0001  (0.0001)]\n",
      "100%|████████████| 128/128 [03:35<00:00,  1.68s/it, train27.0 total0.0003 dsc0.8533 ce0.6672 constrain0.0003  (0.0001)]\n",
      "100%|████████████████| 25/25 [00:54<00:00,  1.23it/s, val27.0 total0.0001 dsc0.8573 ce0.6671 constrain0.0001  (0.0001)]"
     ]
    },
    {
     "name": "stdout",
     "output_type": "stream",
     "text": [
      "this is the best so far tensor(9.7556e-05, device='cuda:0', dtype=torch.float64)\n"
     ]
    },
    {
     "name": "stderr",
     "output_type": "stream",
     "text": [
      "100%|████████████████| 25/25 [00:55<00:00,  2.23s/it, val27.0 total0.0001 dsc0.8573 ce0.6671 constrain0.0001  (0.0001)]\n",
      "100%|████████████| 128/128 [03:33<00:00,  1.67s/it, train28.0 total0.0001 dsc0.8533 ce0.6673 constrain0.0001  (0.0001)]\n",
      "100%|████████████████| 25/25 [00:55<00:00,  1.48it/s, val28.0 total0.0001 dsc0.8575 ce0.6671 constrain0.0001  (0.0001)]"
     ]
    },
    {
     "name": "stdout",
     "output_type": "stream",
     "text": [
      "this is the best so far tensor(9.1101e-05, device='cuda:0', dtype=torch.float64)\n"
     ]
    },
    {
     "name": "stderr",
     "output_type": "stream",
     "text": [
      "100%|████████████████| 25/25 [00:55<00:00,  2.24s/it, val28.0 total0.0001 dsc0.8575 ce0.6671 constrain0.0001  (0.0001)]\n",
      "100%|████████████| 128/128 [03:34<00:00,  1.68s/it, train29.0 total0.0001 dsc0.8533 ce0.6675 constrain0.0001  (0.0001)]\n",
      "100%|████████████████| 25/25 [00:54<00:00,  1.27it/s, val29.0 total0.0001 dsc0.8574 ce0.6674 constrain0.0001  (0.0001)]"
     ]
    },
    {
     "name": "stdout",
     "output_type": "stream",
     "text": [
      "this is the best so far tensor(8.4259e-05, device='cuda:0', dtype=torch.float64)\n"
     ]
    },
    {
     "name": "stderr",
     "output_type": "stream",
     "text": [
      "100%|████████████████| 25/25 [00:55<00:00,  2.22s/it, val29.0 total0.0001 dsc0.8574 ce0.6674 constrain0.0001  (0.0001)]\n",
      "100%|████████████| 128/128 [03:33<00:00,  1.67s/it, train30.0 total0.0001 dsc0.8533 ce0.6676 constrain0.0001  (0.0001)]\n",
      "100%|████████████████| 25/25 [00:56<00:00,  2.25s/it, val30.0 total0.0001 dsc0.8576 ce0.6675 constrain0.0001  (0.0001)]\n",
      "100%|████████████| 128/128 [03:34<00:00,  1.67s/it, train31.0 total0.0001 dsc0.8532 ce0.6677 constrain0.0001  (0.0001)]\n",
      "100%|████████████████| 25/25 [00:55<00:00,  2.21s/it, val31.0 total0.0001 dsc0.8574 ce0.6677 constrain0.0001  (0.0001)]\n",
      "100%|████████████| 128/128 [03:34<00:00,  1.68s/it, train32.0 total0.0001 dsc0.8533 ce0.6678 constrain0.0001  (0.0009)]\n",
      "100%|████████████████| 25/25 [00:55<00:00,  2.23s/it, val32.0 total0.0001 dsc0.8577 ce0.6677 constrain0.0001  (0.0001)]\n",
      "100%|████████████| 128/128 [03:33<00:00,  1.67s/it, train33.0 total0.0001 dsc0.8533 ce0.6679 constrain0.0001  (0.0001)]\n",
      "100%|████████████████| 25/25 [00:55<00:00,  1.22it/s, val33.0 total0.0001 dsc0.8570 ce0.6679 constrain0.0001  (0.0001)]"
     ]
    },
    {
     "name": "stdout",
     "output_type": "stream",
     "text": [
      "this is the best so far tensor(6.5882e-05, device='cuda:0', dtype=torch.float64)\n"
     ]
    },
    {
     "name": "stderr",
     "output_type": "stream",
     "text": [
      "100%|████████████████| 25/25 [00:56<00:00,  2.24s/it, val33.0 total0.0001 dsc0.8570 ce0.6679 constrain0.0001  (0.0001)]\n",
      "100%|████████████| 128/128 [03:33<00:00,  1.67s/it, train34.0 total0.1048 dsc0.8535 ce0.6575 constrain0.1048  (0.0014)]\n",
      "100%|████████████████| 25/25 [00:56<00:00,  2.24s/it, val34.0 total0.0019 dsc0.8577 ce0.6439 constrain0.0019  (0.0019)]\n",
      "100%|████████████| 128/128 [03:32<00:00,  1.66s/it, train35.0 total0.0055 dsc0.8539 ce0.6447 constrain0.0055  (0.0004)]\n",
      "100%|████████████████| 25/25 [00:55<00:00,  2.21s/it, val35.0 total0.0005 dsc0.8579 ce0.6447 constrain0.0005  (0.0004)]\n",
      "100%|████████████| 128/128 [03:33<00:00,  1.67s/it, train36.0 total0.0002 dsc0.8541 ce0.6448 constrain0.0002  (0.0001)]\n",
      "100%|████████████████| 25/25 [00:55<00:00,  2.23s/it, val36.0 total0.0001 dsc0.8583 ce0.6446 constrain0.0001  (0.0001)]\n",
      "100%|████████████| 128/128 [03:33<00:00,  1.67s/it, train37.0 total0.0001 dsc0.8540 ce0.6450 constrain0.0001  (0.0001)]\n",
      "100%|████████████████| 25/25 [00:54<00:00,  1.02s/it, val37.0 total0.0000 dsc0.8576 ce0.6448 constrain0.0000  (0.0001)]"
     ]
    },
    {
     "name": "stdout",
     "output_type": "stream",
     "text": [
      "this is the best so far tensor(4.6864e-05, device='cuda:0', dtype=torch.float64)\n"
     ]
    },
    {
     "name": "stderr",
     "output_type": "stream",
     "text": [
      "100%|████████████████| 25/25 [00:55<00:00,  2.22s/it, val37.0 total0.0000 dsc0.8576 ce0.6448 constrain0.0000  (0.0001)]\n",
      "100%|████████████| 128/128 [03:32<00:00,  1.66s/it, train38.0 total0.0000 dsc0.8540 ce0.6452 constrain0.0000  (0.0000)]\n",
      "100%|████████████████| 25/25 [00:55<00:00,  1.33it/s, val38.0 total0.0000 dsc0.8578 ce0.6449 constrain0.0000  (0.0000)]"
     ]
    },
    {
     "name": "stdout",
     "output_type": "stream",
     "text": [
      "this is the best so far tensor(4.1076e-05, device='cuda:0', dtype=torch.float64)\n"
     ]
    },
    {
     "name": "stderr",
     "output_type": "stream",
     "text": [
      "100%|████████████████| 25/25 [00:55<00:00,  2.24s/it, val38.0 total0.0000 dsc0.8578 ce0.6449 constrain0.0000  (0.0000)]\n",
      "100%|████████████| 128/128 [03:34<00:00,  1.67s/it, train39.0 total0.0000 dsc0.8540 ce0.6453 constrain0.0000  (0.0000)]\n",
      "100%|████████████████| 25/25 [00:54<00:00,  1.31it/s, val39.0 total0.0000 dsc0.8577 ce0.6451 constrain0.0000  (0.0000)]"
     ]
    },
    {
     "name": "stdout",
     "output_type": "stream",
     "text": [
      "this is the best so far tensor(2.7599e-05, device='cuda:0', dtype=torch.float64)\n"
     ]
    },
    {
     "name": "stderr",
     "output_type": "stream",
     "text": [
      "100%|████████████████| 25/25 [00:55<00:00,  2.23s/it, val39.0 total0.0000 dsc0.8577 ce0.6451 constrain0.0000  (0.0000)]\n",
      "100%|████████████| 128/128 [03:33<00:00,  1.67s/it, train40.0 total0.0000 dsc0.8540 ce0.6453 constrain0.0000  (0.0000)]\n",
      "100%|████████████████| 25/25 [00:55<00:00,  1.20it/s, val40.0 total0.0000 dsc0.8578 ce0.6450 constrain0.0000  (0.0000)]"
     ]
    },
    {
     "name": "stdout",
     "output_type": "stream",
     "text": [
      "this is the best so far tensor(2.1200e-05, device='cuda:0', dtype=torch.float64)\n"
     ]
    },
    {
     "name": "stderr",
     "output_type": "stream",
     "text": [
      "100%|████████████████| 25/25 [00:55<00:00,  2.23s/it, val40.0 total0.0000 dsc0.8578 ce0.6450 constrain0.0000  (0.0000)]\n",
      "100%|████████████| 128/128 [03:33<00:00,  1.67s/it, train41.0 total0.0000 dsc0.8540 ce0.6454 constrain0.0000  (0.0000)]\n",
      "100%|████████████████| 25/25 [00:54<00:00,  1.32it/s, val41.0 total0.0000 dsc0.8582 ce0.6451 constrain0.0000  (0.0000)]"
     ]
    },
    {
     "name": "stdout",
     "output_type": "stream",
     "text": [
      "this is the best so far tensor(1.6832e-05, device='cuda:0', dtype=torch.float64)\n"
     ]
    },
    {
     "name": "stderr",
     "output_type": "stream",
     "text": [
      "100%|████████████████| 25/25 [00:54<00:00,  2.20s/it, val41.0 total0.0000 dsc0.8582 ce0.6451 constrain0.0000  (0.0000)]\n",
      "100%|████████████| 128/128 [03:34<00:00,  1.67s/it, train42.0 total0.0000 dsc0.8540 ce0.6455 constrain0.0000  (0.0000)]\n",
      "100%|████████████████| 25/25 [00:56<00:00,  1.00s/it, val42.0 total0.0000 dsc0.8580 ce0.6452 constrain0.0000  (0.0000)]"
     ]
    },
    {
     "name": "stdout",
     "output_type": "stream",
     "text": [
      "this is the best so far tensor(1.5040e-05, device='cuda:0', dtype=torch.float64)\n"
     ]
    },
    {
     "name": "stderr",
     "output_type": "stream",
     "text": [
      "100%|████████████████| 25/25 [00:57<00:00,  2.31s/it, val42.0 total0.0000 dsc0.8580 ce0.6452 constrain0.0000  (0.0000)]\n",
      "100%|████████████| 128/128 [03:34<00:00,  1.68s/it, train43.0 total0.0000 dsc0.8541 ce0.6455 constrain0.0000  (0.0000)]\n",
      "100%|████████████████| 25/25 [00:55<00:00,  2.22s/it, val43.0 total0.0000 dsc0.8577 ce0.6452 constrain0.0000  (0.0000)]\n",
      "100%|████████████| 128/128 [03:36<00:00,  1.69s/it, train44.0 total0.0001 dsc0.8541 ce0.6456 constrain0.0001  (0.0006)]\n",
      "100%|████████████████| 25/25 [00:56<00:00,  2.24s/it, val44.0 total0.0001 dsc0.8581 ce0.6455 constrain0.0001  (0.0001)]\n",
      "100%|████████████| 128/128 [03:36<00:00,  1.69s/it, train45.0 total0.0000 dsc0.8539 ce0.6456 constrain0.0000  (0.0000)]\n",
      "100%|████████████████| 25/25 [00:55<00:00,  1.35it/s, val45.0 total0.0000 dsc0.8575 ce0.6454 constrain0.0000  (0.0000)]"
     ]
    },
    {
     "name": "stdout",
     "output_type": "stream",
     "text": [
      "this is the best so far tensor(1.0532e-05, device='cuda:0', dtype=torch.float64)\n"
     ]
    },
    {
     "name": "stderr",
     "output_type": "stream",
     "text": [
      "100%|████████████████| 25/25 [00:55<00:00,  2.24s/it, val45.0 total0.0000 dsc0.8575 ce0.6454 constrain0.0000  (0.0000)]\n",
      "100%|████████████| 128/128 [03:34<00:00,  1.68s/it, train46.0 total0.0000 dsc0.8541 ce0.6456 constrain0.0000  (0.0000)]\n",
      "100%|████████████████| 25/25 [00:56<00:00,  1.09it/s, val46.0 total0.0000 dsc0.8577 ce0.6453 constrain0.0000  (0.0000)]"
     ]
    },
    {
     "name": "stdout",
     "output_type": "stream",
     "text": [
      "this is the best so far tensor(8.3405e-06, device='cuda:0', dtype=torch.float64)\n"
     ]
    },
    {
     "name": "stderr",
     "output_type": "stream",
     "text": [
      "100%|████████████████| 25/25 [00:57<00:00,  2.29s/it, val46.0 total0.0000 dsc0.8577 ce0.6453 constrain0.0000  (0.0000)]\n",
      "100%|████████████| 128/128 [03:36<00:00,  1.69s/it, train47.0 total0.0001 dsc0.8540 ce0.6457 constrain0.0001  (0.0000)]\n",
      "100%|████████████████| 25/25 [00:57<00:00,  2.29s/it, val47.0 total0.0002 dsc0.8582 ce0.6450 constrain0.0002  (0.0002)]\n",
      "100%|████████████| 128/128 [03:28<00:00,  1.63s/it, train48.0 total0.0006 dsc0.8540 ce0.6457 constrain0.0006  (0.0301)]\n",
      "100%|████████████████| 25/25 [00:57<00:00,  2.30s/it, val48.0 total0.0041 dsc0.8583 ce0.6447 constrain0.0041  (0.0063)]\n",
      "100%|████████████| 128/128 [03:35<00:00,  1.68s/it, train49.0 total0.0075 dsc0.8540 ce0.6441 constrain0.0075  (0.0000)]\n",
      "100%|████████████████| 25/25 [00:56<00:00,  2.25s/it, val49.0 total0.0000 dsc0.8580 ce0.6432 constrain0.0000  (0.0000)]\n"
     ]
    }
   ],
   "source": [
    "# constrainedloss testing\n",
    "# search just training on CE\n",
    "\n",
    "#bestRVweights = \"C:\\\\Datasets\\RVWork\\\\RV_deeplab_50_SQLguide_True_AugmentTrue_best.pt\"\n",
    "bestLVweights = \"C:\\\\Users\\\\Windows\\\\Dropbox\\\\Echo Research\\\\CodeBase\\\\EchoNetDynamic-Weights\\\\deeplabv3_resnet50_random.pt\"\n",
    "\n",
    "numWork = 10\n",
    "numberOfSubsequentFrames = 5\n",
    "bs = 45\n",
    "numEpochs = 50\n",
    "\n",
    "for weightOfConstraint in [0, 0.25, 0.1, 0.5, 0.75, 0.9, 1]: #[0.8, 0.85, 0.9, 0.95]: #  0.5, 0.1, 0, 0.9, 1 ]: #1, 0,  0.9, #   1000, 100,  10, 1]:\n",
    "    for CrossEntropyLoss in [1]:\n",
    "        for SonoData in [False]:\n",
    "            for doAugmentation in [False]:\n",
    "                for doPretrain in [False]:\n",
    "\n",
    "\n",
    "                    train_dataset = dataset.Dataset(SQLtracings, SQLvideos, mean, std, split=\"train\", fuzzyAugmentation=doAugmentation,constrainSubsequent=numberOfSubsequentFrames,useSonoData=False)\n",
    "\n",
    "                    if SonoData:\n",
    "                        sono_dataset = dataset.Dataset(SQLtracings, SQLvideos, mean, std, split=\"train\", fuzzyAugmentation=doAugmentation,constrainSubsequent=numberOfSubsequentFrames,useSonoData=True)\n",
    "                        train_dataloader = torch.utils.data.DataLoader(torch.utils.data.ConcatDataset([train_dataset,sono_dataset]), batch_size = bs, num_workers = numWork, shuffle = True, pin_memory = True, drop_last = True)\n",
    "                    else:\n",
    "                        train_dataloader = torch.utils.data.DataLoader(train_dataset, batch_size = bs, num_workers = numWork, shuffle = True, pin_memory = True, drop_last = True)\n",
    "\n",
    "                    val_dataset = dataset.Dataset(SQLtracings, SQLvideos, mean, std, split=\"val\", fuzzyAugmentation=False,constrainSubsequent=numberOfSubsequentFrames,useSonoData=False)\n",
    "                    val_dataloader = torch.utils.data.DataLoader(val_dataset, batch_size = bs, num_workers = numWork, shuffle = True, pin_memory = True, drop_last = True)\n",
    "\n",
    "                    dataloaders = {'train':train_dataloader, 'val':val_dataloader}\n",
    "\n",
    "                    device = torch.device(\"cuda\")\n",
    "\n",
    "                    model = torchvision.models.segmentation.deeplabv3_resnet50(pretrained = False, aux_loss = False)\n",
    "                    model.classifier[-1] = torch.nn.Conv2d(model.classifier[-1].in_channels, 1, kernel_size = model.classifier[-1].kernel_size)\n",
    "\n",
    "                    if device.type == \"cuda\":\n",
    "                        model = torch.nn.DataParallel(model)\n",
    "                    model.to(device)\n",
    "\n",
    "                    if doPretrain:\n",
    "                        print(\"load from weights\")\n",
    "                        checkpoint = torch.load(bestLVweights)#LVWeights) #currentRVweights)#\n",
    "                        model.load_state_dict(checkpoint['state_dict'])\n",
    "\n",
    "                    #optim = torch.optim.SGD(model.parameters(), lr=1000, momentum=0.9)\n",
    "                    learning_rate = 1e-2\n",
    "                    optim = torch.optim.Adam(model.parameters(), lr=learning_rate)\n",
    "                    #optim = torch.optim.Adagrad(model.parameters(), lr=100)\n",
    "\n",
    "                    bestLoss = 1000000\n",
    "\n",
    "                    with open(\"LossAcrossEpochs_Pretrain\"+str(doPretrain)+\"_Sono\"+str(SonoData)+\"_Augment\"+str(doAugmentation)+ \"_withCrossEntropyOnly\"+ str(CrossEntropyLoss) + \"_withL2ConstrainedLoss\"+ str(weightOfConstraint) + \"_\"+str(numEpochs)+\"_Adam.csv\", 'w') as output:\n",
    "                        for epoch in range(numEpochs):\n",
    "                            for phase in dataloaders.keys():\n",
    "\n",
    "                                total = 0\n",
    "                                n = 0\n",
    "                                dsctotal = 0\n",
    "                                cetotal = 0\n",
    "                                constrainedTotal = 0\n",
    "\n",
    "                                with torch.set_grad_enabled(phase != 'val'):\n",
    "                                    with tqdm.tqdm(total = len(dataloaders[phase])) as progressbar:\n",
    "                                        for (i, (x,y)) in enumerate(dataloaders[phase]):\n",
    "\n",
    "                                            x = x.to(device)\n",
    "                                            y = y.to(device)\n",
    "                                            #print(y.min(), y.max())\n",
    "                                            #print(x.shape)\n",
    "\n",
    "                                            #print(\"input shape\", x.shape)\n",
    "\n",
    "                                            # reshape to be bs x frames indepedent predictions on (3,112,112) images\n",
    "                                            x = torch.transpose(x, 1, 4)\n",
    "                                            #print(x.shape)\n",
    "                                            x = x.reshape(bs * numberOfSubsequentFrames,  112, 112, 3).transpose(1,2)\n",
    "                                            x = torch.transpose(x, 1, 3).type(torch.float)\n",
    "\n",
    "                                            #print(\"new input shape\", x.shape)\n",
    "\n",
    "                                            p = model(x)[\"out\"]\n",
    "\n",
    "                                            #print(\"predictions shape\", p.shape)\n",
    "\n",
    "                                            constrainedLoss = variousLossFunctions.constrainSubsequentLoss(p, bs, numberOfSubsequentFrames)\n",
    "                                            dscloss = x.shape[0] / numberOfSubsequentFrames - variousLossFunctions.diceLoss(p[0::numberOfSubsequentFrames, 0, :, :], y,)\n",
    "                                            celoss = torch.nn.functional.binary_cross_entropy_with_logits(p[0::numberOfSubsequentFrames, 0, :, :], y, reduction = \"sum\") / 112 / 112\n",
    "\n",
    "                                            loss =  (1-weightOfConstraint) * celoss + weightOfConstraint * constrainedLoss\n",
    "                                            #CrossEntropyLoss * torch.nn.functional.binary_cross_entropy_with_logits(p[0::numberOfSubsquentFrames, 0, :, :], y, reduction = \"sum\") / 112 / 112 + variousLossFunctions.constrainSubsequentLoss(p, bs, numberOfSubsequentFrames).item()#x.shape[0] - variousLossFunctions.diceLoss(p[:, 0, :, :], y,) +\n",
    "                                            \n",
    "#                                            loss = loss.item()\n",
    "                                            total += loss#.item()\n",
    "                                            dsctotal += dscloss#.item()\n",
    "                                            cetotal += celoss#.item()\n",
    "                                            constrainedTotal += constrainedLoss\n",
    "\n",
    "                                            n += x.shape[0] / numberOfSubsequentFrames\n",
    "\n",
    "                                            #print(loss, total, n, flush = True)\n",
    "\n",
    "                                            progressbar.set_postfix_str(phase + \"{:.1f} total{:.4f} dsc{:.4f} ce{:.4f} constrain{:.4f}  ({:.4f})\".format( epoch, total / n , dsctotal / n , cetotal / n , constrainedTotal / n, loss / x.size(0) * numberOfSubsequentFrames )) #/ 112 / 112\n",
    "                                            progressbar.update()\n",
    "\n",
    "                                            if(phase != 'val'):\n",
    "                                                optim.zero_grad()\n",
    "                                                loss.backward()\n",
    "                                                optim.step()\n",
    "\n",
    "                                        output.write(phase + \",\" + str(epoch) + \",\" + str(total.item() / n ) + \",\" + str(dsctotal.item() / n ) + \",\" + str(cetotal.item() / n ) + ',' + str(constrainedTotal.item() / n) + \"\\n\") #/ 112 / 112\n",
    "\n",
    "                                        if phase == 'val':\n",
    "                                            currentRVweights = \"C:\\\\Datasets\\RVWork\\\\RV_deeplab_50_Pretrain\"+str(doPretrain)+\"_Sono\"+str(SonoData)+\"_Augment\"+str(doAugmentation)+ \"_crossEntropyOnly\"+ str(CrossEntropyLoss) + \"_withL2ConstrainedLoss\"+ str(weightOfConstraint)  + \"_\"+str(numEpochs)+\"_Adam_current.pt\"\n",
    "                                            torch.save(model.state_dict(), currentRVweights)\n",
    "\n",
    "                                            if (total / n ) < bestLoss: #/ 112 / 112)\n",
    "                                                bestLoss = (total / n ) # / 112 / 112)\n",
    "                                                print(\"this is the best so far\", str(bestLoss), flush = True)\n",
    "                                                bestRVweights = \"C:\\\\Datasets\\RVWork\\\\RV_deeplab_50_Pretrain\"+str(doPretrain)+\"_Sono\"+str(SonoData)+\"_Augment\"+str(doAugmentation)+ \"_crossEntropyOnly\"+ str(CrossEntropyLoss) +\"_withL2ConstrainedLoss\"+ str(weightOfConstraint)  + \"_\"+str(numEpochs)+\"_Adam_best.pt\"\n",
    "                                                torch.save(model.state_dict(), bestRVweights)\n"
   ]
  },
  {
   "cell_type": "code",
   "execution_count": 12,
   "metadata": {},
   "outputs": [
    {
     "name": "stderr",
     "output_type": "stream",
     "text": [
      "4005it [00:19, 202.72it/s]\n",
      "4005it [00:03, 1015.41it/s]\n",
      "100%|█████████████| 128/128 [03:10<00:00,  1.49s/it, train0.0 total0.0312 dsc0.5665 ce0.1477 constrain0.0020  (0.0240)]\n",
      "100%|█████████████████| 25/25 [00:56<00:00,  1.23it/s, val0.0 total0.0203 dsc0.4613 ce0.0981 constrain0.0009  (0.0210)]"
     ]
    },
    {
     "name": "stdout",
     "output_type": "stream",
     "text": [
      "this is the best so far tensor(0.0203, device='cuda:0', dtype=torch.float64)\n"
     ]
    },
    {
     "name": "stderr",
     "output_type": "stream",
     "text": [
      "100%|█████████████████| 25/25 [00:57<00:00,  2.29s/it, val0.0 total0.0203 dsc0.4613 ce0.0981 constrain0.0009  (0.0210)]\n",
      "100%|█████████████| 128/128 [03:11<00:00,  1.50s/it, train1.0 total0.0182 dsc0.3967 ce0.0867 constrain0.0010  (0.0147)]\n",
      "100%|█████████████████| 25/25 [00:57<00:00,  1.06it/s, val1.0 total0.0155 dsc0.3498 ce0.0736 constrain0.0009  (0.0167)]"
     ]
    },
    {
     "name": "stdout",
     "output_type": "stream",
     "text": [
      "this is the best so far tensor(0.0155, device='cuda:0', dtype=torch.float64)\n"
     ]
    },
    {
     "name": "stderr",
     "output_type": "stream",
     "text": [
      "100%|█████████████████| 25/25 [00:57<00:00,  2.32s/it, val1.0 total0.0155 dsc0.3498 ce0.0736 constrain0.0009  (0.0167)]\n",
      "100%|█████████████| 128/128 [03:13<00:00,  1.51s/it, train2.0 total0.0150 dsc0.3145 ce0.0697 constrain0.0013  (0.0136)]\n",
      "100%|█████████████████| 25/25 [00:56<00:00,  1.16it/s, val2.0 total0.0141 dsc0.2909 ce0.0655 constrain0.0013  (0.0137)]"
     ]
    },
    {
     "name": "stdout",
     "output_type": "stream",
     "text": [
      "this is the best so far tensor(0.0141, device='cuda:0', dtype=torch.float64)\n"
     ]
    },
    {
     "name": "stderr",
     "output_type": "stream",
     "text": [
      "100%|█████████████████| 25/25 [00:56<00:00,  2.28s/it, val2.0 total0.0141 dsc0.2909 ce0.0655 constrain0.0013  (0.0137)]\n",
      "100%|█████████████| 128/128 [03:12<00:00,  1.50s/it, train3.0 total0.0130 dsc0.2630 ce0.0597 constrain0.0014  (0.0118)]\n",
      "100%|█████████████████| 25/25 [00:57<00:00,  1.08it/s, val3.0 total0.0124 dsc0.2493 ce0.0563 constrain0.0014  (0.0120)]"
     ]
    },
    {
     "name": "stdout",
     "output_type": "stream",
     "text": [
      "this is the best so far tensor(0.0124, device='cuda:0', dtype=torch.float64)\n"
     ]
    },
    {
     "name": "stderr",
     "output_type": "stream",
     "text": [
      "100%|█████████████████| 25/25 [00:58<00:00,  2.33s/it, val3.0 total0.0124 dsc0.2493 ce0.0563 constrain0.0014  (0.0120)]\n",
      "100%|█████████████| 128/128 [03:15<00:00,  1.53s/it, train4.0 total0.0120 dsc0.2329 ce0.0542 constrain0.0014  (0.0130)]\n",
      "100%|█████████████████| 25/25 [00:56<00:00,  1.29it/s, val4.0 total0.0118 dsc0.2307 ce0.0533 constrain0.0015  (0.0130)]"
     ]
    },
    {
     "name": "stdout",
     "output_type": "stream",
     "text": [
      "this is the best so far tensor(0.0118, device='cuda:0', dtype=torch.float64)\n"
     ]
    },
    {
     "name": "stderr",
     "output_type": "stream",
     "text": [
      "100%|█████████████████| 25/25 [00:56<00:00,  2.27s/it, val4.0 total0.0118 dsc0.2307 ce0.0533 constrain0.0015  (0.0130)]\n",
      "100%|█████████████| 128/128 [03:16<00:00,  1.53s/it, train5.0 total0.0115 dsc0.2169 ce0.0517 constrain0.0015  (0.0114)]\n",
      "100%|█████████████████| 25/25 [00:55<00:00,  1.24it/s, val5.0 total0.0113 dsc0.2201 ce0.0510 constrain0.0014  (0.0101)]"
     ]
    },
    {
     "name": "stdout",
     "output_type": "stream",
     "text": [
      "this is the best so far tensor(0.0113, device='cuda:0', dtype=torch.float64)\n"
     ]
    },
    {
     "name": "stderr",
     "output_type": "stream",
     "text": [
      "100%|█████████████████| 25/25 [00:56<00:00,  2.26s/it, val5.0 total0.0113 dsc0.2201 ce0.0510 constrain0.0014  (0.0101)]\n",
      "100%|█████████████| 128/128 [03:14<00:00,  1.52s/it, train6.0 total0.0111 dsc0.2040 ce0.0492 constrain0.0016  (0.0121)]\n",
      "100%|█████████████████| 25/25 [00:57<00:00,  1.06it/s, val6.0 total0.0109 dsc0.2069 ce0.0487 constrain0.0014  (0.0118)]"
     ]
    },
    {
     "name": "stdout",
     "output_type": "stream",
     "text": [
      "this is the best so far tensor(0.0109, device='cuda:0', dtype=torch.float64)\n"
     ]
    },
    {
     "name": "stderr",
     "output_type": "stream",
     "text": [
      "100%|█████████████████| 25/25 [00:58<00:00,  2.33s/it, val6.0 total0.0109 dsc0.2069 ce0.0487 constrain0.0014  (0.0118)]\n",
      "100%|█████████████| 128/128 [03:13<00:00,  1.51s/it, train7.0 total0.0104 dsc0.1899 ce0.0460 constrain0.0015  (0.0101)]\n",
      "100%|█████████████████| 25/25 [00:57<00:00,  2.30s/it, val7.0 total0.0109 dsc0.1969 ce0.0481 constrain0.0016  (0.0114)]\n",
      "100%|█████████████| 128/128 [03:12<00:00,  1.51s/it, train8.0 total0.0102 dsc0.1817 ce0.0447 constrain0.0016  (0.0098)]\n",
      "100%|█████████████████| 25/25 [00:56<00:00,  1.15s/it, val8.0 total0.0107 dsc0.1936 ce0.0471 constrain0.0016  (0.0097)]"
     ]
    },
    {
     "name": "stdout",
     "output_type": "stream",
     "text": [
      "this is the best so far tensor(0.0107, device='cuda:0', dtype=torch.float64)\n"
     ]
    },
    {
     "name": "stderr",
     "output_type": "stream",
     "text": [
      "100%|█████████████████| 25/25 [00:57<00:00,  2.30s/it, val8.0 total0.0107 dsc0.1936 ce0.0471 constrain0.0016  (0.0097)]\n",
      "100%|█████████████| 128/128 [03:12<00:00,  1.50s/it, train9.0 total0.0105 dsc0.1843 ce0.0462 constrain0.0016  (0.0105)]\n",
      "100%|█████████████████| 25/25 [00:55<00:00,  1.28it/s, val9.0 total0.0103 dsc0.1868 ce0.0451 constrain0.0016  (0.0110)]"
     ]
    },
    {
     "name": "stdout",
     "output_type": "stream",
     "text": [
      "this is the best so far tensor(0.0103, device='cuda:0', dtype=torch.float64)\n"
     ]
    },
    {
     "name": "stderr",
     "output_type": "stream",
     "text": [
      "100%|█████████████████| 25/25 [00:56<00:00,  2.24s/it, val9.0 total0.0103 dsc0.1868 ce0.0451 constrain0.0016  (0.0110)]\n",
      "100%|████████████| 128/128 [03:12<00:00,  1.51s/it, train10.0 total0.0095 dsc0.1598 ce0.0409 constrain0.0016  (0.0102)]\n",
      "100%|████████████████| 25/25 [00:59<00:00,  1.53s/it, val10.0 total0.0098 dsc0.1627 ce0.0420 constrain0.0017  (0.0110)]"
     ]
    },
    {
     "name": "stdout",
     "output_type": "stream",
     "text": [
      "this is the best so far tensor(0.0098, device='cuda:0', dtype=torch.float64)\n"
     ]
    },
    {
     "name": "stderr",
     "output_type": "stream",
     "text": [
      "100%|████████████████| 25/25 [00:59<00:00,  2.39s/it, val10.0 total0.0098 dsc0.1627 ce0.0420 constrain0.0017  (0.0110)]\n",
      "100%|████████████| 128/128 [03:13<00:00,  1.51s/it, train11.0 total0.0089 dsc0.1465 ce0.0380 constrain0.0017  (0.0077)]\n",
      "100%|████████████████| 25/25 [00:57<00:00,  1.07s/it, val11.0 total0.0098 dsc0.1559 ce0.0421 constrain0.0017  (0.0088)]"
     ]
    },
    {
     "name": "stdout",
     "output_type": "stream",
     "text": [
      "this is the best so far tensor(0.0098, device='cuda:0', dtype=torch.float64)\n"
     ]
    },
    {
     "name": "stderr",
     "output_type": "stream",
     "text": [
      "100%|████████████████| 25/25 [00:57<00:00,  2.32s/it, val11.0 total0.0098 dsc0.1559 ce0.0421 constrain0.0017  (0.0088)]\n",
      "100%|████████████| 128/128 [03:14<00:00,  1.52s/it, train12.0 total0.0087 dsc0.1417 ce0.0369 constrain0.0016  (0.0091)]\n",
      "100%|████████████████| 25/25 [00:56<00:00,  2.24s/it, val12.0 total0.0098 dsc0.1532 ce0.0415 constrain0.0019  (0.0108)]\n",
      "100%|████████████| 128/128 [03:13<00:00,  1.51s/it, train13.0 total0.0085 dsc0.1390 ce0.0360 constrain0.0017  (0.0086)]\n",
      "100%|████████████████| 25/25 [00:56<00:00,  2.27s/it, val13.0 total0.0098 dsc0.1530 ce0.0415 constrain0.0019  (0.0086)]\n",
      "100%|████████████| 128/128 [03:14<00:00,  1.52s/it, train14.0 total0.0099 dsc0.1597 ce0.0421 constrain0.0018  (0.0104)]\n",
      "100%|████████████████| 25/25 [00:55<00:00,  2.23s/it, val14.0 total0.0108 dsc0.1744 ce0.0461 constrain0.0019  (0.0123)]\n",
      "100%|████████████| 128/128 [03:17<00:00,  1.54s/it, train15.0 total0.0092 dsc0.1511 ce0.0393 constrain0.0017  (0.0095)]\n",
      "100%|████████████████| 25/25 [00:56<00:00,  2.26s/it, val15.0 total0.0101 dsc0.1550 ce0.0429 constrain0.0019  (0.0096)]\n",
      "100%|████████████| 128/128 [03:13<00:00,  1.51s/it, train16.0 total0.0085 dsc0.1380 ce0.0359 constrain0.0016  (0.0084)]\n",
      "100%|████████████████| 25/25 [00:57<00:00,  2.28s/it, val16.0 total0.0101 dsc0.1566 ce0.0432 constrain0.0019  (0.0109)]\n",
      "100%|████████████| 128/128 [03:14<00:00,  1.52s/it, train17.0 total0.0081 dsc0.1319 ce0.0341 constrain0.0016  (0.0081)]\n",
      "100%|████████████████| 25/25 [00:56<00:00,  2.24s/it, val17.0 total0.0101 dsc0.1484 ce0.0424 constrain0.0020  (0.0117)]\n",
      "100%|████████████| 128/128 [03:13<00:00,  1.51s/it, train18.0 total0.0084 dsc0.1354 ce0.0352 constrain0.0017  (0.0096)]\n",
      "100%|████████████████| 25/25 [00:56<00:00,  2.25s/it, val18.0 total0.0100 dsc0.1569 ce0.0425 constrain0.0019  (0.0091)]\n",
      "100%|████████████| 128/128 [03:12<00:00,  1.51s/it, train19.0 total0.0089 dsc0.1441 ce0.0377 constrain0.0017  (0.0082)]\n",
      "100%|████████████████| 25/25 [00:55<00:00,  1.02it/s, val19.0 total0.0097 dsc0.1489 ce0.0404 constrain0.0020  (0.0098)]"
     ]
    },
    {
     "name": "stdout",
     "output_type": "stream",
     "text": [
      "this is the best so far tensor(0.0097, device='cuda:0', dtype=torch.float64)\n"
     ]
    },
    {
     "name": "stderr",
     "output_type": "stream",
     "text": [
      "100%|████████████████| 25/25 [00:56<00:00,  2.26s/it, val19.0 total0.0097 dsc0.1489 ce0.0404 constrain0.0020  (0.0098)]\n",
      "100%|████████████| 128/128 [03:12<00:00,  1.51s/it, train20.0 total0.0080 dsc0.1290 ce0.0334 constrain0.0016  (0.0098)]\n",
      "100%|████████████████| 25/25 [00:56<00:00,  2.26s/it, val20.0 total0.0097 dsc0.1463 ce0.0405 constrain0.0020  (0.0105)]\n",
      "100%|████████████| 128/128 [03:12<00:00,  1.50s/it, train21.0 total0.0075 dsc0.1213 ce0.0311 constrain0.0016  (0.0070)]\n",
      "100%|████████████████| 25/25 [00:56<00:00,  2.27s/it, val21.0 total0.0101 dsc0.1431 ce0.0415 constrain0.0022  (0.0121)]\n",
      "100%|████████████| 128/128 [03:12<00:00,  1.50s/it, train22.0 total0.0072 dsc0.1154 ce0.0296 constrain0.0016  (0.0078)]\n",
      "100%|████████████████| 25/25 [00:56<00:00,  2.24s/it, val22.0 total0.0101 dsc0.1443 ce0.0419 constrain0.0021  (0.0106)]\n",
      "100%|████████████| 128/128 [03:12<00:00,  1.50s/it, train23.0 total0.0070 dsc0.1119 ce0.0286 constrain0.0016  (0.0069)]\n",
      "100%|████████████████| 25/25 [01:02<00:00,  2.50s/it, val23.0 total0.0101 dsc0.1398 ce0.0407 constrain0.0024  (0.0100)]\n",
      "100%|████████████| 128/128 [03:21<00:00,  1.57s/it, train24.0 total0.0068 dsc0.1083 ce0.0276 constrain0.0016  (0.0074)]\n",
      "100%|████████████████| 25/25 [00:56<00:00,  2.27s/it, val24.0 total0.0104 dsc0.1383 ce0.0421 constrain0.0025  (0.0116)]\n",
      "100%|████████████| 128/128 [03:12<00:00,  1.51s/it, train25.0 total0.0067 dsc0.1059 ce0.0269 constrain0.0016  (0.0073)]\n",
      "100%|████████████████| 25/25 [00:58<00:00,  2.34s/it, val25.0 total0.0103 dsc0.1389 ce0.0414 constrain0.0025  (0.0104)]\n",
      "100%|████████████| 128/128 [03:14<00:00,  1.52s/it, train26.0 total0.0065 dsc0.1029 ce0.0260 constrain0.0016  (0.0062)]\n",
      "100%|████████████████| 25/25 [00:57<00:00,  2.29s/it, val26.0 total0.0110 dsc0.1387 ce0.0437 constrain0.0028  (0.0106)]\n",
      "100%|████████████| 128/128 [03:13<00:00,  1.51s/it, train27.0 total0.0064 dsc0.1003 ce0.0255 constrain0.0016  (0.0067)]\n",
      "100%|████████████████| 25/25 [00:58<00:00,  2.35s/it, val27.0 total0.0112 dsc0.1374 ce0.0445 constrain0.0029  (0.0129)]\n",
      "100%|████████████| 128/128 [03:14<00:00,  1.52s/it, train28.0 total0.0062 dsc0.0981 ce0.0248 constrain0.0016  (0.0063)]\n",
      "100%|████████████████| 25/25 [00:58<00:00,  2.35s/it, val28.0 total0.0109 dsc0.1356 ce0.0431 constrain0.0029  (0.0103)]\n",
      "100%|████████████| 128/128 [03:15<00:00,  1.53s/it, train29.0 total0.0076 dsc0.1190 ce0.0310 constrain0.0017  (0.0091)]\n",
      "100%|████████████████| 25/25 [00:59<00:00,  2.36s/it, val29.0 total0.0107 dsc0.1623 ce0.0446 constrain0.0022  (0.0095)]\n",
      "100%|████████████| 128/128 [03:14<00:00,  1.52s/it, train30.0 total0.0086 dsc0.1379 ce0.0359 constrain0.0017  (0.0071)]\n",
      "100%|████████████████| 25/25 [00:58<00:00,  2.34s/it, val30.0 total0.0104 dsc0.1436 ce0.0425 constrain0.0023  (0.0110)]\n",
      "100%|████████████| 128/128 [03:13<00:00,  1.51s/it, train31.0 total0.0066 dsc0.1050 ce0.0266 constrain0.0016  (0.0061)]\n",
      "100%|████████████████| 25/25 [00:57<00:00,  2.31s/it, val31.0 total0.0108 dsc0.1382 ce0.0434 constrain0.0026  (0.0097)]\n",
      "100%|████████████| 128/128 [03:12<00:00,  1.51s/it, train32.0 total0.0059 dsc0.0935 ce0.0235 constrain0.0015  (0.0063)]\n",
      "100%|████████████████| 25/25 [00:58<00:00,  2.34s/it, val32.0 total0.0114 dsc0.1339 ce0.0455 constrain0.0029  (0.0112)]\n",
      "100%|████████████| 128/128 [03:14<00:00,  1.52s/it, train33.0 total0.0056 dsc0.0875 ce0.0220 constrain0.0015  (0.0056)]\n",
      "100%|████████████████| 25/25 [00:58<00:00,  2.33s/it, val33.0 total0.0117 dsc0.1314 ce0.0460 constrain0.0031  (0.0113)]\n",
      "100%|████████████| 128/128 [03:12<00:00,  1.51s/it, train34.0 total0.0054 dsc0.0841 ce0.0211 constrain0.0015  (0.0058)]\n",
      "100%|████████████████| 25/25 [00:57<00:00,  2.31s/it, val34.0 total0.0116 dsc0.1305 ce0.0458 constrain0.0030  (0.0104)]\n",
      "100%|████████████| 128/128 [03:15<00:00,  1.53s/it, train35.0 total0.0052 dsc0.0814 ce0.0203 constrain0.0015  (0.0055)]\n",
      "100%|████████████████| 25/25 [00:55<00:00,  2.22s/it, val35.0 total0.0119 dsc0.1278 ce0.0466 constrain0.0032  (0.0124)]\n",
      "100%|████████████| 128/128 [03:12<00:00,  1.51s/it, train36.0 total0.0053 dsc0.0818 ce0.0205 constrain0.0014  (0.0057)]\n",
      "100%|████████████████| 25/25 [00:56<00:00,  2.27s/it, val36.0 total0.0121 dsc0.1306 ce0.0477 constrain0.0032  (0.0131)]\n",
      "100%|████████████| 128/128 [03:13<00:00,  1.51s/it, train37.0 total0.0051 dsc0.0800 ce0.0201 constrain0.0014  (0.0047)]\n",
      "100%|████████████████| 25/25 [00:56<00:00,  2.25s/it, val37.0 total0.0123 dsc0.1311 ce0.0480 constrain0.0034  (0.0112)]\n",
      "100%|████████████| 128/128 [03:13<00:00,  1.51s/it, train38.0 total0.0052 dsc0.0812 ce0.0205 constrain0.0014  (0.0052)]\n",
      "100%|████████████████| 25/25 [00:56<00:00,  2.26s/it, val38.0 total0.0127 dsc0.1286 ce0.0492 constrain0.0035  (0.0110)]\n",
      "100%|████████████| 128/128 [03:14<00:00,  1.52s/it, train39.0 total0.0050 dsc0.0777 ce0.0196 constrain0.0014  (0.0052)]\n",
      "100%|████████████████| 25/25 [00:55<00:00,  2.24s/it, val39.0 total0.0126 dsc0.1306 ce0.0488 constrain0.0035  (0.0104)]\n",
      "100%|████████████| 128/128 [03:14<00:00,  1.52s/it, train40.0 total0.0048 dsc0.0741 ce0.0185 constrain0.0013  (0.0051)]\n",
      "100%|████████████████| 25/25 [00:57<00:00,  2.29s/it, val40.0 total0.0131 dsc0.1276 ce0.0503 constrain0.0037  (0.0137)]\n",
      "100%|████████████| 128/128 [03:13<00:00,  1.51s/it, train41.0 total0.0046 dsc0.0720 ce0.0180 constrain0.0013  (0.0046)]\n",
      "100%|████████████████| 25/25 [00:56<00:00,  2.26s/it, val41.0 total0.0132 dsc0.1278 ce0.0513 constrain0.0037  (0.0110)]\n",
      "100%|████████████| 128/128 [03:13<00:00,  1.51s/it, train42.0 total0.0046 dsc0.0713 ce0.0179 constrain0.0013  (0.0047)]\n",
      "100%|████████████████| 25/25 [00:56<00:00,  2.26s/it, val42.0 total0.0131 dsc0.1274 ce0.0505 constrain0.0038  (0.0153)]\n",
      "100%|████████████| 128/128 [03:13<00:00,  1.51s/it, train43.0 total0.0045 dsc0.0698 ce0.0175 constrain0.0013  (0.0044)]\n",
      "100%|████████████████| 25/25 [00:57<00:00,  2.29s/it, val43.0 total0.0135 dsc0.1273 ce0.0517 constrain0.0040  (0.0137)]\n",
      "100%|████████████| 128/128 [03:14<00:00,  1.52s/it, train44.0 total0.0046 dsc0.0705 ce0.0177 constrain0.0013  (0.0046)]\n",
      "100%|████████████████| 25/25 [00:58<00:00,  2.33s/it, val44.0 total0.0134 dsc0.1265 ce0.0520 constrain0.0038  (0.0134)]\n",
      "100%|████████████| 128/128 [03:13<00:00,  1.51s/it, train45.0 total0.0044 dsc0.0681 ce0.0171 constrain0.0012  (0.0058)]\n",
      "100%|████████████████| 25/25 [00:57<00:00,  2.28s/it, val45.0 total0.0135 dsc0.1241 ce0.0517 constrain0.0040  (0.0145)]\n",
      "100%|████████████| 128/128 [03:13<00:00,  1.52s/it, train46.0 total0.0062 dsc0.0940 ce0.0252 constrain0.0015  (0.0095)]\n",
      "100%|████████████████| 25/25 [00:56<00:00,  2.25s/it, val46.0 total0.0111 dsc0.1689 ce0.0477 constrain0.0019  (0.0093)]\n",
      "100%|████████████| 128/128 [03:13<00:00,  1.51s/it, train47.0 total0.0087 dsc0.1398 ce0.0366 constrain0.0018  (0.0077)]\n",
      "100%|████████████████| 25/25 [00:57<00:00,  2.30s/it, val47.0 total0.0105 dsc0.1479 ce0.0432 constrain0.0023  (0.0104)]\n",
      "100%|████████████| 128/128 [03:12<00:00,  1.51s/it, train48.0 total0.0061 dsc0.0964 ce0.0243 constrain0.0016  (0.0057)]\n",
      "100%|████████████████| 25/25 [00:55<00:00,  2.23s/it, val48.0 total0.0118 dsc0.1331 ce0.0465 constrain0.0031  (0.0099)]\n",
      "100%|████████████| 128/128 [03:12<00:00,  1.51s/it, train49.0 total0.0049 dsc0.0766 ce0.0191 constrain0.0014  (0.0048)]\n",
      "100%|████████████████| 25/25 [01:00<00:00,  2.41s/it, val49.0 total0.0125 dsc0.1277 ce0.0481 constrain0.0036  (0.0121)]\n",
      "100%|████████████| 128/128 [03:14<00:00,  1.52s/it, train50.0 total0.0044 dsc0.0689 ce0.0171 constrain0.0013  (0.0045)]\n",
      "100%|████████████████| 25/25 [00:57<00:00,  2.31s/it, val50.0 total0.0134 dsc0.1248 ce0.0509 constrain0.0040  (0.0132)]\n",
      "100%|████████████| 128/128 [03:15<00:00,  1.53s/it, train51.0 total0.0042 dsc0.0650 ce0.0162 constrain0.0012  (0.0044)]\n",
      "100%|████████████████| 25/25 [00:57<00:00,  2.32s/it, val51.0 total0.0141 dsc0.1252 ce0.0539 constrain0.0041  (0.0120)]\n",
      "100%|████████████| 128/128 [03:19<00:00,  1.56s/it, train52.0 total0.0041 dsc0.0634 ce0.0158 constrain0.0012  (0.0039)]\n",
      "100%|████████████████| 25/25 [00:55<00:00,  2.23s/it, val52.0 total0.0143 dsc0.1230 ce0.0542 constrain0.0043  (0.0139)]\n",
      "100%|████████████| 128/128 [03:13<00:00,  1.51s/it, train53.0 total0.0040 dsc0.0609 ce0.0152 constrain0.0011  (0.0041)]\n",
      "100%|████████████████| 25/25 [00:56<00:00,  2.27s/it, val53.0 total0.0146 dsc0.1247 ce0.0554 constrain0.0044  (0.0153)]\n",
      "100%|████████████| 128/128 [03:12<00:00,  1.51s/it, train54.0 total0.0039 dsc0.0603 ce0.0151 constrain0.0011  (0.0040)]\n",
      "100%|████████████████| 25/25 [00:56<00:00,  2.27s/it, val54.0 total0.0150 dsc0.1239 ce0.0567 constrain0.0045  (0.0142)]\n",
      "100%|████████████| 128/128 [03:13<00:00,  1.51s/it, train55.0 total0.0039 dsc0.0602 ce0.0151 constrain0.0011  (0.0039)]\n",
      "100%|████████████████| 25/25 [00:56<00:00,  2.26s/it, val55.0 total0.0150 dsc0.1217 ce0.0563 constrain0.0046  (0.0248)]\n",
      "100%|████████████| 128/128 [03:12<00:00,  1.50s/it, train56.0 total0.0039 dsc0.0605 ce0.0151 constrain0.0011  (0.0041)]\n",
      "100%|████████████████| 25/25 [00:56<00:00,  2.24s/it, val56.0 total0.0146 dsc0.1228 ce0.0552 constrain0.0045  (0.0141)]\n",
      "100%|████████████| 128/128 [03:12<00:00,  1.51s/it, train57.0 total0.0039 dsc0.0602 ce0.0151 constrain0.0011  (0.0037)]\n",
      "100%|████████████████| 25/25 [00:57<00:00,  2.28s/it, val57.0 total0.0149 dsc0.1237 ce0.0564 constrain0.0046  (0.0163)]\n",
      "100%|████████████| 128/128 [03:13<00:00,  1.51s/it, train58.0 total0.0038 dsc0.0590 ce0.0148 constrain0.0011  (0.0038)]\n",
      "100%|████████████████| 25/25 [00:56<00:00,  2.28s/it, val58.0 total0.0156 dsc0.1216 ce0.0583 constrain0.0049  (0.0139)]\n",
      "100%|████████████| 128/128 [03:15<00:00,  1.53s/it, train59.0 total0.0037 dsc0.0571 ce0.0143 constrain0.0010  (0.0039)]\n",
      "100%|████████████████| 25/25 [00:57<00:00,  2.30s/it, val59.0 total0.0157 dsc0.1221 ce0.0597 constrain0.0047  (0.0136)]\n",
      "100%|████████████| 128/128 [03:14<00:00,  1.52s/it, train60.0 total0.0038 dsc0.0583 ce0.0147 constrain0.0011  (0.0043)]\n",
      "100%|████████████████| 25/25 [00:57<00:00,  2.28s/it, val60.0 total0.0144 dsc0.1250 ce0.0552 constrain0.0042  (0.0134)]\n",
      "100%|████████████| 128/128 [03:14<00:00,  1.52s/it, train61.0 total0.0039 dsc0.0600 ce0.0150 constrain0.0011  (0.0033)]\n",
      "100%|████████████████| 25/25 [00:55<00:00,  2.24s/it, val61.0 total0.0154 dsc0.1213 ce0.0580 constrain0.0047  (0.0158)]\n",
      "100%|████████████| 128/128 [03:12<00:00,  1.50s/it, train62.0 total0.0036 dsc0.0554 ce0.0138 constrain0.0010  (0.0036)]\n",
      "100%|████████████████| 25/25 [00:56<00:00,  2.26s/it, val62.0 total0.0156 dsc0.1201 ce0.0583 constrain0.0049  (0.0164)]\n",
      "100%|████████████| 128/128 [03:13<00:00,  1.51s/it, train63.0 total0.0035 dsc0.0540 ce0.0135 constrain0.0010  (0.0035)]\n",
      "100%|████████████████| 25/25 [00:57<00:00,  2.29s/it, val63.0 total0.0160 dsc0.1209 ce0.0597 constrain0.0050  (0.0132)]\n",
      "100%|████████████| 128/128 [03:14<00:00,  1.52s/it, train64.0 total0.0034 dsc0.0530 ce0.0133 constrain0.0010  (0.0037)]\n",
      "100%|████████████████| 25/25 [00:56<00:00,  2.27s/it, val64.0 total0.0166 dsc0.1196 ce0.0621 constrain0.0053  (0.0208)]\n",
      "100%|████████████| 128/128 [03:16<00:00,  1.54s/it, train65.0 total0.0034 dsc0.0532 ce0.0133 constrain0.0010  (0.0033)]\n",
      "100%|████████████████| 25/25 [00:55<00:00,  2.24s/it, val65.0 total0.0163 dsc0.1188 ce0.0609 constrain0.0052  (0.0158)]\n",
      "100%|████████████| 128/128 [03:13<00:00,  1.51s/it, train66.0 total0.0035 dsc0.0536 ce0.0135 constrain0.0010  (0.0038)]\n",
      "100%|████████████████| 25/25 [00:57<00:00,  2.31s/it, val66.0 total0.0161 dsc0.1209 ce0.0604 constrain0.0050  (0.0147)]\n",
      "100%|████████████| 128/128 [03:12<00:00,  1.50s/it, train67.0 total0.0037 dsc0.0566 ce0.0142 constrain0.0011  (0.0039)]\n",
      "100%|████████████████| 25/25 [00:58<00:00,  2.34s/it, val67.0 total0.0155 dsc0.1222 ce0.0582 constrain0.0048  (0.0147)]\n",
      "100%|████████████| 128/128 [03:13<00:00,  1.51s/it, train68.0 total0.0040 dsc0.0605 ce0.0152 constrain0.0012  (0.0046)]\n",
      "100%|████████████████| 25/25 [00:57<00:00,  2.32s/it, val68.0 total0.0149 dsc0.1252 ce0.0561 constrain0.0046  (0.0154)]\n",
      "100%|████████████| 128/128 [03:13<00:00,  1.51s/it, train69.0 total0.0042 dsc0.0634 ce0.0159 constrain0.0012  (0.0037)]\n",
      "100%|████████████████| 25/25 [00:56<00:00,  2.28s/it, val69.0 total0.0145 dsc0.1249 ce0.0549 constrain0.0044  (0.0149)]\n",
      "100%|████████████| 128/128 [03:12<00:00,  1.51s/it, train70.0 total0.0037 dsc0.0568 ce0.0141 constrain0.0011  (0.0036)]\n",
      "100%|████████████████| 25/25 [00:58<00:00,  2.33s/it, val70.0 total0.0161 dsc0.1195 ce0.0607 constrain0.0049  (0.0182)]\n",
      "100%|████████████| 128/128 [03:12<00:00,  1.50s/it, train71.0 total0.0052 dsc0.0782 ce0.0201 constrain0.0015  (0.0059)]\n",
      "100%|████████████████| 25/25 [00:57<00:00,  2.28s/it, val71.0 total0.0134 dsc0.1305 ce0.0514 constrain0.0039  (0.0129)]\n",
      "100%|████████████| 128/128 [03:12<00:00,  1.51s/it, train72.0 total0.0040 dsc0.0618 ce0.0154 constrain0.0012  (0.0061)]\n",
      "100%|████████████████| 25/25 [00:58<00:00,  2.32s/it, val72.0 total0.0159 dsc0.1265 ce0.0594 constrain0.0050  (0.0141)]\n",
      "100%|████████████| 128/128 [03:13<00:00,  1.51s/it, train73.0 total0.0051 dsc0.0779 ce0.0197 constrain0.0015  (0.0041)]\n",
      "100%|████████████████| 25/25 [00:56<00:00,  2.27s/it, val73.0 total0.0143 dsc0.1264 ce0.0544 constrain0.0043  (0.0145)]\n",
      "100%|████████████| 128/128 [03:13<00:00,  1.51s/it, train74.0 total0.0040 dsc0.0612 ce0.0152 constrain0.0012  (0.0042)]\n",
      "100%|████████████████| 25/25 [00:59<00:00,  2.37s/it, val74.0 total0.0157 dsc0.1221 ce0.0591 constrain0.0048  (0.0155)]\n",
      "100%|████████████| 128/128 [03:13<00:00,  1.51s/it, train75.0 total0.0033 dsc0.0514 ce0.0127 constrain0.0009  (0.0030)]\n",
      "100%|████████████████| 25/25 [00:56<00:00,  2.28s/it, val75.0 total0.0168 dsc0.1180 ce0.0630 constrain0.0053  (0.0162)]\n",
      "100%|████████████| 128/128 [03:12<00:00,  1.50s/it, train76.0 total0.0030 dsc0.0464 ce0.0115 constrain0.0008  (0.0031)]\n",
      "100%|████████████████| 25/25 [00:57<00:00,  2.29s/it, val76.0 total0.0177 dsc0.1169 ce0.0665 constrain0.0055  (0.0179)]\n",
      "100%|████████████| 128/128 [03:13<00:00,  1.51s/it, train77.0 total0.0028 dsc0.0442 ce0.0110 constrain0.0008  (0.0029)]\n",
      "100%|████████████████| 25/25 [00:59<00:00,  2.36s/it, val77.0 total0.0183 dsc0.1155 ce0.0684 constrain0.0057  (0.0152)]\n",
      "100%|████████████| 128/128 [03:17<00:00,  1.54s/it, train78.0 total0.0028 dsc0.0434 ce0.0109 constrain0.0008  (0.0027)]\n",
      "100%|████████████████| 25/25 [00:57<00:00,  2.31s/it, val78.0 total0.0188 dsc0.1165 ce0.0705 constrain0.0058  (0.0195)]\n",
      "100%|████████████| 128/128 [03:12<00:00,  1.51s/it, train79.0 total0.0028 dsc0.0433 ce0.0109 constrain0.0008  (0.0026)]\n",
      "100%|████████████████| 25/25 [00:57<00:00,  2.28s/it, val79.0 total0.0190 dsc0.1158 ce0.0708 constrain0.0060  (0.0213)]\n",
      "100%|████████████| 128/128 [03:11<00:00,  1.50s/it, train80.0 total0.0027 dsc0.0421 ce0.0105 constrain0.0008  (0.0027)]\n",
      "100%|████████████████| 25/25 [00:56<00:00,  2.25s/it, val80.0 total0.0195 dsc0.1148 ce0.0735 constrain0.0060  (0.0187)]\n",
      "100%|████████████| 128/128 [03:13<00:00,  1.51s/it, train81.0 total0.0027 dsc0.0418 ce0.0105 constrain0.0008  (0.0035)]\n",
      "100%|████████████████| 25/25 [00:56<00:00,  2.24s/it, val81.0 total0.0198 dsc0.1157 ce0.0738 constrain0.0063  (0.0152)]\n",
      "100%|████████████| 128/128 [03:13<00:00,  1.51s/it, train82.0 total0.0027 dsc0.0419 ce0.0105 constrain0.0008  (0.0028)]\n",
      "100%|████████████████| 25/25 [00:56<00:00,  2.25s/it, val82.0 total0.0195 dsc0.1159 ce0.0728 constrain0.0062  (0.0203)]\n",
      "100%|████████████| 128/128 [03:13<00:00,  1.51s/it, train83.0 total0.0027 dsc0.0417 ce0.0104 constrain0.0008  (0.0026)]\n",
      "100%|████████████████| 25/25 [00:58<00:00,  2.33s/it, val83.0 total0.0197 dsc0.1174 ce0.0742 constrain0.0061  (0.0207)]\n",
      "100%|████████████| 128/128 [03:14<00:00,  1.52s/it, train84.0 total0.0027 dsc0.0419 ce0.0105 constrain0.0008  (0.0032)]\n",
      "100%|████████████████| 25/25 [00:56<00:00,  2.27s/it, val84.0 total0.0197 dsc0.1171 ce0.0733 constrain0.0063  (0.0220)]\n",
      "100%|████████████| 128/128 [03:13<00:00,  1.51s/it, train85.0 total0.0029 dsc0.0435 ce0.0110 constrain0.0008  (0.0031)]\n",
      "100%|████████████████| 25/25 [00:56<00:00,  2.26s/it, val85.0 total0.0192 dsc0.1176 ce0.0713 constrain0.0062  (0.0197)]\n",
      "100%|████████████| 128/128 [03:13<00:00,  1.51s/it, train86.0 total0.0030 dsc0.0452 ce0.0114 constrain0.0009  (0.0029)]\n",
      "100%|████████████████| 25/25 [00:57<00:00,  2.30s/it, val86.0 total0.0188 dsc0.1197 ce0.0704 constrain0.0059  (0.0193)]\n",
      "100%|████████████| 128/128 [03:13<00:00,  1.51s/it, train87.0 total0.0031 dsc0.0472 ce0.0119 constrain0.0009  (0.0035)]\n"
     ]
    },
    {
     "name": "stderr",
     "output_type": "stream",
     "text": [
      "100%|████████████████| 25/25 [00:58<00:00,  2.34s/it, val87.0 total0.0171 dsc0.1222 ce0.0630 constrain0.0056  (0.0178)]\n",
      "100%|████████████| 128/128 [03:16<00:00,  1.54s/it, train88.0 total0.0035 dsc0.0522 ce0.0131 constrain0.0010  (0.0035)]\n",
      "100%|████████████████| 25/25 [00:59<00:00,  2.37s/it, val88.0 total0.0172 dsc0.1210 ce0.0638 constrain0.0056  (0.0158)]\n",
      "100%|████████████| 128/128 [03:16<00:00,  1.54s/it, train89.0 total0.0031 dsc0.0477 ce0.0119 constrain0.0009  (0.0033)]\n",
      "100%|████████████████| 25/25 [00:59<00:00,  2.36s/it, val89.0 total0.0179 dsc0.1193 ce0.0663 constrain0.0058  (0.0145)]\n",
      "100%|████████████| 128/128 [03:13<00:00,  1.52s/it, train90.0 total0.0029 dsc0.0444 ce0.0110 constrain0.0008  (0.0029)]\n",
      "100%|████████████████| 25/25 [01:00<00:00,  2.41s/it, val90.0 total0.0195 dsc0.1178 ce0.0726 constrain0.0062  (0.0162)]\n",
      "100%|████████████| 128/128 [03:16<00:00,  1.53s/it, train91.0 total0.0027 dsc0.0425 ce0.0106 constrain0.0008  (0.0027)]\n",
      "100%|████████████████| 25/25 [00:57<00:00,  2.29s/it, val91.0 total0.0198 dsc0.1168 ce0.0741 constrain0.0062  (0.0209)]\n",
      "100%|████████████| 128/128 [03:12<00:00,  1.50s/it, train92.0 total0.0026 dsc0.0407 ce0.0102 constrain0.0007  (0.0026)]\n",
      "100%|████████████████| 25/25 [00:57<00:00,  2.29s/it, val92.0 total0.0207 dsc0.1175 ce0.0770 constrain0.0066  (0.0210)]\n",
      "100%|████████████| 128/128 [03:14<00:00,  1.52s/it, train93.0 total0.0026 dsc0.0398 ce0.0100 constrain0.0007  (0.0027)]\n",
      "100%|████████████████| 25/25 [00:56<00:00,  2.27s/it, val93.0 total0.0211 dsc0.1156 ce0.0789 constrain0.0066  (0.0204)]\n",
      "100%|████████████| 128/128 [03:13<00:00,  1.51s/it, train94.0 total0.0025 dsc0.0390 ce0.0098 constrain0.0007  (0.0024)]\n",
      "100%|████████████████| 25/25 [00:56<00:00,  2.25s/it, val94.0 total0.0210 dsc0.1140 ce0.0779 constrain0.0068  (0.0173)]\n",
      "100%|████████████| 128/128 [03:13<00:00,  1.51s/it, train95.0 total0.0025 dsc0.0390 ce0.0098 constrain0.0007  (0.0023)]\n",
      "100%|████████████████| 25/25 [00:57<00:00,  2.30s/it, val95.0 total0.0215 dsc0.1167 ce0.0800 constrain0.0069  (0.0203)]\n",
      "100%|████████████| 128/128 [03:13<00:00,  1.51s/it, train96.0 total0.0025 dsc0.0389 ce0.0098 constrain0.0007  (0.0026)]\n",
      "100%|████████████████| 25/25 [00:58<00:00,  2.34s/it, val96.0 total0.0217 dsc0.1174 ce0.0818 constrain0.0067  (0.0193)]\n",
      "100%|████████████| 128/128 [03:15<00:00,  1.52s/it, train97.0 total0.0030 dsc0.0438 ce0.0112 constrain0.0009  (0.0036)]\n",
      "100%|████████████████| 25/25 [00:57<00:00,  2.28s/it, val97.0 total0.0180 dsc0.1248 ce0.0668 constrain0.0058  (0.0164)]\n",
      "100%|████████████| 128/128 [03:13<00:00,  1.51s/it, train98.0 total0.0038 dsc0.0562 ce0.0143 constrain0.0012  (0.0044)]\n",
      "100%|████████████████| 25/25 [00:56<00:00,  2.27s/it, val98.0 total0.0158 dsc0.1250 ce0.0589 constrain0.0050  (0.0197)]\n",
      "100%|████████████| 128/128 [03:11<00:00,  1.50s/it, train99.0 total0.0033 dsc0.0508 ce0.0126 constrain0.0010  (0.0029)]\n",
      "100%|████████████████| 25/25 [00:56<00:00,  2.24s/it, val99.0 total0.0185 dsc0.1200 ce0.0678 constrain0.0062  (0.0141)]\n",
      "4005it [00:03, 1326.97it/s]\n",
      "4005it [00:00, 7755.21it/s]\n",
      "100%|█████████████| 128/128 [03:11<00:00,  1.50s/it, train0.0 total0.0282 dsc0.6300 ce0.1755 constrain0.0022  (0.0158)]\n",
      "100%|█████████████████| 25/25 [00:56<00:00,  1.31it/s, val0.0 total0.0164 dsc0.4889 ce0.1037 constrain0.0010  (0.0152)]"
     ]
    },
    {
     "name": "stdout",
     "output_type": "stream",
     "text": [
      "this is the best so far tensor(0.0164, device='cuda:0', dtype=torch.float64)\n"
     ]
    },
    {
     "name": "stderr",
     "output_type": "stream",
     "text": [
      "100%|█████████████████| 25/25 [00:56<00:00,  2.27s/it, val0.0 total0.0164 dsc0.4889 ce0.1037 constrain0.0010  (0.0152)]\n",
      "100%|█████████████| 128/128 [03:12<00:00,  1.51s/it, train1.0 total0.0150 dsc0.4349 ce0.0953 constrain0.0009  (0.0131)]\n",
      "100%|█████████████████| 25/25 [00:54<00:00,  1.22it/s, val1.0 total0.0134 dsc0.3963 ce0.0844 constrain0.0008  (0.0132)]"
     ]
    },
    {
     "name": "stdout",
     "output_type": "stream",
     "text": [
      "this is the best so far tensor(0.0134, device='cuda:0', dtype=torch.float64)\n"
     ]
    },
    {
     "name": "stderr",
     "output_type": "stream",
     "text": [
      "100%|█████████████████| 25/25 [00:55<00:00,  2.23s/it, val1.0 total0.0134 dsc0.3963 ce0.0844 constrain0.0008  (0.0132)]\n",
      "100%|█████████████| 128/128 [03:11<00:00,  1.50s/it, train2.0 total0.0125 dsc0.3492 ce0.0771 constrain0.0010  (0.0117)]\n",
      "100%|█████████████████| 25/25 [00:54<00:00,  1.23it/s, val2.0 total0.0116 dsc0.3281 ce0.0712 constrain0.0010  (0.0135)]"
     ]
    },
    {
     "name": "stdout",
     "output_type": "stream",
     "text": [
      "this is the best so far tensor(0.0116, device='cuda:0', dtype=torch.float64)\n"
     ]
    },
    {
     "name": "stderr",
     "output_type": "stream",
     "text": [
      "100%|█████████████████| 25/25 [00:55<00:00,  2.22s/it, val2.0 total0.0116 dsc0.3281 ce0.0712 constrain0.0010  (0.0135)]\n",
      "100%|█████████████| 128/128 [03:12<00:00,  1.50s/it, train3.0 total0.0110 dsc0.2943 ce0.0663 constrain0.0012  (0.0122)]\n",
      "100%|█████████████████| 25/25 [00:54<00:00,  1.27it/s, val3.0 total0.0102 dsc0.2772 ce0.0612 constrain0.0012  (0.0098)]"
     ]
    },
    {
     "name": "stdout",
     "output_type": "stream",
     "text": [
      "this is the best so far tensor(0.0102, device='cuda:0', dtype=torch.float64)\n"
     ]
    },
    {
     "name": "stderr",
     "output_type": "stream",
     "text": [
      "100%|█████████████████| 25/25 [00:55<00:00,  2.22s/it, val3.0 total0.0102 dsc0.2772 ce0.0612 constrain0.0012  (0.0098)]\n",
      "100%|█████████████| 128/128 [03:11<00:00,  1.50s/it, train4.0 total0.0099 dsc0.2570 ce0.0588 constrain0.0013  (0.0099)]\n",
      "100%|█████████████████| 25/25 [00:55<00:00,  1.25it/s, val4.0 total0.0096 dsc0.2478 ce0.0569 constrain0.0013  (0.0090)]"
     ]
    },
    {
     "name": "stdout",
     "output_type": "stream",
     "text": [
      "this is the best so far tensor(0.0096, device='cuda:0', dtype=torch.float64)\n"
     ]
    },
    {
     "name": "stderr",
     "output_type": "stream",
     "text": [
      "100%|█████████████████| 25/25 [00:55<00:00,  2.24s/it, val4.0 total0.0096 dsc0.2478 ce0.0569 constrain0.0013  (0.0090)]\n",
      "100%|█████████████| 128/128 [03:13<00:00,  1.51s/it, train5.0 total0.0091 dsc0.2295 ce0.0532 constrain0.0013  (0.0079)]\n",
      "100%|█████████████████| 25/25 [00:56<00:00,  1.26it/s, val5.0 total0.0088 dsc0.2252 ce0.0515 constrain0.0012  (0.0079)]"
     ]
    },
    {
     "name": "stdout",
     "output_type": "stream",
     "text": [
      "this is the best so far tensor(0.0088, device='cuda:0', dtype=torch.float64)\n"
     ]
    },
    {
     "name": "stderr",
     "output_type": "stream",
     "text": [
      "100%|█████████████████| 25/25 [00:57<00:00,  2.28s/it, val5.0 total0.0088 dsc0.2252 ce0.0515 constrain0.0012  (0.0079)]\n",
      "100%|█████████████| 128/128 [03:12<00:00,  1.50s/it, train6.0 total0.0086 dsc0.2124 ce0.0500 constrain0.0013  (0.0092)]\n",
      "100%|█████████████████| 25/25 [00:55<00:00,  1.23it/s, val6.0 total0.0087 dsc0.2122 ce0.0497 constrain0.0014  (0.0091)]"
     ]
    },
    {
     "name": "stdout",
     "output_type": "stream",
     "text": [
      "this is the best so far tensor(0.0087, device='cuda:0', dtype=torch.float64)\n"
     ]
    },
    {
     "name": "stderr",
     "output_type": "stream",
     "text": [
      "100%|█████████████████| 25/25 [00:56<00:00,  2.24s/it, val6.0 total0.0087 dsc0.2122 ce0.0497 constrain0.0014  (0.0091)]\n",
      "100%|█████████████| 128/128 [03:13<00:00,  1.51s/it, train7.0 total0.0087 dsc0.2086 ce0.0504 constrain0.0014  (0.0080)]\n",
      "100%|█████████████████| 25/25 [00:56<00:00,  2.25s/it, val7.0 total0.0087 dsc0.2138 ce0.0505 constrain0.0013  (0.0081)]\n",
      "100%|█████████████| 128/128 [03:12<00:00,  1.50s/it, train8.0 total0.0081 dsc0.1931 ce0.0465 constrain0.0013  (0.0084)]\n",
      "100%|█████████████████| 25/25 [00:55<00:00,  1.26it/s, val8.0 total0.0081 dsc0.1988 ce0.0470 constrain0.0013  (0.0073)]"
     ]
    },
    {
     "name": "stdout",
     "output_type": "stream",
     "text": [
      "this is the best so far tensor(0.0081, device='cuda:0', dtype=torch.float64)\n"
     ]
    },
    {
     "name": "stderr",
     "output_type": "stream",
     "text": [
      "100%|█████████████████| 25/25 [00:55<00:00,  2.24s/it, val8.0 total0.0081 dsc0.1988 ce0.0470 constrain0.0013  (0.0073)]\n",
      "100%|█████████████| 128/128 [03:11<00:00,  1.50s/it, train9.0 total0.0082 dsc0.1917 ce0.0469 constrain0.0014  (0.0099)]\n",
      "100%|█████████████████| 25/25 [00:56<00:00,  2.26s/it, val9.0 total0.0085 dsc0.2013 ce0.0488 constrain0.0014  (0.0084)]\n",
      "100%|████████████| 128/128 [03:12<00:00,  1.50s/it, train10.0 total0.0087 dsc0.1997 ce0.0496 constrain0.0015  (0.0074)]\n",
      "100%|████████████████| 25/25 [00:56<00:00,  2.25s/it, val10.0 total0.0083 dsc0.1890 ce0.0468 constrain0.0015  (0.0082)]\n",
      "100%|████████████| 128/128 [03:11<00:00,  1.50s/it, train11.0 total0.0078 dsc0.1788 ce0.0439 constrain0.0014  (0.0074)]\n",
      "100%|████████████████| 25/25 [00:56<00:00,  2.26s/it, val11.0 total0.0085 dsc0.1869 ce0.0472 constrain0.0016  (0.0087)]\n",
      "100%|████████████| 128/128 [03:13<00:00,  1.51s/it, train12.0 total0.0075 dsc0.1716 ce0.0422 constrain0.0014  (0.0081)]\n",
      "100%|████████████████| 25/25 [00:56<00:00,  1.29it/s, val12.0 total0.0079 dsc0.1807 ce0.0449 constrain0.0014  (0.0082)]"
     ]
    },
    {
     "name": "stdout",
     "output_type": "stream",
     "text": [
      "this is the best so far tensor(0.0079, device='cuda:0', dtype=torch.float64)\n"
     ]
    },
    {
     "name": "stderr",
     "output_type": "stream",
     "text": [
      "100%|████████████████| 25/25 [00:57<00:00,  2.29s/it, val12.0 total0.0079 dsc0.1807 ce0.0449 constrain0.0014  (0.0082)]\n",
      "100%|████████████| 128/128 [03:11<00:00,  1.50s/it, train13.0 total0.0075 dsc0.1701 ce0.0424 constrain0.0014  (0.0085)]\n",
      "100%|████████████████| 25/25 [00:55<00:00,  1.31it/s, val13.0 total0.0078 dsc0.1796 ce0.0445 constrain0.0013  (0.0085)]"
     ]
    },
    {
     "name": "stdout",
     "output_type": "stream",
     "text": [
      "this is the best so far tensor(0.0078, device='cuda:0', dtype=torch.float64)\n"
     ]
    },
    {
     "name": "stderr",
     "output_type": "stream",
     "text": [
      "100%|████████████████| 25/25 [00:56<00:00,  2.25s/it, val13.0 total0.0078 dsc0.1796 ce0.0445 constrain0.0013  (0.0085)]\n",
      "100%|████████████| 128/128 [03:11<00:00,  1.50s/it, train14.0 total0.0072 dsc0.1638 ce0.0405 constrain0.0014  (0.0067)]\n",
      "100%|████████████████| 25/25 [00:55<00:00,  1.14it/s, val14.0 total0.0077 dsc0.1749 ce0.0437 constrain0.0014  (0.0074)]"
     ]
    },
    {
     "name": "stdout",
     "output_type": "stream",
     "text": [
      "this is the best so far tensor(0.0077, device='cuda:0', dtype=torch.float64)\n"
     ]
    },
    {
     "name": "stderr",
     "output_type": "stream",
     "text": [
      "100%|████████████████| 25/25 [00:56<00:00,  2.25s/it, val14.0 total0.0077 dsc0.1749 ce0.0437 constrain0.0014  (0.0074)]\n",
      "100%|████████████| 128/128 [03:12<00:00,  1.50s/it, train15.0 total0.0070 dsc0.1575 ce0.0389 constrain0.0013  (0.0076)]\n",
      "100%|████████████████| 25/25 [00:55<00:00,  2.23s/it, val15.0 total0.0079 dsc0.1744 ce0.0440 constrain0.0016  (0.0079)]\n",
      "100%|████████████| 128/128 [03:13<00:00,  1.51s/it, train16.0 total0.0067 dsc0.1510 ce0.0373 constrain0.0013  (0.0068)]\n",
      "100%|████████████████| 25/25 [00:57<00:00,  2.32s/it, val16.0 total0.0079 dsc0.1657 ce0.0433 constrain0.0016  (0.0076)]\n",
      "100%|████████████| 128/128 [03:14<00:00,  1.52s/it, train17.0 total0.0069 dsc0.1541 ce0.0386 constrain0.0013  (0.0071)]\n",
      "100%|████████████████| 25/25 [00:57<00:00,  2.30s/it, val17.0 total0.0082 dsc0.1827 ce0.0464 constrain0.0014  (0.0081)]\n",
      "100%|████████████| 128/128 [03:13<00:00,  1.51s/it, train18.0 total0.0074 dsc0.1627 ce0.0409 constrain0.0015  (0.0071)]\n",
      "100%|████████████████| 25/25 [00:57<00:00,  1.27it/s, val18.0 total0.0077 dsc0.1669 ce0.0426 constrain0.0015  (0.0082)]"
     ]
    },
    {
     "name": "stdout",
     "output_type": "stream",
     "text": [
      "this is the best so far tensor(0.0077, device='cuda:0', dtype=torch.float64)\n"
     ]
    },
    {
     "name": "stderr",
     "output_type": "stream",
     "text": [
      "100%|████████████████| 25/25 [00:58<00:00,  2.35s/it, val18.0 total0.0077 dsc0.1669 ce0.0426 constrain0.0015  (0.0082)]\n",
      "100%|████████████| 128/128 [03:18<00:00,  1.55s/it, train19.0 total0.0067 dsc0.1480 ce0.0369 constrain0.0013  (0.0067)]\n",
      "100%|████████████████| 25/25 [00:56<00:00,  2.28s/it, val19.0 total0.0079 dsc0.1665 ce0.0438 constrain0.0016  (0.0081)]\n",
      "100%|████████████| 128/128 [03:13<00:00,  1.51s/it, train20.0 total0.0064 dsc0.1419 ce0.0353 constrain0.0013  (0.0066)]\n",
      "100%|████████████████| 25/25 [00:57<00:00,  2.29s/it, val20.0 total0.0079 dsc0.1607 ce0.0431 constrain0.0017  (0.0078)]\n",
      "100%|████████████| 128/128 [03:15<00:00,  1.53s/it, train21.0 total0.0063 dsc0.1377 ce0.0344 constrain0.0013  (0.0063)]\n",
      "100%|████████████████| 25/25 [00:56<00:00,  2.26s/it, val21.0 total0.0079 dsc0.1620 ce0.0434 constrain0.0017  (0.0088)]\n",
      "100%|████████████| 128/128 [03:13<00:00,  1.52s/it, train22.0 total0.0061 dsc0.1332 ce0.0331 constrain0.0013  (0.0063)]\n",
      "100%|████████████████| 25/25 [00:57<00:00,  2.31s/it, val22.0 total0.0080 dsc0.1560 ce0.0431 constrain0.0019  (0.0079)]\n",
      "100%|████████████| 128/128 [03:13<00:00,  1.51s/it, train23.0 total0.0061 dsc0.1335 ce0.0334 constrain0.0013  (0.0080)]\n",
      "100%|████████████████| 25/25 [00:57<00:00,  2.28s/it, val23.0 total0.0083 dsc0.1674 ce0.0446 constrain0.0020  (0.0074)]\n",
      "100%|████████████| 128/128 [03:13<00:00,  1.51s/it, train24.0 total0.0066 dsc0.1427 ce0.0360 constrain0.0014  (0.0058)]\n",
      "100%|████████████████| 25/25 [00:56<00:00,  2.24s/it, val24.0 total0.0083 dsc0.1613 ce0.0450 constrain0.0019  (0.0085)]\n",
      "100%|████████████| 128/128 [03:14<00:00,  1.52s/it, train25.0 total0.0073 dsc0.1563 ce0.0400 constrain0.0015  (0.0073)]\n",
      "100%|████████████████| 25/25 [00:58<00:00,  2.33s/it, val25.0 total0.0082 dsc0.1762 ce0.0453 constrain0.0017  (0.0084)]\n",
      "100%|████████████| 128/128 [03:13<00:00,  1.51s/it, train26.0 total0.0071 dsc0.1542 ce0.0392 constrain0.0015  (0.0075)]\n",
      "100%|████████████████| 25/25 [00:56<00:00,  2.27s/it, val26.0 total0.0081 dsc0.1702 ce0.0452 constrain0.0015  (0.0080)]\n",
      "100%|████████████| 128/128 [03:13<00:00,  1.51s/it, train27.0 total0.0063 dsc0.1377 ce0.0346 constrain0.0013  (0.0057)]\n",
      "100%|████████████████| 25/25 [00:56<00:00,  2.28s/it, val27.0 total0.0078 dsc0.1582 ce0.0425 constrain0.0017  (0.0068)]\n",
      "100%|████████████| 128/128 [03:14<00:00,  1.52s/it, train28.0 total0.0057 dsc0.1252 ce0.0311 constrain0.0013  (0.0059)]\n",
      "100%|████████████████| 25/25 [00:56<00:00,  2.27s/it, val28.0 total0.0081 dsc0.1523 ce0.0431 constrain0.0019  (0.0095)]\n",
      "100%|████████████| 128/128 [03:13<00:00,  1.51s/it, train29.0 total0.0054 dsc0.1180 ce0.0292 constrain0.0012  (0.0056)]\n",
      "100%|████████████████| 25/25 [00:57<00:00,  2.29s/it, val29.0 total0.0084 dsc0.1529 ce0.0449 constrain0.0020  (0.0103)]\n",
      "100%|████████████| 128/128 [03:12<00:00,  1.50s/it, train30.0 total0.0053 dsc0.1139 ce0.0282 constrain0.0012  (0.0059)]\n",
      "100%|████████████████| 25/25 [00:56<00:00,  2.25s/it, val30.0 total0.0084 dsc0.1483 ce0.0433 constrain0.0023  (0.0085)]\n",
      "100%|████████████| 128/128 [03:12<00:00,  1.50s/it, train31.0 total0.0052 dsc0.1120 ce0.0278 constrain0.0012  (0.0058)]\n",
      "100%|████████████████| 25/25 [00:55<00:00,  2.24s/it, val31.0 total0.0084 dsc0.1512 ce0.0442 constrain0.0021  (0.0094)]\n",
      "100%|████████████| 128/128 [03:13<00:00,  1.51s/it, train32.0 total0.0051 dsc0.1096 ce0.0271 constrain0.0012  (0.0053)]\n",
      "100%|████████████████| 25/25 [00:55<00:00,  2.24s/it, val32.0 total0.0087 dsc0.1466 ce0.0444 constrain0.0024  (0.0087)]\n",
      "100%|████████████| 128/128 [03:13<00:00,  1.51s/it, train33.0 total0.0049 dsc0.1061 ce0.0261 constrain0.0012  (0.0053)]\n",
      "100%|████████████████| 25/25 [00:57<00:00,  2.31s/it, val33.0 total0.0087 dsc0.1430 ce0.0444 constrain0.0024  (0.0106)]\n",
      "100%|████████████| 128/128 [03:13<00:00,  1.51s/it, train34.0 total0.0048 dsc0.1039 ce0.0256 constrain0.0012  (0.0053)]\n",
      "100%|████████████████| 25/25 [00:57<00:00,  2.29s/it, val34.0 total0.0092 dsc0.1451 ce0.0472 constrain0.0025  (0.0086)]\n",
      "100%|████████████| 128/128 [03:13<00:00,  1.51s/it, train35.0 total0.0047 dsc0.1012 ce0.0249 constrain0.0011  (0.0046)]\n",
      "100%|████████████████| 25/25 [00:57<00:00,  2.29s/it, val35.0 total0.0090 dsc0.1407 ce0.0445 constrain0.0027  (0.0076)]\n",
      "100%|████████████| 128/128 [03:12<00:00,  1.51s/it, train36.0 total0.0046 dsc0.0982 ce0.0241 constrain0.0011  (0.0050)]\n",
      "100%|████████████████| 25/25 [00:56<00:00,  2.27s/it, val36.0 total0.0092 dsc0.1414 ce0.0460 constrain0.0027  (0.0094)]\n",
      "100%|████████████| 128/128 [03:13<00:00,  1.51s/it, train37.0 total0.0045 dsc0.0973 ce0.0239 constrain0.0011  (0.0046)]\n",
      "100%|████████████████| 25/25 [00:55<00:00,  2.24s/it, val37.0 total0.0095 dsc0.1425 ce0.0477 constrain0.0028  (0.0122)]\n",
      "100%|████████████| 128/128 [03:13<00:00,  1.51s/it, train38.0 total0.0044 dsc0.0948 ce0.0233 constrain0.0011  (0.0044)]\n",
      "100%|████████████████| 25/25 [00:55<00:00,  2.22s/it, val38.0 total0.0096 dsc0.1379 ce0.0472 constrain0.0030  (0.0107)]\n",
      "100%|████████████| 128/128 [03:13<00:00,  1.51s/it, train39.0 total0.0043 dsc0.0928 ce0.0227 constrain0.0011  (0.0043)]\n",
      "100%|████████████████| 25/25 [00:55<00:00,  2.23s/it, val39.0 total0.0097 dsc0.1417 ce0.0479 constrain0.0030  (0.0087)]\n",
      "100%|████████████| 128/128 [03:12<00:00,  1.51s/it, train40.0 total0.0044 dsc0.0930 ce0.0229 constrain0.0011  (0.0051)]\n",
      "100%|████████████████| 25/25 [00:59<00:00,  2.38s/it, val40.0 total0.0099 dsc0.1433 ce0.0499 constrain0.0028  (0.0080)]\n",
      "100%|████████████| 128/128 [03:14<00:00,  1.52s/it, train41.0 total0.0045 dsc0.0961 ce0.0238 constrain0.0011  (0.0046)]\n",
      "100%|████████████████| 25/25 [00:56<00:00,  2.25s/it, val41.0 total0.0096 dsc0.1419 ce0.0485 constrain0.0027  (0.0090)]\n",
      "100%|████████████| 128/128 [03:13<00:00,  1.52s/it, train42.0 total0.0042 dsc0.0902 ce0.0221 constrain0.0011  (0.0042)]\n",
      "100%|████████████████| 25/25 [00:56<00:00,  2.24s/it, val42.0 total0.0096 dsc0.1369 ce0.0475 constrain0.0030  (0.0092)]\n",
      "100%|████████████| 128/128 [03:13<00:00,  1.51s/it, train43.0 total0.0041 dsc0.0875 ce0.0215 constrain0.0010  (0.0045)]\n",
      "100%|████████████████| 25/25 [00:55<00:00,  2.21s/it, val43.0 total0.0099 dsc0.1375 ce0.0488 constrain0.0030  (0.0122)]\n",
      "100%|████████████| 128/128 [03:10<00:00,  1.49s/it, train44.0 total0.0040 dsc0.0854 ce0.0210 constrain0.0010  (0.0042)]\n",
      "100%|████████████████| 25/25 [00:54<00:00,  2.20s/it, val44.0 total0.0102 dsc0.1384 ce0.0503 constrain0.0031  (0.0087)]\n",
      "100%|████████████| 128/128 [03:12<00:00,  1.50s/it, train45.0 total0.0040 dsc0.0847 ce0.0208 constrain0.0010  (0.0040)]\n",
      "100%|████████████████| 25/25 [00:56<00:00,  2.24s/it, val45.0 total0.0100 dsc0.1338 ce0.0486 constrain0.0032  (0.0125)]\n",
      "100%|████████████| 128/128 [03:12<00:00,  1.50s/it, train46.0 total0.0040 dsc0.0843 ce0.0207 constrain0.0010  (0.0042)]\n",
      "100%|████████████████| 25/25 [00:56<00:00,  2.24s/it, val46.0 total0.0101 dsc0.1354 ce0.0485 constrain0.0033  (0.0095)]\n",
      "100%|████████████| 128/128 [03:12<00:00,  1.51s/it, train47.0 total0.0039 dsc0.0829 ce0.0203 constrain0.0010  (0.0041)]\n",
      "100%|████████████████| 25/25 [00:56<00:00,  2.25s/it, val47.0 total0.0102 dsc0.1329 ce0.0491 constrain0.0034  (0.0103)]\n",
      "100%|████████████| 128/128 [03:12<00:00,  1.51s/it, train48.0 total0.0038 dsc0.0814 ce0.0200 constrain0.0010  (0.0040)]\n",
      "100%|████████████████| 25/25 [00:55<00:00,  2.23s/it, val48.0 total0.0106 dsc0.1336 ce0.0517 constrain0.0034  (0.0113)]\n",
      "100%|████████████| 128/128 [03:12<00:00,  1.51s/it, train49.0 total0.0037 dsc0.0789 ce0.0193 constrain0.0009  (0.0040)]\n",
      "100%|████████████████| 25/25 [00:57<00:00,  2.28s/it, val49.0 total0.0107 dsc0.1340 ce0.0517 constrain0.0035  (0.0090)]\n",
      "100%|████████████| 128/128 [03:13<00:00,  1.51s/it, train50.0 total0.0037 dsc0.0779 ce0.0191 constrain0.0009  (0.0037)]\n",
      "100%|████████████████| 25/25 [00:57<00:00,  2.32s/it, val50.0 total0.0107 dsc0.1351 ce0.0531 constrain0.0033  (0.0107)]\n",
      "100%|████████████| 128/128 [03:12<00:00,  1.50s/it, train51.0 total0.0036 dsc0.0764 ce0.0187 constrain0.0009  (0.0050)]\n",
      "100%|████████████████| 25/25 [00:55<00:00,  2.22s/it, val51.0 total0.0110 dsc0.1332 ce0.0525 constrain0.0037  (0.0101)]\n",
      "100%|████████████| 128/128 [03:13<00:00,  1.51s/it, train52.0 total0.0041 dsc0.0839 ce0.0209 constrain0.0011  (0.0051)]\n",
      "100%|████████████████| 25/25 [00:55<00:00,  2.22s/it, val52.0 total0.0117 dsc0.1528 ce0.0562 constrain0.0038  (0.0103)]\n",
      "100%|████████████| 128/128 [03:12<00:00,  1.50s/it, train53.0 total0.0066 dsc0.1362 ce0.0353 constrain0.0015  (0.0058)]\n",
      "100%|████████████████| 25/25 [00:56<00:00,  2.24s/it, val53.0 total0.0083 dsc0.1502 ce0.0435 constrain0.0021  (0.0091)]\n",
      "100%|████████████| 128/128 [03:14<00:00,  1.52s/it, train54.0 total0.0047 dsc0.0986 ce0.0245 constrain0.0012  (0.0047)]\n",
      "100%|████████████████| 25/25 [00:55<00:00,  2.23s/it, val54.0 total0.0101 dsc0.1409 ce0.0504 constrain0.0030  (0.0096)]\n",
      "100%|████████████| 128/128 [03:14<00:00,  1.52s/it, train55.0 total0.0038 dsc0.0813 ce0.0199 constrain0.0010  (0.0039)]\n",
      "100%|████████████████| 25/25 [00:55<00:00,  2.24s/it, val55.0 total0.0104 dsc0.1316 ce0.0501 constrain0.0034  (0.0104)]\n",
      "100%|████████████| 128/128 [03:12<00:00,  1.50s/it, train56.0 total0.0034 dsc0.0743 ce0.0181 constrain0.0009  (0.0035)]\n",
      "100%|████████████████| 25/25 [00:56<00:00,  2.25s/it, val56.0 total0.0109 dsc0.1298 ce0.0529 constrain0.0035  (0.0077)]\n",
      "100%|████████████| 128/128 [03:12<00:00,  1.50s/it, train57.0 total0.0033 dsc0.0706 ce0.0171 constrain0.0008  (0.0031)]\n",
      "100%|████████████████| 25/25 [00:56<00:00,  2.26s/it, val57.0 total0.0114 dsc0.1296 ce0.0541 constrain0.0038  (0.0123)]\n",
      "100%|████████████| 128/128 [03:12<00:00,  1.50s/it, train58.0 total0.0031 dsc0.0682 ce0.0166 constrain0.0008  (0.0031)]\n",
      "100%|████████████████| 25/25 [00:56<00:00,  2.25s/it, val58.0 total0.0118 dsc0.1293 ce0.0567 constrain0.0038  (0.0109)]\n",
      "100%|████████████| 128/128 [03:12<00:00,  1.50s/it, train59.0 total0.0031 dsc0.0652 ce0.0161 constrain0.0008  (0.0031)]\n",
      "100%|████████████████| 25/25 [00:54<00:00,  2.17s/it, val59.0 total0.0119 dsc0.1249 ce0.0565 constrain0.0041  (0.0141)]\n",
      "100%|████████████| 128/128 [03:11<00:00,  1.50s/it, train60.0 total0.0031 dsc0.0643 ce0.0160 constrain0.0008  (0.0032)]\n",
      "100%|████████████████| 25/25 [00:55<00:00,  2.23s/it, val60.0 total0.0119 dsc0.1262 ce0.0563 constrain0.0041  (0.0102)]\n",
      "100%|████████████| 128/128 [03:11<00:00,  1.50s/it, train61.0 total0.0032 dsc0.0649 ce0.0162 constrain0.0009  (0.0031)]\n",
      "100%|████████████████| 25/25 [00:55<00:00,  2.20s/it, val61.0 total0.0119 dsc0.1269 ce0.0560 constrain0.0041  (0.0107)]\n",
      "100%|████████████| 128/128 [03:11<00:00,  1.49s/it, train62.0 total0.0031 dsc0.0644 ce0.0160 constrain0.0009  (0.0033)]\n",
      "100%|████████████████| 25/25 [00:55<00:00,  2.22s/it, val62.0 total0.0125 dsc0.1268 ce0.0587 constrain0.0043  (0.0137)]\n",
      "100%|████████████| 128/128 [03:11<00:00,  1.50s/it, train63.0 total0.0032 dsc0.0650 ce0.0162 constrain0.0009  (0.0032)]\n",
      "100%|████████████████| 25/25 [00:58<00:00,  2.35s/it, val63.0 total0.0122 dsc0.1269 ce0.0575 constrain0.0041  (0.0172)]\n",
      "100%|████████████| 128/128 [03:13<00:00,  1.51s/it, train64.0 total0.0031 dsc0.0635 ce0.0158 constrain0.0009  (0.0034)]\n",
      "100%|████████████████| 25/25 [00:55<00:00,  2.22s/it, val64.0 total0.0123 dsc0.1321 ce0.0590 constrain0.0040  (0.0123)]\n",
      "100%|████████████| 128/128 [03:13<00:00,  1.51s/it, train65.0 total0.0032 dsc0.0657 ce0.0163 constrain0.0009  (0.0033)]\n",
      "100%|████████████████| 25/25 [00:56<00:00,  2.25s/it, val65.0 total0.0128 dsc0.1307 ce0.0618 constrain0.0042  (0.0109)]\n",
      "100%|████████████| 128/128 [03:10<00:00,  1.49s/it, train66.0 total0.0055 dsc0.1100 ce0.0284 constrain0.0014  (0.0047)]\n",
      "100%|████████████████| 25/25 [00:56<00:00,  2.26s/it, val66.0 total0.0099 dsc0.1388 ce0.0490 constrain0.0031  (0.0125)]\n",
      "100%|████████████| 128/128 [03:12<00:00,  1.50s/it, train67.0 total0.0038 dsc0.0781 ce0.0193 constrain0.0011  (0.0036)]\n",
      "100%|████████████████| 25/25 [00:56<00:00,  2.27s/it, val67.0 total0.0109 dsc0.1315 ce0.0524 constrain0.0035  (0.0117)]\n",
      "100%|████████████| 128/128 [03:13<00:00,  1.51s/it, train68.0 total0.0033 dsc0.0675 ce0.0167 constrain0.0009  (0.0031)]\n",
      "100%|████████████████| 25/25 [00:56<00:00,  2.26s/it, val68.0 total0.0119 dsc0.1271 ce0.0565 constrain0.0041  (0.0095)]\n",
      "100%|████████████| 128/128 [03:13<00:00,  1.51s/it, train69.0 total0.0029 dsc0.0608 ce0.0150 constrain0.0008  (0.0029)]\n",
      "100%|████████████████| 25/25 [00:55<00:00,  2.22s/it, val69.0 total0.0128 dsc0.1256 ce0.0614 constrain0.0042  (0.0111)]\n",
      "100%|████████████| 128/128 [03:14<00:00,  1.52s/it, train70.0 total0.0028 dsc0.0581 ce0.0144 constrain0.0008  (0.0028)]\n",
      "100%|████████████████| 25/25 [00:55<00:00,  2.23s/it, val70.0 total0.0133 dsc0.1240 ce0.0624 constrain0.0046  (0.0104)]\n",
      "100%|████████████| 128/128 [03:14<00:00,  1.52s/it, train71.0 total0.0027 dsc0.0562 ce0.0139 constrain0.0007  (0.0027)]\n",
      "100%|████████████████| 25/25 [00:56<00:00,  2.27s/it, val71.0 total0.0137 dsc0.1223 ce0.0644 constrain0.0048  (0.0130)]\n",
      "100%|████████████| 128/128 [03:13<00:00,  1.51s/it, train72.0 total0.0027 dsc0.0556 ce0.0138 constrain0.0007  (0.0026)]\n",
      "100%|████████████████| 25/25 [00:56<00:00,  2.24s/it, val72.0 total0.0135 dsc0.1231 ce0.0632 constrain0.0047  (0.0122)]\n",
      "100%|████████████| 128/128 [03:12<00:00,  1.51s/it, train73.0 total0.0027 dsc0.0558 ce0.0139 constrain0.0007  (0.0027)]\n",
      "100%|████████████████| 25/25 [00:57<00:00,  2.30s/it, val73.0 total0.0139 dsc0.1230 ce0.0642 constrain0.0051  (0.0110)]\n",
      "100%|████████████| 128/128 [03:14<00:00,  1.52s/it, train74.0 total0.0028 dsc0.0569 ce0.0142 constrain0.0008  (0.0027)]\n",
      "100%|████████████████| 25/25 [00:57<00:00,  2.29s/it, val74.0 total0.0133 dsc0.1246 ce0.0625 constrain0.0047  (0.0127)]\n",
      "100%|████████████| 128/128 [03:13<00:00,  1.51s/it, train75.0 total0.0028 dsc0.0579 ce0.0143 constrain0.0008  (0.0029)]\n",
      "100%|████████████████| 25/25 [00:56<00:00,  2.24s/it, val75.0 total0.0140 dsc0.1252 ce0.0653 constrain0.0049  (0.0107)]\n",
      "100%|████████████| 128/128 [03:13<00:00,  1.51s/it, train76.0 total0.0028 dsc0.0574 ce0.0143 constrain0.0008  (0.0030)]\n",
      "100%|████████████████| 25/25 [00:56<00:00,  2.25s/it, val76.0 total0.0137 dsc0.1284 ce0.0652 constrain0.0046  (0.0123)]\n",
      "100%|████████████| 128/128 [03:14<00:00,  1.52s/it, train77.0 total0.0031 dsc0.0616 ce0.0155 constrain0.0009  (0.0048)]\n",
      "100%|████████████████| 25/25 [00:56<00:00,  2.25s/it, val77.0 total0.0110 dsc0.1435 ce0.0548 constrain0.0033  (0.0105)]\n",
      "100%|████████████| 128/128 [03:14<00:00,  1.52s/it, train78.0 total0.0036 dsc0.0733 ce0.0183 constrain0.0010  (0.0038)]\n",
      "100%|████████████████| 25/25 [00:56<00:00,  2.27s/it, val78.0 total0.0122 dsc0.1296 ce0.0584 constrain0.0041  (0.0118)]\n",
      "100%|████████████| 128/128 [03:14<00:00,  1.52s/it, train79.0 total0.0029 dsc0.0607 ce0.0150 constrain0.0008  (0.0028)]\n",
      "100%|████████████████| 25/25 [00:57<00:00,  2.31s/it, val79.0 total0.0134 dsc0.1247 ce0.0629 constrain0.0047  (0.0150)]\n",
      "100%|████████████| 128/128 [03:13<00:00,  1.52s/it, train80.0 total0.0028 dsc0.0567 ce0.0141 constrain0.0008  (0.0025)]\n",
      "100%|████████████████| 25/25 [00:57<00:00,  2.30s/it, val80.0 total0.0139 dsc0.1250 ce0.0649 constrain0.0049  (0.0144)]\n",
      "100%|████████████| 128/128 [03:12<00:00,  1.51s/it, train81.0 total0.0026 dsc0.0542 ce0.0134 constrain0.0007  (0.0027)]\n",
      "100%|████████████████| 25/25 [00:56<00:00,  2.25s/it, val81.0 total0.0142 dsc0.1229 ce0.0661 constrain0.0050  (0.0185)]\n",
      "100%|████████████| 128/128 [03:12<00:00,  1.50s/it, train82.0 total0.0029 dsc0.0584 ce0.0147 constrain0.0009  (0.0047)]\n",
      "100%|████████████████| 25/25 [00:57<00:00,  2.29s/it, val82.0 total0.0118 dsc0.1387 ce0.0577 constrain0.0037  (0.0096)]\n",
      "100%|████████████| 128/128 [03:14<00:00,  1.52s/it, train83.0 total0.0033 dsc0.0661 ce0.0164 constrain0.0010  (0.0032)]\n",
      "100%|████████████████| 25/25 [00:57<00:00,  2.30s/it, val83.0 total0.0130 dsc0.1266 ce0.0608 constrain0.0046  (0.0136)]\n",
      "100%|████████████| 128/128 [03:15<00:00,  1.53s/it, train84.0 total0.0027 dsc0.0557 ce0.0138 constrain0.0007  (0.0028)]\n",
      "100%|████████████████| 25/25 [00:57<00:00,  2.28s/it, val84.0 total0.0138 dsc0.1233 ce0.0646 constrain0.0049  (0.0146)]\n",
      "100%|████████████| 128/128 [03:13<00:00,  1.51s/it, train85.0 total0.0025 dsc0.0515 ce0.0128 constrain0.0007  (0.0026)]\n",
      "100%|████████████████| 25/25 [00:57<00:00,  2.29s/it, val85.0 total0.0150 dsc0.1220 ce0.0701 constrain0.0053  (0.0149)]\n",
      "100%|████████████| 128/128 [03:15<00:00,  1.52s/it, train86.0 total0.0025 dsc0.0510 ce0.0127 constrain0.0007  (0.0024)]\n"
     ]
    },
    {
     "name": "stderr",
     "output_type": "stream",
     "text": [
      "100%|████████████████| 25/25 [00:57<00:00,  2.29s/it, val86.0 total0.0151 dsc0.1229 ce0.0694 constrain0.0055  (0.0152)]\n",
      "100%|████████████| 128/128 [03:12<00:00,  1.51s/it, train87.0 total0.0024 dsc0.0504 ce0.0125 constrain0.0007  (0.0025)]\n",
      "100%|████████████████| 25/25 [00:57<00:00,  2.30s/it, val87.0 total0.0151 dsc0.1210 ce0.0704 constrain0.0054  (0.0148)]\n",
      "100%|████████████| 128/128 [03:13<00:00,  1.51s/it, train88.0 total0.0024 dsc0.0493 ce0.0122 constrain0.0006  (0.0022)]\n",
      "100%|████████████████| 25/25 [00:56<00:00,  2.26s/it, val88.0 total0.0159 dsc0.1216 ce0.0736 constrain0.0058  (0.0231)]\n",
      "100%|████████████| 128/128 [03:15<00:00,  1.53s/it, train89.0 total0.0023 dsc0.0477 ce0.0118 constrain0.0006  (0.0024)]\n",
      "100%|████████████████| 25/25 [00:57<00:00,  2.29s/it, val89.0 total0.0158 dsc0.1210 ce0.0737 constrain0.0056  (0.0147)]\n",
      "100%|████████████| 128/128 [03:14<00:00,  1.52s/it, train90.0 total0.0023 dsc0.0468 ce0.0116 constrain0.0006  (0.0025)]\n",
      "100%|████████████████| 25/25 [00:56<00:00,  2.27s/it, val90.0 total0.0158 dsc0.1201 ce0.0725 constrain0.0058  (0.0130)]\n",
      "100%|████████████| 128/128 [03:12<00:00,  1.50s/it, train91.0 total0.0024 dsc0.0492 ce0.0123 constrain0.0007  (0.0028)]\n",
      "100%|████████████████| 25/25 [00:56<00:00,  2.27s/it, val91.0 total0.0151 dsc0.1258 ce0.0695 constrain0.0056  (0.0210)]\n",
      "100%|████████████| 128/128 [03:13<00:00,  1.51s/it, train92.0 total0.0032 dsc0.0625 ce0.0157 constrain0.0010  (0.0035)]\n",
      "100%|████████████████| 25/25 [00:56<00:00,  2.25s/it, val92.0 total0.0122 dsc0.1308 ce0.0578 constrain0.0042  (0.0115)]\n",
      "100%|████████████| 128/128 [03:14<00:00,  1.52s/it, train93.0 total0.0030 dsc0.0609 ce0.0151 constrain0.0009  (0.0028)]\n",
      "100%|████████████████| 25/25 [00:56<00:00,  2.28s/it, val93.0 total0.0139 dsc0.1289 ce0.0651 constrain0.0049  (0.0127)]\n",
      "100%|████████████| 128/128 [03:12<00:00,  1.50s/it, train94.0 total0.0028 dsc0.0575 ce0.0142 constrain0.0008  (0.0030)]\n",
      "100%|████████████████| 25/25 [00:55<00:00,  2.23s/it, val94.0 total0.0137 dsc0.1236 ce0.0630 constrain0.0050  (0.0145)]\n",
      "100%|████████████| 128/128 [03:12<00:00,  1.50s/it, train95.0 total0.0024 dsc0.0502 ce0.0124 constrain0.0007  (0.0024)]\n",
      "100%|████████████████| 25/25 [00:56<00:00,  2.26s/it, val95.0 total0.0152 dsc0.1207 ce0.0698 constrain0.0056  (0.0175)]\n",
      "100%|████████████| 128/128 [03:13<00:00,  1.51s/it, train96.0 total0.0022 dsc0.0466 ce0.0115 constrain0.0006  (0.0023)]\n",
      "100%|████████████████| 25/25 [00:57<00:00,  2.29s/it, val96.0 total0.0161 dsc0.1205 ce0.0750 constrain0.0058  (0.0157)]\n",
      "100%|████████████| 128/128 [03:12<00:00,  1.51s/it, train97.0 total0.0021 dsc0.0441 ce0.0109 constrain0.0006  (0.0021)]\n",
      "100%|████████████████| 25/25 [00:56<00:00,  2.25s/it, val97.0 total0.0168 dsc0.1206 ce0.0777 constrain0.0060  (0.0184)]\n",
      "100%|████████████| 128/128 [03:13<00:00,  1.51s/it, train98.0 total0.0020 dsc0.0428 ce0.0106 constrain0.0005  (0.0026)]\n",
      "100%|████████████████| 25/25 [00:56<00:00,  2.26s/it, val98.0 total0.0173 dsc0.1185 ce0.0809 constrain0.0061  (0.0162)]\n",
      "100%|████████████| 128/128 [03:12<00:00,  1.51s/it, train99.0 total0.0020 dsc0.0421 ce0.0104 constrain0.0005  (0.0020)]\n",
      "100%|████████████████| 25/25 [00:56<00:00,  2.26s/it, val99.0 total0.0172 dsc0.1174 ce0.0779 constrain0.0065  (0.0155)]\n",
      "4005it [00:02, 1399.54it/s]\n",
      "4005it [00:00, 7723.84it/s]\n",
      "100%|█████████████| 128/128 [03:15<00:00,  1.52s/it, train0.0 total0.0206 dsc0.6552 ce0.1890 constrain0.0019  (0.0101)]\n",
      "100%|█████████████████| 25/25 [00:55<00:00,  1.20it/s, val0.0 total0.0100 dsc0.3653 ce0.0879 constrain0.0013  (0.0108)]"
     ]
    },
    {
     "name": "stdout",
     "output_type": "stream",
     "text": [
      "this is the best so far tensor(0.0100, device='cuda:0', dtype=torch.float64)\n"
     ]
    },
    {
     "name": "stderr",
     "output_type": "stream",
     "text": [
      "100%|█████████████████| 25/25 [00:56<00:00,  2.26s/it, val0.0 total0.0100 dsc0.3653 ce0.0879 constrain0.0013  (0.0108)]\n",
      "100%|█████████████| 128/128 [03:13<00:00,  1.51s/it, train1.0 total0.0086 dsc0.2837 ce0.0738 constrain0.0013  (0.0071)]\n",
      "100%|█████████████████| 25/25 [00:55<00:00,  1.31it/s, val1.0 total0.0073 dsc0.2474 ce0.0625 constrain0.0012  (0.0071)]"
     ]
    },
    {
     "name": "stdout",
     "output_type": "stream",
     "text": [
      "this is the best so far tensor(0.0073, device='cuda:0', dtype=torch.float64)\n"
     ]
    },
    {
     "name": "stderr",
     "output_type": "stream",
     "text": [
      "100%|█████████████████| 25/25 [00:56<00:00,  2.25s/it, val1.0 total0.0073 dsc0.2474 ce0.0625 constrain0.0012  (0.0071)]\n",
      "100%|█████████████| 128/128 [03:12<00:00,  1.50s/it, train2.0 total0.0075 dsc0.2445 ce0.0638 constrain0.0013  (0.0071)]\n",
      "100%|█████████████████| 25/25 [00:55<00:00,  1.37it/s, val2.0 total0.0067 dsc0.2268 ce0.0563 constrain0.0011  (0.0066)]"
     ]
    },
    {
     "name": "stdout",
     "output_type": "stream",
     "text": [
      "this is the best so far tensor(0.0067, device='cuda:0', dtype=torch.float64)\n"
     ]
    },
    {
     "name": "stderr",
     "output_type": "stream",
     "text": [
      "100%|█████████████████| 25/25 [00:56<00:00,  2.25s/it, val2.0 total0.0067 dsc0.2268 ce0.0563 constrain0.0011  (0.0066)]\n",
      "100%|█████████████| 128/128 [03:13<00:00,  1.51s/it, train3.0 total0.0066 dsc0.2128 ce0.0546 constrain0.0012  (0.0060)]\n",
      "100%|█████████████████| 25/25 [00:55<00:00,  1.30it/s, val3.0 total0.0062 dsc0.2035 ce0.0510 constrain0.0012  (0.0062)]"
     ]
    },
    {
     "name": "stdout",
     "output_type": "stream",
     "text": [
      "this is the best so far tensor(0.0062, device='cuda:0', dtype=torch.float64)\n"
     ]
    },
    {
     "name": "stderr",
     "output_type": "stream",
     "text": [
      "100%|█████████████████| 25/25 [00:56<00:00,  2.25s/it, val3.0 total0.0062 dsc0.2035 ce0.0510 constrain0.0012  (0.0062)]\n",
      "100%|█████████████| 128/128 [03:13<00:00,  1.51s/it, train4.0 total0.0063 dsc0.2016 ce0.0518 constrain0.0012  (0.0066)]\n",
      "100%|█████████████████| 25/25 [00:56<00:00,  2.25s/it, val4.0 total0.0064 dsc0.2036 ce0.0511 constrain0.0014  (0.0056)]\n",
      "100%|█████████████| 128/128 [03:13<00:00,  1.51s/it, train5.0 total0.0061 dsc0.1968 ce0.0503 constrain0.0012  (0.0068)]\n",
      "100%|█████████████████| 25/25 [00:56<00:00,  1.11it/s, val5.0 total0.0057 dsc0.1874 ce0.0464 constrain0.0012  (0.0047)]"
     ]
    },
    {
     "name": "stdout",
     "output_type": "stream",
     "text": [
      "this is the best so far tensor(0.0057, device='cuda:0', dtype=torch.float64)\n"
     ]
    },
    {
     "name": "stderr",
     "output_type": "stream",
     "text": [
      "100%|█████████████████| 25/25 [00:56<00:00,  2.28s/it, val5.0 total0.0057 dsc0.1874 ce0.0464 constrain0.0012  (0.0047)]\n",
      "100%|█████████████| 128/128 [03:14<00:00,  1.52s/it, train6.0 total0.0059 dsc0.1879 ce0.0482 constrain0.0012  (0.0064)]\n",
      "100%|█████████████████| 25/25 [00:56<00:00,  2.26s/it, val6.0 total0.0060 dsc0.2078 ce0.0504 constrain0.0011  (0.0058)]\n",
      "100%|█████████████| 128/128 [03:13<00:00,  1.51s/it, train7.0 total0.0058 dsc0.1838 ce0.0467 constrain0.0012  (0.0062)]\n",
      "100%|█████████████████| 25/25 [00:56<00:00,  2.26s/it, val7.0 total0.0060 dsc0.1905 ce0.0486 constrain0.0012  (0.0055)]\n",
      "100%|█████████████| 128/128 [03:13<00:00,  1.51s/it, train8.0 total0.0057 dsc0.1798 ce0.0459 constrain0.0012  (0.0065)]\n",
      "100%|█████████████████| 25/25 [00:59<00:00,  2.39s/it, val8.0 total0.0058 dsc0.1841 ce0.0459 constrain0.0013  (0.0057)]\n",
      "100%|█████████████| 128/128 [03:13<00:00,  1.52s/it, train9.0 total0.0057 dsc0.1808 ce0.0460 constrain0.0012  (0.0058)]\n",
      "100%|█████████████████| 25/25 [00:58<00:00,  1.30s/it, val9.0 total0.0057 dsc0.1815 ce0.0460 constrain0.0012  (0.0055)]"
     ]
    },
    {
     "name": "stdout",
     "output_type": "stream",
     "text": [
      "this is the best so far tensor(0.0057, device='cuda:0', dtype=torch.float64)\n"
     ]
    },
    {
     "name": "stderr",
     "output_type": "stream",
     "text": [
      "100%|█████████████████| 25/25 [00:58<00:00,  2.36s/it, val9.0 total0.0057 dsc0.1815 ce0.0460 constrain0.0012  (0.0055)]\n",
      "100%|████████████| 128/128 [03:11<00:00,  1.50s/it, train10.0 total0.0053 dsc0.1702 ce0.0431 constrain0.0011  (0.0055)]\n",
      "100%|████████████████| 25/25 [00:55<00:00,  1.21it/s, val10.0 total0.0055 dsc0.1769 ce0.0444 constrain0.0012  (0.0056)]"
     ]
    },
    {
     "name": "stdout",
     "output_type": "stream",
     "text": [
      "this is the best so far tensor(0.0055, device='cuda:0', dtype=torch.float64)\n"
     ]
    },
    {
     "name": "stderr",
     "output_type": "stream",
     "text": [
      "100%|████████████████| 25/25 [00:56<00:00,  2.27s/it, val10.0 total0.0055 dsc0.1769 ce0.0444 constrain0.0012  (0.0056)]\n",
      "100%|████████████| 128/128 [03:12<00:00,  1.50s/it, train11.0 total0.0052 dsc0.1660 ce0.0420 constrain0.0011  (0.0053)]\n",
      "100%|████████████████| 25/25 [00:55<00:00,  1.28it/s, val11.0 total0.0054 dsc0.1716 ce0.0431 constrain0.0012  (0.0060)]"
     ]
    },
    {
     "name": "stdout",
     "output_type": "stream",
     "text": [
      "this is the best so far tensor(0.0054, device='cuda:0', dtype=torch.float64)\n"
     ]
    },
    {
     "name": "stderr",
     "output_type": "stream",
     "text": [
      "100%|████████████████| 25/25 [00:56<00:00,  2.24s/it, val11.0 total0.0054 dsc0.1716 ce0.0431 constrain0.0012  (0.0060)]\n",
      "100%|████████████| 128/128 [03:12<00:00,  1.51s/it, train12.0 total0.0051 dsc0.1625 ce0.0411 constrain0.0011  (0.0054)]\n",
      "100%|████████████████| 25/25 [00:55<00:00,  2.24s/it, val12.0 total0.0054 dsc0.1670 ce0.0432 constrain0.0012  (0.0055)]\n",
      "100%|████████████| 128/128 [03:11<00:00,  1.50s/it, train13.0 total0.0057 dsc0.1802 ce0.0460 constrain0.0012  (0.0053)]\n",
      "100%|████████████████| 25/25 [00:55<00:00,  2.24s/it, val13.0 total0.0056 dsc0.1696 ce0.0435 constrain0.0014  (0.0053)]\n",
      "100%|████████████| 128/128 [03:13<00:00,  1.51s/it, train14.0 total0.0052 dsc0.1650 ce0.0418 constrain0.0011  (0.0049)]\n",
      "100%|████████████████| 25/25 [00:55<00:00,  2.22s/it, val14.0 total0.0055 dsc0.1754 ce0.0444 constrain0.0012  (0.0060)]\n",
      "100%|████████████| 128/128 [03:10<00:00,  1.49s/it, train15.0 total0.0049 dsc0.1562 ce0.0394 constrain0.0011  (0.0052)]\n",
      "100%|████████████████| 25/25 [00:54<00:00,  2.18s/it, val15.0 total0.0054 dsc0.1671 ce0.0422 constrain0.0013  (0.0058)]\n",
      "100%|████████████| 128/128 [03:11<00:00,  1.50s/it, train16.0 total0.0048 dsc0.1510 ce0.0381 constrain0.0010  (0.0044)]\n",
      "100%|████████████████| 25/25 [00:55<00:00,  2.21s/it, val16.0 total0.0055 dsc0.1633 ce0.0426 constrain0.0013  (0.0053)]\n",
      "100%|████████████| 128/128 [03:11<00:00,  1.50s/it, train17.0 total0.0046 dsc0.1473 ce0.0372 constrain0.0010  (0.0048)]\n",
      "100%|████████████████| 25/25 [00:55<00:00,  2.20s/it, val17.0 total0.0054 dsc0.1617 ce0.0422 constrain0.0013  (0.0053)]\n",
      "100%|████████████| 128/128 [03:12<00:00,  1.50s/it, train18.0 total0.0049 dsc0.1556 ce0.0394 constrain0.0011  (0.0051)]\n",
      "100%|████████████████| 25/25 [00:55<00:00,  2.20s/it, val18.0 total0.0059 dsc0.1833 ce0.0476 constrain0.0013  (0.0069)]\n",
      "100%|████████████| 128/128 [03:12<00:00,  1.51s/it, train19.0 total0.0055 dsc0.1745 ce0.0444 constrain0.0012  (0.0051)]\n",
      "100%|████████████████| 25/25 [00:55<00:00,  2.23s/it, val19.0 total0.0055 dsc0.1748 ce0.0448 constrain0.0011  (0.0052)]\n",
      "100%|████████████| 128/128 [03:12<00:00,  1.50s/it, train20.0 total0.0049 dsc0.1555 ce0.0392 constrain0.0011  (0.0045)]\n",
      "100%|████████████████| 25/25 [00:55<00:00,  2.22s/it, val20.0 total0.0055 dsc0.1641 ce0.0429 constrain0.0014  (0.0050)]\n",
      "100%|████████████| 128/128 [03:11<00:00,  1.50s/it, train21.0 total0.0046 dsc0.1443 ce0.0363 constrain0.0010  (0.0043)]\n",
      "100%|████████████████| 25/25 [00:55<00:00,  2.21s/it, val21.0 total0.0055 dsc0.1592 ce0.0422 constrain0.0014  (0.0054)]\n",
      "100%|████████████| 128/128 [03:12<00:00,  1.50s/it, train22.0 total0.0044 dsc0.1398 ce0.0353 constrain0.0010  (0.0049)]\n",
      "100%|████████████████| 25/25 [00:56<00:00,  2.26s/it, val22.0 total0.0058 dsc0.1600 ce0.0441 constrain0.0015  (0.0053)]\n",
      "100%|████████████| 128/128 [03:11<00:00,  1.50s/it, train23.0 total0.0042 dsc0.1334 ce0.0335 constrain0.0010  (0.0044)]\n",
      "100%|████████████████| 25/25 [00:55<00:00,  2.23s/it, val23.0 total0.0057 dsc0.1567 ce0.0429 constrain0.0015  (0.0057)]\n",
      "100%|████████████| 128/128 [03:11<00:00,  1.50s/it, train24.0 total0.0042 dsc0.1316 ce0.0331 constrain0.0010  (0.0044)]\n",
      "100%|████████████████| 25/25 [00:55<00:00,  2.23s/it, val24.0 total0.0058 dsc0.1535 ce0.0430 constrain0.0017  (0.0059)]\n",
      "100%|████████████| 128/128 [03:12<00:00,  1.50s/it, train25.0 total0.0053 dsc0.1649 ce0.0426 constrain0.0012  (0.0059)]\n",
      "100%|████████████████| 25/25 [00:55<00:00,  2.23s/it, val25.0 total0.0056 dsc0.1825 ce0.0452 constrain0.0012  (0.0055)]\n",
      "100%|████████████| 128/128 [03:11<00:00,  1.50s/it, train26.0 total0.0048 dsc0.1528 ce0.0386 constrain0.0011  (0.0043)]\n",
      "100%|████████████████| 25/25 [00:55<00:00,  2.21s/it, val26.0 total0.0056 dsc0.1694 ce0.0446 constrain0.0012  (0.0055)]\n",
      "100%|████████████| 128/128 [03:12<00:00,  1.50s/it, train27.0 total0.0043 dsc0.1356 ce0.0340 constrain0.0010  (0.0045)]\n",
      "100%|████████████████| 25/25 [00:54<00:00,  2.20s/it, val27.0 total0.0056 dsc0.1554 ce0.0425 constrain0.0015  (0.0055)]\n",
      "100%|████████████| 128/128 [03:11<00:00,  1.50s/it, train28.0 total0.0041 dsc0.1281 ce0.0322 constrain0.0009  (0.0054)]\n",
      "100%|████████████████| 25/25 [00:55<00:00,  2.23s/it, val28.0 total0.0058 dsc0.1526 ce0.0428 constrain0.0017  (0.0056)]\n",
      "100%|████████████| 128/128 [03:11<00:00,  1.50s/it, train29.0 total0.0039 dsc0.1230 ce0.0308 constrain0.0009  (0.0041)]\n",
      "100%|████████████████| 25/25 [00:55<00:00,  2.22s/it, val29.0 total0.0059 dsc0.1527 ce0.0434 constrain0.0018  (0.0057)]\n",
      "100%|████████████| 128/128 [03:11<00:00,  1.50s/it, train30.0 total0.0038 dsc0.1193 ce0.0299 constrain0.0009  (0.0051)]\n",
      "100%|████████████████| 25/25 [00:59<00:00,  2.37s/it, val30.0 total0.0060 dsc0.1532 ce0.0446 constrain0.0017  (0.0066)]\n",
      "100%|████████████| 128/128 [03:12<00:00,  1.50s/it, train31.0 total0.0040 dsc0.1234 ce0.0310 constrain0.0010  (0.0040)]\n",
      "100%|████████████████| 25/25 [00:54<00:00,  2.19s/it, val31.0 total0.0060 dsc0.1532 ce0.0440 constrain0.0018  (0.0057)]\n",
      "100%|████████████| 128/128 [03:13<00:00,  1.51s/it, train32.0 total0.0037 dsc0.1170 ce0.0293 constrain0.0009  (0.0036)]\n",
      "100%|████████████████| 25/25 [00:56<00:00,  2.27s/it, val32.0 total0.0062 dsc0.1488 ce0.0448 constrain0.0019  (0.0062)]\n",
      "100%|████████████| 128/128 [03:13<00:00,  1.51s/it, train33.0 total0.0037 dsc0.1142 ce0.0285 constrain0.0009  (0.0045)]\n",
      "100%|████████████████| 25/25 [00:56<00:00,  2.25s/it, val33.0 total0.0061 dsc0.1466 ce0.0435 constrain0.0019  (0.0057)]\n",
      "100%|████████████| 128/128 [03:13<00:00,  1.51s/it, train34.0 total0.0036 dsc0.1108 ce0.0277 constrain0.0009  (0.0036)]\n",
      "100%|████████████████| 25/25 [00:56<00:00,  2.27s/it, val34.0 total0.0063 dsc0.1482 ce0.0458 constrain0.0019  (0.0052)]\n",
      "100%|████████████| 128/128 [03:15<00:00,  1.52s/it, train35.0 total0.0034 dsc0.1063 ce0.0265 constrain0.0008  (0.0034)]\n",
      "100%|████████████████| 25/25 [00:55<00:00,  2.23s/it, val35.0 total0.0064 dsc0.1416 ce0.0450 constrain0.0021  (0.0064)]\n",
      "100%|████████████| 128/128 [03:13<00:00,  1.51s/it, train36.0 total0.0033 dsc0.1033 ce0.0257 constrain0.0009  (0.0035)]\n",
      "100%|████████████████| 25/25 [00:56<00:00,  2.27s/it, val36.0 total0.0064 dsc0.1451 ce0.0452 constrain0.0021  (0.0080)]\n",
      "100%|████████████| 128/128 [03:13<00:00,  1.51s/it, train37.0 total0.0033 dsc0.1031 ce0.0257 constrain0.0008  (0.0033)]\n",
      "100%|████████████████| 25/25 [00:56<00:00,  2.26s/it, val37.0 total0.0065 dsc0.1432 ce0.0450 constrain0.0022  (0.0057)]\n",
      "100%|████████████| 128/128 [03:13<00:00,  1.51s/it, train38.0 total0.0033 dsc0.1028 ce0.0257 constrain0.0008  (0.0034)]\n",
      "100%|████████████████| 25/25 [00:57<00:00,  2.29s/it, val38.0 total0.0064 dsc0.1398 ce0.0441 constrain0.0022  (0.0057)]\n",
      "100%|████████████| 128/128 [03:12<00:00,  1.51s/it, train39.0 total0.0032 dsc0.0995 ce0.0248 constrain0.0008  (0.0029)]\n",
      "100%|████████████████| 25/25 [00:56<00:00,  2.25s/it, val39.0 total0.0066 dsc0.1432 ce0.0462 constrain0.0022  (0.0066)]\n",
      "100%|████████████| 128/128 [03:12<00:00,  1.51s/it, train40.0 total0.0031 dsc0.0964 ce0.0240 constrain0.0008  (0.0033)]\n",
      "100%|████████████████| 25/25 [00:56<00:00,  2.28s/it, val40.0 total0.0068 dsc0.1442 ce0.0475 constrain0.0023  (0.0076)]\n",
      "100%|████████████| 128/128 [03:12<00:00,  1.50s/it, train41.0 total0.0030 dsc0.0941 ce0.0234 constrain0.0008  (0.0031)]\n",
      "100%|████████████████| 25/25 [00:57<00:00,  2.30s/it, val41.0 total0.0068 dsc0.1386 ce0.0461 constrain0.0025  (0.0071)]\n",
      "100%|████████████| 128/128 [03:13<00:00,  1.51s/it, train42.0 total0.0030 dsc0.0933 ce0.0232 constrain0.0008  (0.0030)]\n",
      "100%|████████████████| 25/25 [00:56<00:00,  2.27s/it, val42.0 total0.0067 dsc0.1374 ce0.0452 constrain0.0024  (0.0065)]\n",
      "100%|████████████| 128/128 [03:14<00:00,  1.52s/it, train43.0 total0.0030 dsc0.0906 ce0.0225 constrain0.0008  (0.0034)]\n",
      "100%|████████████████| 25/25 [00:56<00:00,  2.28s/it, val43.0 total0.0071 dsc0.1384 ce0.0479 constrain0.0026  (0.0100)]\n",
      "100%|████████████| 128/128 [03:12<00:00,  1.51s/it, train44.0 total0.0030 dsc0.0915 ce0.0227 constrain0.0008  (0.0030)]\n",
      "100%|████████████████| 25/25 [00:56<00:00,  2.25s/it, val44.0 total0.0071 dsc0.1376 ce0.0474 constrain0.0026  (0.0068)]\n",
      "100%|████████████| 128/128 [03:12<00:00,  1.50s/it, train45.0 total0.0029 dsc0.0900 ce0.0224 constrain0.0008  (0.0028)]\n",
      "100%|████████████████| 25/25 [00:55<00:00,  2.23s/it, val45.0 total0.0073 dsc0.1362 ce0.0488 constrain0.0027  (0.0061)]\n",
      "100%|████████████| 128/128 [03:12<00:00,  1.50s/it, train46.0 total0.0029 dsc0.0881 ce0.0218 constrain0.0008  (0.0032)]\n",
      "100%|████████████████| 25/25 [00:54<00:00,  2.16s/it, val46.0 total0.0072 dsc0.1357 ce0.0479 constrain0.0027  (0.0061)]\n",
      "100%|████████████| 128/128 [03:11<00:00,  1.50s/it, train47.0 total0.0028 dsc0.0848 ce0.0210 constrain0.0007  (0.0028)]\n",
      "100%|████████████████| 25/25 [00:55<00:00,  2.21s/it, val47.0 total0.0075 dsc0.1344 ce0.0485 constrain0.0030  (0.0064)]\n",
      "100%|████████████| 128/128 [03:11<00:00,  1.49s/it, train48.0 total0.0027 dsc0.0834 ce0.0207 constrain0.0007  (0.0029)]\n",
      "100%|████████████████| 25/25 [00:55<00:00,  2.21s/it, val48.0 total0.0072 dsc0.1352 ce0.0480 constrain0.0027  (0.0069)]\n",
      "100%|████████████| 128/128 [03:11<00:00,  1.50s/it, train49.0 total0.0028 dsc0.0844 ce0.0209 constrain0.0007  (0.0028)]\n",
      "100%|████████████████| 25/25 [00:55<00:00,  2.23s/it, val49.0 total0.0074 dsc0.1353 ce0.0485 constrain0.0028  (0.0071)]\n",
      "100%|████████████| 128/128 [03:11<00:00,  1.50s/it, train50.0 total0.0027 dsc0.0829 ce0.0206 constrain0.0007  (0.0029)]\n",
      "100%|████████████████| 25/25 [00:55<00:00,  2.21s/it, val50.0 total0.0077 dsc0.1358 ce0.0513 constrain0.0028  (0.0107)]\n",
      "100%|████████████| 128/128 [03:12<00:00,  1.50s/it, train51.0 total0.0026 dsc0.0795 ce0.0196 constrain0.0007  (0.0028)]\n",
      "100%|████████████████| 25/25 [00:55<00:00,  2.22s/it, val51.0 total0.0077 dsc0.1321 ce0.0502 constrain0.0030  (0.0070)]\n",
      "100%|████████████| 128/128 [03:12<00:00,  1.50s/it, train52.0 total0.0026 dsc0.0783 ce0.0194 constrain0.0007  (0.0026)]\n",
      "100%|████████████████| 25/25 [01:00<00:00,  2.41s/it, val52.0 total0.0079 dsc0.1327 ce0.0516 constrain0.0030  (0.0066)]\n",
      "100%|████████████| 128/128 [03:13<00:00,  1.51s/it, train53.0 total0.0025 dsc0.0768 ce0.0190 constrain0.0007  (0.0028)]\n",
      "100%|████████████████| 25/25 [00:56<00:00,  2.26s/it, val53.0 total0.0082 dsc0.1338 ce0.0530 constrain0.0032  (0.0081)]\n",
      "100%|████████████| 128/128 [03:11<00:00,  1.49s/it, train54.0 total0.0033 dsc0.0970 ce0.0249 constrain0.0009  (0.0082)]\n",
      "100%|████████████████| 25/25 [00:54<00:00,  2.18s/it, val54.0 total0.0074 dsc0.2410 ce0.0623 constrain0.0013  (0.0066)]\n",
      "100%|████████████| 128/128 [03:11<00:00,  1.49s/it, train55.0 total0.0058 dsc0.1826 ce0.0472 constrain0.0012  (0.0048)]\n",
      "100%|████████████████| 25/25 [00:54<00:00,  2.19s/it, val55.0 total0.0059 dsc0.1686 ce0.0456 constrain0.0015  (0.0056)]\n",
      "100%|████████████| 128/128 [03:10<00:00,  1.49s/it, train56.0 total0.0046 dsc0.1447 ce0.0364 constrain0.0011  (0.0047)]\n",
      "100%|████████████████| 25/25 [00:54<00:00,  2.20s/it, val56.0 total0.0058 dsc0.1578 ce0.0436 constrain0.0016  (0.0053)]\n",
      "100%|████████████| 128/128 [03:13<00:00,  1.51s/it, train57.0 total0.0037 dsc0.1147 ce0.0284 constrain0.0009  (0.0034)]\n",
      "100%|████████████████| 25/25 [00:54<00:00,  2.19s/it, val57.0 total0.0065 dsc0.1478 ce0.0459 constrain0.0021  (0.0063)]\n",
      "100%|████████████| 128/128 [03:13<00:00,  1.51s/it, train58.0 total0.0031 dsc0.0941 ce0.0233 constrain0.0008  (0.0029)]\n",
      "100%|████████████████| 25/25 [00:54<00:00,  2.19s/it, val58.0 total0.0070 dsc0.1388 ce0.0477 constrain0.0025  (0.0068)]\n",
      "100%|████████████| 128/128 [03:12<00:00,  1.50s/it, train59.0 total0.0027 dsc0.0839 ce0.0207 constrain0.0007  (0.0033)]\n",
      "100%|████████████████| 25/25 [00:55<00:00,  2.23s/it, val59.0 total0.0075 dsc0.1338 ce0.0492 constrain0.0029  (0.0066)]\n",
      "100%|████████████| 128/128 [03:11<00:00,  1.50s/it, train60.0 total0.0026 dsc0.0797 ce0.0197 constrain0.0007  (0.0027)]\n",
      "100%|████████████████| 25/25 [00:55<00:00,  2.22s/it, val60.0 total0.0080 dsc0.1308 ce0.0514 constrain0.0032  (0.0073)]\n",
      "100%|████████████| 128/128 [03:13<00:00,  1.51s/it, train61.0 total0.0025 dsc0.0752 ce0.0186 constrain0.0007  (0.0023)]\n",
      "100%|████████████████| 25/25 [00:56<00:00,  2.26s/it, val61.0 total0.0081 dsc0.1295 ce0.0517 constrain0.0032  (0.0079)]\n",
      "100%|████████████| 128/128 [03:12<00:00,  1.50s/it, train62.0 total0.0024 dsc0.0724 ce0.0179 constrain0.0006  (0.0026)]\n",
      "100%|████████████████| 25/25 [00:57<00:00,  2.29s/it, val62.0 total0.0082 dsc0.1287 ce0.0531 constrain0.0032  (0.0071)]\n",
      "100%|████████████| 128/128 [03:12<00:00,  1.50s/it, train63.0 total0.0023 dsc0.0709 ce0.0175 constrain0.0006  (0.0024)]\n",
      "100%|████████████████| 25/25 [00:56<00:00,  2.25s/it, val63.0 total0.0086 dsc0.1307 ce0.0548 constrain0.0034  (0.0092)]\n",
      "100%|████████████| 128/128 [03:14<00:00,  1.52s/it, train64.0 total0.0023 dsc0.0702 ce0.0173 constrain0.0006  (0.0025)]\n",
      "100%|████████████████| 25/25 [00:57<00:00,  2.29s/it, val64.0 total0.0085 dsc0.1281 ce0.0536 constrain0.0035  (0.0071)]\n",
      "100%|████████████| 128/128 [03:13<00:00,  1.51s/it, train65.0 total0.0022 dsc0.0680 ce0.0168 constrain0.0006  (0.0024)]\n",
      "100%|████████████████| 25/25 [00:55<00:00,  2.23s/it, val65.0 total0.0087 dsc0.1280 ce0.0549 constrain0.0036  (0.0094)]\n",
      "100%|████████████| 128/128 [03:14<00:00,  1.52s/it, train66.0 total0.0023 dsc0.0685 ce0.0169 constrain0.0006  (0.0027)]\n",
      "100%|████████████████| 25/25 [00:56<00:00,  2.27s/it, val66.0 total0.0086 dsc0.1313 ce0.0561 constrain0.0034  (0.0102)]\n",
      "100%|████████████| 128/128 [03:12<00:00,  1.51s/it, train67.0 total0.0022 dsc0.0678 ce0.0167 constrain0.0006  (0.0021)]\n",
      "100%|████████████████| 25/25 [00:58<00:00,  2.34s/it, val67.0 total0.0089 dsc0.1269 ce0.0561 constrain0.0037  (0.0078)]\n",
      "100%|████████████| 128/128 [03:17<00:00,  1.54s/it, train68.0 total0.0022 dsc0.0660 ce0.0163 constrain0.0006  (0.0021)]\n",
      "100%|████████████████| 25/25 [00:56<00:00,  2.28s/it, val68.0 total0.0090 dsc0.1290 ce0.0568 constrain0.0037  (0.0086)]\n",
      "100%|████████████| 128/128 [03:13<00:00,  1.51s/it, train69.0 total0.0022 dsc0.0657 ce0.0162 constrain0.0006  (0.0022)]\n",
      "100%|████████████████| 25/25 [00:57<00:00,  2.29s/it, val69.0 total0.0090 dsc0.1288 ce0.0578 constrain0.0036  (0.0092)]\n",
      "100%|████████████| 128/128 [03:12<00:00,  1.51s/it, train70.0 total0.0021 dsc0.0650 ce0.0160 constrain0.0006  (0.0024)]\n",
      "100%|████████████████| 25/25 [00:57<00:00,  2.29s/it, val70.0 total0.0090 dsc0.1301 ce0.0571 constrain0.0036  (0.0112)]\n",
      "100%|████████████| 128/128 [03:13<00:00,  1.51s/it, train71.0 total0.0022 dsc0.0661 ce0.0164 constrain0.0006  (0.0022)]\n",
      "100%|████████████████| 25/25 [00:56<00:00,  2.25s/it, val71.0 total0.0088 dsc0.1298 ce0.0553 constrain0.0036  (0.0084)]\n",
      "100%|████████████| 128/128 [03:13<00:00,  1.51s/it, train72.0 total0.0022 dsc0.0667 ce0.0164 constrain0.0006  (0.0025)]\n",
      "100%|████████████████| 25/25 [00:55<00:00,  2.22s/it, val72.0 total0.0086 dsc0.1304 ce0.0546 constrain0.0034  (0.0074)]\n",
      "100%|████████████| 128/128 [03:14<00:00,  1.52s/it, train73.0 total0.0023 dsc0.0694 ce0.0171 constrain0.0007  (0.0024)]\n",
      "100%|████████████████| 25/25 [00:56<00:00,  2.26s/it, val73.0 total0.0088 dsc0.1323 ce0.0550 constrain0.0036  (0.0091)]\n",
      "100%|████████████| 128/128 [03:13<00:00,  1.51s/it, train74.0 total0.0023 dsc0.0699 ce0.0172 constrain0.0007  (0.0024)]\n",
      "100%|████████████████| 25/25 [00:55<00:00,  2.24s/it, val74.0 total0.0088 dsc0.1280 ce0.0542 constrain0.0037  (0.0079)]\n",
      "100%|████████████| 128/128 [03:11<00:00,  1.50s/it, train75.0 total0.0021 dsc0.0653 ce0.0161 constrain0.0006  (0.0021)]\n",
      "100%|████████████████| 25/25 [00:57<00:00,  2.31s/it, val75.0 total0.0093 dsc0.1273 ce0.0580 constrain0.0039  (0.0100)]\n",
      "100%|████████████| 128/128 [03:11<00:00,  1.50s/it, train76.0 total0.0020 dsc0.0622 ce0.0153 constrain0.0006  (0.0021)]\n",
      "100%|████████████████| 25/25 [00:55<00:00,  2.24s/it, val76.0 total0.0097 dsc0.1255 ce0.0605 constrain0.0040  (0.0091)]\n",
      "100%|████████████| 128/128 [03:12<00:00,  1.51s/it, train77.0 total0.0022 dsc0.0648 ce0.0161 constrain0.0006  (0.0030)]\n",
      "100%|████████████████| 25/25 [00:55<00:00,  2.22s/it, val77.0 total0.0081 dsc0.1353 ce0.0534 constrain0.0030  (0.0078)]\n",
      "100%|████████████| 128/128 [03:10<00:00,  1.49s/it, train78.0 total0.0040 dsc0.1165 ce0.0301 constrain0.0011  (0.0066)]\n",
      "100%|████████████████| 25/25 [00:55<00:00,  2.24s/it, val78.0 total0.0059 dsc0.1871 ce0.0478 constrain0.0012  (0.0072)]\n",
      "100%|████████████| 128/128 [03:11<00:00,  1.50s/it, train79.0 total0.0038 dsc0.1174 ce0.0291 constrain0.0010  (0.0030)]\n"
     ]
    },
    {
     "name": "stderr",
     "output_type": "stream",
     "text": [
      "100%|████████████████| 25/25 [00:54<00:00,  2.18s/it, val79.0 total0.0070 dsc0.1390 ce0.0464 constrain0.0026  (0.0077)]\n",
      "100%|████████████| 128/128 [03:11<00:00,  1.50s/it, train80.0 total0.0026 dsc0.0789 ce0.0193 constrain0.0007  (0.0024)]\n",
      "100%|████████████████| 25/25 [00:55<00:00,  2.21s/it, val80.0 total0.0082 dsc0.1322 ce0.0521 constrain0.0033  (0.0081)]\n",
      "100%|████████████| 128/128 [03:11<00:00,  1.49s/it, train81.0 total0.0022 dsc0.0663 ce0.0163 constrain0.0006  (0.0022)]\n",
      "100%|████████████████| 25/25 [00:54<00:00,  2.18s/it, val81.0 total0.0091 dsc0.1266 ce0.0569 constrain0.0038  (0.0095)]\n",
      "100%|████████████| 128/128 [03:11<00:00,  1.50s/it, train82.0 total0.0020 dsc0.0604 ce0.0149 constrain0.0005  (0.0020)]\n",
      "100%|████████████████| 25/25 [00:57<00:00,  2.31s/it, val82.0 total0.0097 dsc0.1245 ce0.0607 constrain0.0040  (0.0099)]\n",
      "100%|████████████| 128/128 [03:14<00:00,  1.52s/it, train83.0 total0.0019 dsc0.0575 ce0.0142 constrain0.0005  (0.0019)]\n",
      "100%|████████████████| 25/25 [00:56<00:00,  2.25s/it, val83.0 total0.0100 dsc0.1231 ce0.0616 constrain0.0043  (0.0100)]\n",
      "100%|████████████| 128/128 [03:13<00:00,  1.51s/it, train84.0 total0.0018 dsc0.0549 ce0.0136 constrain0.0005  (0.0017)]\n",
      "100%|████████████████| 25/25 [00:55<00:00,  2.23s/it, val84.0 total0.0105 dsc0.1243 ce0.0645 constrain0.0045  (0.0091)]\n",
      "100%|████████████| 128/128 [03:13<00:00,  1.51s/it, train85.0 total0.0018 dsc0.0541 ce0.0134 constrain0.0005  (0.0018)]\n",
      "100%|████████████████| 25/25 [00:57<00:00,  2.29s/it, val85.0 total0.0106 dsc0.1234 ce0.0651 constrain0.0045  (0.0086)]\n",
      "100%|████████████| 128/128 [03:12<00:00,  1.50s/it, train86.0 total0.0017 dsc0.0534 ce0.0132 constrain0.0005  (0.0018)]\n",
      "100%|████████████████| 25/25 [00:55<00:00,  2.23s/it, val86.0 total0.0106 dsc0.1218 ce0.0646 constrain0.0046  (0.0101)]\n",
      "100%|████████████| 128/128 [03:12<00:00,  1.50s/it, train87.0 total0.0018 dsc0.0538 ce0.0133 constrain0.0005  (0.0019)]\n",
      "100%|████████████████| 25/25 [00:56<00:00,  2.27s/it, val87.0 total0.0108 dsc0.1239 ce0.0661 constrain0.0047  (0.0097)]\n",
      "100%|████████████| 128/128 [03:14<00:00,  1.52s/it, train88.0 total0.0018 dsc0.0540 ce0.0134 constrain0.0005  (0.0018)]\n",
      "100%|████████████████| 25/25 [00:57<00:00,  2.30s/it, val88.0 total0.0105 dsc0.1225 ce0.0640 constrain0.0046  (0.0102)]\n",
      "100%|████████████| 128/128 [03:14<00:00,  1.52s/it, train89.0 total0.0018 dsc0.0544 ce0.0134 constrain0.0005  (0.0019)]\n",
      "100%|████████████████| 25/25 [00:56<00:00,  2.26s/it, val89.0 total0.0103 dsc0.1221 ce0.0635 constrain0.0044  (0.0088)]\n",
      "100%|████████████| 128/128 [03:13<00:00,  1.51s/it, train90.0 total0.0019 dsc0.0570 ce0.0141 constrain0.0006  (0.0021)]\n",
      "100%|████████████████| 25/25 [00:56<00:00,  2.25s/it, val90.0 total0.0097 dsc0.1261 ce0.0597 constrain0.0041  (0.0117)]\n",
      "100%|████████████| 128/128 [03:13<00:00,  1.51s/it, train91.0 total0.0020 dsc0.0592 ce0.0146 constrain0.0006  (0.0020)]\n",
      "100%|████████████████| 25/25 [00:57<00:00,  2.29s/it, val91.0 total0.0100 dsc0.1258 ce0.0602 constrain0.0044  (0.0091)]\n",
      "100%|████████████| 128/128 [03:12<00:00,  1.51s/it, train92.0 total0.0019 dsc0.0585 ce0.0144 constrain0.0006  (0.0020)]\n",
      "100%|████████████████| 25/25 [00:57<00:00,  2.28s/it, val92.0 total0.0102 dsc0.1257 ce0.0613 constrain0.0045  (0.0101)]\n",
      "100%|████████████| 128/128 [03:14<00:00,  1.52s/it, train93.0 total0.0019 dsc0.0571 ce0.0141 constrain0.0005  (0.0018)]\n",
      "100%|████████████████| 25/25 [00:56<00:00,  2.26s/it, val93.0 total0.0105 dsc0.1251 ce0.0644 constrain0.0045  (0.0123)]\n",
      "100%|████████████| 128/128 [03:12<00:00,  1.51s/it, train94.0 total0.0018 dsc0.0543 ce0.0134 constrain0.0005  (0.0019)]\n",
      "100%|████████████████| 25/25 [00:56<00:00,  2.27s/it, val94.0 total0.0102 dsc0.1237 ce0.0623 constrain0.0044  (0.0104)]\n",
      "100%|████████████| 128/128 [03:15<00:00,  1.53s/it, train95.0 total0.0020 dsc0.0583 ce0.0144 constrain0.0006  (0.0022)]\n",
      "100%|████████████████| 25/25 [00:56<00:00,  2.27s/it, val95.0 total0.0102 dsc0.1284 ce0.0629 constrain0.0044  (0.0108)]\n",
      "100%|████████████| 128/128 [03:14<00:00,  1.52s/it, train96.0 total0.0021 dsc0.0619 ce0.0152 constrain0.0006  (0.0021)]\n",
      "100%|████████████████| 25/25 [00:57<00:00,  2.31s/it, val96.0 total0.0098 dsc0.1268 ce0.0610 constrain0.0042  (0.0102)]\n",
      "100%|████████████| 128/128 [03:12<00:00,  1.50s/it, train97.0 total0.0022 dsc0.0637 ce0.0159 constrain0.0007  (0.0030)]\n",
      "100%|████████████████| 25/25 [00:59<00:00,  2.37s/it, val97.0 total0.0074 dsc0.1426 ce0.0491 constrain0.0027  (0.0063)]\n",
      "100%|████████████| 128/128 [03:13<00:00,  1.51s/it, train98.0 total0.0023 dsc0.0701 ce0.0171 constrain0.0007  (0.0022)]\n",
      "100%|████████████████| 25/25 [00:54<00:00,  2.20s/it, val98.0 total0.0096 dsc0.1271 ce0.0597 constrain0.0041  (0.0073)]\n",
      "100%|████████████| 128/128 [03:11<00:00,  1.50s/it, train99.0 total0.0018 dsc0.0566 ce0.0139 constrain0.0005  (0.0018)]\n",
      "100%|████████████████| 25/25 [00:55<00:00,  2.22s/it, val99.0 total0.0109 dsc0.1244 ce0.0664 constrain0.0047  (0.0109)]\n",
      "4005it [00:02, 1421.44it/s]\n",
      "4005it [00:00, 7648.34it/s]\n",
      "100%|█████████████| 128/128 [03:11<00:00,  1.50s/it, train0.0 total0.0121 dsc0.6456 ce0.2018 constrain0.0021  (0.0056)]\n",
      "100%|█████████████████| 25/25 [00:54<00:00,  1.23it/s, val0.0 total0.0054 dsc0.3787 ce0.0930 constrain0.0008  (0.0056)]"
     ]
    },
    {
     "name": "stdout",
     "output_type": "stream",
     "text": [
      "this is the best so far tensor(0.0054, device='cuda:0', dtype=torch.float64)\n"
     ]
    },
    {
     "name": "stderr",
     "output_type": "stream",
     "text": [
      "100%|█████████████████| 25/25 [00:55<00:00,  2.21s/it, val0.0 total0.0054 dsc0.3787 ce0.0930 constrain0.0008  (0.0056)]\n",
      "100%|█████████████| 128/128 [03:11<00:00,  1.49s/it, train1.0 total0.0049 dsc0.3213 ce0.0814 constrain0.0009  (0.0045)]\n",
      "100%|█████████████████| 25/25 [00:54<00:00,  1.24it/s, val1.0 total0.0042 dsc0.2703 ce0.0675 constrain0.0009  (0.0044)]"
     ]
    },
    {
     "name": "stdout",
     "output_type": "stream",
     "text": [
      "this is the best so far tensor(0.0042, device='cuda:0', dtype=torch.float64)\n"
     ]
    },
    {
     "name": "stderr",
     "output_type": "stream",
     "text": [
      "100%|█████████████████| 25/25 [00:55<00:00,  2.20s/it, val1.0 total0.0042 dsc0.2703 ce0.0675 constrain0.0009  (0.0044)]\n",
      "100%|█████████████| 128/128 [03:11<00:00,  1.50s/it, train2.0 total0.0042 dsc0.2699 ce0.0682 constrain0.0009  (0.0040)]\n",
      "100%|█████████████████| 25/25 [00:54<00:00,  1.39it/s, val2.0 total0.0038 dsc0.2602 ce0.0620 constrain0.0007  (0.0037)]"
     ]
    },
    {
     "name": "stdout",
     "output_type": "stream",
     "text": [
      "this is the best so far tensor(0.0038, device='cuda:0', dtype=torch.float64)\n"
     ]
    },
    {
     "name": "stderr",
     "output_type": "stream",
     "text": [
      "100%|█████████████████| 25/25 [00:54<00:00,  2.20s/it, val2.0 total0.0038 dsc0.2602 ce0.0620 constrain0.0007  (0.0037)]\n",
      "100%|█████████████| 128/128 [03:11<00:00,  1.50s/it, train3.0 total0.0039 dsc0.2478 ce0.0621 constrain0.0008  (0.0037)]\n",
      "100%|█████████████████| 25/25 [00:55<00:00,  1.39it/s, val3.0 total0.0037 dsc0.2389 ce0.0591 constrain0.0007  (0.0036)]"
     ]
    },
    {
     "name": "stdout",
     "output_type": "stream",
     "text": [
      "this is the best so far tensor(0.0037, device='cuda:0', dtype=torch.float64)\n"
     ]
    },
    {
     "name": "stderr",
     "output_type": "stream",
     "text": [
      "100%|█████████████████| 25/25 [00:56<00:00,  2.26s/it, val3.0 total0.0037 dsc0.2389 ce0.0591 constrain0.0007  (0.0036)]\n",
      "100%|█████████████| 128/128 [03:11<00:00,  1.50s/it, train4.0 total0.0037 dsc0.2308 ce0.0582 constrain0.0008  (0.0042)]\n",
      "100%|█████████████████| 25/25 [00:56<00:00,  2.25s/it, val4.0 total0.0045 dsc0.2775 ce0.0707 constrain0.0010  (0.0048)]\n",
      "100%|█████████████| 128/128 [03:12<00:00,  1.50s/it, train5.0 total0.0036 dsc0.2310 ce0.0574 constrain0.0008  (0.0033)]\n",
      "100%|█████████████████| 25/25 [00:54<00:00,  1.22it/s, val5.0 total0.0034 dsc0.2202 ce0.0533 constrain0.0008  (0.0034)]"
     ]
    },
    {
     "name": "stdout",
     "output_type": "stream",
     "text": [
      "this is the best so far tensor(0.0034, device='cuda:0', dtype=torch.float64)\n"
     ]
    },
    {
     "name": "stderr",
     "output_type": "stream",
     "text": [
      "100%|█████████████████| 25/25 [00:55<00:00,  2.20s/it, val5.0 total0.0034 dsc0.2202 ce0.0533 constrain0.0008  (0.0034)]\n",
      "100%|█████████████| 128/128 [03:11<00:00,  1.50s/it, train6.0 total0.0034 dsc0.2142 ce0.0533 constrain0.0008  (0.0030)]\n",
      "100%|█████████████████| 25/25 [00:54<00:00,  1.23it/s, val6.0 total0.0033 dsc0.2187 ce0.0518 constrain0.0008  (0.0034)]"
     ]
    },
    {
     "name": "stdout",
     "output_type": "stream",
     "text": [
      "this is the best so far tensor(0.0033, device='cuda:0', dtype=torch.float64)\n"
     ]
    },
    {
     "name": "stderr",
     "output_type": "stream",
     "text": [
      "100%|█████████████████| 25/25 [00:55<00:00,  2.23s/it, val6.0 total0.0033 dsc0.2187 ce0.0518 constrain0.0008  (0.0034)]\n",
      "100%|█████████████| 128/128 [03:11<00:00,  1.50s/it, train7.0 total0.0033 dsc0.2097 ce0.0522 constrain0.0008  (0.0031)]\n",
      "100%|█████████████████| 25/25 [00:55<00:00,  2.23s/it, val7.0 total0.0034 dsc0.2219 ce0.0535 constrain0.0008  (0.0029)]\n",
      "100%|█████████████| 128/128 [03:12<00:00,  1.51s/it, train8.0 total0.0033 dsc0.2076 ce0.0518 constrain0.0008  (0.0034)]\n",
      "100%|█████████████████| 25/25 [00:54<00:00,  2.17s/it, val8.0 total0.0034 dsc0.2282 ce0.0553 constrain0.0007  (0.0034)]\n",
      "100%|█████████████| 128/128 [03:12<00:00,  1.50s/it, train9.0 total0.0033 dsc0.2070 ce0.0513 constrain0.0008  (0.0031)]\n",
      "100%|█████████████████| 25/25 [00:54<00:00,  1.25it/s, val9.0 total0.0033 dsc0.2109 ce0.0515 constrain0.0008  (0.0031)]"
     ]
    },
    {
     "name": "stdout",
     "output_type": "stream",
     "text": [
      "this is the best so far tensor(0.0033, device='cuda:0', dtype=torch.float64)\n"
     ]
    },
    {
     "name": "stderr",
     "output_type": "stream",
     "text": [
      "100%|█████████████████| 25/25 [00:54<00:00,  2.20s/it, val9.0 total0.0033 dsc0.2109 ce0.0515 constrain0.0008  (0.0031)]\n",
      "100%|████████████| 128/128 [03:11<00:00,  1.49s/it, train10.0 total0.0032 dsc0.1985 ce0.0492 constrain0.0008  (0.0037)]\n",
      "100%|████████████████| 25/25 [00:54<00:00,  2.17s/it, val10.0 total0.0036 dsc0.2181 ce0.0560 constrain0.0009  (0.0038)]\n",
      "100%|████████████| 128/128 [03:12<00:00,  1.50s/it, train11.0 total0.0033 dsc0.2055 ce0.0510 constrain0.0008  (0.0046)]\n",
      "100%|████████████████| 25/25 [00:54<00:00,  1.32it/s, val11.0 total0.0032 dsc0.2076 ce0.0505 constrain0.0007  (0.0031)]"
     ]
    },
    {
     "name": "stdout",
     "output_type": "stream",
     "text": [
      "this is the best so far tensor(0.0032, device='cuda:0', dtype=torch.float64)\n"
     ]
    },
    {
     "name": "stderr",
     "output_type": "stream",
     "text": [
      "100%|████████████████| 25/25 [00:55<00:00,  2.20s/it, val11.0 total0.0032 dsc0.2076 ce0.0505 constrain0.0007  (0.0031)]\n",
      "100%|████████████| 128/128 [03:13<00:00,  1.51s/it, train12.0 total0.0031 dsc0.1918 ce0.0474 constrain0.0007  (0.0032)]\n",
      "100%|████████████████| 25/25 [00:54<00:00,  1.24it/s, val12.0 total0.0032 dsc0.1990 ce0.0487 constrain0.0008  (0.0031)]"
     ]
    },
    {
     "name": "stdout",
     "output_type": "stream",
     "text": [
      "this is the best so far tensor(0.0032, device='cuda:0', dtype=torch.float64)\n"
     ]
    },
    {
     "name": "stderr",
     "output_type": "stream",
     "text": [
      "100%|████████████████| 25/25 [00:55<00:00,  2.22s/it, val12.0 total0.0032 dsc0.1990 ce0.0487 constrain0.0008  (0.0031)]\n",
      "100%|████████████| 128/128 [03:12<00:00,  1.51s/it, train13.0 total0.0030 dsc0.1903 ce0.0470 constrain0.0007  (0.0028)]\n",
      "100%|████████████████| 25/25 [00:55<00:00,  2.22s/it, val13.0 total0.0033 dsc0.1979 ce0.0493 constrain0.0009  (0.0034)]\n",
      "100%|████████████| 128/128 [03:11<00:00,  1.50s/it, train14.0 total0.0030 dsc0.1866 ce0.0462 constrain0.0007  (0.0029)]\n",
      "100%|████████████████| 25/25 [00:57<00:00,  1.12it/s, val14.0 total0.0032 dsc0.1971 ce0.0485 constrain0.0008  (0.0033)]"
     ]
    },
    {
     "name": "stdout",
     "output_type": "stream",
     "text": [
      "this is the best so far tensor(0.0032, device='cuda:0', dtype=torch.float64)\n"
     ]
    },
    {
     "name": "stderr",
     "output_type": "stream",
     "text": [
      "100%|████████████████| 25/25 [00:58<00:00,  2.34s/it, val14.0 total0.0032 dsc0.1971 ce0.0485 constrain0.0008  (0.0033)]\n",
      "100%|████████████| 128/128 [03:12<00:00,  1.51s/it, train15.0 total0.0029 dsc0.1842 ce0.0456 constrain0.0007  (0.0030)]\n",
      "100%|████████████████| 25/25 [00:55<00:00,  2.24s/it, val15.0 total0.0032 dsc0.1922 ce0.0472 constrain0.0009  (0.0029)]\n",
      "100%|████████████| 128/128 [03:11<00:00,  1.50s/it, train16.0 total0.0029 dsc0.1833 ce0.0454 constrain0.0007  (0.0028)]\n",
      "100%|████████████████| 25/25 [00:55<00:00,  2.22s/it, val16.0 total0.0033 dsc0.2037 ce0.0503 constrain0.0008  (0.0031)]\n",
      "100%|████████████| 128/128 [03:12<00:00,  1.50s/it, train17.0 total0.0031 dsc0.1935 ce0.0481 constrain0.0007  (0.0031)]\n",
      "100%|████████████████| 25/25 [00:55<00:00,  2.21s/it, val17.0 total0.0032 dsc0.2007 ce0.0491 constrain0.0008  (0.0033)]\n",
      "100%|████████████| 128/128 [03:12<00:00,  1.50s/it, train18.0 total0.0030 dsc0.1858 ce0.0458 constrain0.0007  (0.0031)]\n",
      "100%|████████████████| 25/25 [00:55<00:00,  2.20s/it, val18.0 total0.0032 dsc0.1900 ce0.0468 constrain0.0009  (0.0029)]\n",
      "100%|████████████| 128/128 [03:12<00:00,  1.50s/it, train19.0 total0.0029 dsc0.1811 ce0.0449 constrain0.0007  (0.0025)]\n",
      "100%|████████████████| 25/25 [00:57<00:00,  2.32s/it, val19.0 total0.0032 dsc0.1917 ce0.0484 constrain0.0008  (0.0033)]\n",
      "100%|████████████| 128/128 [03:18<00:00,  1.55s/it, train20.0 total0.0030 dsc0.1847 ce0.0458 constrain0.0007  (0.0032)]\n",
      "100%|████████████████| 25/25 [00:57<00:00,  2.30s/it, val20.0 total0.0034 dsc0.2099 ce0.0519 constrain0.0009  (0.0035)]\n",
      "100%|████████████| 128/128 [03:15<00:00,  1.52s/it, train21.0 total0.0032 dsc0.1968 ce0.0489 constrain0.0007  (0.0031)]\n",
      "100%|████████████████| 25/25 [00:56<00:00,  2.26s/it, val21.0 total0.0033 dsc0.1997 ce0.0494 constrain0.0008  (0.0033)]\n",
      "100%|████████████| 128/128 [03:15<00:00,  1.53s/it, train22.0 total0.0029 dsc0.1807 ce0.0447 constrain0.0007  (0.0031)]\n",
      "100%|████████████████| 25/25 [00:56<00:00,  2.25s/it, val22.0 total0.0032 dsc0.1845 ce0.0467 constrain0.0009  (0.0029)]\n",
      "100%|████████████| 128/128 [03:12<00:00,  1.50s/it, train23.0 total0.0027 dsc0.1666 ce0.0412 constrain0.0006  (0.0034)]\n",
      "100%|████████████████| 25/25 [00:56<00:00,  2.26s/it, val23.0 total0.0032 dsc0.1824 ce0.0461 constrain0.0009  (0.0030)]\n",
      "100%|████████████| 128/128 [03:14<00:00,  1.52s/it, train24.0 total0.0026 dsc0.1635 ce0.0405 constrain0.0006  (0.0025)]\n",
      "100%|████████████████| 25/25 [00:56<00:00,  2.25s/it, val24.0 total0.0032 dsc0.1773 ce0.0454 constrain0.0010  (0.0036)]\n",
      "100%|████████████| 128/128 [03:14<00:00,  1.52s/it, train25.0 total0.0026 dsc0.1597 ce0.0396 constrain0.0006  (0.0027)]\n",
      "100%|████████████████| 25/25 [00:57<00:00,  2.29s/it, val25.0 total0.0033 dsc0.1803 ce0.0465 constrain0.0010  (0.0030)]\n",
      "100%|████████████| 128/128 [03:13<00:00,  1.51s/it, train26.0 total0.0025 dsc0.1561 ce0.0387 constrain0.0006  (0.0024)]\n",
      "100%|████████████████| 25/25 [00:57<00:00,  2.29s/it, val26.0 total0.0033 dsc0.1765 ce0.0465 constrain0.0011  (0.0044)]\n",
      "100%|████████████| 128/128 [03:13<00:00,  1.51s/it, train27.0 total0.0025 dsc0.1547 ce0.0385 constrain0.0006  (0.0028)]\n",
      "100%|████████████████| 25/25 [00:56<00:00,  2.28s/it, val27.0 total0.0034 dsc0.1791 ce0.0469 constrain0.0011  (0.0036)]\n",
      "100%|████████████| 128/128 [03:13<00:00,  1.51s/it, train28.0 total0.0024 dsc0.1495 ce0.0370 constrain0.0006  (0.0023)]\n",
      "100%|████████████████| 25/25 [00:57<00:00,  2.31s/it, val28.0 total0.0035 dsc0.1713 ce0.0459 constrain0.0013  (0.0030)]\n",
      "100%|████████████| 128/128 [03:12<00:00,  1.51s/it, train29.0 total0.0030 dsc0.1851 ce0.0469 constrain0.0007  (0.0039)]\n",
      "100%|████████████████| 25/25 [00:57<00:00,  2.30s/it, val29.0 total0.0035 dsc0.2299 ce0.0569 constrain0.0007  (0.0033)]\n",
      "100%|████████████| 128/128 [03:13<00:00,  1.51s/it, train30.0 total0.0030 dsc0.1886 ce0.0465 constrain0.0007  (0.0034)]\n",
      "100%|████████████████| 25/25 [00:56<00:00,  2.25s/it, val30.0 total0.0032 dsc0.1896 ce0.0466 constrain0.0009  (0.0034)]\n",
      "100%|████████████| 128/128 [03:16<00:00,  1.53s/it, train31.0 total0.0027 dsc0.1661 ce0.0411 constrain0.0006  (0.0032)]\n",
      "100%|████████████████| 25/25 [00:57<00:00,  2.29s/it, val31.0 total0.0035 dsc0.1881 ce0.0497 constrain0.0011  (0.0039)]\n",
      "100%|████████████| 128/128 [03:14<00:00,  1.52s/it, train32.0 total0.0025 dsc0.1573 ce0.0389 constrain0.0006  (0.0027)]\n",
      "100%|████████████████| 25/25 [00:54<00:00,  2.20s/it, val32.0 total0.0034 dsc0.1789 ce0.0472 constrain0.0011  (0.0035)]\n",
      "100%|████████████| 128/128 [03:12<00:00,  1.51s/it, train33.0 total0.0023 dsc0.1463 ce0.0363 constrain0.0005  (0.0026)]\n",
      "100%|████████████████| 25/25 [00:56<00:00,  2.25s/it, val33.0 total0.0034 dsc0.1718 ce0.0453 constrain0.0012  (0.0032)]\n",
      "100%|████████████| 128/128 [03:12<00:00,  1.51s/it, train34.0 total0.0023 dsc0.1414 ce0.0351 constrain0.0005  (0.0025)]\n",
      "100%|████████████████| 25/25 [00:56<00:00,  2.28s/it, val34.0 total0.0035 dsc0.1677 ce0.0461 constrain0.0013  (0.0031)]\n",
      "100%|████████████| 128/128 [03:17<00:00,  1.54s/it, train35.0 total0.0023 dsc0.1411 ce0.0350 constrain0.0005  (0.0026)]\n",
      "100%|████████████████| 25/25 [00:57<00:00,  2.28s/it, val35.0 total0.0035 dsc0.1787 ce0.0473 constrain0.0012  (0.0035)]\n",
      "100%|████████████| 128/128 [03:16<00:00,  1.54s/it, train36.0 total0.0023 dsc0.1420 ce0.0351 constrain0.0006  (0.0023)]\n",
      "100%|████████████████| 25/25 [00:57<00:00,  2.31s/it, val36.0 total0.0036 dsc0.1637 ce0.0463 constrain0.0013  (0.0039)]\n",
      "100%|████████████| 128/128 [03:17<00:00,  1.54s/it, train37.0 total0.0021 dsc0.1336 ce0.0332 constrain0.0005  (0.0022)]\n",
      "100%|████████████████| 25/25 [00:58<00:00,  2.34s/it, val37.0 total0.0035 dsc0.1611 ce0.0450 constrain0.0013  (0.0053)]\n",
      "100%|████████████| 128/128 [03:13<00:00,  1.51s/it, train38.0 total0.0021 dsc0.1301 ce0.0322 constrain0.0005  (0.0023)]\n",
      "100%|████████████████| 25/25 [00:56<00:00,  2.27s/it, val38.0 total0.0036 dsc0.1630 ce0.0461 constrain0.0014  (0.0033)]\n",
      "100%|████████████| 128/128 [03:16<00:00,  1.54s/it, train39.0 total0.0021 dsc0.1308 ce0.0324 constrain0.0005  (0.0026)]\n",
      "100%|████████████████| 25/25 [00:57<00:00,  2.29s/it, val39.0 total0.0037 dsc0.1656 ce0.0465 constrain0.0014  (0.0042)]\n",
      "100%|████████████| 128/128 [03:15<00:00,  1.53s/it, train40.0 total0.0021 dsc0.1299 ce0.0322 constrain0.0005  (0.0023)]\n",
      "100%|████████████████| 25/25 [00:58<00:00,  2.35s/it, val40.0 total0.0037 dsc0.1614 ce0.0465 constrain0.0014  (0.0031)]\n",
      "100%|████████████| 128/128 [03:17<00:00,  1.54s/it, train41.0 total0.0021 dsc0.1293 ce0.0319 constrain0.0005  (0.0021)]\n",
      "100%|████████████████| 25/25 [00:57<00:00,  2.31s/it, val41.0 total0.0039 dsc0.1656 ce0.0482 constrain0.0016  (0.0037)]\n",
      "100%|████████████| 128/128 [03:15<00:00,  1.53s/it, train42.0 total0.0020 dsc0.1250 ce0.0309 constrain0.0005  (0.0020)]\n",
      "100%|████████████████| 25/25 [00:59<00:00,  2.39s/it, val42.0 total0.0038 dsc0.1639 ce0.0481 constrain0.0014  (0.0040)]\n",
      "100%|████████████| 128/128 [03:16<00:00,  1.53s/it, train43.0 total0.0021 dsc0.1306 ce0.0326 constrain0.0005  (0.0027)]\n",
      "100%|████████████████| 25/25 [00:56<00:00,  2.27s/it, val43.0 total0.0037 dsc0.2083 ce0.0528 constrain0.0011  (0.0037)]\n",
      "100%|████████████| 128/128 [03:15<00:00,  1.53s/it, train44.0 total0.0030 dsc0.1826 ce0.0453 constrain0.0007  (0.0027)]\n",
      "100%|████████████████| 25/25 [00:57<00:00,  2.30s/it, val44.0 total0.0034 dsc0.2012 ce0.0492 constrain0.0010  (0.0031)]\n",
      "100%|████████████| 128/128 [03:16<00:00,  1.54s/it, train45.0 total0.0023 dsc0.1442 ce0.0355 constrain0.0006  (0.0021)]\n",
      "100%|████████████████| 25/25 [00:57<00:00,  2.30s/it, val45.0 total0.0036 dsc0.1691 ce0.0470 constrain0.0014  (0.0035)]\n",
      "100%|████████████| 128/128 [03:13<00:00,  1.51s/it, train46.0 total0.0020 dsc0.1253 ce0.0310 constrain0.0005  (0.0020)]\n",
      "100%|████████████████| 25/25 [00:57<00:00,  2.29s/it, val46.0 total0.0038 dsc0.1601 ce0.0474 constrain0.0015  (0.0035)]\n",
      "100%|████████████| 128/128 [03:13<00:00,  1.51s/it, train47.0 total0.0019 dsc0.1166 ce0.0289 constrain0.0005  (0.0021)]\n",
      "100%|████████████████| 25/25 [00:57<00:00,  2.29s/it, val47.0 total0.0040 dsc0.1554 ce0.0468 constrain0.0017  (0.0036)]\n",
      "100%|████████████| 128/128 [03:14<00:00,  1.52s/it, train48.0 total0.0019 dsc0.1146 ce0.0284 constrain0.0005  (0.0019)]\n",
      "100%|████████████████| 25/25 [00:57<00:00,  2.30s/it, val48.0 total0.0039 dsc0.1543 ce0.0460 constrain0.0017  (0.0035)]\n",
      "100%|████████████| 128/128 [03:14<00:00,  1.52s/it, train49.0 total0.0018 dsc0.1129 ce0.0279 constrain0.0005  (0.0019)]\n",
      "100%|████████████████| 25/25 [00:55<00:00,  2.23s/it, val49.0 total0.0041 dsc0.1524 ce0.0464 constrain0.0018  (0.0060)]\n",
      "100%|████████████| 128/128 [03:12<00:00,  1.51s/it, train50.0 total0.0018 dsc0.1127 ce0.0279 constrain0.0005  (0.0021)]\n",
      "100%|████████████████| 25/25 [00:55<00:00,  2.23s/it, val50.0 total0.0037 dsc0.1687 ce0.0478 constrain0.0014  (0.0037)]\n",
      "100%|████████████| 128/128 [03:13<00:00,  1.51s/it, train51.0 total0.0027 dsc0.1615 ce0.0399 constrain0.0007  (0.0028)]\n",
      "100%|████████████████| 25/25 [00:55<00:00,  2.24s/it, val51.0 total0.0037 dsc0.1748 ce0.0490 constrain0.0013  (0.0031)]\n",
      "100%|████████████| 128/128 [03:12<00:00,  1.51s/it, train52.0 total0.0022 dsc0.1352 ce0.0333 constrain0.0005  (0.0021)]\n",
      "100%|████████████████| 25/25 [00:55<00:00,  2.23s/it, val52.0 total0.0038 dsc0.1635 ce0.0476 constrain0.0015  (0.0055)]\n",
      "100%|████████████| 128/128 [03:12<00:00,  1.50s/it, train53.0 total0.0019 dsc0.1195 ce0.0294 constrain0.0005  (0.0019)]\n",
      "100%|████████████████| 25/25 [00:54<00:00,  2.18s/it, val53.0 total0.0042 dsc0.1545 ce0.0481 constrain0.0019  (0.0035)]\n",
      "100%|████████████| 128/128 [03:12<00:00,  1.50s/it, train54.0 total0.0018 dsc0.1095 ce0.0271 constrain0.0004  (0.0018)]\n",
      "100%|████████████████| 25/25 [00:55<00:00,  2.22s/it, val54.0 total0.0042 dsc0.1556 ce0.0494 constrain0.0018  (0.0057)]\n",
      "100%|████████████| 128/128 [03:12<00:00,  1.51s/it, train55.0 total0.0017 dsc0.1043 ce0.0258 constrain0.0004  (0.0018)]\n",
      "100%|████████████████| 25/25 [00:54<00:00,  2.19s/it, val55.0 total0.0043 dsc0.1507 ce0.0498 constrain0.0019  (0.0041)]\n",
      "100%|████████████| 128/128 [03:12<00:00,  1.50s/it, train56.0 total0.0017 dsc0.1029 ce0.0254 constrain0.0004  (0.0018)]\n",
      "100%|████████████████| 25/25 [00:56<00:00,  2.25s/it, val56.0 total0.0045 dsc0.1463 ce0.0485 constrain0.0022  (0.0045)]\n",
      "100%|████████████| 128/128 [03:13<00:00,  1.52s/it, train57.0 total0.0017 dsc0.1025 ce0.0253 constrain0.0004  (0.0018)]\n",
      "100%|████████████████| 25/25 [00:55<00:00,  2.23s/it, val57.0 total0.0045 dsc0.1473 ce0.0490 constrain0.0021  (0.0043)]\n",
      "100%|████████████| 128/128 [03:12<00:00,  1.50s/it, train58.0 total0.0018 dsc0.1095 ce0.0270 constrain0.0005  (0.0019)]\n",
      "100%|████████████████| 25/25 [00:55<00:00,  2.22s/it, val58.0 total0.0044 dsc0.1494 ce0.0485 constrain0.0020  (0.0056)]\n",
      "100%|████████████| 128/128 [03:13<00:00,  1.51s/it, train59.0 total0.0017 dsc0.1038 ce0.0256 constrain0.0004  (0.0016)]\n",
      "100%|████████████████| 25/25 [00:56<00:00,  2.27s/it, val59.0 total0.0045 dsc0.1499 ce0.0487 constrain0.0021  (0.0050)]\n",
      "100%|████████████| 128/128 [03:11<00:00,  1.50s/it, train60.0 total0.0017 dsc0.1026 ce0.0253 constrain0.0004  (0.0016)]\n",
      "100%|████████████████| 25/25 [00:56<00:00,  2.24s/it, val60.0 total0.0045 dsc0.1488 ce0.0498 constrain0.0021  (0.0043)]\n",
      "100%|████████████| 128/128 [03:12<00:00,  1.50s/it, train61.0 total0.0016 dsc0.0987 ce0.0243 constrain0.0004  (0.0016)]\n",
      "100%|████████████████| 25/25 [00:55<00:00,  2.21s/it, val61.0 total0.0045 dsc0.1455 ce0.0488 constrain0.0022  (0.0037)]\n",
      "100%|████████████| 128/128 [03:12<00:00,  1.50s/it, train62.0 total0.0016 dsc0.0981 ce0.0242 constrain0.0004  (0.0018)]\n",
      "100%|████████████████| 25/25 [00:55<00:00,  2.22s/it, val62.0 total0.0046 dsc0.1487 ce0.0517 constrain0.0021  (0.0053)]\n",
      "100%|████████████| 128/128 [03:12<00:00,  1.50s/it, train63.0 total0.0017 dsc0.1017 ce0.0251 constrain0.0004  (0.0018)]\n",
      "100%|████████████████| 25/25 [00:55<00:00,  2.21s/it, val63.0 total0.0044 dsc0.1492 ce0.0495 constrain0.0021  (0.0046)]\n",
      "100%|████████████| 128/128 [03:12<00:00,  1.50s/it, train64.0 total0.0017 dsc0.1010 ce0.0249 constrain0.0004  (0.0017)]\n",
      "100%|████████████████| 25/25 [00:57<00:00,  2.28s/it, val64.0 total0.0044 dsc0.1465 ce0.0484 constrain0.0021  (0.0041)]\n",
      "100%|████████████| 128/128 [03:14<00:00,  1.52s/it, train65.0 total0.0016 dsc0.0997 ce0.0245 constrain0.0004  (0.0017)]\n",
      "100%|████████████████| 25/25 [00:55<00:00,  2.20s/it, val65.0 total0.0047 dsc0.1510 ce0.0525 constrain0.0022  (0.0047)]\n",
      "100%|████████████| 128/128 [03:12<00:00,  1.50s/it, train66.0 total0.0016 dsc0.0983 ce0.0242 constrain0.0004  (0.0016)]\n",
      "100%|████████████████| 25/25 [00:56<00:00,  2.25s/it, val66.0 total0.0045 dsc0.1493 ce0.0507 constrain0.0021  (0.0039)]\n",
      "100%|████████████| 128/128 [03:12<00:00,  1.50s/it, train67.0 total0.0016 dsc0.0969 ce0.0239 constrain0.0004  (0.0018)]\n",
      "100%|████████████████| 25/25 [00:55<00:00,  2.22s/it, val67.0 total0.0046 dsc0.1540 ce0.0509 constrain0.0022  (0.0046)]\n",
      "100%|████████████| 128/128 [03:12<00:00,  1.51s/it, train68.0 total0.0016 dsc0.0979 ce0.0240 constrain0.0004  (0.0016)]\n",
      "100%|████████████████| 25/25 [00:55<00:00,  2.21s/it, val68.0 total0.0047 dsc0.1456 ce0.0514 constrain0.0022  (0.0071)]\n",
      "100%|████████████| 128/128 [03:12<00:00,  1.51s/it, train69.0 total0.0015 dsc0.0919 ce0.0226 constrain0.0004  (0.0014)]\n",
      "100%|████████████████| 25/25 [00:54<00:00,  2.20s/it, val69.0 total0.0048 dsc0.1409 ce0.0505 constrain0.0024  (0.0039)]\n",
      "100%|████████████| 128/128 [03:13<00:00,  1.51s/it, train70.0 total0.0015 dsc0.0895 ce0.0220 constrain0.0004  (0.0016)]\n",
      "100%|████████████████| 25/25 [00:57<00:00,  2.29s/it, val70.0 total0.0049 dsc0.1456 ce0.0528 constrain0.0024  (0.0048)]\n",
      "100%|████████████| 128/128 [03:12<00:00,  1.51s/it, train71.0 total0.0016 dsc0.0989 ce0.0243 constrain0.0005  (0.0019)]\n",
      "100%|████████████████| 25/25 [00:55<00:00,  2.23s/it, val71.0 total0.0045 dsc0.1546 ce0.0508 constrain0.0021  (0.0045)]\n",
      "100%|████████████| 128/128 [03:13<00:00,  1.51s/it, train72.0 total0.0018 dsc0.1075 ce0.0263 constrain0.0005  (0.0016)]\n",
      "100%|████████████████| 25/25 [00:56<00:00,  2.26s/it, val72.0 total0.0044 dsc0.1483 ce0.0493 constrain0.0021  (0.0045)]\n",
      "100%|████████████| 128/128 [03:12<00:00,  1.50s/it, train73.0 total0.0015 dsc0.0934 ce0.0230 constrain0.0004  (0.0017)]\n",
      "100%|████████████████| 25/25 [00:57<00:00,  2.28s/it, val73.0 total0.0048 dsc0.1470 ce0.0528 constrain0.0022  (0.0048)]\n",
      "100%|████████████| 128/128 [03:11<00:00,  1.50s/it, train74.0 total0.0015 dsc0.0897 ce0.0221 constrain0.0004  (0.0015)]\n",
      "100%|████████████████| 25/25 [00:56<00:00,  2.26s/it, val74.0 total0.0050 dsc0.1415 ce0.0525 constrain0.0025  (0.0049)]\n",
      "100%|████████████| 128/128 [03:12<00:00,  1.50s/it, train75.0 total0.0014 dsc0.0858 ce0.0212 constrain0.0004  (0.0017)]\n",
      "100%|████████████████| 25/25 [00:56<00:00,  2.25s/it, val75.0 total0.0050 dsc0.1405 ce0.0518 constrain0.0025  (0.0042)]\n",
      "100%|████████████| 128/128 [03:12<00:00,  1.50s/it, train76.0 total0.0015 dsc0.0879 ce0.0217 constrain0.0004  (0.0015)]\n",
      "100%|████████████████| 25/25 [00:57<00:00,  2.29s/it, val76.0 total0.0048 dsc0.1457 ce0.0522 constrain0.0023  (0.0055)]\n",
      "100%|████████████| 128/128 [03:14<00:00,  1.52s/it, train77.0 total0.0016 dsc0.0952 ce0.0234 constrain0.0004  (0.0014)]\n",
      "100%|████████████████| 25/25 [00:57<00:00,  2.31s/it, val77.0 total0.0048 dsc0.1432 ce0.0511 constrain0.0024  (0.0049)]\n",
      "100%|████████████| 128/128 [03:15<00:00,  1.52s/it, train78.0 total0.0015 dsc0.0894 ce0.0220 constrain0.0004  (0.0016)]\n",
      "100%|████████████████| 25/25 [00:57<00:00,  2.31s/it, val78.0 total0.0050 dsc0.1401 ce0.0511 constrain0.0025  (0.0050)]\n",
      "100%|████████████| 128/128 [03:15<00:00,  1.53s/it, train79.0 total0.0014 dsc0.0877 ce0.0216 constrain0.0004  (0.0014)]\n",
      "100%|████████████████| 25/25 [00:56<00:00,  2.26s/it, val79.0 total0.0048 dsc0.1400 ce0.0518 constrain0.0024  (0.0056)]\n",
      "100%|████████████| 128/128 [03:14<00:00,  1.52s/it, train80.0 total0.0014 dsc0.0864 ce0.0212 constrain0.0004  (0.0015)]\n",
      "100%|████████████████| 25/25 [00:57<00:00,  2.29s/it, val80.0 total0.0050 dsc0.1471 ce0.0536 constrain0.0025  (0.0046)]\n",
      "100%|████████████| 128/128 [03:15<00:00,  1.53s/it, train81.0 total0.0017 dsc0.1008 ce0.0247 constrain0.0005  (0.0019)]\n",
      "100%|████████████████| 25/25 [00:57<00:00,  2.31s/it, val81.0 total0.0044 dsc0.1544 ce0.0485 constrain0.0021  (0.0043)]\n",
      "100%|████████████| 128/128 [03:14<00:00,  1.52s/it, train82.0 total0.0023 dsc0.1353 ce0.0331 constrain0.0007  (0.0019)]\n"
     ]
    },
    {
     "name": "stderr",
     "output_type": "stream",
     "text": [
      "100%|████████████████| 25/25 [00:56<00:00,  2.25s/it, val82.0 total0.0040 dsc0.1592 ce0.0483 constrain0.0016  (0.0046)]\n",
      "100%|████████████| 128/128 [03:14<00:00,  1.52s/it, train83.0 total0.0016 dsc0.0976 ce0.0238 constrain0.0004  (0.0015)]\n",
      "100%|████████████████| 25/25 [00:57<00:00,  2.31s/it, val83.0 total0.0048 dsc0.1446 ce0.0508 constrain0.0023  (0.0048)]\n",
      "100%|████████████| 128/128 [03:14<00:00,  1.52s/it, train84.0 total0.0014 dsc0.0851 ce0.0209 constrain0.0003  (0.0014)]\n",
      "100%|████████████████| 25/25 [00:58<00:00,  2.33s/it, val84.0 total0.0050 dsc0.1377 ce0.0522 constrain0.0025  (0.0049)]\n",
      "100%|████████████| 128/128 [03:13<00:00,  1.51s/it, train85.0 total0.0013 dsc0.0786 ce0.0194 constrain0.0003  (0.0014)]\n",
      "100%|████████████████| 25/25 [00:57<00:00,  2.31s/it, val85.0 total0.0052 dsc0.1347 ce0.0531 constrain0.0027  (0.0053)]\n",
      "100%|████████████| 128/128 [03:13<00:00,  1.51s/it, train86.0 total0.0012 dsc0.0756 ce0.0187 constrain0.0003  (0.0012)]\n",
      "100%|████████████████| 25/25 [00:56<00:00,  2.25s/it, val86.0 total0.0055 dsc0.1350 ce0.0563 constrain0.0028  (0.0056)]\n",
      "100%|████████████| 128/128 [03:20<00:00,  1.57s/it, train87.0 total0.0012 dsc0.0733 ce0.0182 constrain0.0003  (0.0012)]\n",
      "100%|████████████████| 25/25 [00:57<00:00,  2.30s/it, val87.0 total0.0057 dsc0.1338 ce0.0570 constrain0.0030  (0.0059)]\n",
      "100%|████████████| 128/128 [03:12<00:00,  1.51s/it, train88.0 total0.0012 dsc0.0730 ce0.0181 constrain0.0003  (0.0012)]\n",
      "100%|████████████████| 25/25 [00:57<00:00,  2.28s/it, val88.0 total0.0057 dsc0.1343 ce0.0570 constrain0.0030  (0.0049)]\n",
      "100%|████████████| 128/128 [03:14<00:00,  1.52s/it, train89.0 total0.0012 dsc0.0749 ce0.0185 constrain0.0003  (0.0012)]\n",
      "100%|████████████████| 25/25 [00:59<00:00,  2.36s/it, val89.0 total0.0056 dsc0.1369 ce0.0567 constrain0.0029  (0.0083)]\n",
      "100%|████████████| 128/128 [03:13<00:00,  1.52s/it, train90.0 total0.0012 dsc0.0752 ce0.0185 constrain0.0003  (0.0012)]\n",
      "100%|████████████████| 25/25 [00:55<00:00,  2.23s/it, val90.0 total0.0058 dsc0.1364 ce0.0571 constrain0.0031  (0.0059)]\n",
      "100%|████████████| 128/128 [03:12<00:00,  1.50s/it, train91.0 total0.0013 dsc0.0785 ce0.0193 constrain0.0004  (0.0014)]\n",
      "100%|████████████████| 25/25 [00:56<00:00,  2.26s/it, val91.0 total0.0053 dsc0.1394 ce0.0545 constrain0.0028  (0.0074)]\n",
      "100%|████████████| 128/128 [03:12<00:00,  1.50s/it, train92.0 total0.0014 dsc0.0852 ce0.0209 constrain0.0004  (0.0015)]\n",
      "100%|████████████████| 25/25 [00:56<00:00,  2.27s/it, val92.0 total0.0053 dsc0.1461 ce0.0557 constrain0.0027  (0.0044)]\n",
      "100%|████████████| 128/128 [03:13<00:00,  1.51s/it, train93.0 total0.0015 dsc0.0868 ce0.0212 constrain0.0004  (0.0014)]\n",
      "100%|████████████████| 25/25 [00:55<00:00,  2.24s/it, val93.0 total0.0050 dsc0.1422 ce0.0523 constrain0.0025  (0.0038)]\n",
      "100%|████████████| 128/128 [03:12<00:00,  1.51s/it, train94.0 total0.0013 dsc0.0809 ce0.0198 constrain0.0004  (0.0014)]\n",
      "100%|████████████████| 25/25 [00:56<00:00,  2.25s/it, val94.0 total0.0052 dsc0.1378 ce0.0528 constrain0.0027  (0.0047)]\n",
      "100%|████████████| 128/128 [03:12<00:00,  1.50s/it, train95.0 total0.0014 dsc0.0812 ce0.0199 constrain0.0004  (0.0013)]\n",
      "100%|████████████████| 25/25 [00:55<00:00,  2.23s/it, val95.0 total0.0053 dsc0.1377 ce0.0542 constrain0.0028  (0.0051)]\n",
      "100%|████████████| 128/128 [03:12<00:00,  1.50s/it, train96.0 total0.0012 dsc0.0758 ce0.0186 constrain0.0003  (0.0013)]\n",
      "100%|████████████████| 25/25 [00:55<00:00,  2.24s/it, val96.0 total0.0058 dsc0.1344 ce0.0568 constrain0.0031  (0.0043)]\n",
      "100%|████████████| 128/128 [03:11<00:00,  1.50s/it, train97.0 total0.0012 dsc0.0736 ce0.0182 constrain0.0003  (0.0014)]\n",
      "100%|████████████████| 25/25 [00:56<00:00,  2.27s/it, val97.0 total0.0057 dsc0.1382 ce0.0595 constrain0.0029  (0.0069)]\n",
      "100%|████████████| 128/128 [03:12<00:00,  1.50s/it, train98.0 total0.0012 dsc0.0724 ce0.0178 constrain0.0003  (0.0011)]\n",
      "100%|████████████████| 25/25 [00:55<00:00,  2.23s/it, val98.0 total0.0061 dsc0.1321 ce0.0584 constrain0.0033  (0.0061)]\n",
      "100%|████████████| 128/128 [03:12<00:00,  1.50s/it, train99.0 total0.0013 dsc0.0768 ce0.0190 constrain0.0004  (0.0017)]\n",
      "100%|████████████████| 25/25 [00:56<00:00,  2.25s/it, val99.0 total0.0048 dsc0.1521 ce0.0519 constrain0.0023  (0.0046)]\n"
     ]
    }
   ],
   "source": [
    "# constrainedloss testing with smaller loss, same sweep region\n",
    "\n",
    "#bestRVweights = \"C:\\\\Datasets\\RVWork\\\\RV_deeplab_50_SQLguide_True_AugmentTrue_best.pt\"\n",
    "bestLVweights = \"C:\\\\Users\\\\Windows\\\\Dropbox\\\\Echo Research\\\\CodeBase\\\\EchoNetDynamic-Weights\\\\deeplabv3_resnet50_random.pt\"\n",
    "\n",
    "numWork = 10\n",
    "numberOfSubsequentFrames = 5\n",
    "bs = 45\n",
    "numEpochs = 100\n",
    "\n",
    "for weightOfConstraint in  [0.8, 0.85, 0.9, 0.95]: #[0, 0.25, 0.1, 0.5, 0.75, 0.9, 1]: #  0.5, 0.1, 0, 0.9, 1 ]: #1, 0,  0.9, #   1000, 100,  10, 1]:\n",
    "    for CrossEntropyLoss in [1]:\n",
    "        for SonoData in [False]:\n",
    "            for doAugmentation in [False]:\n",
    "                for doPretrain in [False]:\n",
    "\n",
    "\n",
    "                    train_dataset = dataset.Dataset(SQLtracings, SQLvideos, mean, std, split=\"train\", fuzzyAugmentation=doAugmentation,constrainSubsequent=numberOfSubsequentFrames,useSonoData=False)\n",
    "\n",
    "                    if SonoData:\n",
    "                        sono_dataset = dataset.Dataset(SQLtracings, SQLvideos, mean, std, split=\"train\", fuzzyAugmentation=doAugmentation,constrainSubsequent=numberOfSubsequentFrames,useSonoData=True)\n",
    "                        train_dataloader = torch.utils.data.DataLoader(torch.utils.data.ConcatDataset([train_dataset,sono_dataset]), batch_size = bs, num_workers = numWork, shuffle = True, pin_memory = True, drop_last = True)\n",
    "                    else:\n",
    "                        train_dataloader = torch.utils.data.DataLoader(train_dataset, batch_size = bs, num_workers = numWork, shuffle = True, pin_memory = True, drop_last = True)\n",
    "\n",
    "                    val_dataset = dataset.Dataset(SQLtracings, SQLvideos, mean, std, split=\"val\", fuzzyAugmentation=False,constrainSubsequent=numberOfSubsequentFrames,useSonoData=False)\n",
    "                    val_dataloader = torch.utils.data.DataLoader(val_dataset, batch_size = bs, num_workers = numWork, shuffle = True, pin_memory = True, drop_last = True)\n",
    "\n",
    "                    dataloaders = {'train':train_dataloader, 'val':val_dataloader}\n",
    "\n",
    "                    device = torch.device(\"cuda\")\n",
    "\n",
    "                    model = torchvision.models.segmentation.deeplabv3_resnet50(pretrained = False, aux_loss = False)\n",
    "                    model.classifier[-1] = torch.nn.Conv2d(model.classifier[-1].in_channels, 1, kernel_size = model.classifier[-1].kernel_size)\n",
    "\n",
    "                    if device.type == \"cuda\":\n",
    "                        model = torch.nn.DataParallel(model)\n",
    "                    model.to(device)\n",
    "\n",
    "                    if doPretrain:\n",
    "                        print(\"load from weights\")\n",
    "                        checkpoint = torch.load(bestLVweights)#LVWeights) #currentRVweights)#\n",
    "                        model.load_state_dict(checkpoint['state_dict'])\n",
    "\n",
    "                    #optim = torch.optim.SGD(model.parameters(), lr=1000, momentum=0.9)\n",
    "                    learning_rate = 1e-2\n",
    "                    optim = torch.optim.Adam(model.parameters(), lr=learning_rate)\n",
    "                    #optim = torch.optim.Adagrad(model.parameters(), lr=100)\n",
    "\n",
    "                    bestLoss = 1000000\n",
    "\n",
    "                    with open(\"LossAcrossEpochs_Pretrain\"+str(doPretrain)+\"_Sono\"+str(SonoData)+\"_Augment\"+str(doAugmentation)+ \"_withCrossEntropyOnly\"+ str(CrossEntropyLoss) + \"_withL2ConstrainedLoss\"+ str(weightOfConstraint) + \"_\"+str(numEpochs)+\"_Adam.csv\", 'w') as output:\n",
    "                        for epoch in range(numEpochs):\n",
    "                            for phase in dataloaders.keys():\n",
    "\n",
    "                                total = 0\n",
    "                                n = 0\n",
    "                                dsctotal = 0\n",
    "                                cetotal = 0\n",
    "                                constrainedTotal = 0\n",
    "\n",
    "                                with torch.set_grad_enabled(phase != 'val'):\n",
    "                                    with tqdm.tqdm(total = len(dataloaders[phase])) as progressbar:\n",
    "                                        for (i, (x,y)) in enumerate(dataloaders[phase]):\n",
    "\n",
    "                                            x = x.to(device)\n",
    "                                            y = y.to(device)\n",
    "                                            #print(y.min(), y.max())\n",
    "                                            #print(x.shape)\n",
    "\n",
    "                                            #print(\"input shape\", x.shape)\n",
    "\n",
    "                                            # reshape to be bs x frames indepedent predictions on (3,112,112) images\n",
    "                                            x = torch.transpose(x, 1, 4)\n",
    "                                            #print(x.shape)\n",
    "                                            x = x.reshape(bs * numberOfSubsequentFrames,  112, 112, 3).transpose(1,2)\n",
    "                                            x = torch.transpose(x, 1, 3).type(torch.float)\n",
    "\n",
    "                                            #print(\"new input shape\", x.shape)\n",
    "\n",
    "                                            p = model(x)[\"out\"]\n",
    "\n",
    "                                            #print(\"predictions shape\", p.shape)\n",
    "\n",
    "                                            constrainedLoss = variousLossFunctions.constrainSubsequentLoss(p, bs, numberOfSubsequentFrames) / 112 / 112\n",
    "                                            dscloss = x.shape[0] / numberOfSubsequentFrames - variousLossFunctions.diceLoss(p[0::numberOfSubsequentFrames, 0, :, :], y,)\n",
    "                                            celoss = torch.nn.functional.binary_cross_entropy_with_logits(p[0::numberOfSubsequentFrames, 0, :, :], y, reduction = \"sum\") / 112 / 112\n",
    "\n",
    "                                            loss =  (1-weightOfConstraint) * celoss + weightOfConstraint * constrainedLoss\n",
    "                                            #CrossEntropyLoss * torch.nn.functional.binary_cross_entropy_with_logits(p[0::numberOfSubsquentFrames, 0, :, :], y, reduction = \"sum\") / 112 / 112 + variousLossFunctions.constrainSubsequentLoss(p, bs, numberOfSubsequentFrames).item()#x.shape[0] - variousLossFunctions.diceLoss(p[:, 0, :, :], y,) +\n",
    "                                            \n",
    "#                                            loss = loss.item()\n",
    "                                            total += loss#.item()\n",
    "                                            dsctotal += dscloss#.item()\n",
    "                                            cetotal += celoss#.item()\n",
    "                                            constrainedTotal += constrainedLoss\n",
    "\n",
    "                                            n += x.shape[0] / numberOfSubsequentFrames\n",
    "\n",
    "                                            #print(loss, total, n, flush = True)\n",
    "\n",
    "                                            progressbar.set_postfix_str(phase + \"{:.1f} total{:.4f} dsc{:.4f} ce{:.4f} constrain{:.4f}  ({:.4f})\".format( epoch, total / n , dsctotal / n , cetotal / n , constrainedTotal / n, loss / x.size(0) * numberOfSubsequentFrames )) #/ 112 / 112\n",
    "                                            progressbar.update()\n",
    "\n",
    "                                            if(phase != 'val'):\n",
    "                                                optim.zero_grad()\n",
    "                                                loss.backward()\n",
    "                                                optim.step()\n",
    "\n",
    "                                        output.write(phase + \",\" + str(epoch) + \",\" + str(total.item() / n ) + \",\" + str(dsctotal.item() / n ) + \",\" + str(cetotal.item() / n ) + ',' + str(constrainedTotal.item() / n) + \"\\n\") #/ 112 / 112\n",
    "\n",
    "                                        if phase == 'val':\n",
    "                                            currentRVweights = \"C:\\\\Datasets\\RVWork\\\\RV_deeplab_50_Pretrain\"+str(doPretrain)+\"_Sono\"+str(SonoData)+\"_Augment\"+str(doAugmentation)+ \"_crossEntropyOnly\"+ str(CrossEntropyLoss) + \"_withL2ConstrainedLoss\"+ str(weightOfConstraint)  + \"_\"+str(numEpochs)+\"_Adam_current.pt\"\n",
    "                                            torch.save(model.state_dict(), currentRVweights)\n",
    "\n",
    "                                            if (total / n ) < bestLoss: #/ 112 / 112)\n",
    "                                                bestLoss = (total / n ) # / 112 / 112)\n",
    "                                                print(\"this is the best so far\", str(bestLoss), flush = True)\n",
    "                                                bestRVweights = \"C:\\\\Datasets\\RVWork\\\\RV_deeplab_50_Pretrain\"+str(doPretrain)+\"_Sono\"+str(SonoData)+\"_Augment\"+str(doAugmentation)+ \"_crossEntropyOnly\"+ str(CrossEntropyLoss) +\"_withL2ConstrainedLoss\"+ str(weightOfConstraint)  + \"_\"+str(numEpochs)+\"_Adam_best.pt\"\n",
    "                                                torch.save(model.state_dict(), bestRVweights)\n"
   ]
  },
  {
   "cell_type": "code",
   "execution_count": null,
   "metadata": {},
   "outputs": [],
   "source": [
    "# hyperparameter search without constrained loss\n",
    "\n",
    "#bestRVweights = \"C:\\\\Datasets\\RVWork\\\\RV_deeplab_50_SQLguide_True_AugmentTrue_best.pt\"\n",
    "bestLVweights = \"C:\\\\Users\\\\Windows\\\\Dropbox\\\\Echo Research\\\\CodeBase\\\\EchoNetDynamic-Weights\\\\deeplabv3_resnet50_random.pt\"\n",
    "\n",
    "for diceLoss in [0,1]:\n",
    "    for CrossEntropyLoss in [0,1]:\n",
    "        for SonoData in [ False, True]:\n",
    "            for doAugmentation in [False, True]:\n",
    "                for doPretrain in [True]:\n",
    "                    if(diceLoss + CrossEntropyLoss > 0):\n",
    "                        print(diceLoss, CrossEntropyLoss, SonoData, doAugmentation, doPretrain)\n",
    "                        \n",
    "                        train_dataset = dataset.Dataset(SQLtracings, SQLvideos, mean, std, split=\"train\", fuzzyAugmentation=doAugmentation,constrainSubsequent=0,useSonoData=False)\n",
    "\n",
    "                        if SonoData:\n",
    "                            sono_dataset = dataset.Dataset(SQLtracings, SQLvideos, mean, std, split=\"train\", fuzzyAugmentation=doAugmentation,constrainSubsequent=0,useSonoData=True)\n",
    "                            train_dataloader = torch.utils.data.DataLoader(torch.utils.data.ConcatDataset([train_dataset,sono_dataset]), batch_size = 100, num_workers = 5, shuffle = True, pin_memory = True, drop_last = True)\n",
    "                        else:\n",
    "                            train_dataloader = torch.utils.data.DataLoader(train_dataset, batch_size = 100, num_workers = 5, shuffle = True, pin_memory = True, drop_last = True)\n",
    "\n",
    "                        val_dataset = dataset.Dataset(SQLtracings, SQLvideos, mean, std, split=\"val\", fuzzyAugmentation=False,constrainSubsequent=0,useSonoData=False)\n",
    "                        val_dataloader = torch.utils.data.DataLoader(val_dataset, batch_size = 100, num_workers = 5, shuffle = True, pin_memory = True, drop_last = True)\n",
    "\n",
    "                        dataloaders = {'train':train_dataloader, 'val':val_dataloader}\n",
    "\n",
    "                        device = torch.device(\"cuda\")\n",
    "\n",
    "                        model = torchvision.models.segmentation.deeplabv3_resnet50(pretrained = False, aux_loss = False)\n",
    "                        model.classifier[-1] = torch.nn.Conv2d(model.classifier[-1].in_channels, 1, kernel_size = model.classifier[-1].kernel_size)\n",
    "\n",
    "                        if device.type == \"cuda\":\n",
    "                            model = torch.nn.DataParallel(model)\n",
    "                        model.to(device)\n",
    "\n",
    "                        if doPretrain:\n",
    "                            print(\"load from weights\")\n",
    "                            checkpoint = torch.load(bestLVweights)#LVWeights) #currentRVweights)#\n",
    "                            model.load_state_dict(checkpoint['state_dict'])\n",
    "\n",
    "                        learning_rate = 1e-4\n",
    "                        optim = torch.optim.Adam(model.parameters(), lr=learning_rate)\n",
    "\n",
    "                        # optim = torch.optim.Adagrad(model.parameters(), lr=100)\n",
    "\n",
    "                        bestLoss = 1000000\n",
    "\n",
    "                        with open(\"LossAcrossEpochs_Pretrain\"+str(doPretrain)+\"_Sono\"+str(SonoData)+\"_Augment\"+str(doAugmentation)+ \"_diceLoss\"+ str(diceLoss) + \"_CrossEntropyLoss\"+ str(CrossEntropyLoss) + \"_Adam.csv\", 'w') as output:\n",
    "                            for epoch in range(50):\n",
    "                                for phase in dataloaders.keys():\n",
    "\n",
    "                                    total = 0\n",
    "                                    n = 0\n",
    "                                    dsctotal = 0\n",
    "                                    cetotal = 0\n",
    "\n",
    "                                    with torch.set_grad_enabled(phase != 'val'):\n",
    "                                        with tqdm.tqdm(total = len(dataloaders[phase])) as progressbar:\n",
    "                                            for (i, (x,y)) in enumerate(dataloaders[phase]):\n",
    "\n",
    "                                                x = x.to(device)\n",
    "                                                y = y.to(device)\n",
    "                                                #print(y.min(), y.max())\n",
    "                                                #print(x.shape)\n",
    "                                                p = model(x)[\"out\"]\n",
    "                                                loss = diceLoss * (x.shape[0] - variousLossFunctions.diceLoss(p[:, 0, :, :], y,)) + CrossEntropyLoss * torch.nn.functional.binary_cross_entropy_with_logits(p[:, 0, :, :], y, reduction = \"sum\") / 112 / 112 #+ variousLossFunctions.diceLoss(p[:, 0, :, :], y,)\n",
    "                                                dscloss = x.shape[0] - variousLossFunctions.diceLoss(p[:, 0, :, :], y,)\n",
    "                                                celoss = torch.nn.functional.binary_cross_entropy_with_logits(p[:, 0, :, :], y, reduction = \"sum\") / 112 / 112\n",
    "\n",
    "                                                total += loss.item()\n",
    "                                                dsctotal += dscloss#.item()\n",
    "                                                cetotal += celoss#.item()\n",
    "\n",
    "                                                n += x.shape[0]\n",
    "\n",
    "                                                #print(loss, total, n, flush = True)\n",
    "\n",
    "                                                progressbar.set_postfix_str(phase + \"{:.1f} {:.4f} {:.4f} {:.4f}  ({:.4f})\".format( epoch, total / n , dsctotal / n , cetotal / n , loss.item() / x.size(0) )) #/ 112 / 112\n",
    "                                                progressbar.update()\n",
    "\n",
    "                                                if(phase != 'val'):\n",
    "                                                    optim.zero_grad()\n",
    "                                                    loss.backward()\n",
    "                                                    optim.step()\n",
    "\n",
    "                                            output.write(phase + \",\" + str(epoch) + \",\" + str(total / n ) + \",\" + str(dsctotal.item() / n ) + \",\" + str(cetotal.item() / n ) + \"\\n\") #/ 112 / 112\n",
    "\n",
    "                                            if phase == 'val':\n",
    "                                                currentRVweights = \"C:\\\\Datasets\\RVWork\\\\RV_deeplab_50_Pretrain\"+str(doPretrain)+\"_Sono\"+str(SonoData)+\"_Augment\"+str(doAugmentation)+ \"_diceLoss\"+ str(diceLoss) + \"_CrossEntropyLoss\"+ str(CrossEntropyLoss) + \"_Adam_current.pt\"\n",
    "                                                torch.save(model.state_dict(), currentRVweights)\n",
    "\n",
    "                                                if (total / n ) < bestLoss: #/ 112 / 112)\n",
    "                                                    bestLoss = (total / n ) # / 112 / 112)\n",
    "                                                    print(\"this is the best so far\", str(bestLoss), flush = True)\n",
    "                                                    bestRVweights = \"C:\\\\Datasets\\RVWork\\\\RV_deeplab_50_Pretrain\"+str(doPretrain)+\"_Sono\"+str(SonoData)+\"_Augment\"+str(doAugmentation)+ \"_diceLoss\"+ str(diceLoss) + \"_CrossEntropyLoss\"+ str(CrossEntropyLoss) +\"_Adam_best.pt\"\n",
    "                                                    torch.save(model.state_dict(), bestRVweights)\n"
   ]
  },
  {
   "cell_type": "code",
   "execution_count": 13,
   "metadata": {},
   "outputs": [],
   "source": [
    "def collate_fn(x):\n",
    "    x, f = zip(*x)\n",
    "    i = list(map(lambda t: t.shape[1], x))\n",
    "    x = torch.as_tensor(np.swapaxes(np.concatenate(x, 1), 0, 1))\n",
    "    return x, f, i\n"
   ]
  },
  {
   "cell_type": "code",
   "execution_count": 14,
   "metadata": {},
   "outputs": [
    {
     "name": "stdout",
     "output_type": "stream",
     "text": [
      "0 L2 ConstrainedLoss1_50_Adam_best.pt\n"
     ]
    },
    {
     "name": "stderr",
     "output_type": "stream",
     "text": [
      "100%|████████████████████████████████████████████████████████████████████████████████████| 1/1 [00:02<00:00,  2.96s/it]\n"
     ]
    },
    {
     "name": "stdout",
     "output_type": "stream",
     "text": [
      "1 L2 ConstrainedLoss0.9_50_Adam_best.pt\n"
     ]
    },
    {
     "name": "stderr",
     "output_type": "stream",
     "text": [
      "100%|████████████████████████████████████████████████████████████████████████████████████| 1/1 [00:02<00:00,  2.73s/it]\n"
     ]
    },
    {
     "name": "stdout",
     "output_type": "stream",
     "text": [
      "2 L2 ConstrainedLoss0.75_50_Adam_best.pt\n"
     ]
    },
    {
     "name": "stderr",
     "output_type": "stream",
     "text": [
      "100%|████████████████████████████████████████████████████████████████████████████████████| 1/1 [00:02<00:00,  2.70s/it]\n"
     ]
    },
    {
     "name": "stdout",
     "output_type": "stream",
     "text": [
      "3 L2 ConstrainedLoss0.5_50_Adam_best.pt\n"
     ]
    },
    {
     "name": "stderr",
     "output_type": "stream",
     "text": [
      "100%|████████████████████████████████████████████████████████████████████████████████████| 1/1 [00:02<00:00,  2.72s/it]\n"
     ]
    },
    {
     "name": "stdout",
     "output_type": "stream",
     "text": [
      "4 L2 ConstrainedLoss0.25_50_Adam_best.pt\n"
     ]
    },
    {
     "name": "stderr",
     "output_type": "stream",
     "text": [
      "100%|████████████████████████████████████████████████████████████████████████████████████| 1/1 [00:02<00:00,  2.73s/it]\n"
     ]
    },
    {
     "name": "stdout",
     "output_type": "stream",
     "text": [
      "5 L2 ConstrainedLoss0.1_50_Adam_best.pt\n"
     ]
    },
    {
     "name": "stderr",
     "output_type": "stream",
     "text": [
      "100%|████████████████████████████████████████████████████████████████████████████████████| 1/1 [00:02<00:00,  2.77s/it]\n"
     ]
    },
    {
     "name": "stdout",
     "output_type": "stream",
     "text": [
      "6 L2 ConstrainedLoss0_50_Adam_best.pt\n"
     ]
    },
    {
     "name": "stderr",
     "output_type": "stream",
     "text": [
      "100%|████████████████████████████████████████████████████████████████████████████████████| 1/1 [00:02<00:00,  2.75s/it]\n"
     ]
    },
    {
     "name": "stdout",
     "output_type": "stream",
     "text": [
      "0 L1 ConstrainedLoss1_50_Adam_best.pt\n"
     ]
    },
    {
     "ename": "FileNotFoundError",
     "evalue": "[Errno 2] No such file or directory: 'C:\\\\Datasets\\\\RVWork\\\\RV_deeplab_50_PretrainFalse_SonoFalse_AugmentFalse_crossEntropyOnly1_withL1ConstrainedLoss1_50_Adam_best.pt'",
     "output_type": "error",
     "traceback": [
      "\u001b[1;31m---------------------------------------------------------------------------\u001b[0m",
      "\u001b[1;31mFileNotFoundError\u001b[0m                         Traceback (most recent call last)",
      "\u001b[1;32m<ipython-input-14-da0b5172d11b>\u001b[0m in \u001b[0;36m<module>\u001b[1;34m\u001b[0m\n\u001b[0;32m     36\u001b[0m     \u001b[1;32mfor\u001b[0m \u001b[0mcount\u001b[0m\u001b[1;33m,\u001b[0m \u001b[0mthisweight\u001b[0m \u001b[1;32min\u001b[0m \u001b[0menumerate\u001b[0m\u001b[1;33m(\u001b[0m\u001b[0mbestRVweights\u001b[0m\u001b[1;33m)\u001b[0m\u001b[1;33m:\u001b[0m\u001b[1;33m\u001b[0m\u001b[1;33m\u001b[0m\u001b[0m\n\u001b[0;32m     37\u001b[0m         \u001b[0mprint\u001b[0m\u001b[1;33m(\u001b[0m\u001b[0mcount\u001b[0m\u001b[1;33m,\u001b[0m \u001b[0mthisLoss\u001b[0m\u001b[1;33m,\u001b[0m \u001b[0mthisweight\u001b[0m\u001b[1;33m)\u001b[0m\u001b[1;33m\u001b[0m\u001b[1;33m\u001b[0m\u001b[0m\n\u001b[1;32m---> 38\u001b[1;33m         \u001b[0mcheckpoint\u001b[0m \u001b[1;33m=\u001b[0m \u001b[0mtorch\u001b[0m\u001b[1;33m.\u001b[0m\u001b[0mload\u001b[0m\u001b[1;33m(\u001b[0m\u001b[0mstem\u001b[0m \u001b[1;33m+\u001b[0m \u001b[0mthisLoss\u001b[0m \u001b[1;33m+\u001b[0m \u001b[0mthisweight\u001b[0m\u001b[1;33m)\u001b[0m\u001b[1;33m\u001b[0m\u001b[1;33m\u001b[0m\u001b[0m\n\u001b[0m\u001b[0;32m     39\u001b[0m         \u001b[0mmodel\u001b[0m\u001b[1;33m.\u001b[0m\u001b[0mload_state_dict\u001b[0m\u001b[1;33m(\u001b[0m\u001b[0mcheckpoint\u001b[0m\u001b[1;33m)\u001b[0m\u001b[1;33m\u001b[0m\u001b[1;33m\u001b[0m\u001b[0m\n\u001b[0;32m     40\u001b[0m \u001b[1;33m\u001b[0m\u001b[0m\n",
      "\u001b[1;32m~\\Anaconda3\\lib\\site-packages\\torch\\serialization.py\u001b[0m in \u001b[0;36mload\u001b[1;34m(f, map_location, pickle_module, **pickle_load_args)\u001b[0m\n\u001b[0;32m    417\u001b[0m             \u001b[1;33m(\u001b[0m\u001b[0msys\u001b[0m\u001b[1;33m.\u001b[0m\u001b[0mversion_info\u001b[0m\u001b[1;33m[\u001b[0m\u001b[1;36m0\u001b[0m\u001b[1;33m]\u001b[0m \u001b[1;33m==\u001b[0m \u001b[1;36m2\u001b[0m \u001b[1;32mand\u001b[0m \u001b[0misinstance\u001b[0m\u001b[1;33m(\u001b[0m\u001b[0mf\u001b[0m\u001b[1;33m,\u001b[0m \u001b[0municode\u001b[0m\u001b[1;33m)\u001b[0m\u001b[1;33m)\u001b[0m\u001b[1;33m:\u001b[0m\u001b[1;33m\u001b[0m\u001b[1;33m\u001b[0m\u001b[0m\n\u001b[0;32m    418\u001b[0m         \u001b[0mnew_fd\u001b[0m \u001b[1;33m=\u001b[0m \u001b[1;32mTrue\u001b[0m\u001b[1;33m\u001b[0m\u001b[1;33m\u001b[0m\u001b[0m\n\u001b[1;32m--> 419\u001b[1;33m         \u001b[0mf\u001b[0m \u001b[1;33m=\u001b[0m \u001b[0mopen\u001b[0m\u001b[1;33m(\u001b[0m\u001b[0mf\u001b[0m\u001b[1;33m,\u001b[0m \u001b[1;34m'rb'\u001b[0m\u001b[1;33m)\u001b[0m\u001b[1;33m\u001b[0m\u001b[1;33m\u001b[0m\u001b[0m\n\u001b[0m\u001b[0;32m    420\u001b[0m     \u001b[1;32melif\u001b[0m \u001b[1;33m(\u001b[0m\u001b[0msys\u001b[0m\u001b[1;33m.\u001b[0m\u001b[0mversion_info\u001b[0m\u001b[1;33m[\u001b[0m\u001b[1;36m0\u001b[0m\u001b[1;33m]\u001b[0m \u001b[1;33m==\u001b[0m \u001b[1;36m3\u001b[0m \u001b[1;32mand\u001b[0m \u001b[0misinstance\u001b[0m\u001b[1;33m(\u001b[0m\u001b[0mf\u001b[0m\u001b[1;33m,\u001b[0m \u001b[0mpathlib\u001b[0m\u001b[1;33m.\u001b[0m\u001b[0mPath\u001b[0m\u001b[1;33m)\u001b[0m\u001b[1;33m)\u001b[0m\u001b[1;33m:\u001b[0m\u001b[1;33m\u001b[0m\u001b[1;33m\u001b[0m\u001b[0m\n\u001b[0;32m    421\u001b[0m         \u001b[0mnew_fd\u001b[0m \u001b[1;33m=\u001b[0m \u001b[1;32mTrue\u001b[0m\u001b[1;33m\u001b[0m\u001b[1;33m\u001b[0m\u001b[0m\n",
      "\u001b[1;31mFileNotFoundError\u001b[0m: [Errno 2] No such file or directory: 'C:\\\\Datasets\\\\RVWork\\\\RV_deeplab_50_PretrainFalse_SonoFalse_AugmentFalse_crossEntropyOnly1_withL1ConstrainedLoss1_50_Adam_best.pt'"
     ]
    }
   ],
   "source": [
    "# Generate videos from both test set of RV focused Views\n",
    "\n",
    "device = torch.device(\"cuda\")\n",
    "testFolder = \"C:\\\\Users\\\\Windows\\\\Dropbox\\\\Echo Research\\\\CodeBase\\\\DynamicRV\\\\Constrained\\\\SmallTestSet\"\n",
    "\n",
    "\n",
    "dataloader = torch.utils.data.DataLoader(echonet.datasets.Echo(split=\"external_test\", external_test_location = testFolder, target_type=[\"Filename\"], length=None, period=1, mean=mean, std=std),\n",
    "                                        batch_size=100, num_workers=0, shuffle=False, pin_memory=(device.type == \"cuda\"), collate_fn=collate_fn)\n",
    "\n",
    "\n",
    "# test_dataset = dataset.Dataset(SQLtracings, SQLvideos, mean, std, split=\"test\", fuzzyAugmentation=False,constrainSubsequent=0,useSonoData=False)\n",
    "# dataloader = torch.utils.data.DataLoader(test_dataset, batch_size = 100, num_workers = 0, shuffle = False, pin_memory=(device.type == \"cuda\"), collate_fn=collate_fn)\n",
    "          \n",
    "stem = \"C:\\\\Datasets\\\\RVWork\\\\RV_deeplab_50_PretrainFalse_SonoFalse_AugmentFalse_crossEntropyOnly1_with\"\n",
    "# foldername = [\"FullFeatures_DiceLoss_RVViews\",\"FullFeatures_CELoss_RVViews\",\"FullFeatures_BothLoss_RVViews\"]\n",
    "loss = [\"L2\", \"L1\"]\n",
    "weight = [\"1\", \"0.9\", \"0.75\", \"0.5\", \"0.25\", \"0.1\", \"0\"]\n",
    "folder = \"Constrained\\\\ExamplesWithBiggerLoss\"\n",
    "bestRVweights = [\"ConstrainedLoss1_50_Adam_best.pt\",\n",
    "                \"ConstrainedLoss0.9_50_Adam_best.pt\",\n",
    "                 \"ConstrainedLoss0.75_50_Adam_best.pt\",\n",
    "                 \"ConstrainedLoss0.5_50_Adam_best.pt\",\n",
    "                 \"ConstrainedLoss0.25_50_Adam_best.pt\",\n",
    "                 \"ConstrainedLoss0.1_50_Adam_best.pt\",\n",
    "                 \"ConstrainedLoss0_50_Adam_best.pt\"]\n",
    "\n",
    "\n",
    "model = torchvision.models.segmentation.deeplabv3_resnet50(pretrained = False, aux_loss = False)\n",
    "model.classifier[-1] = torch.nn.Conv2d(model.classifier[-1].in_channels, 1, kernel_size = model.classifier[-1].kernel_size)\n",
    "\n",
    "if device.type == \"cuda\":\n",
    "     model = torch.nn.DataParallel(model)\n",
    "model.to(device)\n",
    "\n",
    "for thisLoss in loss:\n",
    "    for count, thisweight in enumerate(bestRVweights):\n",
    "        print(count, thisLoss, thisweight)\n",
    "        checkpoint = torch.load(stem + thisLoss + thisweight)\n",
    "        model.load_state_dict(checkpoint)\n",
    "\n",
    "\n",
    "        #all_dataset = dataset.Dataset(SQLtracings, SQLvideos, mean, std, split=\"all\", fuzzyAugmentation=False,constrainSubsequent=0)\n",
    "        #dataloader = torch.utils.data.DataLoader(all_dataset, batch_size = 200, num_workers = 10, shuffle = True, pin_memory = True, drop_last = True)\n",
    "\n",
    "        #bestRVweights = \"C:\\\\Datasets\\RVWork\\\\RV_deeplab_50_Sono_True_Pretrain_False_Augment_False_best.pt\"\n",
    "        #\n",
    "        #checkpoint = torch.load(bestRVweights)\n",
    "        #model.load_state_dict(checkpoint['state_dict'])\n",
    "\n",
    "        #os.makedirs(folder, exist_ok=True)\n",
    "\n",
    "        block = 256\n",
    "        with torch.no_grad():\n",
    "            for (x, f, i) in tqdm.tqdm(dataloader):\n",
    "                x = x.to(device)\n",
    "                y = np.concatenate([model(x[i:(i + block), :, :, :])[\"out\"].detach().cpu().numpy() for i in range(0, x.shape[0], block)]).astype(np.float16)\n",
    "\n",
    "                start = 0\n",
    "                x = (x.cpu().numpy() * std.reshape((1, 3, 1, 1))) + mean.reshape((1, 3, 1, 1))\n",
    "\n",
    "                for (filename, offset) in zip(f, i):\n",
    "                    img = x[start:(start + offset), ...].transpose((1, 0, 2, 3))\n",
    "                    img = np.concatenate((img, img), 3)\n",
    "                    logit = y[start:(start + offset), 0, :, :].copy()\n",
    "                    img[1, :, :, 112:] = np.maximum(255. * (logit > 0), img[0, :, :, 112:])\n",
    "\n",
    "                    #img = y[start:(start + offset)]\n",
    "                    #np.save(os.path.join(output, \"labels\", os.path.splitext(filename)[0]), y[start:(start + offset), 0, :, :])\n",
    "                    echonet.utils.savevideo(os.path.join(folder, os.path.splitext(filename)[0] + \"_\" + thisLoss + \"_\"+ weight[count] + \".avi\"), img.astype(np.uint8), 50)\n",
    "\n",
    "                    start += offset"
   ]
  },
  {
   "cell_type": "code",
   "execution_count": null,
   "metadata": {},
   "outputs": [],
   "source": []
  }
 ],
 "metadata": {
  "kernelspec": {
   "display_name": "Python 3",
   "language": "python",
   "name": "python3"
  },
  "language_info": {
   "codemirror_mode": {
    "name": "ipython",
    "version": 3
   },
   "file_extension": ".py",
   "mimetype": "text/x-python",
   "name": "python",
   "nbconvert_exporter": "python",
   "pygments_lexer": "ipython3",
   "version": "3.7.6"
  }
 },
 "nbformat": 4,
 "nbformat_minor": 2
}
