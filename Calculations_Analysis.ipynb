{
  "nbformat": 4,
  "nbformat_minor": 0,
  "metadata": {
    "colab": {
      "name": "Calculations - Analysis.ipynb",
      "provenance": [],
      "collapsed_sections": [],
      "toc_visible": true,
      "machine_shape": "hm",
      "include_colab_link": true
    },
    "kernelspec": {
      "name": "python3",
      "display_name": "Python 3"
    }
  },
  "cells": [
    {
      "cell_type": "markdown",
      "metadata": {
        "id": "view-in-github",
        "colab_type": "text"
      },
      "source": [
        "<a href=\"https://colab.research.google.com/github/douyang/echonet-function-evaluation/blob/master/Calculations_Analysis.ipynb\" target=\"_parent\"><img src=\"https://colab.research.google.com/assets/colab-badge.svg\" alt=\"Open In Colab\"/></a>"
      ]
    },
    {
      "cell_type": "markdown",
      "metadata": {
        "id": "1jGANGwopG4g"
      },
      "source": [
        "# Generating Image Samples"
      ]
    },
    {
      "cell_type": "code",
      "metadata": {
        "id": "pb8mnyOscRTj"
      },
      "source": [
        "from google.colab.patches import cv2_imshow\n",
        "import os\n",
        "import cv2\n",
        "import numpy as np"
      ],
      "execution_count": 1,
      "outputs": []
    },
    {
      "cell_type": "code",
      "metadata": {
        "id": "clYOAL30gH5-"
      },
      "source": [
        "path = \"/content/120070335_803023843853524_3220986397143345552_n.png\""
      ],
      "execution_count": 2,
      "outputs": []
    },
    {
      "cell_type": "markdown",
      "metadata": {
        "id": "DHXCX73VzjZn"
      },
      "source": [
        "#Get all of the coordinates of the edge of the segmented mask(Red Version)"
      ]
    },
    {
      "cell_type": "code",
      "metadata": {
        "id": "OkLPu6KZzieu",
        "outputId": "d2b57e5d-71b9-4ffc-c17b-49cc48a75bfe",
        "colab": {
          "base_uri": "https://localhost:8080/",
          "height": 275
        }
      },
      "source": [
        "# read image\n",
        "img = cv2.imread(path)\n",
        "rgb = cv2.cvtColor(img, cv2.COLOR_BGR2RGB)\n",
        "\n",
        "# set lower and upper bounds on blue color\n",
        "lower = (100,0,0)\n",
        "upper = (255,0,0)\n",
        "\n",
        "# threshold and invert so hexagon is white on black background\n",
        "thresh = cv2.inRange(rgb, lower, upper)\n",
        "\n",
        "# get contours\n",
        "result = np.zeros_like(thresh)\n",
        "contours = cv2.findContours(thresh, cv2.RETR_EXTERNAL, cv2.CHAIN_APPROX_NONE)\n",
        "contours = contours[0] if len(contours) == 2 else contours[1]\n",
        "\n",
        "points = []\n",
        "# list contour points\n",
        "for pt in contours:\n",
        "    for i in pt:\n",
        "      for coord in i:\n",
        "        points.append(coord.tolist())\n",
        "print(points)\n",
        "\n",
        "print(\"Number of points: \", len(points))\n",
        "# show thresh and contour  \n",
        "cv2_imshow(thresh)\n",
        "cv2_imshow(img)\n",
        "\n",
        "cv2.waitKey(0)\n",
        "cv2.destroyAllWindows()\n"
      ],
      "execution_count": 3,
      "outputs": [
        {
          "output_type": "stream",
          "text": [
            "[]\n",
            "Number of points:  0\n"
          ],
          "name": "stdout"
        },
        {
          "output_type": "display_data",
          "data": {
            "image/png": "[encoded data removed]",
            "text/plain": [
              "<PIL.Image.Image image mode=L size=112x112 at 0x7FB80B1EE0F0>"
            ]
          },
          "metadata": {
            "tags": []
          }
        },
        {
          "output_type": "display_data",
          "data": {
            "image/png": "[encoded data removed]",
            "text/plain": [
              "<PIL.Image.Image image mode=RGB size=112x112 at 0x7FB80B1CAE48>"
            ]
          },
          "metadata": {
            "tags": []
          }
        }
      ]
    },
    {
      "cell_type": "markdown",
      "metadata": {
        "id": "VxTYjT1ckr7z"
      },
      "source": [
        "# Blue Version"
      ]
    },
    {
      "cell_type": "code",
      "metadata": {
        "id": "XaHMKuUIhIpn",
        "outputId": "862d9ffe-4ccf-4595-ab7f-9323e97f8bbf",
        "colab": {
          "base_uri": "https://localhost:8080/",
          "height": 295
        }
      },
      "source": [
        "# read image\n",
        "img = cv2.imread(path)\n",
        "rgb = cv2.cvtColor(img, cv2.COLOR_BGR2RGB)\n",
        "\n",
        "# set lower and upper bounds on blue color\n",
        "lower = (0,0,100)\n",
        "upper = (255,255,255)\n",
        "\n",
        "# threshold and invert so hexagon is white on black background\n",
        "thresh = cv2.inRange(rgb, lower, upper)\n",
        "\n",
        "\n",
        "# get contours\n",
        "result = np.zeros_like(thresh)\n",
        "contours = cv2.findContours(thresh, cv2.RETR_EXTERNAL, cv2.CHAIN_APPROX_NONE)\n",
        "contours = contours[0] if len(contours) == 2 else contours[1]\n",
        "\n",
        "points = []\n",
        "# list contour points\n",
        "for pt in contours:\n",
        "    for i in pt:\n",
        "      for coord in i:\n",
        "        points.append(coord.tolist())\n",
        "print(points)\n",
        "\n",
        "print(\"Number of points: \", len(points))\n",
        "# show thresh and contour  \n",
        "cv2_imshow(thresh)\n",
        "cv2_imshow(img)\n",
        "# cv2_imshow(opening)\n",
        "# cv2_imshow(closing)\n",
        "\n",
        "cv2.waitKey(0)\n",
        "cv2.destroyAllWindows()\n"
      ],
      "execution_count": 4,
      "outputs": [
        {
          "output_type": "stream",
          "text": [
            "[[56, 24], [55, 25], [54, 26], [53, 27], [53, 28], [52, 29], [52, 30], [51, 31], [51, 32], [50, 33], [49, 34], [49, 35], [49, 36], [49, 37], [48, 38], [48, 39], [48, 40], [48, 41], [48, 42], [48, 43], [47, 44], [47, 45], [47, 46], [47, 47], [47, 48], [47, 49], [47, 50], [46, 51], [46, 52], [46, 53], [46, 54], [46, 55], [46, 56], [45, 57], [45, 58], [45, 59], [45, 60], [45, 61], [45, 62], [45, 63], [45, 64], [45, 65], [45, 66], [45, 67], [45, 68], [45, 69], [45, 70], [45, 71], [45, 72], [45, 73], [44, 74], [44, 75], [44, 76], [44, 77], [44, 78], [44, 79], [44, 80], [45, 81], [45, 82], [45, 83], [45, 84], [46, 85], [47, 86], [48, 86], [49, 86], [50, 86], [51, 86], [52, 86], [53, 86], [54, 86], [55, 86], [56, 86], [57, 86], [58, 86], [59, 86], [60, 86], [61, 86], [62, 86], [63, 85], [64, 85], [65, 85], [66, 85], [67, 85], [68, 84], [69, 84], [70, 84], [71, 84], [72, 83], [73, 83], [74, 83], [75, 83], [76, 83], [77, 82], [78, 82], [79, 82], [80, 82], [81, 81], [81, 80], [82, 79], [82, 78], [83, 77], [83, 76], [83, 75], [83, 74], [83, 73], [83, 72], [83, 71], [83, 70], [83, 69], [83, 68], [83, 67], [83, 66], [83, 65], [83, 64], [83, 63], [82, 62], [82, 61], [82, 60], [82, 59], [82, 58], [82, 57], [82, 56], [81, 55], [81, 54], [81, 53], [80, 52], [80, 51], [80, 50], [79, 49], [79, 48], [79, 47], [78, 46], [78, 45], [78, 44], [78, 43], [77, 42], [77, 41], [76, 40], [75, 39], [75, 38], [74, 37], [73, 36], [73, 35], [72, 34], [71, 33], [71, 32], [70, 31], [69, 30], [68, 29], [67, 28], [66, 27], [65, 26], [64, 25], [63, 24], [62, 24], [61, 24], [60, 24], [59, 24], [58, 24], [57, 24]]\n",
            "Number of points:  160\n"
          ],
          "name": "stdout"
        },
        {
          "output_type": "display_data",
          "data": {
            "image/png": "[encoded data removed]",
            "text/plain": [
              "<PIL.Image.Image image mode=L size=112x112 at 0x7FB80B1E5198>"
            ]
          },
          "metadata": {
            "tags": []
          }
        },
        {
          "output_type": "display_data",
          "data": {
            "image/png": "[encoded data removed]",
            "text/plain": [
              "<PIL.Image.Image image mode=RGB size=112x112 at 0x7FB80B1E5278>"
            ]
          },
          "metadata": {
            "tags": []
          }
        }
      ]
    },
    {
      "cell_type": "markdown",
      "metadata": {
        "id": "_eTgTNqmuMAy"
      },
      "source": [
        "# Mask from binary mask"
      ]
    },
    {
      "cell_type": "code",
      "metadata": {
        "id": "cago6URCuLd3",
        "outputId": "3fc8a221-549f-4644-8d23-564a7b507a27",
        "colab": {
          "base_uri": "https://localhost:8080/",
          "height": 295
        }
      },
      "source": [
        "# read image\n",
        "img = cv2.imread(path)\n",
        "rgb = cv2.cvtColor(img, cv2.COLOR_BGR2RGB)\n",
        "\n",
        "# set lower and upper bounds on blue color\n",
        "lower = (200,200,200)\n",
        "upper = (255,255,255)\n",
        "\n",
        "# threshold and invert so hexagon is white on black background\n",
        "thresh = cv2.inRange(rgb, lower, upper)\n",
        "\n",
        "# get contours\n",
        "result = np.zeros_like(thresh)\n",
        "contours = cv2.findContours(thresh, cv2.RETR_EXTERNAL, cv2.CHAIN_APPROX_NONE)\n",
        "contours = contours[0] if len(contours) == 2 else contours[1]\n",
        "\n",
        "points = []\n",
        "# list contour points\n",
        "for pt in contours:\n",
        "    for i in pt:\n",
        "      for coord in i:\n",
        "        points.append(coord.tolist())\n",
        "print(points)\n",
        "\n",
        "print(\"Number of points: \", len(points))\n",
        "# show thresh and contour  \n",
        "cv2_imshow(img)\n",
        "cv2_imshow(thresh)\n",
        "\n",
        "# cv2_imshow(opening)\n",
        "# cv2_imshow(closing)\n",
        "\n",
        "cv2.waitKey(0)\n",
        "cv2.destroyAllWindows()\n"
      ],
      "execution_count": 5,
      "outputs": [
        {
          "output_type": "stream",
          "text": [
            "[[56, 24], [55, 25], [54, 26], [53, 27], [53, 28], [52, 29], [52, 30], [51, 31], [51, 32], [50, 33], [49, 34], [49, 35], [49, 36], [49, 37], [48, 38], [48, 39], [48, 40], [48, 41], [48, 42], [48, 43], [47, 44], [47, 45], [47, 46], [47, 47], [47, 48], [47, 49], [47, 50], [46, 51], [46, 52], [46, 53], [46, 54], [46, 55], [46, 56], [45, 57], [45, 58], [45, 59], [45, 60], [45, 61], [45, 62], [45, 63], [45, 64], [45, 65], [45, 66], [45, 67], [45, 68], [45, 69], [45, 70], [45, 71], [45, 72], [45, 73], [44, 74], [44, 75], [44, 76], [44, 77], [44, 78], [44, 79], [44, 80], [45, 81], [45, 82], [45, 83], [45, 84], [46, 85], [47, 86], [48, 86], [49, 86], [50, 86], [51, 86], [52, 86], [53, 86], [54, 86], [55, 86], [56, 86], [57, 86], [58, 86], [59, 86], [60, 86], [61, 86], [62, 86], [63, 85], [64, 85], [65, 85], [66, 85], [67, 85], [68, 84], [69, 84], [70, 84], [71, 84], [72, 83], [73, 83], [74, 83], [75, 83], [76, 83], [77, 82], [78, 82], [79, 82], [80, 82], [81, 81], [81, 80], [82, 79], [82, 78], [83, 77], [83, 76], [83, 75], [83, 74], [83, 73], [83, 72], [83, 71], [83, 70], [83, 69], [83, 68], [83, 67], [83, 66], [83, 65], [83, 64], [83, 63], [82, 62], [82, 61], [82, 60], [82, 59], [82, 58], [82, 57], [82, 56], [81, 55], [81, 54], [81, 53], [80, 52], [80, 51], [80, 50], [79, 49], [79, 48], [79, 47], [78, 46], [78, 45], [78, 44], [78, 43], [77, 42], [77, 41], [76, 40], [75, 39], [75, 38], [74, 37], [73, 36], [73, 35], [72, 34], [71, 33], [71, 32], [70, 31], [69, 30], [68, 29], [67, 28], [66, 27], [65, 26], [64, 25], [63, 24], [62, 24], [61, 24], [60, 24], [59, 24], [58, 24], [57, 24]]\n",
            "Number of points:  160\n"
          ],
          "name": "stdout"
        },
        {
          "output_type": "display_data",
          "data": {
            "image/png": "[encoded data removed]",
            "text/plain": [
              "<PIL.Image.Image image mode=RGB size=112x112 at 0x7FB814A57A20>"
            ]
          },
          "metadata": {
            "tags": []
          }
        },
        {
          "output_type": "display_data",
          "data": {
            "image/png": "[encoded data removed]",
            "text/plain": [
              "<PIL.Image.Image image mode=L size=112x112 at 0x7FB814A57978>"
            ]
          },
          "metadata": {
            "tags": []
          }
        }
      ]
    },
    {
      "cell_type": "code",
      "metadata": {
        "id": "GrvWzR4MlKM8"
      },
      "source": [
        "pointGroups = []\n",
        "index = 0\n",
        "subgroup = [points[0]]\n",
        "\n",
        "for i in range(len(points) - 1):\n",
        "  prevPoint = points[i]\n",
        "  currentPoint = points[i+1]\n",
        "\n",
        "  if abs(prevPoint[0]-currentPoint[0]) <= 1 and abs(prevPoint[1]-currentPoint[1]) <= 1:\n",
        "    subgroup.append(currentPoint)\n",
        "  else:\n",
        "    pointGroups.append(subgroup[:])\n",
        "    subgroup = [currentPoint]\n",
        "\n",
        "pointGroups.append(subgroup)\n",
        "\n",
        "mainPointGroup = []\n",
        "maxPointGroupSize = 0\n",
        "\n",
        "for group in pointGroups:\n",
        "  if len(group) > maxPointGroupSize:\n",
        "    maxPointGroup = group\n",
        "    maxPointGroupSize = len(group)\n",
        "\n",
        "points = maxPointGroup[:]"
      ],
      "execution_count": 6,
      "outputs": []
    },
    {
      "cell_type": "markdown",
      "metadata": {
        "id": "eTM-6vUrz19L"
      },
      "source": [
        "# Top 5 and Bottom 5 Analysis(Heuristic 2)\n"
      ]
    },
    {
      "cell_type": "code",
      "metadata": {
        "id": "bXj9D_WPYf54"
      },
      "source": [
        "def getDistance(point1, point2):\n",
        "  return math.sqrt((point1[0]-point2[0])**2 + (point1[1]-point2[1])**2)\n",
        "\n",
        "def getSlope(point1, point2):\n",
        "  if ((point1[0] == point2[0])):\n",
        "    return -333\n",
        "  return (point1[1] - point2[1])/(point1[0] - point2[0])\n",
        "\n",
        "# Minimum and Maximum Y Coord\n",
        "maxY = max(points, key = lambda point: point[1])\n",
        "minY = min(points, key = lambda point: point[1])\n",
        "\n",
        "# MinY and MaxY With the limits\n",
        "minYWith5 = minY[1] + 5\n",
        "maxYWithout5 = maxY[1] - 15\n",
        "\n",
        "# Creating these arrays\n",
        "minYWith5Arr = []\n",
        "maxYWithout5Arr = []\n",
        "\n",
        "# Finding these points\n",
        "for point in points:\n",
        "  if point[1] == minYWith5:\n",
        "    minYWith5Arr.append(point)\n",
        "  if point[1] == maxYWithout5:\n",
        "    maxYWithout5Arr.append(point)\n",
        "\n",
        "# Average X Coordinates\n",
        "averageTopX = round((minYWith5Arr[0][0] + minYWith5Arr[-1][0])/2)\n",
        "averageBottomX = round((maxYWithout5Arr[0][0] + maxYWithout5Arr[-1][0])/2)\n",
        "slope = getSlope([averageTopX, minYWith5], [averageBottomX, maxYWithout5])\n",
        "\n",
        "if slope > 0:\n",
        "  averageTopX -= round((minYWith5Arr[-1][0] - minYWith5Arr[0][0])/1.5/slope)\n",
        "  averageBottomX += round((maxYWithout5Arr[-1][0] - maxYWithout5Arr[0][0])/3/slope)\n",
        "else:\n",
        "  averageTopX -= round((minYWith5Arr[-1][0] - minYWith5Arr[0][0])/1.5/slope)\n",
        "  averageBottomX += round((maxYWithout5Arr[-1][0] - maxYWithout5Arr[0][0])/3/slope)\n",
        "\n",
        "\n",
        "# Creating these arrays\n",
        "averageTopXArr = []\n",
        "averageBottomXArr = []\n",
        "\n",
        "# Finding these points\n",
        "condition = True\n",
        "if slope > 0:\n",
        "  while condition and averageTopX <= minYWith5Arr[-1][0] and averageBottomX >= maxYWithout5Arr[0][0]:\n",
        "    for point in points:\n",
        "      if point[0] == averageTopX:\n",
        "        averageTopXArr.append(point)\n",
        "      if point[0] == averageBottomX:\n",
        "        averageBottomXArr.append(point)\n",
        "    if len(averageTopXArr) > 0 and len(averageBottomXArr):\n",
        "      condition = False\n",
        "    if len(averageTopXArr) == 0:\n",
        "      averageTopX += 1\n",
        "    if len(averageBottomXArr) == 0:\n",
        "      averageBottomXArr -= 1\n",
        "else:\n",
        "  while condition and averageTopX >= minYWith5Arr[0][0] and averageBottomX <= maxYWithout5Arr[-1][0]:\n",
        "    for point in points:\n",
        "      if point[0] == averageTopX:\n",
        "        averageTopXArr.append(point)\n",
        "      if point[0] == averageBottomX:\n",
        "        averageBottomXArr.append(point)\n",
        "    if len(averageTopXArr) > 0 and len(averageBottomXArr):\n",
        "      condition = False\n",
        "    if len(averageTopXArr) == 0:\n",
        "      averageTopX -= 1\n",
        "    if len(averageBottomXArr) == 0:\n",
        "      averageBottomXArr += 1\n",
        "\n",
        "# Sorting Arrs\n",
        "averageTopXArr.sort(key=lambda point: point[1])\n",
        "averageBottomXArr.sort(key=lambda point: point[1])\n",
        "averageBottomXArr.reverse()\n",
        "\n",
        "\n",
        "# Finding Min Top and Max Bottom\n",
        "TopCoord = averageTopXArr[0]\n",
        "BottomCoord = averageBottomXArr[0]\n",
        "\n",
        "x1, y1 = TopCoord\n",
        "x2, y2 = BottomCoord\n",
        "\n",
        "if (x1 + y1) > (x2 + y2):\n",
        "  x1, y1, x2, y2 = x2, y2, x1, y1"
      ],
      "execution_count": 7,
      "outputs": []
    },
    {
      "cell_type": "markdown",
      "metadata": {
        "id": "h1Hbm3Zp0MMV"
      },
      "source": [
        "# Calculate Weighted Average"
      ]
    },
    {
      "cell_type": "code",
      "metadata": {
        "id": "FFDvJJ110O1H",
        "outputId": "28e3b806-3a35-4d37-b266-773562a7620e",
        "colab": {
          "base_uri": "https://localhost:8080/",
          "height": 54
        }
      },
      "source": [
        "import math\n",
        "\n",
        "# parallel_dist = distance/21\n",
        "\n",
        "weighted_avg = []\n",
        "\n",
        "for n in range(1, 21, 1):\n",
        "  x_perpendicular = (((n*x1)+(21-n)*(x2))/21)\n",
        "  y_perpendicular = (((n*y1)+(21-n)*(y2))/21)\n",
        "  weighted_avg.append([x_perpendicular, y_perpendicular])\n",
        "\n",
        "print(weighted_avg)"
      ],
      "execution_count": 8,
      "outputs": [
        {
          "output_type": "stream",
          "text": [
            "[[64.71428571428571, 82.0952380952381], [64.42857142857143, 79.19047619047619], [64.14285714285714, 76.28571428571429], [63.857142857142854, 73.38095238095238], [63.57142857142857, 70.47619047619048], [63.285714285714285, 67.57142857142857], [63.0, 64.66666666666667], [62.714285714285715, 61.76190476190476], [62.42857142857143, 58.857142857142854], [62.142857142857146, 55.95238095238095], [61.857142857142854, 53.04761904761905], [61.57142857142857, 50.142857142857146], [61.285714285714285, 47.23809523809524], [61.0, 44.333333333333336], [60.714285714285715, 41.42857142857143], [60.42857142857143, 38.523809523809526], [60.142857142857146, 35.61904761904762], [59.857142857142854, 32.714285714285715], [59.57142857142857, 29.80952380952381], [59.285714285714285, 26.904761904761905]]\n"
          ],
          "name": "stdout"
        }
      ]
    },
    {
      "cell_type": "markdown",
      "metadata": {
        "id": "TLFxNNTyvynO"
      },
      "source": [
        "# Find All Mask White points"
      ]
    },
    {
      "cell_type": "code",
      "metadata": {
        "id": "EUn8wGqxv3Xz",
        "outputId": "1787a224-639b-4a11-9187-bae928de6aa0",
        "colab": {
          "base_uri": "https://localhost:8080/",
          "height": 71
        }
      },
      "source": [
        "p1Index = points.index([x1, y1])\n",
        "p2Index = points.index([x2, y2])\n",
        "\n",
        "lowerIndex = min(p1Index, p2Index)\n",
        "higherIndex = max(p1Index, p2Index)\n",
        "\n",
        "higherIntercept = points[lowerIndex:higherIndex]\n",
        "lowerIntercept = points[higherIndex:] + points[:lowerIndex]\n",
        "\n",
        "if (higherIntercept[0][0] + higherIntercept[0][1]) > (lowerIntercept[0][0] + lowerIntercept[0][1]):\n",
        "  lowerIntercept, higherIntercept = higherIntercept, lowerIntercept\n",
        "\n",
        "print(lowerIntercept)\n",
        "print(higherIntercept)"
      ],
      "execution_count": 9,
      "outputs": [
        {
          "output_type": "stream",
          "text": [
            "[[65, 85], [66, 85], [67, 85], [68, 84], [69, 84], [70, 84], [71, 84], [72, 83], [73, 83], [74, 83], [75, 83], [76, 83], [77, 82], [78, 82], [79, 82], [80, 82], [81, 81], [81, 80], [82, 79], [82, 78], [83, 77], [83, 76], [83, 75], [83, 74], [83, 73], [83, 72], [83, 71], [83, 70], [83, 69], [83, 68], [83, 67], [83, 66], [83, 65], [83, 64], [83, 63], [82, 62], [82, 61], [82, 60], [82, 59], [82, 58], [82, 57], [82, 56], [81, 55], [81, 54], [81, 53], [80, 52], [80, 51], [80, 50], [79, 49], [79, 48], [79, 47], [78, 46], [78, 45], [78, 44], [78, 43], [77, 42], [77, 41], [76, 40], [75, 39], [75, 38], [74, 37], [73, 36], [73, 35], [72, 34], [71, 33], [71, 32], [70, 31], [69, 30], [68, 29], [67, 28], [66, 27], [65, 26], [64, 25], [63, 24], [62, 24], [61, 24], [60, 24]]\n",
            "[[59, 24], [58, 24], [57, 24], [56, 24], [55, 25], [54, 26], [53, 27], [53, 28], [52, 29], [52, 30], [51, 31], [51, 32], [50, 33], [49, 34], [49, 35], [49, 36], [49, 37], [48, 38], [48, 39], [48, 40], [48, 41], [48, 42], [48, 43], [47, 44], [47, 45], [47, 46], [47, 47], [47, 48], [47, 49], [47, 50], [46, 51], [46, 52], [46, 53], [46, 54], [46, 55], [46, 56], [45, 57], [45, 58], [45, 59], [45, 60], [45, 61], [45, 62], [45, 63], [45, 64], [45, 65], [45, 66], [45, 67], [45, 68], [45, 69], [45, 70], [45, 71], [45, 72], [45, 73], [44, 74], [44, 75], [44, 76], [44, 77], [44, 78], [44, 79], [44, 80], [45, 81], [45, 82], [45, 83], [45, 84], [46, 85], [47, 86], [48, 86], [49, 86], [50, 86], [51, 86], [52, 86], [53, 86], [54, 86], [55, 86], [56, 86], [57, 86], [58, 86], [59, 86], [60, 86], [61, 86], [62, 86], [63, 85], [64, 85]]\n"
          ],
          "name": "stdout"
        }
      ]
    },
    {
      "cell_type": "markdown",
      "metadata": {
        "id": "lZ4W1B_vZwrf"
      },
      "source": [
        "# Split points into 2"
      ]
    },
    {
      "cell_type": "code",
      "metadata": {
        "id": "Zo0FQM3WBuCp",
        "outputId": "2c665de9-46ab-4aa6-fb19-e86bf46d9eb5",
        "colab": {
          "base_uri": "https://localhost:8080/",
          "height": 1000
        }
      },
      "source": [
        "# Indexing\n",
        "lowerIndex = 0\n",
        "higherIndex = 0\n",
        "\n",
        "# Make sure its from top to bottom direction\n",
        "if (weighted_avg[-1][0] + weighted_avg[-1][1]) < (weighted_avg[0][0] + weighted_avg[0][1]):\n",
        "  weighted_avg = weighted_avg[::-1]\n",
        "\n",
        "# Make sure its from top to bottom direction\n",
        "if getDistance(weighted_avg[0], higherIntercept[0]) > getDistance(weighted_avg[0], higherIntercept[-1]):\n",
        "    higherIntercept = higherIntercept[::-1]\n",
        "\n",
        "# Make sure its from top to bottom direction\n",
        "if getDistance(weighted_avg[0], lowerIntercept[0]) > getDistance(weighted_avg[0], lowerIntercept[-1]):\n",
        "    lowerIntercept = lowerIntercept[::-1]\n",
        "\n",
        "higherInterceptAveragePoints = []\n",
        "lowerInterceptAveragePoints = []\n",
        "\n",
        "lowerIndex = 0\n",
        "higherIndex = 0\n",
        "\n",
        "slope = getSlope([x1, y1], [x2, y2])\n",
        "try:\n",
        "  perp_slope = -1/slope\n",
        "except:\n",
        "  perp_slope = 10000\n",
        "\n",
        "for averagePoint in weighted_avg:\n",
        "  try:\n",
        "    condition = True\n",
        "    while condition:\n",
        "      point = higherIntercept[higherIndex]\n",
        "      \n",
        "      if averagePoint[0] <= point[0] and slope > 0:\n",
        "        averagePoint[0] = point[0] + 1\n",
        "      \n",
        "\n",
        "      new_slope = getSlope(point, averagePoint)\n",
        "      higherIndex += 1\n",
        "      \n",
        "      print(point, averagePoint, new_slope, perp_slope, slope)\n",
        "      if slope>0 and new_slope<perp_slope and (new_slope<slope) and (new_slope != -333):\n",
        "        higherInterceptAveragePoints.append(point)\n",
        "        condition = False\n",
        "      elif slope<0 and new_slope<perp_slope and new_slope>slope:\n",
        "        higherInterceptAveragePoints.append(point)\n",
        "        condition = False\n",
        "      \n",
        "  except:\n",
        "    higherInterceptAveragePoints.append(higherIntercept[higherIndex - 1])\n",
        "\n",
        "for averagePoint in weighted_avg:\n",
        "  try:\n",
        "    condition = True\n",
        "    while condition:\n",
        "      point = lowerIntercept[lowerIndex]\n",
        "      new_slope = getSlope(point, averagePoint)\n",
        "      lowerIndex += 1\n",
        "\n",
        "      if slope>0 and new_slope>perp_slope and (new_slope<slope) and (new_slope != -333):\n",
        "        lowerInterceptAveragePoints.append(point)\n",
        "        condition = False\n",
        "      elif slope<0 and new_slope>perp_slope and new_slope>slope:\n",
        "        lowerInterceptAveragePoints.append(point)\n",
        "        condition = False\n",
        "  except:\n",
        "    lowerInterceptAveragePoints.append(lowerIntercept[lowerIndex - 1])\n",
        "\n",
        "print(lowerInterceptAveragePoints)\n",
        "print(higherInterceptAveragePoints)\n"
      ],
      "execution_count": 10,
      "outputs": [
        {
          "output_type": "stream",
          "text": [
            "[59, 24] [59.285714285714285, 26.904761904761905] 10.166666666666703 -0.09836065573770493 10.166666666666666\n",
            "[58, 24] [59.285714285714285, 26.904761904761905] 2.2592592592592613 -0.09836065573770493 10.166666666666666\n",
            "[57, 24] [59.285714285714285, 26.904761904761905] 1.2708333333333341 -0.09836065573770493 10.166666666666666\n",
            "[56, 24] [59.285714285714285, 26.904761904761905] 0.8840579710144931 -0.09836065573770493 10.166666666666666\n",
            "[55, 25] [59.285714285714285, 26.904761904761905] 0.44444444444444464 -0.09836065573770493 10.166666666666666\n",
            "[54, 26] [59.285714285714285, 26.904761904761905] 0.17117117117117125 -0.09836065573770493 10.166666666666666\n",
            "[53, 27] [59.285714285714285, 26.904761904761905] -0.0151515151515151 -0.09836065573770493 10.166666666666666\n",
            "[53, 28] [59.285714285714285, 26.904761904761905] -0.17424242424242423 -0.09836065573770493 10.166666666666666\n",
            "[52, 29] [59.57142857142857, 29.80952380952381] 0.1069182389937108 -0.09836065573770493 10.166666666666666\n",
            "[52, 30] [59.57142857142857, 29.80952380952381] -0.025157232704402434 -0.09836065573770493 10.166666666666666\n",
            "[51, 31] [59.57142857142857, 29.80952380952381] -0.13888888888888884 -0.09836065573770493 10.166666666666666\n",
            "[51, 32] [59.857142857142854, 32.714285714285715] 0.08064516129032272 -0.09836065573770493 10.166666666666666\n",
            "[50, 33] [59.857142857142854, 32.714285714285715] -0.02898550724637672 -0.09836065573770493 10.166666666666666\n",
            "[49, 34] [59.857142857142854, 32.714285714285715] -0.11842105263157889 -0.09836065573770493 10.166666666666666\n",
            "[49, 35] [60.142857142857146, 35.61904761904762] 0.055555555555555663 -0.09836065573770493 10.166666666666666\n",
            "[49, 36] [60.142857142857146, 35.61904761904762] -0.03418803418803406 -0.09836065573770493 10.166666666666666\n",
            "[49, 37] [60.142857142857146, 35.61904761904762] -0.12393162393162378 -0.09836065573770493 10.166666666666666\n",
            "[48, 38] [60.42857142857143, 38.523809523809526] 0.04214559386973193 -0.09836065573770493 10.166666666666666\n",
            "[48, 39] [60.42857142857143, 38.523809523809526] -0.038314176245210586 -0.09836065573770493 10.166666666666666\n",
            "[48, 40] [60.42857142857143, 38.523809523809526] -0.11877394636015311 -0.09836065573770493 10.166666666666666\n",
            "[48, 41] [60.714285714285715, 41.42857142857143] 0.033707865168539485 -0.09836065573770493 10.166666666666666\n",
            "[48, 42] [60.714285714285715, 41.42857142857143] -0.04494382022471894 -0.09836065573770493 10.166666666666666\n",
            "[48, 43] [60.714285714285715, 41.42857142857143] -0.12359550561797736 -0.09836065573770493 10.166666666666666\n",
            "[47, 44] [61.0, 44.333333333333336] 0.023809523809523978 -0.09836065573770493 10.166666666666666\n",
            "[47, 45] [61.0, 44.333333333333336] -0.04761904761904745 -0.09836065573770493 10.166666666666666\n",
            "[47, 46] [61.0, 44.333333333333336] -0.11904761904761887 -0.09836065573770493 10.166666666666666\n",
            "[47, 47] [61.285714285714285, 47.23809523809524] 0.016666666666666857 -0.09836065573770493 10.166666666666666\n",
            "[47, 48] [61.285714285714285, 47.23809523809524] -0.05333333333333315 -0.09836065573770493 10.166666666666666\n",
            "[47, 49] [61.285714285714285, 47.23809523809524] -0.12333333333333316 -0.09836065573770493 10.166666666666666\n",
            "[47, 50] [61.57142857142857, 50.142857142857146] 0.00980392156862766 -0.09836065573770493 10.166666666666666\n",
            "[46, 51] [61.57142857142857, 50.142857142857146] -0.055045871559632836 -0.09836065573770493 10.166666666666666\n",
            "[46, 52] [61.57142857142857, 50.142857142857146] -0.11926605504587139 -0.09836065573770493 10.166666666666666\n",
            "[46, 53] [61.857142857142854, 53.04761904761905] 0.0030030030030032168 -0.09836065573770493 10.166666666666666\n",
            "[46, 54] [61.857142857142854, 53.04761904761905] -0.06006006006005986 -0.09836065573770493 10.166666666666666\n",
            "[46, 55] [61.857142857142854, 53.04761904761905] -0.12312312312312293 -0.09836065573770493 10.166666666666666\n",
            "[46, 56] [62.142857142857146, 55.95238095238095] -0.0029498525073748403 -0.09836065573770493 10.166666666666666\n",
            "[45, 57] [62.142857142857146, 55.95238095238095] -0.061111111111111296 -0.09836065573770493 10.166666666666666\n",
            "[45, 58] [62.142857142857146, 55.95238095238095] -0.11944444444444462 -0.09836065573770493 10.166666666666666\n",
            "[45, 59] [62.42857142857143, 58.857142857142854] -0.008196721311475584 -0.09836065573770493 10.166666666666666\n",
            "[45, 60] [62.42857142857143, 58.857142857142854] -0.06557377049180345 -0.09836065573770493 10.166666666666666\n",
            "[45, 61] [62.42857142857143, 58.857142857142854] -0.12295081967213131 -0.09836065573770493 10.166666666666666\n",
            "[45, 62] [62.714285714285715, 61.76190476190476] -0.013440860215053916 -0.09836065573770493 10.166666666666666\n",
            "[45, 63] [62.714285714285715, 61.76190476190476] -0.06989247311827972 -0.09836065573770493 10.166666666666666\n",
            "[45, 64] [62.714285714285715, 61.76190476190476] -0.12634408602150551 -0.09836065573770493 10.166666666666666\n",
            "[45, 65] [63.0, 64.66666666666667] -0.018518518518518254 -0.09836065573770493 10.166666666666666\n",
            "[45, 66] [63.0, 64.66666666666667] -0.0740740740740738 -0.09836065573770493 10.166666666666666\n",
            "[45, 67] [63.0, 64.66666666666667] -0.12962962962962937 -0.09836065573770493 10.166666666666666\n",
            "[45, 68] [63.285714285714285, 67.57142857142857] -0.02343750000000011 -0.09836065573770493 10.166666666666666\n",
            "[45, 69] [63.285714285714285, 67.57142857142857] -0.07812500000000011 -0.09836065573770493 10.166666666666666\n",
            "[45, 70] [63.285714285714285, 67.57142857142857] -0.1328125000000001 -0.09836065573770493 10.166666666666666\n",
            "[45, 71] [63.57142857142857, 70.47619047619048] -0.028205128205127918 -0.09836065573770493 10.166666666666666\n",
            "[45, 72] [63.57142857142857, 70.47619047619048] -0.08205128205128177 -0.09836065573770493 10.166666666666666\n",
            "[45, 73] [63.57142857142857, 70.47619047619048] -0.1358974358974356 -0.09836065573770493 10.166666666666666\n",
            "[44, 74] [63.857142857142854, 73.38095238095238] -0.031175059952038443 -0.09836065573770493 10.166666666666666\n",
            "[44, 75] [63.857142857142854, 73.38095238095238] -0.08153477218225427 -0.09836065573770493 10.166666666666666\n",
            "[44, 76] [63.857142857142854, 73.38095238095238] -0.13189448441247012 -0.09836065573770493 10.166666666666666\n",
            "[44, 77] [64.14285714285714, 76.28571428571429] -0.03546099290780112 -0.09836065573770493 10.166666666666666\n",
            "[44, 78] [64.14285714285714, 76.28571428571429] -0.08510638297872312 -0.09836065573770493 10.166666666666666\n",
            "[44, 79] [64.14285714285714, 76.28571428571429] -0.1347517730496451 -0.09836065573770493 10.166666666666666\n",
            "[44, 80] [64.42857142857143, 79.19047619047619] -0.03962703962703966 -0.09836065573770493 10.166666666666666\n",
            "[45, 81] [64.42857142857143, 79.19047619047619] -0.09313725490196081 -0.09836065573770493 10.166666666666666\n",
            "[45, 82] [64.42857142857143, 79.19047619047619] -0.14460784313725492 -0.09836065573770493 10.166666666666666\n",
            "[45, 83] [64.71428571428571, 82.0952380952381] -0.045893719806762955 -0.09836065573770493 10.166666666666666\n",
            "[45, 84] [64.71428571428571, 82.0952380952381] -0.09661835748792238 -0.09836065573770493 10.166666666666666\n",
            "[46, 85] [64.71428571428571, 82.0952380952381] -0.15521628498727705 -0.09836065573770493 10.166666666666666\n",
            "[[66, 27], [68, 29], [71, 32], [73, 35], [75, 38], [76, 40], [78, 43], [78, 46], [79, 49], [80, 52], [81, 55], [82, 57], [82, 60], [83, 63], [83, 66], [83, 69], [83, 72], [83, 75], [82, 78], [81, 81]]\n",
            "[[53, 28], [51, 31], [49, 34], [49, 37], [48, 40], [48, 43], [47, 46], [47, 49], [46, 52], [46, 55], [45, 58], [45, 61], [45, 64], [45, 67], [45, 70], [45, 73], [44, 76], [44, 79], [45, 82], [46, 85]]\n"
          ],
          "name": "stdout"
        }
      ]
    },
    {
      "cell_type": "code",
      "metadata": {
        "id": "hmfg-Gv_cICt",
        "outputId": "6053eb0f-df5b-401b-e2ae-a85ccb3fc76b",
        "colab": {
          "base_uri": "https://localhost:8080/",
          "height": 1000
        }
      },
      "source": [
        "# Calculate perpendicular slope\n",
        "try:\n",
        "  perp_slope = -1/slope\n",
        "except:\n",
        "  perp_slope = 10000\n",
        "\n",
        "# Indexing\n",
        "lowerIndex = 0\n",
        "higherIndex = 0\n",
        "\n",
        "# Make sure its from top to bottom direction\n",
        "if (weighted_avg[-1][0] + weighted_avg[-1][1]) < (weighted_avg[0][0] + weighted_avg[0][1]):\n",
        "  weighted_avg = weighted_avg[::-1]\n",
        "\n",
        "# Make sure its from top to bottom direction\n",
        "if getDistance(weighted_avg[0], higherIntercept[0]) > getDistance(weighted_avg[0], higherIntercept[-1]):\n",
        "    higherIntercept = higherIntercept[::-1]\n",
        "\n",
        "# Make sure its from top to bottom direction\n",
        "if getDistance(weighted_avg[0], lowerIntercept[0]) > getDistance(weighted_avg[0], lowerIntercept[-1]):\n",
        "    lowerIntercept = lowerIntercept[::-1]\n",
        "\n",
        "higherInterceptAveragePoints = []\n",
        "lowerInterceptAveragePoints = []\n",
        "\n",
        "for averagePoint in weighted_avg:\n",
        "  try:\n",
        "    condition = True\n",
        "    while condition:\n",
        "      point = higherIntercept[higherIndex]\n",
        "      if higherIndex == 0:\n",
        "        prev_point = [x1, y1]\n",
        "      else:\n",
        "        prev_point = higherIntercept[higherIndex-1]\n",
        "      \n",
        "      new_slope = getSlope(point, averagePoint)\n",
        "      prev_slope =  getSlope(prev_point, averagePoint)\n",
        "      betweenCond = ((point[0] <= averagePoint[0] and prev_point[0] >= averagePoint[0]) or (point[0] >= averagePoint[0] and prev_point[0] <= averagePoint[0])) and abs(new_slope) > abs(slope) and abs(prev_slope) > abs(slope) \n",
        "\n",
        "\n",
        "      if ((new_slope >= perp_slope and prev_slope<=perp_slope) or  (new_slope <= perp_slope and prev_slope>=perp_slope)) and (not betweenCond):\n",
        "        \n",
        "        higherInterceptAveragePoints.append(point)\n",
        "        condition = False\n",
        "      elif perp_slope == 10000 and ((new_slope > 0 and prev_slope < 0) or (new_slope < 0 and prev_slope > 0)):\n",
        "        higherInterceptAveragePoints.append(point)\n",
        "        condition = False\n",
        "      higherIndex += 1\n",
        "  except:\n",
        "    higherInterceptAveragePoints.append(higherIntercept[higherIndex - 1])\n",
        "\n",
        "for averagePoint in weighted_avg:\n",
        "  try:\n",
        "    condition = True\n",
        "    while condition:\n",
        "      point = lowerIntercept[lowerIndex]\n",
        "      if lowerIndex == 0:\n",
        "        prev_point = [x1, y1]\n",
        "      else:\n",
        "        prev_point = lowerIntercept[lowerIndex-1]\n",
        "\n",
        "      new_slope = getSlope(point, averagePoint)\n",
        "      prev_slope =  getSlope(prev_point, averagePoint)\n",
        "      betweenCond = ((point[0] <= averagePoint[0] and prev_point[0] >= averagePoint[0]) or (point[0] >= averagePoint[0] and prev_point[0] <= averagePoint[0])) and abs(new_slope) > abs(slope) and abs(prev_slope) > abs(slope) \n",
        "\n",
        "      print(point, prev_point, averagePoint, new_slope, prev_slope, perp_slope)\n",
        "      if ((new_slope >= perp_slope and prev_slope<=perp_slope) or  (new_slope <= perp_slope and prev_slope>=perp_slope)) and (not betweenCond):\n",
        "        lowerInterceptAveragePoints.append(point)\n",
        "        condition = False\n",
        "      elif perp_slope == 10000 and ((new_slope > 0 and prev_slope < 0) or (new_slope < 0 and prev_slope > 0)):\n",
        "        lowerInterceptAveragePoints.append(point)\n",
        "        condition = False\n",
        "\n",
        "      print(\"here\")\n",
        "      lowerIndex += 1\n",
        "  except:\n",
        "    lowerInterceptAveragePoints.append(lowerIntercept[lowerIndex - 1])\n",
        "\n",
        "\n",
        "for point in higherInterceptAveragePoints:\n",
        "  print(point)\n",
        "\n",
        "print(\"\\n\\n\")\n",
        "for point in lowerInterceptAveragePoints:\n",
        "  print(point)"
      ],
      "execution_count": 11,
      "outputs": [
        {
          "output_type": "stream",
          "text": [
            "[60, 24] [59, 24] [59.285714285714285, 26.904761904761905] -4.066666666666661 10.166666666666703 -0.09836065573770493\n",
            "here\n",
            "[61, 24] [60, 24] [59.57142857142857, 29.80952380952381] -4.066666666666661 -13.555555555555493 -0.09836065573770493\n",
            "here\n",
            "[62, 24] [61, 24] [59.57142857142857, 29.80952380952381] -2.392156862745096 -4.066666666666661 -0.09836065573770493\n",
            "here\n",
            "[63, 24] [62, 24] [59.57142857142857, 29.80952380952381] -1.6944444444444435 -2.392156862745096 -0.09836065573770493\n",
            "here\n",
            "[64, 25] [63, 24] [59.57142857142857, 29.80952380952381] -1.0860215053763438 -1.6944444444444435 -0.09836065573770493\n",
            "here\n",
            "[65, 26] [64, 25] [59.57142857142857, 29.80952380952381] -0.7017543859649121 -1.0860215053763438 -0.09836065573770493\n",
            "here\n",
            "[66, 27] [65, 26] [59.57142857142857, 29.80952380952381] -0.437037037037037 -0.7017543859649121 -0.09836065573770493\n",
            "here\n",
            "[67, 28] [66, 27] [59.57142857142857, 29.80952380952381] -0.2435897435897436 -0.437037037037037 -0.09836065573770493\n",
            "here\n",
            "[68, 29] [67, 28] [59.57142857142857, 29.80952380952381] -0.09604519774011305 -0.2435897435897436 -0.09836065573770493\n",
            "here\n",
            "[69, 30] [68, 29] [59.857142857142854, 32.714285714285715] -0.296875 -0.45614035087719296 -0.09836065573770493\n",
            "here\n",
            "[70, 31] [69, 30] [59.857142857142854, 32.714285714285715] -0.1690140845070423 -0.296875 -0.09836065573770493\n",
            "here\n",
            "[71, 32] [70, 31] [59.857142857142854, 32.714285714285715] -0.06410256410256418 -0.1690140845070423 -0.09836065573770493\n",
            "here\n",
            "[71, 33] [71, 32] [60.142857142857146, 35.61904761904762] -0.2412280701754388 -0.33333333333333354 -0.09836065573770493\n",
            "here\n",
            "[72, 34] [71, 33] [60.142857142857146, 35.61904761904762] -0.13654618473895597 -0.2412280701754388 -0.09836065573770493\n",
            "here\n",
            "[73, 35] [72, 34] [60.142857142857146, 35.61904761904762] -0.048148148148148266 -0.13654618473895597 -0.09836065573770493\n",
            "here\n",
            "[73, 36] [73, 35] [60.42857142857143, 38.523809523809526] -0.2007575757575759 -0.2803030303030305 -0.09836065573770493\n",
            "here\n",
            "[74, 37] [73, 36] [60.42857142857143, 38.523809523809526] -0.1122807017543861 -0.2007575757575759 -0.09836065573770493\n",
            "here\n",
            "[75, 38] [74, 37] [60.42857142857143, 38.523809523809526] -0.035947712418300776 -0.1122807017543861 -0.09836065573770493\n",
            "here\n",
            "[75, 39] [75, 38] [60.714285714285715, 41.42857142857143] -0.17000000000000015 -0.24000000000000016 -0.09836065573770493\n",
            "here\n",
            "[76, 40] [75, 39] [60.714285714285715, 41.42857142857143] -0.09345794392523378 -0.17000000000000015 -0.09836065573770493\n",
            "here\n",
            "[77, 41] [76, 40] [61.0, 44.333333333333336] -0.20833333333333348 -0.28888888888888903 -0.09836065573770493\n",
            "here\n",
            "[77, 42] [77, 41] [61.0, 44.333333333333336] -0.14583333333333348 -0.20833333333333348 -0.09836065573770493\n",
            "here\n",
            "[78, 43] [77, 42] [61.0, 44.333333333333336] -0.07843137254901975 -0.14583333333333348 -0.09836065573770493\n",
            "here\n",
            "[78, 44] [78, 43] [61.285714285714285, 47.23809523809524] -0.19373219373219389 -0.2535612535612537 -0.09836065573770493\n",
            "here\n",
            "[78, 45] [78, 44] [61.285714285714285, 47.23809523809524] -0.13390313390313405 -0.19373219373219389 -0.09836065573770493\n",
            "here\n",
            "[78, 46] [78, 45] [61.285714285714285, 47.23809523809524] -0.07407407407407424 -0.13390313390313405 -0.09836065573770493\n",
            "here\n",
            "[79, 47] [78, 46] [61.57142857142857, 50.142857142857146] -0.18032786885245916 -0.2521739130434784 -0.09836065573770493\n",
            "here\n",
            "[79, 48] [79, 47] [61.57142857142857, 50.142857142857146] -0.12295081967213131 -0.18032786885245916 -0.09836065573770493\n",
            "here\n",
            "[79, 49] [79, 48] [61.57142857142857, 50.142857142857146] -0.06557377049180345 -0.12295081967213131 -0.09836065573770493\n",
            "here\n",
            "[80, 50] [79, 49] [61.857142857142854, 53.04761904761905] -0.16797900262467208 -0.23611111111111127 -0.09836065573770493\n",
            "here\n",
            "[80, 51] [80, 50] [61.857142857142854, 53.04761904761905] -0.11286089238845161 -0.16797900262467208 -0.09836065573770493\n",
            "here\n",
            "[80, 52] [80, 51] [61.857142857142854, 53.04761904761905] -0.05774278215223115 -0.11286089238845161 -0.09836065573770493\n",
            "here\n",
            "[81, 53] [80, 52] [62.142857142857146, 55.95238095238095] -0.1565656565656564 -0.2213333333333332 -0.09836065573770493\n",
            "here\n",
            "[81, 54] [81, 53] [62.142857142857146, 55.95238095238095] -0.10353535353535337 -0.1565656565656564 -0.09836065573770493\n",
            "here\n",
            "[81, 55] [81, 54] [62.142857142857146, 55.95238095238095] -0.05050505050505033 -0.10353535353535337 -0.09836065573770493\n",
            "here\n",
            "[82, 56] [81, 55] [62.42857142857143, 58.857142857142854] -0.14598540145985386 -0.20769230769230754 -0.09836065573770493\n",
            "here\n",
            "[82, 57] [82, 56] [62.42857142857143, 58.857142857142854] -0.09489051094890497 -0.14598540145985386 -0.09836065573770493\n",
            "here\n",
            "[82, 58] [82, 57] [62.714285714285715, 61.76190476190476] -0.1950617283950616 -0.24691358024691346 -0.09836065573770493\n",
            "here\n",
            "[82, 59] [82, 58] [62.714285714285715, 61.76190476190476] -0.14320987654320974 -0.1950617283950616 -0.09836065573770493\n",
            "here\n",
            "[82, 60] [82, 59] [62.714285714285715, 61.76190476190476] -0.09135802469135788 -0.14320987654320974 -0.09836065573770493\n",
            "here\n",
            "[82, 61] [82, 60] [63.0, 64.66666666666667] -0.19298245614035112 -0.24561403508771953 -0.09836065573770493\n",
            "here\n",
            "[82, 62] [82, 61] [63.0, 64.66666666666667] -0.1403508771929827 -0.19298245614035112 -0.09836065573770493\n",
            "here\n",
            "[83, 63] [82, 62] [63.0, 64.66666666666667] -0.08333333333333356 -0.1403508771929827 -0.09836065573770493\n",
            "here\n",
            "[83, 64] [83, 63] [63.285714285714285, 67.57142857142857] -0.18115942028985496 -0.23188405797101438 -0.09836065573770493\n",
            "here\n",
            "[83, 65] [83, 64] [63.285714285714285, 67.57142857142857] -0.13043478260869554 -0.18115942028985496 -0.09836065573770493\n",
            "here\n",
            "[83, 66] [83, 65] [63.285714285714285, 67.57142857142857] -0.07971014492753613 -0.13043478260869554 -0.09836065573770493\n",
            "here\n",
            "[83, 67] [83, 66] [63.57142857142857, 70.47619047619048] -0.17892156862745123 -0.23039215686274536 -0.09836065573770493\n",
            "here\n",
            "[83, 68] [83, 67] [63.57142857142857, 70.47619047619048] -0.12745098039215713 -0.17892156862745123 -0.09836065573770493\n",
            "here\n",
            "[83, 69] [83, 68] [63.57142857142857, 70.47619047619048] -0.07598039215686302 -0.12745098039215713 -0.09836065573770493\n",
            "here\n",
            "[83, 70] [83, 69] [63.857142857142854, 73.38095238095238] -0.17661691542288546 -0.22885572139303473 -0.09836065573770493\n",
            "here\n",
            "[83, 71] [83, 70] [63.857142857142854, 73.38095238095238] -0.12437810945273622 -0.17661691542288546 -0.09836065573770493\n",
            "here\n",
            "[83, 72] [83, 71] [63.857142857142854, 73.38095238095238] -0.07213930348258699 -0.12437810945273622 -0.09836065573770493\n",
            "here\n",
            "[83, 73] [83, 72] [64.14285714285714, 76.28571428571429] -0.17424242424242453 -0.22727272727272754 -0.09836065573770493\n",
            "here\n",
            "[83, 74] [83, 73] [64.14285714285714, 76.28571428571429] -0.1212121212121215 -0.17424242424242453 -0.09836065573770493\n",
            "here\n",
            "[83, 75] [83, 74] [64.14285714285714, 76.28571428571429] -0.0681818181818185 -0.1212121212121215 -0.09836065573770493\n",
            "here\n",
            "[83, 76] [83, 75] [64.42857142857143, 79.19047619047619] -0.17179487179487177 -0.22564102564102562 -0.09836065573770493\n",
            "here\n",
            "[83, 77] [83, 76] [64.42857142857143, 79.19047619047619] -0.11794871794871792 -0.17179487179487177 -0.09836065573770493\n",
            "here\n",
            "[82, 78] [83, 77] [64.42857142857143, 79.19047619047619] -0.06775067750677503 -0.11794871794871792 -0.09836065573770493\n",
            "here\n",
            "[82, 79] [82, 78] [64.71428571428571, 82.0952380952381] -0.17906336088154304 -0.2369146005509645 -0.09836065573770493\n",
            "here\n",
            "[81, 80] [82, 79] [64.71428571428571, 82.0952380952381] -0.12865497076023427 -0.17906336088154304 -0.09836065573770493\n",
            "here\n",
            "[81, 81] [81, 80] [64.71428571428571, 82.0952380952381] -0.06725146198830448 -0.12865497076023427 -0.09836065573770493\n",
            "here\n",
            "[53, 28]\n",
            "[51, 31]\n",
            "[49, 34]\n",
            "[49, 37]\n",
            "[48, 40]\n",
            "[48, 43]\n",
            "[47, 46]\n",
            "[47, 49]\n",
            "[46, 52]\n",
            "[46, 55]\n",
            "[45, 58]\n",
            "[45, 61]\n",
            "[45, 64]\n",
            "[45, 67]\n",
            "[45, 70]\n",
            "[45, 73]\n",
            "[44, 76]\n",
            "[44, 79]\n",
            "[45, 82]\n",
            "[46, 85]\n",
            "\n",
            "\n",
            "\n",
            "[60, 24]\n",
            "[68, 29]\n",
            "[71, 32]\n",
            "[73, 35]\n",
            "[75, 38]\n",
            "[76, 40]\n",
            "[78, 43]\n",
            "[78, 46]\n",
            "[79, 49]\n",
            "[80, 52]\n",
            "[81, 55]\n",
            "[82, 57]\n",
            "[82, 60]\n",
            "[83, 63]\n",
            "[83, 66]\n",
            "[83, 69]\n",
            "[83, 72]\n",
            "[83, 75]\n",
            "[82, 78]\n",
            "[81, 81]\n"
          ],
          "name": "stdout"
        }
      ]
    },
    {
      "cell_type": "code",
      "metadata": {
        "id": "Ko8MIoVRy2Wy"
      },
      "source": [
        "# i = 0\n",
        "\n",
        "# x1, y1 = lowerIntercept[i]\n",
        "# x2, y2 = higherIntercept[i]\n",
        "\n",
        "\n",
        "# slope = getSlope([x1, y1], [x2, y2])\n",
        "\n",
        "# p1Index = points.index([x1, y1])\n",
        "# p2Index = points.index([x2, y2])\n",
        "\n",
        "# lowerIndex = min(p1Index, p2Index)\n",
        "# higherIndex = max(p1Index, p2Index)\n",
        "\n",
        "# higherInterceptPoints = points[lowerIndex:higherIndex]\n",
        "# lowerInterceptPoints = points[higherIndex:] + points[:lowerIndex]\n",
        "\n",
        "# if (higherInterceptPoints[0][0] + higherInterceptPoints[0][1]) < (lowerInterceptPoints[0][0] + lowerInterceptPoints[0][1]):\n",
        "#   lowerInterceptPoints, higherInterceptPoints = higherInterceptPoints, lowerInterceptPoints\n",
        "\n",
        "# weighted_avg = getWeightedAveragePoints(x1, y1, x2, y2, 20)\n",
        "# lowerInterceptAveragePoints, higherInterceptAveragePoints = findCorrespondingMaskPoints(weighted_avg, lowerInterceptPoints, higherInterceptPoints, x1, y1, x2, y2, slope, i)"
      ],
      "execution_count": 12,
      "outputs": []
    },
    {
      "cell_type": "code",
      "metadata": {
        "id": "CqWLH5PHNHT5",
        "outputId": "48825157-cd4e-4f1b-9ecf-8aae40521416",
        "colab": {
          "base_uri": "https://localhost:8080/",
          "height": 200
        }
      },
      "source": [
        "image = cv2.imread(path) \n",
        "\n",
        "height = image.shape[0]\n",
        "width = image.shape[1]\n",
        "\n",
        "\n",
        "# for point in weighted_avg:\n",
        "#   cv2.circle(image,(int(point[0]), int(point[1])), 1, (0,255,0), -1)\n",
        "  # if point[0] <50:\n",
        "  #   print(point)\n",
        "\n",
        "print(x1, y1)\n",
        "print(x2, y2)\n",
        "print(weighted_avg)\n",
        "for i in range(len(lowerInterceptAveragePoints)): \n",
        "  # cv2.circle(image,tuple(lowerInterceptAveragePoints[i]), 1, (0,255,0), -1)\n",
        "  cv2.line(image, tuple(lowerInterceptAveragePoints[i]), tuple(higherInterceptAveragePoints[i]), (255,0,0), 1)\n",
        "cv2.line(image, (x1, y1), (x2, y2), (0,0,255), 1)\n",
        "\n",
        "cv2_imshow(image)\n",
        "\n",
        "\n",
        "# print(lowerInterceptAveragePoints)\n",
        "# print(higherInterceptAveragePoints)\n",
        "# print([x1, y1])\n",
        "# print([x2, y2])\n",
        "\n",
        "cv2.waitKey(0)\n",
        "cv2.destroyAllWindows()"
      ],
      "execution_count": 13,
      "outputs": [
        {
          "output_type": "stream",
          "text": [
            "59 24\n",
            "65 85\n",
            "[[59.285714285714285, 26.904761904761905], [59.57142857142857, 29.80952380952381], [59.857142857142854, 32.714285714285715], [60.142857142857146, 35.61904761904762], [60.42857142857143, 38.523809523809526], [60.714285714285715, 41.42857142857143], [61.0, 44.333333333333336], [61.285714285714285, 47.23809523809524], [61.57142857142857, 50.142857142857146], [61.857142857142854, 53.04761904761905], [62.142857142857146, 55.95238095238095], [62.42857142857143, 58.857142857142854], [62.714285714285715, 61.76190476190476], [63.0, 64.66666666666667], [63.285714285714285, 67.57142857142857], [63.57142857142857, 70.47619047619048], [63.857142857142854, 73.38095238095238], [64.14285714285714, 76.28571428571429], [64.42857142857143, 79.19047619047619], [64.71428571428571, 82.0952380952381]]\n"
          ],
          "name": "stdout"
        },
        {
          "output_type": "display_data",
          "data": {
            "image/png": "[encoded data removed]",
            "text/plain": [
              "<PIL.Image.Image image mode=RGB size=112x112 at 0x7FB80B16C4A8>"
            ]
          },
          "metadata": {
            "tags": []
          }
        }
      ]
    },
    {
      "cell_type": "markdown",
      "metadata": {
        "id": "p95B-xh3cdJb"
      },
      "source": [
        "# Method of Disks"
      ]
    },
    {
      "cell_type": "code",
      "metadata": {
        "id": "b2vJeSdDDbDf",
        "outputId": "c622f0eb-1aca-4140-e532-0c5b7dc5c8bb",
        "colab": {
          "base_uri": "https://localhost:8080/",
          "height": 34
        }
      },
      "source": [
        "distance = getDistance([x1, y1], [x2, y2])\n",
        "parallelSeperationDistance = distance/21\n",
        "\n",
        "volume = 0\n",
        "\n",
        "for i in range(len(lowerInterceptAveragePoints)):\n",
        "  diameter = getDistance(lowerInterceptAveragePoints[i], higherInterceptAveragePoints[i])\n",
        "  radius = diameter/2\n",
        "  diskVolume = math.pi * radius**2 * parallelSeperationDistance\n",
        "  volume += diskVolume\n",
        "\n",
        "print(volume)"
      ],
      "execution_count": 14,
      "outputs": [
        {
          "output_type": "stream",
          "text": [
            "48851.132229834264\n"
          ],
          "name": "stdout"
        }
      ]
    },
    {
      "cell_type": "markdown",
      "metadata": {
        "id": "P88Fd5CfaE2q"
      },
      "source": [
        "# Prolate Ellipsoid Model (Single Ellipsoid Method)"
      ]
    },
    {
      "cell_type": "code",
      "metadata": {
        "id": "ywdPFF4oaUbJ",
        "outputId": "4a117c33-a54c-490e-9872-a6c323f3be5c",
        "colab": {
          "base_uri": "https://localhost:8080/",
          "height": 34
        }
      },
      "source": [
        "long_axis_length = getDistance([x1, y1], [x2, y2])\n",
        "parallelSeperationDistance = distance/21\n",
        "\n",
        "# Manual Area Calc\n",
        "area = 0\n",
        "\n",
        "for i in range(len(lowerInterceptAveragePoints)):\n",
        "  length = getDistance(lowerInterceptAveragePoints[i], higherInterceptAveragePoints[i])\n",
        "  diskArea = length * parallelSeperationDistance\n",
        "  area += diskArea\n",
        "\n",
        "volume = 0.85 * area * long_axis_length\n",
        "\n",
        "print(volume)"
      ],
      "execution_count": 15,
      "outputs": [
        {
          "output_type": "stream",
          "text": [
            "96135.59838416407\n"
          ],
          "name": "stdout"
        }
      ]
    },
    {
      "cell_type": "markdown",
      "metadata": {
        "id": "ic0RMEAWgNPE"
      },
      "source": [
        "# Prolate Ellipsoid Model (Biplane Area Length)"
      ]
    },
    {
      "cell_type": "code",
      "metadata": {
        "id": "47DUD_2BiBkz",
        "outputId": "802f915e-84ef-410f-e1e3-f29fceabe1f1",
        "colab": {
          "base_uri": "https://localhost:8080/",
          "height": 34
        }
      },
      "source": [
        "# Long axis Length\n",
        "long_axis_length = getDistance([x1, y1], [x2, y2])\n",
        "\n",
        "# Storing all perp lens\n",
        "lengthArr = []\n",
        "\n",
        "for i in range(len(lowerInterceptAveragePoints)):\n",
        "  length = getDistance(lowerInterceptAveragePoints[i], higherInterceptAveragePoints[i])\n",
        "  lengthArr.append(length)\n",
        "\n",
        "# 3 diff heuristics\n",
        "averageLength = sum(lengthArr)/len(lengthArr)\n",
        "maxLength = max(lengthArr)\n",
        "midLength = lengthArr[len(lengthArr)//2]\n",
        "\n",
        "# Volume Calc\n",
        "volume = math.pi/6 * midLength**2 * long_axis_length\n",
        "\n",
        "print(volume)"
      ],
      "execution_count": 16,
      "outputs": [
        {
          "output_type": "stream",
          "text": [
            "41882.223643316356\n"
          ],
          "name": "stdout"
        }
      ]
    },
    {
      "cell_type": "markdown",
      "metadata": {
        "id": "ggihUplhmqGW"
      },
      "source": [
        "# Bullet Method\n"
      ]
    },
    {
      "cell_type": "code",
      "metadata": {
        "id": "jGp5CslBoBix",
        "outputId": "cd0a59b2-5f0b-4c40-b148-d988b51ff1f1",
        "colab": {
          "base_uri": "https://localhost:8080/",
          "height": 34
        }
      },
      "source": [
        "# Long axis Length\n",
        "long_axis_length = getDistance([x1, y1], [x2, y2])\n",
        "\n",
        "# Mid Values\n",
        "midIndex = len(lengthArr)//2\n",
        "midLength = getDistance(lowerInterceptAveragePoints[midIndex], higherInterceptAveragePoints[midIndex])\n",
        "\n",
        "area = math.pi * (midLength/2)**2 \n",
        "\n",
        "# Volume Calc\n",
        "volume = 5/6 * area * long_axis_length\n",
        "\n",
        "print(volume)"
      ],
      "execution_count": 17,
      "outputs": [
        {
          "output_type": "stream",
          "text": [
            "52352.779554145454\n"
          ],
          "name": "stdout"
        }
      ]
    },
    {
      "cell_type": "markdown",
      "metadata": {
        "id": "P0EE97ftjXzZ"
      },
      "source": [
        "# Will become local file\n"
      ]
    },
    {
      "cell_type": "code",
      "metadata": {
        "id": "qCNVzuPxwodU",
        "outputId": "6850a76d-a2fa-42e7-df56-5b433b1ad84f",
        "colab": {
          "base_uri": "https://localhost:8080/",
          "height": 54
        }
      },
      "source": [
        "import cv2\n",
        "import numpy as np\n",
        "import math\n",
        "import os\n",
        "\n",
        "# Gets all the contours for certain image\n",
        "def obtainContourPoints(path):\n",
        "  # read image\n",
        "  img = cv2.imread(path)\n",
        "  rgb = cv2.cvtColor(img, cv2.COLOR_BGR2RGB)\n",
        "\n",
        "  # set lower and upper bounds on blue color\n",
        "  lower = (200,200,200)\n",
        "  upper = (255,255,255)\n",
        "\n",
        "  # threshold and invert so hexagon is white on black background\n",
        "  thresh = cv2.inRange(rgb, lower, upper)\n",
        "\n",
        "  # get contours\n",
        "  result = np.zeros_like(thresh)\n",
        "  contours = cv2.findContours(thresh, cv2.RETR_EXTERNAL, cv2.CHAIN_APPROX_NONE)\n",
        "  contours = contours[0] if len(contours) == 2 else contours[1]\n",
        "\n",
        "  # Gets all contour points\n",
        "  points = []\n",
        "  for pt in contours:\n",
        "      for i in pt:\n",
        "        for coord in i:\n",
        "          points.append(coord.tolist())\n",
        "  \n",
        "  # Resets\n",
        "  cv2.waitKey(0)\n",
        "  cv2.destroyAllWindows()\n",
        "\n",
        "  return points\n",
        "\n",
        "def getIdealPointGroup(points):\n",
        "  pointGroups = []\n",
        "  index = 0\n",
        "  subgroup = [points[0]]\n",
        "\n",
        "  for i in range(len(points) - 1):\n",
        "    prevPoint = points[i]\n",
        "    currentPoint = points[i+1]\n",
        "\n",
        "    if (abs(int(prevPoint[0])-int(currentPoint[0])) <= 1) and (abs(int(prevPoint[1])-int(currentPoint[1])) <= 1):\n",
        "      subgroup.append(currentPoint)\n",
        "    else:\n",
        "      pointGroups.append(subgroup[:])\n",
        "      subgroup = [currentPoint]\n",
        "\n",
        "  pointGroups.append(subgroup)\n",
        "\n",
        "  mainPointGroup = []\n",
        "  maxPointGroupSize = 0\n",
        "\n",
        "  for group in pointGroups:\n",
        "    if len(group) > maxPointGroupSize:\n",
        "      maxPointGroup = group\n",
        "      maxPointGroupSize = len(group)\n",
        "\n",
        "  return maxPointGroup\n",
        "\n",
        "# Finds points for main contour line\n",
        "def getTopAndBottomCoords(points):\n",
        "  # Minimum and Maximum Y Coord\n",
        "  maxY = max(points, key = lambda point: point[1])\n",
        "  minY = min(points, key = lambda point: point[1])\n",
        "\n",
        "  # MinY and MaxY With the limits\n",
        "  minYWith5 = minY[1] + 5\n",
        "  maxYWithout5 = maxY[1] - 15\n",
        "\n",
        "  # Creating these arrays\n",
        "  minYWith5Arr = []\n",
        "  maxYWithout5Arr = []\n",
        "\n",
        "  # Finding these points\n",
        "  for point in points:\n",
        "    if point[1] == minYWith5:\n",
        "      minYWith5Arr.append(point)\n",
        "    if point[1] == maxYWithout5:\n",
        "      maxYWithout5Arr.append(point)\n",
        "\n",
        "  # Average X Coordinates\n",
        "  averageTopX = round((minYWith5Arr[0][0] + minYWith5Arr[-1][0])/2)\n",
        "  averageBottomX = round((maxYWithout5Arr[0][0] + maxYWithout5Arr[-1][0])/2)\n",
        "  slope = getSlope([averageTopX, minYWith5], [averageBottomX, maxYWithout5])\n",
        "\n",
        "  averageTopX -= round((minYWith5Arr[-1][0] - minYWith5Arr[0][0])/1.5/slope)\n",
        "  averageBottomX += round((maxYWithout5Arr[-1][0] - maxYWithout5Arr[0][0])/3/slope)\n",
        "\n",
        "\n",
        "  # Creating these arrays\n",
        "  averageTopXArr = []\n",
        "  averageBottomXArr = []\n",
        "\n",
        "  # Finding these points\n",
        "  condition = True\n",
        "  if slope > 0:\n",
        "    while condition and averageTopX <= minYWith5Arr[-1][0] and averageBottomX >= maxYWithout5Arr[0][0]:\n",
        "      for point in points:\n",
        "        if point[0] == averageTopX:\n",
        "          averageTopXArr.append(point)\n",
        "        if point[0] == averageBottomX:\n",
        "          averageBottomXArr.append(point)\n",
        "      if len(averageTopXArr) > 0 and len(averageBottomXArr):\n",
        "        condition = False\n",
        "      if len(averageTopXArr) == 0:\n",
        "        averageTopX += 1\n",
        "      if len(averageBottomXArr) == 0:\n",
        "        averageBottomXArr -= 1\n",
        "  else:\n",
        "    while condition and averageTopX >= minYWith5Arr[0][0] and averageBottomX <= maxYWithout5Arr[-1][0]:\n",
        "      for point in points:\n",
        "        if point[0] == averageTopX:\n",
        "          averageTopXArr.append(point)\n",
        "        if point[0] == averageBottomX:\n",
        "          averageBottomXArr.append(point)\n",
        "      if len(averageTopXArr) > 0 and len(averageBottomXArr):\n",
        "        condition = False\n",
        "      if len(averageTopXArr) == 0:\n",
        "        averageTopX -= 1\n",
        "      if len(averageBottomXArr) == 0:\n",
        "        averageBottomXArr += 1\n",
        "\n",
        "  # Sorting Arrs\n",
        "  averageTopXArr.sort(key=lambda point: point[1])\n",
        "  averageBottomXArr.sort(key=lambda point: point[1])\n",
        "  averageBottomXArr.reverse()\n",
        "\n",
        "\n",
        "  # Finding Min Top and Max Botpp,\n",
        "  TopCoord = averageTopXArr[0]\n",
        "  BottomCoord = averageBottomXArr[0]\n",
        "\n",
        "  x1, y1 = TopCoord\n",
        "  x2, y2 = BottomCoord\n",
        "\n",
        "  return (x1, y1, x2, y2)\n",
        "\n",
        "\n",
        "# Create the 20 equally spaced points\n",
        "def getWeightedAveragePoints(x1, y1, x2, y2, number):\n",
        "  weighted_avg = []\n",
        "\n",
        "  for n in range(1, number+1, 1):\n",
        "    x_perpendicular = (((n*x1)+(number+1-n)*(x2))/(number+1))\n",
        "    y_perpendicular = (((n*y1)+(number+1-n)*(y2))/(number+1))\n",
        "    weighted_avg.append([x_perpendicular, y_perpendicular])\n",
        "\n",
        "  for pair in weighted_avg:\n",
        "    x, y = pair\n",
        "    if x == int(x):\n",
        "      pair[0] += 0.0001\n",
        "    if y == int(y):\n",
        "      pair[1] += 0.0001\n",
        "\n",
        "  return weighted_avg\n",
        "\n",
        "# Intercept slope\n",
        "def calcExpectedIntercept(x, y, slope):\n",
        "  return slope*x - y\n",
        "\n",
        "def splitPoints(x1, y1, x2, y2, slope, points):\n",
        "  p1Index = points.index([x1, y1])\n",
        "  p2Index = points.index([x2, y2])\n",
        "\n",
        "  lowerIndex = min(p1Index, p2Index)\n",
        "  higherIndex = max(p1Index, p2Index)\n",
        "\n",
        "  higherIntercept = points[lowerIndex:higherIndex]\n",
        "  lowerIntercept = points[higherIndex:] + points[:lowerIndex]\n",
        "\n",
        "  return (lowerIntercept, higherIntercept)\n",
        "\n",
        "# Distance Between 2 Pointss\n",
        "def getDistance(point1, point2):\n",
        "  return math.sqrt((point1[0]-point2[0])**2 + (point1[1]-point2[1])**2)\n",
        "\n",
        "# Slope between points \n",
        "def getSlope(point1, point2):\n",
        "  if ((point1[0] == point2[0])):\n",
        "    return -333\n",
        "  return (point1[1] - point2[1])/(point1[0] - point2[0])\n",
        "\n",
        "# Change to Method of Disks\n",
        "def volumeMethodOfDisks(x1, y1, x2, y2, number, lowerInterceptAveragePoints, higherInterceptAveragePoints):\n",
        "  # Long axis length and perp initialzation\n",
        "  distance = getDistance([x1, y1], [x2, y2])\n",
        "  parallelSeperationDistance = distance/(number + 1)\n",
        "\n",
        "  # Simpson Volume Methods\n",
        "  volume = 0\n",
        "\n",
        "  for i in range(len(lowerInterceptAveragePoints)):\n",
        "    diameter = getDistance(lowerInterceptAveragePoints[i], higherInterceptAveragePoints[i])\n",
        "    radius = diameter/2\n",
        "    diskVolume = math.pi * radius**2 * parallelSeperationDistance\n",
        "    volume += diskVolume\n",
        "\n",
        "  return volume\n",
        "\n",
        "# Prolate Ellipsoid Method\n",
        "def volumeProlateEllipsoidMethod(x1, y1, x2, y2, lowerInterceptAveragePoints, higherInterceptAveragePoints):\n",
        "  long_axis_length = getDistance([x1, y1], [x2, y2])\n",
        "  parallelSeperationDistance = long_axis_length/21\n",
        "\n",
        "  # Manual Area Calc\n",
        "  area = 0\n",
        "\n",
        "  for i in range(len(lowerInterceptAveragePoints)):\n",
        "    length = getDistance(lowerInterceptAveragePoints[i], higherInterceptAveragePoints[i])\n",
        "    diskArea = length * parallelSeperationDistance\n",
        "    area += diskArea\n",
        "\n",
        "  volume = 0.85 * area * long_axis_length\n",
        "\n",
        "  return volume\n",
        "\n",
        "# Bullet Method Calculation\n",
        "def volumeBulletMethod(x1, y1, x2, y2, lowerInterceptAveragePoints, higherInterceptAveragePoints):\n",
        "  # Long axis Length\n",
        "  long_axis_length = getDistance([x1, y1], [x2, y2])\n",
        "\n",
        "  # Storing all perp lens\n",
        "  lengthArr = []\n",
        "\n",
        "  for i in range(len(lowerInterceptAveragePoints)):\n",
        "    length = getDistance(lowerInterceptAveragePoints[i], higherInterceptAveragePoints[i])\n",
        "    lengthArr.append(length)\n",
        "\n",
        "  midIndex = len(lengthArr)//2\n",
        "  midLength = getDistance(lowerInterceptAveragePoints[midIndex], higherInterceptAveragePoints[midIndex])\n",
        "\n",
        "  area = math.pi * (midLength/2)**2 \n",
        "\n",
        "  # Volume Calc\n",
        "  volume = 5/6 * area * long_axis_length\n",
        "\n",
        "  return volume\n",
        "\n",
        "\n",
        "\n",
        "def findCorrespondingMaskPoints(weighted_avg, lowerIntercept, higherIntercept, x1, y1, x2, y2, slope, i):\n",
        "  # Calculate perpendicular slope\n",
        "  try:\n",
        "    perp_slope = -1/slope\n",
        "  except:\n",
        "    perp_slope = 10000\n",
        "\n",
        "  # Indexing\n",
        "  lowerIndex = 0\n",
        "  higherIndex = 0\n",
        "\n",
        "  # Make sure its from top to bottom direction\n",
        "  if (weighted_avg[-1][0] + weighted_avg[-1][1]) < (weighted_avg[0][0] + weighted_avg[0][1]):\n",
        "    weighted_avg = weighted_avg[::-1]\n",
        "\n",
        "  # Make sure its from top to bottom direction\n",
        "  if getDistance(weighted_avg[0], higherIntercept[0]) > getDistance(weighted_avg[0], higherIntercept[-1]):\n",
        "      higherIntercept = higherIntercept[::-1]\n",
        "\n",
        "  # Make sure its from top to bottom direction\n",
        "  if getDistance(weighted_avg[0], lowerIntercept[0]) > getDistance(weighted_avg[0], lowerIntercept[-1]):\n",
        "      lowerIntercept = lowerIntercept[::-1]\n",
        "\n",
        "  higherInterceptAveragePoints = []\n",
        "  lowerInterceptAveragePoints = []\n",
        "\n",
        "  for averagePoint in weighted_avg:\n",
        "    try:\n",
        "      condition = True\n",
        "      count = 0\n",
        "      while condition:\n",
        "        point = higherIntercept[higherIndex]\n",
        "        if higherIndex == 0:\n",
        "          prev_point =  [x1, y1] if getDistance(point, [x1, y1]) < getDistance(point, [x2, y2]) else [x2, y2]\n",
        "          start_point = prev_point[:]\n",
        "        else:\n",
        "          prev_point = higherIntercept[higherIndex-1]\n",
        "        \n",
        "        new_slope = getSlope(point, averagePoint)\n",
        "        prev_slope =  getSlope(prev_point, averagePoint)\n",
        "        betweenCond = ((point[0] < averagePoint[0] and prev_point[0] > averagePoint[0]) or (point[0] > averagePoint[0] and prev_point[0] < averagePoint[0])) and abs(new_slope) > abs(slope) and abs(prev_slope) > abs(slope)\n",
        "        slopeCond = (new_slope >= perp_slope and prev_slope<=perp_slope) or  (new_slope <= perp_slope and prev_slope>=perp_slope)\n",
        "\n",
        "        if slopeCond and not betweenCond:\n",
        "          higherInterceptAveragePoints.append(point)\n",
        "          condition = False\n",
        "        elif abs(perp_slope) >= 10 and ((new_slope > 0 and prev_slope < 0) or (new_slope < 0 and prev_slope > 0)):\n",
        "          higherInterceptAveragePoints.append(point)\n",
        "          condition = False\n",
        "        elif count > len(higherIntercept)/2:\n",
        "          higherIndex -= count\n",
        "          if higherIndex == 0:\n",
        "            higherInterceptAveragePoints.append(start_point)\n",
        "          else:\n",
        "            higherInterceptAveragePoints.append(higherIntercept[higherIndex])\n",
        "          condition = False\n",
        "        \n",
        "        count += 1\n",
        "        higherIndex += 1\n",
        "    except:\n",
        "      higherInterceptAveragePoints.append(higherIntercept[higherIndex - 1])\n",
        "\n",
        "  for averagePoint in weighted_avg:\n",
        "    try:\n",
        "      condition = True\n",
        "      count = 0\n",
        "      while condition:\n",
        "        point = lowerIntercept[lowerIndex]\n",
        "        if lowerIndex == 0:\n",
        "          prev_point = [x1, y1] if getDistance(point, [x1, y1]) < getDistance(point, [x2, y2]) else [x2, y2]\n",
        "          start_point = prev_point[:]\n",
        "        else:\n",
        "          prev_point = lowerIntercept[lowerIndex-1]\n",
        "\n",
        "        new_slope = getSlope(point, averagePoint)\n",
        "        prev_slope =  getSlope(prev_point, averagePoint)\n",
        "        betweenCond = ((point[0] < averagePoint[0] and prev_point[0] > averagePoint[0]) or (point[0] > averagePoint[0] and prev_point[0] < averagePoint[0])) and abs(new_slope) > abs(slope) and abs(prev_slope) > abs(slope)\n",
        "        slopeCond = (new_slope >= perp_slope and prev_slope<=perp_slope) or  (new_slope <= perp_slope and prev_slope>=perp_slope)\n",
        "\n",
        "        if slopeCond and not betweenCond:\n",
        "          lowerInterceptAveragePoints.append(point)\n",
        "          condition = False\n",
        "        elif abs(perp_slope) > 10 and ((new_slope > 0 and prev_slope < 0) or (new_slope < 0 and prev_slope > 0)):\n",
        "          lowerInterceptAveragePoints.append(point)\n",
        "          condition = False\n",
        "        elif count > len(lowerIntercept)/2:\n",
        "          lowerIndex -= count\n",
        "          if lowerIndex == 0:\n",
        "            lowerInterceptAveragePoints.append(start_point)\n",
        "          else:\n",
        "            lowerInterceptAveragePoints.append(lowerIntercept[lowerIndex])\n",
        "          condition = False\n",
        "        \n",
        "        count += 1\n",
        "        lowerIndex += 1\n",
        "    except:\n",
        "      lowerInterceptAveragePoints.append(lowerIntercept[lowerIndex - 1])\n",
        "  return (lowerInterceptAveragePoints, higherInterceptAveragePoints)\n",
        "\n",
        "\n",
        "def calculateVolume(path, number, method = \"Method of Disks\"):\n",
        "  points = getIdealPointGroup(obtainContourPoints(path))\n",
        "\n",
        "  x1, y1, x2, y2 = getTopAndBottomCoords(points)\n",
        "  if (x1 + y1) > (x2 + y2):\n",
        "    x1, y1, x2, y2 = x2, y2, x1, y1\n",
        "\n",
        "  mainLineSlope = getSlope([x1, y1], [x2, y2])\n",
        "  baseAngle = math.atan(mainLineSlope)\n",
        "\n",
        "  if baseAngle>0:\n",
        "      baseAngle -= math.pi\n",
        "  lowerIntercept, higherIntercept = splitPoints(x1, y1, x2, y2, mainLineSlope, points)\n",
        "\n",
        "  if (higherIntercept[0][0] + higherIntercept[0][1]) > (lowerIntercept[0][0] + lowerIntercept[0][1]):\n",
        "    lowerIntercept, higherIntercept = higherIntercept, lowerIntercept\n",
        "\n",
        "  volumes = {}\n",
        "  x1s = {}\n",
        "  y1s = {}\n",
        "  x2s = {}\n",
        "  y2s = {}\n",
        "  degrees = {}\n",
        "\n",
        "  # Volumes for all 0 to 5 cases\n",
        "  for i in range(-30, 31, 1):\n",
        "    x1, y1 = lowerIntercept[i]\n",
        "    x2, y2 = higherIntercept[i]\n",
        "\n",
        "\n",
        "    slope = getSlope([x1, y1], [x2, y2])\n",
        "    angle = math.atan(slope)\n",
        "\n",
        "    if angle>0:\n",
        "      angle -= math.pi\n",
        "\n",
        "    degrees[i] = (baseAngle - angle) * 180/math.pi\n",
        "\n",
        "\n",
        "    p1Index = points.index([x1, y1])\n",
        "    p2Index = points.index([x2, y2])\n",
        "\n",
        "    lowerIndex = min(p1Index, p2Index)\n",
        "    higherIndex = max(p1Index, p2Index)\n",
        "\n",
        "    higherInterceptPoints = points[lowerIndex:higherIndex]\n",
        "    lowerInterceptPoints = points[higherIndex:] + points[:lowerIndex]\n",
        "\n",
        "    if (higherInterceptPoints[0][0] + higherInterceptPoints[0][1]) < (lowerInterceptPoints[0][0] + lowerInterceptPoints[0][1]):\n",
        "      lowerInterceptPoints, higherInterceptPoints = higherInterceptPoints, lowerInterceptPoints\n",
        "\n",
        "    weighted_avg = getWeightedAveragePoints(x1, y1, x2, y2, number)\n",
        "    lowerInterceptAveragePoints, higherInterceptAveragePoints = findCorrespondingMaskPoints(weighted_avg, lowerInterceptPoints, higherInterceptPoints, x1, y1, x2, y2, slope, i)\n",
        "    \n",
        "    x1s[i] = [x1] + [point[0] for point in lowerInterceptAveragePoints]\n",
        "    y1s[i] = [y1] + [point[1] for point in lowerInterceptAveragePoints]\n",
        "\n",
        "    x2s[i] = [x2] + [point[0] for point in higherInterceptAveragePoints]\n",
        "    y2s[i] = [y2] + [point[1] for point in higherInterceptAveragePoints]\n",
        "\n",
        "    # if i % 2 == 0 or i % 2 == 1:\n",
        "    #   image = cv2.imread(path) \n",
        "\n",
        "    #   if i==28:\n",
        "    #     print(lowerInterceptAveragePoints)\n",
        "    #     print(higherInterceptAveragePoints)\n",
        "\n",
        "\n",
        "    #   # for point in points:\n",
        "    #   #   cv2.circle(image,tuple(point), 1, (255,255,255), -1)\n",
        "    #   #   if point[0] <50:\n",
        "    #   #     print(point)\n",
        "\n",
        "\n",
        "    #   # for point in weighted_avg: \n",
        "    #   #   cv2.circle(image,tuple((int(point[0]), int(point[1]))), 1, (0,0,0), -1)\n",
        "      \n",
        "    #   for j in range(len(lowerInterceptAveragePoints)): \n",
        "    #     cv2.line(image, tuple(lowerInterceptAveragePoints[j]), tuple(higherInterceptAveragePoints[j]), (255,255,0), 1)\n",
        "\n",
        "\n",
        "    #   cv2.line(image, (x1, y1), (x2, y2), (0,0,0), 1)\n",
        "\n",
        "    #   cv2_imshow(image)\n",
        "    #   cv2.waitKey(0)\n",
        "    #   cv2.destroyAllWindows()\n",
        "\n",
        "    if  method == \"Method of Disks\":\n",
        "      volumes[i] = volumeMethodOfDisks(x1, y1, x2, y2, number, lowerInterceptAveragePoints, higherInterceptAveragePoints)\n",
        "    elif method == \"Prolate Ellipsoid\":\n",
        "      volumes[i] = volumeProlateEllipsoidMethod(x1, y1, x2, y2, lowerInterceptAveragePoints, higherInterceptAveragePoints)\n",
        "    elif method == \"Bullet Method\":\n",
        "      volumes[i] = volumeBulletMethod(x1, y1, x2, y2, lowerInterceptAveragePoints, higherInterceptAveragePoints)\n",
        "    \n",
        "  return (volumes, x1s, y1s, x2s, y2s, degrees)\n",
        "\n",
        "print(calculateVolume(path, 20, method = \"Method of Disks\"))\n",
        "# print(calculateVolume(\"/content/output/image.png\", method = \"Single Ellipsoid\"))\n",
        "# print(calculateVolume(\"/content/output/image.png\", method = \"Biplane Area\"))\n",
        "# print(calculateVolume(\"/content/output/image.png\", method = \"Bullet\"))"
      ],
      "execution_count": 18,
      "outputs": [
        {
          "output_type": "stream",
          "text": [
            "({-30: 64166.81913849387, -29: 61392.46769916962, -28: 60406.69588321302, -27: 59336.65576179101, -26: 57188.688594102096, -25: 56308.675226510735, -24: 55067.931357340116, -23: 54646.85046343874, -22: 52481.707134721786, -21: 52801.45501882419, -20: 51848.96747156379, -19: 50811.05590920368, -18: 50563.076526503224, -17: 49852.63354574261, -16: 49301.075216649326, -15: 49669.16750242354, -14: 48428.92673164015, -13: 48743.161181818796, -12: 47728.600482674694, -11: 48130.32420991989, -10: 47717.129124084335, -9: 47894.86863358831, -8: 47911.321865967104, -7: 47673.28608439452, -6: 47828.00198888734, -5: 49173.618025928736, -4: 48733.93497206966, -3: 48237.883598844826, -2: 49290.90842408544, -1: 49141.60990558453, 0: 48851.132229834264, 1: 49502.2219255297, 2: 49612.23853402788, 3: 49334.073243582716, 4: 49718.427632013074, 5: 50026.87854337541, 6: 50275.59732763189, 7: 50002.127834790255, 8: 50272.93517322582, 9: 50518.966914865596, 10: 50736.1569946586, 11: 50847.837540320455, 12: 51368.188650454875, 13: 51812.03018846716, 14: 51522.978690823984, 15: 51823.50336964837, 16: 52189.94987214662, 17: 52554.42703677373, 18: 52676.22920731457, 19: 53297.64198177202, 20: 54085.35137478145, 21: 54372.47443767448, 22: 54910.100493806334, 23: 56008.347239698436, 24: 56746.88164267034, 25: 57624.00654224788, 26: 58152.09006355107, 27: 59534.31938323364, 28: 60550.77372275189, 29: 62445.08346166338, 30: 65041.04000987383}, {-30: [80, 55, 57, 60, 62, 64, 67, 69, 71, 73, 75, 77, 80, 81, 82, 83, 83, 83, 83, 82, 82], -29: [79, 55, 58, 60, 63, 65, 67, 69, 72, 74, 76, 78, 81, 82, 83, 83, 83, 83, 83, 82, 82], -28: [79, 55, 58, 61, 63, 65, 68, 70, 72, 75, 77, 79, 81, 82, 83, 83, 83, 83, 83, 82, 81], -27: [79, 55, 58, 61, 63, 66, 68, 71, 73, 76, 78, 81, 82, 83, 83, 83, 83, 83, 82, 82, 80], -26: [78, 55, 58, 61, 63, 66, 68, 72, 74, 77, 79, 81, 82, 83, 83, 83, 83, 83, 82, 82, 80], -25: [78, 44, 45, 45, 45, 45, 45, 45, 46, 46, 47, 47, 48, 48, 49, 49, 50, 52, 53, 54, 55], -24: [78, 54, 53, 52, 51, 49, 49, 48, 48, 47, 47, 46, 46, 46, 45, 45, 45, 45, 45, 44, 44], -23: [78, 54, 53, 52, 50, 49, 49, 48, 48, 47, 47, 46, 46, 45, 45, 45, 45, 45, 45, 44, 44], -22: [77, 53, 52, 51, 50, 49, 48, 48, 47, 47, 47, 46, 46, 45, 45, 45, 45, 45, 45, 44, 44], -21: [77, 53, 52, 51, 49, 49, 48, 48, 47, 47, 47, 46, 46, 45, 45, 45, 45, 45, 44, 44, 44], -20: [76, 53, 52, 51, 49, 49, 48, 48, 47, 47, 46, 46, 45, 45, 45, 45, 45, 45, 44, 44, 45], -19: [75, 52, 51, 50, 49, 48, 48, 47, 47, 47, 46, 46, 45, 45, 45, 45, 45, 45, 44, 44, 45], -18: [75, 52, 51, 50, 49, 48, 48, 47, 47, 47, 46, 46, 45, 45, 45, 45, 45, 45, 44, 44, 45], -17: [74, 52, 51, 49, 49, 48, 48, 47, 47, 47, 46, 46, 45, 45, 45, 45, 45, 45, 44, 44, 45], -16: [73, 52, 51, 49, 49, 48, 48, 47, 47, 47, 46, 46, 45, 45, 45, 45, 45, 45, 44, 44, 45], -15: [73, 52, 51, 49, 49, 48, 48, 47, 47, 47, 46, 46, 45, 45, 45, 45, 45, 45, 44, 44, 45], -14: [72, 52, 51, 49, 49, 48, 48, 47, 47, 47, 46, 46, 45, 45, 45, 45, 45, 45, 44, 44, 45], -13: [71, 52, 51, 49, 49, 48, 48, 47, 47, 46, 46, 46, 45, 45, 45, 45, 45, 45, 44, 44, 45], -12: [71, 70, 51, 49, 49, 48, 48, 47, 47, 47, 46, 46, 45, 45, 45, 45, 45, 45, 44, 44, 45], -11: [70, 52, 51, 49, 49, 48, 48, 47, 47, 47, 46, 46, 45, 45, 45, 45, 45, 45, 44, 44, 45], -10: [69, 68, 51, 49, 49, 48, 48, 47, 47, 46, 46, 46, 45, 45, 45, 45, 45, 45, 44, 44, 45], -9: [68, 52, 51, 49, 49, 48, 48, 47, 47, 46, 46, 46, 45, 45, 45, 45, 45, 45, 44, 44, 45], -8: [67, 66, 51, 49, 49, 48, 48, 47, 47, 46, 46, 46, 45, 45, 45, 45, 45, 45, 44, 44, 45], -7: [66, 65, 51, 49, 49, 48, 48, 47, 47, 46, 46, 46, 45, 45, 45, 45, 45, 45, 44, 44, 45], -6: [65, 64, 51, 49, 49, 48, 48, 47, 47, 46, 46, 46, 45, 45, 45, 45, 45, 44, 44, 44, 45], -5: [64, 63, 51, 50, 49, 48, 48, 47, 47, 46, 46, 46, 45, 45, 45, 45, 45, 44, 44, 44, 45], -4: [63, 62, 52, 50, 49, 48, 48, 47, 47, 46, 46, 46, 45, 45, 45, 45, 45, 44, 44, 44, 45], -3: [62, 53, 52, 50, 49, 48, 48, 47, 47, 46, 46, 45, 45, 45, 45, 45, 45, 44, 44, 45, 45], -2: [61, 53, 51, 49, 49, 48, 48, 47, 47, 46, 46, 45, 45, 45, 45, 45, 45, 44, 44, 44, 45], -1: [60, 53, 51, 49, 49, 48, 48, 47, 47, 46, 46, 45, 45, 45, 45, 45, 45, 44, 44, 45, 45], 0: [65, 53, 51, 49, 49, 48, 48, 47, 47, 46, 46, 45, 45, 45, 45, 45, 45, 44, 44, 45, 46], 1: [66, 53, 51, 49, 49, 48, 47, 47, 47, 46, 46, 45, 45, 45, 45, 45, 45, 44, 44, 45, 46], 2: [67, 53, 51, 49, 48, 48, 47, 47, 47, 46, 46, 45, 45, 45, 45, 45, 44, 44, 44, 45, 47], 3: [68, 53, 51, 49, 48, 48, 47, 47, 47, 46, 46, 45, 45, 45, 45, 45, 44, 44, 44, 45, 47], 4: [69, 52, 51, 49, 48, 48, 47, 47, 46, 46, 45, 45, 45, 45, 45, 45, 44, 44, 45, 45, 49], 5: [70, 52, 49, 49, 48, 48, 47, 47, 46, 46, 45, 45, 45, 45, 45, 44, 44, 44, 45, 46, 52], 6: [71, 51, 49, 48, 48, 47, 47, 47, 46, 45, 45, 45, 45, 45, 45, 44, 44, 45, 45, 47, 56], 7: [72, 51, 49, 48, 48, 47, 47, 46, 46, 45, 45, 45, 45, 45, 45, 44, 44, 45, 45, 47, 55], 8: [73, 50, 49, 48, 48, 47, 47, 46, 46, 45, 45, 45, 45, 45, 44, 44, 44, 45, 46, 51, 58], 9: [74, 49, 48, 48, 47, 47, 47, 46, 45, 45, 45, 45, 45, 45, 44, 44, 45, 45, 47, 53, 60], 10: [75, 49, 48, 48, 47, 47, 46, 46, 45, 45, 45, 45, 45, 45, 44, 44, 45, 46, 49, 56, 62], 11: [76, 49, 48, 48, 47, 47, 46, 46, 45, 45, 45, 45, 45, 44, 44, 45, 45, 47, 52, 58, 66], 12: [77, 49, 48, 47, 47, 47, 46, 45, 45, 45, 45, 45, 45, 44, 44, 45, 46, 48, 54, 59, 67], 13: [78, 48, 48, 47, 47, 46, 46, 45, 45, 45, 45, 45, 44, 44, 45, 45, 47, 51, 56, 62, 70], 14: [79, 48, 48, 47, 47, 46, 46, 45, 45, 45, 45, 45, 44, 44, 45, 46, 49, 53, 58, 65, 71], 15: [80, 48, 47, 47, 46, 46, 45, 45, 45, 45, 45, 44, 44, 45, 45, 47, 51, 56, 60, 67, 74], 16: [81, 48, 47, 47, 46, 46, 45, 45, 45, 45, 45, 44, 44, 45, 46, 48, 53, 57, 61, 67, 74], 17: [81, 48, 47, 47, 46, 46, 45, 45, 45, 45, 45, 44, 44, 45, 46, 49, 53, 57, 62, 67, 74], 18: [82, 48, 47, 47, 46, 45, 45, 45, 45, 45, 44, 44, 45, 46, 47, 51, 55, 59, 64, 69, 74], 19: [82, 47, 47, 46, 46, 45, 45, 45, 45, 45, 44, 44, 45, 46, 48, 52, 55, 59, 64, 67, 73], 20: [83, 47, 47, 46, 45, 45, 45, 45, 45, 44, 44, 45, 45, 47, 50, 54, 57, 61, 65, 69, 74], 21: [83, 47, 47, 46, 45, 45, 45, 45, 45, 44, 44, 45, 46, 48, 51, 54, 58, 61, 65, 69, 73], 22: [83, 47, 46, 46, 45, 45, 45, 45, 44, 44, 45, 45, 47, 49, 52, 55, 58, 61, 65, 69, 73], 23: [83, 47, 46, 46, 45, 45, 45, 45, 44, 44, 45, 46, 47, 50, 53, 56, 59, 62, 66, 69, 73], 24: [83, 47, 46, 45, 45, 45, 45, 45, 44, 45, 45, 47, 49, 51, 54, 57, 60, 62, 66, 69, 73], 25: [83, 47, 46, 45, 45, 45, 45, 44, 44, 45, 46, 47, 50, 53, 55, 58, 60, 64, 66, 70, 73], 26: [83, 46, 46, 45, 45, 45, 45, 44, 45, 45, 47, 49, 51, 54, 56, 59, 61, 64, 67, 70, 73], 27: [83, 46, 45, 45, 45, 45, 44, 44, 45, 46, 48, 50, 53, 55, 57, 60, 62, 65, 67, 70, 73], 28: [83, 46, 45, 45, 45, 45, 44, 45, 46, 47, 49, 52, 54, 56, 58, 61, 63, 66, 68, 71, 73], 29: [83, 45, 45, 45, 45, 44, 45, 46, 47, 49, 51, 53, 55, 57, 60, 62, 64, 66, 69, 71, 74], 30: [83, 46, 45, 45, 45, 44, 45, 46, 48, 50, 52, 54, 56, 59, 61, 63, 65, 67, 70, 72, 74]}, {-30: [50, 86, 86, 86, 86, 85, 85, 84, 84, 83, 83, 82, 82, 81, 78, 76, 73, 69, 65, 60, 56], -29: [49, 86, 86, 86, 85, 85, 85, 84, 83, 83, 83, 82, 81, 79, 77, 75, 71, 68, 64, 60, 56], -28: [48, 86, 86, 86, 85, 85, 84, 84, 83, 83, 82, 82, 81, 79, 76, 73, 70, 66, 63, 58, 53], -27: [47, 86, 86, 86, 85, 85, 84, 84, 83, 83, 82, 81, 79, 77, 75, 71, 68, 65, 60, 57, 51], -26: [46, 86, 86, 86, 85, 85, 84, 83, 83, 82, 82, 81, 79, 77, 74, 70, 67, 64, 59, 56, 51], -25: [45, 75, 73, 70, 67, 63, 60, 57, 55, 51, 49, 46, 43, 40, 37, 35, 33, 30, 28, 26, 25], -24: [44, 26, 27, 30, 32, 34, 37, 39, 42, 44, 48, 51, 53, 56, 59, 62, 65, 68, 72, 74, 77], -23: [43, 26, 28, 30, 33, 34, 37, 40, 43, 45, 48, 51, 54, 57, 59, 62, 66, 69, 72, 74, 77], -22: [42, 27, 29, 31, 33, 36, 38, 41, 44, 47, 50, 52, 55, 58, 61, 64, 67, 70, 73, 75, 79], -21: [41, 27, 29, 31, 34, 36, 38, 42, 44, 47, 50, 53, 56, 58, 61, 65, 68, 71, 74, 76, 80], -20: [40, 27, 30, 32, 34, 37, 40, 43, 45, 48, 51, 54, 57, 59, 63, 66, 69, 72, 74, 78, 81], -19: [39, 29, 31, 33, 35, 38, 41, 44, 46, 49, 52, 55, 57, 60, 63, 67, 70, 73, 75, 78, 82], -18: [38, 29, 31, 33, 36, 38, 41, 44, 47, 50, 52, 55, 58, 61, 64, 67, 70, 73, 76, 79, 82], -17: [37, 29, 31, 34, 36, 39, 42, 44, 47, 50, 53, 56, 58, 61, 64, 67, 70, 73, 75, 78, 82], -16: [36, 29, 32, 34, 37, 39, 42, 45, 47, 50, 53, 56, 58, 61, 64, 67, 70, 73, 75, 78, 82], -15: [35, 29, 31, 34, 36, 39, 42, 44, 47, 50, 53, 55, 58, 61, 64, 67, 70, 73, 75, 78, 81], -14: [34, 29, 32, 34, 37, 39, 42, 45, 47, 50, 53, 56, 58, 61, 64, 67, 70, 73, 75, 78, 81], -13: [33, 30, 32, 34, 37, 39, 42, 45, 48, 51, 53, 56, 58, 61, 64, 67, 70, 73, 75, 78, 81], -12: [32, 31, 32, 34, 37, 39, 42, 45, 47, 50, 53, 56, 58, 61, 64, 67, 70, 72, 75, 78, 81], -11: [31, 29, 32, 34, 37, 39, 42, 45, 48, 50, 53, 56, 58, 61, 64, 67, 70, 73, 75, 78, 81], -10: [30, 29, 32, 34, 37, 39, 42, 45, 48, 51, 53, 56, 59, 61, 64, 67, 70, 73, 75, 78, 81], -9: [29, 29, 32, 34, 37, 39, 42, 45, 48, 51, 53, 56, 59, 62, 64, 67, 70, 73, 75, 78, 81], -8: [28, 27, 31, 34, 37, 39, 42, 45, 48, 51, 53, 56, 59, 62, 65, 67, 70, 73, 76, 79, 82], -7: [27, 26, 31, 34, 37, 39, 42, 45, 48, 51, 53, 56, 59, 62, 65, 68, 70, 73, 76, 79, 82], -6: [26, 25, 31, 34, 36, 39, 42, 45, 48, 51, 53, 56, 59, 62, 65, 68, 71, 74, 76, 79, 82], -5: [25, 24, 31, 33, 36, 39, 42, 45, 48, 51, 53, 56, 59, 62, 65, 68, 71, 74, 77, 80, 83], -4: [24, 24, 30, 33, 36, 39, 42, 45, 48, 51, 54, 56, 59, 62, 65, 68, 71, 74, 77, 80, 83], -3: [24, 27, 30, 33, 36, 39, 42, 45, 48, 51, 54, 57, 60, 63, 66, 69, 72, 75, 78, 81, 83], -2: [24, 28, 31, 34, 37, 39, 42, 45, 48, 51, 54, 57, 60, 63, 66, 69, 72, 74, 77, 80, 83], -1: [24, 28, 31, 34, 37, 40, 43, 46, 49, 52, 55, 58, 60, 63, 66, 69, 72, 75, 78, 81, 84], 0: [85, 28, 31, 34, 37, 40, 43, 46, 49, 52, 55, 58, 61, 64, 67, 70, 73, 76, 79, 82, 85], 1: [85, 28, 31, 35, 37, 41, 44, 47, 50, 53, 56, 59, 62, 65, 68, 71, 73, 77, 80, 82, 85], 2: [85, 28, 31, 35, 38, 41, 44, 47, 50, 53, 56, 59, 62, 65, 68, 71, 74, 77, 80, 83, 86], 3: [84, 28, 31, 35, 38, 41, 44, 47, 50, 53, 56, 59, 62, 65, 68, 71, 74, 77, 80, 83, 86], 4: [84, 29, 32, 36, 39, 42, 45, 48, 51, 54, 58, 61, 63, 66, 69, 72, 76, 79, 81, 84, 86], 5: [84, 30, 34, 37, 40, 43, 46, 49, 52, 55, 59, 62, 65, 68, 71, 74, 77, 80, 82, 85, 86], 6: [84, 31, 35, 38, 41, 44, 47, 50, 54, 57, 60, 63, 66, 69, 72, 75, 78, 81, 84, 86, 86], 7: [83, 32, 36, 39, 42, 45, 48, 51, 54, 58, 61, 64, 66, 69, 72, 76, 79, 81, 84, 86, 86], 8: [83, 33, 37, 40, 43, 46, 49, 53, 56, 59, 62, 65, 68, 71, 74, 77, 80, 83, 85, 86, 86], 9: [83, 35, 38, 41, 44, 47, 50, 54, 57, 60, 63, 66, 69, 72, 75, 78, 81, 84, 86, 86, 86], 10: [83, 35, 39, 42, 45, 48, 52, 55, 58, 61, 64, 67, 70, 73, 77, 80, 82, 85, 86, 86, 86], 11: [83, 36, 40, 43, 47, 50, 53, 56, 60, 63, 66, 69, 72, 75, 78, 81, 84, 86, 86, 86, 85], 12: [82, 37, 41, 44, 47, 50, 54, 58, 61, 64, 67, 70, 73, 76, 79, 82, 85, 86, 86, 86, 85], 13: [82, 38, 41, 45, 48, 52, 55, 59, 62, 65, 68, 71, 75, 78, 81, 84, 86, 86, 86, 86, 84], 14: [82, 39, 42, 46, 49, 53, 56, 60, 63, 66, 70, 73, 76, 80, 82, 85, 86, 86, 86, 85, 84], 15: [82, 40, 44, 47, 51, 54, 58, 61, 65, 68, 71, 75, 78, 81, 84, 86, 86, 86, 86, 85, 83], 16: [81, 41, 45, 49, 52, 56, 60, 63, 66, 69, 72, 76, 80, 82, 85, 86, 86, 86, 86, 85, 83], 17: [80, 42, 46, 49, 53, 56, 60, 64, 67, 70, 73, 77, 80, 83, 85, 86, 86, 86, 86, 85, 83], 18: [79, 43, 47, 50, 54, 58, 62, 65, 68, 72, 76, 79, 81, 85, 86, 86, 86, 86, 85, 84, 83], 19: [78, 45, 48, 52, 55, 59, 63, 66, 69, 73, 77, 80, 82, 85, 86, 86, 86, 86, 85, 85, 83], 20: [77, 46, 49, 53, 58, 61, 64, 68, 71, 75, 79, 81, 84, 86, 86, 86, 86, 86, 85, 84, 83], 21: [76, 47, 50, 55, 59, 62, 66, 69, 72, 77, 80, 82, 85, 86, 86, 86, 86, 86, 85, 84, 83], 22: [75, 48, 52, 56, 60, 64, 67, 70, 75, 78, 81, 84, 86, 86, 86, 86, 86, 86, 85, 84, 83], 23: [74, 48, 53, 56, 61, 64, 68, 71, 76, 79, 82, 85, 86, 86, 86, 86, 86, 86, 85, 84, 83], 24: [73, 49, 54, 59, 62, 66, 69, 73, 78, 81, 83, 86, 86, 86, 86, 86, 86, 86, 85, 84, 83], 25: [72, 50, 55, 60, 64, 67, 71, 76, 80, 82, 85, 86, 86, 86, 86, 86, 86, 85, 85, 84, 83], 26: [71, 53, 56, 62, 65, 69, 73, 78, 81, 84, 86, 86, 86, 86, 86, 86, 86, 85, 85, 84, 83], 27: [70, 54, 59, 63, 67, 71, 77, 80, 83, 85, 86, 86, 86, 86, 86, 86, 86, 85, 85, 84, 83], 28: [69, 55, 61, 65, 69, 73, 79, 81, 85, 86, 86, 86, 86, 86, 86, 86, 85, 85, 84, 84, 83], 29: [68, 59, 63, 67, 72, 78, 81, 85, 86, 86, 86, 86, 86, 86, 86, 86, 85, 85, 84, 84, 83], 30: [67, 56, 63, 68, 73, 80, 83, 85, 86, 86, 86, 86, 86, 86, 86, 85, 85, 85, 84, 83, 83]}, {-30: [44, 45, 45, 45, 45, 46, 46, 47, 47, 47, 48, 48, 49, 50, 51, 52, 53, 55, 56, 58, 61], -29: [44, 45, 45, 45, 45, 45, 46, 46, 47, 47, 47, 48, 48, 49, 50, 51, 52, 53, 55, 56, 58], -28: [44, 45, 45, 45, 45, 45, 46, 46, 46, 47, 47, 48, 48, 49, 49, 51, 52, 53, 54, 56, 58], -27: [44, 45, 45, 45, 45, 45, 45, 46, 46, 47, 47, 48, 48, 49, 49, 50, 51, 53, 54, 55, 57], -26: [44, 44, 45, 45, 45, 45, 45, 46, 46, 47, 47, 47, 48, 48, 49, 49, 51, 52, 53, 54, 56], -25: [44, 55, 58, 61, 63, 67, 69, 72, 74, 77, 80, 81, 82, 83, 83, 83, 83, 82, 82, 81, 80], -24: [44, 79, 81, 82, 82, 83, 83, 83, 83, 82, 81, 80, 77, 74, 71, 68, 66, 63, 60, 57, 53], -23: [45, 79, 80, 82, 82, 83, 83, 83, 83, 83, 82, 81, 79, 76, 72, 70, 67, 64, 61, 58, 54], -22: [45, 78, 80, 81, 82, 82, 83, 83, 83, 83, 82, 81, 80, 76, 73, 70, 67, 64, 61, 57, 53], -21: [45, 78, 79, 81, 82, 82, 83, 83, 83, 83, 82, 81, 80, 76, 74, 71, 67, 64, 61, 57, 53], -20: [45, 78, 79, 81, 82, 82, 83, 83, 83, 83, 83, 82, 80, 77, 74, 71, 67, 64, 61, 56, 52], -19: [46, 78, 79, 80, 82, 82, 82, 83, 83, 83, 83, 82, 81, 80, 76, 71, 68, 65, 62, 57, 52], -18: [47, 78, 78, 80, 81, 82, 82, 83, 83, 83, 83, 83, 82, 80, 76, 73, 69, 66, 62, 57, 52], -17: [48, 77, 78, 79, 81, 82, 82, 83, 83, 83, 83, 83, 82, 81, 79, 76, 71, 67, 63, 59, 53], -16: [49, 77, 78, 79, 80, 81, 82, 82, 83, 83, 83, 83, 83, 82, 81, 77, 73, 69, 65, 61, 55], -15: [50, 75, 78, 79, 80, 81, 82, 82, 83, 83, 83, 83, 83, 82, 81, 80, 75, 71, 67, 62, 56], -14: [51, 75, 77, 78, 79, 80, 81, 82, 82, 83, 83, 83, 83, 83, 82, 81, 76, 72, 67, 62, 58], -13: [52, 74, 77, 78, 79, 80, 81, 82, 82, 83, 83, 83, 83, 83, 82, 81, 80, 75, 70, 65, 59], -12: [53, 73, 76, 78, 78, 79, 81, 82, 82, 82, 83, 83, 83, 83, 83, 82, 80, 76, 71, 67, 61], -11: [54, 73, 75, 77, 78, 79, 80, 81, 82, 82, 83, 83, 83, 83, 83, 82, 81, 79, 72, 67, 62], -10: [55, 72, 74, 77, 78, 79, 80, 81, 82, 82, 82, 83, 83, 83, 83, 83, 82, 80, 76, 69, 62], -9: [56, 71, 73, 75, 78, 78, 79, 80, 81, 82, 82, 83, 83, 83, 83, 83, 82, 81, 77, 71, 64], -8: [57, 71, 73, 75, 77, 78, 79, 80, 81, 82, 82, 82, 83, 83, 83, 83, 83, 82, 80, 72, 67], -7: [58, 70, 72, 74, 76, 78, 78, 79, 80, 81, 82, 82, 83, 83, 83, 83, 83, 82, 81, 76, 67], -6: [59, 69, 71, 73, 75, 77, 78, 79, 80, 81, 82, 82, 83, 83, 83, 83, 83, 83, 81, 76, 67], -5: [60, 68, 71, 73, 75, 77, 78, 79, 80, 81, 82, 82, 82, 83, 83, 83, 83, 83, 82, 80, 71], -4: [61, 67, 70, 72, 74, 76, 78, 78, 79, 80, 81, 82, 82, 83, 83, 83, 83, 83, 82, 81, 71], -3: [62, 63, 69, 71, 73, 75, 77, 78, 79, 80, 81, 82, 82, 83, 83, 83, 83, 83, 82, 81, 71], -2: [63, 62, 69, 71, 73, 75, 77, 78, 79, 80, 81, 82, 82, 82, 83, 83, 83, 83, 83, 82, 80], -1: [64, 61, 69, 71, 73, 75, 77, 78, 79, 80, 80, 81, 82, 82, 83, 83, 83, 83, 83, 82, 81], 0: [59, 60, 68, 71, 73, 75, 76, 78, 78, 79, 80, 81, 82, 82, 83, 83, 83, 83, 83, 82, 81], 1: [58, 59, 68, 71, 72, 74, 76, 78, 78, 79, 80, 81, 82, 82, 83, 83, 83, 83, 83, 83, 81], 2: [57, 58, 68, 70, 72, 74, 75, 77, 78, 79, 80, 81, 82, 82, 82, 83, 83, 83, 83, 83, 81], 3: [56, 65, 67, 70, 71, 73, 75, 77, 78, 79, 80, 80, 81, 82, 82, 83, 83, 83, 83, 83, 82], 4: [55, 65, 68, 70, 72, 73, 75, 77, 78, 79, 79, 80, 81, 82, 82, 83, 83, 83, 83, 83, 82], 5: [54, 65, 68, 70, 72, 73, 75, 77, 78, 79, 79, 80, 81, 82, 82, 83, 83, 83, 83, 83, 82], 6: [53, 66, 68, 70, 72, 73, 75, 77, 78, 78, 79, 80, 81, 82, 82, 83, 83, 83, 83, 83, 82], 7: [53, 66, 68, 70, 72, 73, 75, 77, 78, 78, 79, 80, 81, 82, 82, 82, 83, 83, 83, 83, 83], 8: [52, 66, 68, 70, 72, 73, 75, 77, 78, 78, 79, 80, 81, 82, 82, 82, 83, 83, 83, 83, 83], 9: [52, 67, 69, 71, 72, 74, 75, 77, 78, 78, 79, 80, 81, 82, 82, 82, 83, 83, 83, 83, 83], 10: [51, 67, 69, 71, 72, 73, 75, 77, 78, 78, 79, 80, 81, 82, 82, 82, 83, 83, 83, 83, 83], 11: [51, 67, 69, 71, 72, 74, 75, 77, 78, 78, 79, 80, 81, 82, 82, 82, 83, 83, 83, 83, 83], 12: [50, 67, 69, 71, 72, 73, 75, 76, 78, 78, 79, 80, 81, 82, 82, 82, 83, 83, 83, 83, 83], 13: [49, 66, 68, 70, 72, 73, 75, 76, 78, 78, 79, 80, 81, 82, 82, 82, 83, 83, 83, 83, 83], 14: [49, 67, 69, 71, 72, 73, 75, 76, 78, 78, 79, 80, 81, 82, 82, 82, 83, 83, 83, 83, 83], 15: [49, 67, 69, 71, 72, 73, 75, 77, 78, 78, 79, 80, 81, 82, 82, 82, 83, 83, 83, 83, 83], 16: [49, 67, 69, 71, 72, 73, 75, 76, 78, 78, 79, 80, 81, 82, 82, 82, 83, 83, 83, 83, 83], 17: [48, 67, 68, 70, 71, 73, 74, 76, 77, 78, 79, 80, 80, 81, 82, 82, 83, 83, 83, 83, 83], 18: [48, 66, 68, 70, 71, 73, 74, 76, 77, 78, 79, 79, 80, 81, 82, 82, 83, 83, 83, 83, 83], 19: [48, 67, 68, 70, 71, 73, 74, 75, 77, 78, 78, 79, 80, 81, 82, 82, 82, 83, 83, 83, 83], 20: [48, 66, 68, 70, 71, 73, 74, 75, 77, 78, 78, 79, 80, 81, 82, 82, 82, 83, 83, 83, 83], 21: [48, 66, 68, 70, 71, 72, 74, 75, 76, 78, 78, 79, 80, 81, 81, 82, 82, 83, 83, 83, 83], 22: [48, 66, 68, 70, 71, 72, 73, 75, 76, 77, 78, 79, 80, 80, 81, 82, 82, 83, 83, 83, 83], 23: [47, 65, 67, 69, 70, 71, 73, 74, 75, 77, 78, 78, 79, 80, 81, 82, 82, 82, 83, 83, 83], 24: [47, 65, 67, 68, 70, 71, 73, 74, 75, 76, 77, 78, 79, 80, 81, 81, 82, 82, 83, 83, 83], 25: [47, 65, 66, 68, 69, 71, 72, 73, 75, 76, 77, 78, 79, 79, 80, 81, 82, 82, 83, 83, 83], 26: [47, 65, 66, 68, 69, 71, 72, 73, 74, 75, 77, 78, 78, 79, 80, 81, 82, 82, 82, 83, 83], 27: [47, 64, 66, 67, 69, 70, 71, 73, 74, 75, 76, 77, 78, 79, 80, 80, 81, 82, 82, 83, 83], 28: [47, 64, 65, 66, 68, 69, 71, 72, 73, 74, 75, 77, 78, 78, 79, 80, 81, 82, 82, 83, 83], 29: [47, 63, 64, 66, 67, 69, 70, 71, 73, 74, 75, 76, 77, 78, 79, 80, 81, 81, 82, 82, 83], 30: [46, 60, 62, 64, 66, 67, 69, 70, 71, 73, 74, 75, 76, 78, 78, 79, 80, 81, 82, 82, 83]}, {-30: [74, 71, 68, 64, 60, 56, 54, 50, 48, 45, 42, 39, 36, 33, 32, 30, 28, 25, 24, 24, 24], -29: [75, 72, 69, 65, 62, 58, 56, 53, 50, 47, 44, 42, 38, 36, 33, 32, 30, 27, 25, 24, 24], -28: [76, 73, 70, 66, 63, 60, 56, 54, 51, 48, 45, 43, 39, 37, 34, 32, 30, 28, 26, 24, 24], -27: [77, 73, 71, 68, 64, 61, 57, 55, 52, 50, 46, 43, 41, 37, 35, 33, 31, 28, 26, 25, 24], -26: [78, 74, 72, 69, 66, 62, 59, 56, 54, 50, 48, 45, 43, 40, 37, 34, 32, 30, 28, 26, 24], -25: [79, 86, 86, 86, 85, 85, 84, 83, 83, 82, 82, 80, 78, 75, 72, 69, 66, 61, 58, 54, 50], -24: [80, 49, 54, 58, 61, 65, 69, 72, 75, 78, 80, 82, 82, 83, 84, 84, 85, 85, 86, 86, 86], -23: [81, 48, 52, 56, 60, 64, 67, 70, 73, 76, 79, 81, 82, 83, 83, 84, 85, 85, 86, 86, 86], -22: [82, 46, 51, 55, 59, 62, 66, 69, 72, 75, 78, 80, 82, 83, 83, 84, 85, 85, 86, 86, 86], -21: [83, 45, 49, 54, 58, 61, 65, 68, 71, 75, 78, 80, 82, 83, 83, 84, 85, 85, 86, 86, 86], -20: [84, 45, 49, 53, 57, 60, 64, 67, 71, 74, 77, 79, 82, 82, 83, 84, 85, 85, 86, 86, 86], -19: [85, 44, 48, 52, 56, 59, 62, 66, 69, 72, 75, 78, 80, 82, 83, 84, 84, 85, 86, 86, 86], -18: [86, 43, 46, 51, 54, 58, 61, 65, 68, 71, 74, 77, 79, 82, 83, 83, 84, 85, 86, 86, 86], -17: [86, 42, 46, 49, 53, 57, 60, 63, 66, 69, 72, 75, 78, 80, 82, 83, 84, 85, 85, 86, 86], -16: [86, 41, 45, 48, 52, 55, 58, 61, 65, 68, 71, 74, 76, 79, 81, 82, 83, 84, 85, 86, 86], -15: [86, 39, 44, 47, 50, 54, 57, 60, 63, 66, 69, 72, 75, 78, 80, 82, 83, 84, 85, 86, 86], -14: [86, 39, 42, 46, 49, 52, 55, 59, 62, 65, 68, 71, 74, 76, 79, 81, 83, 83, 85, 86, 86], -13: [86, 37, 41, 45, 48, 51, 54, 57, 60, 63, 66, 69, 72, 75, 78, 80, 82, 83, 84, 85, 86], -12: [86, 36, 40, 43, 46, 49, 53, 56, 59, 62, 65, 68, 71, 74, 77, 79, 82, 83, 84, 85, 86], -11: [86, 35, 39, 42, 45, 48, 51, 55, 58, 61, 64, 67, 69, 72, 75, 78, 80, 82, 83, 85, 86], -10: [86, 34, 37, 41, 44, 47, 50, 53, 56, 59, 62, 65, 68, 71, 74, 77, 79, 82, 83, 84, 86], -9: [86, 33, 36, 39, 43, 46, 49, 52, 55, 58, 61, 64, 67, 70, 72, 75, 78, 80, 82, 84, 85], -8: [86, 32, 35, 38, 42, 45, 48, 51, 54, 57, 60, 62, 65, 68, 71, 74, 77, 79, 82, 83, 85], -7: [86, 31, 34, 37, 40, 43, 46, 49, 52, 55, 58, 61, 64, 67, 70, 73, 76, 78, 81, 83, 85], -6: [86, 30, 33, 36, 39, 42, 45, 48, 51, 54, 57, 60, 63, 66, 69, 72, 74, 77, 80, 83, 85], -5: [86, 29, 32, 35, 38, 41, 44, 47, 50, 53, 56, 59, 62, 65, 68, 71, 73, 76, 79, 82, 84], -4: [86, 28, 31, 34, 37, 40, 43, 46, 49, 52, 55, 58, 61, 64, 67, 69, 72, 75, 78, 81, 84], -3: [86, 24, 30, 33, 36, 39, 42, 45, 48, 51, 54, 57, 60, 63, 66, 69, 72, 75, 78, 81, 84], -2: [85, 24, 30, 33, 36, 39, 41, 44, 47, 50, 53, 56, 59, 62, 64, 67, 70, 73, 76, 79, 82], -1: [85, 24, 30, 33, 35, 38, 41, 44, 47, 50, 52, 55, 58, 61, 64, 67, 70, 73, 76, 78, 81], 0: [24, 24, 29, 32, 35, 38, 40, 43, 46, 49, 52, 55, 57, 60, 63, 66, 69, 72, 75, 78, 81], 1: [24, 24, 29, 32, 34, 37, 40, 43, 46, 48, 51, 54, 57, 60, 63, 66, 68, 71, 74, 77, 81], 2: [24, 24, 29, 31, 34, 37, 39, 42, 45, 48, 51, 53, 56, 59, 62, 65, 68, 71, 74, 77, 80], 3: [24, 26, 28, 31, 33, 36, 39, 41, 44, 47, 50, 52, 55, 58, 61, 64, 67, 70, 73, 76, 79], 4: [25, 26, 29, 31, 34, 36, 39, 41, 44, 47, 49, 52, 55, 58, 61, 63, 66, 69, 72, 75, 78], 5: [26, 26, 29, 31, 34, 36, 39, 41, 44, 47, 49, 52, 55, 57, 60, 63, 66, 69, 72, 75, 78], 6: [27, 27, 29, 31, 34, 36, 38, 41, 43, 46, 49, 52, 54, 57, 60, 63, 66, 69, 72, 75, 78], 7: [28, 27, 29, 31, 34, 36, 38, 41, 43, 46, 49, 51, 54, 57, 60, 62, 65, 68, 71, 74, 77], 8: [29, 27, 29, 31, 34, 36, 38, 41, 43, 46, 49, 51, 54, 56, 59, 62, 65, 68, 71, 74, 77], 9: [30, 28, 30, 32, 34, 37, 39, 41, 43, 46, 49, 51, 54, 57, 59, 62, 65, 68, 71, 74, 77], 10: [31, 28, 30, 32, 34, 36, 38, 41, 43, 46, 49, 51, 54, 56, 59, 62, 65, 68, 71, 74, 77], 11: [32, 28, 30, 32, 34, 37, 39, 41, 43, 46, 49, 51, 54, 56, 59, 62, 65, 68, 71, 74, 77], 12: [33, 28, 30, 32, 34, 36, 38, 40, 43, 45, 48, 50, 53, 56, 58, 61, 64, 67, 70, 73, 76], 13: [34, 27, 29, 31, 34, 36, 38, 40, 43, 45, 48, 50, 53, 56, 58, 61, 64, 67, 70, 73, 76], 14: [35, 28, 30, 32, 34, 36, 38, 40, 43, 45, 48, 50, 53, 56, 59, 62, 64, 67, 70, 74, 77], 15: [36, 28, 30, 32, 34, 36, 38, 41, 43, 46, 48, 51, 53, 56, 59, 62, 65, 68, 71, 74, 77], 16: [37, 28, 30, 32, 34, 36, 38, 40, 43, 45, 48, 50, 53, 56, 58, 62, 64, 67, 70, 74, 77], 17: [38, 28, 29, 31, 33, 35, 37, 40, 42, 44, 47, 50, 52, 55, 57, 60, 63, 66, 69, 72, 76], 18: [39, 27, 29, 31, 33, 35, 37, 40, 41, 44, 47, 49, 52, 54, 57, 60, 63, 66, 69, 72, 75], 19: [40, 28, 29, 31, 33, 35, 37, 39, 41, 43, 46, 49, 51, 53, 56, 59, 62, 65, 68, 71, 74], 20: [41, 27, 29, 31, 32, 35, 37, 39, 41, 43, 46, 48, 50, 53, 56, 58, 62, 64, 67, 71, 74], 21: [42, 27, 29, 31, 32, 34, 37, 38, 40, 43, 45, 47, 50, 53, 55, 58, 61, 63, 66, 70, 73], 22: [43, 27, 29, 31, 32, 34, 36, 38, 40, 42, 44, 47, 50, 52, 54, 57, 60, 63, 65, 69, 72], 23: [44, 26, 28, 30, 31, 33, 35, 37, 39, 41, 43, 46, 48, 50, 53, 56, 58, 62, 64, 68, 71], 24: [45, 26, 28, 29, 31, 32, 35, 37, 38, 40, 42, 45, 47, 50, 53, 55, 57, 61, 63, 66, 70], 25: [46, 26, 27, 29, 30, 32, 34, 36, 38, 40, 41, 43, 47, 49, 51, 54, 56, 59, 63, 65, 69], 26: [47, 26, 27, 29, 30, 32, 34, 35, 37, 39, 41, 43, 46, 48, 50, 53, 56, 58, 62, 64, 68], 27: [48, 25, 27, 28, 30, 31, 32, 35, 37, 38, 40, 42, 44, 47, 50, 52, 55, 57, 61, 63, 67], 28: [49, 25, 26, 27, 29, 30, 32, 34, 35, 37, 39, 41, 43, 46, 48, 51, 53, 56, 59, 63, 65], 29: [50, 24, 25, 27, 28, 30, 31, 33, 35, 37, 38, 40, 42, 44, 47, 50, 53, 55, 58, 62, 64], 30: [51, 24, 24, 25, 27, 28, 30, 31, 32, 35, 37, 38, 40, 43, 45, 48, 50, 53, 56, 60, 63]}, {-30: -61.927513064147035, -29: -59.01050577751931, -28: -56.957772336036726, -27: -55.01628594512236, -26: -52.353285179055206, -25: -50.61758059012683, -24: -48.98100354851011, -23: -46.589316923641675, -22: -44.277388844216915, -21: -42.92152886811025, -20: -40.784016625919705, -19: -37.846338025225386, -18: -35.874017753656084, -17: -33.568549618017, -16: -31.258586414432095, -15: -29.892021724566284, -14: -27.608710507303957, -13: -25.33985835457387, -12: -24.052529413048834, -11: -21.837774285729612, -10: -19.653824058053296, -9: -17.506238629754804, -8: -15.399987621934105, -7: -13.339406390257803, -6: -11.328173727626458, -5: -9.369309660652801, -4: -7.465190856121412, -3: -5.789639470854703, -2: -3.7397031428414635, -1: -1.8658515196008492, 0: 0.0, 1: 1.8539785864655476, 2: 3.692359584859213, 3: 5.692351883893384, 4: 7.731146523160552, 5: 9.804580728611842, 6: 11.907987783596045, 7: 13.440123920001504, 8: 15.632924917006411, 9: 16.92548040993105, 10: 19.157559978705105, 11: 20.496332040163875, 12: 23.23808062958969, 13: 25.52139184685203, 14: 26.932422902066552, 15: 28.35896344613002, 16: 30.40979279497679, 17: 32.53964599724223, 18: 34.74695598297053, 19: 36.20258929000894, 20: 38.575489954770816, 21: 40.21273489613118, 22: 41.94618962133817, 23: 44.576848317607976, 24: 46.50743575877496, 25: 48.544766455594875, 26: 50.692351883893394, 27: 52.95285379503466, 28: 55.32781531079603, 29: 57.81736823279518, 30: 60.99719835265942})\n"
          ],
          "name": "stdout"
        }
      ]
    }
  ]
}