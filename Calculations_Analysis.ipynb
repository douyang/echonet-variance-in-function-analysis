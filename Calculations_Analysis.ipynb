{
  "nbformat": 4,
  "nbformat_minor": 0,
  "metadata": {
    "colab": {
      "name": "Calculations - Analysis.ipynb",
      "provenance": [],
      "collapsed_sections": [],
      "toc_visible": true,
      "machine_shape": "hm",
      "include_colab_link": true
    },
    "kernelspec": {
      "name": "python3",
      "display_name": "Python 3"
    }
  },
  "cells": [
    {
      "cell_type": "markdown",
      "metadata": {
        "id": "view-in-github",
        "colab_type": "text"
      },
      "source": [
        "<a href=\"https://colab.research.google.com/github/douyang/echonet-function-evaluation/blob/master/Calculations_Analysis.ipynb\" target=\"_parent\"><img src=\"https://colab.research.google.com/assets/colab-badge.svg\" alt=\"Open In Colab\"/></a>"
      ]
    },
    {
      "cell_type": "markdown",
      "metadata": {
        "id": "1jGANGwopG4g"
      },
      "source": [
        "# Generating Image Samples"
      ]
    },
    {
      "cell_type": "code",
      "metadata": {
        "id": "pb8mnyOscRTj"
      },
      "source": [
        "from google.colab.patches import cv2_imshow\n",
        "import os\n",
        "import cv2\n",
        "import numpy as np"
      ],
      "execution_count": null,
      "outputs": []
    },
    {
      "cell_type": "code",
      "metadata": {
        "id": "clYOAL30gH5-"
      },
      "source": [
        "path = \"/content/0X101026B90DAE7E95.avi_45.png\""
      ],
      "execution_count": null,
      "outputs": []
    },
    {
      "cell_type": "markdown",
      "metadata": {
        "id": "DHXCX73VzjZn"
      },
      "source": [
        "#Get all of the coordinates of the edge of the segmented mask(Red Version)"
      ]
    },
    {
      "cell_type": "code",
      "metadata": {
        "id": "OkLPu6KZzieu"
      },
      "source": [
        "# # read image\n",
        "# img = cv2.imread(path)\n",
        "# rgb = cv2.cvtColor(img, cv2.COLOR_BGR2RGB)\n",
        "\n",
        "# # set lower and upper bounds on blue color\n",
        "# lower = (100,0,0)\n",
        "# upper = (255,0,0)\n",
        "\n",
        "# # threshold and invert so hexagon is white on black background\n",
        "# thresh = cv2.inRange(rgb, lower, upper)\n",
        "\n",
        "# # get contours\n",
        "# result = np.zeros_like(thresh)\n",
        "# contours = cv2.findContours(thresh, cv2.RETR_EXTERNAL, cv2.CHAIN_APPROX_NONE)\n",
        "# contours = contours[0] if len(contours) == 2 else contours[1]\n",
        "\n",
        "# points = []\n",
        "# # list contour points\n",
        "# for pt in contours:\n",
        "#     for i in pt:\n",
        "#       for coord in i:\n",
        "#         points.append(coord.tolist())\n",
        "# print(points)\n",
        "\n",
        "# print(\"Number of points: \", len(points))\n",
        "# # show thresh and contour  \n",
        "# cv2_imshow(thresh)\n",
        "# cv2_imshow(img)\n",
        "\n",
        "# cv2.waitKey(0)\n",
        "# cv2.destroyAllWindows()\n"
      ],
      "execution_count": null,
      "outputs": []
    },
    {
      "cell_type": "markdown",
      "metadata": {
        "id": "VxTYjT1ckr7z"
      },
      "source": [
        "# Blue Version"
      ]
    },
    {
      "cell_type": "code",
      "metadata": {
        "id": "XaHMKuUIhIpn"
      },
      "source": [
        "# # read image\n",
        "# img = cv2.imread(path)\n",
        "# rgb = cv2.cvtColor(img, cv2.COLOR_BGR2RGB)\n",
        "\n",
        "# # set lower and upper bounds on blue color\n",
        "# lower = (0,0,100)\n",
        "# upper = (255,255,255)\n",
        "\n",
        "# # threshold and invert so hexagon is white on black background\n",
        "# thresh = cv2.inRange(rgb, lower, upper)\n",
        "\n",
        "\n",
        "# # get contours\n",
        "# result = np.zeros_like(thresh)\n",
        "# contours = cv2.findContours(thresh, cv2.RETR_EXTERNAL, cv2.CHAIN_APPROX_NONE)\n",
        "# contours = contours[0] if len(contours) == 2 else contours[1]\n",
        "\n",
        "# points = []\n",
        "# # list contour points\n",
        "# for pt in contours:\n",
        "#     for i in pt:\n",
        "#       for coord in i:\n",
        "#         points.append(coord.tolist())\n",
        "# print(points)\n",
        "\n",
        "# print(\"Number of points: \", len(points))\n",
        "# # show thresh and contour  \n",
        "# cv2_imshow(thresh)\n",
        "# cv2_imshow(img)\n",
        "# # cv2_imshow(opening)\n",
        "# # cv2_imshow(closing)\n",
        "\n",
        "# cv2.waitKey(0)\n",
        "# cv2.destroyAllWindows()\n"
      ],
      "execution_count": null,
      "outputs": []
    },
    {
      "cell_type": "markdown",
      "metadata": {
        "id": "_eTgTNqmuMAy"
      },
      "source": [
        "# Mask from binary mask"
      ]
    },
    {
      "cell_type": "code",
      "metadata": {
        "id": "cago6URCuLd3",
        "outputId": "69c3f3ab-0e9b-4bc6-eb4e-fbbe74551c77",
        "colab": {
          "base_uri": "https://localhost:8080/",
          "height": 295
        }
      },
      "source": [
        "# read image\n",
        "img = cv2.imread(path)\n",
        "rgb = cv2.cvtColor(img, cv2.COLOR_BGR2RGB)\n",
        "\n",
        "# set lower and upper bounds on blue color\n",
        "lower = (200,200,200)\n",
        "upper = (255,255,255)\n",
        "\n",
        "# threshold and invert so hexagon is white on black background\n",
        "thresh = cv2.inRange(rgb, lower, upper)\n",
        "\n",
        "# get contours\n",
        "result = np.zeros_like(thresh)\n",
        "contours = cv2.findContours(thresh, cv2.RETR_EXTERNAL, cv2.CHAIN_APPROX_NONE)\n",
        "contours = contours[0] if len(contours) == 2 else contours[1]\n",
        "\n",
        "points = []\n",
        "# list contour points\n",
        "for pt in contours:\n",
        "    for i in pt:\n",
        "      for coord in i:\n",
        "        points.append(coord.tolist())\n",
        "print(points)\n",
        "\n",
        "print(\"Number of points: \", len(points))\n",
        "# show thresh and contour  \n",
        "cv2_imshow(img)\n",
        "cv2_imshow(thresh)\n",
        "\n",
        "# cv2_imshow(opening)\n",
        "# cv2_imshow(closing)\n",
        "\n",
        "cv2.waitKey(0)\n",
        "cv2.destroyAllWindows()\n"
      ],
      "execution_count": null,
      "outputs": [
        {
          "output_type": "stream",
          "text": [
            "[[42, 28], [41, 29], [40, 29], [40, 30], [40, 31], [40, 32], [39, 33], [39, 34], [39, 35], [39, 36], [38, 37], [38, 38], [38, 39], [38, 40], [38, 41], [38, 42], [38, 43], [38, 44], [38, 45], [38, 46], [38, 47], [38, 48], [38, 49], [38, 50], [38, 51], [38, 52], [39, 53], [39, 54], [40, 55], [40, 56], [40, 57], [41, 58], [42, 59], [42, 60], [43, 61], [43, 62], [44, 63], [45, 64], [45, 65], [46, 66], [47, 67], [48, 68], [49, 69], [50, 69], [51, 70], [52, 71], [52, 72], [52, 73], [52, 74], [53, 75], [53, 76], [53, 77], [53, 78], [54, 79], [54, 80], [54, 81], [54, 82], [54, 83], [55, 83], [56, 83], [57, 82], [58, 82], [59, 81], [60, 81], [61, 80], [62, 80], [63, 79], [64, 79], [65, 78], [66, 78], [67, 77], [68, 77], [69, 76], [70, 76], [71, 75], [72, 75], [73, 74], [74, 74], [75, 73], [76, 73], [77, 72], [78, 72], [79, 71], [80, 70], [81, 70], [82, 69], [83, 68], [84, 68], [85, 67], [85, 66], [85, 65], [84, 64], [84, 63], [84, 62], [83, 61], [82, 60], [81, 59], [81, 58], [81, 57], [80, 56], [79, 55], [78, 54], [78, 53], [78, 52], [77, 51], [77, 50], [76, 49], [75, 48], [75, 47], [74, 46], [74, 45], [73, 44], [72, 43], [71, 42], [70, 41], [69, 40], [68, 39], [67, 38], [66, 37], [65, 36], [64, 35], [63, 34], [62, 34], [61, 33], [60, 32], [59, 32], [58, 31], [57, 31], [56, 31], [55, 31], [54, 30], [53, 30], [52, 30], [51, 30], [50, 29], [49, 29], [48, 29], [47, 28], [46, 28], [45, 28], [44, 28], [43, 28]]\n",
            "Number of points:  142\n"
          ],
          "name": "stdout"
        },
        {
          "output_type": "display_data",
          "data": {
            "image/png": "[encoded data removed]",
            "text/plain": [
              "<PIL.Image.Image image mode=RGB size=112x112 at 0x7F4E80AF9240>"
            ]
          },
          "metadata": {
            "tags": []
          }
        },
        {
          "output_type": "display_data",
          "data": {
            "image/png": "[encoded data removed]",
            "text/plain": [
              "<PIL.Image.Image image mode=L size=112x112 at 0x7F4E80AF4FD0>"
            ]
          },
          "metadata": {
            "tags": []
          }
        }
      ]
    },
    {
      "cell_type": "code",
      "metadata": {
        "id": "GrvWzR4MlKM8"
      },
      "source": [
        "pointGroups = []\n",
        "index = 0\n",
        "subgroup = [points[0]]\n",
        "\n",
        "for i in range(len(points) - 1):\n",
        "  prevPoint = points[i]\n",
        "  currentPoint = points[i+1]\n",
        "\n",
        "  if abs(prevPoint[0]-currentPoint[0]) <= 1 and abs(prevPoint[1]-currentPoint[1]) <= 1:\n",
        "    subgroup.append(currentPoint)\n",
        "  else:\n",
        "    pointGroups.append(subgroup[:])\n",
        "    subgroup = [currentPoint]\n",
        "\n",
        "pointGroups.append(subgroup)\n",
        "\n",
        "mainPointGroup = []\n",
        "maxPointGroupSize = 0\n",
        "\n",
        "for group in pointGroups:\n",
        "  if len(group) > maxPointGroupSize:\n",
        "    maxPointGroup = group\n",
        "    maxPointGroupSize = len(group)\n",
        "\n",
        "points = maxPointGroup[:]"
      ],
      "execution_count": null,
      "outputs": []
    },
    {
      "cell_type": "markdown",
      "metadata": {
        "id": "eTM-6vUrz19L"
      },
      "source": [
        "# Top 5 and Bottom 5 Analysis(Heuristic 2)\n"
      ]
    },
    {
      "cell_type": "code",
      "metadata": {
        "id": "bXj9D_WPYf54",
        "outputId": "008397bf-d79a-4dd0-b439-58663e28a51d",
        "colab": {
          "base_uri": "https://localhost:8080/",
          "height": 34
        }
      },
      "source": [
        "def getDistance(point1, point2):\n",
        "  return math.sqrt((point1[0]-point2[0])**2 + (point1[1]-point2[1])**2)\n",
        "\n",
        "def getSlope(point1, point2):\n",
        "  if ((point1[0] == point2[0])):\n",
        "    return -333\n",
        "  return (point1[1] - point2[1])/(point1[0] - point2[0])\n",
        "\n",
        "# Minimum and Maximum Y Coord\n",
        "maxY = max(points, key = lambda point: point[1])\n",
        "minY = min(points, key = lambda point: point[1])\n",
        "\n",
        "# MinY and MaxY With the limits\n",
        "minYWith5 = minY[1] + 5\n",
        "maxYWithout5 = maxY[1] - 15\n",
        "\n",
        "# Creating these arrays\n",
        "minYWith5Arr = []\n",
        "maxYWithout5Arr = []\n",
        "\n",
        "# Finding these points\n",
        "for point in points:\n",
        "  if point[1] == minYWith5:\n",
        "    minYWith5Arr.append(point)\n",
        "  if point[1] == maxYWithout5:\n",
        "    maxYWithout5Arr.append(point)\n",
        "\n",
        "# Average X Coordinates\n",
        "averageTopX = round((minYWith5Arr[0][0] + minYWith5Arr[-1][0])/2)\n",
        "averageBottomX = round((maxYWithout5Arr[0][0] + maxYWithout5Arr[-1][0])/2)\n",
        "slope = getSlope([averageTopX, minYWith5], [averageBottomX, maxYWithout5])\n",
        "\n",
        "if slope > 0:\n",
        "  averageTopX -= round((minYWith5Arr[-1][0] - minYWith5Arr[0][0])/1.5/slope)\n",
        "  averageBottomX += round((maxYWithout5Arr[-1][0] - maxYWithout5Arr[0][0])/3/slope)\n",
        "else:\n",
        "  averageTopX -= round((minYWith5Arr[-1][0] - minYWith5Arr[0][0])/1.5/slope)\n",
        "  averageBottomX += round((maxYWithout5Arr[-1][0] - maxYWithout5Arr[0][0])/3/slope)\n",
        "\n",
        "\n",
        "# Creating these arrays\n",
        "averageTopXArr = []\n",
        "averageBottomXArr = []\n",
        "\n",
        "# Finding these points\n",
        "condition = True\n",
        "if slope > 0:\n",
        "  while condition and averageTopX <= minYWith5Arr[-1][0] and averageBottomX >= maxYWithout5Arr[0][0]:\n",
        "    for point in points:\n",
        "      if point[0] == averageTopX:\n",
        "        averageTopXArr.append(point)\n",
        "      if point[0] == averageBottomX:\n",
        "        averageBottomXArr.append(point)\n",
        "    if len(averageTopXArr) > 0 and len(averageBottomXArr):\n",
        "      condition = False\n",
        "    if len(averageTopXArr) == 0:\n",
        "      averageTopX += 1\n",
        "    if len(averageBottomXArr) == 0:\n",
        "      averageBottomXArr -= 1\n",
        "else:\n",
        "  while condition and averageTopX >= minYWith5Arr[0][0] and averageBottomX <= maxYWithout5Arr[-1][0]:\n",
        "    for point in points:\n",
        "      if point[0] == averageTopX:\n",
        "        averageTopXArr.append(point)\n",
        "      if point[0] == averageBottomX:\n",
        "        averageBottomXArr.append(point)\n",
        "    if len(averageTopXArr) > 0 and len(averageBottomXArr):\n",
        "      condition = False\n",
        "    if len(averageTopXArr) == 0:\n",
        "      averageTopX -= 1\n",
        "    if len(averageBottomXArr) == 0:\n",
        "      averageBottomXArr += 1\n",
        "\n",
        "# Sorting Arrs\n",
        "averageTopXArr.sort(key=lambda point: point[1])\n",
        "averageBottomXArr.sort(key=lambda point: point[1])\n",
        "averageBottomXArr.reverse()\n",
        "\n",
        "\n",
        "# Finding Min Top and Max Bottom\n",
        "TopCoord = averageTopXArr[0]\n",
        "BottomCoord = averageBottomXArr[0]\n",
        "\n",
        "x1, y1 = TopCoord\n",
        "x2, y2 = BottomCoord\n",
        "\n",
        "if (x1 + y1) > (x2 + y2):\n",
        "  x1, y1, x2, y2 = x2, y2, x1, y1\n",
        "\n",
        "print(x1, y1, x2, y2)"
      ],
      "execution_count": null,
      "outputs": [
        {
          "output_type": "stream",
          "text": [
            "43 28 71 75\n"
          ],
          "name": "stdout"
        }
      ]
    },
    {
      "cell_type": "markdown",
      "metadata": {
        "id": "h1Hbm3Zp0MMV"
      },
      "source": [
        "# Calculate Weighted Average"
      ]
    },
    {
      "cell_type": "code",
      "metadata": {
        "id": "FFDvJJ110O1H",
        "outputId": "1d0e79b8-7521-4a89-8edb-3a3507b55e93",
        "colab": {
          "base_uri": "https://localhost:8080/",
          "height": 54
        }
      },
      "source": [
        "import math\n",
        "\n",
        "# parallel_dist = distance/21\n",
        "\n",
        "weighted_avg = []\n",
        "\n",
        "for n in range(1, 21, 1):\n",
        "  x_perpendicular = (((n*x1)+(21-n)*(x2))/21)\n",
        "  y_perpendicular = (((n*y1)+(21-n)*(y2))/21)\n",
        "  weighted_avg.append([x_perpendicular, y_perpendicular])\n",
        "\n",
        "print(weighted_avg)"
      ],
      "execution_count": null,
      "outputs": [
        {
          "output_type": "stream",
          "text": [
            "[[69.66666666666667, 72.76190476190476], [68.33333333333333, 70.52380952380952], [67.0, 68.28571428571429], [65.66666666666667, 66.04761904761905], [64.33333333333333, 63.80952380952381], [63.0, 61.57142857142857], [61.666666666666664, 59.333333333333336], [60.333333333333336, 57.095238095238095], [59.0, 54.857142857142854], [57.666666666666664, 52.61904761904762], [56.333333333333336, 50.38095238095238], [55.0, 48.142857142857146], [53.666666666666664, 45.904761904761905], [52.333333333333336, 43.666666666666664], [51.0, 41.42857142857143], [49.666666666666664, 39.19047619047619], [48.333333333333336, 36.95238095238095], [47.0, 34.714285714285715], [45.666666666666664, 32.476190476190474], [44.333333333333336, 30.238095238095237]]\n"
          ],
          "name": "stdout"
        }
      ]
    },
    {
      "cell_type": "markdown",
      "metadata": {
        "id": "TLFxNNTyvynO"
      },
      "source": [
        "# Find All Mask White points"
      ]
    },
    {
      "cell_type": "code",
      "metadata": {
        "id": "EUn8wGqxv3Xz",
        "outputId": "20d4d079-e957-444f-eb9b-280ea964c354",
        "colab": {
          "base_uri": "https://localhost:8080/",
          "height": 71
        }
      },
      "source": [
        "p1Index = points.index([x1, y1])\n",
        "p2Index = points.index([x2, y2])\n",
        "\n",
        "lowerIndex = min(p1Index, p2Index)\n",
        "higherIndex = max(p1Index, p2Index)\n",
        "\n",
        "higherIntercept = points[lowerIndex:higherIndex]\n",
        "lowerIntercept = points[higherIndex:] + points[:lowerIndex]\n",
        "\n",
        "if (higherIntercept[0][0] + higherIntercept[0][1]) > (lowerIntercept[0][0] + lowerIntercept[0][1]):\n",
        "  lowerIntercept, higherIntercept = higherIntercept, lowerIntercept\n",
        "\n",
        "print(lowerIntercept)\n",
        "print(higherIntercept)"
      ],
      "execution_count": null,
      "outputs": [
        {
          "output_type": "stream",
          "text": [
            "[[71, 75], [72, 75], [73, 74], [74, 74], [75, 73], [76, 73], [77, 72], [78, 72], [79, 71], [80, 70], [81, 70], [82, 69], [83, 68], [84, 68], [85, 67], [85, 66], [85, 65], [84, 64], [84, 63], [84, 62], [83, 61], [82, 60], [81, 59], [81, 58], [81, 57], [80, 56], [79, 55], [78, 54], [78, 53], [78, 52], [77, 51], [77, 50], [76, 49], [75, 48], [75, 47], [74, 46], [74, 45], [73, 44], [72, 43], [71, 42], [70, 41], [69, 40], [68, 39], [67, 38], [66, 37], [65, 36], [64, 35], [63, 34], [62, 34], [61, 33], [60, 32], [59, 32], [58, 31], [57, 31], [56, 31], [55, 31], [54, 30], [53, 30], [52, 30], [51, 30], [50, 29], [49, 29], [48, 29], [47, 28], [46, 28], [45, 28], [44, 28]]\n",
            "[[43, 28], [42, 28], [41, 29], [40, 29], [40, 30], [40, 31], [40, 32], [39, 33], [39, 34], [39, 35], [39, 36], [38, 37], [38, 38], [38, 39], [38, 40], [38, 41], [38, 42], [38, 43], [38, 44], [38, 45], [38, 46], [38, 47], [38, 48], [38, 49], [38, 50], [38, 51], [38, 52], [39, 53], [39, 54], [40, 55], [40, 56], [40, 57], [41, 58], [42, 59], [42, 60], [43, 61], [43, 62], [44, 63], [45, 64], [45, 65], [46, 66], [47, 67], [48, 68], [49, 69], [50, 69], [51, 70], [52, 71], [52, 72], [52, 73], [52, 74], [53, 75], [53, 76], [53, 77], [53, 78], [54, 79], [54, 80], [54, 81], [54, 82], [54, 83], [55, 83], [56, 83], [57, 82], [58, 82], [59, 81], [60, 81], [61, 80], [62, 80], [63, 79], [64, 79], [65, 78], [66, 78], [67, 77], [68, 77], [69, 76], [70, 76]]\n"
          ],
          "name": "stdout"
        }
      ]
    },
    {
      "cell_type": "code",
      "metadata": {
        "id": "jQSOeO-chFhD"
      },
      "source": [
        "def findCorrespondingMaskPoints(weighted_avg, lowerIntercept, higherIntercept, x1, y1, x2, y2, slope, i):\n",
        "  # Calculate perpendicular slope\n",
        "  try:\n",
        "    perp_slope = -1/slope\n",
        "  except:\n",
        "    perp_slope = 10000\n",
        "\n",
        "  # Indexing\n",
        "  lowerIndex = 0\n",
        "  higherIndex = 0\n",
        "\n",
        "  # Make sure its from top to bottom direction\n",
        "  if (weighted_avg[-1][0] + weighted_avg[-1][1]) < (weighted_avg[0][0] + weighted_avg[0][1]):\n",
        "    weighted_avg = weighted_avg[::-1]\n",
        "\n",
        "  # Make sure its from top to bottom direction\n",
        "  if getDistance(weighted_avg[0], higherIntercept[0]) > getDistance(weighted_avg[0], higherIntercept[-1]):\n",
        "      higherIntercept = higherIntercept[::-1]\n",
        "  \n",
        "  print(higherIntercept)\n",
        "\n",
        "  # Make sure its from top to bottom direction\n",
        "  if getDistance(weighted_avg[0], lowerIntercept[0]) > getDistance(weighted_avg[0], lowerIntercept[-1]):\n",
        "      lowerIntercept = lowerIntercept[::-1]\n",
        "\n",
        "  higherInterceptAveragePoints = []\n",
        "  lowerInterceptAveragePoints = []\n",
        "\n",
        "  for averagePoint in weighted_avg:\n",
        "    try:\n",
        "      condition = True\n",
        "      count = 0\n",
        "      while condition:\n",
        "        higherIndex = max(higherIndex, 1)\n",
        "        point = higherIntercept[higherIndex]\n",
        "        if higherIndex == 0:\n",
        "          prev_point =  [x1, y1] if getDistance(point, [x1, y1]) < getDistance(point, [x2, y2]) else [x2, y2]\n",
        "          start_point = prev_point[:]\n",
        "        else:\n",
        "          prev_point = higherIntercept[higherIndex-1]\n",
        "        \n",
        "        new_slope = getSlope(point, averagePoint)\n",
        "        prev_slope =  getSlope(prev_point, averagePoint)\n",
        "        betweenCond = ((point[0] < averagePoint[0] and prev_point[0] > averagePoint[0]) or (point[0] > averagePoint[0] and prev_point[0] < averagePoint[0])) and abs(new_slope) > abs(slope) and abs(prev_slope) > abs(slope)\n",
        "        slopeCond = (new_slope >= perp_slope and prev_slope<=perp_slope) or  (new_slope <= perp_slope and prev_slope>=perp_slope)\n",
        "        # print(slopeCond and not betweenCond, count, point, prev_point, averagePoint, prev_slope, new_slope, perp_slope)\n",
        "\n",
        "        count += 1\n",
        "        higherIndex += 1\n",
        "\n",
        "        if perp_slope == 10000:\n",
        "          if (point[0] < averagePoint[0] and prev_point[0] > averagePoint[0]) or (point[0] > averagePoint[0] and prev_point[0] < averagePoint[0]):\n",
        "            higherInterceptAveragePoints.append(point)\n",
        "            condition = False\n",
        "            higherIndex -= 1\n",
        "        elif not (len(higherInterceptAveragePoints)>0 and higherInterceptAveragePoints[0] == point and point == start_point):\n",
        "          if slopeCond and not betweenCond:\n",
        "            higherInterceptAveragePoints.append(point)\n",
        "            condition = False\n",
        "            higherIndex -= 1\n",
        "          elif abs(perp_slope) >= 6 and ((new_slope > 1.1*abs(slope) and prev_slope < -1.1*abs(slope)) or (new_slope < -1.1*abs(slope) and prev_slope > 1.1*abs(slope))):\n",
        "            higherInterceptAveragePoints.append(point)\n",
        "            condition = False\n",
        "            higherIndex -= 1\n",
        "          elif count >= len(higherIntercept)-1:\n",
        "            higherIndex -= count\n",
        "            if higherIndex == 0:\n",
        "              higherInterceptAveragePoints.append(start_point)\n",
        "            else:\n",
        "              higherInterceptAveragePoints.append(higherIntercept[higherIndex])\n",
        "            condition = False\n",
        "            higherIndex -= 1\n",
        "\n",
        "    except:\n",
        "      higherInterceptAveragePoints.append(higherIntercept[-1])\n",
        "  \n",
        "  for averagePoint in weighted_avg:\n",
        "    try:\n",
        "      condition = True\n",
        "      count = 0\n",
        "      while condition:\n",
        "        lowerIndex = max(lowerIndex, 1)\n",
        "        point = lowerIntercept[lowerIndex]\n",
        "\n",
        "        if lowerIndex == 0:\n",
        "          prev_point =  [x1, y1] if getDistance(point, [x1, y1]) < getDistance(point, [x2, y2]) else [x2, y2]\n",
        "          start_point = prev_point[:]\n",
        "        else:\n",
        "          prev_point = lowerIntercept[lowerIndex-1]\n",
        "\n",
        "\n",
        "        new_slope = getSlope(point, averagePoint)\n",
        "        prev_slope =  getSlope(prev_point, averagePoint)\n",
        "        betweenCond = ((point[0] < averagePoint[0] and prev_point[0] > averagePoint[0]) or (point[0] > averagePoint[0] and prev_point[0] < averagePoint[0])) and abs(new_slope) > abs(slope) and abs(prev_slope) > abs(slope)\n",
        "        slopeCond = (new_slope >= perp_slope and prev_slope<=perp_slope) or  (new_slope <= perp_slope and prev_slope>=perp_slope)\n",
        "        # print(slopeCond and not betweenCond, len(lowerInterceptAveragePoints), count, point, prev_point, averagePoint, prev_slope, new_slope, perp_slope)\n",
        "\n",
        "# False 0 [52, 50] [52, 49] [52.76190476190476, 49.04761904761905] 0.06250000000000466 -1.25 -16.0\n",
        "# False 0 [52, 50] [52, 49] [53.523809523809526, 49.095238095238095] 0.06249999999999971 -0.5937499999999996 -16.0\n",
        "# False 0 [52, 50] [52, 49] [54.285714285714285, 49.142857142857146] 0.06250000000000136 -0.37499999999999883 -16.0\n",
        "# False 0 [52, 50] [52, 49] [55.04761904761905, 49.19047619047619] 0.06249999999999971 -0.26562499999999994 -16.0\n",
        "# False 0 [52, 50] [52, 49] [55.80952380952381, 49.23809523809524] 0.0625000000000007 -0.19999999999999926 -16.0\n",
        "# False 0 [39, 54] [39, 53] [40.857142857142854, 53.04761904761905] 0.025641025641027507 -0.5128205128205119 -39.0\n",
        "\n",
        "# False 4 [41, 58] [40, 57] [40.857142857142854, 53.04761904761905] -4.611111111111123 34.666666666665904 -39.0\n",
        "\n",
        "        count += 1\n",
        "        lowerIndex += 1\n",
        "\n",
        "        if perp_slope == 10000:\n",
        "          if ((point[0] < averagePoint[0] and prev_point[0] > averagePoint[0]) or (point[0] > averagePoint[0] and prev_point[0] < averagePoint[0])):\n",
        "            print(\"here3\")\n",
        "            \n",
        "            lowerInterceptAveragePoints.append(point)\n",
        "            condition = False\n",
        "            lowerIndex -= 1\n",
        "        elif not (len(lowerInterceptAveragePoints)>0 and lowerInterceptAveragePoints[0] == point and point == start_point):\n",
        "          if slopeCond and not betweenCond:\n",
        "            print(\"here2\")\n",
        "            \n",
        "            lowerInterceptAveragePoints.append(point)\n",
        "            condition = False\n",
        "            lowerIndex -= 1\n",
        "          elif (abs(perp_slope) > 6) and ((new_slope > 1.1*abs(slope) and prev_slope < -1.1*abs(slope)) or (new_slope < -1.1*abs(slope) and prev_slope > 1.1*abs(slope))):\n",
        "           \n",
        "            lowerInterceptAveragePoints.append(point)\n",
        "            condition = False\n",
        "            lowerIndex -= 1\n",
        "          elif count >= len(lowerIntercept)-1:\n",
        "            lowerIndex -= count\n",
        "            if lowerIndex == 0:\n",
        "              lowerInterceptAveragePoints.append(start_point)\n",
        "            else:\n",
        "              lowerInterceptAveragePoints.append(lowerIntercept[lowerIndex])\n",
        "            condition = False\n",
        "            lowerIndex -= 1\n",
        "        print(slopeCond and not betweenCond, len(lowerInterceptAveragePoints), count, point, prev_point, averagePoint, prev_slope, new_slope, perp_slope)\n",
        "    except:\n",
        "      lowerInterceptAveragePoints.append(lowerIntercept[-1])\n",
        "    \n",
        "    lowerInterceptAveragePoints.sort(key=lambda point: point[0]+point[1])\n",
        "    higherInterceptAveragePoints.sort(key=lambda point: point[0]+point[1])\n",
        "\n",
        "\n",
        "  return (lowerInterceptAveragePoints, higherInterceptAveragePoints)\n",
        "\n",
        "\n",
        "# Create the 20 equally spaced points\n",
        "def getWeightedAveragePoints(x1, y1, x2, y2, number):\n",
        "  weighted_avg = []\n",
        "\n",
        "  for n in range(1, number+1, 1):\n",
        "    x_perpendicular = (((n*x1)+(number+1-n)*(x2))/(number+1))\n",
        "    y_perpendicular = (((n*y1)+(number+1-n)*(y2))/(number+1))\n",
        "    weighted_avg.append([x_perpendicular, y_perpendicular])\n",
        "\n",
        "  for pair in weighted_avg:\n",
        "    x, y = pair\n",
        "    if x == int(x):\n",
        "      pair[0] += 0.0001\n",
        "    if y == int(y):\n",
        "      pair[1] += 0.0001\n",
        "\n",
        "  return weighted_avg"
      ],
      "execution_count": 116,
      "outputs": []
    },
    {
      "cell_type": "code",
      "metadata": {
        "id": "BAHZKZA0gfnz",
        "outputId": "55375e14-4496-4f78-82b8-5f73476001d2",
        "colab": {
          "base_uri": "https://localhost:8080/",
          "height": 1000
        }
      },
      "source": [
        "i = 27\n",
        "\n",
        "x1, y1 = lowerIntercept[i]\n",
        "x2, y2 = higherIntercept[i]\n",
        "\n",
        "slope = getSlope([x1, y1], [x2, y2])\n",
        "\n",
        "p1Index = points.index([x1, y1])\n",
        "p2Index = points.index([x2, y2])\n",
        "\n",
        "lowerIndex = min(p1Index, p2Index)\n",
        "higherIndex = max(p1Index, p2Index)\n",
        "\n",
        "higherInterceptPoints = points[lowerIndex:higherIndex]\n",
        "lowerInterceptPoints = points[higherIndex:] + points[:lowerIndex]\n",
        "\n",
        "if (higherInterceptPoints[0][0] + higherInterceptPoints[0][1]) < (lowerInterceptPoints[0][0] + lowerInterceptPoints[0][1]):\n",
        "  lowerInterceptPoints, higherInterceptPoints = higherInterceptPoints, lowerInterceptPoints\n",
        "\n",
        "weighted_avg = getWeightedAveragePoints(x1, y1, x2, y2, 20)\n",
        "lowerInterceptAveragePoints, higherInterceptAveragePoints = findCorrespondingMaskPoints(weighted_avg, lowerInterceptPoints, higherInterceptPoints, x1, y1, x2, y2, slope, i)"
      ],
      "execution_count": 117,
      "outputs": [
        {
          "output_type": "stream",
          "text": [
            "[[38, 52], [38, 51], [38, 50], [38, 49], [38, 48], [38, 47], [38, 46], [38, 45], [38, 44], [38, 43], [38, 42], [38, 41], [38, 40], [38, 39], [38, 38], [38, 37], [39, 36], [39, 35], [39, 34], [39, 33], [40, 32], [40, 31], [40, 30], [40, 29], [41, 29], [42, 28], [43, 28], [44, 28], [45, 28], [46, 28], [47, 28], [48, 29], [49, 29], [50, 29], [51, 30], [52, 30], [53, 30], [54, 30], [55, 31], [56, 31], [57, 31], [58, 31], [59, 32], [60, 32], [61, 33], [62, 34], [63, 34], [64, 35], [65, 36], [66, 37], [67, 38], [68, 39], [69, 40], [70, 41], [71, 42], [72, 43], [73, 44], [74, 45], [74, 46], [75, 47], [75, 48], [76, 49], [77, 50], [77, 51], [78, 52], [78, 53], [78, 54]]\n",
            "False 0 1 [39, 54] [39, 53] [40.857142857142854, 53.04761904761905] 0.025641025641027507 -0.5128205128205119 -39.0\n",
            "False 0 2 [40, 55] [39, 54] [40.857142857142854, 53.04761904761905] -0.5128205128205119 -2.277777777777782 -39.0\n",
            "False 0 3 [40, 56] [40, 55] [40.857142857142854, 53.04761904761905] -2.277777777777782 -3.4444444444444526 -39.0\n",
            "False 0 4 [40, 57] [40, 56] [40.857142857142854, 53.04761904761905] -3.4444444444444526 -4.611111111111123 -39.0\n",
            "False 1 5 [41, 58] [40, 57] [40.857142857142854, 53.04761904761905] -4.611111111111123 34.666666666665904 -39.0\n",
            "False 2 1 [42, 59] [41, 58] [44.57142857142857, 53.142857142857146] -1.3599999999999999 -2.2777777777777786 -39.0\n",
            "False 2 2 [42, 60] [42, 59] [44.57142857142857, 53.142857142857146] -2.2777777777777786 -2.6666666666666674 -39.0\n",
            "False 2 3 [43, 61] [42, 60] [44.57142857142857, 53.142857142857146] -2.6666666666666674 -5.000000000000004 -39.0\n",
            "False 2 4 [43, 62] [43, 61] [44.57142857142857, 53.142857142857146] -5.000000000000004 -5.636363636363642 -39.0\n",
            "False 2 5 [44, 63] [43, 62] [44.57142857142857, 53.142857142857146] -5.636363636363642 -17.250000000000057 -39.0\n",
            "False 3 6 [45, 64] [44, 63] [44.57142857142857, 53.142857142857146] -17.250000000000057 25.333333333333208 -39.0\n",
            "False 3 1 [45, 64] [44, 63] [46.42857142857143, 53.19047619047619] -4.039215686274507 -7.566666666666657 -39.0\n",
            "False 3 2 [45, 65] [45, 64] [46.42857142857143, 53.19047619047619] -7.566666666666657 -8.266666666666655 -39.0\n",
            "False 3 3 [46, 66] [45, 65] [46.42857142857143, 53.19047619047619] -8.266666666666655 -29.888888888888747 -39.0\n",
            "False 4 4 [47, 67] [46, 66] [46.42857142857143, 53.19047619047619] -29.888888888888747 24.166666666666753 -39.0\n",
            "False 4 1 [47, 67] [46, 66] [48.285714285714285, 53.23809523809524] -5.583333333333335 -10.70370370370371 -39.0\n",
            "here2\n",
            "True 5 2 [48, 68] [47, 67] [48.285714285714285, 53.23809523809524] -10.70370370370371 -51.66666666666684 -39.0\n",
            "False 5 1 [48, 68] [47, 67] [50.142857142857146, 53.285714285714285] -4.36363636363636 -6.866666666666657 -39.0\n",
            "False 5 2 [49, 69] [48, 68] [50.142857142857146, 53.285714285714285] -6.866666666666657 -13.749999999999964 -39.0\n",
            "here2\n",
            "True 6 3 [50, 69] [49, 69] [50.142857142857146, 53.285714285714285] -13.749999999999964 -109.99999999999767 -39.0\n",
            "False 6 1 [50, 69] [49, 69] [52.0001, 53.333333333333336] -5.222048153950417 -7.832941686249007 -39.0\n",
            "False 6 2 [51, 70] [50, 69] [52.0001, 53.333333333333336] -7.832941686249007 -16.665000166649943 -39.0\n",
            "here2\n",
            "True 7 3 [52, 71] [51, 70] [52.0001, 53.333333333333336] -16.665000166649943 -176666.66666080191 -39.0\n",
            "False 7 1 [52, 71] [51, 70] [53.857142857142854, 53.38095238095238] -5.8166666666666735 -9.487179487179503 -39.0\n",
            "False 7 2 [52, 72] [52, 71] [53.857142857142854, 53.38095238095238] -9.487179487179503 -10.025641025641043 -39.0\n",
            "False 7 3 [52, 73] [52, 72] [53.857142857142854, 53.38095238095238] -10.025641025641043 -10.564102564102582 -39.0\n",
            "False 7 4 [52, 74] [52, 73] [53.857142857142854, 53.38095238095238] -10.564102564102582 -11.102564102564122 -39.0\n",
            "False 7 5 [53, 75] [52, 74] [53.857142857142854, 53.38095238095238] -11.102564102564122 -25.222222222222314 -39.0\n",
            "False 7 6 [53, 76] [53, 75] [53.857142857142854, 53.38095238095238] -25.222222222222314 -26.388888888888985 -39.0\n",
            "False 7 7 [53, 77] [53, 76] [53.857142857142854, 53.38095238095238] -26.388888888888985 -27.555555555555657 -39.0\n",
            "False 7 8 [53, 78] [53, 77] [53.857142857142854, 53.38095238095238] -27.555555555555657 -28.722222222222324 -39.0\n",
            "False 8 9 [54, 79] [53, 78] [53.857142857142854, 53.38095238095238] -28.722222222222324 179.33333333332953 -39.0\n",
            "False 8 1 [54, 79] [53, 78] [55.714285714285715, 53.42857142857143] -9.052631578947365 -14.916666666666657 -39.0\n",
            "False 8 2 [54, 80] [54, 79] [55.714285714285715, 53.42857142857143] -14.916666666666657 -15.49999999999999 -39.0\n",
            "False 8 3 [54, 81] [54, 80] [55.714285714285715, 53.42857142857143] -15.49999999999999 -16.08333333333332 -39.0\n",
            "False 8 4 [54, 82] [54, 81] [55.714285714285715, 53.42857142857143] -16.08333333333332 -16.666666666666657 -39.0\n",
            "False 8 5 [54, 83] [54, 82] [55.714285714285715, 53.42857142857143] -16.666666666666657 -17.24999999999999 -39.0\n",
            "here2\n",
            "True 9 6 [55, 83] [54, 83] [55.714285714285715, 53.42857142857143] -17.24999999999999 -41.39999999999994 -39.0\n",
            "False 9 1 [55, 83] [54, 83] [57.57142857142857, 53.476190476190474] -8.266666666666671 -11.481481481481492 -39.0\n",
            "False 9 2 [56, 83] [55, 83] [57.57142857142857, 53.476190476190474] -11.481481481481492 -18.787878787878814 -39.0\n",
            "here2\n",
            "True 10 3 [57, 82] [56, 83] [57.57142857142857, 53.476190476190474] -18.787878787878814 -49.91666666666685 -39.0\n",
            "False 10 1 [57, 82] [56, 83] [59.42857142857143, 53.523809523809526] -8.597222222222216 -11.725490196078422 -39.0\n",
            "False 10 2 [58, 82] [57, 82] [59.42857142857143, 53.523809523809526] -11.725490196078422 -19.933333333333305 -39.0\n",
            "here2\n",
            "True 11 3 [59, 81] [58, 82] [59.42857142857143, 53.523809523809526] -19.933333333333305 -64.1111111111108 -39.0\n",
            "False 11 1 [59, 81] [58, 82] [61.285714285714285, 53.57142857142857] -8.652173913043482 -12.000000000000007 -39.0\n",
            "False 11 2 [60, 81] [59, 81] [61.285714285714285, 53.57142857142857] -12.000000000000007 -21.333333333333353 -39.0\n",
            "here2\n",
            "True 12 3 [61, 80] [60, 81] [61.285714285714285, 53.57142857142857] -21.333333333333353 -92.50000000000034 -39.0\n",
            "False 12 1 [61, 80] [60, 81] [63.142857142857146, 53.61904761904762] -8.712121212121204 -12.311111111111092 -39.0\n",
            "False 12 2 [62, 80] [61, 80] [63.142857142857146, 53.61904761904762] -12.311111111111092 -23.08333333333327 -39.0\n",
            "here2\n",
            "True 13 3 [63, 79] [62, 80] [63.142857142857146, 53.61904761904762] -23.08333333333327 -177.66666666666288 -39.0\n",
            "False 13 1 [63, 79] [62, 80] [65.0001, 53.666666666666664] -8.777485194937938 -12.666033364998396 -39.0\n",
            "False 13 2 [64, 79] [63, 79] [65.0001, 53.666666666666664] -12.666033364998396 -25.33080025330792 -39.0\n",
            "here2\n",
            "True 14 3 [65, 78] [64, 79] [65.0001, 53.666666666666664] -25.33080025330792 -243333.33332525552 -39.0\n",
            "False 14 1 [65, 78] [64, 79] [66.85714285714286, 53.714285714285715] -8.849999999999987 -13.076923076923048 -39.0\n",
            "False 14 2 [66, 78] [65, 78] [66.85714285714286, 53.714285714285715] -13.076923076923048 -28.333333333333197 -39.0\n",
            "False 15 3 [67, 77] [66, 78] [66.85714285714286, 53.714285714285715] -28.333333333333197 163.00000000000463 -39.0\n",
            "False 15 1 [67, 77] [66, 78] [68.71428571428571, 53.76190476190476] -8.92982456140353 -13.555555555555605 -39.0\n",
            "False 15 2 [68, 77] [67, 77] [68.71428571428571, 53.76190476190476] -13.555555555555605 -32.533333333333616 -39.0\n",
            "False 16 3 [69, 76] [68, 77] [68.71428571428571, 53.76190476190476] -32.533333333333616 77.83333333333168 -39.0\n",
            "False 16 1 [69, 76] [68, 77] [70.57142857142857, 53.80952380952381] -9.018518518518526 -14.121212121212139 -39.0\n",
            "False 16 2 [70, 76] [69, 76] [70.57142857142857, 53.80952380952381] -14.121212121212139 -38.83333333333347 -39.0\n",
            "False 17 3 [71, 75] [70, 76] [70.57142857142857, 53.80952380952381] -38.83333333333347 49.44444444444421 -39.0\n",
            "False 17 1 [71, 75] [70, 76] [72.42857142857143, 53.857142857142854] -9.117647058823524 -14.799999999999981 -39.0\n",
            "here2\n",
            "True 18 2 [72, 75] [71, 75] [72.42857142857143, 53.857142857142854] -14.799999999999981 -49.33333333333311 -39.0\n",
            "False 18 1 [72, 75] [71, 75] [74.28571428571429, 53.904761904761905] -6.420289855072451 -9.229166666666641 -39.0\n",
            "False 18 2 [73, 74] [72, 75] [74.28571428571429, 53.904761904761905] -9.229166666666641 -15.629629629629555 -39.0\n",
            "here2\n",
            "True 19 3 [74, 74] [73, 74] [74.28571428571429, 53.904761904761905] -15.629629629629555 -70.33333333333184 -39.0\n",
            "False 19 1 [74, 74] [73, 74] [76.14285714285714, 53.95238095238095] -6.378787878787888 -9.355555555555576 -39.0\n",
            "False 19 2 [75, 73] [74, 74] [76.14285714285714, 53.95238095238095] -9.355555555555576 -16.66666666666673 -39.0\n",
            "here2\n",
            "True 20 3 [76, 73] [75, 73] [76.14285714285714, 53.95238095238095] -16.66666666666673 -133.33333333333715 -39.0\n"
          ],
          "name": "stdout"
        }
      ]
    },
    {
      "cell_type": "code",
      "metadata": {
        "id": "GVJJMIzfhbj8",
        "outputId": "17737c42-2c48-45fc-b13e-e524afb01f8c",
        "colab": {
          "base_uri": "https://localhost:8080/",
          "height": 285
        }
      },
      "source": [
        "image = cv2.imread(path) \n",
        "\n",
        "height = image.shape[0]\n",
        "width = image.shape[1]\n",
        "\n",
        "\n",
        "# for point in weighted_avg:\n",
        "#   cv2.circle(image,(int(point[0]), int(point[1])), 1, (0,255,0), -1)\n",
        "  # if point[0] <50:\n",
        "  #   print(point)\n",
        "\n",
        "print(x1, y1)\n",
        "print(x2, y2)\n",
        "print(weighted_avg)\n",
        "for i in range(len(lowerInterceptAveragePoints)): \n",
        "  # cv2.circle(image,tuple(lowerInterceptAveragePoints[i]), 1, (0,255,0), -1)\n",
        "  cv2.line(image, tuple(lowerInterceptAveragePoints[i]), tuple(higherInterceptAveragePoints[i]), (255,0,0), 1)\n",
        "cv2.line(image, (x1, y1), (x2, y2), (0,0,255), 1)\n",
        "\n",
        "cv2_imshow(image)\n",
        "\n",
        "print(lowerInterceptPoints)\n",
        "print(higherInterceptPoints)\n",
        "print(weighted_avg)\n",
        "print(lowerInterceptAveragePoints)\n",
        "print(higherInterceptAveragePoints)\n",
        "# print([x1, y1])\n",
        "# print([x2, y2])\n",
        "\n",
        "cv2.waitKey(0)\n",
        "cv2.destroyAllWindows()"
      ],
      "execution_count": 118,
      "outputs": [
        {
          "output_type": "stream",
          "text": [
            "78 54\n",
            "39 53\n",
            "[[40.857142857142854, 53.04761904761905], [42.714285714285715, 53.095238095238095], [44.57142857142857, 53.142857142857146], [46.42857142857143, 53.19047619047619], [48.285714285714285, 53.23809523809524], [50.142857142857146, 53.285714285714285], [52.0001, 53.333333333333336], [53.857142857142854, 53.38095238095238], [55.714285714285715, 53.42857142857143], [57.57142857142857, 53.476190476190474], [59.42857142857143, 53.523809523809526], [61.285714285714285, 53.57142857142857], [63.142857142857146, 53.61904761904762], [65.0001, 53.666666666666664], [66.85714285714286, 53.714285714285715], [68.71428571428571, 53.76190476190476], [70.57142857142857, 53.80952380952381], [72.42857142857143, 53.857142857142854], [74.28571428571429, 53.904761904761905], [76.14285714285714, 53.95238095238095]]\n"
          ],
          "name": "stdout"
        },
        {
          "output_type": "display_data",
          "data": {
            "image/png": "[encoded data removed]",
            "text/plain": [
              "<PIL.Image.Image image mode=RGB size=112x112 at 0x7F4E78AE7E80>"
            ]
          },
          "metadata": {
            "tags": []
          }
        },
        {
          "output_type": "stream",
          "text": [
            "[[39, 53], [39, 54], [40, 55], [40, 56], [40, 57], [41, 58], [42, 59], [42, 60], [43, 61], [43, 62], [44, 63], [45, 64], [45, 65], [46, 66], [47, 67], [48, 68], [49, 69], [50, 69], [51, 70], [52, 71], [52, 72], [52, 73], [52, 74], [53, 75], [53, 76], [53, 77], [53, 78], [54, 79], [54, 80], [54, 81], [54, 82], [54, 83], [55, 83], [56, 83], [57, 82], [58, 82], [59, 81], [60, 81], [61, 80], [62, 80], [63, 79], [64, 79], [65, 78], [66, 78], [67, 77], [68, 77], [69, 76], [70, 76], [71, 75], [72, 75], [73, 74], [74, 74], [75, 73], [76, 73], [77, 72], [78, 72], [79, 71], [80, 70], [81, 70], [82, 69], [83, 68], [84, 68], [85, 67], [85, 66], [85, 65], [84, 64], [84, 63], [84, 62], [83, 61], [82, 60], [81, 59], [81, 58], [81, 57], [80, 56], [79, 55]]\n",
            "[[78, 54], [78, 53], [78, 52], [77, 51], [77, 50], [76, 49], [75, 48], [75, 47], [74, 46], [74, 45], [73, 44], [72, 43], [71, 42], [70, 41], [69, 40], [68, 39], [67, 38], [66, 37], [65, 36], [64, 35], [63, 34], [62, 34], [61, 33], [60, 32], [59, 32], [58, 31], [57, 31], [56, 31], [55, 31], [54, 30], [53, 30], [52, 30], [51, 30], [50, 29], [49, 29], [48, 29], [47, 28], [46, 28], [45, 28], [44, 28], [43, 28], [42, 28], [41, 29], [40, 29], [40, 30], [40, 31], [40, 32], [39, 33], [39, 34], [39, 35], [39, 36], [38, 37], [38, 38], [38, 39], [38, 40], [38, 41], [38, 42], [38, 43], [38, 44], [38, 45], [38, 46], [38, 47], [38, 48], [38, 49], [38, 50], [38, 51], [38, 52]]\n",
            "[[40.857142857142854, 53.04761904761905], [42.714285714285715, 53.095238095238095], [44.57142857142857, 53.142857142857146], [46.42857142857143, 53.19047619047619], [48.285714285714285, 53.23809523809524], [50.142857142857146, 53.285714285714285], [52.0001, 53.333333333333336], [53.857142857142854, 53.38095238095238], [55.714285714285715, 53.42857142857143], [57.57142857142857, 53.476190476190474], [59.42857142857143, 53.523809523809526], [61.285714285714285, 53.57142857142857], [63.142857142857146, 53.61904761904762], [65.0001, 53.666666666666664], [66.85714285714286, 53.714285714285715], [68.71428571428571, 53.76190476190476], [70.57142857142857, 53.80952380952381], [72.42857142857143, 53.857142857142854], [74.28571428571429, 53.904761904761905], [76.14285714285714, 53.95238095238095]]\n",
            "[[41, 58], [45, 64], [47, 67], [48, 68], [50, 69], [52, 71], [54, 79], [79, 55], [55, 83], [57, 82], [59, 81], [61, 80], [63, 79], [65, 78], [67, 77], [69, 76], [71, 75], [72, 75], [74, 74], [76, 73]]\n",
            "[[41, 29], [45, 28], [47, 28], [49, 29], [51, 30], [53, 30], [54, 30], [56, 31], [58, 31], [60, 32], [62, 34], [64, 35], [66, 37], [67, 38], [69, 40], [71, 42], [73, 44], [75, 47], [77, 50], [78, 54]]\n"
          ],
          "name": "stdout"
        }
      ]
    },
    {
      "cell_type": "markdown",
      "metadata": {
        "id": "lZ4W1B_vZwrf"
      },
      "source": [
        "# Split points into 2"
      ]
    },
    {
      "cell_type": "code",
      "metadata": {
        "id": "NUEyVIWLfWl2"
      },
      "source": [
        "# def findCorrespondingMaskPoints(weighted_avg, lowerIntercept, higherIntercept, x1, y1, x2, y2, slope, i):\n",
        "#   # Calculate perpendicular slope\n",
        "#   try:\n",
        "#     perp_slope = -1/slope\n",
        "#   except:\n",
        "#     perp_slope = 10000\n",
        "\n",
        "#   # Indexing\n",
        "#   lowerIndex = 0\n",
        "#   higherIndex = 0\n",
        "\n",
        "#   # Make sure its from top to bottom direction\n",
        "#   if (weighted_avg[-1][0] + weighted_avg[-1][1]) < (weighted_avg[0][0] + weighted_avg[0][1]):\n",
        "#     weighted_avg = weighted_avg[::-1]\n",
        "\n",
        "#   # Make sure its from top to bottom direction\n",
        "#   if getDistance(weighted_avg[0], higherIntercept[0]) > getDistance(weighted_avg[0], higherIntercept[-1]):\n",
        "#       higherIntercept = higherIntercept[::-1]\n",
        "\n",
        "#   # Make sure its from top to bottom direction\n",
        "#   if getDistance(weighted_avg[0], lowerIntercept[0]) > getDistance(weighted_avg[0], lowerIntercept[-1]):\n",
        "#       lowerIntercept = lowerIntercept[::-1]\n",
        "\n",
        "#   higherInterceptAveragePoints = []\n",
        "#   lowerInterceptAveragePoints = []\n",
        "\n",
        "#   for averagePoint in weighted_avg:\n",
        "#     try:\n",
        "#       condition = True\n",
        "#       count = 0\n",
        "#       while condition:\n",
        "#         point = higherIntercept[higherIndex]\n",
        "#         if higherIndex == 0:\n",
        "#           prev_point =  [x1, y1] if getDistance(point, [x1, y1]) < getDistance(point, [x2, y2]) else [x2, y2]\n",
        "#           start_point = prev_point[:]\n",
        "#         else:\n",
        "#           prev_point = higherIntercept[higherIndex-1]\n",
        "        \n",
        "#         new_slope = getSlope(point, averagePoint)\n",
        "#         prev_slope =  getSlope(prev_point, averagePoint)\n",
        "#         betweenCond = ((point[0] < averagePoint[0] and prev_point[0] > averagePoint[0]) or (point[0] > averagePoint[0] and prev_point[0] < averagePoint[0])) and abs(new_slope) > abs(slope) and abs(prev_slope) > abs(slope)\n",
        "#         slopeCond = (new_slope >= perp_slope and prev_slope<=perp_slope) or  (new_slope <= perp_slope and prev_slope>=perp_slope)\n",
        "\n",
        "#         if slopeCond and not betweenCond:\n",
        "#           higherInterceptAveragePoints.append(point)\n",
        "#           condition = False\n",
        "#         elif abs(perp_slope) >= 10 and ((new_slope > 0 and prev_slope < 0) or (new_slope < 0 and prev_slope > 0)):\n",
        "#           higherInterceptAveragePoints.append(point)\n",
        "#           condition = False\n",
        "#         elif count > len(higherIntercept)/2:\n",
        "#           higherIndex -= count\n",
        "#           if higherIndex == 0:\n",
        "#             higherInterceptAveragePoints.append(start_point)\n",
        "#           else:\n",
        "#             higherInterceptAveragePoints.append(higherIntercept[higherIndex])\n",
        "#           condition = False\n",
        "        \n",
        "#         count += 1\n",
        "#         higherIndex += 1\n",
        "#     except:\n",
        "#       higherInterceptAveragePoints.append(higherIntercept[higherIndex - 1])\n",
        "\n",
        "#   for averagePoint in weighted_avg:\n",
        "#     try:\n",
        "#       condition = True\n",
        "#       count = 0\n",
        "#       while condition:\n",
        "#         point = lowerIntercept[lowerIndex]\n",
        "#         if lowerIndex == 0:\n",
        "#           prev_point = [x1, y1] if getDistance(point, [x1, y1]) < getDistance(point, [x2, y2]) else [x2, y2]\n",
        "#           start_point = prev_point[:]\n",
        "#         else:\n",
        "#           prev_point = lowerIntercept[lowerIndex-1]\n",
        "\n",
        "#         new_slope = getSlope(point, averagePoint)\n",
        "#         prev_slope =  getSlope(prev_point, averagePoint)\n",
        "#         betweenCond = ((point[0] < averagePoint[0] and prev_point[0] > averagePoint[0]) or (point[0] > averagePoint[0] and prev_point[0] < averagePoint[0])) and abs(new_slope) > abs(slope) and abs(prev_slope) > abs(slope)\n",
        "#         slopeCond = (new_slope >= perp_slope and prev_slope<=perp_slope) or  (new_slope <= perp_slope and prev_slope>=perp_slope)\n",
        "\n",
        "#         if slopeCond and not betweenCond:\n",
        "#           lowerInterceptAveragePoints.append(point)\n",
        "#           condition = False\n",
        "#         elif abs(perp_slope) > 10 and ((new_slope > 0 and prev_slope < 0) or (new_slope < 0 and prev_slope > 0)):\n",
        "#           lowerInterceptAveragePoints.append(point)\n",
        "#           condition = False\n",
        "#         elif count > len(lowerIntercept)/2:\n",
        "#           lowerIndex -= count\n",
        "#           if lowerIndex == 0:\n",
        "#             lowerInterceptAveragePoints.append(start_point)\n",
        "#           else:\n",
        "#             lowerInterceptAveragePoints.append(lowerIntercept[lowerIndex])\n",
        "#           condition = False\n",
        "        \n",
        "#         count += 1\n",
        "#         lowerIndex += 1\n",
        "#     except:\n",
        "#       lowerInterceptAveragePoints.append(lowerIntercept[lowerIndex - 1])\n",
        "  \n",
        "#   if i == 30:\n",
        "#       print(higherIntercept)\n",
        "#       print(lowerIntercept)\n",
        "#       print(weighted_avg)\n",
        "#       print(lowerInterceptAveragePoints)\n",
        "#       print(higherInterceptAveragePoints)\n",
        "#   return (lowerInterceptAveragePoints, higherInterceptAveragePoints)\n",
        "\n",
        "#  \\\n"
      ],
      "execution_count": null,
      "outputs": []
    },
    {
      "cell_type": "code",
      "metadata": {
        "id": "Ko8MIoVRy2Wy"
      },
      "source": [
        "# i = 30\n",
        "\n",
        "# x1, y1 = lowerIntercept[i]\n",
        "# x2, y2 = higherIntercept[i]\n",
        "\n",
        "# print(x1, y1, x2, y2)\n",
        "\n",
        "# slope = getSlope([x1, y1], [x2, y2])\n",
        "\n",
        "# p1Index = points.index([x1, y1])\n",
        "# p2Index = points.index([x2, y2])\n",
        "\n",
        "# lowerIndex = min(p1Index, p2Index)\n",
        "# higherIndex = max(p1Index, p2Index)\n",
        "\n",
        "# higherInterceptPoints = points[lowerIndex:higherIndex]\n",
        "# lowerInterceptPoints = points[higherIndex:] + points[:lowerIndex]\n",
        "\n",
        "# if (higherInterceptPoints[0][0] + higherInterceptPoints[0][1]) < (lowerInterceptPoints[0][0] + lowerInterceptPoints[0][1]):\n",
        "#   lowerInterceptPoints, higherInterceptPoints = higherInterceptPoints, lowerInterceptPoints\n",
        "\n",
        "# weighted_avg = getWeightedAveragePoints(x1, y1, x2, y2, 20)\n",
        "# lowerInterceptAveragePoints, higherInterceptAveragePoints = findCorrespondingMaskPoints(weighted_avg, lowerInterceptPoints, higherInterceptPoints, x1, y1, x2, y2, slope, i)"
      ],
      "execution_count": null,
      "outputs": []
    },
    {
      "cell_type": "code",
      "metadata": {
        "id": "CqWLH5PHNHT5",
        "outputId": "694a1135-fc85-4c78-ff42-91c7fe220467",
        "colab": {
          "base_uri": "https://localhost:8080/",
          "height": 200
        }
      },
      "source": [
        "image = cv2.imread(path) \n",
        "\n",
        "height = image.shape[0]\n",
        "width = image.shape[1]\n",
        "\n",
        "\n",
        "# for point in weighted_avg:\n",
        "#   cv2.circle(image,(int(point[0]), int(point[1])), 1, (0,255,0), -1)\n",
        "  # if point[0] <50:\n",
        "  #   print(point)\n",
        "\n",
        "print(x1, y1)\n",
        "print(x2, y2)\n",
        "print(weighted_avg)\n",
        "for i in range(len(lowerInterceptAveragePoints)): \n",
        "  # cv2.circle(image,tuple(lowerInterceptAveragePoints[i]), 1, (0,255,0), -1)\n",
        "  cv2.line(image, tuple(lowerInterceptAveragePoints[i]), tuple(higherInterceptAveragePoints[i]), (255,0,0), 1)\n",
        "cv2.line(image, (x1, y1), (x2, y2), (0,0,255), 1)\n",
        "\n",
        "cv2_imshow(image)\n",
        "\n",
        "\n",
        "# print(lowerInterceptAveragePoints)\n",
        "# print(higherInterceptAveragePoints)\n",
        "# print([x1, y1])\n",
        "# print([x2, y2])\n",
        "\n",
        "cv2.waitKey(0)\n",
        "cv2.destroyAllWindows()"
      ],
      "execution_count": null,
      "outputs": [
        {
          "output_type": "stream",
          "text": [
            "80 56\n",
            "38 51\n",
            "[[40.0001, 51.23809523809524], [42.0001, 51.476190476190474], [44.0001, 51.714285714285715], [46.0001, 51.95238095238095], [48.0001, 52.19047619047619], [50.0001, 52.42857142857143], [52.0001, 52.666666666666664], [54.0001, 52.904761904761905], [56.0001, 53.142857142857146], [58.0001, 53.38095238095238], [60.0001, 53.61904761904762], [62.0001, 53.857142857142854], [64.0001, 54.095238095238095], [66.0001, 54.333333333333336], [68.0001, 54.57142857142857], [70.0001, 54.80952380952381], [72.0001, 55.04761904761905], [74.0001, 55.285714285714285], [76.0001, 55.523809523809526], [78.0001, 55.76190476190476]]\n"
          ],
          "name": "stdout"
        },
        {
          "output_type": "display_data",
          "data": {
            "image/png": "[encoded data removed]",
            "text/plain": [
              "<PIL.Image.Image image mode=RGB size=112x112 at 0x7F4E80A91C18>"
            ]
          },
          "metadata": {
            "tags": []
          }
        }
      ]
    },
    {
      "cell_type": "markdown",
      "metadata": {
        "id": "p95B-xh3cdJb"
      },
      "source": [
        "# Method of Disks"
      ]
    },
    {
      "cell_type": "code",
      "metadata": {
        "id": "b2vJeSdDDbDf",
        "outputId": "f7320f55-9363-4064-8694-8da5a55c5a9e",
        "colab": {
          "base_uri": "https://localhost:8080/",
          "height": 34
        }
      },
      "source": [
        "distance = getDistance([x1, y1], [x2, y2])\n",
        "parallelSeperationDistance = distance/21\n",
        "\n",
        "volume = 0\n",
        "\n",
        "for i in range(len(lowerInterceptAveragePoints)):\n",
        "  diameter = getDistance(lowerInterceptAveragePoints[i], higherInterceptAveragePoints[i])\n",
        "  radius = diameter/2\n",
        "  diskVolume = math.pi * radius**2 * parallelSeperationDistance\n",
        "  volume += diskVolume\n",
        "\n",
        "print(volume)"
      ],
      "execution_count": null,
      "outputs": [
        {
          "output_type": "stream",
          "text": [
            "41731.78976435809\n"
          ],
          "name": "stdout"
        }
      ]
    },
    {
      "cell_type": "markdown",
      "metadata": {
        "id": "P88Fd5CfaE2q"
      },
      "source": [
        "# Prolate Ellipsoid Model (Single Ellipsoid Method)"
      ]
    },
    {
      "cell_type": "code",
      "metadata": {
        "id": "ywdPFF4oaUbJ",
        "outputId": "88ce71e2-827d-46f0-f6d7-c1b5f9e5b810",
        "colab": {
          "base_uri": "https://localhost:8080/",
          "height": 34
        }
      },
      "source": [
        "long_axis_length = getDistance([x1, y1], [x2, y2])\n",
        "parallelSeperationDistance = distance/21\n",
        "\n",
        "# Manual Area Calc\n",
        "area = 0\n",
        "\n",
        "for i in range(len(lowerInterceptAveragePoints)):\n",
        "  length = getDistance(lowerInterceptAveragePoints[i], higherInterceptAveragePoints[i])\n",
        "  diskArea = length * parallelSeperationDistance\n",
        "  area += diskArea\n",
        "\n",
        "volume = 0.85 * area * long_axis_length\n",
        "\n",
        "print(volume)"
      ],
      "execution_count": null,
      "outputs": [
        {
          "output_type": "stream",
          "text": [
            "49730.174047767265\n"
          ],
          "name": "stdout"
        }
      ]
    },
    {
      "cell_type": "markdown",
      "metadata": {
        "id": "ic0RMEAWgNPE"
      },
      "source": [
        "# Prolate Ellipsoid Model (Biplane Area Length)"
      ]
    },
    {
      "cell_type": "code",
      "metadata": {
        "id": "47DUD_2BiBkz",
        "outputId": "7c83483c-9c99-48e6-89fa-b45fa5db3853",
        "colab": {
          "base_uri": "https://localhost:8080/",
          "height": 34
        }
      },
      "source": [
        "# Long axis Length\n",
        "long_axis_length = getDistance([x1, y1], [x2, y2])\n",
        "\n",
        "# Storing all perp lens\n",
        "lengthArr = []\n",
        "\n",
        "for i in range(len(lowerInterceptAveragePoints)):\n",
        "  length = getDistance(lowerInterceptAveragePoints[i], higherInterceptAveragePoints[i])\n",
        "  lengthArr.append(length)\n",
        "\n",
        "# 3 diff heuristics\n",
        "averageLength = sum(lengthArr)/len(lengthArr)\n",
        "maxLength = max(lengthArr)\n",
        "midLength = lengthArr[len(lengthArr)//2]\n",
        "\n",
        "# Volume Calc\n",
        "volume = math.pi/6 * midLength**2 * long_axis_length\n",
        "\n",
        "print(volume)"
      ],
      "execution_count": null,
      "outputs": [
        {
          "output_type": "stream",
          "text": [
            "51822.65390547633\n"
          ],
          "name": "stdout"
        }
      ]
    },
    {
      "cell_type": "markdown",
      "metadata": {
        "id": "ggihUplhmqGW"
      },
      "source": [
        "# Bullet Method\n"
      ]
    },
    {
      "cell_type": "code",
      "metadata": {
        "id": "jGp5CslBoBix",
        "outputId": "13fcc13f-cfee-4f0d-aba5-7cc303404427",
        "colab": {
          "base_uri": "https://localhost:8080/",
          "height": 34
        }
      },
      "source": [
        "# Long axis Length\n",
        "long_axis_length = getDistance([x1, y1], [x2, y2])\n",
        "\n",
        "# Mid Values\n",
        "midIndex = len(lengthArr)//2\n",
        "midLength = getDistance(lowerInterceptAveragePoints[midIndex], higherInterceptAveragePoints[midIndex])\n",
        "\n",
        "area = math.pi * (midLength/2)**2 \n",
        "\n",
        "# Volume Calc\n",
        "volume = 5/6 * area * long_axis_length\n",
        "\n",
        "print(volume)"
      ],
      "execution_count": null,
      "outputs": [
        {
          "output_type": "stream",
          "text": [
            "64778.31738184541\n"
          ],
          "name": "stdout"
        }
      ]
    },
    {
      "cell_type": "markdown",
      "metadata": {
        "id": "P0EE97ftjXzZ"
      },
      "source": [
        "# Will become local file\n"
      ]
    },
    {
      "cell_type": "code",
      "metadata": {
        "id": "qCNVzuPxwodU",
        "outputId": "16781daf-8650-43ef-fefd-069d9c584362",
        "colab": {
          "base_uri": "https://localhost:8080/",
          "height": 1000
        }
      },
      "source": [
        "import cv2\n",
        "import numpy as np\n",
        "import math\n",
        "import os\n",
        "\n",
        "# Gets all the contours for certain image\n",
        "def obtainContourPoints(path):\n",
        "  # read image\n",
        "  img = cv2.imread(path)\n",
        "  rgb = cv2.cvtColor(img, cv2.COLOR_BGR2RGB)\n",
        "\n",
        "  # set lower and upper bounds on blue color\n",
        "  lower = (200,200,200)\n",
        "  upper = (255,255,255)\n",
        "\n",
        "  # threshold and invert so hexagon is white on black background\n",
        "  thresh = cv2.inRange(rgb, lower, upper)\n",
        "\n",
        "  # get contours\n",
        "  result = np.zeros_like(thresh)\n",
        "  contours = cv2.findContours(thresh, cv2.RETR_EXTERNAL, cv2.CHAIN_APPROX_NONE)\n",
        "  contours = contours[0] if len(contours) == 2 else contours[1]\n",
        "\n",
        "  # Gets all contour points\n",
        "  points = []\n",
        "  for pt in contours:\n",
        "      for i in pt:\n",
        "        for coord in i:\n",
        "          points.append(coord.tolist())\n",
        "  \n",
        "  return points\n",
        "\n",
        "def getIdealPointGroup(points):\n",
        "  pointGroups = []\n",
        "  index = 0\n",
        "  subgroup = [points[0]]\n",
        "\n",
        "  for i in range(len(points) - 1):\n",
        "    prevPoint = points[i]\n",
        "    currentPoint = points[i+1]\n",
        "\n",
        "    if (abs(int(prevPoint[0])-int(currentPoint[0])) <= 1) and (abs(int(prevPoint[1])-int(currentPoint[1])) <= 1):\n",
        "      subgroup.append(currentPoint)\n",
        "    else:\n",
        "      pointGroups.append(subgroup[:])\n",
        "      subgroup = [currentPoint]\n",
        "\n",
        "  pointGroups.append(subgroup)\n",
        "\n",
        "  mainPointGroup = []\n",
        "  maxPointGroupSize = 0\n",
        "\n",
        "  for group in pointGroups:\n",
        "    if len(group) > maxPointGroupSize:\n",
        "      maxPointGroup = group\n",
        "      maxPointGroupSize = len(group)\n",
        "\n",
        "  return maxPointGroup\n",
        "\n",
        "# Finds points for main contour line\n",
        "def getTopAndBottomCoords(points):\n",
        "  # Minimum and Maximum Y Coord\n",
        "  maxY = max(points, key = lambda point: point[1])\n",
        "  minY = min(points, key = lambda point: point[1])\n",
        "\n",
        "  # MinY and MaxY With the limits\n",
        "  minYWith5 = minY[1] + 5\n",
        "  maxYWithout5 = maxY[1] - 15\n",
        "\n",
        "  # Creating these arrays\n",
        "  minYWith5Arr = []\n",
        "  maxYWithout5Arr = []\n",
        "\n",
        "  # Finding these points\n",
        "  for point in points:\n",
        "    if point[1] == minYWith5:\n",
        "      minYWith5Arr.append(point)\n",
        "    if point[1] == maxYWithout5:\n",
        "      maxYWithout5Arr.append(point)\n",
        "\n",
        "  # Average X Coordinates\n",
        "  averageTopX = round((minYWith5Arr[0][0] + minYWith5Arr[-1][0])/2)\n",
        "  averageBottomX = round((maxYWithout5Arr[0][0] + maxYWithout5Arr[-1][0])/2)\n",
        "  slope = getSlope([averageTopX, minYWith5], [averageBottomX, maxYWithout5])\n",
        "\n",
        "  averageTopX -= round((minYWith5Arr[-1][0] - minYWith5Arr[0][0])/1.5/slope)\n",
        "  averageBottomX += round((maxYWithout5Arr[-1][0] - maxYWithout5Arr[0][0])/3/slope)\n",
        "\n",
        "\n",
        "  # Creating these arrays\n",
        "  averageTopXArr = []\n",
        "  averageBottomXArr = []\n",
        "\n",
        "  # Finding these points\n",
        "  condition = True\n",
        "  if slope > 0:\n",
        "    while condition and averageTopX <= minYWith5Arr[-1][0] and averageBottomX >= maxYWithout5Arr[0][0]:\n",
        "      for point in points:\n",
        "        if point[0] == averageTopX:\n",
        "          averageTopXArr.append(point)\n",
        "        if point[0] == averageBottomX:\n",
        "          averageBottomXArr.append(point)\n",
        "      if len(averageTopXArr) > 0 and len(averageBottomXArr):\n",
        "        condition = False\n",
        "      if len(averageTopXArr) == 0:\n",
        "        averageTopX += 1\n",
        "      if len(averageBottomXArr) == 0:\n",
        "        averageBottomXArr -= 1\n",
        "  else:\n",
        "    while condition and averageTopX >= minYWith5Arr[0][0] and averageBottomX <= maxYWithout5Arr[-1][0]:\n",
        "      for point in points:\n",
        "        if point[0] == averageTopX:\n",
        "          averageTopXArr.append(point)\n",
        "        if point[0] == averageBottomX:\n",
        "          averageBottomXArr.append(point)\n",
        "      if len(averageTopXArr) > 0 and len(averageBottomXArr):\n",
        "        condition = False\n",
        "      if len(averageTopXArr) == 0:\n",
        "        averageTopX -= 1\n",
        "      if len(averageBottomXArr) == 0:\n",
        "        averageBottomXArr += 1\n",
        "\n",
        "  # Sorting Arrs\n",
        "  averageTopXArr.sort(key=lambda point: point[1])\n",
        "  averageBottomXArr.sort(key=lambda point: point[1])\n",
        "  averageBottomXArr.reverse()\n",
        "\n",
        "\n",
        "  # Finding Min Top and Max Botpp,\n",
        "  TopCoord = averageTopXArr[0]\n",
        "  BottomCoord = averageBottomXArr[0]\n",
        "\n",
        "  x1, y1 = TopCoord\n",
        "  x2, y2 = BottomCoord\n",
        "\n",
        "  return (x1, y1, x2, y2)\n",
        "\n",
        "\n",
        "# Create the 20 equally spaced points\n",
        "def getWeightedAveragePoints(x1, y1, x2, y2, number):\n",
        "  weighted_avg = []\n",
        "\n",
        "  for n in range(1, number+1, 1):\n",
        "    x_perpendicular = (((n*x1)+(number+1-n)*(x2))/(number+1))\n",
        "    y_perpendicular = (((n*y1)+(number+1-n)*(y2))/(number+1))\n",
        "    weighted_avg.append([x_perpendicular, y_perpendicular])\n",
        "\n",
        "  for pair in weighted_avg:\n",
        "    x, y = pair\n",
        "    if x == int(x):\n",
        "      pair[0] += 0.0001\n",
        "    if y == int(y):\n",
        "      pair[1] += 0.0001\n",
        "\n",
        "  return weighted_avg\n",
        "\n",
        "# Intercept slope\n",
        "def calcExpectedIntercept(x, y, slope):\n",
        "  return slope*x - y\n",
        "\n",
        "def splitPoints(x1, y1, x2, y2, slope, points):\n",
        "  p1Index = points.index([x1, y1])\n",
        "  p2Index = points.index([x2, y2])\n",
        "\n",
        "  lowerIndex = min(p1Index, p2Index)\n",
        "  higherIndex = max(p1Index, p2Index)\n",
        "\n",
        "  higherIntercept = points[lowerIndex:higherIndex]\n",
        "  lowerIntercept = points[higherIndex:] + points[:lowerIndex]\n",
        "\n",
        "  return (lowerIntercept, higherIntercept)\n",
        "\n",
        "# Distance Between 2 Pointss\n",
        "def getDistance(point1, point2):\n",
        "  return math.sqrt((point1[0]-point2[0])**2 + (point1[1]-point2[1])**2)\n",
        "\n",
        "# Slope between points \n",
        "def getSlope(point1, point2):\n",
        "  if ((point1[0] == point2[0])):\n",
        "    return -333\n",
        "  return (point1[1] - point2[1])/(point1[0] - point2[0])\n",
        "\n",
        "# Change to Method of Disks\n",
        "def volumeMethodOfDisks(x1, y1, x2, y2, number, lowerInterceptAveragePoints, higherInterceptAveragePoints):\n",
        "  # Long axis length and perp initialzation\n",
        "  distance = getDistance([x1, y1], [x2, y2])\n",
        "  parallelSeperationDistance = distance/(number + 1)\n",
        "\n",
        "  # Simpson Volume Methods\n",
        "  volume = 0\n",
        "\n",
        "  for i in range(len(lowerInterceptAveragePoints)):\n",
        "    diameter = getDistance(lowerInterceptAveragePoints[i], higherInterceptAveragePoints[i])\n",
        "    radius = diameter/2\n",
        "    diskVolume = math.pi * radius**2 * parallelSeperationDistance\n",
        "    volume += diskVolume\n",
        "\n",
        "  return volume\n",
        "\n",
        "# Prolate Ellipsoid Method\n",
        "def volumeProlateEllipsoidMethod(x1, y1, x2, y2, lowerInterceptAveragePoints, higherInterceptAveragePoints):\n",
        "  long_axis_length = getDistance([x1, y1], [x2, y2])\n",
        "  parallelSeperationDistance = long_axis_length/21\n",
        "\n",
        "  # Manual Area Calc\n",
        "  area = 0\n",
        "\n",
        "  for i in range(len(lowerInterceptAveragePoints)):\n",
        "    length = getDistance(lowerInterceptAveragePoints[i], higherInterceptAveragePoints[i])\n",
        "    diskArea = length * parallelSeperationDistance\n",
        "    area += diskArea\n",
        "\n",
        "  volume = 0.85 * area * long_axis_length\n",
        "\n",
        "  return volume\n",
        "\n",
        "# Bullet Method Calculation\n",
        "def volumeBulletMethod(x1, y1, x2, y2, lowerInterceptAveragePoints, higherInterceptAveragePoints):\n",
        "  # Long axis Length\n",
        "  long_axis_length = getDistance([x1, y1], [x2, y2])\n",
        "\n",
        "  # Storing all perp lens\n",
        "  lengthArr = []\n",
        "\n",
        "  for i in range(len(lowerInterceptAveragePoints)):\n",
        "    length = getDistance(lowerInterceptAveragePoints[i], higherInterceptAveragePoints[i])\n",
        "    lengthArr.append(length)\n",
        "\n",
        "  midIndex = len(lengthArr)//2\n",
        "  midLength = getDistance(lowerInterceptAveragePoints[midIndex], higherInterceptAveragePoints[midIndex])\n",
        "\n",
        "  area = math.pi * (midLength/2)**2 \n",
        "\n",
        "  # Volume Calc\n",
        "  volume = 5/6 * area * long_axis_length\n",
        "\n",
        "  return volume\n",
        "\n",
        "def findCorrespondingMaskPoints(weighted_avg, lowerIntercept, higherIntercept, x1, y1, x2, y2, slope, i):\n",
        "  # Calculate perpendicular slope\n",
        "  try:\n",
        "    perp_slope = -1/slope\n",
        "  except:\n",
        "    perp_slope = 10000\n",
        "\n",
        "  # Indexing\n",
        "  lowerIndex = 0\n",
        "  higherIndex = 0\n",
        "\n",
        "  # Make sure its from top to bottom direction\n",
        "  if (weighted_avg[-1][0] + weighted_avg[-1][1]) < (weighted_avg[0][0] + weighted_avg[0][1]):\n",
        "    weighted_avg = weighted_avg[::-1]\n",
        "\n",
        "  # Make sure its from top to bottom direction\n",
        "  if getDistance(weighted_avg[0], higherIntercept[0]) > getDistance(weighted_avg[0], higherIntercept[-1]):\n",
        "      higherIntercept = higherIntercept[::-1]\n",
        "  \n",
        "\n",
        "  # Make sure its from top to bottom direction\n",
        "  if getDistance(weighted_avg[0], lowerIntercept[0]) > getDistance(weighted_avg[0], lowerIntercept[-1]):\n",
        "      lowerIntercept = lowerIntercept[::-1]\n",
        "\n",
        "  higherInterceptAveragePoints = []\n",
        "  lowerInterceptAveragePoints = []\n",
        "\n",
        "  for averagePoint in weighted_avg:\n",
        "    try:\n",
        "      condition = True\n",
        "      count = 0\n",
        "      while condition:\n",
        "        higherIndex = max(higherIndex, 1)\n",
        "        point = higherIntercept[higherIndex]\n",
        "        if higherIndex == 0:\n",
        "          prev_point =  [x1, y1] if getDistance(point, [x1, y1]) < getDistance(point, [x2, y2]) else [x2, y2]\n",
        "          start_point = prev_point[:]\n",
        "        else:\n",
        "          prev_point = higherIntercept[higherIndex-1]\n",
        "        \n",
        "        new_slope = getSlope(point, averagePoint)\n",
        "        prev_slope =  getSlope(prev_point, averagePoint)\n",
        "        betweenCond = ((point[0] < averagePoint[0] and prev_point[0] > averagePoint[0]) or (point[0] > averagePoint[0] and prev_point[0] < averagePoint[0])) and abs(new_slope) > abs(slope) and abs(prev_slope) > abs(slope)\n",
        "        slopeCond = (new_slope >= perp_slope and prev_slope<=perp_slope) or  (new_slope <= perp_slope and prev_slope>=perp_slope)\n",
        "\n",
        "        count += 1\n",
        "        higherIndex += 1\n",
        "\n",
        "        if perp_slope == 10000:\n",
        "          if (point[0] < averagePoint[0] and prev_point[0] > averagePoint[0]) or (point[0] > averagePoint[0] and prev_point[0] < averagePoint[0]):\n",
        "            higherInterceptAveragePoints.append(point)\n",
        "            condition = False\n",
        "            higherIndex -= 1\n",
        "        elif not (len(higherInterceptAveragePoints)>0 and higherInterceptAveragePoints[0] == point and point == start_point):\n",
        "          if slopeCond and not betweenCond:\n",
        "            higherInterceptAveragePoints.append(point)\n",
        "            condition = False\n",
        "            higherIndex -= 1\n",
        "          elif abs(perp_slope) >= 6 and ((new_slope > 1.1*abs(slope) and prev_slope < -1.1*abs(slope)) or (new_slope < -1.1*abs(slope) and prev_slope > 1.1*abs(slope))):\n",
        "            higherInterceptAveragePoints.append(point)\n",
        "            condition = False\n",
        "            higherIndex -= 1\n",
        "          elif count >= len(higherIntercept)-1:\n",
        "            higherIndex -= count\n",
        "            if higherIndex == 0:\n",
        "              higherInterceptAveragePoints.append(start_point)\n",
        "            else:\n",
        "              higherInterceptAveragePoints.append(higherIntercept[higherIndex])\n",
        "            condition = False\n",
        "            higherIndex -= 1\n",
        "\n",
        "    except:\n",
        "      higherInterceptAveragePoints.append(higherIntercept[-1])\n",
        "  \n",
        "  for averagePoint in weighted_avg:\n",
        "    try:\n",
        "      condition = True\n",
        "      count = 0\n",
        "      while condition:\n",
        "        lowerIndex = max(lowerIndex, 1)\n",
        "        point = lowerIntercept[lowerIndex]\n",
        "\n",
        "        if lowerIndex == 0:\n",
        "          prev_point =  [x1, y1] if getDistance(point, [x1, y1]) < getDistance(point, [x2, y2]) else [x2, y2]\n",
        "          start_point = prev_point[:]\n",
        "        else:\n",
        "          prev_point = lowerIntercept[lowerIndex-1]\n",
        "\n",
        "\n",
        "        new_slope = getSlope(point, averagePoint)\n",
        "        prev_slope =  getSlope(prev_point, averagePoint)\n",
        "        betweenCond = ((point[0] < averagePoint[0] and prev_point[0] > averagePoint[0]) or (point[0] > averagePoint[0] and prev_point[0] < averagePoint[0])) and abs(new_slope) > abs(slope) and abs(prev_slope) > abs(slope)\n",
        "        slopeCond = (new_slope >= perp_slope and prev_slope<=perp_slope) or  (new_slope <= perp_slope and prev_slope>=perp_slope)\n",
        "\n",
        "        count += 1\n",
        "        lowerIndex += 1\n",
        "\n",
        "        if perp_slope == 10000:\n",
        "          if ((point[0] < averagePoint[0] and prev_point[0] > averagePoint[0]) or (point[0] > averagePoint[0] and prev_point[0] < averagePoint[0])):            \n",
        "            lowerInterceptAveragePoints.append(point)\n",
        "            condition = False\n",
        "            lowerIndex -= 1\n",
        "        elif not (len(lowerInterceptAveragePoints)>0 and lowerInterceptAveragePoints[0] == point and point == start_point):\n",
        "          if slopeCond and not betweenCond:\n",
        "            lowerInterceptAveragePoints.append(point)\n",
        "            condition = False\n",
        "            lowerIndex -= 1\n",
        "          elif (abs(perp_slope) > 6) and ((new_slope > 1.1*abs(slope) and prev_slope < -1.1*abs(slope)) or (new_slope < -1.1*abs(slope) and prev_slope > 1.1*abs(slope))):\n",
        "            lowerInterceptAveragePoints.append(point)\n",
        "            condition = False\n",
        "            lowerIndex -= 1\n",
        "          elif count >= len(lowerIntercept)-1:\n",
        "            lowerIndex -= count\n",
        "            if lowerIndex == 0:\n",
        "              lowerInterceptAveragePoints.append(start_point)\n",
        "            else:\n",
        "              lowerInterceptAveragePoints.append(lowerIntercept[lowerIndex])\n",
        "            condition = False\n",
        "            lowerIndex -= 1\n",
        "    except:\n",
        "      lowerInterceptAveragePoints.append(lowerIntercept[-1])\n",
        "  \n",
        "  lowerInterceptAveragePoints.sort(key=lambda point: point[0]+point[1])\n",
        "  higherInterceptAveragePoints.sort(key=lambda point: point[0]+point[1])\n",
        "\n",
        "  return (lowerInterceptAveragePoints, higherInterceptAveragePoints)\n",
        "\n",
        "def calculateVolume(path, number, method = \"Method of Disks\"):\n",
        "  points = getIdealPointGroup(obtainContourPoints(path))\n",
        "\n",
        "  x1, y1, x2, y2 = getTopAndBottomCoords(points)\n",
        "  if (x1 + y1) > (x2 + y2):\n",
        "    x1, y1, x2, y2 = x2, y2, x1, y1\n",
        "\n",
        "  mainLineSlope = getSlope([x1, y1], [x2, y2])\n",
        "  baseAngle = math.atan(mainLineSlope)\n",
        "\n",
        "  if baseAngle>0:\n",
        "      baseAngle -= math.pi\n",
        "  lowerIntercept, higherIntercept = splitPoints(x1, y1, x2, y2, mainLineSlope, points)\n",
        "\n",
        "  if (higherIntercept[0][0] + higherIntercept[0][1]) > (lowerIntercept[0][0] + lowerIntercept[0][1]):\n",
        "    lowerIntercept, higherIntercept = higherIntercept, lowerIntercept\n",
        "\n",
        "  volumes = {}\n",
        "  x1s = {}\n",
        "  y1s = {}\n",
        "  x2s = {}\n",
        "  y2s = {}\n",
        "  degrees = {}\n",
        "\n",
        "  # Volumes for all 0 to 5 cases\n",
        "  for i in range(-30, 31, 1):\n",
        "    x1, y1 = lowerIntercept[i]\n",
        "    x2, y2 = higherIntercept[i]\n",
        "\n",
        "\n",
        "    slope = getSlope([x1, y1], [x2, y2])\n",
        "    angle = math.atan(slope)\n",
        "\n",
        "    if angle>0:\n",
        "      angle -= math.pi\n",
        "\n",
        "    degrees[i] = (baseAngle - angle) * 180/math.pi\n",
        "\n",
        "\n",
        "    p1Index = points.index([x1, y1])\n",
        "    p2Index = points.index([x2, y2])\n",
        "\n",
        "    lowerIndex = min(p1Index, p2Index)\n",
        "    higherIndex = max(p1Index, p2Index)\n",
        "\n",
        "    higherInterceptPoints = points[lowerIndex:higherIndex]\n",
        "    lowerInterceptPoints = points[higherIndex:] + points[:lowerIndex]\n",
        "\n",
        "    if (higherInterceptPoints[0][0] + higherInterceptPoints[0][1]) < (lowerInterceptPoints[0][0] + lowerInterceptPoints[0][1]):\n",
        "      lowerInterceptPoints, higherInterceptPoints = higherInterceptPoints, lowerInterceptPoints\n",
        "\n",
        "    weighted_avg = getWeightedAveragePoints(x1, y1, x2, y2, number)\n",
        "    lowerInterceptAveragePoints, higherInterceptAveragePoints = findCorrespondingMaskPoints(weighted_avg, lowerInterceptPoints, higherInterceptPoints, x1, y1, x2, y2, slope, i)\n",
        "    \n",
        "    x1s[i] = [x1] + [point[0] for point in lowerInterceptAveragePoints]\n",
        "    y1s[i] = [y1] + [point[1] for point in lowerInterceptAveragePoints]\n",
        "\n",
        "    x2s[i] = [x2] + [point[0] for point in higherInterceptAveragePoints]\n",
        "    y2s[i] = [y2] + [point[1] for point in higherInterceptAveragePoints]\n",
        "\n",
        "    if i < 100:\n",
        "      image = cv2.imread(path) \n",
        "\n",
        "\n",
        "      # for point in points:\n",
        "      #   cv2.circle(image,tuple(point), 1, (255,255,255), -1)\n",
        "      #   if point[0] <50:\n",
        "      #     print(point)\n",
        "\n",
        "\n",
        "      # for point in weighted_avg: \n",
        "      #   cv2.circle(image,tuple((int(point[0]), int(point[1]))), 1, (0,0,0), -1)\n",
        "      \n",
        "      for j in range(len(lowerInterceptAveragePoints)): \n",
        "        cv2.line(image, tuple(lowerInterceptAveragePoints[j]), tuple(higherInterceptAveragePoints[j]), (255,255,0), 1)\n",
        "\n",
        "\n",
        "      cv2.line(image, (x1, y1), (x2, y2), (0,0,0), 1)\n",
        "\n",
        "      cv2_imshow(image)\n",
        "      cv2.waitKey(0)\n",
        "      cv2.destroyAllWindows()\n",
        "\n",
        "    if  method == \"Method of Disks\":\n",
        "      volumes[i] = volumeMethodOfDisks(x1, y1, x2, y2, number, lowerInterceptAveragePoints, higherInterceptAveragePoints)\n",
        "    elif method == \"Prolate Ellipsoid\":\n",
        "      volumes[i] = volumeProlateEllipsoidMethod(x1, y1, x2, y2, lowerInterceptAveragePoints, higherInterceptAveragePoints)\n",
        "    elif method == \"Bullet Method\":\n",
        "      volumes[i] = volumeBulletMethod(x1, y1, x2, y2, lowerInterceptAveragePoints, higherInterceptAveragePoints)\n",
        "    \n",
        "  return (volumes, x1s, y1s, x2s, y2s, degrees)\n",
        "\n",
        "print(calculateVolume(path, 20, method = \"Method of Disks\"))\n",
        "# print(calculateVolume(\"/content/output/image.png\", method = \"Single Ellipsoid\"))\n",
        "# print(calculateVolume(\"/content/output/image.png\", method = \"Biplane Area\"))\n",
        "# print(calculateVolume(\"/content/output/image.png\", method = \"Bullet\"))"
      ],
      "execution_count": null,
      "outputs": [
        {
          "output_type": "display_data",
          "data": {
            "image/png": "[encoded data removed]",
            "text/plain": [
              "<PIL.Image.Image image mode=RGB size=112x112 at 0x7F4E789F32E8>"
            ]
          },
          "metadata": {
            "tags": []
          }
        },
        {
          "output_type": "display_data",
          "data": {
            "image/png": "[encoded data removed]",
            "text/plain": [
              "<PIL.Image.Image image mode=RGB size=112x112 at 0x7F4E789F32E8>"
            ]
          },
          "metadata": {
            "tags": []
          }
        },
        {
          "output_type": "display_data",
          "data": {
            "image/png": "[encoded data removed]",
            "text/plain": [
              "<PIL.Image.Image image mode=RGB size=112x112 at 0x7F4E789F32E8>"
            ]
          },
          "metadata": {
            "tags": []
          }
        },
        {
          "output_type": "display_data",
          "data": {
            "image/png": "[encoded data removed]",
            "text/plain": [
              "<PIL.Image.Image image mode=RGB size=112x112 at 0x7F4E789F3438>"
            ]
          },
          "metadata": {
            "tags": []
          }
        },
        {
          "output_type": "display_data",
          "data": {
            "image/png": "[encoded data removed]",
            "text/plain": [
              "<PIL.Image.Image image mode=RGB size=112x112 at 0x7F4E789F32E8>"
            ]
          },
          "metadata": {
            "tags": []
          }
        },
        {
          "output_type": "display_data",
          "data": {
            "image/png": "[encoded data removed]",
            "text/plain": [
              "<PIL.Image.Image image mode=RGB size=112x112 at 0x7F4E789F32E8>"
            ]
          },
          "metadata": {
            "tags": []
          }
        },
        {
          "output_type": "display_data",
          "data": {
            "image/png": "[encoded data removed]",
            "text/plain": [
              "<PIL.Image.Image image mode=RGB size=112x112 at 0x7F4E789F32E8>"
            ]
          },
          "metadata": {
            "tags": []
          }
        },
        {
          "output_type": "display_data",
          "data": {
            "image/png": "[encoded data removed]",
            "text/plain": [
              "<PIL.Image.Image image mode=RGB size=112x112 at 0x7F4E789F32E8>"
            ]
          },
          "metadata": {
            "tags": []
          }
        },
        {
          "output_type": "display_data",
          "data": {
            "image/png": "[encoded data removed]",
            "text/plain": [
              "<PIL.Image.Image image mode=RGB size=112x112 at 0x7F4E789F32E8>"
            ]
          },
          "metadata": {
            "tags": []
          }
        },
        {
          "output_type": "display_data",
          "data": {
            "image/png": "[encoded data removed]",
            "text/plain": [
              "<PIL.Image.Image image mode=RGB size=112x112 at 0x7F4E789F32E8>"
            ]
          },
          "metadata": {
            "tags": []
          }
        },
        {
          "output_type": "display_data",
          "data": {
            "image/png": "[encoded data removed]",
            "text/plain": [
              "<PIL.Image.Image image mode=RGB size=112x112 at 0x7F4E789F32E8>"
            ]
          },
          "metadata": {
            "tags": []
          }
        },
        {
          "output_type": "display_data",
          "data": {
            "image/png": "[encoded data removed]",
            "text/plain": [
              "<PIL.Image.Image image mode=RGB size=112x112 at 0x7F4E789F3438>"
            ]
          },
          "metadata": {
            "tags": []
          }
        },
        {
          "output_type": "display_data",
          "data": {
            "image/png": "[encoded data removed]",
            "text/plain": [
              "<PIL.Image.Image image mode=RGB size=112x112 at 0x7F4E789F3438>"
            ]
          },
          "metadata": {
            "tags": []
          }
        },
        {
          "output_type": "display_data",
          "data": {
            "image/png": "[encoded data removed]",
            "text/plain": [
              "<PIL.Image.Image image mode=RGB size=112x112 at 0x7F4E789F3438>"
            ]
          },
          "metadata": {
            "tags": []
          }
        },
        {
          "output_type": "display_data",
          "data": {
            "image/png": "[encoded data removed]",
            "text/plain": [
              "<PIL.Image.Image image mode=RGB size=112x112 at 0x7F4E789F3438>"
            ]
          },
          "metadata": {
            "tags": []
          }
        },
        {
          "output_type": "display_data",
          "data": {
            "image/png": "[encoded data removed]",
            "text/plain": [
              "<PIL.Image.Image image mode=RGB size=112x112 at 0x7F4E789F3438>"
            ]
          },
          "metadata": {
            "tags": []
          }
        },
        {
          "output_type": "display_data",
          "data": {
            "image/png": "[encoded data removed]",
            "text/plain": [
              "<PIL.Image.Image image mode=RGB size=112x112 at 0x7F4E789F3438>"
            ]
          },
          "metadata": {
            "tags": []
          }
        },
        {
          "output_type": "display_data",
          "data": {
            "image/png": "[encoded data removed]",
            "text/plain": [
              "<PIL.Image.Image image mode=RGB size=112x112 at 0x7F4E789F3438>"
            ]
          },
          "metadata": {
            "tags": []
          }
        },
        {
          "output_type": "display_data",
          "data": {
            "image/png": "[encoded data removed]",
            "text/plain": [
              "<PIL.Image.Image image mode=RGB size=112x112 at 0x7F4E789F3438>"
            ]
          },
          "metadata": {
            "tags": []
          }
        },
        {
          "output_type": "display_data",
          "data": {
            "image/png": "[encoded data removed]",
            "text/plain": [
              "<PIL.Image.Image image mode=RGB size=112x112 at 0x7F4E789F3438>"
            ]
          },
          "metadata": {
            "tags": []
          }
        },
        {
          "output_type": "display_data",
          "data": {
            "image/png": "[encoded data removed]",
            "text/plain": [
              "<PIL.Image.Image image mode=RGB size=112x112 at 0x7F4E789F3438>"
            ]
          },
          "metadata": {
            "tags": []
          }
        },
        {
          "output_type": "display_data",
          "data": {
            "image/png": "[encoded data removed]",
            "text/plain": [
              "<PIL.Image.Image image mode=RGB size=112x112 at 0x7F4E789F3438>"
            ]
          },
          "metadata": {
            "tags": []
          }
        },
        {
          "output_type": "display_data",
          "data": {
            "image/png": "[encoded data removed]",
            "text/plain": [
              "<PIL.Image.Image image mode=RGB size=112x112 at 0x7F4E789F3438>"
            ]
          },
          "metadata": {
            "tags": []
          }
        },
        {
          "output_type": "display_data",
          "data": {
            "image/png": "[encoded data removed]",
            "text/plain": [
              "<PIL.Image.Image image mode=RGB size=112x112 at 0x7F4E789F3438>"
            ]
          },
          "metadata": {
            "tags": []
          }
        },
        {
          "output_type": "display_data",
          "data": {
            "image/png": "[encoded data removed]",
            "text/plain": [
              "<PIL.Image.Image image mode=RGB size=112x112 at 0x7F4E789F3438>"
            ]
          },
          "metadata": {
            "tags": []
          }
        },
        {
          "output_type": "display_data",
          "data": {
            "image/png": "[encoded data removed]",
            "text/plain": [
              "<PIL.Image.Image image mode=RGB size=112x112 at 0x7F4E789F3438>"
            ]
          },
          "metadata": {
            "tags": []
          }
        },
        {
          "output_type": "display_data",
          "data": {
            "image/png": "[encoded data removed]",
            "text/plain": [
              "<PIL.Image.Image image mode=RGB size=112x112 at 0x7F4E789F3438>"
            ]
          },
          "metadata": {
            "tags": []
          }
        },
        {
          "output_type": "display_data",
          "data": {
            "image/png": "[encoded data removed]",
            "text/plain": [
              "<PIL.Image.Image image mode=RGB size=112x112 at 0x7F4E789F32E8>"
            ]
          },
          "metadata": {
            "tags": []
          }
        },
        {
          "output_type": "display_data",
          "data": {
            "image/png": "[encoded data removed]",
            "text/plain": [
              "<PIL.Image.Image image mode=RGB size=112x112 at 0x7F4E789F32E8>"
            ]
          },
          "metadata": {
            "tags": []
          }
        },
        {
          "output_type": "display_data",
          "data": {
            "image/png": "[encoded data removed]",
            "text/plain": [
              "<PIL.Image.Image image mode=RGB size=112x112 at 0x7F4E789F32E8>"
            ]
          },
          "metadata": {
            "tags": []
          }
        },
        {
          "output_type": "display_data",
          "data": {
            "image/png": "[encoded data removed]",
            "text/plain": [
              "<PIL.Image.Image image mode=RGB size=112x112 at 0x7F4E789F32E8>"
            ]
          },
          "metadata": {
            "tags": []
          }
        },
        {
          "output_type": "display_data",
          "data": {
            "image/png": "[encoded data removed]",
            "text/plain": [
              "<PIL.Image.Image image mode=RGB size=112x112 at 0x7F4E789F32E8>"
            ]
          },
          "metadata": {
            "tags": []
          }
        },
        {
          "output_type": "display_data",
          "data": {
            "image/png": "[encoded data removed]",
            "text/plain": [
              "<PIL.Image.Image image mode=RGB size=112x112 at 0x7F4E789F32E8>"
            ]
          },
          "metadata": {
            "tags": []
          }
        },
        {
          "output_type": "display_data",
          "data": {
            "image/png": "[encoded data removed]",
            "text/plain": [
              "<PIL.Image.Image image mode=RGB size=112x112 at 0x7F4E789F32E8>"
            ]
          },
          "metadata": {
            "tags": []
          }
        },
        {
          "output_type": "display_data",
          "data": {
            "image/png": "[encoded data removed]",
            "text/plain": [
              "<PIL.Image.Image image mode=RGB size=112x112 at 0x7F4E789F32E8>"
            ]
          },
          "metadata": {
            "tags": []
          }
        },
        {
          "output_type": "display_data",
          "data": {
            "image/png": "[encoded data removed]",
            "text/plain": [
              "<PIL.Image.Image image mode=RGB size=112x112 at 0x7F4E789F32E8>"
            ]
          },
          "metadata": {
            "tags": []
          }
        },
        {
          "output_type": "display_data",
          "data": {
            "image/png": "[encoded data removed]",
            "text/plain": [
              "<PIL.Image.Image image mode=RGB size=112x112 at 0x7F4E789F32E8>"
            ]
          },
          "metadata": {
            "tags": []
          }
        },
        {
          "output_type": "display_data",
          "data": {
            "image/png": "[encoded data removed]",
            "text/plain": [
              "<PIL.Image.Image image mode=RGB size=112x112 at 0x7F4E789F32E8>"
            ]
          },
          "metadata": {
            "tags": []
          }
        },
        {
          "output_type": "display_data",
          "data": {
            "image/png": "[encoded data removed]",
            "text/plain": [
              "<PIL.Image.Image image mode=RGB size=112x112 at 0x7F4E789F32E8>"
            ]
          },
          "metadata": {
            "tags": []
          }
        },
        {
          "output_type": "display_data",
          "data": {
            "image/png": "[encoded data removed]",
            "text/plain": [
              "<PIL.Image.Image image mode=RGB size=112x112 at 0x7F4E789F3400>"
            ]
          },
          "metadata": {
            "tags": []
          }
        },
        {
          "output_type": "display_data",
          "data": {
            "image/png": "[encoded data removed]",
            "text/plain": [
              "<PIL.Image.Image image mode=RGB size=112x112 at 0x7F4E78B50860>"
            ]
          },
          "metadata": {
            "tags": []
          }
        },
        {
          "output_type": "display_data",
          "data": {
            "image/png": "[encoded data removed]",
            "text/plain": [
              "<PIL.Image.Image image mode=RGB size=112x112 at 0x7F4E789F32E8>"
            ]
          },
          "metadata": {
            "tags": []
          }
        },
        {
          "output_type": "display_data",
          "data": {
            "image/png": "[encoded data removed]",
            "text/plain": [
              "<PIL.Image.Image image mode=RGB size=112x112 at 0x7F4E789F3400>"
            ]
          },
          "metadata": {
            "tags": []
          }
        },
        {
          "output_type": "display_data",
          "data": {
            "image/png": "[encoded data removed]",
            "text/plain": [
              "<PIL.Image.Image image mode=RGB size=112x112 at 0x7F4E789F32E8>"
            ]
          },
          "metadata": {
            "tags": []
          }
        },
        {
          "output_type": "display_data",
          "data": {
            "image/png": "[encoded data removed]",
            "text/plain": [
              "<PIL.Image.Image image mode=RGB size=112x112 at 0x7F4E789F32E8>"
            ]
          },
          "metadata": {
            "tags": []
          }
        },
        {
          "output_type": "display_data",
          "data": {
            "image/png": "[encoded data removed]",
            "text/plain": [
              "<PIL.Image.Image image mode=RGB size=112x112 at 0x7F4E789F32E8>"
            ]
          },
          "metadata": {
            "tags": []
          }
        },
        {
          "output_type": "display_data",
          "data": {
            "image/png": "[encoded data removed]",
            "text/plain": [
              "<PIL.Image.Image image mode=RGB size=112x112 at 0x7F4E789F32E8>"
            ]
          },
          "metadata": {
            "tags": []
          }
        },
        {
          "output_type": "display_data",
          "data": {
            "image/png": "[encoded data removed]",
            "text/plain": [
              "<PIL.Image.Image image mode=RGB size=112x112 at 0x7F4E789F32E8>"
            ]
          },
          "metadata": {
            "tags": []
          }
        },
        {
          "output_type": "display_data",
          "data": {
            "image/png": "[encoded data removed]",
            "text/plain": [
              "<PIL.Image.Image image mode=RGB size=112x112 at 0x7F4E789F32E8>"
            ]
          },
          "metadata": {
            "tags": []
          }
        },
        {
          "output_type": "display_data",
          "data": {
            "image/png": "[encoded data removed]",
            "text/plain": [
              "<PIL.Image.Image image mode=RGB size=112x112 at 0x7F4E789F32E8>"
            ]
          },
          "metadata": {
            "tags": []
          }
        },
        {
          "output_type": "display_data",
          "data": {
            "image/png": "[encoded data removed]",
            "text/plain": [
              "<PIL.Image.Image image mode=RGB size=112x112 at 0x7F4E789F32E8>"
            ]
          },
          "metadata": {
            "tags": []
          }
        },
        {
          "output_type": "display_data",
          "data": {
            "image/png": "[encoded data removed]",
            "text/plain": [
              "<PIL.Image.Image image mode=RGB size=112x112 at 0x7F4E789F32E8>"
            ]
          },
          "metadata": {
            "tags": []
          }
        },
        {
          "output_type": "display_data",
          "data": {
            "image/png": "[encoded data removed]",
            "text/plain": [
              "<PIL.Image.Image image mode=RGB size=112x112 at 0x7F4E789F32E8>"
            ]
          },
          "metadata": {
            "tags": []
          }
        },
        {
          "output_type": "display_data",
          "data": {
            "image/png": "[encoded data removed]",
            "text/plain": [
              "<PIL.Image.Image image mode=RGB size=112x112 at 0x7F4E78A275F8>"
            ]
          },
          "metadata": {
            "tags": []
          }
        },
        {
          "output_type": "display_data",
          "data": {
            "image/png": "[encoded data removed]",
            "text/plain": [
              "<PIL.Image.Image image mode=RGB size=112x112 at 0x7F4E789F32E8>"
            ]
          },
          "metadata": {
            "tags": []
          }
        },
        {
          "output_type": "display_data",
          "data": {
            "image/png": "[encoded data removed]",
            "text/plain": [
              "<PIL.Image.Image image mode=RGB size=112x112 at 0x7F4E789F32E8>"
            ]
          },
          "metadata": {
            "tags": []
          }
        },
        {
          "output_type": "display_data",
          "data": {
            "image/png": "[encoded data removed]",
            "text/plain": [
              "<PIL.Image.Image image mode=RGB size=112x112 at 0x7F4E789F32E8>"
            ]
          },
          "metadata": {
            "tags": []
          }
        },
        {
          "output_type": "display_data",
          "data": {
            "image/png": "[encoded data removed]",
            "text/plain": [
              "<PIL.Image.Image image mode=RGB size=112x112 at 0x7F4E789F3438>"
            ]
          },
          "metadata": {
            "tags": []
          }
        },
        {
          "output_type": "display_data",
          "data": {
            "image/png": "[encoded data removed]",
            "text/plain": [
              "<PIL.Image.Image image mode=RGB size=112x112 at 0x7F4E789F3400>"
            ]
          },
          "metadata": {
            "tags": []
          }
        },
        {
          "output_type": "display_data",
          "data": {
            "image/png": "[encoded data removed]",
            "text/plain": [
              "<PIL.Image.Image image mode=RGB size=112x112 at 0x7F4E789F32E8>"
            ]
          },
          "metadata": {
            "tags": []
          }
        },
        {
          "output_type": "display_data",
          "data": {
            "image/png": "[encoded data removed]",
            "text/plain": [
              "<PIL.Image.Image image mode=RGB size=112x112 at 0x7F4E789F3438>"
            ]
          },
          "metadata": {
            "tags": []
          }
        },
        {
          "output_type": "stream",
          "text": [
            "({-30: 53592.38214620492, -29: 51625.474986919784, -28: 49918.990471004196, -27: 46351.79007277438, -26: 45587.86971207599, -25: 45201.908298275725, -24: 43120.12168931399, -23: 42098.75933117187, -22: 43486.20492037146, -21: 42264.96459335563, -20: 41045.09159019905, -19: 39926.67916280911, -18: 40230.305005024, -17: 40066.51717835289, -16: 38921.309809377366, -15: 39405.387220885634, -14: 39731.04909152435, -13: 38977.04581624186, -12: 38316.68866508508, -11: 38664.51557063563, -10: 38057.40913253278, -9: 38113.87836867381, -8: 37836.895068431964, -7: 37729.493829296254, -6: 37696.58206618129, -5: 37762.02008460073, -4: 38075.17511762058, -3: 38284.309453484275, -2: 37648.99277853199, -1: 37756.00964272706, 0: 37774.845060171414, 1: 38360.1891373986, 2: 38169.96505322892, 3: 37761.91183916537, 4: 37496.69588863937, 5: 37529.13742111939, 6: 37598.63305724549, 7: 37565.05126530093, 8: 37260.3472530448, 9: 37405.24780114961, 10: 37194.11563567989, 11: 37822.40197370118, 12: 37709.37387145499, 13: 37292.760655101985, 14: 37898.49394887315, 15: 38541.71140176681, 16: 37949.83666262358, 17: 37946.796188616085, 18: 38798.47488611274, 19: 39534.49122546994, 20: 39278.87835589133, 21: 39423.225735816544, 22: 39726.7185794891, 23: 41386.639826275656, 24: 44260.10220618035, 25: 44139.42344091898, 26: 44821.07765021838, 27: 44297.54725191347, 28: 45298.4733854712, 29: 45713.890324883134, 30: 46775.75991574373}, {-30: [73, 55, 50, 46, 44, 41, 40, 40, 39, 39, 38, 38, 38, 38, 38, 38, 38, 38, 39, 40, 43], -29: [72, 49, 51, 42, 41, 40, 39, 39, 39, 38, 38, 38, 38, 38, 38, 38, 38, 39, 40, 42, 45], -28: [71, 45, 52, 40, 40, 39, 39, 39, 38, 38, 38, 38, 38, 38, 38, 38, 39, 40, 42, 44, 47], -27: [70, 69, 52, 40, 39, 39, 39, 38, 38, 38, 38, 38, 38, 38, 38, 39, 40, 42, 43, 46, 52], -26: [69, 68, 52, 40, 39, 39, 38, 38, 38, 38, 38, 38, 38, 38, 39, 40, 42, 43, 45, 48, 52], -25: [68, 40, 52, 39, 39, 38, 38, 38, 38, 38, 38, 38, 38, 39, 40, 41, 43, 45, 47, 52, 52], -24: [67, 66, 53, 39, 39, 38, 38, 38, 38, 38, 38, 38, 38, 40, 40, 42, 44, 45, 48, 52, 52], -23: [66, 65, 53, 39, 38, 38, 38, 38, 38, 38, 38, 38, 39, 40, 42, 43, 45, 47, 52, 52, 53], -22: [65, 40, 53, 39, 38, 38, 38, 38, 38, 38, 38, 39, 40, 40, 42, 44, 45, 48, 52, 52, 53], -21: [64, 40, 53, 39, 38, 38, 38, 38, 38, 38, 38, 39, 40, 42, 43, 45, 47, 51, 52, 53, 53], -20: [63, 62, 54, 38, 38, 38, 38, 38, 38, 38, 38, 40, 40, 42, 43, 45, 48, 52, 52, 53, 53], -19: [62, 61, 54, 38, 38, 38, 38, 38, 38, 38, 39, 40, 42, 43, 45, 46, 49, 52, 52, 53, 54], -18: [61, 60, 54, 38, 38, 38, 38, 38, 38, 38, 39, 40, 42, 43, 45, 47, 51, 52, 53, 53, 54], -17: [60, 59, 54, 38, 38, 38, 38, 38, 38, 38, 40, 40, 42, 44, 45, 48, 52, 52, 53, 53, 54], -16: [59, 58, 54, 38, 38, 38, 38, 38, 38, 39, 40, 41, 42, 44, 46, 48, 52, 52, 53, 53, 54], -15: [58, 57, 55, 38, 38, 38, 38, 38, 38, 39, 40, 41, 43, 44, 46, 48, 52, 52, 53, 53, 54], -14: [57, 39, 56, 38, 38, 38, 38, 38, 38, 39, 40, 41, 43, 44, 45, 48, 51, 52, 53, 53, 54], -13: [56, 39, 57, 38, 38, 38, 38, 38, 38, 39, 40, 42, 43, 45, 46, 48, 52, 52, 53, 53, 54], -12: [55, 39, 58, 38, 38, 38, 38, 38, 38, 39, 40, 42, 43, 45, 46, 48, 51, 52, 53, 53, 54], -11: [54, 39, 59, 38, 38, 38, 38, 38, 38, 39, 40, 42, 43, 45, 46, 48, 51, 52, 53, 53, 54], -10: [53, 39, 60, 38, 38, 38, 38, 38, 38, 40, 40, 42, 43, 45, 46, 48, 51, 52, 53, 53, 54], -9: [52, 39, 61, 38, 38, 38, 38, 38, 39, 40, 41, 42, 43, 45, 46, 48, 51, 52, 53, 53, 54], -8: [51, 39, 62, 38, 38, 38, 38, 38, 39, 40, 41, 42, 43, 45, 46, 48, 51, 52, 53, 53, 54], -7: [50, 39, 63, 38, 38, 38, 38, 38, 39, 40, 41, 42, 43, 45, 47, 49, 51, 52, 53, 53, 54], -6: [49, 39, 64, 38, 38, 38, 38, 38, 39, 40, 41, 42, 43, 45, 47, 49, 51, 52, 53, 53, 54], -5: [48, 39, 65, 38, 38, 38, 38, 38, 39, 40, 42, 43, 44, 45, 47, 49, 52, 52, 53, 53, 54], -4: [47, 39, 66, 38, 38, 38, 38, 38, 39, 40, 41, 42, 44, 45, 47, 49, 51, 52, 53, 53, 54], -3: [46, 39, 67, 38, 38, 38, 38, 38, 39, 40, 42, 43, 44, 45, 47, 49, 52, 52, 53, 54, 54], -2: [45, 39, 68, 38, 38, 38, 38, 38, 39, 40, 42, 43, 44, 46, 48, 49, 52, 52, 53, 54, 54], -1: [44, 39, 69, 38, 38, 38, 38, 38, 40, 40, 42, 43, 45, 46, 48, 51, 52, 52, 53, 54, 54], 0: [71, 39, 70, 38, 38, 38, 38, 39, 40, 41, 42, 43, 45, 46, 48, 51, 52, 53, 53, 54, 54], 1: [72, 39, 71, 38, 38, 38, 38, 39, 40, 41, 42, 44, 45, 47, 49, 51, 52, 53, 53, 54, 55], 2: [73, 39, 72, 38, 38, 38, 38, 39, 40, 42, 43, 44, 45, 47, 49, 52, 52, 53, 54, 54, 56], 3: [74, 39, 73, 38, 38, 38, 38, 39, 40, 42, 43, 45, 46, 48, 50, 52, 52, 53, 54, 54, 62], 4: [75, 39, 74, 38, 38, 38, 39, 40, 41, 42, 43, 45, 46, 48, 51, 52, 53, 53, 54, 55, 64], 5: [76, 39, 75, 38, 38, 38, 39, 40, 41, 43, 44, 45, 47, 49, 52, 52, 53, 54, 54, 58, 68], 6: [77, 38, 76, 38, 38, 38, 40, 40, 42, 43, 45, 46, 48, 50, 52, 52, 53, 54, 54, 60, 68], 7: [78, 38, 77, 38, 38, 39, 40, 41, 42, 44, 45, 47, 49, 51, 52, 53, 54, 54, 56, 64, 72], 8: [79, 38, 78, 38, 38, 39, 40, 42, 43, 44, 46, 48, 50, 52, 52, 53, 54, 54, 60, 66, 72], 9: [80, 38, 79, 38, 38, 40, 41, 42, 43, 45, 47, 48, 51, 52, 53, 53, 54, 56, 62, 68, 74], 10: [81, 38, 80, 38, 39, 40, 42, 43, 44, 46, 48, 49, 52, 52, 53, 54, 54, 59, 64, 70, 76], 11: [82, 38, 81, 38, 39, 40, 42, 43, 45, 46, 48, 50, 52, 53, 54, 54, 56, 62, 66, 72, 76], 12: [83, 38, 82, 38, 40, 41, 42, 44, 45, 47, 49, 51, 52, 53, 54, 55, 59, 64, 68, 73, 78], 13: [84, 38, 83, 39, 40, 42, 43, 45, 46, 48, 50, 52, 53, 54, 54, 57, 62, 66, 70, 75, 80], 14: [85, 38, 84, 39, 41, 42, 44, 45, 47, 49, 51, 52, 53, 54, 55, 60, 64, 68, 72, 76, 81], 15: [85, 38, 85, 40, 41, 43, 44, 46, 48, 49, 52, 53, 53, 54, 56, 60, 64, 68, 72, 76, 81], 16: [85, 38, 85, 40, 42, 43, 45, 46, 48, 50, 52, 53, 54, 54, 58, 62, 65, 69, 72, 76, 80], 17: [84, 38, 85, 40, 42, 43, 45, 47, 48, 50, 52, 53, 54, 55, 58, 61, 64, 68, 72, 75, 78], 18: [84, 38, 84, 41, 42, 44, 45, 47, 49, 51, 52, 53, 54, 56, 59, 62, 65, 68, 72, 75, 78], 19: [84, 38, 84, 41, 43, 44, 46, 48, 50, 52, 53, 54, 54, 57, 60, 63, 66, 69, 72, 75, 78], 20: [83, 39, 84, 42, 43, 45, 46, 48, 50, 52, 53, 54, 55, 57, 60, 63, 66, 69, 72, 74, 77], 21: [82, 39, 83, 42, 43, 45, 47, 48, 50, 52, 53, 54, 55, 58, 60, 63, 66, 68, 71, 74, 76], 22: [81, 39, 82, 42, 44, 45, 47, 49, 51, 52, 53, 54, 56, 58, 61, 63, 66, 68, 71, 73, 76], 23: [81, 40, 81, 43, 44, 46, 48, 49, 51, 53, 54, 55, 57, 60, 62, 64, 67, 69, 72, 74, 76], 24: [81, 40, 81, 43, 45, 46, 48, 50, 52, 53, 54, 56, 59, 61, 63, 65, 68, 70, 72, 75, 77], 25: [80, 40, 81, 43, 45, 47, 49, 51, 52, 54, 55, 57, 59, 61, 64, 66, 68, 70, 72, 74, 76], 26: [79, 40, 80, 44, 45, 47, 49, 51, 53, 54, 56, 58, 60, 62, 64, 66, 68, 70, 72, 74, 76], 27: [78, 41, 79, 45, 47, 48, 50, 52, 54, 55, 57, 59, 61, 63, 65, 67, 69, 71, 72, 74, 76], 28: [78, 41, 78, 45, 47, 49, 51, 53, 54, 56, 58, 60, 62, 64, 66, 67, 69, 71, 73, 75, 77], 29: [78, 42, 78, 46, 48, 50, 51, 53, 55, 57, 59, 60, 62, 64, 66, 68, 69, 71, 73, 75, 77], 30: [77, 42, 78, 46, 48, 49, 51, 53, 55, 56, 58, 60, 62, 63, 65, 67, 69, 70, 72, 74, 76]}, {-30: [44, 31, 69, 28, 28, 29, 29, 31, 33, 35, 37, 38, 40, 43, 45, 47, 49, 51, 54, 57, 62], -29: [43, 29, 70, 28, 29, 31, 33, 34, 36, 37, 39, 41, 43, 45, 47, 49, 51, 54, 57, 60, 64], -28: [42, 28, 71, 29, 31, 33, 34, 36, 38, 40, 42, 44, 46, 48, 50, 52, 54, 57, 60, 63, 67], -27: [41, 40, 72, 31, 33, 34, 36, 38, 40, 42, 44, 46, 48, 50, 52, 54, 57, 60, 62, 66, 71], -26: [40, 39, 73, 32, 34, 36, 37, 39, 41, 43, 45, 47, 49, 51, 54, 56, 59, 62, 65, 68, 72], -25: [39, 30, 74, 33, 35, 37, 39, 41, 43, 45, 47, 49, 51, 54, 56, 58, 61, 64, 67, 71, 73], -24: [38, 37, 75, 34, 36, 38, 40, 42, 44, 46, 48, 50, 52, 55, 57, 60, 63, 65, 68, 72, 74], -23: [37, 36, 76, 35, 37, 39, 41, 43, 45, 47, 49, 52, 54, 56, 59, 62, 64, 67, 71, 73, 75], -22: [36, 32, 77, 36, 37, 40, 42, 44, 46, 48, 50, 53, 55, 57, 60, 63, 65, 68, 72, 74, 76], -21: [35, 32, 78, 36, 38, 41, 43, 45, 47, 49, 52, 54, 56, 59, 62, 64, 67, 70, 72, 75, 77], -20: [34, 34, 79, 37, 39, 41, 43, 46, 48, 50, 52, 55, 57, 60, 62, 65, 68, 71, 73, 76, 78], -19: [34, 33, 80, 37, 40, 42, 44, 47, 49, 51, 54, 56, 59, 61, 64, 66, 69, 72, 74, 77, 79], -18: [33, 32, 81, 37, 40, 42, 45, 47, 49, 52, 54, 57, 59, 62, 65, 67, 70, 73, 75, 78, 80], -17: [32, 32, 82, 37, 40, 42, 45, 47, 50, 52, 55, 57, 60, 63, 65, 68, 71, 73, 76, 78, 81], -16: [32, 31, 83, 38, 41, 43, 46, 48, 50, 53, 55, 58, 60, 63, 66, 68, 71, 73, 76, 78, 81], -15: [31, 31, 83, 38, 41, 43, 46, 48, 51, 53, 56, 58, 61, 63, 66, 68, 71, 73, 76, 78, 81], -14: [31, 34, 83, 39, 41, 44, 46, 48, 51, 53, 56, 58, 61, 63, 65, 68, 70, 73, 75, 78, 80], -13: [31, 35, 82, 40, 42, 44, 47, 49, 52, 54, 56, 59, 61, 64, 66, 68, 71, 73, 75, 78, 80], -12: [31, 35, 82, 40, 42, 45, 47, 50, 52, 54, 57, 59, 61, 64, 66, 68, 70, 72, 75, 77, 80], -11: [30, 35, 81, 40, 42, 45, 47, 50, 52, 54, 57, 59, 61, 64, 66, 68, 70, 73, 75, 77, 80], -10: [30, 35, 81, 40, 43, 45, 48, 50, 52, 55, 57, 59, 61, 64, 66, 68, 70, 72, 75, 77, 79], -9: [30, 36, 80, 41, 43, 46, 48, 51, 53, 55, 58, 60, 62, 64, 66, 68, 70, 73, 75, 77, 80], -8: [30, 36, 80, 41, 44, 46, 49, 51, 53, 55, 58, 60, 62, 64, 66, 68, 70, 72, 75, 77, 79], -7: [29, 35, 79, 41, 43, 46, 48, 51, 53, 55, 58, 60, 62, 64, 67, 69, 70, 73, 75, 77, 80], -6: [29, 35, 79, 41, 43, 46, 49, 51, 53, 56, 58, 60, 62, 64, 67, 69, 70, 72, 75, 77, 80], -5: [29, 35, 78, 41, 44, 46, 49, 52, 54, 56, 59, 61, 63, 65, 67, 69, 71, 73, 75, 78, 80], -4: [28, 34, 78, 40, 43, 46, 49, 51, 54, 56, 58, 60, 63, 65, 67, 69, 70, 73, 75, 78, 80], -3: [28, 34, 77, 41, 43, 46, 49, 52, 54, 56, 59, 61, 63, 65, 67, 69, 71, 73, 76, 79, 81], -2: [28, 34, 77, 41, 43, 46, 49, 52, 54, 57, 59, 61, 63, 66, 68, 69, 71, 74, 76, 79, 81], -1: [28, 34, 76, 41, 44, 47, 49, 52, 55, 57, 59, 62, 64, 66, 68, 70, 71, 74, 77, 79, 82], 0: [75, 34, 76, 41, 44, 47, 50, 53, 55, 58, 59, 62, 64, 66, 68, 70, 72, 75, 77, 80, 83], 1: [75, 34, 75, 41, 44, 47, 50, 53, 55, 58, 60, 63, 64, 67, 69, 70, 73, 75, 78, 81, 83], 2: [74, 34, 75, 41, 45, 48, 51, 54, 56, 59, 61, 63, 65, 67, 69, 71, 73, 76, 79, 82, 83], 3: [74, 34, 74, 41, 44, 48, 51, 54, 56, 59, 61, 64, 66, 68, 69, 71, 74, 77, 80, 83, 80], 4: [73, 35, 74, 42, 46, 49, 53, 55, 58, 60, 62, 64, 66, 68, 70, 72, 75, 78, 80, 83, 79], 5: [73, 36, 73, 44, 47, 51, 53, 56, 58, 61, 63, 65, 67, 69, 71, 73, 76, 79, 82, 82, 77], 6: [72, 38, 73, 45, 48, 52, 55, 57, 59, 62, 64, 66, 68, 69, 71, 74, 77, 80, 83, 81, 77], 7: [72, 38, 72, 46, 49, 53, 55, 58, 60, 63, 65, 67, 69, 70, 73, 75, 79, 82, 83, 79, 75], 8: [71, 39, 72, 47, 51, 54, 56, 59, 61, 63, 66, 68, 69, 71, 74, 77, 79, 83, 81, 78, 75], 9: [70, 41, 71, 49, 52, 55, 58, 60, 62, 64, 67, 68, 70, 72, 75, 78, 81, 83, 80, 77, 74], 10: [70, 42, 70, 50, 53, 56, 59, 61, 63, 66, 68, 69, 71, 74, 76, 79, 83, 81, 79, 76, 73], 11: [69, 42, 70, 51, 54, 57, 59, 61, 64, 66, 68, 69, 71, 75, 79, 82, 83, 80, 78, 75, 73], 12: [68, 43, 69, 52, 55, 58, 60, 63, 65, 67, 69, 70, 73, 76, 80, 83, 81, 79, 77, 74, 72], 13: [68, 44, 68, 53, 56, 59, 61, 64, 66, 68, 69, 71, 75, 79, 82, 82, 80, 78, 76, 73, 70], 14: [67, 46, 68, 54, 58, 59, 63, 65, 67, 69, 70, 73, 77, 80, 83, 81, 79, 77, 75, 73, 70], 15: [66, 47, 67, 55, 58, 61, 63, 66, 68, 69, 71, 75, 78, 82, 83, 81, 79, 77, 75, 73, 70], 16: [65, 48, 66, 55, 59, 61, 64, 66, 68, 69, 71, 75, 79, 83, 82, 80, 78, 76, 75, 73, 70], 17: [64, 49, 65, 57, 59, 62, 64, 67, 68, 69, 71, 75, 79, 83, 82, 80, 79, 77, 75, 73, 72], 18: [63, 51, 64, 58, 60, 63, 65, 67, 69, 70, 73, 76, 80, 83, 81, 80, 78, 77, 75, 73, 72], 19: [62, 52, 63, 58, 61, 63, 66, 68, 69, 71, 75, 79, 83, 82, 81, 79, 78, 76, 75, 73, 72], 20: [61, 53, 62, 59, 61, 64, 66, 68, 69, 71, 75, 79, 83, 82, 81, 79, 78, 76, 75, 74, 72], 21: [60, 53, 61, 59, 61, 64, 67, 68, 69, 71, 75, 79, 83, 82, 81, 79, 78, 77, 75, 74, 73], 22: [59, 53, 60, 59, 63, 64, 67, 69, 70, 71, 75, 80, 83, 82, 80, 79, 78, 77, 75, 74, 73], 23: [58, 55, 59, 61, 63, 66, 68, 69, 70, 75, 79, 83, 82, 81, 80, 79, 77, 76, 75, 74, 73], 24: [57, 55, 58, 61, 64, 66, 68, 69, 71, 75, 81, 83, 81, 80, 79, 78, 77, 76, 75, 73, 72], 25: [56, 55, 57, 61, 64, 67, 69, 70, 71, 79, 83, 82, 81, 80, 79, 78, 77, 76, 75, 74, 73], 26: [55, 55, 56, 63, 64, 67, 69, 70, 75, 79, 83, 82, 81, 80, 79, 78, 77, 76, 75, 74, 73], 27: [54, 58, 55, 64, 67, 68, 69, 71, 79, 83, 82, 81, 80, 79, 78, 77, 76, 75, 75, 74, 73], 28: [53, 58, 54, 64, 67, 69, 70, 75, 79, 83, 82, 81, 80, 79, 78, 77, 76, 75, 74, 73, 72], 29: [52, 59, 53, 66, 68, 69, 70, 75, 83, 82, 81, 81, 80, 79, 78, 77, 76, 75, 74, 73, 72], 30: [51, 59, 52, 66, 68, 69, 70, 75, 83, 83, 82, 81, 80, 79, 78, 77, 76, 76, 75, 74, 73]}, {-30: [51, 75, 51, 81, 83, 84, 85, 83, 82, 81, 79, 78, 76, 74, 73, 71, 70, 68, 66, 65, 64], -29: [52, 75, 52, 78, 81, 83, 84, 85, 84, 82, 81, 79, 78, 76, 74, 73, 71, 70, 68, 66, 64], -28: [52, 74, 52, 78, 80, 81, 84, 85, 85, 83, 82, 80, 78, 77, 75, 74, 72, 70, 68, 66, 64], -27: [52, 74, 52, 77, 78, 81, 82, 84, 85, 84, 82, 81, 79, 78, 76, 74, 72, 70, 68, 66, 64], -26: [52, 74, 52, 77, 78, 80, 81, 84, 84, 85, 84, 82, 80, 78, 76, 74, 72, 70, 68, 66, 64], -25: [53, 72, 53, 75, 77, 78, 81, 81, 84, 84, 85, 84, 82, 79, 78, 76, 74, 72, 69, 67, 65], -24: [53, 71, 53, 75, 77, 78, 79, 81, 82, 84, 85, 84, 82, 81, 78, 76, 74, 72, 69, 66, 64], -23: [53, 70, 53, 74, 76, 78, 78, 81, 81, 84, 84, 85, 83, 81, 79, 76, 74, 72, 69, 66, 64], -22: [53, 69, 53, 74, 75, 77, 78, 80, 81, 83, 84, 85, 84, 82, 79, 77, 74, 72, 68, 66, 64], -21: [54, 67, 54, 73, 75, 76, 78, 78, 81, 81, 84, 84, 85, 83, 81, 78, 76, 72, 69, 66, 63], -20: [54, 66, 54, 72, 74, 75, 77, 78, 80, 81, 83, 84, 85, 84, 81, 78, 76, 72, 68, 66, 62], -19: [54, 66, 54, 72, 74, 75, 77, 78, 80, 81, 83, 84, 85, 84, 81, 78, 74, 72, 68, 64, 61], -18: [54, 65, 54, 71, 74, 75, 77, 78, 79, 81, 82, 84, 85, 84, 81, 78, 74, 71, 68, 64, 60], -17: [54, 64, 54, 70, 73, 74, 76, 78, 78, 81, 82, 84, 85, 85, 81, 78, 74, 70, 66, 62, 58], -16: [55, 64, 55, 70, 72, 74, 75, 77, 78, 80, 81, 83, 84, 85, 82, 79, 76, 72, 68, 64, 60], -15: [56, 62, 56, 68, 71, 73, 75, 77, 78, 79, 81, 82, 84, 85, 85, 81, 78, 74, 68, 64, 60], -14: [57, 62, 57, 68, 70, 73, 74, 76, 77, 78, 80, 81, 83, 84, 85, 84, 81, 76, 72, 66, 62], -13: [58, 62, 58, 67, 70, 72, 74, 75, 77, 78, 79, 81, 82, 84, 84, 85, 82, 78, 72, 68, 62], -12: [59, 61, 59, 67, 69, 71, 73, 75, 76, 77, 78, 80, 81, 82, 84, 85, 85, 81, 76, 70, 64], -11: [60, 59, 60, 66, 68, 70, 72, 74, 75, 77, 78, 79, 81, 81, 84, 84, 85, 82, 78, 72, 66], -10: [61, 59, 61, 65, 67, 69, 71, 73, 75, 76, 77, 78, 80, 81, 82, 84, 85, 85, 81, 76, 68], -9: [62, 59, 62, 65, 67, 69, 71, 73, 74, 75, 77, 78, 79, 81, 81, 83, 84, 85, 82, 78, 70], -8: [63, 58, 63, 64, 66, 68, 70, 72, 74, 75, 76, 77, 78, 80, 81, 82, 84, 84, 85, 81, 74], -7: [64, 55, 64, 62, 65, 67, 69, 71, 73, 74, 75, 77, 78, 79, 81, 81, 83, 84, 85, 82, 74], -6: [65, 54, 65, 61, 64, 66, 68, 70, 72, 74, 75, 76, 77, 78, 80, 81, 82, 84, 85, 85, 79], -5: [66, 53, 66, 61, 64, 65, 67, 69, 71, 73, 74, 76, 77, 78, 79, 81, 82, 84, 84, 85, 81], -4: [67, 51, 67, 59, 62, 64, 66, 68, 70, 72, 74, 75, 76, 78, 78, 80, 81, 82, 84, 85, 85], -3: [68, 48, 68, 59, 61, 64, 66, 68, 70, 72, 73, 75, 76, 77, 78, 80, 81, 82, 84, 85, 85], -2: [69, 49, 69, 57, 60, 62, 65, 67, 69, 71, 73, 74, 75, 77, 78, 79, 81, 81, 83, 84, 85], -1: [70, 48, 70, 55, 59, 62, 64, 66, 68, 70, 72, 74, 75, 77, 78, 78, 80, 81, 83, 84, 85], 0: [43, 48, 71, 55, 59, 61, 64, 66, 67, 69, 71, 73, 74, 76, 77, 78, 80, 81, 82, 84, 85], 1: [42, 47, 72, 54, 58, 61, 63, 65, 67, 69, 71, 73, 74, 75, 77, 78, 79, 81, 82, 84, 85], 2: [41, 47, 73, 54, 57, 60, 62, 65, 67, 68, 70, 72, 74, 75, 77, 78, 79, 81, 81, 83, 84], 3: [40, 46, 74, 53, 56, 59, 62, 64, 66, 68, 70, 72, 74, 75, 76, 78, 79, 81, 81, 83, 84], 4: [40, 47, 75, 53, 56, 59, 62, 64, 66, 68, 70, 72, 73, 75, 76, 77, 78, 80, 81, 83, 84], 5: [40, 48, 76, 54, 57, 60, 62, 64, 66, 68, 70, 72, 74, 75, 76, 78, 78, 80, 81, 83, 84], 6: [40, 48, 77, 54, 57, 60, 62, 64, 66, 68, 70, 72, 73, 75, 76, 77, 78, 80, 81, 83, 84], 7: [39, 48, 78, 54, 56, 59, 62, 64, 66, 68, 70, 71, 73, 75, 76, 77, 78, 80, 81, 83, 84], 8: [39, 48, 79, 54, 56, 59, 62, 64, 66, 68, 69, 71, 73, 74, 76, 77, 78, 80, 81, 83, 84], 9: [39, 48, 80, 54, 56, 59, 61, 64, 66, 67, 69, 71, 73, 74, 76, 77, 78, 80, 81, 82, 84], 10: [39, 48, 81, 54, 57, 59, 62, 64, 66, 68, 69, 71, 73, 74, 76, 77, 78, 80, 81, 83, 84], 11: [38, 48, 82, 53, 56, 59, 61, 63, 65, 67, 69, 71, 73, 74, 75, 77, 78, 80, 81, 83, 84], 12: [38, 48, 83, 53, 56, 59, 61, 63, 65, 67, 69, 71, 72, 74, 75, 77, 78, 80, 81, 83, 84], 13: [38, 48, 84, 53, 56, 59, 61, 63, 65, 67, 69, 71, 73, 74, 76, 77, 78, 80, 81, 83, 84], 14: [38, 48, 85, 53, 56, 59, 61, 63, 65, 67, 69, 71, 72, 74, 76, 77, 78, 80, 81, 83, 84], 15: [38, 48, 85, 53, 55, 58, 61, 62, 65, 66, 68, 70, 72, 74, 75, 77, 78, 80, 81, 83, 84], 16: [38, 48, 85, 53, 55, 58, 60, 62, 64, 66, 68, 70, 72, 74, 75, 77, 78, 79, 81, 82, 84], 17: [38, 48, 84, 52, 55, 57, 59, 62, 64, 66, 67, 69, 71, 73, 74, 76, 77, 78, 80, 81, 83], 18: [38, 48, 84, 52, 55, 57, 59, 61, 63, 65, 67, 69, 71, 72, 74, 75, 77, 78, 80, 81, 83], 19: [38, 47, 84, 52, 54, 56, 59, 61, 62, 65, 66, 68, 70, 72, 74, 75, 77, 78, 80, 81, 83], 20: [38, 47, 83, 51, 53, 55, 58, 60, 62, 64, 66, 67, 69, 71, 73, 74, 76, 77, 79, 80, 82], 21: [38, 46, 82, 51, 53, 55, 57, 59, 61, 63, 65, 67, 68, 70, 72, 74, 75, 77, 78, 79, 81], 22: [38, 46, 81, 50, 52, 54, 56, 58, 60, 62, 64, 66, 67, 69, 71, 73, 74, 76, 77, 78, 80], 23: [38, 45, 81, 49, 51, 53, 55, 57, 59, 61, 63, 65, 67, 68, 70, 72, 74, 75, 77, 78, 80], 24: [38, 41, 81, 45, 47, 49, 51, 53, 55, 57, 59, 61, 63, 65, 67, 69, 71, 73, 75, 77, 79], 25: [38, 41, 80, 45, 47, 49, 51, 53, 55, 57, 59, 61, 63, 65, 67, 69, 71, 73, 75, 77, 79], 26: [38, 40, 79, 44, 46, 48, 50, 52, 54, 56, 58, 60, 62, 64, 66, 68, 70, 72, 74, 76, 78], 27: [39, 41, 78, 45, 47, 49, 51, 53, 54, 56, 58, 60, 62, 64, 66, 67, 69, 71, 73, 75, 77], 28: [39, 41, 78, 44, 46, 48, 50, 52, 54, 56, 57, 59, 61, 63, 65, 67, 69, 71, 73, 75, 77], 29: [40, 40, 78, 44, 46, 47, 49, 51, 53, 55, 57, 59, 61, 63, 64, 66, 68, 70, 72, 74, 76], 30: [40, 39, 77, 42, 44, 46, 47, 49, 51, 53, 55, 57, 59, 61, 63, 65, 67, 69, 71, 73, 75]}, {-30: [70, 48, 70, 58, 61, 64, 67, 68, 69, 70, 71, 72, 73, 74, 74, 75, 76, 77, 78, 78, 79], -29: [71, 48, 71, 54, 58, 61, 64, 67, 68, 69, 70, 71, 72, 73, 74, 74, 75, 76, 77, 78, 79], -28: [72, 46, 72, 53, 56, 59, 63, 65, 67, 68, 69, 70, 72, 72, 73, 74, 75, 76, 77, 78, 79], -27: [73, 46, 73, 51, 54, 58, 60, 63, 66, 68, 69, 70, 71, 72, 73, 74, 75, 76, 77, 78, 79], -26: [74, 45, 74, 51, 53, 56, 59, 62, 64, 67, 68, 69, 70, 72, 73, 74, 75, 76, 77, 78, 79], -25: [75, 43, 75, 48, 51, 54, 57, 59, 62, 64, 67, 68, 69, 71, 72, 73, 74, 75, 76, 77, 78], -24: [76, 42, 76, 48, 50, 53, 55, 58, 60, 63, 66, 68, 69, 70, 72, 73, 74, 75, 76, 78, 79], -23: [77, 41, 77, 46, 49, 52, 54, 57, 59, 62, 64, 67, 68, 70, 71, 73, 74, 75, 76, 78, 79], -22: [78, 40, 78, 46, 48, 51, 53, 56, 58, 61, 64, 66, 68, 69, 71, 72, 74, 75, 77, 78, 79], -21: [79, 38, 79, 44, 47, 49, 52, 54, 57, 59, 62, 64, 67, 68, 70, 72, 73, 75, 76, 78, 79], -20: [80, 37, 80, 43, 46, 48, 51, 53, 56, 58, 61, 64, 66, 68, 70, 72, 73, 75, 77, 78, 80], -19: [81, 37, 81, 43, 46, 48, 51, 53, 56, 58, 61, 64, 66, 68, 70, 72, 74, 75, 77, 79, 80], -18: [82, 36, 82, 42, 45, 47, 50, 53, 55, 58, 60, 63, 66, 68, 70, 72, 74, 75, 77, 79, 81], -17: [83, 35, 83, 41, 44, 46, 49, 52, 54, 57, 60, 62, 65, 67, 70, 72, 74, 76, 78, 80, 82], -16: [83, 35, 83, 41, 43, 46, 48, 51, 54, 56, 59, 61, 64, 66, 69, 71, 73, 75, 77, 79, 81], -15: [83, 34, 83, 39, 42, 44, 47, 50, 52, 55, 57, 60, 62, 65, 67, 70, 72, 74, 77, 79, 81], -14: [82, 34, 82, 39, 41, 44, 46, 49, 51, 53, 56, 58, 61, 63, 66, 68, 70, 73, 75, 78, 80], -13: [82, 34, 82, 38, 41, 43, 45, 48, 50, 53, 55, 57, 60, 62, 64, 67, 69, 72, 75, 77, 80], -12: [81, 33, 81, 38, 40, 42, 44, 47, 49, 51, 54, 56, 58, 60, 63, 65, 67, 70, 73, 76, 79], -11: [81, 32, 81, 37, 39, 41, 43, 45, 48, 50, 52, 55, 57, 59, 62, 64, 66, 69, 72, 75, 78], -10: [80, 32, 80, 36, 38, 40, 42, 44, 47, 49, 51, 53, 56, 58, 60, 62, 65, 67, 70, 73, 77], -9: [80, 32, 80, 36, 38, 40, 42, 44, 46, 48, 50, 53, 55, 57, 59, 61, 64, 66, 69, 72, 76], -8: [79, 31, 79, 35, 37, 39, 41, 43, 45, 47, 49, 51, 54, 56, 58, 60, 62, 64, 67, 70, 74], -7: [79, 31, 79, 34, 36, 38, 40, 42, 44, 46, 48, 50, 52, 55, 57, 59, 61, 64, 66, 69, 74], -6: [78, 30, 78, 33, 35, 37, 39, 41, 43, 45, 47, 49, 51, 54, 56, 58, 60, 62, 65, 67, 71], -5: [78, 30, 78, 33, 35, 36, 38, 40, 42, 44, 46, 49, 51, 53, 55, 57, 60, 62, 64, 66, 70], -4: [77, 30, 77, 32, 34, 35, 37, 39, 41, 43, 45, 47, 49, 52, 54, 56, 58, 60, 62, 65, 67], -3: [77, 29, 77, 32, 33, 35, 37, 39, 41, 43, 44, 47, 49, 51, 53, 56, 58, 60, 62, 65, 67], -2: [76, 29, 76, 31, 32, 34, 36, 38, 40, 42, 44, 45, 48, 50, 52, 55, 57, 59, 61, 63, 66], -1: [76, 29, 76, 31, 32, 34, 35, 37, 39, 41, 43, 45, 47, 50, 52, 54, 56, 59, 61, 63, 65], 0: [28, 29, 75, 31, 32, 33, 35, 37, 38, 40, 42, 44, 46, 49, 51, 53, 56, 57, 60, 62, 65], 1: [28, 28, 75, 30, 31, 33, 34, 36, 38, 40, 42, 44, 46, 48, 50, 53, 55, 57, 60, 62, 65], 2: [29, 28, 74, 30, 31, 32, 34, 36, 38, 39, 41, 43, 45, 47, 50, 52, 55, 57, 59, 61, 63], 3: [29, 28, 74, 30, 31, 32, 34, 35, 37, 39, 41, 43, 45, 47, 49, 52, 55, 57, 59, 61, 64], 4: [30, 28, 73, 30, 31, 32, 34, 35, 37, 39, 41, 43, 44, 47, 49, 51, 54, 56, 58, 61, 63], 5: [31, 29, 73, 30, 31, 32, 34, 35, 37, 39, 41, 43, 45, 47, 49, 52, 54, 56, 59, 61, 63], 6: [32, 29, 72, 30, 31, 32, 34, 35, 37, 39, 41, 43, 44, 47, 49, 51, 54, 56, 58, 61, 62], 7: [33, 29, 72, 30, 31, 32, 34, 35, 37, 39, 41, 42, 44, 47, 49, 51, 54, 56, 58, 61, 63], 8: [34, 29, 71, 30, 31, 32, 34, 35, 37, 39, 40, 42, 44, 46, 49, 51, 53, 56, 58, 61, 62], 9: [35, 29, 70, 30, 31, 32, 33, 35, 37, 38, 40, 42, 44, 46, 49, 50, 53, 56, 57, 60, 62], 10: [36, 29, 70, 30, 31, 32, 34, 35, 37, 39, 40, 42, 44, 46, 49, 51, 54, 56, 58, 61, 63], 11: [37, 29, 69, 30, 31, 32, 33, 34, 36, 38, 40, 42, 44, 45, 48, 50, 53, 56, 58, 61, 62], 12: [38, 29, 68, 30, 31, 32, 33, 34, 36, 38, 40, 42, 43, 45, 48, 50, 53, 56, 58, 61, 62], 13: [39, 29, 68, 30, 31, 32, 33, 34, 36, 38, 40, 42, 44, 46, 49, 50, 54, 56, 59, 61, 64], 14: [40, 29, 67, 30, 31, 32, 33, 34, 36, 38, 40, 42, 43, 45, 49, 50, 54, 56, 59, 61, 64], 15: [41, 29, 66, 30, 31, 31, 33, 34, 36, 37, 39, 41, 43, 45, 48, 50, 53, 56, 58, 61, 63], 16: [42, 29, 65, 30, 31, 31, 32, 34, 35, 37, 39, 41, 43, 45, 47, 50, 52, 55, 57, 60, 62], 17: [43, 29, 64, 30, 31, 31, 32, 34, 35, 37, 38, 40, 42, 44, 46, 49, 51, 54, 56, 59, 61], 18: [44, 29, 63, 30, 31, 31, 32, 33, 34, 36, 38, 40, 42, 43, 45, 48, 50, 53, 56, 58, 61], 19: [45, 28, 62, 30, 30, 31, 32, 33, 34, 36, 37, 39, 41, 43, 45, 47, 50, 52, 56, 57, 61], 20: [46, 28, 61, 30, 30, 31, 31, 32, 34, 35, 37, 38, 40, 42, 44, 46, 49, 51, 55, 56, 60], 21: [47, 28, 60, 30, 30, 31, 31, 32, 33, 34, 36, 38, 39, 41, 43, 45, 47, 50, 52, 55, 57], 22: [48, 28, 59, 29, 30, 30, 31, 31, 32, 34, 35, 37, 38, 40, 42, 44, 45, 49, 50, 54, 56], 23: [49, 28, 58, 29, 30, 30, 31, 31, 32, 33, 34, 36, 38, 39, 41, 43, 45, 47, 50, 52, 56], 24: [50, 29, 57, 28, 28, 29, 30, 30, 31, 31, 32, 33, 34, 36, 38, 40, 42, 44, 47, 50, 55], 25: [51, 29, 56, 28, 28, 29, 30, 30, 31, 31, 32, 33, 34, 36, 38, 40, 42, 44, 47, 50, 55], 26: [52, 32, 55, 28, 28, 29, 29, 30, 30, 31, 31, 32, 34, 35, 37, 39, 41, 43, 45, 49, 52], 27: [53, 29, 54, 28, 28, 29, 30, 30, 30, 31, 31, 32, 34, 35, 37, 38, 40, 42, 44, 47, 50], 28: [54, 29, 53, 28, 28, 29, 29, 30, 30, 31, 31, 32, 33, 34, 36, 38, 40, 42, 44, 47, 50], 29: [55, 31, 52, 28, 28, 28, 29, 30, 30, 31, 31, 32, 33, 34, 35, 37, 39, 41, 43, 45, 49], 30: [56, 35, 51, 28, 28, 28, 28, 29, 30, 30, 31, 31, 32, 33, 34, 36, 38, 40, 42, 44, 47]}, {-30: -71.02050483560028, -29: -66.32182431830084, -28: -63.131590025768496, -27: -60.14190006911773, -26: -57.34919770340445, -25: -53.40401147436688, -24: -51.009005957494544, -23: -48.78830813223984, -22: -46.72954242724931, -21: -43.5884125916132, -20: -41.85434910426582, -19: -40.44403960476879, -18: -38.91424888048243, -17: -37.49398333408339, -16: -35.26875253587109, -15: -32.986744688092266, -14: -30.956205407054338, -13: -28.53840396043139, -12: -26.210225266425596, -11: -24.074309718569534, -10: -21.693869605504144, -9: -19.47421405230625, -8: -17.02336141453522, -7: -15.141900069117733, -6: -12.7007011432778, -5: -10.61349311447606, -4: -8.580667994269069, -3: -6.60503937963729, -2: -4.219095349248467, -1: -2.3412179019631307, 0: 0.0, 1: 1.7658569658669196, 2: 4.6329087501409605, 3: 6.288926790983943, 4: 8.359839888244588, 5: 9.817148118678016, 6: 11.984678865642298, 7: 14.21585347367354, 8: 16.447028081704783, 9: 18.729841931674805, 10: 20.22485943116807, 11: 23.188480088569925, 12: 25.525785947693763, 13: 26.98709603857498, 14: 29.339860781984115, 15: 31.20667676565972, 16: 33.140497889724784, 17: 34.67812499709574, 18: 36.773100108379204, 19: 38.933294384756934, 20: 40.78090465075154, 21: 42.755838661633504, 22: 44.86652143072641, 23: 47.39436513306628, 24: 49.969740728110295, 25: 52.42687889923476, 26: 55.030937348555135, 27: 57.747052759287705, 28: -119.31534581194063, 29: -116.27015806832519, 30: -113.08809480430988})\n"
          ],
          "name": "stdout"
        }
      ]
    }
  ]
}