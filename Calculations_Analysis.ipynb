{
  "nbformat": 4,
  "nbformat_minor": 0,
  "metadata": {
    "colab": {
      "name": "Calculations - Analysis.ipynb",
      "provenance": [],
      "collapsed_sections": [],
      "toc_visible": true,
      "machine_shape": "hm",
      "include_colab_link": true
    },
    "kernelspec": {
      "name": "python3",
      "display_name": "Python 3"
    }
  },
  "cells": [
    {
      "cell_type": "markdown",
      "metadata": {
        "id": "view-in-github",
        "colab_type": "text"
      },
      "source": [
        "<a href=\"https://colab.research.google.com/github/douyang/echonet-function-evaluation/blob/master/Calculations_Analysis.ipynb\" target=\"_parent\"><img src=\"https://colab.research.google.com/assets/colab-badge.svg\" alt=\"Open In Colab\"/></a>"
      ]
    },
    {
      "cell_type": "markdown",
      "metadata": {
        "id": "1jGANGwopG4g"
      },
      "source": [
        "# Generating Image Samples"
      ]
    },
    {
      "cell_type": "code",
      "metadata": {
        "id": "pb8mnyOscRTj"
      },
      "source": [
        "from google.colab.patches import cv2_imshow\n",
        "import os\n",
        "import cv2\n",
        "import numpy as np"
      ],
      "execution_count": 1,
      "outputs": []
    },
    {
      "cell_type": "code",
      "metadata": {
        "id": "clYOAL30gH5-"
      },
      "source": [
        "path = \"/content/0X100E3B8D3280BEC5.avi_38.png\""
      ],
      "execution_count": 2,
      "outputs": []
    },
    {
      "cell_type": "markdown",
      "metadata": {
        "id": "DHXCX73VzjZn"
      },
      "source": [
        "#Get all of the coordinates of the edge of the segmented mask(Red Version)"
      ]
    },
    {
      "cell_type": "code",
      "metadata": {
        "id": "OkLPu6KZzieu"
      },
      "source": [
        "# # read image\n",
        "# img = cv2.imread(path)\n",
        "# rgb = cv2.cvtColor(img, cv2.COLOR_BGR2RGB)\n",
        "\n",
        "# # set lower and upper bounds on blue color\n",
        "# lower = (100,0,0)\n",
        "# upper = (255,0,0)\n",
        "\n",
        "# # threshold and invert so hexagon is white on black background\n",
        "# thresh = cv2.inRange(rgb, lower, upper)\n",
        "\n",
        "# # get contours\n",
        "# result = np.zeros_like(thresh)\n",
        "# contours = cv2.findContours(thresh, cv2.RETR_EXTERNAL, cv2.CHAIN_APPROX_NONE)\n",
        "# contours = contours[0] if len(contours) == 2 else contours[1]\n",
        "\n",
        "# points = []\n",
        "# # list contour points\n",
        "# for pt in contours:\n",
        "#     for i in pt:\n",
        "#       for coord in i:\n",
        "#         points.append(coord.tolist())\n",
        "# print(points)\n",
        "\n",
        "# print(\"Number of points: \", len(points))\n",
        "# # show thresh and contour  \n",
        "# cv2_imshow(thresh)\n",
        "# cv2_imshow(img)\n",
        "\n",
        "# cv2.waitKey(0)\n",
        "# cv2.destroyAllWindows()\n"
      ],
      "execution_count": 3,
      "outputs": []
    },
    {
      "cell_type": "markdown",
      "metadata": {
        "id": "VxTYjT1ckr7z"
      },
      "source": [
        "# Blue Version"
      ]
    },
    {
      "cell_type": "code",
      "metadata": {
        "id": "XaHMKuUIhIpn"
      },
      "source": [
        "# # read image\n",
        "# img = cv2.imread(path)\n",
        "# rgb = cv2.cvtColor(img, cv2.COLOR_BGR2RGB)\n",
        "\n",
        "# # set lower and upper bounds on blue color\n",
        "# lower = (0,0,100)\n",
        "# upper = (255,255,255)\n",
        "\n",
        "# # threshold and invert so hexagon is white on black background\n",
        "# thresh = cv2.inRange(rgb, lower, upper)\n",
        "\n",
        "\n",
        "# # get contours\n",
        "# result = np.zeros_like(thresh)\n",
        "# contours = cv2.findContours(thresh, cv2.RETR_EXTERNAL, cv2.CHAIN_APPROX_NONE)\n",
        "# contours = contours[0] if len(contours) == 2 else contours[1]\n",
        "\n",
        "# points = []\n",
        "# # list contour points\n",
        "# for pt in contours:\n",
        "#     for i in pt:\n",
        "#       for coord in i:\n",
        "#         points.append(coord.tolist())\n",
        "# print(points)\n",
        "\n",
        "# print(\"Number of points: \", len(points))\n",
        "# # show thresh and contour  \n",
        "# cv2_imshow(thresh)\n",
        "# cv2_imshow(img)\n",
        "# # cv2_imshow(opening)\n",
        "# # cv2_imshow(closing)\n",
        "\n",
        "# cv2.waitKey(0)\n",
        "# cv2.destroyAllWindows()\n"
      ],
      "execution_count": 4,
      "outputs": []
    },
    {
      "cell_type": "markdown",
      "metadata": {
        "id": "_eTgTNqmuMAy"
      },
      "source": [
        "# Mask from binary mask"
      ]
    },
    {
      "cell_type": "code",
      "metadata": {
        "id": "cago6URCuLd3",
        "outputId": "9f4d28de-6edb-4fa2-fa7c-0ec10b7ac227",
        "colab": {
          "base_uri": "https://localhost:8080/",
          "height": 295
        }
      },
      "source": [
        "# read image\n",
        "img = cv2.imread(path)\n",
        "rgb = cv2.cvtColor(img, cv2.COLOR_BGR2RGB)\n",
        "\n",
        "# set lower and upper bounds on blue color\n",
        "lower = (200,200,200)\n",
        "upper = (255,255,255)\n",
        "\n",
        "# threshold and invert so hexagon is white on black background\n",
        "thresh = cv2.inRange(rgb, lower, upper)\n",
        "\n",
        "# get contours\n",
        "result = np.zeros_like(thresh)\n",
        "contours = cv2.findContours(thresh, cv2.RETR_EXTERNAL, cv2.CHAIN_APPROX_NONE)\n",
        "contours = contours[0] if len(contours) == 2 else contours[1]\n",
        "\n",
        "points = []\n",
        "# list contour points\n",
        "for pt in contours:\n",
        "    for i in pt:\n",
        "      for coord in i:\n",
        "        points.append(coord.tolist())\n",
        "print(points)\n",
        "\n",
        "print(\"Number of points: \", len(points))\n",
        "# show thresh and contour  \n",
        "cv2_imshow(img)\n",
        "cv2_imshow(thresh)\n",
        "\n",
        "# cv2_imshow(opening)\n",
        "# cv2_imshow(closing)\n",
        "\n",
        "cv2.waitKey(0)\n",
        "cv2.destroyAllWindows()\n"
      ],
      "execution_count": 5,
      "outputs": [
        {
          "output_type": "stream",
          "text": [
            "[[57, 29], [57, 30], [57, 31], [56, 32], [56, 33], [56, 34], [55, 35], [55, 36], [54, 37], [54, 38], [54, 39], [53, 40], [53, 41], [53, 42], [53, 43], [53, 44], [53, 45], [53, 46], [53, 47], [54, 48], [54, 49], [54, 50], [54, 51], [55, 52], [55, 53], [55, 54], [56, 55], [56, 56], [57, 57], [57, 58], [57, 59], [57, 60], [58, 61], [58, 62], [58, 63], [58, 64], [58, 65], [58, 66], [58, 67], [58, 68], [58, 69], [59, 70], [59, 71], [60, 71], [61, 71], [62, 71], [63, 71], [64, 71], [65, 71], [66, 71], [67, 71], [68, 71], [69, 71], [70, 71], [71, 71], [72, 71], [73, 70], [74, 70], [75, 70], [76, 70], [77, 69], [78, 69], [79, 69], [80, 69], [80, 68], [80, 67], [80, 66], [80, 65], [80, 64], [80, 63], [80, 62], [80, 61], [80, 60], [80, 59], [79, 58], [79, 57], [79, 56], [79, 55], [79, 54], [79, 53], [79, 52], [78, 51], [78, 50], [77, 49], [77, 48], [77, 47], [76, 46], [76, 45], [75, 44], [75, 43], [74, 42], [74, 41], [73, 40], [73, 39], [72, 38], [72, 37], [71, 36], [70, 35], [69, 34], [68, 33], [67, 32], [66, 31], [65, 30], [64, 29], [63, 29], [62, 29], [61, 29], [60, 29], [59, 29], [58, 29]]\n",
            "Number of points:  110\n"
          ],
          "name": "stdout"
        },
        {
          "output_type": "display_data",
          "data": {
            "image/png": "[encoded data removed]",
            "text/plain": [
              "<PIL.Image.Image image mode=RGB size=112x112 at 0x7F17E8109240>"
            ]
          },
          "metadata": {
            "tags": []
          }
        },
        {
          "output_type": "display_data",
          "data": {
            "image/png": "[encoded data removed]",
            "text/plain": [
              "<PIL.Image.Image image mode=L size=112x112 at 0x7F17E8109278>"
            ]
          },
          "metadata": {
            "tags": []
          }
        }
      ]
    },
    {
      "cell_type": "code",
      "metadata": {
        "id": "GrvWzR4MlKM8"
      },
      "source": [
        "pointGroups = []\n",
        "index = 0\n",
        "subgroup = [points[0]]\n",
        "\n",
        "for i in range(len(points) - 1):\n",
        "  prevPoint = points[i]\n",
        "  currentPoint = points[i+1]\n",
        "\n",
        "  if abs(prevPoint[0]-currentPoint[0]) <= 1 and abs(prevPoint[1]-currentPoint[1]) <= 1:\n",
        "    subgroup.append(currentPoint)\n",
        "  else:\n",
        "    pointGroups.append(subgroup[:])\n",
        "    subgroup = [currentPoint]\n",
        "\n",
        "pointGroups.append(subgroup)\n",
        "\n",
        "mainPointGroup = []\n",
        "maxPointGroupSize = 0\n",
        "\n",
        "for group in pointGroups:\n",
        "  if len(group) > maxPointGroupSize:\n",
        "    maxPointGroup = group\n",
        "    maxPointGroupSize = len(group)\n",
        "\n",
        "points = maxPointGroup[:]"
      ],
      "execution_count": 6,
      "outputs": []
    },
    {
      "cell_type": "markdown",
      "metadata": {
        "id": "eTM-6vUrz19L"
      },
      "source": [
        "# Top 5 and Bottom 5 Analysis(Heuristic 2)\n"
      ]
    },
    {
      "cell_type": "code",
      "metadata": {
        "id": "bXj9D_WPYf54",
        "outputId": "f889c7d7-a513-48f1-bad9-f22fb4b8964c",
        "colab": {
          "base_uri": "https://localhost:8080/",
          "height": 34
        }
      },
      "source": [
        "def getDistance(point1, point2):\n",
        "  return math.sqrt((point1[0]-point2[0])**2 + (point1[1]-point2[1])**2)\n",
        "\n",
        "def getSlope(point1, point2):\n",
        "  if ((point1[0] == point2[0])):\n",
        "    return -333\n",
        "  return (point1[1] - point2[1])/(point1[0] - point2[0])\n",
        "\n",
        "# Minimum and Maximum Y Coord\n",
        "maxY = max(points, key = lambda point: point[1])\n",
        "minY = min(points, key = lambda point: point[1])\n",
        "\n",
        "# MinY and MaxY With the limits\n",
        "minYWith5 = minY[1] + 5\n",
        "maxYWithout5 = maxY[1] - 15\n",
        "\n",
        "# Creating these arrays\n",
        "minYWith5Arr = []\n",
        "maxYWithout5Arr = []\n",
        "\n",
        "# Finding these points\n",
        "for point in points:\n",
        "  if point[1] == minYWith5:\n",
        "    minYWith5Arr.append(point)\n",
        "  if point[1] == maxYWithout5:\n",
        "    maxYWithout5Arr.append(point)\n",
        "\n",
        "# Average X Coordinates\n",
        "averageTopX = round((minYWith5Arr[0][0] + minYWith5Arr[-1][0])/2)\n",
        "averageBottomX = round((maxYWithout5Arr[0][0] + maxYWithout5Arr[-1][0])/2)\n",
        "slope = getSlope([averageTopX, minYWith5], [averageBottomX, maxYWithout5])\n",
        "\n",
        "if slope > 0:\n",
        "  averageTopX -= round((minYWith5Arr[-1][0] - minYWith5Arr[0][0])/1.5/slope)\n",
        "  averageBottomX += round((maxYWithout5Arr[-1][0] - maxYWithout5Arr[0][0])/3/slope)\n",
        "else:\n",
        "  averageTopX -= round((minYWith5Arr[-1][0] - minYWith5Arr[0][0])/1.5/slope)\n",
        "  averageBottomX += round((maxYWithout5Arr[-1][0] - maxYWithout5Arr[0][0])/3/slope)\n",
        "\n",
        "\n",
        "# Creating these arrays\n",
        "averageTopXArr = []\n",
        "averageBottomXArr = []\n",
        "\n",
        "# Finding these points\n",
        "condition = True\n",
        "if slope > 0:\n",
        "  while condition and averageTopX <= minYWith5Arr[-1][0] and averageBottomX >= maxYWithout5Arr[0][0]:\n",
        "    for point in points:\n",
        "      if point[0] == averageTopX:\n",
        "        averageTopXArr.append(point)\n",
        "      if point[0] == averageBottomX:\n",
        "        averageBottomXArr.append(point)\n",
        "    if len(averageTopXArr) > 0 and len(averageBottomXArr):\n",
        "      condition = False\n",
        "    if len(averageTopXArr) == 0:\n",
        "      averageTopX += 1\n",
        "    if len(averageBottomXArr) == 0:\n",
        "      averageBottomXArr -= 1\n",
        "else:\n",
        "  while condition and averageTopX >= minYWith5Arr[0][0] and averageBottomX <= maxYWithout5Arr[-1][0]:\n",
        "    for point in points:\n",
        "      if point[0] == averageTopX:\n",
        "        averageTopXArr.append(point)\n",
        "      if point[0] == averageBottomX:\n",
        "        averageBottomXArr.append(point)\n",
        "    if len(averageTopXArr) > 0 and len(averageBottomXArr):\n",
        "      condition = False\n",
        "    if len(averageTopXArr) == 0:\n",
        "      averageTopX -= 1\n",
        "    if len(averageBottomXArr) == 0:\n",
        "      averageBottomXArr += 1\n",
        "\n",
        "# Sorting Arrs\n",
        "averageTopXArr.sort(key=lambda point: point[1])\n",
        "averageBottomXArr.sort(key=lambda point: point[1])\n",
        "averageBottomXArr.reverse()\n",
        "\n",
        "\n",
        "# Finding Min Top and Max Bottom\n",
        "TopCoord = averageTopXArr[0]\n",
        "BottomCoord = averageBottomXArr[0]\n",
        "\n",
        "x1, y1 = TopCoord\n",
        "x2, y2 = BottomCoord\n",
        "\n",
        "if (x1 + y1) > (x2 + y2):\n",
        "  x1, y1, x2, y2 = x2, y2, x1, y1\n",
        "\n",
        "print(x1, y1, x2, y2)"
      ],
      "execution_count": 7,
      "outputs": [
        {
          "output_type": "stream",
          "text": [
            "60 29 70 71\n"
          ],
          "name": "stdout"
        }
      ]
    },
    {
      "cell_type": "markdown",
      "metadata": {
        "id": "h1Hbm3Zp0MMV"
      },
      "source": [
        "# Calculate Weighted Average"
      ]
    },
    {
      "cell_type": "code",
      "metadata": {
        "id": "FFDvJJ110O1H",
        "outputId": "f3d12d29-4d92-4c33-8c05-593708dc7c4e",
        "colab": {
          "base_uri": "https://localhost:8080/",
          "height": 54
        }
      },
      "source": [
        "import math\n",
        "\n",
        "# parallel_dist = distance/21\n",
        "\n",
        "weighted_avg = []\n",
        "\n",
        "for n in range(1, 21, 1):\n",
        "  x_perpendicular = (((n*x1)+(21-n)*(x2))/21)\n",
        "  y_perpendicular = (((n*y1)+(21-n)*(y2))/21)\n",
        "  weighted_avg.append([x_perpendicular, y_perpendicular])\n",
        "\n",
        "print(weighted_avg)"
      ],
      "execution_count": 8,
      "outputs": [
        {
          "output_type": "stream",
          "text": [
            "[[69.52380952380952, 69.0], [69.04761904761905, 67.0], [68.57142857142857, 65.0], [68.0952380952381, 63.0], [67.61904761904762, 61.0], [67.14285714285714, 59.0], [66.66666666666667, 57.0], [66.19047619047619, 55.0], [65.71428571428571, 53.0], [65.23809523809524, 51.0], [64.76190476190476, 49.0], [64.28571428571429, 47.0], [63.80952380952381, 45.0], [63.333333333333336, 43.0], [62.857142857142854, 41.0], [62.38095238095238, 39.0], [61.904761904761905, 37.0], [61.42857142857143, 35.0], [60.95238095238095, 33.0], [60.476190476190474, 31.0]]\n"
          ],
          "name": "stdout"
        }
      ]
    },
    {
      "cell_type": "markdown",
      "metadata": {
        "id": "TLFxNNTyvynO"
      },
      "source": [
        "# Find All Mask White points"
      ]
    },
    {
      "cell_type": "code",
      "metadata": {
        "id": "EUn8wGqxv3Xz",
        "outputId": "39bfb35a-b19c-4109-d12a-c588a8626c82",
        "colab": {
          "base_uri": "https://localhost:8080/",
          "height": 71
        }
      },
      "source": [
        "p1Index = points.index([x1, y1])\n",
        "p2Index = points.index([x2, y2])\n",
        "\n",
        "lowerIndex = min(p1Index, p2Index)\n",
        "higherIndex = max(p1Index, p2Index)\n",
        "\n",
        "higherIntercept = points[lowerIndex:higherIndex]\n",
        "lowerIntercept = points[higherIndex:] + points[:lowerIndex]\n",
        "\n",
        "if (higherIntercept[0][0] + higherIntercept[0][1]) > (lowerIntercept[0][0] + lowerIntercept[0][1]):\n",
        "  lowerIntercept, higherIntercept = higherIntercept, lowerIntercept\n",
        "\n",
        "print(lowerIntercept)\n",
        "print(higherIntercept)"
      ],
      "execution_count": 9,
      "outputs": [
        {
          "output_type": "stream",
          "text": [
            "[[70, 71], [71, 71], [72, 71], [73, 70], [74, 70], [75, 70], [76, 70], [77, 69], [78, 69], [79, 69], [80, 69], [80, 68], [80, 67], [80, 66], [80, 65], [80, 64], [80, 63], [80, 62], [80, 61], [80, 60], [80, 59], [79, 58], [79, 57], [79, 56], [79, 55], [79, 54], [79, 53], [79, 52], [78, 51], [78, 50], [77, 49], [77, 48], [77, 47], [76, 46], [76, 45], [75, 44], [75, 43], [74, 42], [74, 41], [73, 40], [73, 39], [72, 38], [72, 37], [71, 36], [70, 35], [69, 34], [68, 33], [67, 32], [66, 31], [65, 30], [64, 29], [63, 29], [62, 29], [61, 29]]\n",
            "[[60, 29], [59, 29], [58, 29], [57, 29], [57, 30], [57, 31], [56, 32], [56, 33], [56, 34], [55, 35], [55, 36], [54, 37], [54, 38], [54, 39], [53, 40], [53, 41], [53, 42], [53, 43], [53, 44], [53, 45], [53, 46], [53, 47], [54, 48], [54, 49], [54, 50], [54, 51], [55, 52], [55, 53], [55, 54], [56, 55], [56, 56], [57, 57], [57, 58], [57, 59], [57, 60], [58, 61], [58, 62], [58, 63], [58, 64], [58, 65], [58, 66], [58, 67], [58, 68], [58, 69], [59, 70], [59, 71], [60, 71], [61, 71], [62, 71], [63, 71], [64, 71], [65, 71], [66, 71], [67, 71], [68, 71], [69, 71]]\n"
          ],
          "name": "stdout"
        }
      ]
    },
    {
      "cell_type": "code",
      "metadata": {
        "id": "jQSOeO-chFhD"
      },
      "source": [
        "def findCorrespondingMaskPoints(weighted_avg, lowerIntercept, higherIntercept, x1, y1, x2, y2, slope, i):\n",
        "  # Calculate perpendicular slope\n",
        "  try:\n",
        "    perp_slope = -1/slope\n",
        "  except:\n",
        "    perp_slope = 10000\n",
        "\n",
        "  # Indexing\n",
        "  lowerIndex = 0\n",
        "  higherIndex = 0\n",
        "\n",
        "  # Make sure its from top to bottom direction\n",
        "  if (weighted_avg[-1][0] + weighted_avg[-1][1]) < (weighted_avg[0][0] + weighted_avg[0][1]):\n",
        "    weighted_avg = weighted_avg[::-1]\n",
        "\n",
        "  # Make sure its from top to bottom direction\n",
        "  if getDistance(weighted_avg[0], higherIntercept[0]) > getDistance(weighted_avg[0], higherIntercept[-1]):\n",
        "      higherIntercept = higherIntercept[::-1]\n",
        "\n",
        "  # Make sure its from top to bottom direction\n",
        "  if getDistance(weighted_avg[0], lowerIntercept[0]) > getDistance(weighted_avg[0], lowerIntercept[-1]):\n",
        "      lowerIntercept = lowerIntercept[::-1]\n",
        "\n",
        "  higherInterceptAveragePoints = []\n",
        "  lowerInterceptAveragePoints = []\n",
        "\n",
        "  for averagePoint in weighted_avg:\n",
        "    try:\n",
        "      condition = True\n",
        "      count = 0\n",
        "      while condition:\n",
        "        point = higherIntercept[higherIndex]\n",
        "        if higherIndex == 0:\n",
        "          prev_point =  [x1, y1] if getDistance(point, [x1, y1]) < getDistance(point, [x2, y2]) else [x2, y2]\n",
        "          start_point = prev_point[:]\n",
        "        elif higherIndex == 1:\n",
        "          prev_point = higherIntercept[higherIndex-1]\n",
        "        else:\n",
        "          prev_point = higherIntercept[higherIndex-2]\n",
        "        \n",
        "        new_slope = getSlope(point, averagePoint)\n",
        "        prev_slope =  getSlope(prev_point, averagePoint)\n",
        "        betweenCond = ((point[0] < averagePoint[0] and prev_point[0] > averagePoint[0]) or (point[0] > averagePoint[0] and prev_point[0] < averagePoint[0])) and abs(new_slope) > abs(slope) and abs(prev_slope) > abs(slope)\n",
        "        slopeCond = (new_slope >= perp_slope and prev_slope<=perp_slope) or  (new_slope <= perp_slope and prev_slope>=perp_slope)\n",
        "\n",
        "        if slopeCond and not betweenCond:\n",
        "          higherInterceptAveragePoints.append(point)\n",
        "          condition = False\n",
        "        elif abs(perp_slope) >= 10 and ((new_slope > 0 and prev_slope < 0) or (new_slope < 0 and prev_slope > 0)):\n",
        "          higherInterceptAveragePoints.append(point)\n",
        "          condition = False\n",
        "        elif count > len(higherIntercept)/2:\n",
        "          higherIndex -= count\n",
        "          if higherIndex == 0:\n",
        "            higherInterceptAveragePoints.append(start_point)\n",
        "          else:\n",
        "            higherInterceptAveragePoints.append(higherIntercept[higherIndex])\n",
        "          condition = False\n",
        "        \n",
        "        count += 1\n",
        "        higherIndex += 1\n",
        "    except:\n",
        "      higherInterceptAveragePoints.append(higherIntercept[higherIndex - 1])\n",
        "\n",
        "  for averagePoint in weighted_avg:\n",
        "    try:\n",
        "      condition = True\n",
        "      count = 0\n",
        "      while condition:\n",
        "        point = lowerIntercept[lowerIndex]\n",
        "        if lowerIndex == 0:\n",
        "          prev_point = [x1, y1] if getDistance(point, [x1, y1]) < getDistance(point, [x2, y2]) else [x2, y2]\n",
        "          start_point = prev_point[:]\n",
        "        elif lowerIndex == 1:\n",
        "          prev_point  = lowerIntercept[lowerIndex-1]\n",
        "        else:\n",
        "          prev_point = lowerIntercept[lowerIndex-2]\n",
        "\n",
        "        new_slope = getSlope(point, averagePoint)\n",
        "        prev_slope =  getSlope(prev_point, averagePoint)\n",
        "        betweenCond = ((point[0] < averagePoint[0] and prev_point[0] > averagePoint[0]) or (point[0] > averagePoint[0] and prev_point[0] < averagePoint[0])) and abs(new_slope) > abs(slope) and abs(prev_slope) > abs(slope)\n",
        "        slopeCond = (new_slope >= perp_slope and prev_slope<=perp_slope) or  (new_slope <= perp_slope and prev_slope>=perp_slope)\n",
        "\n",
        "        print( slopeCond and not betweenCond, point, prev_point, averagePoint, new_slope, prev_slope, perp_slope)\n",
        "\n",
        "# True [73, 70] [72, 71] [66.0001, 52.666666666666664] 2.47622585084549 3.0556064823302633 3.0\n",
        "# False [74, 70] [73, 70] [67.0001, 52.333333333333336] 2.523845578746364 2.9444935193364348 3.0\n",
        "# False [75, 70] [74, 70] [67.0001, 52.333333333333336] 2.208360937845057 2.523845578746364 3.0\n",
        "# False [76, 70] [75, 70] [67.0001, 52.333333333333336] 1.9629847739048958 2.208360937845057 3.0\n",
        "# False [77, 69] [76, 70] [67.0001, 52.333333333333336] 1.666683333500002 1.9629847739048958 3.0\n",
        "# False [78, 69] [77, 69] [67.0001, 52.333333333333336] 1.515165289381419 1.666683333500002 3.0\n",
        "# False [79, 69] [78, 69] [67.0001, 52.333333333333336] 1.3889004630594146 1.515165289381419 3.0\n",
        "# False [80, 69] [79, 69] [67.0001, 52.333333333333336] 1.2820611440600826 1.3889004630594146 3.0\n",
        "# False [80, 68] [80, 69] [67.0001, 52.333333333333336] 1.2051374754164776 1.2820611440600826 3.0\n",
        "# False [80, 67] [80, 68] [67.0001, 52.333333333333336] 1.1282138067728726 1.2051374754164776 3.0\n",
        "# False [80, 66] [80, 67] [67.0001, 52.333333333333336] 1.0512901381292676 1.1282138067728726 3.0\n",
        "# False [80, 65] [80, 66] [67.0001, 52.333333333333336] 0.9743664694856627 1.0512901381292676 3.0\n",
        "# False [80, 64] [80, 65] [67.0001, 52.333333333333336] 0.8974428008420579 0.9743664694856627 3.0\n",
        "# False [80, 63] [80, 64] [67.0001, 52.333333333333336] 0.8205191321984528 0.8974428008420579 3.0\n",
        "# False [80, 62] [80, 63] [67.0001, 52.333333333333336] 0.7435954635548478 0.8205191321984528 3.0\n",
        "# False [80, 61] [80, 62] [67.0001, 52.333333333333336] 0.6666717949112428 0.7435954635548478 3.0\n",
        "# False [80, 60] [80, 61] [67.0001, 52.333333333333336] 0.589748126267638 0.6666717949112428 3.0\n",
        "\n",
        "        if slopeCond and not betweenCond:\n",
        "          lowerInterceptAveragePoints.append(point)\n",
        "          condition = False\n",
        "        elif abs(perp_slope) > 10 and ((new_slope > 0 and prev_slope < 0) or (new_slope < 0 and prev_slope > 0)):\n",
        "          lowerInterceptAveragePoints.append(point)\n",
        "          condition = False\n",
        "        elif count > len(lowerIntercept)/2:\n",
        "          lowerIndex -= count\n",
        "          if lowerIndex == 0:\n",
        "            lowerInterceptAveragePoints.append(start_point)\n",
        "          else:\n",
        "            lowerInterceptAveragePoints.append(lowerIntercept[lowerIndex])\n",
        "          condition = False\n",
        "        \n",
        "        count += 1\n",
        "        lowerIndex += 1\n",
        "    except:\n",
        "      lowerInterceptAveragePoints.append(lowerIntercept[lowerIndex - 1])\n",
        "  \n",
        "  if i == 30:\n",
        "      print(higherIntercept)\n",
        "      print(lowerIntercept)\n",
        "      print(weighted_avg)\n",
        "      print(lowerInterceptAveragePoints)\n",
        "      print(higherInterceptAveragePoints)\n",
        "  return (lowerInterceptAveragePoints, higherInterceptAveragePoints)\n",
        "\n",
        " \n",
        "\n",
        "# Create the 20 equally spaced points\n",
        "def getWeightedAveragePoints(x1, y1, x2, y2, number):\n",
        "  weighted_avg = []\n",
        "\n",
        "  for n in range(1, number+1, 1):\n",
        "    x_perpendicular = (((n*x1)+(number+1-n)*(x2))/(number+1))\n",
        "    y_perpendicular = (((n*y1)+(number+1-n)*(y2))/(number+1))\n",
        "    weighted_avg.append([x_perpendicular, y_perpendicular])\n",
        "\n",
        "  for pair in weighted_avg:\n",
        "    x, y = pair\n",
        "    if x == int(x):\n",
        "      pair[0] += 0.0001\n",
        "    if y == int(y):\n",
        "      pair[1] += 0.0001\n",
        "\n",
        "  return weighted_avg"
      ],
      "execution_count": 10,
      "outputs": []
    },
    {
      "cell_type": "code",
      "metadata": {
        "id": "BAHZKZA0gfnz",
        "outputId": "17618692-cce8-4bb7-ef7f-6eb0cc461d5a",
        "colab": {
          "base_uri": "https://localhost:8080/",
          "height": 887
        }
      },
      "source": [
        "i = 30\n",
        "\n",
        "x1, y1 = lowerIntercept[i]\n",
        "x2, y2 = higherIntercept[i]\n",
        "\n",
        "slope = getSlope([x1, y1], [x2, y2])\n",
        "\n",
        "p1Index = points.index([x1, y1])\n",
        "p2Index = points.index([x2, y2])\n",
        "\n",
        "lowerIndex = min(p1Index, p2Index)\n",
        "higherIndex = max(p1Index, p2Index)\n",
        "\n",
        "higherInterceptPoints = points[lowerIndex:higherIndex]\n",
        "lowerInterceptPoints = points[higherIndex:] + points[:lowerIndex]\n",
        "\n",
        "if (higherInterceptPoints[0][0] + higherInterceptPoints[0][1]) < (lowerInterceptPoints[0][0] + lowerInterceptPoints[0][1]):\n",
        "  lowerInterceptPoints, higherInterceptPoints = higherInterceptPoints, lowerInterceptPoints\n",
        "\n",
        "weighted_avg = getWeightedAveragePoints(x1, y1, x2, y2, 20)\n",
        "lowerInterceptAveragePoints, higherInterceptAveragePoints = findCorrespondingMaskPoints(weighted_avg, lowerInterceptPoints, higherInterceptPoints, x1, y1, x2, y2, slope, i)"
      ],
      "execution_count": 11,
      "outputs": [
        {
          "output_type": "stream",
          "text": [
            "False [56, 56] [56, 56] [57.0001, 55.666666666666664] -0.3333000033330013 -0.3333000033330013 3.0\n",
            "False [57, 57] [56, 56] [57.0001, 55.666666666666664] -13333.333332890736 -0.3333000033330013 3.0\n",
            "False [57, 58] [56, 56] [57.0001, 55.666666666666664] -23333.33333255877 -0.3333000033330013 3.0\n",
            "False [57, 59] [57, 57] [57.0001, 55.666666666666664] -33333.33333222681 -13333.333332890736 3.0\n",
            "False [57, 60] [57, 58] [57.0001, 55.666666666666664] -43333.33333189484 -23333.33333255877 3.0\n",
            "False [58, 61] [57, 59] [57.0001, 55.666666666666664] 5.333866720005354 -33333.33333222681 3.0\n",
            "False [58, 62] [57, 60] [57.0001, 55.666666666666664] 6.333966730006358 -43333.33333189484 3.0\n",
            "False [58, 63] [58, 61] [57.0001, 55.666666666666664] 7.334066740007361 5.333866720005354 3.0\n",
            "False [58, 64] [58, 62] [57.0001, 55.666666666666664] 8.334166750008364 6.333966730006358 3.0\n",
            "False [58, 65] [58, 63] [57.0001, 55.666666666666664] 9.334266760009367 7.334066740007361 3.0\n",
            "False [58, 66] [58, 64] [57.0001, 55.666666666666664] 10.334366770010371 8.334166750008364 3.0\n",
            "False [58, 67] [58, 65] [57.0001, 55.666666666666664] 11.334466780011374 9.334266760009367 3.0\n",
            "False [58, 68] [58, 66] [57.0001, 55.666666666666664] 12.334566790012378 10.334366770010371 3.0\n",
            "False [58, 69] [58, 67] [57.0001, 55.666666666666664] 13.334666800013382 11.334466780011374 3.0\n",
            "False [59, 70] [58, 68] [57.0001, 55.666666666666664] 7.167025017917576 12.334566790012378 3.0\n",
            "False [59, 71] [58, 69] [57.0001, 55.666666666666664] 7.667050019167639 13.334666800013382 3.0\n",
            "False [60, 71] [59, 70] [57.0001, 55.666666666666664] 5.1112814871606895 7.167025017917576 3.0\n",
            "False [61, 71] [59, 71] [57.0001, 55.666666666666664] 3.8334291690625637 7.667050019167639 3.0\n",
            "False [62, 71] [60, 71] [57.0001, 55.666666666666664] 3.0667280012266938 5.1112814871606895 3.0\n",
            "True [63, 71] [61, 71] [57.0001, 55.666666666666664] 2.555598148858038 3.8334291690625637 3.0\n",
            "True [64, 71] [62, 71] [58.0001, 55.333333333333336] 2.6111546303549513 3.916764585781314 3.0\n",
            "True [65, 71] [63, 71] [59.0001, 55.0001] 2.666694444907416 4.000075001875049 3.0\n",
            "True [66, 71] [64, 71] [60.0001, 54.666666666666664] 2.72226759334878 4.083435419218818 3.0\n",
            "True [67, 71] [65, 71] [61.0001, 54.333333333333336] 2.777824074845693 4.166770835937568 3.0\n",
            "True [68, 71] [66, 71] [62.0001, 54.0001] 2.8333638893981576 4.250081252031303 3.0\n",
            "True [69, 71] [67, 71] [63.0001, 53.666666666666664] 2.8889370378395216 4.3334416693750715 3.0\n",
            "True [70, 71] [68, 71] [64.0001, 53.333333333333336] 2.9444935193364348 4.4167770860938225 3.0\n",
            "False [71, 71] [69, 71] [65.0001, 53.0001] 3.0000333338888994 4.500087502187558 3.0\n",
            "True [72, 71] [70, 71] [65.0001, 53.0001] 2.571451020728868 3.6000520010400225 3.0\n",
            "True [73, 70] [71, 71] [66.0001, 52.666666666666664] 2.47622585084549 3.666740001466699 3.0\n",
            "True [74, 70] [72, 71] [67.0001, 52.333333333333336] 2.523845578746364 3.7334080014933653 3.0\n",
            "True [75, 70] [73, 70] [68.0001, 52.0001] 2.571451020728868 3.6000520010400225 3.0\n",
            "True [76, 70] [74, 70] [69.0001, 51.666666666666664] 2.6190850345481143 3.666740001466699 3.0\n",
            "True [77, 69] [75, 70] [70.0001, 51.333333333333336] 2.523845578746364 3.7334080014933653 3.0\n",
            "True [78, 69] [76, 70] [71.0001, 51.0001] 2.571451020728868 3.800056001120024 3.0\n",
            "True [79, 69] [77, 69] [72.0001, 50.666666666666664] 2.6190850345481143 3.666740001466699 3.0\n",
            "True [80, 69] [78, 69] [73.0001, 50.333333333333336] 2.666704762448988 3.7334080014933653 3.0\n",
            "False [80, 68] [79, 69] [74.0001, 50.0001] 3.0000333338888994 3.800056001120024 3.0\n",
            "True [80, 67] [80, 69] [74.0001, 50.0001] 2.8333638893981576 3.1667027783796406 3.0\n",
            "False [80, 66] [80, 68] [75.0001, 49.666666666666664] 3.2667320013066954 3.666740001466699 3.0\n",
            "False [80, 65] [80, 67] [75.0001, 49.666666666666664] 3.0667280012266938 3.466736001386697 3.0\n",
            "True [80, 64] [80, 66] [75.0001, 49.666666666666664] 2.866724001146692 3.2667320013066954 3.0\n",
            "False [80, 63] [80, 65] [76.0001, 49.333333333333336] 3.4167520854688056 3.916764585781314 3.0\n",
            "False [80, 62] [80, 64] [76.0001, 49.333333333333336] 3.1667458353125517 3.66675833562506 3.0\n",
            "True [80, 61] [80, 63] [76.0001, 49.333333333333336] 2.9167395851562974 3.4167520854688056 3.0\n",
            "[[56, 55], [55, 54], [55, 53], [55, 52], [54, 51], [54, 50], [54, 49], [54, 48], [53, 47], [53, 46], [53, 45], [53, 44], [53, 43], [53, 42], [53, 41], [53, 40], [54, 39], [54, 38], [54, 37], [55, 36], [55, 35], [56, 34], [56, 33], [56, 32], [57, 31], [57, 30], [57, 29], [58, 29], [59, 29], [60, 29], [61, 29], [62, 29], [63, 29], [64, 29], [65, 30], [66, 31], [67, 32], [68, 33], [69, 34], [70, 35], [71, 36], [72, 37], [72, 38], [73, 39], [73, 40], [74, 41], [74, 42], [75, 43], [75, 44], [76, 45], [76, 46], [77, 47], [77, 48], [77, 49]]\n",
            "[[56, 56], [57, 57], [57, 58], [57, 59], [57, 60], [58, 61], [58, 62], [58, 63], [58, 64], [58, 65], [58, 66], [58, 67], [58, 68], [58, 69], [59, 70], [59, 71], [60, 71], [61, 71], [62, 71], [63, 71], [64, 71], [65, 71], [66, 71], [67, 71], [68, 71], [69, 71], [70, 71], [71, 71], [72, 71], [73, 70], [74, 70], [75, 70], [76, 70], [77, 69], [78, 69], [79, 69], [80, 69], [80, 68], [80, 67], [80, 66], [80, 65], [80, 64], [80, 63], [80, 62], [80, 61], [80, 60], [80, 59], [79, 58], [79, 57], [79, 56], [79, 55], [79, 54], [79, 53], [79, 52], [78, 51], [78, 50]]\n",
            "[[57.0001, 55.666666666666664], [58.0001, 55.333333333333336], [59.0001, 55.0001], [60.0001, 54.666666666666664], [61.0001, 54.333333333333336], [62.0001, 54.0001], [63.0001, 53.666666666666664], [64.0001, 53.333333333333336], [65.0001, 53.0001], [66.0001, 52.666666666666664], [67.0001, 52.333333333333336], [68.0001, 52.0001], [69.0001, 51.666666666666664], [70.0001, 51.333333333333336], [71.0001, 51.0001], [72.0001, 50.666666666666664], [73.0001, 50.333333333333336], [74.0001, 50.0001], [75.0001, 49.666666666666664], [76.0001, 49.333333333333336]]\n",
            "[[63, 71], [64, 71], [65, 71], [66, 71], [67, 71], [68, 71], [69, 71], [70, 71], [72, 71], [73, 70], [74, 70], [75, 70], [76, 70], [77, 69], [78, 69], [79, 69], [80, 69], [80, 67], [80, 64], [80, 61]]\n",
            "[[53, 43], [53, 40], [54, 39], [55, 36], [55, 35], [56, 34], [56, 32], [57, 31], [58, 29], [59, 29], [60, 29], [61, 29], [62, 29], [63, 29], [64, 29], [66, 31], [67, 32], [69, 34], [71, 36], [72, 37]]\n"
          ],
          "name": "stdout"
        }
      ]
    },
    {
      "cell_type": "code",
      "metadata": {
        "id": "GVJJMIzfhbj8",
        "outputId": "7975e652-59ed-48f1-ec01-f81d83b5d130",
        "colab": {
          "base_uri": "https://localhost:8080/",
          "height": 200
        }
      },
      "source": [
        "image = cv2.imread(path) \n",
        "\n",
        "height = image.shape[0]\n",
        "width = image.shape[1]\n",
        "\n",
        "\n",
        "# for point in weighted_avg:\n",
        "#   cv2.circle(image,(int(point[0]), int(point[1])), 1, (0,255,0), -1)\n",
        "  # if point[0] <50:\n",
        "  #   print(point)\n",
        "\n",
        "print(x1, y1)\n",
        "print(x2, y2)\n",
        "print(weighted_avg)\n",
        "for i in range(len(lowerInterceptAveragePoints)): \n",
        "  # cv2.circle(image,tuple(lowerInterceptAveragePoints[i]), 1, (0,255,0), -1)\n",
        "  cv2.line(image, tuple(lowerInterceptAveragePoints[i]), tuple(higherInterceptAveragePoints[i]), (255,0,0), 1)\n",
        "cv2.line(image, (x1, y1), (x2, y2), (0,0,255), 1)\n",
        "\n",
        "cv2_imshow(image)\n",
        "\n",
        "\n",
        "# print(lowerInterceptAveragePoints)\n",
        "# print(higherInterceptAveragePoints)\n",
        "# print([x1, y1])\n",
        "# print([x2, y2])\n",
        "\n",
        "cv2.waitKey(0)\n",
        "cv2.destroyAllWindows()"
      ],
      "execution_count": 12,
      "outputs": [
        {
          "output_type": "stream",
          "text": [
            "77 49\n",
            "56 56\n",
            "[[57.0001, 55.666666666666664], [58.0001, 55.333333333333336], [59.0001, 55.0001], [60.0001, 54.666666666666664], [61.0001, 54.333333333333336], [62.0001, 54.0001], [63.0001, 53.666666666666664], [64.0001, 53.333333333333336], [65.0001, 53.0001], [66.0001, 52.666666666666664], [67.0001, 52.333333333333336], [68.0001, 52.0001], [69.0001, 51.666666666666664], [70.0001, 51.333333333333336], [71.0001, 51.0001], [72.0001, 50.666666666666664], [73.0001, 50.333333333333336], [74.0001, 50.0001], [75.0001, 49.666666666666664], [76.0001, 49.333333333333336]]\n"
          ],
          "name": "stdout"
        },
        {
          "output_type": "display_data",
          "data": {
            "image/png": "[encoded data removed]",
            "text/plain": [
              "<PIL.Image.Image image mode=RGB size=112x112 at 0x7F17E8074BA8>"
            ]
          },
          "metadata": {
            "tags": []
          }
        }
      ]
    },
    {
      "cell_type": "markdown",
      "metadata": {
        "id": "lZ4W1B_vZwrf"
      },
      "source": [
        "# Split points into 2"
      ]
    },
    {
      "cell_type": "code",
      "metadata": {
        "id": "NUEyVIWLfWl2"
      },
      "source": [
        "# def findCorrespondingMaskPoints(weighted_avg, lowerIntercept, higherIntercept, x1, y1, x2, y2, slope, i):\n",
        "#   # Calculate perpendicular slope\n",
        "#   try:\n",
        "#     perp_slope = -1/slope\n",
        "#   except:\n",
        "#     perp_slope = 10000\n",
        "\n",
        "#   # Indexing\n",
        "#   lowerIndex = 0\n",
        "#   higherIndex = 0\n",
        "\n",
        "#   # Make sure its from top to bottom direction\n",
        "#   if (weighted_avg[-1][0] + weighted_avg[-1][1]) < (weighted_avg[0][0] + weighted_avg[0][1]):\n",
        "#     weighted_avg = weighted_avg[::-1]\n",
        "\n",
        "#   # Make sure its from top to bottom direction\n",
        "#   if getDistance(weighted_avg[0], higherIntercept[0]) > getDistance(weighted_avg[0], higherIntercept[-1]):\n",
        "#       higherIntercept = higherIntercept[::-1]\n",
        "\n",
        "#   # Make sure its from top to bottom direction\n",
        "#   if getDistance(weighted_avg[0], lowerIntercept[0]) > getDistance(weighted_avg[0], lowerIntercept[-1]):\n",
        "#       lowerIntercept = lowerIntercept[::-1]\n",
        "\n",
        "#   higherInterceptAveragePoints = []\n",
        "#   lowerInterceptAveragePoints = []\n",
        "\n",
        "#   for averagePoint in weighted_avg:\n",
        "#     try:\n",
        "#       condition = True\n",
        "#       count = 0\n",
        "#       while condition:\n",
        "#         point = higherIntercept[higherIndex]\n",
        "#         if higherIndex == 0:\n",
        "#           prev_point =  [x1, y1] if getDistance(point, [x1, y1]) < getDistance(point, [x2, y2]) else [x2, y2]\n",
        "#           start_point = prev_point[:]\n",
        "#         else:\n",
        "#           prev_point = higherIntercept[higherIndex-1]\n",
        "        \n",
        "#         new_slope = getSlope(point, averagePoint)\n",
        "#         prev_slope =  getSlope(prev_point, averagePoint)\n",
        "#         betweenCond = ((point[0] < averagePoint[0] and prev_point[0] > averagePoint[0]) or (point[0] > averagePoint[0] and prev_point[0] < averagePoint[0])) and abs(new_slope) > abs(slope) and abs(prev_slope) > abs(slope)\n",
        "#         slopeCond = (new_slope >= perp_slope and prev_slope<=perp_slope) or  (new_slope <= perp_slope and prev_slope>=perp_slope)\n",
        "\n",
        "#         if slopeCond and not betweenCond:\n",
        "#           higherInterceptAveragePoints.append(point)\n",
        "#           condition = False\n",
        "#         elif abs(perp_slope) >= 10 and ((new_slope > 0 and prev_slope < 0) or (new_slope < 0 and prev_slope > 0)):\n",
        "#           higherInterceptAveragePoints.append(point)\n",
        "#           condition = False\n",
        "#         elif count > len(higherIntercept)/2:\n",
        "#           higherIndex -= count\n",
        "#           if higherIndex == 0:\n",
        "#             higherInterceptAveragePoints.append(start_point)\n",
        "#           else:\n",
        "#             higherInterceptAveragePoints.append(higherIntercept[higherIndex])\n",
        "#           condition = False\n",
        "        \n",
        "#         count += 1\n",
        "#         higherIndex += 1\n",
        "#     except:\n",
        "#       higherInterceptAveragePoints.append(higherIntercept[higherIndex - 1])\n",
        "\n",
        "#   for averagePoint in weighted_avg:\n",
        "#     try:\n",
        "#       condition = True\n",
        "#       count = 0\n",
        "#       while condition:\n",
        "#         point = lowerIntercept[lowerIndex]\n",
        "#         if lowerIndex == 0:\n",
        "#           prev_point = [x1, y1] if getDistance(point, [x1, y1]) < getDistance(point, [x2, y2]) else [x2, y2]\n",
        "#           start_point = prev_point[:]\n",
        "#         else:\n",
        "#           prev_point = lowerIntercept[lowerIndex-1]\n",
        "\n",
        "#         new_slope = getSlope(point, averagePoint)\n",
        "#         prev_slope =  getSlope(prev_point, averagePoint)\n",
        "#         betweenCond = ((point[0] < averagePoint[0] and prev_point[0] > averagePoint[0]) or (point[0] > averagePoint[0] and prev_point[0] < averagePoint[0])) and abs(new_slope) > abs(slope) and abs(prev_slope) > abs(slope)\n",
        "#         slopeCond = (new_slope >= perp_slope and prev_slope<=perp_slope) or  (new_slope <= perp_slope and prev_slope>=perp_slope)\n",
        "\n",
        "#         if slopeCond and not betweenCond:\n",
        "#           lowerInterceptAveragePoints.append(point)\n",
        "#           condition = False\n",
        "#         elif abs(perp_slope) > 10 and ((new_slope > 0 and prev_slope < 0) or (new_slope < 0 and prev_slope > 0)):\n",
        "#           lowerInterceptAveragePoints.append(point)\n",
        "#           condition = False\n",
        "#         elif count > len(lowerIntercept)/2:\n",
        "#           lowerIndex -= count\n",
        "#           if lowerIndex == 0:\n",
        "#             lowerInterceptAveragePoints.append(start_point)\n",
        "#           else:\n",
        "#             lowerInterceptAveragePoints.append(lowerIntercept[lowerIndex])\n",
        "#           condition = False\n",
        "        \n",
        "#         count += 1\n",
        "#         lowerIndex += 1\n",
        "#     except:\n",
        "#       lowerInterceptAveragePoints.append(lowerIntercept[lowerIndex - 1])\n",
        "  \n",
        "#   if i == 30:\n",
        "#       print(higherIntercept)\n",
        "#       print(lowerIntercept)\n",
        "#       print(weighted_avg)\n",
        "#       print(lowerInterceptAveragePoints)\n",
        "#       print(higherInterceptAveragePoints)\n",
        "#   return (lowerInterceptAveragePoints, higherInterceptAveragePoints)\n",
        "\n",
        "#  \\\n"
      ],
      "execution_count": 13,
      "outputs": []
    },
    {
      "cell_type": "code",
      "metadata": {
        "id": "Ko8MIoVRy2Wy"
      },
      "source": [
        "# i = 30\n",
        "\n",
        "# x1, y1 = lowerIntercept[i]\n",
        "# x2, y2 = higherIntercept[i]\n",
        "\n",
        "# print(x1, y1, x2, y2)\n",
        "\n",
        "# slope = getSlope([x1, y1], [x2, y2])\n",
        "\n",
        "# p1Index = points.index([x1, y1])\n",
        "# p2Index = points.index([x2, y2])\n",
        "\n",
        "# lowerIndex = min(p1Index, p2Index)\n",
        "# higherIndex = max(p1Index, p2Index)\n",
        "\n",
        "# higherInterceptPoints = points[lowerIndex:higherIndex]\n",
        "# lowerInterceptPoints = points[higherIndex:] + points[:lowerIndex]\n",
        "\n",
        "# if (higherInterceptPoints[0][0] + higherInterceptPoints[0][1]) < (lowerInterceptPoints[0][0] + lowerInterceptPoints[0][1]):\n",
        "#   lowerInterceptPoints, higherInterceptPoints = higherInterceptPoints, lowerInterceptPoints\n",
        "\n",
        "# weighted_avg = getWeightedAveragePoints(x1, y1, x2, y2, 20)\n",
        "# lowerInterceptAveragePoints, higherInterceptAveragePoints = findCorrespondingMaskPoints(weighted_avg, lowerInterceptPoints, higherInterceptPoints, x1, y1, x2, y2, slope, i)"
      ],
      "execution_count": 14,
      "outputs": []
    },
    {
      "cell_type": "code",
      "metadata": {
        "id": "CqWLH5PHNHT5",
        "outputId": "37c26e02-289c-4e3f-e80b-b62bb7249048",
        "colab": {
          "base_uri": "https://localhost:8080/",
          "height": 200
        }
      },
      "source": [
        "image = cv2.imread(path) \n",
        "\n",
        "height = image.shape[0]\n",
        "width = image.shape[1]\n",
        "\n",
        "\n",
        "# for point in weighted_avg:\n",
        "#   cv2.circle(image,(int(point[0]), int(point[1])), 1, (0,255,0), -1)\n",
        "  # if point[0] <50:\n",
        "  #   print(point)\n",
        "\n",
        "print(x1, y1)\n",
        "print(x2, y2)\n",
        "print(weighted_avg)\n",
        "for i in range(len(lowerInterceptAveragePoints)): \n",
        "  # cv2.circle(image,tuple(lowerInterceptAveragePoints[i]), 1, (0,255,0), -1)\n",
        "  cv2.line(image, tuple(lowerInterceptAveragePoints[i]), tuple(higherInterceptAveragePoints[i]), (255,0,0), 1)\n",
        "cv2.line(image, (x1, y1), (x2, y2), (0,0,255), 1)\n",
        "\n",
        "cv2_imshow(image)\n",
        "\n",
        "\n",
        "# print(lowerInterceptAveragePoints)\n",
        "# print(higherInterceptAveragePoints)\n",
        "# print([x1, y1])\n",
        "# print([x2, y2])\n",
        "\n",
        "cv2.waitKey(0)\n",
        "cv2.destroyAllWindows()"
      ],
      "execution_count": 15,
      "outputs": [
        {
          "output_type": "stream",
          "text": [
            "77 49\n",
            "56 56\n",
            "[[57.0001, 55.666666666666664], [58.0001, 55.333333333333336], [59.0001, 55.0001], [60.0001, 54.666666666666664], [61.0001, 54.333333333333336], [62.0001, 54.0001], [63.0001, 53.666666666666664], [64.0001, 53.333333333333336], [65.0001, 53.0001], [66.0001, 52.666666666666664], [67.0001, 52.333333333333336], [68.0001, 52.0001], [69.0001, 51.666666666666664], [70.0001, 51.333333333333336], [71.0001, 51.0001], [72.0001, 50.666666666666664], [73.0001, 50.333333333333336], [74.0001, 50.0001], [75.0001, 49.666666666666664], [76.0001, 49.333333333333336]]\n"
          ],
          "name": "stdout"
        },
        {
          "output_type": "display_data",
          "data": {
            "image/png": "[encoded data removed]",
            "text/plain": [
              "<PIL.Image.Image image mode=RGB size=112x112 at 0x7F17E804A400>"
            ]
          },
          "metadata": {
            "tags": []
          }
        }
      ]
    },
    {
      "cell_type": "markdown",
      "metadata": {
        "id": "p95B-xh3cdJb"
      },
      "source": [
        "# Method of Disks"
      ]
    },
    {
      "cell_type": "code",
      "metadata": {
        "id": "b2vJeSdDDbDf",
        "outputId": "192cc49d-d69a-4eb6-8c33-89cb8958c2e4",
        "colab": {
          "base_uri": "https://localhost:8080/",
          "height": 34
        }
      },
      "source": [
        "distance = getDistance([x1, y1], [x2, y2])\n",
        "parallelSeperationDistance = distance/21\n",
        "\n",
        "volume = 0\n",
        "\n",
        "for i in range(len(lowerInterceptAveragePoints)):\n",
        "  diameter = getDistance(lowerInterceptAveragePoints[i], higherInterceptAveragePoints[i])\n",
        "  radius = diameter/2\n",
        "  diskVolume = math.pi * radius**2 * parallelSeperationDistance\n",
        "  volume += diskVolume\n",
        "\n",
        "print(volume)"
      ],
      "execution_count": 16,
      "outputs": [
        {
          "output_type": "stream",
          "text": [
            "24666.75478161623\n"
          ],
          "name": "stdout"
        }
      ]
    },
    {
      "cell_type": "markdown",
      "metadata": {
        "id": "P88Fd5CfaE2q"
      },
      "source": [
        "# Prolate Ellipsoid Model (Single Ellipsoid Method)"
      ]
    },
    {
      "cell_type": "code",
      "metadata": {
        "id": "ywdPFF4oaUbJ",
        "outputId": "fc7d5c81-9b4d-422e-9eac-cc497e89d7ed",
        "colab": {
          "base_uri": "https://localhost:8080/",
          "height": 34
        }
      },
      "source": [
        "long_axis_length = getDistance([x1, y1], [x2, y2])\n",
        "parallelSeperationDistance = distance/21\n",
        "\n",
        "# Manual Area Calc\n",
        "area = 0\n",
        "\n",
        "for i in range(len(lowerInterceptAveragePoints)):\n",
        "  length = getDistance(lowerInterceptAveragePoints[i], higherInterceptAveragePoints[i])\n",
        "  diskArea = length * parallelSeperationDistance\n",
        "  area += diskArea\n",
        "\n",
        "volume = 0.85 * area * long_axis_length\n",
        "\n",
        "print(volume)"
      ],
      "execution_count": 17,
      "outputs": [
        {
          "output_type": "stream",
          "text": [
            "15159.941991971162\n"
          ],
          "name": "stdout"
        }
      ]
    },
    {
      "cell_type": "markdown",
      "metadata": {
        "id": "ic0RMEAWgNPE"
      },
      "source": [
        "# Prolate Ellipsoid Model (Biplane Area Length)"
      ]
    },
    {
      "cell_type": "code",
      "metadata": {
        "id": "47DUD_2BiBkz",
        "outputId": "9bda81db-08be-4040-d92c-2c9a66b4173b",
        "colab": {
          "base_uri": "https://localhost:8080/",
          "height": 34
        }
      },
      "source": [
        "# Long axis Length\n",
        "long_axis_length = getDistance([x1, y1], [x2, y2])\n",
        "\n",
        "# Storing all perp lens\n",
        "lengthArr = []\n",
        "\n",
        "for i in range(len(lowerInterceptAveragePoints)):\n",
        "  length = getDistance(lowerInterceptAveragePoints[i], higherInterceptAveragePoints[i])\n",
        "  lengthArr.append(length)\n",
        "\n",
        "# 3 diff heuristics\n",
        "averageLength = sum(lengthArr)/len(lengthArr)\n",
        "maxLength = max(lengthArr)\n",
        "midLength = lengthArr[len(lengthArr)//2]\n",
        "\n",
        "# Volume Calc\n",
        "volume = math.pi/6 * midLength**2 * long_axis_length\n",
        "\n",
        "print(volume)"
      ],
      "execution_count": 18,
      "outputs": [
        {
          "output_type": "stream",
          "text": [
            "21755.09253738249\n"
          ],
          "name": "stdout"
        }
      ]
    },
    {
      "cell_type": "markdown",
      "metadata": {
        "id": "ggihUplhmqGW"
      },
      "source": [
        "# Bullet Method\n"
      ]
    },
    {
      "cell_type": "code",
      "metadata": {
        "id": "jGp5CslBoBix",
        "outputId": "66797131-f459-4c37-fb3b-8a18651203e6",
        "colab": {
          "base_uri": "https://localhost:8080/",
          "height": 34
        }
      },
      "source": [
        "# Long axis Length\n",
        "long_axis_length = getDistance([x1, y1], [x2, y2])\n",
        "\n",
        "# Mid Values\n",
        "midIndex = len(lengthArr)//2\n",
        "midLength = getDistance(lowerInterceptAveragePoints[midIndex], higherInterceptAveragePoints[midIndex])\n",
        "\n",
        "area = math.pi * (midLength/2)**2 \n",
        "\n",
        "# Volume Calc\n",
        "volume = 5/6 * area * long_axis_length\n",
        "\n",
        "print(volume)"
      ],
      "execution_count": 19,
      "outputs": [
        {
          "output_type": "stream",
          "text": [
            "27193.865671728116\n"
          ],
          "name": "stdout"
        }
      ]
    },
    {
      "cell_type": "markdown",
      "metadata": {
        "id": "P0EE97ftjXzZ"
      },
      "source": [
        "# Will become local file\n"
      ]
    },
    {
      "cell_type": "code",
      "metadata": {
        "id": "qCNVzuPxwodU",
        "outputId": "c02d8109-d930-48d2-c097-3e80450f97b3",
        "colab": {
          "base_uri": "https://localhost:8080/",
          "height": 1000
        }
      },
      "source": [
        "import cv2\n",
        "import numpy as np\n",
        "import math\n",
        "import os\n",
        "\n",
        "# Gets all the contours for certain image\n",
        "def obtainContourPoints(path):\n",
        "  # read image\n",
        "  img = cv2.imread(path)\n",
        "  rgb = cv2.cvtColor(img, cv2.COLOR_BGR2RGB)\n",
        "\n",
        "  # set lower and upper bounds on blue color\n",
        "  lower = (200,200,200)\n",
        "  upper = (255,255,255)\n",
        "\n",
        "  # threshold and invert so hexagon is white on black background\n",
        "  thresh = cv2.inRange(rgb, lower, upper)\n",
        "\n",
        "  # get contours\n",
        "  result = np.zeros_like(thresh)\n",
        "  contours = cv2.findContours(thresh, cv2.RETR_EXTERNAL, cv2.CHAIN_APPROX_NONE)\n",
        "  contours = contours[0] if len(contours) == 2 else contours[1]\n",
        "\n",
        "  # Gets all contour points\n",
        "  points = []\n",
        "  for pt in contours:\n",
        "      for i in pt:\n",
        "        for coord in i:\n",
        "          points.append(coord.tolist())\n",
        "  \n",
        "  return points\n",
        "\n",
        "def getIdealPointGroup(points):\n",
        "  pointGroups = []\n",
        "  index = 0\n",
        "  subgroup = [points[0]]\n",
        "\n",
        "  for i in range(len(points) - 1):\n",
        "    prevPoint = points[i]\n",
        "    currentPoint = points[i+1]\n",
        "\n",
        "    if (abs(int(prevPoint[0])-int(currentPoint[0])) <= 1) and (abs(int(prevPoint[1])-int(currentPoint[1])) <= 1):\n",
        "      subgroup.append(currentPoint)\n",
        "    else:\n",
        "      pointGroups.append(subgroup[:])\n",
        "      subgroup = [currentPoint]\n",
        "\n",
        "  pointGroups.append(subgroup)\n",
        "\n",
        "  mainPointGroup = []\n",
        "  maxPointGroupSize = 0\n",
        "\n",
        "  for group in pointGroups:\n",
        "    if len(group) > maxPointGroupSize:\n",
        "      maxPointGroup = group\n",
        "      maxPointGroupSize = len(group)\n",
        "\n",
        "  return maxPointGroup\n",
        "\n",
        "# Finds points for main contour line\n",
        "def getTopAndBottomCoords(points):\n",
        "  # Minimum and Maximum Y Coord\n",
        "  maxY = max(points, key = lambda point: point[1])\n",
        "  minY = min(points, key = lambda point: point[1])\n",
        "\n",
        "  # MinY and MaxY With the limits\n",
        "  minYWith5 = minY[1] + 5\n",
        "  maxYWithout5 = maxY[1] - 15\n",
        "\n",
        "  # Creating these arrays\n",
        "  minYWith5Arr = []\n",
        "  maxYWithout5Arr = []\n",
        "\n",
        "  # Finding these points\n",
        "  for point in points:\n",
        "    if point[1] == minYWith5:\n",
        "      minYWith5Arr.append(point)\n",
        "    if point[1] == maxYWithout5:\n",
        "      maxYWithout5Arr.append(point)\n",
        "\n",
        "  # Average X Coordinates\n",
        "  averageTopX = round((minYWith5Arr[0][0] + minYWith5Arr[-1][0])/2)\n",
        "  averageBottomX = round((maxYWithout5Arr[0][0] + maxYWithout5Arr[-1][0])/2)\n",
        "  slope = getSlope([averageTopX, minYWith5], [averageBottomX, maxYWithout5])\n",
        "\n",
        "  averageTopX -= round((minYWith5Arr[-1][0] - minYWith5Arr[0][0])/1.5/slope)\n",
        "  averageBottomX += round((maxYWithout5Arr[-1][0] - maxYWithout5Arr[0][0])/3/slope)\n",
        "\n",
        "\n",
        "  # Creating these arrays\n",
        "  averageTopXArr = []\n",
        "  averageBottomXArr = []\n",
        "\n",
        "  # Finding these points\n",
        "  condition = True\n",
        "  if slope > 0:\n",
        "    while condition and averageTopX <= minYWith5Arr[-1][0] and averageBottomX >= maxYWithout5Arr[0][0]:\n",
        "      for point in points:\n",
        "        if point[0] == averageTopX:\n",
        "          averageTopXArr.append(point)\n",
        "        if point[0] == averageBottomX:\n",
        "          averageBottomXArr.append(point)\n",
        "      if len(averageTopXArr) > 0 and len(averageBottomXArr):\n",
        "        condition = False\n",
        "      if len(averageTopXArr) == 0:\n",
        "        averageTopX += 1\n",
        "      if len(averageBottomXArr) == 0:\n",
        "        averageBottomXArr -= 1\n",
        "  else:\n",
        "    while condition and averageTopX >= minYWith5Arr[0][0] and averageBottomX <= maxYWithout5Arr[-1][0]:\n",
        "      for point in points:\n",
        "        if point[0] == averageTopX:\n",
        "          averageTopXArr.append(point)\n",
        "        if point[0] == averageBottomX:\n",
        "          averageBottomXArr.append(point)\n",
        "      if len(averageTopXArr) > 0 and len(averageBottomXArr):\n",
        "        condition = False\n",
        "      if len(averageTopXArr) == 0:\n",
        "        averageTopX -= 1\n",
        "      if len(averageBottomXArr) == 0:\n",
        "        averageBottomXArr += 1\n",
        "\n",
        "  # Sorting Arrs\n",
        "  averageTopXArr.sort(key=lambda point: point[1])\n",
        "  averageBottomXArr.sort(key=lambda point: point[1])\n",
        "  averageBottomXArr.reverse()\n",
        "\n",
        "\n",
        "  # Finding Min Top and Max Botpp,\n",
        "  TopCoord = averageTopXArr[0]\n",
        "  BottomCoord = averageBottomXArr[0]\n",
        "\n",
        "  x1, y1 = TopCoord\n",
        "  x2, y2 = BottomCoord\n",
        "\n",
        "  return (x1, y1, x2, y2)\n",
        "\n",
        "\n",
        "# Create the 20 equally spaced points\n",
        "def getWeightedAveragePoints(x1, y1, x2, y2, number):\n",
        "  weighted_avg = []\n",
        "\n",
        "  for n in range(1, number+1, 1):\n",
        "    x_perpendicular = (((n*x1)+(number+1-n)*(x2))/(number+1))\n",
        "    y_perpendicular = (((n*y1)+(number+1-n)*(y2))/(number+1))\n",
        "    weighted_avg.append([x_perpendicular, y_perpendicular])\n",
        "\n",
        "  for pair in weighted_avg:\n",
        "    x, y = pair\n",
        "    if x == int(x):\n",
        "      pair[0] += 0.0001\n",
        "    if y == int(y):\n",
        "      pair[1] += 0.0001\n",
        "\n",
        "  return weighted_avg\n",
        "\n",
        "# Intercept slope\n",
        "def calcExpectedIntercept(x, y, slope):\n",
        "  return slope*x - y\n",
        "\n",
        "def splitPoints(x1, y1, x2, y2, slope, points):\n",
        "  p1Index = points.index([x1, y1])\n",
        "  p2Index = points.index([x2, y2])\n",
        "\n",
        "  lowerIndex = min(p1Index, p2Index)\n",
        "  higherIndex = max(p1Index, p2Index)\n",
        "\n",
        "  higherIntercept = points[lowerIndex:higherIndex]\n",
        "  lowerIntercept = points[higherIndex:] + points[:lowerIndex]\n",
        "\n",
        "  return (lowerIntercept, higherIntercept)\n",
        "\n",
        "# Distance Between 2 Pointss\n",
        "def getDistance(point1, point2):\n",
        "  return math.sqrt((point1[0]-point2[0])**2 + (point1[1]-point2[1])**2)\n",
        "\n",
        "# Slope between points \n",
        "def getSlope(point1, point2):\n",
        "  if ((point1[0] == point2[0])):\n",
        "    return -333\n",
        "  return (point1[1] - point2[1])/(point1[0] - point2[0])\n",
        "\n",
        "# Change to Method of Disks\n",
        "def volumeMethodOfDisks(x1, y1, x2, y2, number, lowerInterceptAveragePoints, higherInterceptAveragePoints):\n",
        "  # Long axis length and perp initialzation\n",
        "  distance = getDistance([x1, y1], [x2, y2])\n",
        "  parallelSeperationDistance = distance/(number + 1)\n",
        "\n",
        "  # Simpson Volume Methods\n",
        "  volume = 0\n",
        "\n",
        "  for i in range(len(lowerInterceptAveragePoints)):\n",
        "    diameter = getDistance(lowerInterceptAveragePoints[i], higherInterceptAveragePoints[i])\n",
        "    radius = diameter/2\n",
        "    diskVolume = math.pi * radius**2 * parallelSeperationDistance\n",
        "    volume += diskVolume\n",
        "\n",
        "  return volume\n",
        "\n",
        "# Prolate Ellipsoid Method\n",
        "def volumeProlateEllipsoidMethod(x1, y1, x2, y2, lowerInterceptAveragePoints, higherInterceptAveragePoints):\n",
        "  long_axis_length = getDistance([x1, y1], [x2, y2])\n",
        "  parallelSeperationDistance = long_axis_length/21\n",
        "\n",
        "  # Manual Area Calc\n",
        "  area = 0\n",
        "\n",
        "  for i in range(len(lowerInterceptAveragePoints)):\n",
        "    length = getDistance(lowerInterceptAveragePoints[i], higherInterceptAveragePoints[i])\n",
        "    diskArea = length * parallelSeperationDistance\n",
        "    area += diskArea\n",
        "\n",
        "  volume = 0.85 * area * long_axis_length\n",
        "\n",
        "  return volume\n",
        "\n",
        "# Bullet Method Calculation\n",
        "def volumeBulletMethod(x1, y1, x2, y2, lowerInterceptAveragePoints, higherInterceptAveragePoints):\n",
        "  # Long axis Length\n",
        "  long_axis_length = getDistance([x1, y1], [x2, y2])\n",
        "\n",
        "  # Storing all perp lens\n",
        "  lengthArr = []\n",
        "\n",
        "  for i in range(len(lowerInterceptAveragePoints)):\n",
        "    length = getDistance(lowerInterceptAveragePoints[i], higherInterceptAveragePoints[i])\n",
        "    lengthArr.append(length)\n",
        "\n",
        "  midIndex = len(lengthArr)//2\n",
        "  midLength = getDistance(lowerInterceptAveragePoints[midIndex], higherInterceptAveragePoints[midIndex])\n",
        "\n",
        "  area = math.pi * (midLength/2)**2 \n",
        "\n",
        "  # Volume Calc\n",
        "  volume = 5/6 * area * long_axis_length\n",
        "\n",
        "  return volume\n",
        "\n",
        "\n",
        "\n",
        "def findCorrespondingMaskPoints(weighted_avg, lowerIntercept, higherIntercept, x1, y1, x2, y2, slope, i):\n",
        "  # Calculate perpendicular slope\n",
        "  try:\n",
        "    perp_slope = -1/slope\n",
        "  except:\n",
        "    perp_slope = 10000\n",
        "\n",
        "  # Indexing\n",
        "  lowerIndex = 0\n",
        "  higherIndex = 0\n",
        "\n",
        "  # Make sure its from top to bottom direction\n",
        "  if (weighted_avg[-1][0] + weighted_avg[-1][1]) < (weighted_avg[0][0] + weighted_avg[0][1]):\n",
        "    weighted_avg = weighted_avg[::-1]\n",
        "\n",
        "  # Make sure its from top to bottom direction\n",
        "  if getDistance(weighted_avg[0], higherIntercept[0]) > getDistance(weighted_avg[0], higherIntercept[-1]):\n",
        "      higherIntercept = higherIntercept[::-1]\n",
        "\n",
        "  # Make sure its from top to bottom direction\n",
        "  if getDistance(weighted_avg[0], lowerIntercept[0]) > getDistance(weighted_avg[0], lowerIntercept[-1]):\n",
        "      lowerIntercept = lowerIntercept[::-1]\n",
        "\n",
        "  higherInterceptAveragePoints = []\n",
        "  lowerInterceptAveragePoints = []\n",
        "\n",
        "  for averagePoint in weighted_avg:\n",
        "    try:\n",
        "      condition = True\n",
        "      count = 0\n",
        "      while condition:\n",
        "        point = higherIntercept[higherIndex]\n",
        "        if higherIndex == 0:\n",
        "          prev_point =  [x1, y1] if getDistance(point, [x1, y1]) < getDistance(point, [x2, y2]) else [x2, y2]\n",
        "          start_point = prev_point[:]\n",
        "        elif higherIndex == 1:\n",
        "          prev_point = higherIntercept[higherIndex-1]\n",
        "        else:\n",
        "          prev_point = higherIntercept[higherIndex-2]\n",
        "        \n",
        "        new_slope = getSlope(point, averagePoint)\n",
        "        prev_slope =  getSlope(prev_point, averagePoint)\n",
        "        betweenCond = ((point[0] < averagePoint[0] and prev_point[0] > averagePoint[0]) or (point[0] > averagePoint[0] and prev_point[0] < averagePoint[0])) and abs(new_slope) > abs(slope) and abs(prev_slope) > abs(slope)\n",
        "        slopeCond = (new_slope >= perp_slope and prev_slope<=perp_slope) or  (new_slope <= perp_slope and prev_slope>=perp_slope)\n",
        "\n",
        "        if slopeCond and not betweenCond:\n",
        "          higherInterceptAveragePoints.append(point)\n",
        "          condition = False\n",
        "        elif abs(perp_slope) >= 10 and ((new_slope > 0 and prev_slope < 0) or (new_slope < 0 and prev_slope > 0)):\n",
        "          higherInterceptAveragePoints.append(point)\n",
        "          condition = False\n",
        "        elif count > len(higherIntercept)/2:\n",
        "          higherIndex -= count\n",
        "          if higherIndex == 0:\n",
        "            higherInterceptAveragePoints.append(start_point)\n",
        "          else:\n",
        "            higherInterceptAveragePoints.append(higherIntercept[higherIndex])\n",
        "          condition = False\n",
        "        \n",
        "        count += 1\n",
        "        higherIndex += 1\n",
        "    except:\n",
        "      higherInterceptAveragePoints.append(higherIntercept[higherIndex - 1])\n",
        "\n",
        "  for averagePoint in weighted_avg:\n",
        "    try:\n",
        "      condition = True\n",
        "      count = 0\n",
        "      while condition:\n",
        "        point = lowerIntercept[lowerIndex]\n",
        "        if lowerIndex == 0:\n",
        "          prev_point = [x1, y1] if getDistance(point, [x1, y1]) < getDistance(point, [x2, y2]) else [x2, y2]\n",
        "          start_point = prev_point[:]\n",
        "        elif lowerIndex == 1:\n",
        "          prev_point  = lowerIntercept[lowerIndex-1]\n",
        "        else:\n",
        "          prev_point = lowerIntercept[lowerIndex-2]\n",
        "\n",
        "        new_slope = getSlope(point, averagePoint)\n",
        "        prev_slope =  getSlope(prev_point, averagePoint)\n",
        "        betweenCond = ((point[0] < averagePoint[0] and prev_point[0] > averagePoint[0]) or (point[0] > averagePoint[0] and prev_point[0] < averagePoint[0])) and abs(new_slope) > abs(slope) and abs(prev_slope) > abs(slope)\n",
        "        slopeCond = (new_slope >= perp_slope and prev_slope<=perp_slope) or  (new_slope <= perp_slope and prev_slope>=perp_slope)\n",
        "\n",
        "        if slopeCond and not betweenCond:\n",
        "          lowerInterceptAveragePoints.append(point)\n",
        "          condition = False\n",
        "        elif abs(perp_slope) > 10 and ((new_slope > 0 and prev_slope < 0) or (new_slope < 0 and prev_slope > 0)):\n",
        "          lowerInterceptAveragePoints.append(point)\n",
        "          condition = False\n",
        "        elif count > len(lowerIntercept)/2:\n",
        "          lowerIndex -= count\n",
        "          if lowerIndex == 0:\n",
        "            lowerInterceptAveragePoints.append(start_point)\n",
        "          else:\n",
        "            lowerInterceptAveragePoints.append(lowerIntercept[lowerIndex])\n",
        "          condition = False\n",
        "        \n",
        "        count += 1\n",
        "        lowerIndex += 1\n",
        "    except:\n",
        "      lowerInterceptAveragePoints.append(lowerIntercept[lowerIndex - 1])\n",
        "  \n",
        "  if i == 30:\n",
        "      print(higherIntercept)\n",
        "      print(lowerIntercept)\n",
        "      print(weighted_avg)\n",
        "      print(lowerInterceptAveragePoints)\n",
        "      print(higherInterceptAveragePoints)\n",
        "  return (lowerInterceptAveragePoints, higherInterceptAveragePoints)\n",
        "\n",
        "\n",
        "def calculateVolume(path, number, method = \"Method of Disks\"):\n",
        "  points = getIdealPointGroup(obtainContourPoints(path))\n",
        "\n",
        "  x1, y1, x2, y2 = getTopAndBottomCoords(points)\n",
        "  if (x1 + y1) > (x2 + y2):\n",
        "    x1, y1, x2, y2 = x2, y2, x1, y1\n",
        "\n",
        "  mainLineSlope = getSlope([x1, y1], [x2, y2])\n",
        "  baseAngle = math.atan(mainLineSlope)\n",
        "\n",
        "  if baseAngle>0:\n",
        "      baseAngle -= math.pi\n",
        "  lowerIntercept, higherIntercept = splitPoints(x1, y1, x2, y2, mainLineSlope, points)\n",
        "\n",
        "  if (higherIntercept[0][0] + higherIntercept[0][1]) > (lowerIntercept[0][0] + lowerIntercept[0][1]):\n",
        "    lowerIntercept, higherIntercept = higherIntercept, lowerIntercept\n",
        "\n",
        "  volumes = {}\n",
        "  x1s = {}\n",
        "  y1s = {}\n",
        "  x2s = {}\n",
        "  y2s = {}\n",
        "  degrees = {}\n",
        "\n",
        "  # Volumes for all 0 to 5 cases\n",
        "  for i in range(-30, 31, 1):\n",
        "    x1, y1 = lowerIntercept[i]\n",
        "    x2, y2 = higherIntercept[i]\n",
        "\n",
        "\n",
        "    slope = getSlope([x1, y1], [x2, y2])\n",
        "    angle = math.atan(slope)\n",
        "\n",
        "    if angle>0:\n",
        "      angle -= math.pi\n",
        "\n",
        "    degrees[i] = (baseAngle - angle) * 180/math.pi\n",
        "\n",
        "\n",
        "    p1Index = points.index([x1, y1])\n",
        "    p2Index = points.index([x2, y2])\n",
        "\n",
        "    lowerIndex = min(p1Index, p2Index)\n",
        "    higherIndex = max(p1Index, p2Index)\n",
        "\n",
        "    higherInterceptPoints = points[lowerIndex:higherIndex]\n",
        "    lowerInterceptPoints = points[higherIndex:] + points[:lowerIndex]\n",
        "\n",
        "    if (higherInterceptPoints[0][0] + higherInterceptPoints[0][1]) < (lowerInterceptPoints[0][0] + lowerInterceptPoints[0][1]):\n",
        "      lowerInterceptPoints, higherInterceptPoints = higherInterceptPoints, lowerInterceptPoints\n",
        "\n",
        "    weighted_avg = getWeightedAveragePoints(x1, y1, x2, y2, number)\n",
        "    lowerInterceptAveragePoints, higherInterceptAveragePoints = findCorrespondingMaskPoints(weighted_avg, lowerInterceptPoints, higherInterceptPoints, x1, y1, x2, y2, slope, i)\n",
        "    \n",
        "    x1s[i] = [x1] + [point[0] for point in lowerInterceptAveragePoints]\n",
        "    y1s[i] = [y1] + [point[1] for point in lowerInterceptAveragePoints]\n",
        "\n",
        "    x2s[i] = [x2] + [point[0] for point in higherInterceptAveragePoints]\n",
        "    y2s[i] = [y2] + [point[1] for point in higherInterceptAveragePoints]\n",
        "\n",
        "    if i < 100:\n",
        "      print(higherInterceptPoints)\n",
        "      print(lowerInterceptPoints)\n",
        "      print(weighted_avg)\n",
        "      print(lowerInterceptAveragePoints)\n",
        "      print(higherInterceptAveragePoints)\n",
        "\n",
        "      image = cv2.imread(path) \n",
        "\n",
        "\n",
        "      # for point in points:\n",
        "      #   cv2.circle(image,tuple(point), 1, (255,255,255), -1)\n",
        "      #   if point[0] <50:\n",
        "      #     print(point)\n",
        "\n",
        "\n",
        "      # for point in weighted_avg: \n",
        "      #   cv2.circle(image,tuple((int(point[0]), int(point[1]))), 1, (0,0,0), -1)\n",
        "      \n",
        "      for j in range(len(lowerInterceptAveragePoints)): \n",
        "        cv2.line(image, tuple(lowerInterceptAveragePoints[j]), tuple(higherInterceptAveragePoints[j]), (255,255,0), 1)\n",
        "\n",
        "\n",
        "      cv2.line(image, (x1, y1), (x2, y2), (0,0,0), 1)\n",
        "\n",
        "      cv2_imshow(image)\n",
        "      cv2.waitKey(0)\n",
        "      cv2.destroyAllWindows()\n",
        "\n",
        "    if  method == \"Method of Disks\":\n",
        "      volumes[i] = volumeMethodOfDisks(x1, y1, x2, y2, number, lowerInterceptAveragePoints, higherInterceptAveragePoints)\n",
        "    elif method == \"Prolate Ellipsoid\":\n",
        "      volumes[i] = volumeProlateEllipsoidMethod(x1, y1, x2, y2, lowerInterceptAveragePoints, higherInterceptAveragePoints)\n",
        "    elif method == \"Bullet Method\":\n",
        "      volumes[i] = volumeBulletMethod(x1, y1, x2, y2, lowerInterceptAveragePoints, higherInterceptAveragePoints)\n",
        "    \n",
        "  return (volumes, x1s, y1s, x2s, y2s, degrees)\n",
        "\n",
        "print(calculateVolume(path, 20, method = \"Method of Disks\"))\n",
        "# print(calculateVolume(\"/content/output/image.png\", method = \"Single Ellipsoid\"))\n",
        "# print(calculateVolume(\"/content/output/image.png\", method = \"Biplane Area\"))\n",
        "# print(calculateVolume(\"/content/output/image.png\", method = \"Bullet\"))"
      ],
      "execution_count": 21,
      "outputs": [
        {
          "output_type": "stream",
          "text": [
            "[[79, 55], [79, 54], [79, 53], [79, 52], [78, 51], [78, 50], [77, 49], [77, 48], [77, 47], [76, 46], [76, 45], [75, 44], [75, 43], [74, 42], [74, 41], [73, 40], [73, 39], [72, 38], [72, 37], [71, 36], [70, 35], [69, 34], [68, 33], [67, 32], [66, 31], [65, 30], [64, 29], [63, 29], [62, 29], [61, 29], [60, 29], [59, 29], [58, 29], [57, 29], [57, 30], [57, 31], [56, 32], [56, 33], [56, 34], [55, 35], [55, 36], [54, 37], [54, 38], [54, 39], [53, 40], [53, 41], [53, 42], [53, 43], [53, 44], [53, 45], [53, 46], [53, 47], [54, 48], [54, 49], [54, 50], [54, 51]]\n",
            "[[55, 52], [55, 53], [55, 54], [56, 55], [56, 56], [57, 57], [57, 58], [57, 59], [57, 60], [58, 61], [58, 62], [58, 63], [58, 64], [58, 65], [58, 66], [58, 67], [58, 68], [58, 69], [59, 70], [59, 71], [60, 71], [61, 71], [62, 71], [63, 71], [64, 71], [65, 71], [66, 71], [67, 71], [68, 71], [69, 71], [70, 71], [71, 71], [72, 71], [73, 70], [74, 70], [75, 70], [76, 70], [77, 69], [78, 69], [79, 69], [80, 69], [80, 68], [80, 67], [80, 66], [80, 65], [80, 64], [80, 63], [80, 62], [80, 61], [80, 60], [80, 59], [79, 58], [79, 57], [79, 56]]\n",
            "[[56.142857142857146, 52.142857142857146], [57.285714285714285, 52.285714285714285], [58.42857142857143, 52.42857142857143], [59.57142857142857, 52.57142857142857], [60.714285714285715, 52.714285714285715], [61.857142857142854, 52.857142857142854], [63.0001, 53.0001], [64.14285714285714, 53.142857142857146], [65.28571428571429, 53.285714285714285], [66.42857142857143, 53.42857142857143], [67.57142857142857, 53.57142857142857], [68.71428571428571, 53.714285714285715], [69.85714285714286, 53.857142857142854], [71.0001, 54.0001], [72.14285714285714, 54.142857142857146], [73.28571428571429, 54.285714285714285], [74.42857142857143, 54.42857142857143], [75.57142857142857, 54.57142857142857], [76.71428571428571, 54.714285714285715], [77.85714285714286, 54.857142857142854]]\n",
            "[[56, 55], [57, 57], [58, 61], [58, 66], [59, 70], [60, 71], [61, 71], [62, 71], [64, 71], [65, 71], [66, 71], [67, 71], [68, 71], [69, 71], [71, 71], [72, 71], [73, 70], [74, 70], [75, 70], [76, 70]]\n",
            "[[60, 29], [61, 29], [62, 29], [63, 29], [64, 29], [65, 30], [66, 31], [67, 32], [68, 33], [69, 34], [70, 35], [71, 36], [72, 37], [73, 39], [74, 41], [75, 43], [76, 45], [77, 47], [78, 50], [79, 52]]\n"
          ],
          "name": "stdout"
        },
        {
          "output_type": "display_data",
          "data": {
            "image/png": "[encoded data removed]",
            "text/plain": [
              "<PIL.Image.Image image mode=RGB size=112x112 at 0x7F17E7FD7278>"
            ]
          },
          "metadata": {
            "tags": []
          }
        },
        {
          "output_type": "stream",
          "text": [
            "[[79, 54], [79, 53], [79, 52], [78, 51], [78, 50], [77, 49], [77, 48], [77, 47], [76, 46], [76, 45], [75, 44], [75, 43], [74, 42], [74, 41], [73, 40], [73, 39], [72, 38], [72, 37], [71, 36], [70, 35], [69, 34], [68, 33], [67, 32], [66, 31], [65, 30], [64, 29], [63, 29], [62, 29], [61, 29], [60, 29], [59, 29], [58, 29], [57, 29], [57, 30], [57, 31], [56, 32], [56, 33], [56, 34], [55, 35], [55, 36], [54, 37], [54, 38], [54, 39], [53, 40], [53, 41], [53, 42], [53, 43], [53, 44], [53, 45], [53, 46], [53, 47], [54, 48], [54, 49], [54, 50], [54, 51], [55, 52]]\n",
            "[[55, 53], [55, 54], [56, 55], [56, 56], [57, 57], [57, 58], [57, 59], [57, 60], [58, 61], [58, 62], [58, 63], [58, 64], [58, 65], [58, 66], [58, 67], [58, 68], [58, 69], [59, 70], [59, 71], [60, 71], [61, 71], [62, 71], [63, 71], [64, 71], [65, 71], [66, 71], [67, 71], [68, 71], [69, 71], [70, 71], [71, 71], [72, 71], [73, 70], [74, 70], [75, 70], [76, 70], [77, 69], [78, 69], [79, 69], [80, 69], [80, 68], [80, 67], [80, 66], [80, 65], [80, 64], [80, 63], [80, 62], [80, 61], [80, 60], [80, 59], [79, 58], [79, 57], [79, 56], [79, 55]]\n",
            "[[56.142857142857146, 53.04761904761905], [57.285714285714285, 53.095238095238095], [58.42857142857143, 53.142857142857146], [59.57142857142857, 53.19047619047619], [60.714285714285715, 53.23809523809524], [61.857142857142854, 53.285714285714285], [63.0001, 53.333333333333336], [64.14285714285714, 53.38095238095238], [65.28571428571429, 53.42857142857143], [66.42857142857143, 53.476190476190474], [67.57142857142857, 53.523809523809526], [68.71428571428571, 53.57142857142857], [69.85714285714286, 53.61904761904762], [71.0001, 53.666666666666664], [72.14285714285714, 53.714285714285715], [73.28571428571429, 53.76190476190476], [74.42857142857143, 53.80952380952381], [75.57142857142857, 53.857142857142854], [76.71428571428571, 53.904761904761905], [77.85714285714286, 53.95238095238095]]\n",
            "[[55, 54], [56, 55], [58, 64], [59, 70], [60, 71], [62, 71], [63, 71], [64, 71], [65, 71], [66, 71], [67, 71], [68, 71], [70, 71], [71, 71], [72, 71], [73, 70], [74, 70], [75, 70], [77, 69], [78, 69]]\n",
            "[[57, 31], [58, 29], [59, 29], [60, 29], [61, 29], [62, 29], [64, 29], [65, 30], [66, 31], [67, 32], [68, 33], [69, 34], [70, 35], [72, 37], [73, 39], [74, 41], [75, 43], [76, 45], [77, 47], [78, 50]]\n"
          ],
          "name": "stdout"
        },
        {
          "output_type": "display_data",
          "data": {
            "image/png": "[encoded data removed]",
            "text/plain": [
              "<PIL.Image.Image image mode=RGB size=112x112 at 0x7F17E7FD7278>"
            ]
          },
          "metadata": {
            "tags": []
          }
        },
        {
          "output_type": "stream",
          "text": [
            "[[79, 53], [79, 52], [78, 51], [78, 50], [77, 49], [77, 48], [77, 47], [76, 46], [76, 45], [75, 44], [75, 43], [74, 42], [74, 41], [73, 40], [73, 39], [72, 38], [72, 37], [71, 36], [70, 35], [69, 34], [68, 33], [67, 32], [66, 31], [65, 30], [64, 29], [63, 29], [62, 29], [61, 29], [60, 29], [59, 29], [58, 29], [57, 29], [57, 30], [57, 31], [56, 32], [56, 33], [56, 34], [55, 35], [55, 36], [54, 37], [54, 38], [54, 39], [53, 40], [53, 41], [53, 42], [53, 43], [53, 44], [53, 45], [53, 46], [53, 47], [54, 48], [54, 49], [54, 50], [54, 51], [55, 52], [55, 53]]\n",
            "[[55, 54], [56, 55], [56, 56], [57, 57], [57, 58], [57, 59], [57, 60], [58, 61], [58, 62], [58, 63], [58, 64], [58, 65], [58, 66], [58, 67], [58, 68], [58, 69], [59, 70], [59, 71], [60, 71], [61, 71], [62, 71], [63, 71], [64, 71], [65, 71], [66, 71], [67, 71], [68, 71], [69, 71], [70, 71], [71, 71], [72, 71], [73, 70], [74, 70], [75, 70], [76, 70], [77, 69], [78, 69], [79, 69], [80, 69], [80, 68], [80, 67], [80, 66], [80, 65], [80, 64], [80, 63], [80, 62], [80, 61], [80, 60], [80, 59], [79, 58], [79, 57], [79, 56], [79, 55], [79, 54]]\n",
            "[[56.142857142857146, 53.95238095238095], [57.285714285714285, 53.904761904761905], [58.42857142857143, 53.857142857142854], [59.57142857142857, 53.80952380952381], [60.714285714285715, 53.76190476190476], [61.857142857142854, 53.714285714285715], [63.0001, 53.666666666666664], [64.14285714285714, 53.61904761904762], [65.28571428571429, 53.57142857142857], [66.42857142857143, 53.523809523809526], [67.57142857142857, 53.476190476190474], [68.71428571428571, 53.42857142857143], [69.85714285714286, 53.38095238095238], [71.0001, 53.333333333333336], [72.14285714285714, 53.285714285714285], [73.28571428571429, 53.23809523809524], [74.42857142857143, 53.19047619047619], [75.57142857142857, 53.142857142857146], [76.71428571428571, 53.095238095238095], [77.85714285714286, 53.04761904761905]]\n",
            "[[57, 57], [58, 61], [59, 70], [60, 71], [61, 71], [62, 71], [64, 71], [65, 71], [66, 71], [67, 71], [68, 71], [69, 71], [70, 71], [72, 71], [73, 70], [74, 70], [75, 70], [76, 70], [77, 69], [78, 69]]\n",
            "[[55, 53], [57, 31], [58, 29], [59, 29], [60, 29], [61, 29], [62, 29], [64, 29], [65, 30], [66, 31], [67, 32], [68, 33], [70, 35], [71, 36], [72, 37], [73, 39], [74, 41], [76, 45], [77, 47], [78, 50]]\n"
          ],
          "name": "stdout"
        },
        {
          "output_type": "display_data",
          "data": {
            "image/png": "[encoded data removed]",
            "text/plain": [
              "<PIL.Image.Image image mode=RGB size=112x112 at 0x7F17E7FD7278>"
            ]
          },
          "metadata": {
            "tags": []
          }
        },
        {
          "output_type": "stream",
          "text": [
            "[[79, 52], [78, 51], [78, 50], [77, 49], [77, 48], [77, 47], [76, 46], [76, 45], [75, 44], [75, 43], [74, 42], [74, 41], [73, 40], [73, 39], [72, 38], [72, 37], [71, 36], [70, 35], [69, 34], [68, 33], [67, 32], [66, 31], [65, 30], [64, 29], [63, 29], [62, 29], [61, 29], [60, 29], [59, 29], [58, 29], [57, 29], [57, 30], [57, 31], [56, 32], [56, 33], [56, 34], [55, 35], [55, 36], [54, 37], [54, 38], [54, 39], [53, 40], [53, 41], [53, 42], [53, 43], [53, 44], [53, 45], [53, 46], [53, 47], [54, 48], [54, 49], [54, 50], [54, 51], [55, 52], [55, 53], [55, 54]]\n",
            "[[56, 55], [56, 56], [57, 57], [57, 58], [57, 59], [57, 60], [58, 61], [58, 62], [58, 63], [58, 64], [58, 65], [58, 66], [58, 67], [58, 68], [58, 69], [59, 70], [59, 71], [60, 71], [61, 71], [62, 71], [63, 71], [64, 71], [65, 71], [66, 71], [67, 71], [68, 71], [69, 71], [70, 71], [71, 71], [72, 71], [73, 70], [74, 70], [75, 70], [76, 70], [77, 69], [78, 69], [79, 69], [80, 69], [80, 68], [80, 67], [80, 66], [80, 65], [80, 64], [80, 63], [80, 62], [80, 61], [80, 60], [80, 59], [79, 58], [79, 57], [79, 56], [79, 55], [79, 54], [79, 53]]\n",
            "[[57.095238095238095, 54.857142857142854], [58.19047619047619, 54.714285714285715], [59.285714285714285, 54.57142857142857], [60.38095238095238, 54.42857142857143], [61.476190476190474, 54.285714285714285], [62.57142857142857, 54.142857142857146], [63.666666666666664, 54.0001], [64.76190476190476, 53.857142857142854], [65.85714285714286, 53.714285714285715], [66.95238095238095, 53.57142857142857], [68.04761904761905, 53.42857142857143], [69.14285714285714, 53.285714285714285], [70.23809523809524, 53.142857142857146], [71.33333333333333, 53.0001], [72.42857142857143, 52.857142857142854], [73.52380952380952, 52.714285714285715], [74.61904761904762, 52.57142857142857], [75.71428571428571, 52.42857142857143], [76.80952380952381, 52.285714285714285], [77.9047619047619, 52.142857142857146]]\n",
            "[[58, 63], [61, 71], [62, 71], [63, 71], [64, 71], [65, 71], [66, 71], [67, 71], [69, 71], [70, 71], [71, 71], [72, 71], [73, 70], [74, 70], [75, 70], [76, 70], [77, 69], [78, 69], [79, 69], [80, 68]]\n",
            "[[55, 36], [56, 34], [57, 31], [58, 29], [59, 29], [60, 29], [61, 29], [62, 29], [63, 29], [64, 29], [65, 30], [67, 32], [68, 33], [69, 34], [71, 36], [72, 37], [73, 39], [75, 43], [76, 45], [79, 52]]\n"
          ],
          "name": "stdout"
        },
        {
          "output_type": "display_data",
          "data": {
            "image/png": "[encoded data removed]",
            "text/plain": [
              "<PIL.Image.Image image mode=RGB size=112x112 at 0x7F17E7FD7278>"
            ]
          },
          "metadata": {
            "tags": []
          }
        },
        {
          "output_type": "stream",
          "text": [
            "[[78, 51], [78, 50], [77, 49], [77, 48], [77, 47], [76, 46], [76, 45], [75, 44], [75, 43], [74, 42], [74, 41], [73, 40], [73, 39], [72, 38], [72, 37], [71, 36], [70, 35], [69, 34], [68, 33], [67, 32], [66, 31], [65, 30], [64, 29], [63, 29], [62, 29], [61, 29], [60, 29], [59, 29], [58, 29], [57, 29], [57, 30], [57, 31], [56, 32], [56, 33], [56, 34], [55, 35], [55, 36], [54, 37], [54, 38], [54, 39], [53, 40], [53, 41], [53, 42], [53, 43], [53, 44], [53, 45], [53, 46], [53, 47], [54, 48], [54, 49], [54, 50], [54, 51], [55, 52], [55, 53], [55, 54], [56, 55]]\n",
            "[[56, 56], [57, 57], [57, 58], [57, 59], [57, 60], [58, 61], [58, 62], [58, 63], [58, 64], [58, 65], [58, 66], [58, 67], [58, 68], [58, 69], [59, 70], [59, 71], [60, 71], [61, 71], [62, 71], [63, 71], [64, 71], [65, 71], [66, 71], [67, 71], [68, 71], [69, 71], [70, 71], [71, 71], [72, 71], [73, 70], [74, 70], [75, 70], [76, 70], [77, 69], [78, 69], [79, 69], [80, 69], [80, 68], [80, 67], [80, 66], [80, 65], [80, 64], [80, 63], [80, 62], [80, 61], [80, 60], [80, 59], [79, 58], [79, 57], [79, 56], [79, 55], [79, 54], [79, 53], [79, 52]]\n",
            "[[57.04761904761905, 55.76190476190476], [58.095238095238095, 55.523809523809526], [59.142857142857146, 55.285714285714285], [60.19047619047619, 55.04761904761905], [61.23809523809524, 54.80952380952381], [62.285714285714285, 54.57142857142857], [63.333333333333336, 54.333333333333336], [64.38095238095238, 54.095238095238095], [65.42857142857143, 53.857142857142854], [66.47619047619048, 53.61904761904762], [67.52380952380952, 53.38095238095238], [68.57142857142857, 53.142857142857146], [69.61904761904762, 52.904761904761905], [70.66666666666667, 52.666666666666664], [71.71428571428571, 52.42857142857143], [72.76190476190476, 52.19047619047619], [73.80952380952381, 51.95238095238095], [74.85714285714286, 51.714285714285715], [75.9047619047619, 51.476190476190474], [76.95238095238095, 51.23809523809524]]\n",
            "[[61, 71], [62, 71], [63, 71], [64, 71], [65, 71], [67, 71], [68, 71], [69, 71], [70, 71], [71, 71], [72, 71], [73, 70], [74, 70], [75, 70], [76, 70], [77, 69], [78, 69], [79, 69], [80, 69], [80, 64]]\n",
            "[[54, 39], [54, 37], [55, 36], [56, 34], [57, 31], [57, 30], [58, 29], [59, 29], [60, 29], [61, 29], [62, 29], [64, 29], [65, 30], [66, 31], [68, 33], [69, 34], [70, 35], [72, 37], [74, 41], [76, 45]]\n"
          ],
          "name": "stdout"
        },
        {
          "output_type": "display_data",
          "data": {
            "image/png": "[encoded data removed]",
            "text/plain": [
              "<PIL.Image.Image image mode=RGB size=112x112 at 0x7F17E7FD7278>"
            ]
          },
          "metadata": {
            "tags": []
          }
        },
        {
          "output_type": "stream",
          "text": [
            "[[78, 50], [77, 49], [77, 48], [77, 47], [76, 46], [76, 45], [75, 44], [75, 43], [74, 42], [74, 41], [73, 40], [73, 39], [72, 38], [72, 37], [71, 36], [70, 35], [69, 34], [68, 33], [67, 32], [66, 31], [65, 30], [64, 29], [63, 29], [62, 29], [61, 29], [60, 29], [59, 29], [58, 29], [57, 29], [57, 30], [57, 31], [56, 32], [56, 33], [56, 34], [55, 35], [55, 36], [54, 37], [54, 38], [54, 39], [53, 40], [53, 41], [53, 42], [53, 43], [53, 44], [53, 45], [53, 46], [53, 47], [54, 48], [54, 49], [54, 50], [54, 51], [55, 52], [55, 53], [55, 54], [56, 55], [56, 56]]\n",
            "[[57, 57], [57, 58], [57, 59], [57, 60], [58, 61], [58, 62], [58, 63], [58, 64], [58, 65], [58, 66], [58, 67], [58, 68], [58, 69], [59, 70], [59, 71], [60, 71], [61, 71], [62, 71], [63, 71], [64, 71], [65, 71], [66, 71], [67, 71], [68, 71], [69, 71], [70, 71], [71, 71], [72, 71], [73, 70], [74, 70], [75, 70], [76, 70], [77, 69], [78, 69], [79, 69], [80, 69], [80, 68], [80, 67], [80, 66], [80, 65], [80, 64], [80, 63], [80, 62], [80, 61], [80, 60], [80, 59], [79, 58], [79, 57], [79, 56], [79, 55], [79, 54], [79, 53], [79, 52], [78, 51]]\n",
            "[[58.0001, 56.666666666666664], [59.0001, 56.333333333333336], [60.0001, 56.0001], [61.0001, 55.666666666666664], [62.0001, 55.333333333333336], [63.0001, 55.0001], [64.0001, 54.666666666666664], [65.0001, 54.333333333333336], [66.0001, 54.0001], [67.0001, 53.666666666666664], [68.0001, 53.333333333333336], [69.0001, 53.0001], [70.0001, 52.666666666666664], [71.0001, 52.333333333333336], [72.0001, 52.0001], [73.0001, 51.666666666666664], [74.0001, 51.333333333333336], [75.0001, 51.0001], [76.0001, 50.666666666666664], [77.0001, 50.333333333333336]]\n",
            "[[63, 71], [64, 71], [66, 71], [67, 71], [68, 71], [69, 71], [70, 71], [71, 71], [72, 71], [73, 70], [74, 70], [75, 70], [76, 70], [77, 69], [78, 69], [79, 69], [80, 69], [80, 65], [80, 62], [80, 59]]\n",
            "[[53, 41], [54, 39], [54, 37], [55, 36], [56, 34], [56, 33], [57, 31], [57, 30], [58, 29], [59, 29], [60, 29], [62, 29], [63, 29], [64, 29], [65, 30], [67, 32], [68, 33], [70, 35], [72, 37], [74, 41]]\n"
          ],
          "name": "stdout"
        },
        {
          "output_type": "display_data",
          "data": {
            "image/png": "[encoded data removed]",
            "text/plain": [
              "<PIL.Image.Image image mode=RGB size=112x112 at 0x7F17E7FD7278>"
            ]
          },
          "metadata": {
            "tags": []
          }
        },
        {
          "output_type": "stream",
          "text": [
            "[[77, 49], [77, 48], [77, 47], [76, 46], [76, 45], [75, 44], [75, 43], [74, 42], [74, 41], [73, 40], [73, 39], [72, 38], [72, 37], [71, 36], [70, 35], [69, 34], [68, 33], [67, 32], [66, 31], [65, 30], [64, 29], [63, 29], [62, 29], [61, 29], [60, 29], [59, 29], [58, 29], [57, 29], [57, 30], [57, 31], [56, 32], [56, 33], [56, 34], [55, 35], [55, 36], [54, 37], [54, 38], [54, 39], [53, 40], [53, 41], [53, 42], [53, 43], [53, 44], [53, 45], [53, 46], [53, 47], [54, 48], [54, 49], [54, 50], [54, 51], [55, 52], [55, 53], [55, 54], [56, 55], [56, 56], [57, 57]]\n",
            "[[57, 58], [57, 59], [57, 60], [58, 61], [58, 62], [58, 63], [58, 64], [58, 65], [58, 66], [58, 67], [58, 68], [58, 69], [59, 70], [59, 71], [60, 71], [61, 71], [62, 71], [63, 71], [64, 71], [65, 71], [66, 71], [67, 71], [68, 71], [69, 71], [70, 71], [71, 71], [72, 71], [73, 70], [74, 70], [75, 70], [76, 70], [77, 69], [78, 69], [79, 69], [80, 69], [80, 68], [80, 67], [80, 66], [80, 65], [80, 64], [80, 63], [80, 62], [80, 61], [80, 60], [80, 59], [79, 58], [79, 57], [79, 56], [79, 55], [79, 54], [79, 53], [79, 52], [78, 51], [78, 50]]\n",
            "[[57.95238095238095, 57.57142857142857], [58.904761904761905, 57.142857142857146], [59.857142857142854, 56.714285714285715], [60.80952380952381, 56.285714285714285], [61.76190476190476, 55.857142857142854], [62.714285714285715, 55.42857142857143], [63.666666666666664, 55.0001], [64.61904761904762, 54.57142857142857], [65.57142857142857, 54.142857142857146], [66.52380952380952, 53.714285714285715], [67.47619047619048, 53.285714285714285], [68.42857142857143, 52.857142857142854], [69.38095238095238, 52.42857142857143], [70.33333333333333, 52.0001], [71.28571428571429, 51.57142857142857], [72.23809523809524, 51.142857142857146], [73.19047619047619, 50.714285714285715], [74.14285714285714, 50.285714285714285], [75.0952380952381, 49.857142857142854], [76.04761904761905, 49.42857142857143]]\n",
            "[[64, 71], [66, 71], [67, 71], [68, 71], [69, 71], [70, 71], [71, 71], [73, 70], [74, 70], [75, 70], [76, 70], [77, 69], [78, 69], [79, 69], [80, 69], [80, 68], [80, 65], [80, 63], [80, 60], [79, 55]]\n",
            "[[54, 48], [53, 44], [53, 41], [54, 39], [54, 38], [55, 36], [55, 35], [56, 34], [56, 32], [57, 31], [57, 30], [58, 29], [59, 29], [60, 29], [62, 29], [63, 29], [64, 29], [66, 31], [68, 33], [70, 35]]\n"
          ],
          "name": "stdout"
        },
        {
          "output_type": "display_data",
          "data": {
            "image/png": "[encoded data removed]",
            "text/plain": [
              "<PIL.Image.Image image mode=RGB size=112x112 at 0x7F17E803AF98>"
            ]
          },
          "metadata": {
            "tags": []
          }
        },
        {
          "output_type": "stream",
          "text": [
            "[[77, 48], [77, 47], [76, 46], [76, 45], [75, 44], [75, 43], [74, 42], [74, 41], [73, 40], [73, 39], [72, 38], [72, 37], [71, 36], [70, 35], [69, 34], [68, 33], [67, 32], [66, 31], [65, 30], [64, 29], [63, 29], [62, 29], [61, 29], [60, 29], [59, 29], [58, 29], [57, 29], [57, 30], [57, 31], [56, 32], [56, 33], [56, 34], [55, 35], [55, 36], [54, 37], [54, 38], [54, 39], [53, 40], [53, 41], [53, 42], [53, 43], [53, 44], [53, 45], [53, 46], [53, 47], [54, 48], [54, 49], [54, 50], [54, 51], [55, 52], [55, 53], [55, 54], [56, 55], [56, 56], [57, 57], [57, 58]]\n",
            "[[57, 59], [57, 60], [58, 61], [58, 62], [58, 63], [58, 64], [58, 65], [58, 66], [58, 67], [58, 68], [58, 69], [59, 70], [59, 71], [60, 71], [61, 71], [62, 71], [63, 71], [64, 71], [65, 71], [66, 71], [67, 71], [68, 71], [69, 71], [70, 71], [71, 71], [72, 71], [73, 70], [74, 70], [75, 70], [76, 70], [77, 69], [78, 69], [79, 69], [80, 69], [80, 68], [80, 67], [80, 66], [80, 65], [80, 64], [80, 63], [80, 62], [80, 61], [80, 60], [80, 59], [79, 58], [79, 57], [79, 56], [79, 55], [79, 54], [79, 53], [79, 52], [78, 51], [78, 50], [77, 49]]\n",
            "[[57.95238095238095, 58.476190476190474], [58.904761904761905, 57.95238095238095], [59.857142857142854, 57.42857142857143], [60.80952380952381, 56.904761904761905], [61.76190476190476, 56.38095238095238], [62.714285714285715, 55.857142857142854], [63.666666666666664, 55.333333333333336], [64.61904761904762, 54.80952380952381], [65.57142857142857, 54.285714285714285], [66.52380952380952, 53.76190476190476], [67.47619047619048, 53.23809523809524], [68.42857142857143, 52.714285714285715], [69.38095238095238, 52.19047619047619], [70.33333333333333, 51.666666666666664], [71.28571428571429, 51.142857142857146], [72.23809523809524, 50.61904761904762], [73.19047619047619, 50.095238095238095], [74.14285714285714, 49.57142857142857], [75.0952380952381, 49.04761904761905], [76.04761904761905, 48.523809523809526]]\n",
            "[[65, 71], [67, 71], [68, 71], [69, 71], [70, 71], [72, 71], [73, 70], [74, 70], [75, 70], [76, 70], [77, 69], [78, 69], [79, 69], [80, 69], [80, 66], [80, 64], [80, 62], [80, 60], [79, 56], [79, 53]]\n",
            "[[55, 53], [54, 49], [53, 44], [53, 42], [53, 40], [54, 39], [54, 37], [55, 36], [55, 35], [56, 34], [56, 32], [57, 31], [57, 29], [58, 29], [60, 29], [61, 29], [62, 29], [63, 29], [65, 30], [67, 32]]\n"
          ],
          "name": "stdout"
        },
        {
          "output_type": "display_data",
          "data": {
            "image/png": "[encoded data removed]",
            "text/plain": [
              "<PIL.Image.Image image mode=RGB size=112x112 at 0x7F17E7FD7278>"
            ]
          },
          "metadata": {
            "tags": []
          }
        },
        {
          "output_type": "stream",
          "text": [
            "[[77, 47], [76, 46], [76, 45], [75, 44], [75, 43], [74, 42], [74, 41], [73, 40], [73, 39], [72, 38], [72, 37], [71, 36], [70, 35], [69, 34], [68, 33], [67, 32], [66, 31], [65, 30], [64, 29], [63, 29], [62, 29], [61, 29], [60, 29], [59, 29], [58, 29], [57, 29], [57, 30], [57, 31], [56, 32], [56, 33], [56, 34], [55, 35], [55, 36], [54, 37], [54, 38], [54, 39], [53, 40], [53, 41], [53, 42], [53, 43], [53, 44], [53, 45], [53, 46], [53, 47], [54, 48], [54, 49], [54, 50], [54, 51], [55, 52], [55, 53], [55, 54], [56, 55], [56, 56], [57, 57], [57, 58], [57, 59]]\n",
            "[[57, 60], [58, 61], [58, 62], [58, 63], [58, 64], [58, 65], [58, 66], [58, 67], [58, 68], [58, 69], [59, 70], [59, 71], [60, 71], [61, 71], [62, 71], [63, 71], [64, 71], [65, 71], [66, 71], [67, 71], [68, 71], [69, 71], [70, 71], [71, 71], [72, 71], [73, 70], [74, 70], [75, 70], [76, 70], [77, 69], [78, 69], [79, 69], [80, 69], [80, 68], [80, 67], [80, 66], [80, 65], [80, 64], [80, 63], [80, 62], [80, 61], [80, 60], [80, 59], [79, 58], [79, 57], [79, 56], [79, 55], [79, 54], [79, 53], [79, 52], [78, 51], [78, 50], [77, 49], [77, 48]]\n",
            "[[57.95238095238095, 59.38095238095238], [58.904761904761905, 58.76190476190476], [59.857142857142854, 58.142857142857146], [60.80952380952381, 57.523809523809526], [61.76190476190476, 56.904761904761905], [62.714285714285715, 56.285714285714285], [63.666666666666664, 55.666666666666664], [64.61904761904762, 55.04761904761905], [65.57142857142857, 54.42857142857143], [66.52380952380952, 53.80952380952381], [67.47619047619048, 53.19047619047619], [68.42857142857143, 52.57142857142857], [69.38095238095238, 51.95238095238095], [70.33333333333333, 51.333333333333336], [71.28571428571429, 50.714285714285715], [72.23809523809524, 50.095238095238095], [73.19047619047619, 49.476190476190474], [74.14285714285714, 48.857142857142854], [75.0952380952381, 48.23809523809524], [76.04761904761905, 47.61904761904762]]\n",
            "[[66, 71], [67, 71], [69, 71], [70, 71], [71, 71], [73, 70], [74, 70], [75, 70], [76, 70], [77, 69], [78, 69], [80, 69], [80, 68], [80, 66], [80, 64], [80, 62], [80, 59], [79, 56], [79, 54], [79, 52]]\n",
            "[[57, 57], [55, 52], [54, 49], [53, 45], [53, 43], [53, 41], [54, 39], [54, 38], [55, 36], [55, 35], [56, 34], [56, 33], [57, 31], [57, 30], [58, 29], [59, 29], [60, 29], [62, 29], [63, 29], [64, 29]]\n"
          ],
          "name": "stdout"
        },
        {
          "output_type": "display_data",
          "data": {
            "image/png": "[encoded data removed]",
            "text/plain": [
              "<PIL.Image.Image image mode=RGB size=112x112 at 0x7F17E7FD7278>"
            ]
          },
          "metadata": {
            "tags": []
          }
        },
        {
          "output_type": "stream",
          "text": [
            "[[76, 46], [76, 45], [75, 44], [75, 43], [74, 42], [74, 41], [73, 40], [73, 39], [72, 38], [72, 37], [71, 36], [70, 35], [69, 34], [68, 33], [67, 32], [66, 31], [65, 30], [64, 29], [63, 29], [62, 29], [61, 29], [60, 29], [59, 29], [58, 29], [57, 29], [57, 30], [57, 31], [56, 32], [56, 33], [56, 34], [55, 35], [55, 36], [54, 37], [54, 38], [54, 39], [53, 40], [53, 41], [53, 42], [53, 43], [53, 44], [53, 45], [53, 46], [53, 47], [54, 48], [54, 49], [54, 50], [54, 51], [55, 52], [55, 53], [55, 54], [56, 55], [56, 56], [57, 57], [57, 58], [57, 59], [57, 60]]\n",
            "[[58, 61], [58, 62], [58, 63], [58, 64], [58, 65], [58, 66], [58, 67], [58, 68], [58, 69], [59, 70], [59, 71], [60, 71], [61, 71], [62, 71], [63, 71], [64, 71], [65, 71], [66, 71], [67, 71], [68, 71], [69, 71], [70, 71], [71, 71], [72, 71], [73, 70], [74, 70], [75, 70], [76, 70], [77, 69], [78, 69], [79, 69], [80, 69], [80, 68], [80, 67], [80, 66], [80, 65], [80, 64], [80, 63], [80, 62], [80, 61], [80, 60], [80, 59], [79, 58], [79, 57], [79, 56], [79, 55], [79, 54], [79, 53], [79, 52], [78, 51], [78, 50], [77, 49], [77, 48], [77, 47]]\n",
            "[[58.857142857142854, 60.285714285714285], [59.714285714285715, 59.57142857142857], [60.57142857142857, 58.857142857142854], [61.42857142857143, 58.142857142857146], [62.285714285714285, 57.42857142857143], [63.142857142857146, 56.714285714285715], [64.0001, 56.0001], [64.85714285714286, 55.285714285714285], [65.71428571428571, 54.57142857142857], [66.57142857142857, 53.857142857142854], [67.42857142857143, 53.142857142857146], [68.28571428571429, 52.42857142857143], [69.14285714285714, 51.714285714285715], [70.0001, 51.0001], [70.85714285714286, 50.285714285714285], [71.71428571428571, 49.57142857142857], [72.57142857142857, 48.857142857142854], [73.42857142857143, 48.142857142857146], [74.28571428571429, 47.42857142857143], [75.14285714285714, 46.714285714285715]]\n",
            "[[68, 71], [70, 71], [71, 71], [73, 70], [74, 70], [75, 70], [76, 70], [77, 69], [78, 69], [80, 69], [80, 68], [80, 66], [80, 64], [80, 62], [80, 61], [80, 59], [79, 56], [79, 54], [79, 53], [78, 50]]\n",
            "[[57, 58], [56, 55], [55, 52], [54, 49], [53, 46], [53, 44], [53, 42], [53, 41], [54, 39], [54, 38], [54, 37], [55, 36], [56, 34], [56, 33], [56, 32], [57, 31], [57, 30], [58, 29], [59, 29], [61, 29]]\n"
          ],
          "name": "stdout"
        },
        {
          "output_type": "display_data",
          "data": {
            "image/png": "[encoded data removed]",
            "text/plain": [
              "<PIL.Image.Image image mode=RGB size=112x112 at 0x7F17E7FD7390>"
            ]
          },
          "metadata": {
            "tags": []
          }
        },
        {
          "output_type": "stream",
          "text": [
            "[[76, 45], [75, 44], [75, 43], [74, 42], [74, 41], [73, 40], [73, 39], [72, 38], [72, 37], [71, 36], [70, 35], [69, 34], [68, 33], [67, 32], [66, 31], [65, 30], [64, 29], [63, 29], [62, 29], [61, 29], [60, 29], [59, 29], [58, 29], [57, 29], [57, 30], [57, 31], [56, 32], [56, 33], [56, 34], [55, 35], [55, 36], [54, 37], [54, 38], [54, 39], [53, 40], [53, 41], [53, 42], [53, 43], [53, 44], [53, 45], [53, 46], [53, 47], [54, 48], [54, 49], [54, 50], [54, 51], [55, 52], [55, 53], [55, 54], [56, 55], [56, 56], [57, 57], [57, 58], [57, 59], [57, 60], [58, 61]]\n",
            "[[58, 62], [58, 63], [58, 64], [58, 65], [58, 66], [58, 67], [58, 68], [58, 69], [59, 70], [59, 71], [60, 71], [61, 71], [62, 71], [63, 71], [64, 71], [65, 71], [66, 71], [67, 71], [68, 71], [69, 71], [70, 71], [71, 71], [72, 71], [73, 70], [74, 70], [75, 70], [76, 70], [77, 69], [78, 69], [79, 69], [80, 69], [80, 68], [80, 67], [80, 66], [80, 65], [80, 64], [80, 63], [80, 62], [80, 61], [80, 60], [80, 59], [79, 58], [79, 57], [79, 56], [79, 55], [79, 54], [79, 53], [79, 52], [78, 51], [78, 50], [77, 49], [77, 48], [77, 47], [76, 46]]\n",
            "[[58.857142857142854, 61.19047619047619], [59.714285714285715, 60.38095238095238], [60.57142857142857, 59.57142857142857], [61.42857142857143, 58.76190476190476], [62.285714285714285, 57.95238095238095], [63.142857142857146, 57.142857142857146], [64.0001, 56.333333333333336], [64.85714285714286, 55.523809523809526], [65.71428571428571, 54.714285714285715], [66.57142857142857, 53.904761904761905], [67.42857142857143, 53.095238095238095], [68.28571428571429, 52.285714285714285], [69.14285714285714, 51.476190476190474], [70.0001, 50.666666666666664], [70.85714285714286, 49.857142857142854], [71.71428571428571, 49.04761904761905], [72.57142857142857, 48.23809523809524], [73.42857142857143, 47.42857142857143], [74.28571428571429, 46.61904761904762], [75.14285714285714, 45.80952380952381]]\n",
            "[[69, 71], [70, 71], [72, 71], [73, 70], [74, 70], [76, 70], [77, 69], [78, 69], [80, 69], [80, 68], [80, 66], [80, 64], [80, 62], [80, 61], [80, 59], [79, 56], [79, 55], [79, 53], [78, 50], [77, 47]]\n",
            "[[57, 59], [57, 57], [55, 53], [54, 50], [54, 49], [53, 46], [53, 44], [53, 42], [53, 41], [54, 39], [54, 38], [54, 37], [55, 36], [56, 34], [56, 33], [56, 32], [57, 31], [57, 30], [58, 29], [60, 29]]\n"
          ],
          "name": "stdout"
        },
        {
          "output_type": "display_data",
          "data": {
            "image/png": "[encoded data removed]",
            "text/plain": [
              "<PIL.Image.Image image mode=RGB size=112x112 at 0x7F17E7FD7390>"
            ]
          },
          "metadata": {
            "tags": []
          }
        },
        {
          "output_type": "stream",
          "text": [
            "[[58, 63], [58, 64], [58, 65], [58, 66], [58, 67], [58, 68], [58, 69], [59, 70], [59, 71], [60, 71], [61, 71], [62, 71], [63, 71], [64, 71], [65, 71], [66, 71], [67, 71], [68, 71], [69, 71], [70, 71], [71, 71], [72, 71], [73, 70], [74, 70], [75, 70], [76, 70], [77, 69], [78, 69], [79, 69], [80, 69], [80, 68], [80, 67], [80, 66], [80, 65], [80, 64], [80, 63], [80, 62], [80, 61], [80, 60], [80, 59], [79, 58], [79, 57], [79, 56], [79, 55], [79, 54], [79, 53], [79, 52], [78, 51], [78, 50], [77, 49], [77, 48], [77, 47], [76, 46], [76, 45]]\n",
            "[[75, 44], [75, 43], [74, 42], [74, 41], [73, 40], [73, 39], [72, 38], [72, 37], [71, 36], [70, 35], [69, 34], [68, 33], [67, 32], [66, 31], [65, 30], [64, 29], [63, 29], [62, 29], [61, 29], [60, 29], [59, 29], [58, 29], [57, 29], [57, 30], [57, 31], [56, 32], [56, 33], [56, 34], [55, 35], [55, 36], [54, 37], [54, 38], [54, 39], [53, 40], [53, 41], [53, 42], [53, 43], [53, 44], [53, 45], [53, 46], [53, 47], [54, 48], [54, 49], [54, 50], [54, 51], [55, 52], [55, 53], [55, 54], [56, 55], [56, 56], [57, 57], [57, 58], [57, 59], [57, 60], [58, 61], [58, 62]]\n",
            "[[58.80952380952381, 62.095238095238095], [59.61904761904762, 61.19047619047619], [60.42857142857143, 60.285714285714285], [61.23809523809524, 59.38095238095238], [62.04761904761905, 58.476190476190474], [62.857142857142854, 57.57142857142857], [63.666666666666664, 56.666666666666664], [64.47619047619048, 55.76190476190476], [65.28571428571429, 54.857142857142854], [66.0952380952381, 53.95238095238095], [66.9047619047619, 53.04761904761905], [67.71428571428571, 52.142857142857146], [68.52380952380952, 51.23809523809524], [69.33333333333333, 50.333333333333336], [70.14285714285714, 49.42857142857143], [70.95238095238095, 48.523809523809526], [71.76190476190476, 47.61904761904762], [72.57142857142857, 46.714285714285715], [73.38095238095238, 45.80952380952381], [74.19047619047619, 44.904761904761905]]\n",
            "[[74, 42], [56, 32], [56, 33], [56, 34], [55, 35], [55, 36], [54, 37], [54, 39], [53, 40], [53, 41], [53, 43], [53, 44], [53, 46], [54, 49], [54, 50], [55, 53], [55, 54], [57, 58], [57, 59], [58, 62]]\n",
            "[[77, 48], [78, 50], [79, 53], [79, 55], [79, 56], [79, 58], [80, 60], [80, 62], [80, 64], [80, 65], [80, 67], [80, 69], [79, 69], [77, 69], [76, 70], [74, 70], [73, 70], [72, 71], [70, 71], [68, 71]]\n"
          ],
          "name": "stdout"
        },
        {
          "output_type": "display_data",
          "data": {
            "image/png": "[encoded data removed]",
            "text/plain": [
              "<PIL.Image.Image image mode=RGB size=112x112 at 0x7F17E7FD7390>"
            ]
          },
          "metadata": {
            "tags": []
          }
        },
        {
          "output_type": "stream",
          "text": [
            "[[58, 64], [58, 65], [58, 66], [58, 67], [58, 68], [58, 69], [59, 70], [59, 71], [60, 71], [61, 71], [62, 71], [63, 71], [64, 71], [65, 71], [66, 71], [67, 71], [68, 71], [69, 71], [70, 71], [71, 71], [72, 71], [73, 70], [74, 70], [75, 70], [76, 70], [77, 69], [78, 69], [79, 69], [80, 69], [80, 68], [80, 67], [80, 66], [80, 65], [80, 64], [80, 63], [80, 62], [80, 61], [80, 60], [80, 59], [79, 58], [79, 57], [79, 56], [79, 55], [79, 54], [79, 53], [79, 52], [78, 51], [78, 50], [77, 49], [77, 48], [77, 47], [76, 46], [76, 45], [75, 44]]\n",
            "[[75, 43], [74, 42], [74, 41], [73, 40], [73, 39], [72, 38], [72, 37], [71, 36], [70, 35], [69, 34], [68, 33], [67, 32], [66, 31], [65, 30], [64, 29], [63, 29], [62, 29], [61, 29], [60, 29], [59, 29], [58, 29], [57, 29], [57, 30], [57, 31], [56, 32], [56, 33], [56, 34], [55, 35], [55, 36], [54, 37], [54, 38], [54, 39], [53, 40], [53, 41], [53, 42], [53, 43], [53, 44], [53, 45], [53, 46], [53, 47], [54, 48], [54, 49], [54, 50], [54, 51], [55, 52], [55, 53], [55, 54], [56, 55], [56, 56], [57, 57], [57, 58], [57, 59], [57, 60], [58, 61], [58, 62], [58, 63]]\n",
            "[[58.80952380952381, 63.0001], [59.61904761904762, 62.0001], [60.42857142857143, 61.0001], [61.23809523809524, 60.0001], [62.04761904761905, 59.0001], [62.857142857142854, 58.0001], [63.666666666666664, 57.0001], [64.47619047619048, 56.0001], [65.28571428571429, 55.0001], [66.0952380952381, 54.0001], [66.9047619047619, 53.0001], [67.71428571428571, 52.0001], [68.52380952380952, 51.0001], [69.33333333333333, 50.0001], [70.14285714285714, 49.0001], [70.95238095238095, 48.0001], [71.76190476190476, 47.0001], [72.57142857142857, 46.0001], [73.38095238095238, 45.0001], [74.19047619047619, 44.0001]]\n",
            "[[57, 31], [56, 32], [56, 33], [55, 35], [55, 36], [54, 37], [54, 38], [53, 40], [53, 41], [53, 42], [53, 44], [53, 46], [53, 47], [54, 50], [54, 51], [55, 54], [56, 56], [57, 59], [57, 60], [58, 63]]\n",
            "[[76, 46], [77, 48], [78, 51], [79, 53], [79, 55], [79, 57], [79, 58], [80, 61], [80, 62], [80, 64], [80, 66], [80, 67], [80, 69], [78, 69], [76, 70], [75, 70], [73, 70], [72, 71], [70, 71], [68, 71]]\n"
          ],
          "name": "stdout"
        },
        {
          "output_type": "display_data",
          "data": {
            "image/png": "[encoded data removed]",
            "text/plain": [
              "<PIL.Image.Image image mode=RGB size=112x112 at 0x7F17E7FD7390>"
            ]
          },
          "metadata": {
            "tags": []
          }
        },
        {
          "output_type": "stream",
          "text": [
            "[[58, 65], [58, 66], [58, 67], [58, 68], [58, 69], [59, 70], [59, 71], [60, 71], [61, 71], [62, 71], [63, 71], [64, 71], [65, 71], [66, 71], [67, 71], [68, 71], [69, 71], [70, 71], [71, 71], [72, 71], [73, 70], [74, 70], [75, 70], [76, 70], [77, 69], [78, 69], [79, 69], [80, 69], [80, 68], [80, 67], [80, 66], [80, 65], [80, 64], [80, 63], [80, 62], [80, 61], [80, 60], [80, 59], [79, 58], [79, 57], [79, 56], [79, 55], [79, 54], [79, 53], [79, 52], [78, 51], [78, 50], [77, 49], [77, 48], [77, 47], [76, 46], [76, 45], [75, 44], [75, 43]]\n",
            "[[74, 42], [74, 41], [73, 40], [73, 39], [72, 38], [72, 37], [71, 36], [70, 35], [69, 34], [68, 33], [67, 32], [66, 31], [65, 30], [64, 29], [63, 29], [62, 29], [61, 29], [60, 29], [59, 29], [58, 29], [57, 29], [57, 30], [57, 31], [56, 32], [56, 33], [56, 34], [55, 35], [55, 36], [54, 37], [54, 38], [54, 39], [53, 40], [53, 41], [53, 42], [53, 43], [53, 44], [53, 45], [53, 46], [53, 47], [54, 48], [54, 49], [54, 50], [54, 51], [55, 52], [55, 53], [55, 54], [56, 55], [56, 56], [57, 57], [57, 58], [57, 59], [57, 60], [58, 61], [58, 62], [58, 63], [58, 64]]\n",
            "[[58.76190476190476, 63.904761904761905], [59.523809523809526, 62.80952380952381], [60.285714285714285, 61.714285714285715], [61.04761904761905, 60.61904761904762], [61.80952380952381, 59.523809523809526], [62.57142857142857, 58.42857142857143], [63.333333333333336, 57.333333333333336], [64.0952380952381, 56.23809523809524], [64.85714285714286, 55.142857142857146], [65.61904761904762, 54.04761904761905], [66.38095238095238, 52.95238095238095], [67.14285714285714, 51.857142857142854], [67.9047619047619, 50.76190476190476], [68.66666666666667, 49.666666666666664], [69.42857142857143, 48.57142857142857], [70.19047619047619, 47.476190476190474], [70.95238095238095, 46.38095238095238], [71.71428571428571, 45.285714285714285], [72.47619047619048, 44.19047619047619], [73.23809523809524, 43.095238095238095]]\n",
            "[[56, 32], [56, 33], [55, 35], [55, 36], [54, 37], [54, 38], [53, 40], [53, 41], [53, 43], [53, 44], [53, 46], [53, 47], [54, 50], [54, 51], [55, 54], [56, 56], [57, 58], [57, 60], [58, 62], [58, 64]]\n",
            "[[76, 46], [77, 48], [77, 49], [79, 52], [79, 54], [79, 56], [79, 57], [80, 60], [80, 61], [80, 63], [80, 65], [80, 66], [80, 68], [80, 69], [77, 69], [76, 70], [74, 70], [72, 71], [71, 71], [68, 71]]\n"
          ],
          "name": "stdout"
        },
        {
          "output_type": "display_data",
          "data": {
            "image/png": "[encoded data removed]",
            "text/plain": [
              "<PIL.Image.Image image mode=RGB size=112x112 at 0x7F17E7FD7390>"
            ]
          },
          "metadata": {
            "tags": []
          }
        },
        {
          "output_type": "stream",
          "text": [
            "[[58, 66], [58, 67], [58, 68], [58, 69], [59, 70], [59, 71], [60, 71], [61, 71], [62, 71], [63, 71], [64, 71], [65, 71], [66, 71], [67, 71], [68, 71], [69, 71], [70, 71], [71, 71], [72, 71], [73, 70], [74, 70], [75, 70], [76, 70], [77, 69], [78, 69], [79, 69], [80, 69], [80, 68], [80, 67], [80, 66], [80, 65], [80, 64], [80, 63], [80, 62], [80, 61], [80, 60], [80, 59], [79, 58], [79, 57], [79, 56], [79, 55], [79, 54], [79, 53], [79, 52], [78, 51], [78, 50], [77, 49], [77, 48], [77, 47], [76, 46], [76, 45], [75, 44], [75, 43], [74, 42]]\n",
            "[[74, 41], [73, 40], [73, 39], [72, 38], [72, 37], [71, 36], [70, 35], [69, 34], [68, 33], [67, 32], [66, 31], [65, 30], [64, 29], [63, 29], [62, 29], [61, 29], [60, 29], [59, 29], [58, 29], [57, 29], [57, 30], [57, 31], [56, 32], [56, 33], [56, 34], [55, 35], [55, 36], [54, 37], [54, 38], [54, 39], [53, 40], [53, 41], [53, 42], [53, 43], [53, 44], [53, 45], [53, 46], [53, 47], [54, 48], [54, 49], [54, 50], [54, 51], [55, 52], [55, 53], [55, 54], [56, 55], [56, 56], [57, 57], [57, 58], [57, 59], [57, 60], [58, 61], [58, 62], [58, 63], [58, 64], [58, 65]]\n",
            "[[58.76190476190476, 64.80952380952381], [59.523809523809526, 63.61904761904762], [60.285714285714285, 62.42857142857143], [61.04761904761905, 61.23809523809524], [61.80952380952381, 60.04761904761905], [62.57142857142857, 58.857142857142854], [63.333333333333336, 57.666666666666664], [64.0952380952381, 56.476190476190474], [64.85714285714286, 55.285714285714285], [65.61904761904762, 54.095238095238095], [66.38095238095238, 52.904761904761905], [67.14285714285714, 51.714285714285715], [67.9047619047619, 50.523809523809526], [68.66666666666667, 49.333333333333336], [69.42857142857143, 48.142857142857146], [70.19047619047619, 46.95238095238095], [70.95238095238095, 45.76190476190476], [71.71428571428571, 44.57142857142857], [72.47619047619048, 43.38095238095238], [73.23809523809524, 42.19047619047619]]\n",
            "[[56, 32], [56, 33], [55, 35], [55, 36], [54, 37], [54, 39], [53, 40], [53, 41], [53, 43], [53, 45], [53, 47], [54, 49], [54, 51], [55, 53], [56, 55], [57, 57], [57, 59], [58, 61], [58, 63], [58, 65]]\n",
            "[[75, 44], [76, 46], [77, 48], [78, 51], [79, 53], [79, 55], [79, 56], [79, 58], [80, 60], [80, 62], [80, 64], [80, 65], [80, 67], [80, 69], [78, 69], [76, 70], [74, 70], [72, 71], [71, 71], [68, 71]]\n"
          ],
          "name": "stdout"
        },
        {
          "output_type": "display_data",
          "data": {
            "image/png": "[encoded data removed]",
            "text/plain": [
              "<PIL.Image.Image image mode=RGB size=112x112 at 0x7F17E7FD7390>"
            ]
          },
          "metadata": {
            "tags": []
          }
        },
        {
          "output_type": "stream",
          "text": [
            "[[58, 67], [58, 68], [58, 69], [59, 70], [59, 71], [60, 71], [61, 71], [62, 71], [63, 71], [64, 71], [65, 71], [66, 71], [67, 71], [68, 71], [69, 71], [70, 71], [71, 71], [72, 71], [73, 70], [74, 70], [75, 70], [76, 70], [77, 69], [78, 69], [79, 69], [80, 69], [80, 68], [80, 67], [80, 66], [80, 65], [80, 64], [80, 63], [80, 62], [80, 61], [80, 60], [80, 59], [79, 58], [79, 57], [79, 56], [79, 55], [79, 54], [79, 53], [79, 52], [78, 51], [78, 50], [77, 49], [77, 48], [77, 47], [76, 46], [76, 45], [75, 44], [75, 43], [74, 42], [74, 41]]\n",
            "[[73, 40], [73, 39], [72, 38], [72, 37], [71, 36], [70, 35], [69, 34], [68, 33], [67, 32], [66, 31], [65, 30], [64, 29], [63, 29], [62, 29], [61, 29], [60, 29], [59, 29], [58, 29], [57, 29], [57, 30], [57, 31], [56, 32], [56, 33], [56, 34], [55, 35], [55, 36], [54, 37], [54, 38], [54, 39], [53, 40], [53, 41], [53, 42], [53, 43], [53, 44], [53, 45], [53, 46], [53, 47], [54, 48], [54, 49], [54, 50], [54, 51], [55, 52], [55, 53], [55, 54], [56, 55], [56, 56], [57, 57], [57, 58], [57, 59], [57, 60], [58, 61], [58, 62], [58, 63], [58, 64], [58, 65], [58, 66]]\n",
            "[[58.714285714285715, 65.71428571428571], [59.42857142857143, 64.42857142857143], [60.142857142857146, 63.142857142857146], [60.857142857142854, 61.857142857142854], [61.57142857142857, 60.57142857142857], [62.285714285714285, 59.285714285714285], [63.0001, 58.0001], [63.714285714285715, 56.714285714285715], [64.42857142857143, 55.42857142857143], [65.14285714285714, 54.142857142857146], [65.85714285714286, 52.857142857142854], [66.57142857142857, 51.57142857142857], [67.28571428571429, 50.285714285714285], [68.0001, 49.0001], [68.71428571428571, 47.714285714285715], [69.42857142857143, 46.42857142857143], [70.14285714285714, 45.142857142857146], [70.85714285714286, 43.857142857142854], [71.57142857142857, 42.57142857142857], [72.28571428571429, 41.285714285714285]]\n",
            "[[56, 33], [56, 34], [55, 36], [54, 37], [54, 38], [53, 40], [53, 41], [53, 43], [53, 45], [53, 46], [54, 48], [54, 50], [55, 52], [55, 54], [56, 56], [57, 59], [57, 60], [58, 62], [58, 64], [58, 66]]\n",
            "[[75, 43], [76, 46], [77, 48], [77, 49], [79, 52], [79, 54], [79, 56], [79, 57], [80, 60], [80, 61], [80, 63], [80, 65], [80, 66], [80, 68], [79, 69], [76, 70], [75, 70], [72, 71], [71, 71], [68, 71]]\n"
          ],
          "name": "stdout"
        },
        {
          "output_type": "display_data",
          "data": {
            "image/png": "[encoded data removed]",
            "text/plain": [
              "<PIL.Image.Image image mode=RGB size=112x112 at 0x7F17E7FD7390>"
            ]
          },
          "metadata": {
            "tags": []
          }
        },
        {
          "output_type": "stream",
          "text": [
            "[[58, 68], [58, 69], [59, 70], [59, 71], [60, 71], [61, 71], [62, 71], [63, 71], [64, 71], [65, 71], [66, 71], [67, 71], [68, 71], [69, 71], [70, 71], [71, 71], [72, 71], [73, 70], [74, 70], [75, 70], [76, 70], [77, 69], [78, 69], [79, 69], [80, 69], [80, 68], [80, 67], [80, 66], [80, 65], [80, 64], [80, 63], [80, 62], [80, 61], [80, 60], [80, 59], [79, 58], [79, 57], [79, 56], [79, 55], [79, 54], [79, 53], [79, 52], [78, 51], [78, 50], [77, 49], [77, 48], [77, 47], [76, 46], [76, 45], [75, 44], [75, 43], [74, 42], [74, 41], [73, 40]]\n",
            "[[73, 39], [72, 38], [72, 37], [71, 36], [70, 35], [69, 34], [68, 33], [67, 32], [66, 31], [65, 30], [64, 29], [63, 29], [62, 29], [61, 29], [60, 29], [59, 29], [58, 29], [57, 29], [57, 30], [57, 31], [56, 32], [56, 33], [56, 34], [55, 35], [55, 36], [54, 37], [54, 38], [54, 39], [53, 40], [53, 41], [53, 42], [53, 43], [53, 44], [53, 45], [53, 46], [53, 47], [54, 48], [54, 49], [54, 50], [54, 51], [55, 52], [55, 53], [55, 54], [56, 55], [56, 56], [57, 57], [57, 58], [57, 59], [57, 60], [58, 61], [58, 62], [58, 63], [58, 64], [58, 65], [58, 66], [58, 67]]\n",
            "[[58.714285714285715, 66.61904761904762], [59.42857142857143, 65.23809523809524], [60.142857142857146, 63.857142857142854], [60.857142857142854, 62.476190476190474], [61.57142857142857, 61.095238095238095], [62.285714285714285, 59.714285714285715], [63.0001, 58.333333333333336], [63.714285714285715, 56.95238095238095], [64.42857142857143, 55.57142857142857], [65.14285714285714, 54.19047619047619], [65.85714285714286, 52.80952380952381], [66.57142857142857, 51.42857142857143], [67.28571428571429, 50.04761904761905], [68.0001, 48.666666666666664], [68.71428571428571, 47.285714285714285], [69.42857142857143, 45.904761904761905], [70.14285714285714, 44.523809523809526], [70.85714285714286, 43.142857142857146], [71.57142857142857, 41.76190476190476], [72.28571428571429, 40.38095238095238]]\n",
            "[[56, 32], [56, 34], [55, 35], [54, 37], [54, 38], [53, 40], [53, 41], [53, 43], [53, 45], [53, 47], [54, 49], [54, 51], [55, 53], [56, 55], [57, 57], [57, 59], [58, 61], [58, 63], [58, 65], [58, 67]]\n",
            "[[74, 42], [75, 44], [76, 46], [77, 49], [78, 51], [79, 53], [79, 55], [79, 57], [79, 58], [80, 61], [80, 62], [80, 64], [80, 66], [80, 68], [80, 69], [76, 70], [75, 70], [72, 71], [70, 71], [67, 71]]\n"
          ],
          "name": "stdout"
        },
        {
          "output_type": "display_data",
          "data": {
            "image/png": "[encoded data removed]",
            "text/plain": [
              "<PIL.Image.Image image mode=RGB size=112x112 at 0x7F17E7FD7390>"
            ]
          },
          "metadata": {
            "tags": []
          }
        },
        {
          "output_type": "stream",
          "text": [
            "[[58, 69], [59, 70], [59, 71], [60, 71], [61, 71], [62, 71], [63, 71], [64, 71], [65, 71], [66, 71], [67, 71], [68, 71], [69, 71], [70, 71], [71, 71], [72, 71], [73, 70], [74, 70], [75, 70], [76, 70], [77, 69], [78, 69], [79, 69], [80, 69], [80, 68], [80, 67], [80, 66], [80, 65], [80, 64], [80, 63], [80, 62], [80, 61], [80, 60], [80, 59], [79, 58], [79, 57], [79, 56], [79, 55], [79, 54], [79, 53], [79, 52], [78, 51], [78, 50], [77, 49], [77, 48], [77, 47], [76, 46], [76, 45], [75, 44], [75, 43], [74, 42], [74, 41], [73, 40], [73, 39]]\n",
            "[[72, 38], [72, 37], [71, 36], [70, 35], [69, 34], [68, 33], [67, 32], [66, 31], [65, 30], [64, 29], [63, 29], [62, 29], [61, 29], [60, 29], [59, 29], [58, 29], [57, 29], [57, 30], [57, 31], [56, 32], [56, 33], [56, 34], [55, 35], [55, 36], [54, 37], [54, 38], [54, 39], [53, 40], [53, 41], [53, 42], [53, 43], [53, 44], [53, 45], [53, 46], [53, 47], [54, 48], [54, 49], [54, 50], [54, 51], [55, 52], [55, 53], [55, 54], [56, 55], [56, 56], [57, 57], [57, 58], [57, 59], [57, 60], [58, 61], [58, 62], [58, 63], [58, 64], [58, 65], [58, 66], [58, 67], [58, 68]]\n",
            "[[58.666666666666664, 67.52380952380952], [59.333333333333336, 66.04761904761905], [60.0001, 64.57142857142857], [60.666666666666664, 63.095238095238095], [61.333333333333336, 61.61904761904762], [62.0001, 60.142857142857146], [62.666666666666664, 58.666666666666664], [63.333333333333336, 57.19047619047619], [64.0001, 55.714285714285715], [64.66666666666667, 54.23809523809524], [65.33333333333333, 52.76190476190476], [66.0001, 51.285714285714285], [66.66666666666667, 49.80952380952381], [67.33333333333333, 48.333333333333336], [68.0001, 46.857142857142854], [68.66666666666667, 45.38095238095238], [69.33333333333333, 43.904761904761905], [70.0001, 42.42857142857143], [70.66666666666667, 40.95238095238095], [71.33333333333333, 39.476190476190474]]\n",
            "[[71, 36], [55, 35], [55, 36], [54, 37], [54, 39], [53, 41], [53, 42], [53, 44], [53, 46], [54, 48], [54, 50], [55, 52], [55, 54], [56, 56], [57, 58], [57, 60], [58, 62], [58, 64], [58, 66], [58, 68]]\n",
            "[[74, 41], [75, 43], [76, 46], [77, 48], [78, 50], [79, 52], [79, 54], [79, 56], [79, 58], [80, 60], [80, 62], [80, 63], [80, 65], [80, 67], [80, 69], [77, 69], [75, 70], [72, 71], [70, 71], [66, 71]]\n"
          ],
          "name": "stdout"
        },
        {
          "output_type": "display_data",
          "data": {
            "image/png": "[encoded data removed]",
            "text/plain": [
              "<PIL.Image.Image image mode=RGB size=112x112 at 0x7F17E7FD7390>"
            ]
          },
          "metadata": {
            "tags": []
          }
        },
        {
          "output_type": "stream",
          "text": [
            "[[59, 70], [59, 71], [60, 71], [61, 71], [62, 71], [63, 71], [64, 71], [65, 71], [66, 71], [67, 71], [68, 71], [69, 71], [70, 71], [71, 71], [72, 71], [73, 70], [74, 70], [75, 70], [76, 70], [77, 69], [78, 69], [79, 69], [80, 69], [80, 68], [80, 67], [80, 66], [80, 65], [80, 64], [80, 63], [80, 62], [80, 61], [80, 60], [80, 59], [79, 58], [79, 57], [79, 56], [79, 55], [79, 54], [79, 53], [79, 52], [78, 51], [78, 50], [77, 49], [77, 48], [77, 47], [76, 46], [76, 45], [75, 44], [75, 43], [74, 42], [74, 41], [73, 40], [73, 39], [72, 38]]\n",
            "[[72, 37], [71, 36], [70, 35], [69, 34], [68, 33], [67, 32], [66, 31], [65, 30], [64, 29], [63, 29], [62, 29], [61, 29], [60, 29], [59, 29], [58, 29], [57, 29], [57, 30], [57, 31], [56, 32], [56, 33], [56, 34], [55, 35], [55, 36], [54, 37], [54, 38], [54, 39], [53, 40], [53, 41], [53, 42], [53, 43], [53, 44], [53, 45], [53, 46], [53, 47], [54, 48], [54, 49], [54, 50], [54, 51], [55, 52], [55, 53], [55, 54], [56, 55], [56, 56], [57, 57], [57, 58], [57, 59], [57, 60], [58, 61], [58, 62], [58, 63], [58, 64], [58, 65], [58, 66], [58, 67], [58, 68], [58, 69]]\n",
            "[[59.61904761904762, 68.42857142857143], [60.23809523809524, 66.85714285714286], [60.857142857142854, 65.28571428571429], [61.476190476190474, 63.714285714285715], [62.095238095238095, 62.142857142857146], [62.714285714285715, 60.57142857142857], [63.333333333333336, 59.0001], [63.95238095238095, 57.42857142857143], [64.57142857142857, 55.857142857142854], [65.19047619047619, 54.285714285714285], [65.80952380952381, 52.714285714285715], [66.42857142857143, 51.142857142857146], [67.04761904761905, 49.57142857142857], [67.66666666666667, 48.0001], [68.28571428571429, 46.42857142857143], [68.9047619047619, 44.857142857142854], [69.52380952380952, 43.285714285714285], [70.14285714285714, 41.714285714285715], [70.76190476190476, 40.142857142857146], [71.38095238095238, 38.57142857142857]]\n",
            "[[71, 36], [70, 35], [55, 36], [54, 38], [54, 39], [53, 41], [53, 43], [53, 45], [53, 46], [54, 49], [54, 50], [55, 53], [55, 54], [57, 57], [57, 59], [58, 61], [58, 63], [58, 65], [58, 66], [58, 68]]\n",
            "[[73, 40], [74, 42], [75, 44], [76, 46], [77, 49], [78, 51], [79, 53], [79, 55], [79, 57], [79, 58], [80, 61], [80, 62], [80, 64], [80, 66], [80, 68], [79, 69], [76, 70], [72, 71], [70, 71], [66, 71]]\n"
          ],
          "name": "stdout"
        },
        {
          "output_type": "display_data",
          "data": {
            "image/png": "[encoded data removed]",
            "text/plain": [
              "<PIL.Image.Image image mode=RGB size=112x112 at 0x7F17E7FD7390>"
            ]
          },
          "metadata": {
            "tags": []
          }
        },
        {
          "output_type": "stream",
          "text": [
            "[[59, 71], [60, 71], [61, 71], [62, 71], [63, 71], [64, 71], [65, 71], [66, 71], [67, 71], [68, 71], [69, 71], [70, 71], [71, 71], [72, 71], [73, 70], [74, 70], [75, 70], [76, 70], [77, 69], [78, 69], [79, 69], [80, 69], [80, 68], [80, 67], [80, 66], [80, 65], [80, 64], [80, 63], [80, 62], [80, 61], [80, 60], [80, 59], [79, 58], [79, 57], [79, 56], [79, 55], [79, 54], [79, 53], [79, 52], [78, 51], [78, 50], [77, 49], [77, 48], [77, 47], [76, 46], [76, 45], [75, 44], [75, 43], [74, 42], [74, 41], [73, 40], [73, 39], [72, 38], [72, 37]]\n",
            "[[71, 36], [70, 35], [69, 34], [68, 33], [67, 32], [66, 31], [65, 30], [64, 29], [63, 29], [62, 29], [61, 29], [60, 29], [59, 29], [58, 29], [57, 29], [57, 30], [57, 31], [56, 32], [56, 33], [56, 34], [55, 35], [55, 36], [54, 37], [54, 38], [54, 39], [53, 40], [53, 41], [53, 42], [53, 43], [53, 44], [53, 45], [53, 46], [53, 47], [54, 48], [54, 49], [54, 50], [54, 51], [55, 52], [55, 53], [55, 54], [56, 55], [56, 56], [57, 57], [57, 58], [57, 59], [57, 60], [58, 61], [58, 62], [58, 63], [58, 64], [58, 65], [58, 66], [58, 67], [58, 68], [58, 69], [59, 70]]\n",
            "[[59.57142857142857, 69.33333333333333], [60.142857142857146, 67.66666666666667], [60.714285714285715, 66.0001], [61.285714285714285, 64.33333333333333], [61.857142857142854, 62.666666666666664], [62.42857142857143, 61.0001], [63.0001, 59.333333333333336], [63.57142857142857, 57.666666666666664], [64.14285714285714, 56.0001], [64.71428571428571, 54.333333333333336], [65.28571428571429, 52.666666666666664], [65.85714285714286, 51.0001], [66.42857142857143, 49.333333333333336], [67.0001, 47.666666666666664], [67.57142857142857, 46.0001], [68.14285714285714, 44.333333333333336], [68.71428571428571, 42.666666666666664], [69.28571428571429, 41.0001], [69.85714285714286, 39.333333333333336], [70.42857142857143, 37.666666666666664]]\n",
            "[[69, 34], [55, 35], [54, 37], [54, 38], [53, 40], [53, 42], [53, 43], [53, 45], [53, 47], [54, 49], [54, 51], [55, 53], [56, 56], [57, 58], [57, 60], [58, 62], [58, 64], [58, 66], [58, 67], [58, 69]]\n",
            "[[73, 39], [74, 41], [75, 43], [76, 46], [77, 48], [78, 50], [79, 52], [79, 54], [79, 56], [79, 58], [80, 60], [80, 62], [80, 64], [80, 66], [80, 68], [80, 69], [76, 70], [72, 71], [69, 71], [64, 71]]\n"
          ],
          "name": "stdout"
        },
        {
          "output_type": "display_data",
          "data": {
            "image/png": "[encoded data removed]",
            "text/plain": [
              "<PIL.Image.Image image mode=RGB size=112x112 at 0x7F17E7FD7390>"
            ]
          },
          "metadata": {
            "tags": []
          }
        },
        {
          "output_type": "stream",
          "text": [
            "[[60, 71], [61, 71], [62, 71], [63, 71], [64, 71], [65, 71], [66, 71], [67, 71], [68, 71], [69, 71], [70, 71], [71, 71], [72, 71], [73, 70], [74, 70], [75, 70], [76, 70], [77, 69], [78, 69], [79, 69], [80, 69], [80, 68], [80, 67], [80, 66], [80, 65], [80, 64], [80, 63], [80, 62], [80, 61], [80, 60], [80, 59], [79, 58], [79, 57], [79, 56], [79, 55], [79, 54], [79, 53], [79, 52], [78, 51], [78, 50], [77, 49], [77, 48], [77, 47], [76, 46], [76, 45], [75, 44], [75, 43], [74, 42], [74, 41], [73, 40], [73, 39], [72, 38], [72, 37], [71, 36]]\n",
            "[[70, 35], [69, 34], [68, 33], [67, 32], [66, 31], [65, 30], [64, 29], [63, 29], [62, 29], [61, 29], [60, 29], [59, 29], [58, 29], [57, 29], [57, 30], [57, 31], [56, 32], [56, 33], [56, 34], [55, 35], [55, 36], [54, 37], [54, 38], [54, 39], [53, 40], [53, 41], [53, 42], [53, 43], [53, 44], [53, 45], [53, 46], [53, 47], [54, 48], [54, 49], [54, 50], [54, 51], [55, 52], [55, 53], [55, 54], [56, 55], [56, 56], [57, 57], [57, 58], [57, 59], [57, 60], [58, 61], [58, 62], [58, 63], [58, 64], [58, 65], [58, 66], [58, 67], [58, 68], [58, 69], [59, 70], [59, 71]]\n",
            "[[60.476190476190474, 69.28571428571429], [60.95238095238095, 67.57142857142857], [61.42857142857143, 65.85714285714286], [61.904761904761905, 64.14285714285714], [62.38095238095238, 62.42857142857143], [62.857142857142854, 60.714285714285715], [63.333333333333336, 59.0001], [63.80952380952381, 57.285714285714285], [64.28571428571429, 55.57142857142857], [64.76190476190476, 53.857142857142854], [65.23809523809524, 52.142857142857146], [65.71428571428571, 50.42857142857143], [66.19047619047619, 48.714285714285715], [66.66666666666667, 47.0001], [67.14285714285714, 45.285714285714285], [67.61904761904762, 43.57142857142857], [68.0952380952381, 41.857142857142854], [68.57142857142857, 40.142857142857146], [69.04761904761905, 38.42857142857143], [69.52380952380952, 36.714285714285715]]\n",
            "[[69, 34], [55, 35], [54, 37], [54, 38], [53, 40], [53, 42], [53, 44], [53, 46], [53, 47], [54, 50], [54, 51], [55, 53], [56, 56], [57, 58], [57, 60], [58, 62], [58, 64], [58, 65], [58, 67], [58, 69]]\n",
            "[[72, 38], [73, 40], [74, 42], [75, 44], [76, 46], [77, 49], [78, 51], [79, 53], [79, 55], [79, 56], [79, 58], [80, 60], [80, 62], [80, 64], [80, 66], [80, 68], [79, 69], [76, 70], [72, 71], [66, 71]]\n"
          ],
          "name": "stdout"
        },
        {
          "output_type": "display_data",
          "data": {
            "image/png": "[encoded data removed]",
            "text/plain": [
              "<PIL.Image.Image image mode=RGB size=112x112 at 0x7F17E7FD7390>"
            ]
          },
          "metadata": {
            "tags": []
          }
        },
        {
          "output_type": "stream",
          "text": [
            "[[61, 71], [62, 71], [63, 71], [64, 71], [65, 71], [66, 71], [67, 71], [68, 71], [69, 71], [70, 71], [71, 71], [72, 71], [73, 70], [74, 70], [75, 70], [76, 70], [77, 69], [78, 69], [79, 69], [80, 69], [80, 68], [80, 67], [80, 66], [80, 65], [80, 64], [80, 63], [80, 62], [80, 61], [80, 60], [80, 59], [79, 58], [79, 57], [79, 56], [79, 55], [79, 54], [79, 53], [79, 52], [78, 51], [78, 50], [77, 49], [77, 48], [77, 47], [76, 46], [76, 45], [75, 44], [75, 43], [74, 42], [74, 41], [73, 40], [73, 39], [72, 38], [72, 37], [71, 36], [70, 35]]\n",
            "[[69, 34], [68, 33], [67, 32], [66, 31], [65, 30], [64, 29], [63, 29], [62, 29], [61, 29], [60, 29], [59, 29], [58, 29], [57, 29], [57, 30], [57, 31], [56, 32], [56, 33], [56, 34], [55, 35], [55, 36], [54, 37], [54, 38], [54, 39], [53, 40], [53, 41], [53, 42], [53, 43], [53, 44], [53, 45], [53, 46], [53, 47], [54, 48], [54, 49], [54, 50], [54, 51], [55, 52], [55, 53], [55, 54], [56, 55], [56, 56], [57, 57], [57, 58], [57, 59], [57, 60], [58, 61], [58, 62], [58, 63], [58, 64], [58, 65], [58, 66], [58, 67], [58, 68], [58, 69], [59, 70], [59, 71], [60, 71]]\n",
            "[[61.38095238095238, 69.23809523809524], [61.76190476190476, 67.47619047619048], [62.142857142857146, 65.71428571428571], [62.523809523809526, 63.95238095238095], [62.904761904761905, 62.19047619047619], [63.285714285714285, 60.42857142857143], [63.666666666666664, 58.666666666666664], [64.04761904761905, 56.904761904761905], [64.42857142857143, 55.142857142857146], [64.80952380952381, 53.38095238095238], [65.19047619047619, 51.61904761904762], [65.57142857142857, 49.857142857142854], [65.95238095238095, 48.095238095238095], [66.33333333333333, 46.333333333333336], [66.71428571428571, 44.57142857142857], [67.0952380952381, 42.80952380952381], [67.47619047619048, 41.04761904761905], [67.85714285714286, 39.285714285714285], [68.23809523809524, 37.523809523809526], [68.61904761904762, 35.76190476190476]]\n",
            "[[68, 33], [67, 32], [66, 31], [54, 39], [53, 40], [53, 42], [53, 44], [53, 46], [54, 48], [54, 50], [55, 52], [55, 54], [56, 56], [57, 58], [57, 60], [58, 62], [58, 63], [58, 65], [58, 67], [58, 69]]\n",
            "[[72, 37], [73, 39], [74, 41], [75, 43], [76, 45], [77, 47], [77, 49], [78, 51], [79, 53], [79, 55], [79, 57], [80, 59], [80, 61], [80, 63], [80, 65], [80, 66], [80, 68], [77, 69], [73, 70], [69, 71]]\n"
          ],
          "name": "stdout"
        },
        {
          "output_type": "display_data",
          "data": {
            "image/png": "[encoded data removed]",
            "text/plain": [
              "<PIL.Image.Image image mode=RGB size=112x112 at 0x7F17E7FD73C8>"
            ]
          },
          "metadata": {
            "tags": []
          }
        },
        {
          "output_type": "stream",
          "text": [
            "[[62, 71], [63, 71], [64, 71], [65, 71], [66, 71], [67, 71], [68, 71], [69, 71], [70, 71], [71, 71], [72, 71], [73, 70], [74, 70], [75, 70], [76, 70], [77, 69], [78, 69], [79, 69], [80, 69], [80, 68], [80, 67], [80, 66], [80, 65], [80, 64], [80, 63], [80, 62], [80, 61], [80, 60], [80, 59], [79, 58], [79, 57], [79, 56], [79, 55], [79, 54], [79, 53], [79, 52], [78, 51], [78, 50], [77, 49], [77, 48], [77, 47], [76, 46], [76, 45], [75, 44], [75, 43], [74, 42], [74, 41], [73, 40], [73, 39], [72, 38], [72, 37], [71, 36], [70, 35], [69, 34]]\n",
            "[[68, 33], [67, 32], [66, 31], [65, 30], [64, 29], [63, 29], [62, 29], [61, 29], [60, 29], [59, 29], [58, 29], [57, 29], [57, 30], [57, 31], [56, 32], [56, 33], [56, 34], [55, 35], [55, 36], [54, 37], [54, 38], [54, 39], [53, 40], [53, 41], [53, 42], [53, 43], [53, 44], [53, 45], [53, 46], [53, 47], [54, 48], [54, 49], [54, 50], [54, 51], [55, 52], [55, 53], [55, 54], [56, 55], [56, 56], [57, 57], [57, 58], [57, 59], [57, 60], [58, 61], [58, 62], [58, 63], [58, 64], [58, 65], [58, 66], [58, 67], [58, 68], [58, 69], [59, 70], [59, 71], [60, 71], [61, 71]]\n",
            "[[62.285714285714285, 69.19047619047619], [62.57142857142857, 67.38095238095238], [62.857142857142854, 65.57142857142857], [63.142857142857146, 63.76190476190476], [63.42857142857143, 61.95238095238095], [63.714285714285715, 60.142857142857146], [64.0001, 58.333333333333336], [64.28571428571429, 56.523809523809526], [64.57142857142857, 54.714285714285715], [64.85714285714286, 52.904761904761905], [65.14285714285714, 51.095238095238095], [65.42857142857143, 49.285714285714285], [65.71428571428571, 47.476190476190474], [66.0001, 45.666666666666664], [66.28571428571429, 43.857142857142854], [66.57142857142857, 42.04761904761905], [66.85714285714286, 40.23809523809524], [67.14285714285714, 38.42857142857143], [67.42857142857143, 36.61904761904762], [67.71428571428571, 34.80952380952381]]\n",
            "[[67, 32], [66, 31], [54, 37], [54, 39], [53, 40], [53, 42], [53, 44], [53, 46], [54, 48], [54, 50], [55, 52], [55, 54], [56, 56], [57, 58], [57, 60], [58, 62], [58, 63], [58, 65], [58, 67], [58, 69]]\n",
            "[[71, 36], [72, 38], [73, 40], [74, 42], [75, 44], [76, 46], [77, 48], [78, 50], [79, 52], [79, 54], [79, 56], [79, 57], [80, 60], [80, 61], [80, 63], [80, 65], [80, 67], [80, 69], [76, 70], [72, 71]]\n"
          ],
          "name": "stdout"
        },
        {
          "output_type": "display_data",
          "data": {
            "image/png": "[encoded data removed]",
            "text/plain": [
              "<PIL.Image.Image image mode=RGB size=112x112 at 0x7F17E7FD73C8>"
            ]
          },
          "metadata": {
            "tags": []
          }
        },
        {
          "output_type": "stream",
          "text": [
            "[[63, 71], [64, 71], [65, 71], [66, 71], [67, 71], [68, 71], [69, 71], [70, 71], [71, 71], [72, 71], [73, 70], [74, 70], [75, 70], [76, 70], [77, 69], [78, 69], [79, 69], [80, 69], [80, 68], [80, 67], [80, 66], [80, 65], [80, 64], [80, 63], [80, 62], [80, 61], [80, 60], [80, 59], [79, 58], [79, 57], [79, 56], [79, 55], [79, 54], [79, 53], [79, 52], [78, 51], [78, 50], [77, 49], [77, 48], [77, 47], [76, 46], [76, 45], [75, 44], [75, 43], [74, 42], [74, 41], [73, 40], [73, 39], [72, 38], [72, 37], [71, 36], [70, 35], [69, 34], [68, 33]]\n",
            "[[67, 32], [66, 31], [65, 30], [64, 29], [63, 29], [62, 29], [61, 29], [60, 29], [59, 29], [58, 29], [57, 29], [57, 30], [57, 31], [56, 32], [56, 33], [56, 34], [55, 35], [55, 36], [54, 37], [54, 38], [54, 39], [53, 40], [53, 41], [53, 42], [53, 43], [53, 44], [53, 45], [53, 46], [53, 47], [54, 48], [54, 49], [54, 50], [54, 51], [55, 52], [55, 53], [55, 54], [56, 55], [56, 56], [57, 57], [57, 58], [57, 59], [57, 60], [58, 61], [58, 62], [58, 63], [58, 64], [58, 65], [58, 66], [58, 67], [58, 68], [58, 69], [59, 70], [59, 71], [60, 71], [61, 71], [62, 71]]\n",
            "[[63.19047619047619, 69.14285714285714], [63.38095238095238, 67.28571428571429], [63.57142857142857, 65.42857142857143], [63.76190476190476, 63.57142857142857], [63.95238095238095, 61.714285714285715], [64.14285714285714, 59.857142857142854], [64.33333333333333, 58.0001], [64.52380952380952, 56.142857142857146], [64.71428571428571, 54.285714285714285], [64.9047619047619, 52.42857142857143], [65.0952380952381, 50.57142857142857], [65.28571428571429, 48.714285714285715], [65.47619047619048, 46.857142857142854], [65.66666666666667, 45.0001], [65.85714285714286, 43.142857142857146], [66.04761904761905, 41.285714285714285], [66.23809523809524, 39.42857142857143], [66.42857142857143, 37.57142857142857], [66.61904761904762, 35.714285714285715], [66.80952380952381, 33.857142857142854]]\n",
            "[[66, 31], [65, 30], [54, 37], [54, 39], [53, 40], [53, 42], [53, 44], [53, 46], [54, 48], [54, 50], [55, 52], [55, 54], [56, 56], [57, 58], [57, 60], [58, 62], [58, 63], [58, 65], [58, 67], [58, 69]]\n",
            "[[70, 35], [72, 37], [73, 39], [74, 41], [75, 43], [76, 45], [77, 47], [77, 49], [78, 51], [79, 52], [79, 54], [79, 56], [79, 58], [80, 60], [80, 62], [80, 64], [80, 66], [80, 68], [80, 69], [72, 71]]\n"
          ],
          "name": "stdout"
        },
        {
          "output_type": "display_data",
          "data": {
            "image/png": "[encoded data removed]",
            "text/plain": [
              "<PIL.Image.Image image mode=RGB size=112x112 at 0x7F17E7FD73C8>"
            ]
          },
          "metadata": {
            "tags": []
          }
        },
        {
          "output_type": "stream",
          "text": [
            "[[64, 71], [65, 71], [66, 71], [67, 71], [68, 71], [69, 71], [70, 71], [71, 71], [72, 71], [73, 70], [74, 70], [75, 70], [76, 70], [77, 69], [78, 69], [79, 69], [80, 69], [80, 68], [80, 67], [80, 66], [80, 65], [80, 64], [80, 63], [80, 62], [80, 61], [80, 60], [80, 59], [79, 58], [79, 57], [79, 56], [79, 55], [79, 54], [79, 53], [79, 52], [78, 51], [78, 50], [77, 49], [77, 48], [77, 47], [76, 46], [76, 45], [75, 44], [75, 43], [74, 42], [74, 41], [73, 40], [73, 39], [72, 38], [72, 37], [71, 36], [70, 35], [69, 34], [68, 33], [67, 32]]\n",
            "[[66, 31], [65, 30], [64, 29], [63, 29], [62, 29], [61, 29], [60, 29], [59, 29], [58, 29], [57, 29], [57, 30], [57, 31], [56, 32], [56, 33], [56, 34], [55, 35], [55, 36], [54, 37], [54, 38], [54, 39], [53, 40], [53, 41], [53, 42], [53, 43], [53, 44], [53, 45], [53, 46], [53, 47], [54, 48], [54, 49], [54, 50], [54, 51], [55, 52], [55, 53], [55, 54], [56, 55], [56, 56], [57, 57], [57, 58], [57, 59], [57, 60], [58, 61], [58, 62], [58, 63], [58, 64], [58, 65], [58, 66], [58, 67], [58, 68], [58, 69], [59, 70], [59, 71], [60, 71], [61, 71], [62, 71], [63, 71]]\n",
            "[[64.0952380952381, 69.0952380952381], [64.19047619047619, 67.19047619047619], [64.28571428571429, 65.28571428571429], [64.38095238095238, 63.38095238095238], [64.47619047619048, 61.476190476190474], [64.57142857142857, 59.57142857142857], [64.66666666666667, 57.666666666666664], [64.76190476190476, 55.76190476190476], [64.85714285714286, 53.857142857142854], [64.95238095238095, 51.95238095238095], [65.04761904761905, 50.04761904761905], [65.14285714285714, 48.142857142857146], [65.23809523809524, 46.23809523809524], [65.33333333333333, 44.333333333333336], [65.42857142857143, 42.42857142857143], [65.52380952380952, 40.523809523809526], [65.61904761904762, 38.61904761904762], [65.71428571428571, 36.714285714285715], [65.80952380952381, 34.80952380952381], [65.9047619047619, 32.904761904761905]]\n",
            "[[65, 30], [64, 29], [54, 37], [54, 39], [53, 40], [53, 42], [53, 44], [53, 46], [54, 48], [54, 50], [55, 52], [55, 54], [56, 56], [57, 58], [57, 60], [58, 62], [58, 64], [58, 65], [58, 67], [58, 69]]\n",
            "[[69, 34], [71, 36], [72, 38], [73, 39], [74, 41], [75, 43], [76, 45], [77, 47], [77, 49], [78, 51], [79, 53], [79, 55], [79, 57], [80, 59], [80, 61], [80, 63], [80, 65], [80, 67], [80, 68], [76, 70]]\n"
          ],
          "name": "stdout"
        },
        {
          "output_type": "display_data",
          "data": {
            "image/png": "[encoded data removed]",
            "text/plain": [
              "<PIL.Image.Image image mode=RGB size=112x112 at 0x7F17E7FD73C8>"
            ]
          },
          "metadata": {
            "tags": []
          }
        },
        {
          "output_type": "stream",
          "text": [
            "[[65, 71], [66, 71], [67, 71], [68, 71], [69, 71], [70, 71], [71, 71], [72, 71], [73, 70], [74, 70], [75, 70], [76, 70], [77, 69], [78, 69], [79, 69], [80, 69], [80, 68], [80, 67], [80, 66], [80, 65], [80, 64], [80, 63], [80, 62], [80, 61], [80, 60], [80, 59], [79, 58], [79, 57], [79, 56], [79, 55], [79, 54], [79, 53], [79, 52], [78, 51], [78, 50], [77, 49], [77, 48], [77, 47], [76, 46], [76, 45], [75, 44], [75, 43], [74, 42], [74, 41], [73, 40], [73, 39], [72, 38], [72, 37], [71, 36], [70, 35], [69, 34], [68, 33], [67, 32], [66, 31]]\n",
            "[[65, 30], [64, 29], [63, 29], [62, 29], [61, 29], [60, 29], [59, 29], [58, 29], [57, 29], [57, 30], [57, 31], [56, 32], [56, 33], [56, 34], [55, 35], [55, 36], [54, 37], [54, 38], [54, 39], [53, 40], [53, 41], [53, 42], [53, 43], [53, 44], [53, 45], [53, 46], [53, 47], [54, 48], [54, 49], [54, 50], [54, 51], [55, 52], [55, 53], [55, 54], [56, 55], [56, 56], [57, 57], [57, 58], [57, 59], [57, 60], [58, 61], [58, 62], [58, 63], [58, 64], [58, 65], [58, 66], [58, 67], [58, 68], [58, 69], [59, 70], [59, 71], [60, 71], [61, 71], [62, 71], [63, 71], [64, 71]]\n",
            "[[65.0001, 69.04761904761905], [65.0001, 67.0952380952381], [65.0001, 65.14285714285714], [65.0001, 63.19047619047619], [65.0001, 61.23809523809524], [65.0001, 59.285714285714285], [65.0001, 57.333333333333336], [65.0001, 55.38095238095238], [65.0001, 53.42857142857143], [65.0001, 51.476190476190474], [65.0001, 49.523809523809526], [65.0001, 47.57142857142857], [65.0001, 45.61904761904762], [65.0001, 43.666666666666664], [65.0001, 41.714285714285715], [65.0001, 39.76190476190476], [65.0001, 37.80952380952381], [65.0001, 35.857142857142854], [65.0001, 33.904761904761905], [65.0001, 31.952380952380953]]\n",
            "[[56, 32], [56, 34], [55, 36], [54, 38], [53, 40], [53, 42], [53, 44], [53, 46], [54, 48], [54, 50], [55, 52], [55, 54], [56, 56], [57, 58], [57, 60], [58, 62], [58, 64], [58, 66], [58, 68], [59, 70]]\n",
            "[[66, 31], [69, 34], [71, 36], [72, 38], [73, 40], [74, 42], [75, 44], [76, 46], [77, 48], [78, 50], [79, 52], [79, 54], [79, 56], [79, 58], [80, 60], [80, 62], [80, 64], [80, 66], [80, 68], [76, 70]]\n"
          ],
          "name": "stdout"
        },
        {
          "output_type": "display_data",
          "data": {
            "image/png": "[encoded data removed]",
            "text/plain": [
              "<PIL.Image.Image image mode=RGB size=112x112 at 0x7F17E7FD73C8>"
            ]
          },
          "metadata": {
            "tags": []
          }
        },
        {
          "output_type": "stream",
          "text": [
            "[[66, 71], [67, 71], [68, 71], [69, 71], [70, 71], [71, 71], [72, 71], [73, 70], [74, 70], [75, 70], [76, 70], [77, 69], [78, 69], [79, 69], [80, 69], [80, 68], [80, 67], [80, 66], [80, 65], [80, 64], [80, 63], [80, 62], [80, 61], [80, 60], [80, 59], [79, 58], [79, 57], [79, 56], [79, 55], [79, 54], [79, 53], [79, 52], [78, 51], [78, 50], [77, 49], [77, 48], [77, 47], [76, 46], [76, 45], [75, 44], [75, 43], [74, 42], [74, 41], [73, 40], [73, 39], [72, 38], [72, 37], [71, 36], [70, 35], [69, 34], [68, 33], [67, 32], [66, 31], [65, 30]]\n",
            "[[64, 29], [63, 29], [62, 29], [61, 29], [60, 29], [59, 29], [58, 29], [57, 29], [57, 30], [57, 31], [56, 32], [56, 33], [56, 34], [55, 35], [55, 36], [54, 37], [54, 38], [54, 39], [53, 40], [53, 41], [53, 42], [53, 43], [53, 44], [53, 45], [53, 46], [53, 47], [54, 48], [54, 49], [54, 50], [54, 51], [55, 52], [55, 53], [55, 54], [56, 55], [56, 56], [57, 57], [57, 58], [57, 59], [57, 60], [58, 61], [58, 62], [58, 63], [58, 64], [58, 65], [58, 66], [58, 67], [58, 68], [58, 69], [59, 70], [59, 71], [60, 71], [61, 71], [62, 71], [63, 71], [64, 71], [65, 71]]\n",
            "[[65.9047619047619, 69.0001], [65.80952380952381, 67.0001], [65.71428571428571, 65.0001], [65.61904761904762, 63.0001], [65.52380952380952, 61.0001], [65.42857142857143, 59.0001], [65.33333333333333, 57.0001], [65.23809523809524, 55.0001], [65.14285714285714, 53.0001], [65.04761904761905, 51.0001], [64.95238095238095, 49.0001], [64.85714285714286, 47.0001], [64.76190476190476, 45.0001], [64.66666666666667, 43.0001], [64.57142857142857, 41.0001], [64.47619047619048, 39.0001], [64.38095238095238, 37.0001], [64.28571428571429, 35.0001], [64.19047619047619, 33.0001], [64.0952380952381, 31.0001]]\n",
            "[[56, 32], [56, 34], [55, 36], [54, 38], [53, 40], [53, 42], [53, 44], [53, 46], [54, 48], [54, 50], [55, 52], [55, 54], [56, 56], [57, 58], [57, 60], [58, 62], [58, 64], [58, 66], [58, 68], [59, 70]]\n",
            "[[65, 30], [68, 33], [70, 35], [72, 37], [73, 39], [74, 41], [75, 43], [76, 45], [77, 47], [77, 49], [78, 51], [79, 53], [79, 55], [79, 57], [80, 59], [80, 61], [80, 63], [80, 65], [80, 67], [80, 69]]\n"
          ],
          "name": "stdout"
        },
        {
          "output_type": "display_data",
          "data": {
            "image/png": "[encoded data removed]",
            "text/plain": [
              "<PIL.Image.Image image mode=RGB size=112x112 at 0x7F17E7FD73C8>"
            ]
          },
          "metadata": {
            "tags": []
          }
        },
        {
          "output_type": "stream",
          "text": [
            "[[67, 71], [68, 71], [69, 71], [70, 71], [71, 71], [72, 71], [73, 70], [74, 70], [75, 70], [76, 70], [77, 69], [78, 69], [79, 69], [80, 69], [80, 68], [80, 67], [80, 66], [80, 65], [80, 64], [80, 63], [80, 62], [80, 61], [80, 60], [80, 59], [79, 58], [79, 57], [79, 56], [79, 55], [79, 54], [79, 53], [79, 52], [78, 51], [78, 50], [77, 49], [77, 48], [77, 47], [76, 46], [76, 45], [75, 44], [75, 43], [74, 42], [74, 41], [73, 40], [73, 39], [72, 38], [72, 37], [71, 36], [70, 35], [69, 34], [68, 33], [67, 32], [66, 31], [65, 30], [64, 29]]\n",
            "[[63, 29], [62, 29], [61, 29], [60, 29], [59, 29], [58, 29], [57, 29], [57, 30], [57, 31], [56, 32], [56, 33], [56, 34], [55, 35], [55, 36], [54, 37], [54, 38], [54, 39], [53, 40], [53, 41], [53, 42], [53, 43], [53, 44], [53, 45], [53, 46], [53, 47], [54, 48], [54, 49], [54, 50], [54, 51], [55, 52], [55, 53], [55, 54], [56, 55], [56, 56], [57, 57], [57, 58], [57, 59], [57, 60], [58, 61], [58, 62], [58, 63], [58, 64], [58, 65], [58, 66], [58, 67], [58, 68], [58, 69], [59, 70], [59, 71], [60, 71], [61, 71], [62, 71], [63, 71], [64, 71], [65, 71], [66, 71]]\n",
            "[[66.80952380952381, 69.0001], [66.61904761904762, 67.0001], [66.42857142857143, 65.0001], [66.23809523809524, 63.0001], [66.04761904761905, 61.0001], [65.85714285714286, 59.0001], [65.66666666666667, 57.0001], [65.47619047619048, 55.0001], [65.28571428571429, 53.0001], [65.0952380952381, 51.0001], [64.9047619047619, 49.0001], [64.71428571428571, 47.0001], [64.52380952380952, 45.0001], [64.33333333333333, 43.0001], [64.14285714285714, 41.0001], [63.95238095238095, 39.0001], [63.76190476190476, 37.0001], [63.57142857142857, 35.0001], [63.38095238095238, 33.0001], [63.19047619047619, 31.0001]]\n",
            "[[56, 32], [56, 34], [55, 36], [54, 38], [53, 41], [53, 43], [53, 45], [53, 47], [54, 49], [54, 51], [55, 52], [55, 54], [56, 56], [57, 58], [57, 60], [58, 62], [58, 64], [58, 66], [58, 68], [59, 70]]\n",
            "[[64, 29], [68, 33], [70, 35], [72, 37], [73, 39], [74, 41], [75, 43], [76, 45], [76, 46], [77, 48], [78, 50], [79, 52], [79, 54], [79, 56], [79, 58], [80, 60], [80, 62], [80, 64], [80, 66], [80, 68]]\n"
          ],
          "name": "stdout"
        },
        {
          "output_type": "display_data",
          "data": {
            "image/png": "[encoded data removed]",
            "text/plain": [
              "<PIL.Image.Image image mode=RGB size=112x112 at 0x7F17E7FD73C8>"
            ]
          },
          "metadata": {
            "tags": []
          }
        },
        {
          "output_type": "stream",
          "text": [
            "[[68, 71], [69, 71], [70, 71], [71, 71], [72, 71], [73, 70], [74, 70], [75, 70], [76, 70], [77, 69], [78, 69], [79, 69], [80, 69], [80, 68], [80, 67], [80, 66], [80, 65], [80, 64], [80, 63], [80, 62], [80, 61], [80, 60], [80, 59], [79, 58], [79, 57], [79, 56], [79, 55], [79, 54], [79, 53], [79, 52], [78, 51], [78, 50], [77, 49], [77, 48], [77, 47], [76, 46], [76, 45], [75, 44], [75, 43], [74, 42], [74, 41], [73, 40], [73, 39], [72, 38], [72, 37], [71, 36], [70, 35], [69, 34], [68, 33], [67, 32], [66, 31], [65, 30], [64, 29], [63, 29]]\n",
            "[[62, 29], [61, 29], [60, 29], [59, 29], [58, 29], [57, 29], [57, 30], [57, 31], [56, 32], [56, 33], [56, 34], [55, 35], [55, 36], [54, 37], [54, 38], [54, 39], [53, 40], [53, 41], [53, 42], [53, 43], [53, 44], [53, 45], [53, 46], [53, 47], [54, 48], [54, 49], [54, 50], [54, 51], [55, 52], [55, 53], [55, 54], [56, 55], [56, 56], [57, 57], [57, 58], [57, 59], [57, 60], [58, 61], [58, 62], [58, 63], [58, 64], [58, 65], [58, 66], [58, 67], [58, 68], [58, 69], [59, 70], [59, 71], [60, 71], [61, 71], [62, 71], [63, 71], [64, 71], [65, 71], [66, 71], [67, 71]]\n",
            "[[67.71428571428571, 69.0001], [67.42857142857143, 67.0001], [67.14285714285714, 65.0001], [66.85714285714286, 63.0001], [66.57142857142857, 61.0001], [66.28571428571429, 59.0001], [66.0001, 57.0001], [65.71428571428571, 55.0001], [65.42857142857143, 53.0001], [65.14285714285714, 51.0001], [64.85714285714286, 49.0001], [64.57142857142857, 47.0001], [64.28571428571429, 45.0001], [64.0001, 43.0001], [63.714285714285715, 41.0001], [63.42857142857143, 39.0001], [63.142857142857146, 37.0001], [62.857142857142854, 35.0001], [62.57142857142857, 33.0001], [62.285714285714285, 31.0001]]\n",
            "[[56, 32], [56, 34], [54, 37], [54, 39], [53, 41], [53, 43], [53, 45], [53, 47], [54, 49], [54, 51], [55, 53], [56, 55], [57, 57], [57, 59], [58, 61], [58, 63], [58, 65], [58, 67], [58, 69], [59, 71]]\n",
            "[[63, 29], [68, 33], [70, 35], [71, 36], [72, 38], [73, 40], [74, 42], [75, 44], [76, 46], [77, 48], [78, 50], [79, 52], [79, 54], [79, 56], [79, 58], [80, 60], [80, 62], [80, 64], [80, 66], [80, 68]]\n"
          ],
          "name": "stdout"
        },
        {
          "output_type": "display_data",
          "data": {
            "image/png": "[encoded data removed]",
            "text/plain": [
              "<PIL.Image.Image image mode=RGB size=112x112 at 0x7F17E7FD73C8>"
            ]
          },
          "metadata": {
            "tags": []
          }
        },
        {
          "output_type": "stream",
          "text": [
            "[[69, 71], [70, 71], [71, 71], [72, 71], [73, 70], [74, 70], [75, 70], [76, 70], [77, 69], [78, 69], [79, 69], [80, 69], [80, 68], [80, 67], [80, 66], [80, 65], [80, 64], [80, 63], [80, 62], [80, 61], [80, 60], [80, 59], [79, 58], [79, 57], [79, 56], [79, 55], [79, 54], [79, 53], [79, 52], [78, 51], [78, 50], [77, 49], [77, 48], [77, 47], [76, 46], [76, 45], [75, 44], [75, 43], [74, 42], [74, 41], [73, 40], [73, 39], [72, 38], [72, 37], [71, 36], [70, 35], [69, 34], [68, 33], [67, 32], [66, 31], [65, 30], [64, 29], [63, 29], [62, 29]]\n",
            "[[61, 29], [60, 29], [59, 29], [58, 29], [57, 29], [57, 30], [57, 31], [56, 32], [56, 33], [56, 34], [55, 35], [55, 36], [54, 37], [54, 38], [54, 39], [53, 40], [53, 41], [53, 42], [53, 43], [53, 44], [53, 45], [53, 46], [53, 47], [54, 48], [54, 49], [54, 50], [54, 51], [55, 52], [55, 53], [55, 54], [56, 55], [56, 56], [57, 57], [57, 58], [57, 59], [57, 60], [58, 61], [58, 62], [58, 63], [58, 64], [58, 65], [58, 66], [58, 67], [58, 68], [58, 69], [59, 70], [59, 71], [60, 71], [61, 71], [62, 71], [63, 71], [64, 71], [65, 71], [66, 71], [67, 71], [68, 71]]\n",
            "[[68.61904761904762, 69.0001], [68.23809523809524, 67.0001], [67.85714285714286, 65.0001], [67.47619047619048, 63.0001], [67.0952380952381, 61.0001], [66.71428571428571, 59.0001], [66.33333333333333, 57.0001], [65.95238095238095, 55.0001], [65.57142857142857, 53.0001], [65.19047619047619, 51.0001], [64.80952380952381, 49.0001], [64.42857142857143, 47.0001], [64.04761904761905, 45.0001], [63.666666666666664, 43.0001], [63.285714285714285, 41.0001], [62.904761904761905, 39.0001], [62.523809523809526, 37.0001], [62.142857142857146, 35.0001], [61.76190476190476, 33.0001], [61.38095238095238, 31.0001]]\n",
            "[[56, 33], [55, 35], [54, 37], [54, 39], [53, 41], [53, 43], [53, 46], [54, 48], [54, 49], [55, 52], [55, 53], [56, 55], [57, 57], [57, 59], [58, 61], [58, 63], [58, 65], [58, 67], [58, 69], [59, 71]]\n",
            "[[62, 29], [68, 33], [69, 34], [71, 36], [72, 38], [73, 40], [74, 42], [75, 43], [76, 45], [77, 47], [77, 49], [78, 51], [79, 53], [79, 55], [79, 57], [80, 59], [80, 61], [80, 63], [80, 65], [80, 67]]\n"
          ],
          "name": "stdout"
        },
        {
          "output_type": "display_data",
          "data": {
            "image/png": "[encoded data removed]",
            "text/plain": [
              "<PIL.Image.Image image mode=RGB size=112x112 at 0x7F17E8040240>"
            ]
          },
          "metadata": {
            "tags": []
          }
        },
        {
          "output_type": "stream",
          "text": [
            "[[70, 71], [71, 71], [72, 71], [73, 70], [74, 70], [75, 70], [76, 70], [77, 69], [78, 69], [79, 69], [80, 69], [80, 68], [80, 67], [80, 66], [80, 65], [80, 64], [80, 63], [80, 62], [80, 61], [80, 60], [80, 59], [79, 58], [79, 57], [79, 56], [79, 55], [79, 54], [79, 53], [79, 52], [78, 51], [78, 50], [77, 49], [77, 48], [77, 47], [76, 46], [76, 45], [75, 44], [75, 43], [74, 42], [74, 41], [73, 40], [73, 39], [72, 38], [72, 37], [71, 36], [70, 35], [69, 34], [68, 33], [67, 32], [66, 31], [65, 30], [64, 29], [63, 29], [62, 29], [61, 29]]\n",
            "[[60, 29], [59, 29], [58, 29], [57, 29], [57, 30], [57, 31], [56, 32], [56, 33], [56, 34], [55, 35], [55, 36], [54, 37], [54, 38], [54, 39], [53, 40], [53, 41], [53, 42], [53, 43], [53, 44], [53, 45], [53, 46], [53, 47], [54, 48], [54, 49], [54, 50], [54, 51], [55, 52], [55, 53], [55, 54], [56, 55], [56, 56], [57, 57], [57, 58], [57, 59], [57, 60], [58, 61], [58, 62], [58, 63], [58, 64], [58, 65], [58, 66], [58, 67], [58, 68], [58, 69], [59, 70], [59, 71], [60, 71], [61, 71], [62, 71], [63, 71], [64, 71], [65, 71], [66, 71], [67, 71], [68, 71], [69, 71]]\n",
            "[[60.476190476190474, 31.0001], [60.95238095238095, 33.0001], [61.42857142857143, 35.0001], [61.904761904761905, 37.0001], [62.38095238095238, 39.0001], [62.857142857142854, 41.0001], [63.333333333333336, 43.0001], [63.80952380952381, 45.0001], [64.28571428571429, 47.0001], [64.76190476190476, 49.0001], [65.23809523809524, 51.0001], [65.71428571428571, 53.0001], [66.19047619047619, 55.0001], [66.66666666666667, 57.0001], [67.14285714285714, 59.0001], [67.61904761904762, 61.0001], [68.0952380952381, 63.0001], [68.57142857142857, 65.0001], [69.04761904761905, 67.0001], [69.52380952380952, 69.0001]]\n",
            "[[56, 33], [55, 35], [54, 37], [54, 39], [53, 42], [53, 44], [53, 46], [54, 48], [54, 50], [55, 52], [55, 54], [56, 56], [57, 58], [57, 60], [58, 62], [58, 64], [58, 66], [58, 68], [59, 70], [62, 71]]\n",
            "[[61, 29], [67, 32], [69, 34], [71, 36], [72, 37], [73, 39], [74, 41], [75, 43], [76, 45], [77, 47], [77, 49], [78, 51], [79, 52], [79, 55], [79, 57], [80, 59], [80, 61], [80, 63], [80, 65], [80, 67]]\n"
          ],
          "name": "stdout"
        },
        {
          "output_type": "display_data",
          "data": {
            "image/png": "[encoded data removed]",
            "text/plain": [
              "<PIL.Image.Image image mode=RGB size=112x112 at 0x7F17E7FD7278>"
            ]
          },
          "metadata": {
            "tags": []
          }
        },
        {
          "output_type": "stream",
          "text": [
            "[[71, 71], [72, 71], [73, 70], [74, 70], [75, 70], [76, 70], [77, 69], [78, 69], [79, 69], [80, 69], [80, 68], [80, 67], [80, 66], [80, 65], [80, 64], [80, 63], [80, 62], [80, 61], [80, 60], [80, 59], [79, 58], [79, 57], [79, 56], [79, 55], [79, 54], [79, 53], [79, 52], [78, 51], [78, 50], [77, 49], [77, 48], [77, 47], [76, 46], [76, 45], [75, 44], [75, 43], [74, 42], [74, 41], [73, 40], [73, 39], [72, 38], [72, 37], [71, 36], [70, 35], [69, 34], [68, 33], [67, 32], [66, 31], [65, 30], [64, 29], [63, 29], [62, 29], [61, 29], [60, 29]]\n",
            "[[59, 29], [58, 29], [57, 29], [57, 30], [57, 31], [56, 32], [56, 33], [56, 34], [55, 35], [55, 36], [54, 37], [54, 38], [54, 39], [53, 40], [53, 41], [53, 42], [53, 43], [53, 44], [53, 45], [53, 46], [53, 47], [54, 48], [54, 49], [54, 50], [54, 51], [55, 52], [55, 53], [55, 54], [56, 55], [56, 56], [57, 57], [57, 58], [57, 59], [57, 60], [58, 61], [58, 62], [58, 63], [58, 64], [58, 65], [58, 66], [58, 67], [58, 68], [58, 69], [59, 70], [59, 71], [60, 71], [61, 71], [62, 71], [63, 71], [64, 71], [65, 71], [66, 71], [67, 71], [68, 71], [69, 71], [70, 71]]\n",
            "[[59.57142857142857, 31.0001], [60.142857142857146, 33.0001], [60.714285714285715, 35.0001], [61.285714285714285, 37.0001], [61.857142857142854, 39.0001], [62.42857142857143, 41.0001], [63.0001, 43.0001], [63.57142857142857, 45.0001], [64.14285714285714, 47.0001], [64.71428571428571, 49.0001], [65.28571428571429, 51.0001], [65.85714285714286, 53.0001], [66.42857142857143, 55.0001], [67.0001, 57.0001], [67.57142857142857, 59.0001], [68.14285714285714, 61.0001], [68.71428571428571, 63.0001], [69.28571428571429, 65.0001], [69.85714285714286, 67.0001], [70.42857142857143, 69.0001]]\n",
            "[[56, 33], [55, 35], [54, 37], [53, 40], [53, 42], [53, 44], [53, 46], [54, 48], [54, 50], [55, 52], [55, 54], [56, 56], [57, 58], [57, 60], [58, 62], [58, 64], [58, 67], [58, 69], [59, 71], [64, 71]]\n",
            "[[65, 30], [67, 32], [68, 33], [70, 35], [72, 37], [73, 39], [74, 41], [75, 43], [75, 44], [76, 46], [77, 48], [78, 50], [79, 52], [79, 54], [79, 56], [79, 58], [80, 60], [80, 62], [80, 65], [80, 67]]\n"
          ],
          "name": "stdout"
        },
        {
          "output_type": "display_data",
          "data": {
            "image/png": "[encoded data removed]",
            "text/plain": [
              "<PIL.Image.Image image mode=RGB size=112x112 at 0x7F17E7FD7278>"
            ]
          },
          "metadata": {
            "tags": []
          }
        },
        {
          "output_type": "stream",
          "text": [
            "[[72, 71], [73, 70], [74, 70], [75, 70], [76, 70], [77, 69], [78, 69], [79, 69], [80, 69], [80, 68], [80, 67], [80, 66], [80, 65], [80, 64], [80, 63], [80, 62], [80, 61], [80, 60], [80, 59], [79, 58], [79, 57], [79, 56], [79, 55], [79, 54], [79, 53], [79, 52], [78, 51], [78, 50], [77, 49], [77, 48], [77, 47], [76, 46], [76, 45], [75, 44], [75, 43], [74, 42], [74, 41], [73, 40], [73, 39], [72, 38], [72, 37], [71, 36], [70, 35], [69, 34], [68, 33], [67, 32], [66, 31], [65, 30], [64, 29], [63, 29], [62, 29], [61, 29], [60, 29], [59, 29]]\n",
            "[[58, 29], [57, 29], [57, 30], [57, 31], [56, 32], [56, 33], [56, 34], [55, 35], [55, 36], [54, 37], [54, 38], [54, 39], [53, 40], [53, 41], [53, 42], [53, 43], [53, 44], [53, 45], [53, 46], [53, 47], [54, 48], [54, 49], [54, 50], [54, 51], [55, 52], [55, 53], [55, 54], [56, 55], [56, 56], [57, 57], [57, 58], [57, 59], [57, 60], [58, 61], [58, 62], [58, 63], [58, 64], [58, 65], [58, 66], [58, 67], [58, 68], [58, 69], [59, 70], [59, 71], [60, 71], [61, 71], [62, 71], [63, 71], [64, 71], [65, 71], [66, 71], [67, 71], [68, 71], [69, 71], [70, 71], [71, 71]]\n",
            "[[58.666666666666664, 31.0001], [59.333333333333336, 33.0001], [60.0001, 35.0001], [60.666666666666664, 37.0001], [61.333333333333336, 39.0001], [62.0001, 41.0001], [62.666666666666664, 43.0001], [63.333333333333336, 45.0001], [64.0001, 47.0001], [64.66666666666667, 49.0001], [65.33333333333333, 51.0001], [66.0001, 53.0001], [66.66666666666667, 55.0001], [67.33333333333333, 57.0001], [68.0001, 59.0001], [68.66666666666667, 61.0001], [69.33333333333333, 63.0001], [70.0001, 65.0001], [70.66666666666667, 67.0001], [71.33333333333333, 69.0001]]\n",
            "[[56, 32], [55, 35], [54, 38], [53, 40], [53, 42], [53, 45], [53, 47], [54, 49], [54, 51], [55, 53], [56, 55], [57, 57], [57, 59], [58, 61], [58, 63], [58, 65], [58, 67], [59, 70], [59, 71], [66, 71]]\n",
            "[[65, 30], [66, 31], [68, 33], [70, 35], [71, 36], [72, 38], [73, 40], [74, 42], [75, 44], [76, 46], [77, 48], [78, 50], [79, 52], [79, 54], [79, 56], [79, 58], [80, 60], [80, 62], [80, 64], [80, 67]]\n"
          ],
          "name": "stdout"
        },
        {
          "output_type": "display_data",
          "data": {
            "image/png": "[encoded data removed]",
            "text/plain": [
              "<PIL.Image.Image image mode=RGB size=112x112 at 0x7F17E8040208>"
            ]
          },
          "metadata": {
            "tags": []
          }
        },
        {
          "output_type": "stream",
          "text": [
            "[[73, 70], [74, 70], [75, 70], [76, 70], [77, 69], [78, 69], [79, 69], [80, 69], [80, 68], [80, 67], [80, 66], [80, 65], [80, 64], [80, 63], [80, 62], [80, 61], [80, 60], [80, 59], [79, 58], [79, 57], [79, 56], [79, 55], [79, 54], [79, 53], [79, 52], [78, 51], [78, 50], [77, 49], [77, 48], [77, 47], [76, 46], [76, 45], [75, 44], [75, 43], [74, 42], [74, 41], [73, 40], [73, 39], [72, 38], [72, 37], [71, 36], [70, 35], [69, 34], [68, 33], [67, 32], [66, 31], [65, 30], [64, 29], [63, 29], [62, 29], [61, 29], [60, 29], [59, 29], [58, 29]]\n",
            "[[57, 29], [57, 30], [57, 31], [56, 32], [56, 33], [56, 34], [55, 35], [55, 36], [54, 37], [54, 38], [54, 39], [53, 40], [53, 41], [53, 42], [53, 43], [53, 44], [53, 45], [53, 46], [53, 47], [54, 48], [54, 49], [54, 50], [54, 51], [55, 52], [55, 53], [55, 54], [56, 55], [56, 56], [57, 57], [57, 58], [57, 59], [57, 60], [58, 61], [58, 62], [58, 63], [58, 64], [58, 65], [58, 66], [58, 67], [58, 68], [58, 69], [59, 70], [59, 71], [60, 71], [61, 71], [62, 71], [63, 71], [64, 71], [65, 71], [66, 71], [67, 71], [68, 71], [69, 71], [70, 71], [71, 71], [72, 71]]\n",
            "[[57.76190476190476, 30.952380952380953], [58.523809523809526, 32.904761904761905], [59.285714285714285, 34.857142857142854], [60.04761904761905, 36.80952380952381], [60.80952380952381, 38.76190476190476], [61.57142857142857, 40.714285714285715], [62.333333333333336, 42.666666666666664], [63.095238095238095, 44.61904761904762], [63.857142857142854, 46.57142857142857], [64.61904761904762, 48.523809523809526], [65.38095238095238, 50.476190476190474], [66.14285714285714, 52.42857142857143], [66.9047619047619, 54.38095238095238], [67.66666666666667, 56.333333333333336], [68.42857142857143, 58.285714285714285], [69.19047619047619, 60.23809523809524], [69.95238095238095, 62.19047619047619], [70.71428571428571, 64.14285714285714], [71.47619047619048, 66.0952380952381], [72.23809523809524, 68.04761904761905]]\n",
            "[[56, 32], [56, 34], [54, 37], [53, 40], [53, 42], [53, 45], [53, 47], [54, 49], [54, 51], [55, 53], [56, 55], [57, 57], [57, 59], [58, 61], [58, 63], [58, 65], [58, 67], [59, 70], [59, 71], [65, 71]]\n",
            "[[63, 29], [66, 31], [67, 32], [69, 34], [71, 36], [72, 37], [73, 39], [74, 41], [75, 43], [76, 45], [77, 47], [77, 49], [78, 51], [79, 52], [79, 55], [79, 57], [80, 59], [80, 61], [80, 63], [80, 66]]\n"
          ],
          "name": "stdout"
        },
        {
          "output_type": "display_data",
          "data": {
            "image/png": "[encoded data removed]",
            "text/plain": [
              "<PIL.Image.Image image mode=RGB size=112x112 at 0x7F17E7FD7390>"
            ]
          },
          "metadata": {
            "tags": []
          }
        },
        {
          "output_type": "stream",
          "text": [
            "[[74, 70], [75, 70], [76, 70], [77, 69], [78, 69], [79, 69], [80, 69], [80, 68], [80, 67], [80, 66], [80, 65], [80, 64], [80, 63], [80, 62], [80, 61], [80, 60], [80, 59], [79, 58], [79, 57], [79, 56], [79, 55], [79, 54], [79, 53], [79, 52], [78, 51], [78, 50], [77, 49], [77, 48], [77, 47], [76, 46], [76, 45], [75, 44], [75, 43], [74, 42], [74, 41], [73, 40], [73, 39], [72, 38], [72, 37], [71, 36], [70, 35], [69, 34], [68, 33], [67, 32], [66, 31], [65, 30], [64, 29], [63, 29], [62, 29], [61, 29], [60, 29], [59, 29], [58, 29], [57, 29]]\n",
            "[[57, 30], [57, 31], [56, 32], [56, 33], [56, 34], [55, 35], [55, 36], [54, 37], [54, 38], [54, 39], [53, 40], [53, 41], [53, 42], [53, 43], [53, 44], [53, 45], [53, 46], [53, 47], [54, 48], [54, 49], [54, 50], [54, 51], [55, 52], [55, 53], [55, 54], [56, 55], [56, 56], [57, 57], [57, 58], [57, 59], [57, 60], [58, 61], [58, 62], [58, 63], [58, 64], [58, 65], [58, 66], [58, 67], [58, 68], [58, 69], [59, 70], [59, 71], [60, 71], [61, 71], [62, 71], [63, 71], [64, 71], [65, 71], [66, 71], [67, 71], [68, 71], [69, 71], [70, 71], [71, 71], [72, 71], [73, 70]]\n",
            "[[57.80952380952381, 31.904761904761905], [58.61904761904762, 33.80952380952381], [59.42857142857143, 35.714285714285715], [60.23809523809524, 37.61904761904762], [61.04761904761905, 39.523809523809526], [61.857142857142854, 41.42857142857143], [62.666666666666664, 43.333333333333336], [63.476190476190474, 45.23809523809524], [64.28571428571429, 47.142857142857146], [65.0952380952381, 49.04761904761905], [65.9047619047619, 50.95238095238095], [66.71428571428571, 52.857142857142854], [67.52380952380952, 54.76190476190476], [68.33333333333333, 56.666666666666664], [69.14285714285714, 58.57142857142857], [69.95238095238095, 60.476190476190474], [70.76190476190476, 62.38095238095238], [71.57142857142857, 64.28571428571429], [72.38095238095238, 66.19047619047619], [73.19047619047619, 68.0952380952381]]\n",
            "[[56, 33], [55, 36], [54, 39], [53, 41], [53, 43], [53, 46], [54, 48], [54, 50], [55, 52], [55, 54], [56, 56], [57, 57], [57, 60], [58, 62], [58, 64], [58, 66], [58, 68], [59, 70], [62, 71], [67, 71]]\n",
            "[[65, 30], [66, 31], [68, 33], [69, 34], [71, 36], [72, 38], [73, 39], [74, 41], [75, 43], [76, 45], [77, 47], [77, 49], [78, 51], [79, 53], [79, 55], [79, 57], [80, 59], [80, 61], [80, 63], [80, 66]]\n"
          ],
          "name": "stdout"
        },
        {
          "output_type": "display_data",
          "data": {
            "image/png": "[encoded data removed]",
            "text/plain": [
              "<PIL.Image.Image image mode=RGB size=112x112 at 0x7F17E7FD7390>"
            ]
          },
          "metadata": {
            "tags": []
          }
        },
        {
          "output_type": "stream",
          "text": [
            "[[75, 70], [76, 70], [77, 69], [78, 69], [79, 69], [80, 69], [80, 68], [80, 67], [80, 66], [80, 65], [80, 64], [80, 63], [80, 62], [80, 61], [80, 60], [80, 59], [79, 58], [79, 57], [79, 56], [79, 55], [79, 54], [79, 53], [79, 52], [78, 51], [78, 50], [77, 49], [77, 48], [77, 47], [76, 46], [76, 45], [75, 44], [75, 43], [74, 42], [74, 41], [73, 40], [73, 39], [72, 38], [72, 37], [71, 36], [70, 35], [69, 34], [68, 33], [67, 32], [66, 31], [65, 30], [64, 29], [63, 29], [62, 29], [61, 29], [60, 29], [59, 29], [58, 29], [57, 29], [57, 30]]\n",
            "[[57, 31], [56, 32], [56, 33], [56, 34], [55, 35], [55, 36], [54, 37], [54, 38], [54, 39], [53, 40], [53, 41], [53, 42], [53, 43], [53, 44], [53, 45], [53, 46], [53, 47], [54, 48], [54, 49], [54, 50], [54, 51], [55, 52], [55, 53], [55, 54], [56, 55], [56, 56], [57, 57], [57, 58], [57, 59], [57, 60], [58, 61], [58, 62], [58, 63], [58, 64], [58, 65], [58, 66], [58, 67], [58, 68], [58, 69], [59, 70], [59, 71], [60, 71], [61, 71], [62, 71], [63, 71], [64, 71], [65, 71], [66, 71], [67, 71], [68, 71], [69, 71], [70, 71], [71, 71], [72, 71], [73, 70], [74, 70]]\n",
            "[[57.857142857142854, 32.857142857142854], [58.714285714285715, 34.714285714285715], [59.57142857142857, 36.57142857142857], [60.42857142857143, 38.42857142857143], [61.285714285714285, 40.285714285714285], [62.142857142857146, 42.142857142857146], [63.0001, 44.0001], [63.857142857142854, 45.857142857142854], [64.71428571428571, 47.714285714285715], [65.57142857142857, 49.57142857142857], [66.42857142857143, 51.42857142857143], [67.28571428571429, 53.285714285714285], [68.14285714285714, 55.142857142857146], [69.0001, 57.0001], [69.85714285714286, 58.857142857142854], [70.71428571428571, 60.714285714285715], [71.57142857142857, 62.57142857142857], [72.42857142857143, 64.42857142857143], [73.28571428571429, 66.28571428571429], [74.14285714285714, 68.14285714285714]]\n",
            "[[56, 34], [54, 37], [53, 40], [53, 42], [53, 45], [53, 47], [54, 49], [54, 51], [55, 53], [56, 55], [57, 57], [57, 59], [58, 61], [58, 63], [58, 65], [58, 67], [58, 69], [59, 71], [64, 71], [68, 71]]\n",
            "[[65, 30], [67, 32], [68, 33], [70, 35], [71, 36], [72, 38], [73, 40], [74, 42], [75, 43], [76, 45], [77, 47], [77, 49], [78, 51], [79, 53], [79, 55], [79, 57], [80, 59], [80, 61], [80, 64], [80, 66]]\n"
          ],
          "name": "stdout"
        },
        {
          "output_type": "display_data",
          "data": {
            "image/png": "[encoded data removed]",
            "text/plain": [
              "<PIL.Image.Image image mode=RGB size=112x112 at 0x7F17E7FD7390>"
            ]
          },
          "metadata": {
            "tags": []
          }
        },
        {
          "output_type": "stream",
          "text": [
            "[[76, 70], [77, 69], [78, 69], [79, 69], [80, 69], [80, 68], [80, 67], [80, 66], [80, 65], [80, 64], [80, 63], [80, 62], [80, 61], [80, 60], [80, 59], [79, 58], [79, 57], [79, 56], [79, 55], [79, 54], [79, 53], [79, 52], [78, 51], [78, 50], [77, 49], [77, 48], [77, 47], [76, 46], [76, 45], [75, 44], [75, 43], [74, 42], [74, 41], [73, 40], [73, 39], [72, 38], [72, 37], [71, 36], [70, 35], [69, 34], [68, 33], [67, 32], [66, 31], [65, 30], [64, 29], [63, 29], [62, 29], [61, 29], [60, 29], [59, 29], [58, 29], [57, 29], [57, 30], [57, 31]]\n",
            "[[56, 32], [56, 33], [56, 34], [55, 35], [55, 36], [54, 37], [54, 38], [54, 39], [53, 40], [53, 41], [53, 42], [53, 43], [53, 44], [53, 45], [53, 46], [53, 47], [54, 48], [54, 49], [54, 50], [54, 51], [55, 52], [55, 53], [55, 54], [56, 55], [56, 56], [57, 57], [57, 58], [57, 59], [57, 60], [58, 61], [58, 62], [58, 63], [58, 64], [58, 65], [58, 66], [58, 67], [58, 68], [58, 69], [59, 70], [59, 71], [60, 71], [61, 71], [62, 71], [63, 71], [64, 71], [65, 71], [66, 71], [67, 71], [68, 71], [69, 71], [70, 71], [71, 71], [72, 71], [73, 70], [74, 70], [75, 70]]\n",
            "[[56.95238095238095, 33.80952380952381], [57.904761904761905, 35.61904761904762], [58.857142857142854, 37.42857142857143], [59.80952380952381, 39.23809523809524], [60.76190476190476, 41.04761904761905], [61.714285714285715, 42.857142857142854], [62.666666666666664, 44.666666666666664], [63.61904761904762, 46.476190476190474], [64.57142857142857, 48.285714285714285], [65.52380952380952, 50.095238095238095], [66.47619047619048, 51.904761904761905], [67.42857142857143, 53.714285714285715], [68.38095238095238, 55.523809523809526], [69.33333333333333, 57.333333333333336], [70.28571428571429, 59.142857142857146], [71.23809523809524, 60.95238095238095], [72.19047619047619, 62.76190476190476], [73.14285714285714, 64.57142857142857], [74.0952380952381, 66.38095238095238], [75.04761904761905, 68.19047619047619]]\n",
            "[[55, 35], [54, 38], [53, 41], [53, 43], [53, 46], [54, 48], [54, 50], [55, 52], [55, 54], [56, 56], [57, 57], [57, 60], [58, 61], [58, 64], [58, 66], [58, 68], [59, 70], [61, 71], [66, 71], [70, 71]]\n",
            "[[65, 30], [67, 32], [68, 33], [70, 35], [71, 36], [72, 38], [73, 40], [74, 42], [75, 43], [76, 45], [77, 47], [77, 49], [78, 51], [79, 53], [79, 55], [79, 57], [80, 59], [80, 61], [80, 64], [80, 66]]\n"
          ],
          "name": "stdout"
        },
        {
          "output_type": "display_data",
          "data": {
            "image/png": "[encoded data removed]",
            "text/plain": [
              "<PIL.Image.Image image mode=RGB size=112x112 at 0x7F17E7FD7390>"
            ]
          },
          "metadata": {
            "tags": []
          }
        },
        {
          "output_type": "stream",
          "text": [
            "[[77, 69], [78, 69], [79, 69], [80, 69], [80, 68], [80, 67], [80, 66], [80, 65], [80, 64], [80, 63], [80, 62], [80, 61], [80, 60], [80, 59], [79, 58], [79, 57], [79, 56], [79, 55], [79, 54], [79, 53], [79, 52], [78, 51], [78, 50], [77, 49], [77, 48], [77, 47], [76, 46], [76, 45], [75, 44], [75, 43], [74, 42], [74, 41], [73, 40], [73, 39], [72, 38], [72, 37], [71, 36], [70, 35], [69, 34], [68, 33], [67, 32], [66, 31], [65, 30], [64, 29], [63, 29], [62, 29], [61, 29], [60, 29], [59, 29], [58, 29], [57, 29], [57, 30], [57, 31], [56, 32]]\n",
            "[[56, 33], [56, 34], [55, 35], [55, 36], [54, 37], [54, 38], [54, 39], [53, 40], [53, 41], [53, 42], [53, 43], [53, 44], [53, 45], [53, 46], [53, 47], [54, 48], [54, 49], [54, 50], [54, 51], [55, 52], [55, 53], [55, 54], [56, 55], [56, 56], [57, 57], [57, 58], [57, 59], [57, 60], [58, 61], [58, 62], [58, 63], [58, 64], [58, 65], [58, 66], [58, 67], [58, 68], [58, 69], [59, 70], [59, 71], [60, 71], [61, 71], [62, 71], [63, 71], [64, 71], [65, 71], [66, 71], [67, 71], [68, 71], [69, 71], [70, 71], [71, 71], [72, 71], [73, 70], [74, 70], [75, 70], [76, 70]]\n",
            "[[57.0001, 34.714285714285715], [58.0001, 36.42857142857143], [59.0001, 38.142857142857146], [60.0001, 39.857142857142854], [61.0001, 41.57142857142857], [62.0001, 43.285714285714285], [63.0001, 45.0001], [64.0001, 46.714285714285715], [65.0001, 48.42857142857143], [66.0001, 50.142857142857146], [67.0001, 51.857142857142854], [68.0001, 53.57142857142857], [69.0001, 55.285714285714285], [70.0001, 57.0001], [71.0001, 58.714285714285715], [72.0001, 60.42857142857143], [73.0001, 62.142857142857146], [74.0001, 63.857142857142854], [75.0001, 65.57142857142857], [76.0001, 67.28571428571429]]\n",
            "[[55, 36], [54, 39], [53, 42], [53, 44], [53, 47], [54, 48], [54, 51], [55, 52], [56, 55], [56, 56], [57, 58], [57, 60], [58, 62], [58, 65], [58, 67], [58, 69], [59, 71], [62, 71], [66, 71], [70, 71]]\n",
            "[[66, 31], [67, 32], [68, 33], [70, 35], [71, 36], [72, 38], [73, 40], [74, 41], [75, 43], [76, 45], [77, 47], [77, 49], [78, 51], [79, 52], [79, 55], [79, 57], [80, 59], [80, 61], [80, 63], [80, 65]]\n"
          ],
          "name": "stdout"
        },
        {
          "output_type": "display_data",
          "data": {
            "image/png": "[encoded data removed]",
            "text/plain": [
              "<PIL.Image.Image image mode=RGB size=112x112 at 0x7F17E7FD7390>"
            ]
          },
          "metadata": {
            "tags": []
          }
        },
        {
          "output_type": "stream",
          "text": [
            "[[78, 69], [79, 69], [80, 69], [80, 68], [80, 67], [80, 66], [80, 65], [80, 64], [80, 63], [80, 62], [80, 61], [80, 60], [80, 59], [79, 58], [79, 57], [79, 56], [79, 55], [79, 54], [79, 53], [79, 52], [78, 51], [78, 50], [77, 49], [77, 48], [77, 47], [76, 46], [76, 45], [75, 44], [75, 43], [74, 42], [74, 41], [73, 40], [73, 39], [72, 38], [72, 37], [71, 36], [70, 35], [69, 34], [68, 33], [67, 32], [66, 31], [65, 30], [64, 29], [63, 29], [62, 29], [61, 29], [60, 29], [59, 29], [58, 29], [57, 29], [57, 30], [57, 31], [56, 32], [56, 33]]\n",
            "[[56, 34], [55, 35], [55, 36], [54, 37], [54, 38], [54, 39], [53, 40], [53, 41], [53, 42], [53, 43], [53, 44], [53, 45], [53, 46], [53, 47], [54, 48], [54, 49], [54, 50], [54, 51], [55, 52], [55, 53], [55, 54], [56, 55], [56, 56], [57, 57], [57, 58], [57, 59], [57, 60], [58, 61], [58, 62], [58, 63], [58, 64], [58, 65], [58, 66], [58, 67], [58, 68], [58, 69], [59, 70], [59, 71], [60, 71], [61, 71], [62, 71], [63, 71], [64, 71], [65, 71], [66, 71], [67, 71], [68, 71], [69, 71], [70, 71], [71, 71], [72, 71], [73, 70], [74, 70], [75, 70], [76, 70], [77, 69]]\n",
            "[[57.04761904761905, 35.666666666666664], [58.095238095238095, 37.333333333333336], [59.142857142857146, 39.0001], [60.19047619047619, 40.666666666666664], [61.23809523809524, 42.333333333333336], [62.285714285714285, 44.0001], [63.333333333333336, 45.666666666666664], [64.38095238095238, 47.333333333333336], [65.42857142857143, 49.0001], [66.47619047619048, 50.666666666666664], [67.52380952380952, 52.333333333333336], [68.57142857142857, 54.0001], [69.61904761904762, 55.666666666666664], [70.66666666666667, 57.333333333333336], [71.71428571428571, 59.0001], [72.76190476190476, 60.666666666666664], [73.80952380952381, 62.333333333333336], [74.85714285714286, 64.0001], [75.9047619047619, 65.66666666666667], [76.95238095238095, 67.33333333333333]]\n",
            "[[54, 38], [53, 41], [53, 43], [53, 46], [54, 48], [54, 50], [55, 52], [55, 54], [56, 55], [57, 57], [57, 59], [58, 61], [58, 63], [58, 66], [58, 68], [59, 70], [61, 71], [64, 71], [68, 71], [72, 71]]\n",
            "[[66, 31], [67, 32], [69, 34], [70, 35], [72, 37], [72, 38], [73, 40], [74, 42], [75, 43], [76, 45], [77, 47], [77, 49], [78, 51], [79, 53], [79, 55], [79, 57], [80, 59], [80, 61], [80, 64], [80, 66]]\n"
          ],
          "name": "stdout"
        },
        {
          "output_type": "display_data",
          "data": {
            "image/png": "[encoded data removed]",
            "text/plain": [
              "<PIL.Image.Image image mode=RGB size=112x112 at 0x7F17E7FD7390>"
            ]
          },
          "metadata": {
            "tags": []
          }
        },
        {
          "output_type": "stream",
          "text": [
            "[[79, 69], [80, 69], [80, 68], [80, 67], [80, 66], [80, 65], [80, 64], [80, 63], [80, 62], [80, 61], [80, 60], [80, 59], [79, 58], [79, 57], [79, 56], [79, 55], [79, 54], [79, 53], [79, 52], [78, 51], [78, 50], [77, 49], [77, 48], [77, 47], [76, 46], [76, 45], [75, 44], [75, 43], [74, 42], [74, 41], [73, 40], [73, 39], [72, 38], [72, 37], [71, 36], [70, 35], [69, 34], [68, 33], [67, 32], [66, 31], [65, 30], [64, 29], [63, 29], [62, 29], [61, 29], [60, 29], [59, 29], [58, 29], [57, 29], [57, 30], [57, 31], [56, 32], [56, 33], [56, 34]]\n",
            "[[55, 35], [55, 36], [54, 37], [54, 38], [54, 39], [53, 40], [53, 41], [53, 42], [53, 43], [53, 44], [53, 45], [53, 46], [53, 47], [54, 48], [54, 49], [54, 50], [54, 51], [55, 52], [55, 53], [55, 54], [56, 55], [56, 56], [57, 57], [57, 58], [57, 59], [57, 60], [58, 61], [58, 62], [58, 63], [58, 64], [58, 65], [58, 66], [58, 67], [58, 68], [58, 69], [59, 70], [59, 71], [60, 71], [61, 71], [62, 71], [63, 71], [64, 71], [65, 71], [66, 71], [67, 71], [68, 71], [69, 71], [70, 71], [71, 71], [72, 71], [73, 70], [74, 70], [75, 70], [76, 70], [77, 69], [78, 69]]\n",
            "[[56.142857142857146, 36.61904761904762], [57.285714285714285, 38.23809523809524], [58.42857142857143, 39.857142857142854], [59.57142857142857, 41.476190476190474], [60.714285714285715, 43.095238095238095], [61.857142857142854, 44.714285714285715], [63.0001, 46.333333333333336], [64.14285714285714, 47.95238095238095], [65.28571428571429, 49.57142857142857], [66.42857142857143, 51.19047619047619], [67.57142857142857, 52.80952380952381], [68.71428571428571, 54.42857142857143], [69.85714285714286, 56.04761904761905], [71.0001, 57.666666666666664], [72.14285714285714, 59.285714285714285], [73.28571428571429, 60.904761904761905], [74.42857142857143, 62.523809523809526], [75.57142857142857, 64.14285714285714], [76.71428571428571, 65.76190476190476], [77.85714285714286, 67.38095238095238]]\n",
            "[[54, 39], [53, 42], [53, 44], [53, 47], [54, 48], [54, 51], [55, 52], [56, 55], [57, 57], [57, 58], [58, 61], [58, 62], [58, 65], [58, 67], [59, 70], [59, 71], [63, 71], [66, 71], [70, 71], [75, 70]]\n",
            "[[66, 31], [67, 32], [69, 34], [70, 35], [71, 36], [72, 38], [73, 40], [74, 41], [75, 43], [76, 45], [77, 47], [77, 49], [78, 51], [79, 53], [79, 55], [79, 57], [80, 59], [80, 62], [80, 64], [80, 66]]\n"
          ],
          "name": "stdout"
        },
        {
          "output_type": "display_data",
          "data": {
            "image/png": "[encoded data removed]",
            "text/plain": [
              "<PIL.Image.Image image mode=RGB size=112x112 at 0x7F17E7FD7390>"
            ]
          },
          "metadata": {
            "tags": []
          }
        },
        {
          "output_type": "stream",
          "text": [
            "[[80, 69], [80, 68], [80, 67], [80, 66], [80, 65], [80, 64], [80, 63], [80, 62], [80, 61], [80, 60], [80, 59], [79, 58], [79, 57], [79, 56], [79, 55], [79, 54], [79, 53], [79, 52], [78, 51], [78, 50], [77, 49], [77, 48], [77, 47], [76, 46], [76, 45], [75, 44], [75, 43], [74, 42], [74, 41], [73, 40], [73, 39], [72, 38], [72, 37], [71, 36], [70, 35], [69, 34], [68, 33], [67, 32], [66, 31], [65, 30], [64, 29], [63, 29], [62, 29], [61, 29], [60, 29], [59, 29], [58, 29], [57, 29], [57, 30], [57, 31], [56, 32], [56, 33], [56, 34], [55, 35]]\n",
            "[[55, 36], [54, 37], [54, 38], [54, 39], [53, 40], [53, 41], [53, 42], [53, 43], [53, 44], [53, 45], [53, 46], [53, 47], [54, 48], [54, 49], [54, 50], [54, 51], [55, 52], [55, 53], [55, 54], [56, 55], [56, 56], [57, 57], [57, 58], [57, 59], [57, 60], [58, 61], [58, 62], [58, 63], [58, 64], [58, 65], [58, 66], [58, 67], [58, 68], [58, 69], [59, 70], [59, 71], [60, 71], [61, 71], [62, 71], [63, 71], [64, 71], [65, 71], [66, 71], [67, 71], [68, 71], [69, 71], [70, 71], [71, 71], [72, 71], [73, 70], [74, 70], [75, 70], [76, 70], [77, 69], [78, 69], [79, 69]]\n",
            "[[56.19047619047619, 37.57142857142857], [57.38095238095238, 39.142857142857146], [58.57142857142857, 40.714285714285715], [59.76190476190476, 42.285714285714285], [60.95238095238095, 43.857142857142854], [62.142857142857146, 45.42857142857143], [63.333333333333336, 47.0001], [64.52380952380952, 48.57142857142857], [65.71428571428571, 50.142857142857146], [66.9047619047619, 51.714285714285715], [68.0952380952381, 53.285714285714285], [69.28571428571429, 54.857142857142854], [70.47619047619048, 56.42857142857143], [71.66666666666667, 58.0001], [72.85714285714286, 59.57142857142857], [74.04761904761905, 61.142857142857146], [75.23809523809524, 62.714285714285715], [76.42857142857143, 64.28571428571429], [77.61904761904762, 65.85714285714286], [78.80952380952381, 67.42857142857143]]\n",
            "[[53, 40], [53, 43], [53, 45], [54, 48], [54, 50], [55, 52], [55, 54], [56, 56], [57, 57], [57, 60], [58, 61], [58, 64], [58, 66], [58, 69], [59, 71], [62, 71], [65, 71], [68, 71], [71, 71], [76, 70]]\n",
            "[[66, 31], [67, 32], [69, 34], [70, 35], [72, 37], [72, 38], [73, 40], [74, 42], [75, 44], [76, 45], [77, 47], [78, 50], [78, 51], [79, 53], [79, 55], [79, 58], [80, 60], [80, 62], [80, 65], [80, 67]]\n"
          ],
          "name": "stdout"
        },
        {
          "output_type": "display_data",
          "data": {
            "image/png": "[encoded data removed]",
            "text/plain": [
              "<PIL.Image.Image image mode=RGB size=112x112 at 0x7F17E7FD7390>"
            ]
          },
          "metadata": {
            "tags": []
          }
        },
        {
          "output_type": "stream",
          "text": [
            "[[80, 68], [80, 67], [80, 66], [80, 65], [80, 64], [80, 63], [80, 62], [80, 61], [80, 60], [80, 59], [79, 58], [79, 57], [79, 56], [79, 55], [79, 54], [79, 53], [79, 52], [78, 51], [78, 50], [77, 49], [77, 48], [77, 47], [76, 46], [76, 45], [75, 44], [75, 43], [74, 42], [74, 41], [73, 40], [73, 39], [72, 38], [72, 37], [71, 36], [70, 35], [69, 34], [68, 33], [67, 32], [66, 31], [65, 30], [64, 29], [63, 29], [62, 29], [61, 29], [60, 29], [59, 29], [58, 29], [57, 29], [57, 30], [57, 31], [56, 32], [56, 33], [56, 34], [55, 35], [55, 36]]\n",
            "[[54, 37], [54, 38], [54, 39], [53, 40], [53, 41], [53, 42], [53, 43], [53, 44], [53, 45], [53, 46], [53, 47], [54, 48], [54, 49], [54, 50], [54, 51], [55, 52], [55, 53], [55, 54], [56, 55], [56, 56], [57, 57], [57, 58], [57, 59], [57, 60], [58, 61], [58, 62], [58, 63], [58, 64], [58, 65], [58, 66], [58, 67], [58, 68], [58, 69], [59, 70], [59, 71], [60, 71], [61, 71], [62, 71], [63, 71], [64, 71], [65, 71], [66, 71], [67, 71], [68, 71], [69, 71], [70, 71], [71, 71], [72, 71], [73, 70], [74, 70], [75, 70], [76, 70], [77, 69], [78, 69], [79, 69], [80, 69]]\n",
            "[[55.23809523809524, 38.476190476190474], [56.476190476190474, 39.95238095238095], [57.714285714285715, 41.42857142857143], [58.95238095238095, 42.904761904761905], [60.19047619047619, 44.38095238095238], [61.42857142857143, 45.857142857142854], [62.666666666666664, 47.333333333333336], [63.904761904761905, 48.80952380952381], [65.14285714285714, 50.285714285714285], [66.38095238095238, 51.76190476190476], [67.61904761904762, 53.23809523809524], [68.85714285714286, 54.714285714285715], [70.0952380952381, 56.19047619047619], [71.33333333333333, 57.666666666666664], [72.57142857142857, 59.142857142857146], [73.80952380952381, 60.61904761904762], [75.04761904761905, 62.095238095238095], [76.28571428571429, 63.57142857142857], [77.52380952380952, 65.04761904761905], [78.76190476190476, 66.52380952380952]]\n",
            "[[53, 41], [53, 43], [53, 46], [54, 48], [54, 50], [55, 52], [55, 54], [56, 56], [57, 58], [57, 60], [58, 62], [58, 64], [58, 67], [58, 69], [59, 71], [62, 71], [65, 71], [68, 71], [71, 71], [75, 70]]\n",
            "[[66, 31], [67, 32], [68, 33], [70, 35], [71, 36], [72, 37], [73, 39], [74, 41], [75, 43], [76, 45], [77, 47], [77, 48], [78, 50], [79, 52], [79, 54], [79, 57], [80, 59], [80, 61], [80, 63], [80, 66]]\n"
          ],
          "name": "stdout"
        },
        {
          "output_type": "display_data",
          "data": {
            "image/png": "[encoded data removed]",
            "text/plain": [
              "<PIL.Image.Image image mode=RGB size=112x112 at 0x7F17E7FD7390>"
            ]
          },
          "metadata": {
            "tags": []
          }
        },
        {
          "output_type": "stream",
          "text": [
            "[[80, 67], [80, 66], [80, 65], [80, 64], [80, 63], [80, 62], [80, 61], [80, 60], [80, 59], [79, 58], [79, 57], [79, 56], [79, 55], [79, 54], [79, 53], [79, 52], [78, 51], [78, 50], [77, 49], [77, 48], [77, 47], [76, 46], [76, 45], [75, 44], [75, 43], [74, 42], [74, 41], [73, 40], [73, 39], [72, 38], [72, 37], [71, 36], [70, 35], [69, 34], [68, 33], [67, 32], [66, 31], [65, 30], [64, 29], [63, 29], [62, 29], [61, 29], [60, 29], [59, 29], [58, 29], [57, 29], [57, 30], [57, 31], [56, 32], [56, 33], [56, 34], [55, 35], [55, 36], [54, 37]]\n",
            "[[54, 38], [54, 39], [53, 40], [53, 41], [53, 42], [53, 43], [53, 44], [53, 45], [53, 46], [53, 47], [54, 48], [54, 49], [54, 50], [54, 51], [55, 52], [55, 53], [55, 54], [56, 55], [56, 56], [57, 57], [57, 58], [57, 59], [57, 60], [58, 61], [58, 62], [58, 63], [58, 64], [58, 65], [58, 66], [58, 67], [58, 68], [58, 69], [59, 70], [59, 71], [60, 71], [61, 71], [62, 71], [63, 71], [64, 71], [65, 71], [66, 71], [67, 71], [68, 71], [69, 71], [70, 71], [71, 71], [72, 71], [73, 70], [74, 70], [75, 70], [76, 70], [77, 69], [78, 69], [79, 69], [80, 69], [80, 68]]\n",
            "[[55.23809523809524, 39.38095238095238], [56.476190476190474, 40.76190476190476], [57.714285714285715, 42.142857142857146], [58.95238095238095, 43.523809523809526], [60.19047619047619, 44.904761904761905], [61.42857142857143, 46.285714285714285], [62.666666666666664, 47.666666666666664], [63.904761904761905, 49.04761904761905], [65.14285714285714, 50.42857142857143], [66.38095238095238, 51.80952380952381], [67.61904761904762, 53.19047619047619], [68.85714285714286, 54.57142857142857], [70.0952380952381, 55.95238095238095], [71.33333333333333, 57.333333333333336], [72.57142857142857, 58.714285714285715], [73.80952380952381, 60.095238095238095], [75.04761904761905, 61.476190476190474], [76.28571428571429, 62.857142857142854], [77.52380952380952, 64.23809523809524], [78.76190476190476, 65.61904761904762]]\n",
            "[[53, 42], [53, 44], [53, 47], [54, 48], [54, 51], [55, 53], [56, 55], [57, 57], [57, 58], [58, 61], [58, 62], [58, 65], [58, 67], [59, 70], [59, 71], [62, 71], [65, 71], [68, 71], [70, 71], [74, 70]]\n",
            "[[66, 31], [67, 32], [68, 33], [70, 35], [71, 36], [72, 37], [73, 39], [74, 41], [75, 43], [76, 45], [76, 46], [77, 48], [78, 50], [79, 52], [79, 53], [79, 56], [79, 58], [80, 60], [80, 63], [80, 65]]\n"
          ],
          "name": "stdout"
        },
        {
          "output_type": "display_data",
          "data": {
            "image/png": "[encoded data removed]",
            "text/plain": [
              "<PIL.Image.Image image mode=RGB size=112x112 at 0x7F17E7FD7390>"
            ]
          },
          "metadata": {
            "tags": []
          }
        },
        {
          "output_type": "stream",
          "text": [
            "[[80, 66], [80, 65], [80, 64], [80, 63], [80, 62], [80, 61], [80, 60], [80, 59], [79, 58], [79, 57], [79, 56], [79, 55], [79, 54], [79, 53], [79, 52], [78, 51], [78, 50], [77, 49], [77, 48], [77, 47], [76, 46], [76, 45], [75, 44], [75, 43], [74, 42], [74, 41], [73, 40], [73, 39], [72, 38], [72, 37], [71, 36], [70, 35], [69, 34], [68, 33], [67, 32], [66, 31], [65, 30], [64, 29], [63, 29], [62, 29], [61, 29], [60, 29], [59, 29], [58, 29], [57, 29], [57, 30], [57, 31], [56, 32], [56, 33], [56, 34], [55, 35], [55, 36], [54, 37], [54, 38]]\n",
            "[[54, 39], [53, 40], [53, 41], [53, 42], [53, 43], [53, 44], [53, 45], [53, 46], [53, 47], [54, 48], [54, 49], [54, 50], [54, 51], [55, 52], [55, 53], [55, 54], [56, 55], [56, 56], [57, 57], [57, 58], [57, 59], [57, 60], [58, 61], [58, 62], [58, 63], [58, 64], [58, 65], [58, 66], [58, 67], [58, 68], [58, 69], [59, 70], [59, 71], [60, 71], [61, 71], [62, 71], [63, 71], [64, 71], [65, 71], [66, 71], [67, 71], [68, 71], [69, 71], [70, 71], [71, 71], [72, 71], [73, 70], [74, 70], [75, 70], [76, 70], [77, 69], [78, 69], [79, 69], [80, 69], [80, 68], [80, 67]]\n",
            "[[55.23809523809524, 40.285714285714285], [56.476190476190474, 41.57142857142857], [57.714285714285715, 42.857142857142854], [58.95238095238095, 44.142857142857146], [60.19047619047619, 45.42857142857143], [61.42857142857143, 46.714285714285715], [62.666666666666664, 48.0001], [63.904761904761905, 49.285714285714285], [65.14285714285714, 50.57142857142857], [66.38095238095238, 51.857142857142854], [67.61904761904762, 53.142857142857146], [68.85714285714286, 54.42857142857143], [70.0952380952381, 55.714285714285715], [71.33333333333333, 57.0001], [72.57142857142857, 58.285714285714285], [73.80952380952381, 59.57142857142857], [75.04761904761905, 60.857142857142854], [76.28571428571429, 62.142857142857146], [77.52380952380952, 63.42857142857143], [78.76190476190476, 64.71428571428571]]\n",
            "[[53, 43], [53, 45], [54, 48], [54, 49], [55, 52], [55, 53], [56, 55], [57, 57], [57, 59], [58, 61], [58, 63], [58, 65], [58, 68], [59, 70], [60, 71], [62, 71], [65, 71], [68, 71], [70, 71], [74, 70]]\n",
            "[[66, 31], [67, 32], [68, 33], [70, 35], [71, 36], [72, 37], [73, 39], [74, 41], [75, 43], [75, 44], [76, 46], [77, 47], [78, 50], [78, 51], [79, 53], [79, 55], [79, 58], [80, 59], [80, 62], [80, 64]]\n"
          ],
          "name": "stdout"
        },
        {
          "output_type": "display_data",
          "data": {
            "image/png": "[encoded data removed]",
            "text/plain": [
              "<PIL.Image.Image image mode=RGB size=112x112 at 0x7F17E7FD7390>"
            ]
          },
          "metadata": {
            "tags": []
          }
        },
        {
          "output_type": "stream",
          "text": [
            "[[80, 65], [80, 64], [80, 63], [80, 62], [80, 61], [80, 60], [80, 59], [79, 58], [79, 57], [79, 56], [79, 55], [79, 54], [79, 53], [79, 52], [78, 51], [78, 50], [77, 49], [77, 48], [77, 47], [76, 46], [76, 45], [75, 44], [75, 43], [74, 42], [74, 41], [73, 40], [73, 39], [72, 38], [72, 37], [71, 36], [70, 35], [69, 34], [68, 33], [67, 32], [66, 31], [65, 30], [64, 29], [63, 29], [62, 29], [61, 29], [60, 29], [59, 29], [58, 29], [57, 29], [57, 30], [57, 31], [56, 32], [56, 33], [56, 34], [55, 35], [55, 36], [54, 37], [54, 38], [54, 39]]\n",
            "[[53, 40], [53, 41], [53, 42], [53, 43], [53, 44], [53, 45], [53, 46], [53, 47], [54, 48], [54, 49], [54, 50], [54, 51], [55, 52], [55, 53], [55, 54], [56, 55], [56, 56], [57, 57], [57, 58], [57, 59], [57, 60], [58, 61], [58, 62], [58, 63], [58, 64], [58, 65], [58, 66], [58, 67], [58, 68], [58, 69], [59, 70], [59, 71], [60, 71], [61, 71], [62, 71], [63, 71], [64, 71], [65, 71], [66, 71], [67, 71], [68, 71], [69, 71], [70, 71], [71, 71], [72, 71], [73, 70], [74, 70], [75, 70], [76, 70], [77, 69], [78, 69], [79, 69], [80, 69], [80, 68], [80, 67], [80, 66]]\n",
            "[[54.285714285714285, 41.19047619047619], [55.57142857142857, 42.38095238095238], [56.857142857142854, 43.57142857142857], [58.142857142857146, 44.76190476190476], [59.42857142857143, 45.95238095238095], [60.714285714285715, 47.142857142857146], [62.0001, 48.333333333333336], [63.285714285714285, 49.523809523809526], [64.57142857142857, 50.714285714285715], [65.85714285714286, 51.904761904761905], [67.14285714285714, 53.095238095238095], [68.42857142857143, 54.285714285714285], [69.71428571428571, 55.476190476190474], [71.0001, 56.666666666666664], [72.28571428571429, 57.857142857142854], [73.57142857142857, 59.04761904761905], [74.85714285714286, 60.23809523809524], [76.14285714285714, 61.42857142857143], [77.42857142857143, 62.61904761904762], [78.71428571428571, 63.80952380952381]]\n",
            "[[53, 43], [53, 46], [54, 48], [54, 50], [55, 52], [55, 54], [56, 55], [57, 57], [57, 59], [58, 61], [58, 63], [58, 66], [58, 69], [59, 70], [61, 71], [63, 71], [65, 71], [68, 71], [70, 71], [73, 70]]\n",
            "[[65, 30], [67, 32], [68, 33], [69, 34], [70, 35], [72, 37], [72, 38], [73, 40], [74, 41], [75, 43], [76, 45], [77, 47], [77, 48], [78, 50], [79, 52], [79, 54], [79, 56], [80, 59], [80, 60], [80, 63]]\n"
          ],
          "name": "stdout"
        },
        {
          "output_type": "display_data",
          "data": {
            "image/png": "[encoded data removed]",
            "text/plain": [
              "<PIL.Image.Image image mode=RGB size=112x112 at 0x7F17E7FD7390>"
            ]
          },
          "metadata": {
            "tags": []
          }
        },
        {
          "output_type": "stream",
          "text": [
            "[[80, 64], [80, 63], [80, 62], [80, 61], [80, 60], [80, 59], [79, 58], [79, 57], [79, 56], [79, 55], [79, 54], [79, 53], [79, 52], [78, 51], [78, 50], [77, 49], [77, 48], [77, 47], [76, 46], [76, 45], [75, 44], [75, 43], [74, 42], [74, 41], [73, 40], [73, 39], [72, 38], [72, 37], [71, 36], [70, 35], [69, 34], [68, 33], [67, 32], [66, 31], [65, 30], [64, 29], [63, 29], [62, 29], [61, 29], [60, 29], [59, 29], [58, 29], [57, 29], [57, 30], [57, 31], [56, 32], [56, 33], [56, 34], [55, 35], [55, 36], [54, 37], [54, 38], [54, 39], [53, 40]]\n",
            "[[53, 41], [53, 42], [53, 43], [53, 44], [53, 45], [53, 46], [53, 47], [54, 48], [54, 49], [54, 50], [54, 51], [55, 52], [55, 53], [55, 54], [56, 55], [56, 56], [57, 57], [57, 58], [57, 59], [57, 60], [58, 61], [58, 62], [58, 63], [58, 64], [58, 65], [58, 66], [58, 67], [58, 68], [58, 69], [59, 70], [59, 71], [60, 71], [61, 71], [62, 71], [63, 71], [64, 71], [65, 71], [66, 71], [67, 71], [68, 71], [69, 71], [70, 71], [71, 71], [72, 71], [73, 70], [74, 70], [75, 70], [76, 70], [77, 69], [78, 69], [79, 69], [80, 69], [80, 68], [80, 67], [80, 66], [80, 65]]\n",
            "[[54.285714285714285, 42.095238095238095], [55.57142857142857, 43.19047619047619], [56.857142857142854, 44.285714285714285], [58.142857142857146, 45.38095238095238], [59.42857142857143, 46.476190476190474], [60.714285714285715, 47.57142857142857], [62.0001, 48.666666666666664], [63.285714285714285, 49.76190476190476], [64.57142857142857, 50.857142857142854], [65.85714285714286, 51.95238095238095], [67.14285714285714, 53.04761904761905], [68.42857142857143, 54.142857142857146], [69.71428571428571, 55.23809523809524], [71.0001, 56.333333333333336], [72.28571428571429, 57.42857142857143], [73.57142857142857, 58.523809523809526], [74.85714285714286, 59.61904761904762], [76.14285714285714, 60.714285714285715], [77.42857142857143, 61.80952380952381], [78.71428571428571, 62.904761904761905]]\n",
            "[[53, 44], [53, 47], [54, 48], [54, 51], [55, 52], [56, 55], [56, 56], [57, 58], [57, 60], [58, 62], [58, 64], [58, 67], [58, 69], [59, 71], [61, 71], [63, 71], [66, 71], [68, 71], [70, 71], [72, 71]]\n",
            "[[65, 30], [66, 31], [68, 33], [69, 34], [70, 35], [71, 36], [72, 37], [73, 39], [74, 41], [75, 43], [75, 44], [76, 46], [77, 47], [78, 50], [78, 51], [79, 53], [79, 55], [79, 58], [80, 59], [80, 62]]\n"
          ],
          "name": "stdout"
        },
        {
          "output_type": "display_data",
          "data": {
            "image/png": "[encoded data removed]",
            "text/plain": [
              "<PIL.Image.Image image mode=RGB size=112x112 at 0x7F17E8040208>"
            ]
          },
          "metadata": {
            "tags": []
          }
        },
        {
          "output_type": "stream",
          "text": [
            "[[80, 63], [80, 62], [80, 61], [80, 60], [80, 59], [79, 58], [79, 57], [79, 56], [79, 55], [79, 54], [79, 53], [79, 52], [78, 51], [78, 50], [77, 49], [77, 48], [77, 47], [76, 46], [76, 45], [75, 44], [75, 43], [74, 42], [74, 41], [73, 40], [73, 39], [72, 38], [72, 37], [71, 36], [70, 35], [69, 34], [68, 33], [67, 32], [66, 31], [65, 30], [64, 29], [63, 29], [62, 29], [61, 29], [60, 29], [59, 29], [58, 29], [57, 29], [57, 30], [57, 31], [56, 32], [56, 33], [56, 34], [55, 35], [55, 36], [54, 37], [54, 38], [54, 39], [53, 40], [53, 41]]\n",
            "[[53, 42], [53, 43], [53, 44], [53, 45], [53, 46], [53, 47], [54, 48], [54, 49], [54, 50], [54, 51], [55, 52], [55, 53], [55, 54], [56, 55], [56, 56], [57, 57], [57, 58], [57, 59], [57, 60], [58, 61], [58, 62], [58, 63], [58, 64], [58, 65], [58, 66], [58, 67], [58, 68], [58, 69], [59, 70], [59, 71], [60, 71], [61, 71], [62, 71], [63, 71], [64, 71], [65, 71], [66, 71], [67, 71], [68, 71], [69, 71], [70, 71], [71, 71], [72, 71], [73, 70], [74, 70], [75, 70], [76, 70], [77, 69], [78, 69], [79, 69], [80, 69], [80, 68], [80, 67], [80, 66], [80, 65], [80, 64]]\n",
            "[[54.285714285714285, 43.0001], [55.57142857142857, 44.0001], [56.857142857142854, 45.0001], [58.142857142857146, 46.0001], [59.42857142857143, 47.0001], [60.714285714285715, 48.0001], [62.0001, 49.0001], [63.285714285714285, 50.0001], [64.57142857142857, 51.0001], [65.85714285714286, 52.0001], [67.14285714285714, 53.0001], [68.42857142857143, 54.0001], [69.71428571428571, 55.0001], [71.0001, 56.0001], [72.28571428571429, 57.0001], [73.57142857142857, 58.0001], [74.85714285714286, 59.0001], [76.14285714285714, 60.0001], [77.42857142857143, 61.0001], [78.71428571428571, 62.0001]]\n",
            "[[53, 45], [54, 48], [54, 49], [55, 52], [55, 53], [56, 55], [57, 57], [57, 59], [58, 61], [58, 63], [58, 65], [58, 68], [59, 70], [60, 71], [62, 71], [64, 71], [66, 71], [68, 71], [70, 71], [72, 71]]\n",
            "[[65, 30], [66, 31], [67, 32], [69, 34], [70, 35], [71, 36], [72, 37], [73, 39], [74, 41], [74, 42], [75, 43], [76, 45], [77, 47], [77, 49], [78, 50], [79, 52], [79, 54], [79, 57], [80, 59], [80, 61]]\n"
          ],
          "name": "stdout"
        },
        {
          "output_type": "display_data",
          "data": {
            "image/png": "[encoded data removed]",
            "text/plain": [
              "<PIL.Image.Image image mode=RGB size=112x112 at 0x7F17E7FD73C8>"
            ]
          },
          "metadata": {
            "tags": []
          }
        },
        {
          "output_type": "stream",
          "text": [
            "[[80, 62], [80, 61], [80, 60], [80, 59], [79, 58], [79, 57], [79, 56], [79, 55], [79, 54], [79, 53], [79, 52], [78, 51], [78, 50], [77, 49], [77, 48], [77, 47], [76, 46], [76, 45], [75, 44], [75, 43], [74, 42], [74, 41], [73, 40], [73, 39], [72, 38], [72, 37], [71, 36], [70, 35], [69, 34], [68, 33], [67, 32], [66, 31], [65, 30], [64, 29], [63, 29], [62, 29], [61, 29], [60, 29], [59, 29], [58, 29], [57, 29], [57, 30], [57, 31], [56, 32], [56, 33], [56, 34], [55, 35], [55, 36], [54, 37], [54, 38], [54, 39], [53, 40], [53, 41], [53, 42]]\n",
            "[[53, 43], [53, 44], [53, 45], [53, 46], [53, 47], [54, 48], [54, 49], [54, 50], [54, 51], [55, 52], [55, 53], [55, 54], [56, 55], [56, 56], [57, 57], [57, 58], [57, 59], [57, 60], [58, 61], [58, 62], [58, 63], [58, 64], [58, 65], [58, 66], [58, 67], [58, 68], [58, 69], [59, 70], [59, 71], [60, 71], [61, 71], [62, 71], [63, 71], [64, 71], [65, 71], [66, 71], [67, 71], [68, 71], [69, 71], [70, 71], [71, 71], [72, 71], [73, 70], [74, 70], [75, 70], [76, 70], [77, 69], [78, 69], [79, 69], [80, 69], [80, 68], [80, 67], [80, 66], [80, 65], [80, 64], [80, 63]]\n",
            "[[54.285714285714285, 43.904761904761905], [55.57142857142857, 44.80952380952381], [56.857142857142854, 45.714285714285715], [58.142857142857146, 46.61904761904762], [59.42857142857143, 47.523809523809526], [60.714285714285715, 48.42857142857143], [62.0001, 49.333333333333336], [63.285714285714285, 50.23809523809524], [64.57142857142857, 51.142857142857146], [65.85714285714286, 52.04761904761905], [67.14285714285714, 52.95238095238095], [68.42857142857143, 53.857142857142854], [69.71428571428571, 54.76190476190476], [71.0001, 55.666666666666664], [72.28571428571429, 56.57142857142857], [73.57142857142857, 57.476190476190474], [74.85714285714286, 58.38095238095238], [76.14285714285714, 59.285714285714285], [77.42857142857143, 60.19047619047619], [78.71428571428571, 61.095238095238095]]\n",
            "[[53, 46], [54, 48], [54, 50], [55, 52], [55, 54], [56, 56], [57, 57], [57, 60], [58, 61], [58, 64], [58, 66], [58, 69], [59, 70], [61, 71], [63, 71], [65, 71], [66, 71], [68, 71], [70, 71], [72, 71]]\n",
            "[[65, 30], [66, 31], [67, 32], [68, 33], [69, 34], [71, 36], [72, 37], [72, 38], [73, 40], [74, 41], [75, 43], [76, 45], [76, 46], [77, 48], [78, 50], [79, 52], [79, 53], [79, 56], [79, 58], [80, 60]]\n"
          ],
          "name": "stdout"
        },
        {
          "output_type": "display_data",
          "data": {
            "image/png": "[encoded data removed]",
            "text/plain": [
              "<PIL.Image.Image image mode=RGB size=112x112 at 0x7F17E7FD73C8>"
            ]
          },
          "metadata": {
            "tags": []
          }
        },
        {
          "output_type": "stream",
          "text": [
            "[[80, 61], [80, 60], [80, 59], [79, 58], [79, 57], [79, 56], [79, 55], [79, 54], [79, 53], [79, 52], [78, 51], [78, 50], [77, 49], [77, 48], [77, 47], [76, 46], [76, 45], [75, 44], [75, 43], [74, 42], [74, 41], [73, 40], [73, 39], [72, 38], [72, 37], [71, 36], [70, 35], [69, 34], [68, 33], [67, 32], [66, 31], [65, 30], [64, 29], [63, 29], [62, 29], [61, 29], [60, 29], [59, 29], [58, 29], [57, 29], [57, 30], [57, 31], [56, 32], [56, 33], [56, 34], [55, 35], [55, 36], [54, 37], [54, 38], [54, 39], [53, 40], [53, 41], [53, 42], [53, 43]]\n",
            "[[53, 44], [53, 45], [53, 46], [53, 47], [54, 48], [54, 49], [54, 50], [54, 51], [55, 52], [55, 53], [55, 54], [56, 55], [56, 56], [57, 57], [57, 58], [57, 59], [57, 60], [58, 61], [58, 62], [58, 63], [58, 64], [58, 65], [58, 66], [58, 67], [58, 68], [58, 69], [59, 70], [59, 71], [60, 71], [61, 71], [62, 71], [63, 71], [64, 71], [65, 71], [66, 71], [67, 71], [68, 71], [69, 71], [70, 71], [71, 71], [72, 71], [73, 70], [74, 70], [75, 70], [76, 70], [77, 69], [78, 69], [79, 69], [80, 69], [80, 68], [80, 67], [80, 66], [80, 65], [80, 64], [80, 63], [80, 62]]\n",
            "[[54.285714285714285, 44.80952380952381], [55.57142857142857, 45.61904761904762], [56.857142857142854, 46.42857142857143], [58.142857142857146, 47.23809523809524], [59.42857142857143, 48.04761904761905], [60.714285714285715, 48.857142857142854], [62.0001, 49.666666666666664], [63.285714285714285, 50.476190476190474], [64.57142857142857, 51.285714285714285], [65.85714285714286, 52.095238095238095], [67.14285714285714, 52.904761904761905], [68.42857142857143, 53.714285714285715], [69.71428571428571, 54.523809523809526], [71.0001, 55.333333333333336], [72.28571428571429, 56.142857142857146], [73.57142857142857, 56.95238095238095], [74.85714285714286, 57.76190476190476], [76.14285714285714, 58.57142857142857], [77.42857142857143, 59.38095238095238], [78.71428571428571, 60.19047619047619]]\n",
            "[[53, 47], [54, 49], [54, 51], [55, 53], [56, 55], [57, 57], [57, 58], [58, 61], [58, 62], [58, 65], [58, 68], [59, 70], [60, 71], [62, 71], [63, 71], [65, 71], [67, 71], [69, 71], [71, 71], [72, 71]]\n",
            "[[65, 30], [66, 31], [67, 32], [68, 33], [69, 34], [70, 35], [71, 36], [72, 37], [73, 39], [74, 41], [75, 43], [75, 44], [76, 45], [77, 47], [77, 49], [78, 50], [79, 52], [79, 55], [79, 57], [80, 59]]\n"
          ],
          "name": "stdout"
        },
        {
          "output_type": "display_data",
          "data": {
            "image/png": "[encoded data removed]",
            "text/plain": [
              "<PIL.Image.Image image mode=RGB size=112x112 at 0x7F17E7FD7278>"
            ]
          },
          "metadata": {
            "tags": []
          }
        },
        {
          "output_type": "stream",
          "text": [
            "[[80, 60], [80, 59], [79, 58], [79, 57], [79, 56], [79, 55], [79, 54], [79, 53], [79, 52], [78, 51], [78, 50], [77, 49], [77, 48], [77, 47], [76, 46], [76, 45], [75, 44], [75, 43], [74, 42], [74, 41], [73, 40], [73, 39], [72, 38], [72, 37], [71, 36], [70, 35], [69, 34], [68, 33], [67, 32], [66, 31], [65, 30], [64, 29], [63, 29], [62, 29], [61, 29], [60, 29], [59, 29], [58, 29], [57, 29], [57, 30], [57, 31], [56, 32], [56, 33], [56, 34], [55, 35], [55, 36], [54, 37], [54, 38], [54, 39], [53, 40], [53, 41], [53, 42], [53, 43], [53, 44]]\n",
            "[[53, 45], [53, 46], [53, 47], [54, 48], [54, 49], [54, 50], [54, 51], [55, 52], [55, 53], [55, 54], [56, 55], [56, 56], [57, 57], [57, 58], [57, 59], [57, 60], [58, 61], [58, 62], [58, 63], [58, 64], [58, 65], [58, 66], [58, 67], [58, 68], [58, 69], [59, 70], [59, 71], [60, 71], [61, 71], [62, 71], [63, 71], [64, 71], [65, 71], [66, 71], [67, 71], [68, 71], [69, 71], [70, 71], [71, 71], [72, 71], [73, 70], [74, 70], [75, 70], [76, 70], [77, 69], [78, 69], [79, 69], [80, 69], [80, 68], [80, 67], [80, 66], [80, 65], [80, 64], [80, 63], [80, 62], [80, 61]]\n",
            "[[54.285714285714285, 45.714285714285715], [55.57142857142857, 46.42857142857143], [56.857142857142854, 47.142857142857146], [58.142857142857146, 47.857142857142854], [59.42857142857143, 48.57142857142857], [60.714285714285715, 49.285714285714285], [62.0001, 50.0001], [63.285714285714285, 50.714285714285715], [64.57142857142857, 51.42857142857143], [65.85714285714286, 52.142857142857146], [67.14285714285714, 52.857142857142854], [68.42857142857143, 53.57142857142857], [69.71428571428571, 54.285714285714285], [71.0001, 55.0001], [72.28571428571429, 55.714285714285715], [73.57142857142857, 56.42857142857143], [74.85714285714286, 57.142857142857146], [76.14285714285714, 57.857142857142854], [77.42857142857143, 58.57142857142857], [78.71428571428571, 59.285714285714285]]\n",
            "[[54, 48], [54, 50], [55, 52], [55, 54], [56, 55], [57, 57], [57, 60], [58, 61], [58, 64], [58, 67], [59, 70], [59, 71], [61, 71], [63, 71], [64, 71], [66, 71], [68, 71], [69, 71], [71, 71], [73, 70]]\n",
            "[[64, 29], [65, 30], [66, 31], [67, 32], [69, 34], [70, 35], [71, 36], [72, 37], [73, 39], [73, 40], [74, 41], [75, 43], [76, 45], [77, 47], [77, 48], [78, 50], [79, 52], [79, 53], [79, 56], [80, 59]]\n"
          ],
          "name": "stdout"
        },
        {
          "output_type": "display_data",
          "data": {
            "image/png": "[encoded data removed]",
            "text/plain": [
              "<PIL.Image.Image image mode=RGB size=112x112 at 0x7F17E7FD73C8>"
            ]
          },
          "metadata": {
            "tags": []
          }
        },
        {
          "output_type": "stream",
          "text": [
            "[[80, 59], [79, 58], [79, 57], [79, 56], [79, 55], [79, 54], [79, 53], [79, 52], [78, 51], [78, 50], [77, 49], [77, 48], [77, 47], [76, 46], [76, 45], [75, 44], [75, 43], [74, 42], [74, 41], [73, 40], [73, 39], [72, 38], [72, 37], [71, 36], [70, 35], [69, 34], [68, 33], [67, 32], [66, 31], [65, 30], [64, 29], [63, 29], [62, 29], [61, 29], [60, 29], [59, 29], [58, 29], [57, 29], [57, 30], [57, 31], [56, 32], [56, 33], [56, 34], [55, 35], [55, 36], [54, 37], [54, 38], [54, 39], [53, 40], [53, 41], [53, 42], [53, 43], [53, 44], [53, 45]]\n",
            "[[53, 46], [53, 47], [54, 48], [54, 49], [54, 50], [54, 51], [55, 52], [55, 53], [55, 54], [56, 55], [56, 56], [57, 57], [57, 58], [57, 59], [57, 60], [58, 61], [58, 62], [58, 63], [58, 64], [58, 65], [58, 66], [58, 67], [58, 68], [58, 69], [59, 70], [59, 71], [60, 71], [61, 71], [62, 71], [63, 71], [64, 71], [65, 71], [66, 71], [67, 71], [68, 71], [69, 71], [70, 71], [71, 71], [72, 71], [73, 70], [74, 70], [75, 70], [76, 70], [77, 69], [78, 69], [79, 69], [80, 69], [80, 68], [80, 67], [80, 66], [80, 65], [80, 64], [80, 63], [80, 62], [80, 61], [80, 60]]\n",
            "[[54.285714285714285, 46.61904761904762], [55.57142857142857, 47.23809523809524], [56.857142857142854, 47.857142857142854], [58.142857142857146, 48.476190476190474], [59.42857142857143, 49.095238095238095], [60.714285714285715, 49.714285714285715], [62.0001, 50.333333333333336], [63.285714285714285, 50.95238095238095], [64.57142857142857, 51.57142857142857], [65.85714285714286, 52.19047619047619], [67.14285714285714, 52.80952380952381], [68.42857142857143, 53.42857142857143], [69.71428571428571, 54.04761904761905], [71.0001, 54.666666666666664], [72.28571428571429, 55.285714285714285], [73.57142857142857, 55.904761904761905], [74.85714285714286, 56.523809523809526], [76.14285714285714, 57.142857142857146], [77.42857142857143, 57.76190476190476], [78.71428571428571, 58.38095238095238]]\n",
            "[[54, 48], [54, 51], [55, 52], [56, 55], [57, 57], [57, 58], [58, 61], [58, 62], [58, 66], [58, 69], [59, 70], [60, 71], [62, 71], [64, 71], [65, 71], [67, 71], [68, 71], [70, 71], [72, 71], [74, 70]]\n",
            "[[63, 29], [65, 30], [66, 31], [67, 32], [68, 33], [69, 34], [70, 35], [71, 36], [72, 37], [73, 39], [74, 41], [74, 42], [75, 44], [76, 45], [77, 47], [77, 49], [78, 50], [79, 52], [79, 55], [79, 58]]\n"
          ],
          "name": "stdout"
        },
        {
          "output_type": "display_data",
          "data": {
            "image/png": "[encoded data removed]",
            "text/plain": [
              "<PIL.Image.Image image mode=RGB size=112x112 at 0x7F17E7FD73C8>"
            ]
          },
          "metadata": {
            "tags": []
          }
        },
        {
          "output_type": "stream",
          "text": [
            "[[79, 58], [79, 57], [79, 56], [79, 55], [79, 54], [79, 53], [79, 52], [78, 51], [78, 50], [77, 49], [77, 48], [77, 47], [76, 46], [76, 45], [75, 44], [75, 43], [74, 42], [74, 41], [73, 40], [73, 39], [72, 38], [72, 37], [71, 36], [70, 35], [69, 34], [68, 33], [67, 32], [66, 31], [65, 30], [64, 29], [63, 29], [62, 29], [61, 29], [60, 29], [59, 29], [58, 29], [57, 29], [57, 30], [57, 31], [56, 32], [56, 33], [56, 34], [55, 35], [55, 36], [54, 37], [54, 38], [54, 39], [53, 40], [53, 41], [53, 42], [53, 43], [53, 44], [53, 45], [53, 46]]\n",
            "[[53, 47], [54, 48], [54, 49], [54, 50], [54, 51], [55, 52], [55, 53], [55, 54], [56, 55], [56, 56], [57, 57], [57, 58], [57, 59], [57, 60], [58, 61], [58, 62], [58, 63], [58, 64], [58, 65], [58, 66], [58, 67], [58, 68], [58, 69], [59, 70], [59, 71], [60, 71], [61, 71], [62, 71], [63, 71], [64, 71], [65, 71], [66, 71], [67, 71], [68, 71], [69, 71], [70, 71], [71, 71], [72, 71], [73, 70], [74, 70], [75, 70], [76, 70], [77, 69], [78, 69], [79, 69], [80, 69], [80, 68], [80, 67], [80, 66], [80, 65], [80, 64], [80, 63], [80, 62], [80, 61], [80, 60], [80, 59]]\n",
            "[[54.23809523809524, 47.523809523809526], [55.476190476190474, 48.04761904761905], [56.714285714285715, 48.57142857142857], [57.95238095238095, 49.095238095238095], [59.19047619047619, 49.61904761904762], [60.42857142857143, 50.142857142857146], [61.666666666666664, 50.666666666666664], [62.904761904761905, 51.19047619047619], [64.14285714285714, 51.714285714285715], [65.38095238095238, 52.23809523809524], [66.61904761904762, 52.76190476190476], [67.85714285714286, 53.285714285714285], [69.0952380952381, 53.80952380952381], [70.33333333333333, 54.333333333333336], [71.57142857142857, 54.857142857142854], [72.80952380952381, 55.38095238095238], [74.04761904761905, 55.904761904761905], [75.28571428571429, 56.42857142857143], [76.52380952380952, 56.95238095238095], [77.76190476190476, 57.476190476190474]]\n",
            "[[54, 49], [55, 52], [55, 53], [56, 55], [57, 57], [57, 59], [58, 61], [58, 63], [58, 67], [59, 70], [59, 71], [61, 71], [62, 71], [64, 71], [65, 71], [67, 71], [68, 71], [70, 71], [71, 71], [73, 70]]\n",
            "[[63, 29], [64, 29], [65, 30], [66, 31], [67, 32], [68, 33], [69, 34], [70, 35], [71, 36], [72, 37], [73, 39], [74, 41], [75, 43], [75, 44], [76, 45], [77, 47], [77, 49], [78, 51], [79, 52], [79, 55]]\n"
          ],
          "name": "stdout"
        },
        {
          "output_type": "display_data",
          "data": {
            "image/png": "[encoded data removed]",
            "text/plain": [
              "<PIL.Image.Image image mode=RGB size=112x112 at 0x7F17E7FD7320>"
            ]
          },
          "metadata": {
            "tags": []
          }
        },
        {
          "output_type": "stream",
          "text": [
            "[[79, 57], [79, 56], [79, 55], [79, 54], [79, 53], [79, 52], [78, 51], [78, 50], [77, 49], [77, 48], [77, 47], [76, 46], [76, 45], [75, 44], [75, 43], [74, 42], [74, 41], [73, 40], [73, 39], [72, 38], [72, 37], [71, 36], [70, 35], [69, 34], [68, 33], [67, 32], [66, 31], [65, 30], [64, 29], [63, 29], [62, 29], [61, 29], [60, 29], [59, 29], [58, 29], [57, 29], [57, 30], [57, 31], [56, 32], [56, 33], [56, 34], [55, 35], [55, 36], [54, 37], [54, 38], [54, 39], [53, 40], [53, 41], [53, 42], [53, 43], [53, 44], [53, 45], [53, 46], [53, 47]]\n",
            "[[54, 48], [54, 49], [54, 50], [54, 51], [55, 52], [55, 53], [55, 54], [56, 55], [56, 56], [57, 57], [57, 58], [57, 59], [57, 60], [58, 61], [58, 62], [58, 63], [58, 64], [58, 65], [58, 66], [58, 67], [58, 68], [58, 69], [59, 70], [59, 71], [60, 71], [61, 71], [62, 71], [63, 71], [64, 71], [65, 71], [66, 71], [67, 71], [68, 71], [69, 71], [70, 71], [71, 71], [72, 71], [73, 70], [74, 70], [75, 70], [76, 70], [77, 69], [78, 69], [79, 69], [80, 69], [80, 68], [80, 67], [80, 66], [80, 65], [80, 64], [80, 63], [80, 62], [80, 61], [80, 60], [80, 59], [79, 58]]\n",
            "[[55.19047619047619, 48.42857142857143], [56.38095238095238, 48.857142857142854], [57.57142857142857, 49.285714285714285], [58.76190476190476, 49.714285714285715], [59.95238095238095, 50.142857142857146], [61.142857142857146, 50.57142857142857], [62.333333333333336, 51.0001], [63.523809523809526, 51.42857142857143], [64.71428571428571, 51.857142857142854], [65.9047619047619, 52.285714285714285], [67.0952380952381, 52.714285714285715], [68.28571428571429, 53.142857142857146], [69.47619047619048, 53.57142857142857], [70.66666666666667, 54.0001], [71.85714285714286, 54.42857142857143], [73.04761904761905, 54.857142857142854], [74.23809523809524, 55.285714285714285], [75.42857142857143, 55.714285714285715], [76.61904761904762, 56.142857142857146], [77.80952380952381, 56.57142857142857]]\n",
            "[[55, 52], [55, 53], [56, 55], [57, 57], [57, 59], [58, 61], [58, 64], [58, 67], [59, 70], [60, 71], [61, 71], [62, 71], [64, 71], [65, 71], [66, 71], [68, 71], [69, 71], [70, 71], [72, 71], [73, 70]]\n",
            "[[63, 29], [64, 29], [65, 30], [66, 31], [67, 32], [68, 33], [69, 34], [70, 35], [71, 36], [72, 37], [73, 39], [74, 41], [74, 42], [75, 43], [76, 45], [77, 47], [77, 48], [78, 50], [79, 52], [79, 54]]\n"
          ],
          "name": "stdout"
        },
        {
          "output_type": "display_data",
          "data": {
            "image/png": "[encoded data removed]",
            "text/plain": [
              "<PIL.Image.Image image mode=RGB size=112x112 at 0x7F17E7FD7320>"
            ]
          },
          "metadata": {
            "tags": []
          }
        },
        {
          "output_type": "stream",
          "text": [
            "[[79, 56], [79, 55], [79, 54], [79, 53], [79, 52], [78, 51], [78, 50], [77, 49], [77, 48], [77, 47], [76, 46], [76, 45], [75, 44], [75, 43], [74, 42], [74, 41], [73, 40], [73, 39], [72, 38], [72, 37], [71, 36], [70, 35], [69, 34], [68, 33], [67, 32], [66, 31], [65, 30], [64, 29], [63, 29], [62, 29], [61, 29], [60, 29], [59, 29], [58, 29], [57, 29], [57, 30], [57, 31], [56, 32], [56, 33], [56, 34], [55, 35], [55, 36], [54, 37], [54, 38], [54, 39], [53, 40], [53, 41], [53, 42], [53, 43], [53, 44], [53, 45], [53, 46], [53, 47], [54, 48]]\n",
            "[[54, 49], [54, 50], [54, 51], [55, 52], [55, 53], [55, 54], [56, 55], [56, 56], [57, 57], [57, 58], [57, 59], [57, 60], [58, 61], [58, 62], [58, 63], [58, 64], [58, 65], [58, 66], [58, 67], [58, 68], [58, 69], [59, 70], [59, 71], [60, 71], [61, 71], [62, 71], [63, 71], [64, 71], [65, 71], [66, 71], [67, 71], [68, 71], [69, 71], [70, 71], [71, 71], [72, 71], [73, 70], [74, 70], [75, 70], [76, 70], [77, 69], [78, 69], [79, 69], [80, 69], [80, 68], [80, 67], [80, 66], [80, 65], [80, 64], [80, 63], [80, 62], [80, 61], [80, 60], [80, 59], [79, 58], [79, 57]]\n",
            "[[55.19047619047619, 49.333333333333336], [56.38095238095238, 49.666666666666664], [57.57142857142857, 50.0001], [58.76190476190476, 50.333333333333336], [59.95238095238095, 50.666666666666664], [61.142857142857146, 51.0001], [62.333333333333336, 51.333333333333336], [63.523809523809526, 51.666666666666664], [64.71428571428571, 52.0001], [65.9047619047619, 52.333333333333336], [67.0952380952381, 52.666666666666664], [68.28571428571429, 53.0001], [69.47619047619048, 53.333333333333336], [70.66666666666667, 53.666666666666664], [71.85714285714286, 54.0001], [73.04761904761905, 54.333333333333336], [74.23809523809524, 54.666666666666664], [75.42857142857143, 55.0001], [76.61904761904762, 55.333333333333336], [77.80952380952381, 55.666666666666664]]\n",
            "[[55, 52], [56, 55], [56, 56], [57, 57], [58, 61], [58, 63], [58, 67], [59, 70], [60, 71], [61, 71], [62, 71], [64, 71], [65, 71], [66, 71], [68, 71], [69, 71], [70, 71], [71, 71], [73, 70], [74, 70]]\n",
            "[[61, 29], [63, 29], [64, 29], [65, 30], [66, 31], [67, 32], [68, 33], [69, 34], [70, 35], [71, 36], [72, 37], [73, 39], [74, 41], [74, 42], [75, 43], [76, 45], [77, 47], [78, 50], [78, 51], [79, 52]]\n"
          ],
          "name": "stdout"
        },
        {
          "output_type": "display_data",
          "data": {
            "image/png": "[encoded data removed]",
            "text/plain": [
              "<PIL.Image.Image image mode=RGB size=112x112 at 0x7F17E7FD73C8>"
            ]
          },
          "metadata": {
            "tags": []
          }
        },
        {
          "output_type": "stream",
          "text": [
            "[[79, 55], [79, 54], [79, 53], [79, 52], [78, 51], [78, 50], [77, 49], [77, 48], [77, 47], [76, 46], [76, 45], [75, 44], [75, 43], [74, 42], [74, 41], [73, 40], [73, 39], [72, 38], [72, 37], [71, 36], [70, 35], [69, 34], [68, 33], [67, 32], [66, 31], [65, 30], [64, 29], [63, 29], [62, 29], [61, 29], [60, 29], [59, 29], [58, 29], [57, 29], [57, 30], [57, 31], [56, 32], [56, 33], [56, 34], [55, 35], [55, 36], [54, 37], [54, 38], [54, 39], [53, 40], [53, 41], [53, 42], [53, 43], [53, 44], [53, 45], [53, 46], [53, 47], [54, 48], [54, 49]]\n",
            "[[54, 50], [54, 51], [55, 52], [55, 53], [55, 54], [56, 55], [56, 56], [57, 57], [57, 58], [57, 59], [57, 60], [58, 61], [58, 62], [58, 63], [58, 64], [58, 65], [58, 66], [58, 67], [58, 68], [58, 69], [59, 70], [59, 71], [60, 71], [61, 71], [62, 71], [63, 71], [64, 71], [65, 71], [66, 71], [67, 71], [68, 71], [69, 71], [70, 71], [71, 71], [72, 71], [73, 70], [74, 70], [75, 70], [76, 70], [77, 69], [78, 69], [79, 69], [80, 69], [80, 68], [80, 67], [80, 66], [80, 65], [80, 64], [80, 63], [80, 62], [80, 61], [80, 60], [80, 59], [79, 58], [79, 57], [79, 56]]\n",
            "[[55.19047619047619, 50.23809523809524], [56.38095238095238, 50.476190476190474], [57.57142857142857, 50.714285714285715], [58.76190476190476, 50.95238095238095], [59.95238095238095, 51.19047619047619], [61.142857142857146, 51.42857142857143], [62.333333333333336, 51.666666666666664], [63.523809523809526, 51.904761904761905], [64.71428571428571, 52.142857142857146], [65.9047619047619, 52.38095238095238], [67.0952380952381, 52.61904761904762], [68.28571428571429, 52.857142857142854], [69.47619047619048, 53.095238095238095], [70.66666666666667, 53.333333333333336], [71.85714285714286, 53.57142857142857], [73.04761904761905, 53.80952380952381], [74.23809523809524, 54.04761904761905], [75.42857142857143, 54.285714285714285], [76.61904761904762, 54.523809523809526], [77.80952380952381, 54.76190476190476]]\n",
            "[[55, 52], [56, 55], [57, 57], [57, 60], [58, 61], [58, 68], [59, 70], [60, 71], [61, 71], [63, 71], [64, 71], [65, 71], [66, 71], [68, 71], [69, 71], [70, 71], [71, 71], [73, 70], [74, 70], [75, 70]]\n",
            "[[60, 29], [61, 29], [62, 29], [64, 29], [65, 30], [66, 31], [67, 32], [68, 33], [69, 34], [70, 35], [71, 36], [72, 37], [73, 39], [74, 41], [75, 43], [76, 45], [76, 46], [77, 47], [78, 50], [79, 52]]\n"
          ],
          "name": "stdout"
        },
        {
          "output_type": "display_data",
          "data": {
            "image/png": "[encoded data removed]",
            "text/plain": [
              "<PIL.Image.Image image mode=RGB size=112x112 at 0x7F17E7FD73C8>"
            ]
          },
          "metadata": {
            "tags": []
          }
        },
        {
          "output_type": "stream",
          "text": [
            "[[79, 54], [79, 53], [79, 52], [78, 51], [78, 50], [77, 49], [77, 48], [77, 47], [76, 46], [76, 45], [75, 44], [75, 43], [74, 42], [74, 41], [73, 40], [73, 39], [72, 38], [72, 37], [71, 36], [70, 35], [69, 34], [68, 33], [67, 32], [66, 31], [65, 30], [64, 29], [63, 29], [62, 29], [61, 29], [60, 29], [59, 29], [58, 29], [57, 29], [57, 30], [57, 31], [56, 32], [56, 33], [56, 34], [55, 35], [55, 36], [54, 37], [54, 38], [54, 39], [53, 40], [53, 41], [53, 42], [53, 43], [53, 44], [53, 45], [53, 46], [53, 47], [54, 48], [54, 49], [54, 50]]\n",
            "[[54, 51], [55, 52], [55, 53], [55, 54], [56, 55], [56, 56], [57, 57], [57, 58], [57, 59], [57, 60], [58, 61], [58, 62], [58, 63], [58, 64], [58, 65], [58, 66], [58, 67], [58, 68], [58, 69], [59, 70], [59, 71], [60, 71], [61, 71], [62, 71], [63, 71], [64, 71], [65, 71], [66, 71], [67, 71], [68, 71], [69, 71], [70, 71], [71, 71], [72, 71], [73, 70], [74, 70], [75, 70], [76, 70], [77, 69], [78, 69], [79, 69], [80, 69], [80, 68], [80, 67], [80, 66], [80, 65], [80, 64], [80, 63], [80, 62], [80, 61], [80, 60], [80, 59], [79, 58], [79, 57], [79, 56], [79, 55]]\n",
            "[[55.19047619047619, 51.142857142857146], [56.38095238095238, 51.285714285714285], [57.57142857142857, 51.42857142857143], [58.76190476190476, 51.57142857142857], [59.95238095238095, 51.714285714285715], [61.142857142857146, 51.857142857142854], [62.333333333333336, 52.0001], [63.523809523809526, 52.142857142857146], [64.71428571428571, 52.285714285714285], [65.9047619047619, 52.42857142857143], [67.0952380952381, 52.57142857142857], [68.28571428571429, 52.714285714285715], [69.47619047619048, 52.857142857142854], [70.66666666666667, 53.0001], [71.85714285714286, 53.142857142857146], [73.04761904761905, 53.285714285714285], [74.23809523809524, 53.42857142857143], [75.42857142857143, 53.57142857142857], [76.61904761904762, 53.714285714285715], [77.80952380952381, 53.857142857142854]]\n",
            "[[55, 53], [56, 55], [57, 57], [58, 61], [58, 68], [59, 70], [61, 71], [62, 71], [63, 71], [64, 71], [65, 71], [67, 71], [68, 71], [69, 71], [70, 71], [71, 71], [73, 70], [74, 70], [75, 70], [76, 70]]\n",
            "[[58, 29], [60, 29], [61, 29], [62, 29], [63, 29], [64, 29], [65, 30], [67, 32], [68, 33], [69, 34], [70, 35], [71, 36], [72, 37], [73, 39], [74, 41], [75, 43], [76, 45], [77, 47], [78, 50], [79, 52]]\n"
          ],
          "name": "stdout"
        },
        {
          "output_type": "display_data",
          "data": {
            "image/png": "[encoded data removed]",
            "text/plain": [
              "<PIL.Image.Image image mode=RGB size=112x112 at 0x7F17E7FD73C8>"
            ]
          },
          "metadata": {
            "tags": []
          }
        },
        {
          "output_type": "stream",
          "text": [
            "[[79, 53], [79, 52], [78, 51], [78, 50], [77, 49], [77, 48], [77, 47], [76, 46], [76, 45], [75, 44], [75, 43], [74, 42], [74, 41], [73, 40], [73, 39], [72, 38], [72, 37], [71, 36], [70, 35], [69, 34], [68, 33], [67, 32], [66, 31], [65, 30], [64, 29], [63, 29], [62, 29], [61, 29], [60, 29], [59, 29], [58, 29], [57, 29], [57, 30], [57, 31], [56, 32], [56, 33], [56, 34], [55, 35], [55, 36], [54, 37], [54, 38], [54, 39], [53, 40], [53, 41], [53, 42], [53, 43], [53, 44], [53, 45], [53, 46], [53, 47], [54, 48], [54, 49], [54, 50], [54, 51]]\n",
            "[[55, 52], [55, 53], [55, 54], [56, 55], [56, 56], [57, 57], [57, 58], [57, 59], [57, 60], [58, 61], [58, 62], [58, 63], [58, 64], [58, 65], [58, 66], [58, 67], [58, 68], [58, 69], [59, 70], [59, 71], [60, 71], [61, 71], [62, 71], [63, 71], [64, 71], [65, 71], [66, 71], [67, 71], [68, 71], [69, 71], [70, 71], [71, 71], [72, 71], [73, 70], [74, 70], [75, 70], [76, 70], [77, 69], [78, 69], [79, 69], [80, 69], [80, 68], [80, 67], [80, 66], [80, 65], [80, 64], [80, 63], [80, 62], [80, 61], [80, 60], [80, 59], [79, 58], [79, 57], [79, 56], [79, 55], [79, 54]]\n",
            "[[56.142857142857146, 52.04761904761905], [57.285714285714285, 52.095238095238095], [58.42857142857143, 52.142857142857146], [59.57142857142857, 52.19047619047619], [60.714285714285715, 52.23809523809524], [61.857142857142854, 52.285714285714285], [63.0001, 52.333333333333336], [64.14285714285714, 52.38095238095238], [65.28571428571429, 52.42857142857143], [66.42857142857143, 52.476190476190474], [67.57142857142857, 52.523809523809526], [68.71428571428571, 52.57142857142857], [69.85714285714286, 52.61904761904762], [71.0001, 52.666666666666664], [72.14285714285714, 52.714285714285715], [73.28571428571429, 52.76190476190476], [74.42857142857143, 52.80952380952381], [75.57142857142857, 52.857142857142854], [76.71428571428571, 52.904761904761905], [77.85714285714286, 52.95238095238095]]\n",
            "[[55, 53], [55, 54], [58, 63], [59, 70], [60, 71], [62, 71], [63, 71], [64, 71], [65, 71], [66, 71], [67, 71], [68, 71], [70, 71], [71, 71], [72, 71], [73, 70], [74, 70], [75, 70], [77, 69], [78, 69]]\n",
            "[[57, 31], [58, 29], [59, 29], [60, 29], [61, 29], [62, 29], [64, 29], [65, 30], [66, 31], [67, 32], [68, 33], [69, 34], [70, 35], [72, 37], [73, 39], [74, 41], [75, 43], [76, 45], [77, 47], [78, 50]]\n"
          ],
          "name": "stdout"
        },
        {
          "output_type": "display_data",
          "data": {
            "image/png": "[encoded data removed]",
            "text/plain": [
              "<PIL.Image.Image image mode=RGB size=112x112 at 0x7F17E7FD73C8>"
            ]
          },
          "metadata": {
            "tags": []
          }
        },
        {
          "output_type": "stream",
          "text": [
            "[[79, 52], [78, 51], [78, 50], [77, 49], [77, 48], [77, 47], [76, 46], [76, 45], [75, 44], [75, 43], [74, 42], [74, 41], [73, 40], [73, 39], [72, 38], [72, 37], [71, 36], [70, 35], [69, 34], [68, 33], [67, 32], [66, 31], [65, 30], [64, 29], [63, 29], [62, 29], [61, 29], [60, 29], [59, 29], [58, 29], [57, 29], [57, 30], [57, 31], [56, 32], [56, 33], [56, 34], [55, 35], [55, 36], [54, 37], [54, 38], [54, 39], [53, 40], [53, 41], [53, 42], [53, 43], [53, 44], [53, 45], [53, 46], [53, 47], [54, 48], [54, 49], [54, 50], [54, 51], [55, 52]]\n",
            "[[55, 53], [55, 54], [56, 55], [56, 56], [57, 57], [57, 58], [57, 59], [57, 60], [58, 61], [58, 62], [58, 63], [58, 64], [58, 65], [58, 66], [58, 67], [58, 68], [58, 69], [59, 70], [59, 71], [60, 71], [61, 71], [62, 71], [63, 71], [64, 71], [65, 71], [66, 71], [67, 71], [68, 71], [69, 71], [70, 71], [71, 71], [72, 71], [73, 70], [74, 70], [75, 70], [76, 70], [77, 69], [78, 69], [79, 69], [80, 69], [80, 68], [80, 67], [80, 66], [80, 65], [80, 64], [80, 63], [80, 62], [80, 61], [80, 60], [80, 59], [79, 58], [79, 57], [79, 56], [79, 55], [79, 54], [79, 53]]\n",
            "[[56.142857142857146, 52.95238095238095], [57.285714285714285, 52.904761904761905], [58.42857142857143, 52.857142857142854], [59.57142857142857, 52.80952380952381], [60.714285714285715, 52.76190476190476], [61.857142857142854, 52.714285714285715], [63.0001, 52.666666666666664], [64.14285714285714, 52.61904761904762], [65.28571428571429, 52.57142857142857], [66.42857142857143, 52.523809523809526], [67.57142857142857, 52.476190476190474], [68.71428571428571, 52.42857142857143], [69.85714285714286, 52.38095238095238], [71.0001, 52.333333333333336], [72.14285714285714, 52.285714285714285], [73.28571428571429, 52.23809523809524], [74.42857142857143, 52.19047619047619], [75.57142857142857, 52.142857142857146], [76.71428571428571, 52.095238095238095], [77.85714285714286, 52.04761904761905]]\n",
            "[[57, 57], [58, 61], [59, 70], [60, 71], [61, 71], [62, 71], [64, 71], [65, 71], [66, 71], [67, 71], [68, 71], [69, 71], [70, 71], [72, 71], [73, 70], [74, 70], [75, 70], [76, 70], [77, 69], [78, 69]]\n",
            "[[55, 52], [57, 31], [58, 29], [59, 29], [60, 29], [61, 29], [63, 29], [64, 29], [65, 30], [66, 31], [67, 32], [68, 33], [70, 35], [71, 36], [72, 37], [73, 39], [74, 41], [76, 45], [77, 47], [78, 50]]\n"
          ],
          "name": "stdout"
        },
        {
          "output_type": "display_data",
          "data": {
            "image/png": "[encoded data removed]",
            "text/plain": [
              "<PIL.Image.Image image mode=RGB size=112x112 at 0x7F17E7FD73C8>"
            ]
          },
          "metadata": {
            "tags": []
          }
        },
        {
          "output_type": "stream",
          "text": [
            "[[78, 51], [78, 50], [77, 49], [77, 48], [77, 47], [76, 46], [76, 45], [75, 44], [75, 43], [74, 42], [74, 41], [73, 40], [73, 39], [72, 38], [72, 37], [71, 36], [70, 35], [69, 34], [68, 33], [67, 32], [66, 31], [65, 30], [64, 29], [63, 29], [62, 29], [61, 29], [60, 29], [59, 29], [58, 29], [57, 29], [57, 30], [57, 31], [56, 32], [56, 33], [56, 34], [55, 35], [55, 36], [54, 37], [54, 38], [54, 39], [53, 40], [53, 41], [53, 42], [53, 43], [53, 44], [53, 45], [53, 46], [53, 47], [54, 48], [54, 49], [54, 50], [54, 51], [55, 52], [55, 53]]\n",
            "[[55, 54], [56, 55], [56, 56], [57, 57], [57, 58], [57, 59], [57, 60], [58, 61], [58, 62], [58, 63], [58, 64], [58, 65], [58, 66], [58, 67], [58, 68], [58, 69], [59, 70], [59, 71], [60, 71], [61, 71], [62, 71], [63, 71], [64, 71], [65, 71], [66, 71], [67, 71], [68, 71], [69, 71], [70, 71], [71, 71], [72, 71], [73, 70], [74, 70], [75, 70], [76, 70], [77, 69], [78, 69], [79, 69], [80, 69], [80, 68], [80, 67], [80, 66], [80, 65], [80, 64], [80, 63], [80, 62], [80, 61], [80, 60], [80, 59], [79, 58], [79, 57], [79, 56], [79, 55], [79, 54], [79, 53], [79, 52]]\n",
            "[[56.095238095238095, 53.857142857142854], [57.19047619047619, 53.714285714285715], [58.285714285714285, 53.57142857142857], [59.38095238095238, 53.42857142857143], [60.476190476190474, 53.285714285714285], [61.57142857142857, 53.142857142857146], [62.666666666666664, 53.0001], [63.76190476190476, 52.857142857142854], [64.85714285714286, 52.714285714285715], [65.95238095238095, 52.57142857142857], [67.04761904761905, 52.42857142857143], [68.14285714285714, 52.285714285714285], [69.23809523809524, 52.142857142857146], [70.33333333333333, 52.0001], [71.42857142857143, 51.857142857142854], [72.52380952380952, 51.714285714285715], [73.61904761904762, 51.57142857142857], [74.71428571428571, 51.42857142857143], [75.80952380952381, 51.285714285714285], [76.9047619047619, 51.142857142857146]]\n",
            "[[58, 69], [60, 71], [61, 71], [62, 71], [63, 71], [64, 71], [66, 71], [67, 71], [68, 71], [69, 71], [70, 71], [71, 71], [72, 71], [73, 70], [74, 70], [75, 70], [77, 69], [78, 69], [79, 69], [80, 69]]\n",
            "[[54, 37], [55, 36], [56, 34], [57, 31], [58, 29], [59, 29], [60, 29], [61, 29], [62, 29], [63, 29], [64, 29], [66, 31], [67, 32], [68, 33], [70, 35], [71, 36], [72, 37], [74, 41], [75, 43], [78, 51]]\n"
          ],
          "name": "stdout"
        },
        {
          "output_type": "display_data",
          "data": {
            "image/png": "[encoded data removed]",
            "text/plain": [
              "<PIL.Image.Image image mode=RGB size=112x112 at 0x7F17E7FD73C8>"
            ]
          },
          "metadata": {
            "tags": []
          }
        },
        {
          "output_type": "stream",
          "text": [
            "[[78, 50], [77, 49], [77, 48], [77, 47], [76, 46], [76, 45], [75, 44], [75, 43], [74, 42], [74, 41], [73, 40], [73, 39], [72, 38], [72, 37], [71, 36], [70, 35], [69, 34], [68, 33], [67, 32], [66, 31], [65, 30], [64, 29], [63, 29], [62, 29], [61, 29], [60, 29], [59, 29], [58, 29], [57, 29], [57, 30], [57, 31], [56, 32], [56, 33], [56, 34], [55, 35], [55, 36], [54, 37], [54, 38], [54, 39], [53, 40], [53, 41], [53, 42], [53, 43], [53, 44], [53, 45], [53, 46], [53, 47], [54, 48], [54, 49], [54, 50], [54, 51], [55, 52], [55, 53], [55, 54]]\n",
            "[[56, 55], [56, 56], [57, 57], [57, 58], [57, 59], [57, 60], [58, 61], [58, 62], [58, 63], [58, 64], [58, 65], [58, 66], [58, 67], [58, 68], [58, 69], [59, 70], [59, 71], [60, 71], [61, 71], [62, 71], [63, 71], [64, 71], [65, 71], [66, 71], [67, 71], [68, 71], [69, 71], [70, 71], [71, 71], [72, 71], [73, 70], [74, 70], [75, 70], [76, 70], [77, 69], [78, 69], [79, 69], [80, 69], [80, 68], [80, 67], [80, 66], [80, 65], [80, 64], [80, 63], [80, 62], [80, 61], [80, 60], [80, 59], [79, 58], [79, 57], [79, 56], [79, 55], [79, 54], [79, 53], [79, 52], [78, 51]]\n",
            "[[57.04761904761905, 54.76190476190476], [58.095238095238095, 54.523809523809526], [59.142857142857146, 54.285714285714285], [60.19047619047619, 54.04761904761905], [61.23809523809524, 53.80952380952381], [62.285714285714285, 53.57142857142857], [63.333333333333336, 53.333333333333336], [64.38095238095238, 53.095238095238095], [65.42857142857143, 52.857142857142854], [66.47619047619048, 52.61904761904762], [67.52380952380952, 52.38095238095238], [68.57142857142857, 52.142857142857146], [69.61904761904762, 51.904761904761905], [70.66666666666667, 51.666666666666664], [71.71428571428571, 51.42857142857143], [72.76190476190476, 51.19047619047619], [73.80952380952381, 50.95238095238095], [74.85714285714286, 50.714285714285715], [75.9047619047619, 50.476190476190474], [76.95238095238095, 50.23809523809524]]\n",
            "[[61, 71], [62, 71], [63, 71], [65, 71], [66, 71], [67, 71], [68, 71], [69, 71], [70, 71], [71, 71], [72, 71], [73, 70], [74, 70], [75, 70], [76, 70], [77, 69], [78, 69], [80, 69], [80, 68], [80, 63]]\n",
            "[[54, 39], [55, 36], [55, 35], [56, 34], [57, 31], [57, 30], [58, 29], [59, 29], [61, 29], [62, 29], [63, 29], [64, 29], [65, 30], [66, 31], [68, 33], [69, 34], [71, 36], [72, 37], [74, 41], [76, 45]]\n"
          ],
          "name": "stdout"
        },
        {
          "output_type": "display_data",
          "data": {
            "image/png": "[encoded data removed]",
            "text/plain": [
              "<PIL.Image.Image image mode=RGB size=112x112 at 0x7F17E7FD73C8>"
            ]
          },
          "metadata": {
            "tags": []
          }
        },
        {
          "output_type": "stream",
          "text": [
            "[[56, 55], [55, 54], [55, 53], [55, 52], [54, 51], [54, 50], [54, 49], [54, 48], [53, 47], [53, 46], [53, 45], [53, 44], [53, 43], [53, 42], [53, 41], [53, 40], [54, 39], [54, 38], [54, 37], [55, 36], [55, 35], [56, 34], [56, 33], [56, 32], [57, 31], [57, 30], [57, 29], [58, 29], [59, 29], [60, 29], [61, 29], [62, 29], [63, 29], [64, 29], [65, 30], [66, 31], [67, 32], [68, 33], [69, 34], [70, 35], [71, 36], [72, 37], [72, 38], [73, 39], [73, 40], [74, 41], [74, 42], [75, 43], [75, 44], [76, 45], [76, 46], [77, 47], [77, 48], [77, 49]]\n",
            "[[56, 56], [57, 57], [57, 58], [57, 59], [57, 60], [58, 61], [58, 62], [58, 63], [58, 64], [58, 65], [58, 66], [58, 67], [58, 68], [58, 69], [59, 70], [59, 71], [60, 71], [61, 71], [62, 71], [63, 71], [64, 71], [65, 71], [66, 71], [67, 71], [68, 71], [69, 71], [70, 71], [71, 71], [72, 71], [73, 70], [74, 70], [75, 70], [76, 70], [77, 69], [78, 69], [79, 69], [80, 69], [80, 68], [80, 67], [80, 66], [80, 65], [80, 64], [80, 63], [80, 62], [80, 61], [80, 60], [80, 59], [79, 58], [79, 57], [79, 56], [79, 55], [79, 54], [79, 53], [79, 52], [78, 51], [78, 50]]\n",
            "[[57.0001, 55.666666666666664], [58.0001, 55.333333333333336], [59.0001, 55.0001], [60.0001, 54.666666666666664], [61.0001, 54.333333333333336], [62.0001, 54.0001], [63.0001, 53.666666666666664], [64.0001, 53.333333333333336], [65.0001, 53.0001], [66.0001, 52.666666666666664], [67.0001, 52.333333333333336], [68.0001, 52.0001], [69.0001, 51.666666666666664], [70.0001, 51.333333333333336], [71.0001, 51.0001], [72.0001, 50.666666666666664], [73.0001, 50.333333333333336], [74.0001, 50.0001], [75.0001, 49.666666666666664], [76.0001, 49.333333333333336]]\n",
            "[[63, 71], [64, 71], [65, 71], [66, 71], [67, 71], [68, 71], [69, 71], [70, 71], [72, 71], [73, 70], [74, 70], [75, 70], [76, 70], [77, 69], [78, 69], [79, 69], [80, 69], [80, 67], [80, 64], [80, 61]]\n",
            "[[53, 43], [53, 40], [54, 39], [55, 36], [55, 35], [56, 34], [56, 32], [57, 31], [58, 29], [59, 29], [60, 29], [61, 29], [62, 29], [63, 29], [64, 29], [66, 31], [67, 32], [69, 34], [71, 36], [72, 37]]\n",
            "[[77, 49], [77, 48], [77, 47], [76, 46], [76, 45], [75, 44], [75, 43], [74, 42], [74, 41], [73, 40], [73, 39], [72, 38], [72, 37], [71, 36], [70, 35], [69, 34], [68, 33], [67, 32], [66, 31], [65, 30], [64, 29], [63, 29], [62, 29], [61, 29], [60, 29], [59, 29], [58, 29], [57, 29], [57, 30], [57, 31], [56, 32], [56, 33], [56, 34], [55, 35], [55, 36], [54, 37], [54, 38], [54, 39], [53, 40], [53, 41], [53, 42], [53, 43], [53, 44], [53, 45], [53, 46], [53, 47], [54, 48], [54, 49], [54, 50], [54, 51], [55, 52], [55, 53], [55, 54], [56, 55]]\n",
            "[[56, 56], [57, 57], [57, 58], [57, 59], [57, 60], [58, 61], [58, 62], [58, 63], [58, 64], [58, 65], [58, 66], [58, 67], [58, 68], [58, 69], [59, 70], [59, 71], [60, 71], [61, 71], [62, 71], [63, 71], [64, 71], [65, 71], [66, 71], [67, 71], [68, 71], [69, 71], [70, 71], [71, 71], [72, 71], [73, 70], [74, 70], [75, 70], [76, 70], [77, 69], [78, 69], [79, 69], [80, 69], [80, 68], [80, 67], [80, 66], [80, 65], [80, 64], [80, 63], [80, 62], [80, 61], [80, 60], [80, 59], [79, 58], [79, 57], [79, 56], [79, 55], [79, 54], [79, 53], [79, 52], [78, 51], [78, 50]]\n",
            "[[57.0001, 55.666666666666664], [58.0001, 55.333333333333336], [59.0001, 55.0001], [60.0001, 54.666666666666664], [61.0001, 54.333333333333336], [62.0001, 54.0001], [63.0001, 53.666666666666664], [64.0001, 53.333333333333336], [65.0001, 53.0001], [66.0001, 52.666666666666664], [67.0001, 52.333333333333336], [68.0001, 52.0001], [69.0001, 51.666666666666664], [70.0001, 51.333333333333336], [71.0001, 51.0001], [72.0001, 50.666666666666664], [73.0001, 50.333333333333336], [74.0001, 50.0001], [75.0001, 49.666666666666664], [76.0001, 49.333333333333336]]\n",
            "[[63, 71], [64, 71], [65, 71], [66, 71], [67, 71], [68, 71], [69, 71], [70, 71], [72, 71], [73, 70], [74, 70], [75, 70], [76, 70], [77, 69], [78, 69], [79, 69], [80, 69], [80, 67], [80, 64], [80, 61]]\n",
            "[[53, 43], [53, 40], [54, 39], [55, 36], [55, 35], [56, 34], [56, 32], [57, 31], [58, 29], [59, 29], [60, 29], [61, 29], [62, 29], [63, 29], [64, 29], [66, 31], [67, 32], [69, 34], [71, 36], [72, 37]]\n"
          ],
          "name": "stdout"
        },
        {
          "output_type": "display_data",
          "data": {
            "image/png": "[encoded data removed]",
            "text/plain": [
              "<PIL.Image.Image image mode=RGB size=112x112 at 0x7F17E7FD73C8>"
            ]
          },
          "metadata": {
            "tags": []
          }
        },
        {
          "output_type": "stream",
          "text": [
            "({-30: 19661.11594002839, -29: 21162.162204399337, -28: 22070.421076391514, -27: 23422.08154316419, -26: 24500.854000744013, -25: 24372.856545419767, -24: 23837.11431820524, -23: 23349.55112636313, -22: 22627.91112703295, -21: 20015.750215945678, -20: 19364.984840693694, -19: 16823.808414312036, -18: 17049.997639666013, -17: 16239.814775825891, -16: 15789.93290019294, -15: 15419.169123151862, -14: 15281.994636436815, -13: 14557.177048492646, -12: 13671.023987054517, -11: 14320.912711476527, -10: 13933.23660361055, -9: 12952.908850959313, -8: 13419.718969171523, -7: 13540.803012731967, -6: 13434.354145200066, -5: 13383.483903592865, -4: 13733.308535750108, -3: 13710.408192974219, -2: 13404.812521986385, -1: 13403.133360776897, 0: 13455.347625853077, 1: 13583.823355982144, 2: 13458.055570731782, 3: 13508.895135033135, 4: 13394.10740946639, 5: 13486.196161507121, 6: 13464.8746465432, 7: 13478.325950244767, 8: 13355.33596982384, 9: 13538.29377313447, 10: 13576.147149142955, 11: 13969.817164470185, 12: 13823.868357999325, 13: 13648.637960997987, 14: 14045.44433222939, 15: 14336.932588015261, 16: 14413.578304156275, 17: 14480.073314438874, 18: 14914.879318788906, 19: 15259.756077077916, 20: 15737.571769171878, 21: 16221.986880247043, 22: 16381.81015309982, 23: 17389.86140518544, 24: 18385.665033142413, 25: 19661.874054031094, 26: 21018.42192792184, 27: 22075.81133675942, 28: 24058.815167337616, 29: 24452.758512985558, 30: 24666.75478161623}, {-30: [79, 56, 57, 58, 58, 59, 60, 61, 62, 64, 65, 66, 67, 68, 69, 71, 72, 73, 74, 75, 76], -29: [79, 55, 56, 58, 59, 60, 62, 63, 64, 65, 66, 67, 68, 70, 71, 72, 73, 74, 75, 77, 78], -28: [79, 57, 58, 59, 60, 61, 62, 64, 65, 66, 67, 68, 69, 70, 72, 73, 74, 75, 76, 77, 78], -27: [79, 58, 61, 62, 63, 64, 65, 66, 67, 69, 70, 71, 72, 73, 74, 75, 76, 77, 78, 79, 80], -26: [78, 61, 62, 63, 64, 65, 67, 68, 69, 70, 71, 72, 73, 74, 75, 76, 77, 78, 79, 80, 80], -25: [78, 63, 64, 66, 67, 68, 69, 70, 71, 72, 73, 74, 75, 76, 77, 78, 79, 80, 80, 80, 80], -24: [77, 64, 66, 67, 68, 69, 70, 71, 73, 74, 75, 76, 77, 78, 79, 80, 80, 80, 80, 80, 79], -23: [77, 65, 67, 68, 69, 70, 72, 73, 74, 75, 76, 77, 78, 79, 80, 80, 80, 80, 80, 79, 79], -22: [77, 66, 67, 69, 70, 71, 73, 74, 75, 76, 77, 78, 80, 80, 80, 80, 80, 80, 79, 79, 79], -21: [76, 68, 70, 71, 73, 74, 75, 76, 77, 78, 80, 80, 80, 80, 80, 80, 80, 79, 79, 79, 78], -20: [76, 69, 70, 72, 73, 74, 76, 77, 78, 80, 80, 80, 80, 80, 80, 80, 79, 79, 79, 78, 77], -19: [75, 74, 56, 56, 56, 55, 55, 54, 54, 53, 53, 53, 53, 53, 54, 54, 55, 55, 57, 57, 58], -18: [75, 57, 56, 56, 55, 55, 54, 54, 53, 53, 53, 53, 53, 53, 54, 54, 55, 56, 57, 57, 58], -17: [74, 56, 56, 55, 55, 54, 54, 53, 53, 53, 53, 53, 53, 54, 54, 55, 56, 57, 57, 58, 58], -16: [74, 56, 56, 55, 55, 54, 54, 53, 53, 53, 53, 53, 54, 54, 55, 56, 57, 57, 58, 58, 58], -15: [73, 56, 56, 55, 54, 54, 53, 53, 53, 53, 53, 54, 54, 55, 55, 56, 57, 57, 58, 58, 58], -14: [73, 56, 56, 55, 54, 54, 53, 53, 53, 53, 53, 54, 54, 55, 56, 57, 57, 58, 58, 58, 58], -13: [72, 71, 55, 55, 54, 54, 53, 53, 53, 53, 54, 54, 55, 55, 56, 57, 57, 58, 58, 58, 58], -12: [72, 71, 70, 55, 54, 54, 53, 53, 53, 53, 54, 54, 55, 55, 57, 57, 58, 58, 58, 58, 58], -11: [71, 69, 55, 54, 54, 53, 53, 53, 53, 53, 54, 54, 55, 56, 57, 57, 58, 58, 58, 58, 58], -10: [70, 69, 55, 54, 54, 53, 53, 53, 53, 53, 54, 54, 55, 56, 57, 57, 58, 58, 58, 58, 58], -9: [69, 68, 67, 66, 54, 53, 53, 53, 53, 54, 54, 55, 55, 56, 57, 57, 58, 58, 58, 58, 58], -8: [68, 67, 66, 54, 54, 53, 53, 53, 53, 54, 54, 55, 55, 56, 57, 57, 58, 58, 58, 58, 58], -7: [67, 66, 65, 54, 54, 53, 53, 53, 53, 54, 54, 55, 55, 56, 57, 57, 58, 58, 58, 58, 58], -6: [66, 65, 64, 54, 54, 53, 53, 53, 53, 54, 54, 55, 55, 56, 57, 57, 58, 58, 58, 58, 58], -5: [65, 56, 56, 55, 54, 53, 53, 53, 53, 54, 54, 55, 55, 56, 57, 57, 58, 58, 58, 58, 59], -4: [64, 56, 56, 55, 54, 53, 53, 53, 53, 54, 54, 55, 55, 56, 57, 57, 58, 58, 58, 58, 59], -3: [63, 56, 56, 55, 54, 53, 53, 53, 53, 54, 54, 55, 55, 56, 57, 57, 58, 58, 58, 58, 59], -2: [62, 56, 56, 54, 54, 53, 53, 53, 53, 54, 54, 55, 56, 57, 57, 58, 58, 58, 58, 58, 59], -1: [61, 56, 55, 54, 54, 53, 53, 53, 54, 54, 55, 55, 56, 57, 57, 58, 58, 58, 58, 58, 59], 0: [70, 56, 55, 54, 54, 53, 53, 53, 54, 54, 55, 55, 56, 57, 57, 58, 58, 58, 58, 59, 62], 1: [71, 56, 55, 54, 53, 53, 53, 53, 54, 54, 55, 55, 56, 57, 57, 58, 58, 58, 58, 59, 64], 2: [72, 56, 55, 54, 53, 53, 53, 53, 54, 54, 55, 56, 57, 57, 58, 58, 58, 58, 59, 59, 66], 3: [73, 56, 56, 54, 53, 53, 53, 53, 54, 54, 55, 56, 57, 57, 58, 58, 58, 58, 59, 59, 65], 4: [74, 56, 55, 54, 53, 53, 53, 54, 54, 55, 55, 56, 57, 57, 58, 58, 58, 58, 59, 62, 67], 5: [75, 56, 54, 53, 53, 53, 53, 54, 54, 55, 56, 57, 57, 58, 58, 58, 58, 58, 59, 64, 68], 6: [76, 55, 54, 53, 53, 53, 54, 54, 55, 55, 56, 57, 57, 58, 58, 58, 58, 59, 61, 66, 70], 7: [77, 55, 54, 53, 53, 53, 54, 54, 55, 56, 56, 57, 57, 58, 58, 58, 58, 59, 62, 66, 70], 8: [78, 54, 53, 53, 53, 54, 54, 55, 55, 56, 57, 57, 58, 58, 58, 58, 59, 61, 64, 68, 72], 9: [79, 54, 53, 53, 53, 54, 54, 55, 56, 57, 57, 58, 58, 58, 58, 59, 59, 63, 66, 70, 75], 10: [80, 53, 53, 53, 54, 54, 55, 55, 56, 57, 57, 58, 58, 58, 58, 59, 62, 65, 68, 71, 76], 11: [80, 53, 53, 53, 54, 54, 55, 55, 56, 57, 57, 58, 58, 58, 58, 59, 62, 65, 68, 71, 75], 12: [80, 53, 53, 53, 54, 54, 55, 56, 57, 57, 58, 58, 58, 58, 59, 59, 62, 65, 68, 70, 74], 13: [80, 53, 53, 54, 54, 55, 55, 56, 57, 57, 58, 58, 58, 58, 59, 60, 62, 65, 68, 70, 74], 14: [80, 53, 53, 54, 54, 55, 55, 56, 57, 57, 58, 58, 58, 58, 59, 61, 63, 65, 68, 70, 73], 15: [80, 53, 53, 54, 54, 55, 56, 56, 57, 57, 58, 58, 58, 58, 59, 61, 63, 66, 68, 70, 72], 16: [80, 53, 54, 54, 55, 55, 56, 57, 57, 58, 58, 58, 58, 59, 60, 62, 64, 66, 68, 70, 72], 17: [80, 53, 54, 54, 55, 55, 56, 57, 57, 58, 58, 58, 58, 59, 61, 63, 65, 66, 68, 70, 72], 18: [80, 53, 54, 54, 55, 56, 57, 57, 58, 58, 58, 58, 59, 60, 62, 63, 65, 67, 69, 71, 72], 19: [80, 54, 54, 55, 55, 56, 57, 57, 58, 58, 58, 59, 59, 61, 63, 64, 66, 68, 69, 71, 73], 20: [80, 54, 54, 55, 56, 57, 57, 58, 58, 58, 58, 59, 60, 62, 64, 65, 67, 68, 70, 72, 74], 21: [79, 54, 55, 55, 56, 57, 57, 58, 58, 58, 59, 59, 61, 62, 64, 65, 67, 68, 70, 71, 73], 22: [79, 55, 55, 56, 57, 57, 58, 58, 58, 59, 60, 61, 62, 64, 65, 66, 68, 69, 70, 72, 73], 23: [79, 55, 56, 56, 57, 58, 58, 58, 59, 60, 61, 62, 64, 65, 66, 68, 69, 70, 71, 73, 74], 24: [79, 55, 56, 57, 57, 58, 58, 59, 60, 61, 63, 64, 65, 66, 68, 69, 70, 71, 73, 74, 75], 25: [79, 55, 56, 57, 58, 58, 59, 61, 62, 63, 64, 65, 67, 68, 69, 70, 71, 73, 74, 75, 76], 26: [79, 55, 55, 58, 59, 60, 62, 63, 64, 65, 66, 67, 68, 70, 71, 72, 73, 74, 75, 77, 78], 27: [79, 57, 58, 59, 60, 61, 62, 64, 65, 66, 67, 68, 69, 70, 72, 73, 74, 75, 76, 77, 78], 28: [78, 58, 60, 61, 62, 63, 64, 66, 67, 68, 69, 70, 71, 72, 73, 74, 75, 77, 78, 79, 80], 29: [78, 61, 62, 63, 65, 66, 67, 68, 69, 70, 71, 72, 73, 74, 75, 76, 77, 78, 80, 80, 80], 30: [77, 63, 64, 65, 66, 67, 68, 69, 70, 72, 73, 74, 75, 76, 77, 78, 79, 80, 80, 80, 80]}, {-30: [55, 55, 57, 61, 66, 70, 71, 71, 71, 71, 71, 71, 71, 71, 71, 71, 71, 70, 70, 70, 70], -29: [54, 54, 55, 64, 70, 71, 71, 71, 71, 71, 71, 71, 71, 71, 71, 71, 70, 70, 70, 69, 69], -28: [53, 57, 61, 70, 71, 71, 71, 71, 71, 71, 71, 71, 71, 71, 71, 70, 70, 70, 70, 69, 69], -27: [52, 63, 71, 71, 71, 71, 71, 71, 71, 71, 71, 71, 71, 70, 70, 70, 70, 69, 69, 69, 68], -26: [51, 71, 71, 71, 71, 71, 71, 71, 71, 71, 71, 71, 70, 70, 70, 70, 69, 69, 69, 69, 64], -25: [50, 71, 71, 71, 71, 71, 71, 71, 71, 71, 70, 70, 70, 70, 69, 69, 69, 69, 65, 62, 59], -24: [49, 71, 71, 71, 71, 71, 71, 71, 70, 70, 70, 70, 69, 69, 69, 69, 68, 65, 63, 60, 55], -23: [48, 71, 71, 71, 71, 71, 71, 70, 70, 70, 70, 69, 69, 69, 69, 66, 64, 62, 60, 56, 53], -22: [47, 71, 71, 71, 71, 71, 70, 70, 70, 70, 69, 69, 69, 68, 66, 64, 62, 59, 56, 54, 52], -21: [46, 71, 71, 71, 70, 70, 70, 70, 69, 69, 69, 68, 66, 64, 62, 61, 59, 56, 54, 53, 50], -20: [45, 71, 71, 71, 70, 70, 70, 69, 69, 69, 68, 66, 64, 62, 61, 59, 56, 55, 53, 50, 47], -19: [44, 42, 32, 33, 34, 35, 36, 37, 39, 40, 41, 43, 44, 46, 49, 50, 53, 54, 58, 59, 62], -18: [43, 31, 32, 33, 35, 36, 37, 38, 40, 41, 42, 44, 46, 47, 50, 51, 54, 56, 59, 60, 63], -17: [42, 32, 33, 35, 36, 37, 38, 40, 41, 43, 44, 46, 47, 50, 51, 54, 56, 58, 60, 62, 64], -16: [41, 32, 33, 35, 36, 37, 39, 40, 41, 43, 45, 47, 49, 51, 53, 55, 57, 59, 61, 63, 65], -15: [40, 33, 34, 36, 37, 38, 40, 41, 43, 45, 46, 48, 50, 52, 54, 56, 59, 60, 62, 64, 66], -14: [39, 32, 34, 35, 37, 38, 40, 41, 43, 45, 47, 49, 51, 53, 55, 57, 59, 61, 63, 65, 67], -13: [38, 36, 35, 36, 37, 39, 41, 42, 44, 46, 48, 50, 52, 54, 56, 58, 60, 62, 64, 66, 68], -12: [37, 36, 35, 36, 38, 39, 41, 43, 45, 46, 49, 50, 53, 54, 57, 59, 61, 63, 65, 66, 68], -11: [36, 34, 35, 37, 38, 40, 42, 43, 45, 47, 49, 51, 53, 56, 58, 60, 62, 64, 66, 67, 69], -10: [35, 34, 35, 37, 38, 40, 42, 44, 46, 47, 50, 51, 53, 56, 58, 60, 62, 64, 65, 67, 69], -9: [34, 33, 32, 31, 39, 40, 42, 44, 46, 48, 50, 52, 54, 56, 58, 60, 62, 63, 65, 67, 69], -8: [33, 32, 31, 37, 39, 40, 42, 44, 46, 48, 50, 52, 54, 56, 58, 60, 62, 63, 65, 67, 69], -7: [32, 31, 30, 37, 39, 40, 42, 44, 46, 48, 50, 52, 54, 56, 58, 60, 62, 63, 65, 67, 69], -6: [31, 30, 29, 37, 39, 40, 42, 44, 46, 48, 50, 52, 54, 56, 58, 60, 62, 64, 65, 67, 69], -5: [30, 32, 34, 36, 38, 40, 42, 44, 46, 48, 50, 52, 54, 56, 58, 60, 62, 64, 66, 68, 70], -4: [29, 32, 34, 36, 38, 40, 42, 44, 46, 48, 50, 52, 54, 56, 58, 60, 62, 64, 66, 68, 70], -3: [29, 32, 34, 36, 38, 41, 43, 45, 47, 49, 51, 52, 54, 56, 58, 60, 62, 64, 66, 68, 70], -2: [29, 32, 34, 37, 39, 41, 43, 45, 47, 49, 51, 53, 55, 57, 59, 61, 63, 65, 67, 69, 71], -1: [29, 33, 35, 37, 39, 41, 43, 46, 48, 49, 52, 53, 55, 57, 59, 61, 63, 65, 67, 69, 71], 0: [71, 33, 35, 37, 39, 42, 44, 46, 48, 50, 52, 54, 56, 58, 60, 62, 64, 66, 68, 70, 71], 1: [71, 33, 35, 37, 40, 42, 44, 46, 48, 50, 52, 54, 56, 58, 60, 62, 64, 67, 69, 71, 71], 2: [71, 32, 35, 38, 40, 42, 45, 47, 49, 51, 53, 55, 57, 59, 61, 63, 65, 67, 70, 71, 71], 3: [70, 32, 34, 37, 40, 42, 45, 47, 49, 51, 53, 55, 57, 59, 61, 63, 65, 67, 70, 71, 71], 4: [70, 33, 36, 39, 41, 43, 46, 48, 50, 52, 54, 56, 57, 60, 62, 64, 66, 68, 70, 71, 71], 5: [70, 34, 37, 40, 42, 45, 47, 49, 51, 53, 55, 57, 59, 61, 63, 65, 67, 69, 71, 71, 71], 6: [70, 35, 38, 41, 43, 46, 48, 50, 52, 54, 56, 57, 60, 61, 64, 66, 68, 70, 71, 71, 71], 7: [69, 36, 39, 42, 44, 47, 48, 51, 52, 55, 56, 58, 60, 62, 65, 67, 69, 71, 71, 71, 71], 8: [69, 38, 41, 43, 46, 48, 50, 52, 54, 55, 57, 59, 61, 63, 66, 68, 70, 71, 71, 71, 71], 9: [69, 39, 42, 44, 47, 48, 51, 52, 55, 57, 58, 61, 62, 65, 67, 70, 71, 71, 71, 71, 70], 10: [69, 40, 43, 45, 48, 50, 52, 54, 56, 57, 60, 61, 64, 66, 69, 71, 71, 71, 71, 71, 70], 11: [68, 41, 43, 46, 48, 50, 52, 54, 56, 58, 60, 62, 64, 67, 69, 71, 71, 71, 71, 71, 70], 12: [67, 42, 44, 47, 48, 51, 53, 55, 57, 58, 61, 62, 65, 67, 70, 71, 71, 71, 71, 71, 70], 13: [66, 43, 45, 48, 49, 52, 53, 55, 57, 59, 61, 63, 65, 68, 70, 71, 71, 71, 71, 71, 70], 14: [65, 43, 46, 48, 50, 52, 54, 55, 57, 59, 61, 63, 66, 69, 70, 71, 71, 71, 71, 71, 70], 15: [64, 44, 47, 48, 51, 52, 55, 56, 58, 60, 62, 64, 67, 69, 71, 71, 71, 71, 71, 71, 71], 16: [63, 45, 48, 49, 52, 53, 55, 57, 59, 61, 63, 65, 68, 70, 71, 71, 71, 71, 71, 71, 71], 17: [62, 46, 48, 50, 52, 54, 56, 57, 60, 61, 64, 66, 69, 70, 71, 71, 71, 71, 71, 71, 71], 18: [61, 47, 49, 51, 53, 55, 57, 58, 61, 62, 65, 68, 70, 71, 71, 71, 71, 71, 71, 71, 71], 19: [60, 48, 50, 52, 54, 55, 57, 60, 61, 64, 67, 70, 71, 71, 71, 71, 71, 71, 71, 71, 70], 20: [59, 48, 51, 52, 55, 57, 58, 61, 62, 66, 69, 70, 71, 71, 71, 71, 71, 71, 71, 71, 70], 21: [58, 49, 52, 53, 55, 57, 59, 61, 63, 67, 70, 71, 71, 71, 71, 71, 71, 71, 71, 71, 70], 22: [57, 52, 53, 55, 57, 59, 61, 64, 67, 70, 71, 71, 71, 71, 71, 71, 71, 71, 71, 71, 70], 23: [56, 52, 55, 56, 57, 61, 63, 67, 70, 71, 71, 71, 71, 71, 71, 71, 71, 71, 71, 70, 70], 24: [55, 52, 55, 57, 60, 61, 68, 70, 71, 71, 71, 71, 71, 71, 71, 71, 71, 71, 70, 70, 70], 25: [54, 53, 55, 57, 61, 68, 70, 71, 71, 71, 71, 71, 71, 71, 71, 71, 71, 70, 70, 70, 70], 26: [53, 53, 54, 63, 70, 71, 71, 71, 71, 71, 71, 71, 71, 71, 71, 71, 70, 70, 70, 69, 69], 27: [52, 57, 61, 70, 71, 71, 71, 71, 71, 71, 71, 71, 71, 71, 71, 70, 70, 70, 70, 69, 69], 28: [51, 69, 71, 71, 71, 71, 71, 71, 71, 71, 71, 71, 71, 71, 70, 70, 70, 69, 69, 69, 69], 29: [50, 71, 71, 71, 71, 71, 71, 71, 71, 71, 71, 71, 70, 70, 70, 70, 69, 69, 69, 68, 63], 30: [49, 71, 71, 71, 71, 71, 71, 71, 71, 71, 70, 70, 70, 70, 69, 69, 69, 69, 67, 64, 61]}, {-30: [55, 60, 61, 62, 63, 64, 65, 66, 67, 68, 69, 70, 71, 72, 73, 74, 75, 76, 77, 78, 79], -29: [55, 57, 58, 59, 60, 61, 62, 64, 65, 66, 67, 68, 69, 70, 72, 73, 74, 75, 76, 77, 78], -28: [55, 55, 57, 58, 59, 60, 61, 62, 64, 65, 66, 67, 68, 70, 71, 72, 73, 74, 76, 77, 78], -27: [56, 55, 56, 57, 58, 59, 60, 61, 62, 63, 64, 65, 67, 68, 69, 71, 72, 73, 75, 76, 79], -26: [56, 54, 54, 55, 56, 57, 57, 58, 59, 60, 61, 62, 64, 65, 66, 68, 69, 70, 72, 74, 76], -25: [57, 53, 54, 54, 55, 56, 56, 57, 57, 58, 59, 60, 62, 63, 64, 65, 67, 68, 70, 72, 74], -24: [57, 54, 53, 53, 54, 54, 55, 55, 56, 56, 57, 57, 58, 59, 60, 62, 63, 64, 66, 68, 70], -23: [57, 55, 54, 53, 53, 53, 54, 54, 55, 55, 56, 56, 57, 57, 58, 60, 61, 62, 63, 65, 67], -22: [57, 57, 55, 54, 53, 53, 53, 54, 54, 55, 55, 56, 56, 57, 57, 58, 59, 60, 62, 63, 64], -21: [58, 57, 56, 55, 54, 53, 53, 53, 53, 54, 54, 54, 55, 56, 56, 56, 57, 57, 58, 59, 61], -20: [58, 57, 57, 55, 54, 54, 53, 53, 53, 53, 54, 54, 54, 55, 56, 56, 56, 57, 57, 58, 60], -19: [58, 77, 78, 79, 79, 79, 79, 80, 80, 80, 80, 80, 80, 79, 77, 76, 74, 73, 72, 70, 68], -18: [58, 76, 77, 78, 79, 79, 79, 79, 80, 80, 80, 80, 80, 80, 78, 76, 75, 73, 72, 70, 68], -17: [58, 76, 77, 77, 79, 79, 79, 79, 80, 80, 80, 80, 80, 80, 80, 77, 76, 74, 72, 71, 68], -16: [58, 75, 76, 77, 78, 79, 79, 79, 79, 80, 80, 80, 80, 80, 80, 78, 76, 74, 72, 71, 68], -15: [58, 75, 76, 77, 77, 79, 79, 79, 79, 80, 80, 80, 80, 80, 80, 79, 76, 75, 72, 71, 68], -14: [58, 74, 75, 76, 77, 78, 79, 79, 79, 79, 80, 80, 80, 80, 80, 80, 76, 75, 72, 70, 67], -13: [58, 74, 75, 76, 77, 78, 79, 79, 79, 79, 80, 80, 80, 80, 80, 80, 77, 75, 72, 70, 66], -12: [59, 73, 74, 75, 76, 77, 78, 79, 79, 79, 79, 80, 80, 80, 80, 80, 79, 76, 72, 70, 66], -11: [59, 73, 74, 75, 76, 77, 78, 79, 79, 79, 79, 80, 80, 80, 80, 80, 80, 76, 72, 69, 64], -10: [60, 72, 73, 74, 75, 76, 77, 78, 79, 79, 79, 79, 80, 80, 80, 80, 80, 79, 76, 72, 66], -9: [61, 72, 73, 74, 75, 76, 77, 77, 78, 79, 79, 79, 80, 80, 80, 80, 80, 80, 77, 73, 69], -8: [62, 71, 72, 73, 74, 75, 76, 77, 78, 79, 79, 79, 79, 80, 80, 80, 80, 80, 80, 76, 72], -7: [63, 70, 72, 73, 74, 75, 76, 77, 77, 78, 79, 79, 79, 79, 80, 80, 80, 80, 80, 80, 72], -6: [64, 69, 71, 72, 73, 74, 75, 76, 77, 77, 78, 79, 79, 79, 80, 80, 80, 80, 80, 80, 76], -5: [65, 66, 69, 71, 72, 73, 74, 75, 76, 77, 78, 79, 79, 79, 79, 80, 80, 80, 80, 80, 76], -4: [66, 65, 68, 70, 72, 73, 74, 75, 76, 77, 77, 78, 79, 79, 79, 80, 80, 80, 80, 80, 80], -3: [67, 64, 68, 70, 72, 73, 74, 75, 76, 76, 77, 78, 79, 79, 79, 79, 80, 80, 80, 80, 80], -2: [68, 63, 68, 70, 71, 72, 73, 74, 75, 76, 77, 78, 79, 79, 79, 79, 80, 80, 80, 80, 80], -1: [69, 62, 68, 69, 71, 72, 73, 74, 75, 76, 77, 77, 78, 79, 79, 79, 80, 80, 80, 80, 80], 0: [60, 61, 67, 69, 71, 72, 73, 74, 75, 76, 77, 77, 78, 79, 79, 79, 80, 80, 80, 80, 80], 1: [59, 65, 67, 68, 70, 72, 73, 74, 75, 75, 76, 77, 78, 79, 79, 79, 79, 80, 80, 80, 80], 2: [58, 65, 66, 68, 70, 71, 72, 73, 74, 75, 76, 77, 78, 79, 79, 79, 79, 80, 80, 80, 80], 3: [57, 63, 66, 67, 69, 71, 72, 73, 74, 75, 76, 77, 77, 78, 79, 79, 79, 80, 80, 80, 80], 4: [57, 65, 66, 68, 69, 71, 72, 73, 74, 75, 76, 77, 77, 78, 79, 79, 79, 80, 80, 80, 80], 5: [57, 65, 67, 68, 70, 71, 72, 73, 74, 75, 76, 77, 77, 78, 79, 79, 79, 80, 80, 80, 80], 6: [56, 65, 67, 68, 70, 71, 72, 73, 74, 75, 76, 77, 77, 78, 79, 79, 79, 80, 80, 80, 80], 7: [56, 66, 67, 68, 70, 71, 72, 73, 74, 75, 76, 77, 77, 78, 79, 79, 79, 80, 80, 80, 80], 8: [56, 66, 67, 69, 70, 72, 72, 73, 74, 75, 76, 77, 77, 78, 79, 79, 79, 80, 80, 80, 80], 9: [55, 66, 67, 69, 70, 71, 72, 73, 74, 75, 76, 77, 77, 78, 79, 79, 79, 80, 80, 80, 80], 10: [55, 66, 67, 69, 70, 72, 72, 73, 74, 75, 76, 77, 78, 78, 79, 79, 79, 80, 80, 80, 80], 11: [54, 66, 67, 68, 70, 71, 72, 73, 74, 75, 76, 77, 77, 78, 79, 79, 79, 80, 80, 80, 80], 12: [54, 66, 67, 68, 70, 71, 72, 73, 74, 75, 76, 76, 77, 78, 79, 79, 79, 79, 80, 80, 80], 13: [54, 66, 67, 68, 70, 71, 72, 73, 74, 75, 75, 76, 77, 78, 78, 79, 79, 79, 80, 80, 80], 14: [53, 65, 67, 68, 69, 70, 72, 72, 73, 74, 75, 76, 77, 77, 78, 79, 79, 79, 80, 80, 80], 15: [53, 65, 66, 68, 69, 70, 71, 72, 73, 74, 75, 75, 76, 77, 78, 78, 79, 79, 79, 80, 80], 16: [53, 65, 66, 67, 69, 70, 71, 72, 73, 74, 74, 75, 76, 77, 77, 78, 79, 79, 79, 80, 80], 17: [53, 65, 66, 67, 68, 69, 71, 72, 72, 73, 74, 75, 76, 76, 77, 78, 79, 79, 79, 79, 80], 18: [53, 65, 66, 67, 68, 69, 70, 71, 72, 73, 74, 75, 75, 76, 77, 77, 78, 79, 79, 79, 80], 19: [53, 64, 65, 66, 67, 69, 70, 71, 72, 73, 73, 74, 75, 76, 77, 77, 78, 79, 79, 79, 80], 20: [53, 63, 65, 66, 67, 68, 69, 70, 71, 72, 73, 74, 74, 75, 76, 77, 77, 78, 79, 79, 79], 21: [53, 63, 64, 65, 66, 67, 68, 69, 70, 71, 72, 73, 74, 75, 75, 76, 77, 77, 78, 79, 79], 22: [54, 63, 64, 65, 66, 67, 68, 69, 70, 71, 72, 73, 74, 74, 75, 76, 77, 77, 78, 79, 79], 23: [54, 61, 63, 64, 65, 66, 67, 68, 69, 70, 71, 72, 73, 74, 74, 75, 76, 77, 78, 78, 79], 24: [54, 60, 61, 62, 64, 65, 66, 67, 68, 69, 70, 71, 72, 73, 74, 75, 76, 76, 77, 78, 79], 25: [54, 58, 60, 61, 62, 63, 64, 65, 67, 68, 69, 70, 71, 72, 73, 74, 75, 76, 77, 78, 79], 26: [55, 57, 58, 59, 60, 61, 62, 64, 65, 66, 67, 68, 69, 70, 72, 73, 74, 75, 76, 77, 78], 27: [55, 55, 57, 58, 59, 60, 61, 63, 64, 65, 66, 67, 68, 70, 71, 72, 73, 74, 76, 77, 78], 28: [55, 54, 55, 56, 57, 58, 59, 60, 61, 62, 63, 64, 66, 67, 68, 70, 71, 72, 74, 75, 78], 29: [56, 54, 55, 55, 56, 57, 57, 58, 59, 61, 62, 63, 64, 65, 66, 68, 69, 71, 72, 74, 76], 30: [56, 53, 53, 54, 55, 55, 56, 56, 57, 58, 59, 60, 61, 62, 63, 64, 66, 67, 69, 71, 72]}, {-30: [52, 29, 29, 29, 29, 29, 30, 31, 32, 33, 34, 35, 36, 37, 39, 41, 43, 45, 47, 50, 52], -29: [53, 31, 29, 29, 29, 29, 29, 29, 30, 31, 32, 33, 34, 35, 37, 39, 41, 43, 45, 47, 50], -28: [54, 53, 31, 29, 29, 29, 29, 29, 29, 30, 31, 32, 33, 35, 36, 37, 39, 41, 45, 47, 50], -27: [55, 36, 34, 31, 29, 29, 29, 29, 29, 29, 29, 30, 32, 33, 34, 36, 37, 39, 43, 45, 52], -26: [56, 39, 37, 36, 34, 31, 30, 29, 29, 29, 29, 29, 29, 30, 31, 33, 34, 35, 37, 41, 45], -25: [57, 41, 39, 37, 36, 34, 33, 31, 30, 29, 29, 29, 29, 29, 29, 30, 32, 33, 35, 37, 41], -24: [58, 48, 44, 41, 39, 38, 36, 35, 34, 32, 31, 30, 29, 29, 29, 29, 29, 29, 31, 33, 35], -23: [59, 53, 49, 44, 42, 40, 39, 37, 36, 35, 34, 32, 31, 29, 29, 29, 29, 29, 29, 30, 32], -22: [60, 57, 52, 49, 45, 43, 41, 39, 38, 36, 35, 34, 33, 31, 30, 29, 29, 29, 29, 29, 29], -21: [61, 58, 55, 52, 49, 46, 44, 42, 41, 39, 38, 37, 36, 34, 33, 32, 31, 30, 29, 29, 29], -20: [62, 59, 57, 53, 50, 49, 46, 44, 42, 41, 39, 38, 37, 36, 34, 33, 32, 31, 30, 29, 29], -19: [63, 48, 50, 53, 55, 56, 58, 60, 62, 64, 65, 67, 69, 69, 69, 70, 70, 70, 71, 71, 71], -18: [64, 46, 48, 51, 53, 55, 57, 58, 61, 62, 64, 66, 67, 69, 69, 70, 70, 70, 71, 71, 71], -17: [65, 46, 48, 49, 52, 54, 56, 57, 60, 61, 63, 65, 66, 68, 69, 69, 70, 70, 71, 71, 71], -16: [66, 44, 46, 48, 51, 53, 55, 56, 58, 60, 62, 64, 65, 67, 69, 69, 70, 70, 71, 71, 71], -15: [67, 43, 46, 48, 49, 52, 54, 56, 57, 60, 61, 63, 65, 66, 68, 69, 70, 70, 71, 71, 71], -14: [68, 42, 44, 46, 49, 51, 53, 55, 57, 58, 61, 62, 64, 66, 68, 69, 70, 70, 71, 71, 71], -13: [69, 41, 43, 46, 48, 50, 52, 54, 56, 58, 60, 62, 63, 65, 67, 69, 69, 70, 71, 71, 71], -12: [70, 40, 42, 44, 46, 49, 51, 53, 55, 57, 58, 61, 62, 64, 66, 68, 69, 70, 71, 71, 71], -11: [71, 39, 41, 43, 46, 48, 50, 52, 54, 56, 58, 60, 62, 64, 66, 68, 69, 70, 71, 71, 71], -10: [71, 38, 40, 42, 44, 46, 49, 51, 53, 55, 56, 58, 60, 62, 64, 66, 68, 69, 70, 71, 71], -9: [71, 37, 39, 41, 43, 45, 47, 49, 51, 53, 55, 57, 59, 61, 63, 65, 66, 68, 69, 70, 71], -8: [71, 36, 38, 40, 42, 44, 46, 48, 50, 52, 54, 56, 57, 60, 61, 63, 65, 67, 69, 70, 71], -7: [71, 35, 37, 39, 41, 43, 45, 47, 49, 51, 52, 54, 56, 58, 60, 62, 64, 66, 68, 69, 71], -6: [71, 34, 36, 38, 39, 41, 43, 45, 47, 49, 51, 53, 55, 57, 59, 61, 63, 65, 67, 68, 70], -5: [71, 31, 34, 36, 38, 40, 42, 44, 46, 48, 50, 52, 54, 56, 58, 60, 62, 64, 66, 68, 70], -4: [71, 30, 33, 35, 37, 39, 41, 43, 45, 47, 49, 51, 53, 55, 57, 59, 61, 63, 65, 67, 69], -3: [71, 29, 33, 35, 37, 39, 41, 43, 45, 46, 48, 50, 52, 54, 56, 58, 60, 62, 64, 66, 68], -2: [71, 29, 33, 35, 36, 38, 40, 42, 44, 46, 48, 50, 52, 54, 56, 58, 60, 62, 64, 66, 68], -1: [71, 29, 33, 34, 36, 38, 40, 42, 43, 45, 47, 49, 51, 53, 55, 57, 59, 61, 63, 65, 67], 0: [29, 29, 32, 34, 36, 37, 39, 41, 43, 45, 47, 49, 51, 52, 55, 57, 59, 61, 63, 65, 67], 1: [29, 30, 32, 33, 35, 37, 39, 41, 43, 44, 46, 48, 50, 52, 54, 56, 58, 60, 62, 65, 67], 2: [29, 30, 31, 33, 35, 36, 38, 40, 42, 44, 46, 48, 50, 52, 54, 56, 58, 60, 62, 64, 67], 3: [29, 29, 31, 32, 34, 36, 37, 39, 41, 43, 45, 47, 49, 51, 52, 55, 57, 59, 61, 63, 66], 4: [30, 30, 31, 33, 34, 36, 38, 39, 41, 43, 45, 47, 49, 51, 53, 55, 57, 59, 61, 63, 66], 5: [31, 30, 32, 33, 35, 36, 38, 40, 42, 43, 45, 47, 49, 51, 53, 55, 57, 59, 61, 64, 66], 6: [32, 30, 32, 33, 35, 36, 38, 40, 42, 43, 45, 47, 49, 51, 53, 55, 57, 59, 61, 64, 66], 7: [33, 31, 32, 33, 35, 36, 38, 40, 41, 43, 45, 47, 49, 51, 52, 55, 57, 59, 61, 63, 65], 8: [34, 31, 32, 34, 35, 37, 38, 40, 42, 43, 45, 47, 49, 51, 53, 55, 57, 59, 61, 64, 66], 9: [35, 31, 32, 34, 35, 36, 38, 40, 41, 43, 45, 47, 49, 51, 53, 55, 57, 59, 62, 64, 66], 10: [36, 31, 32, 34, 35, 37, 38, 40, 42, 44, 45, 47, 50, 51, 53, 55, 58, 60, 62, 65, 67], 11: [37, 31, 32, 33, 35, 36, 37, 39, 41, 43, 45, 47, 48, 50, 52, 54, 57, 59, 61, 63, 66], 12: [38, 31, 32, 33, 35, 36, 37, 39, 41, 43, 45, 46, 48, 50, 52, 53, 56, 58, 60, 63, 65], 13: [39, 31, 32, 33, 35, 36, 37, 39, 41, 43, 44, 46, 47, 50, 51, 53, 55, 58, 59, 62, 64], 14: [40, 30, 32, 33, 34, 35, 37, 38, 40, 41, 43, 45, 47, 48, 50, 52, 54, 56, 59, 60, 63], 15: [41, 30, 31, 33, 34, 35, 36, 37, 39, 41, 43, 44, 46, 47, 50, 51, 53, 55, 58, 59, 62], 16: [42, 30, 31, 32, 34, 35, 36, 37, 39, 41, 42, 43, 45, 47, 49, 50, 52, 54, 57, 59, 61], 17: [43, 30, 31, 32, 33, 34, 36, 37, 38, 40, 41, 43, 45, 46, 48, 50, 52, 53, 56, 58, 60], 18: [44, 30, 31, 32, 33, 34, 35, 36, 37, 39, 41, 43, 44, 45, 47, 49, 50, 52, 55, 57, 59], 19: [45, 29, 30, 31, 32, 34, 35, 36, 37, 39, 40, 41, 43, 45, 47, 48, 50, 52, 53, 56, 59], 20: [46, 29, 30, 31, 32, 33, 34, 35, 36, 37, 39, 41, 42, 44, 45, 47, 49, 50, 52, 55, 58], 21: [47, 29, 29, 30, 31, 32, 33, 34, 35, 36, 37, 39, 41, 43, 44, 45, 47, 49, 51, 52, 55], 22: [48, 29, 29, 30, 31, 32, 33, 34, 35, 36, 37, 39, 41, 42, 43, 45, 47, 48, 50, 52, 54], 23: [49, 29, 29, 29, 30, 31, 32, 33, 34, 35, 36, 37, 39, 41, 42, 43, 45, 47, 50, 51, 52], 24: [50, 29, 29, 29, 29, 30, 31, 32, 33, 34, 35, 36, 37, 39, 41, 43, 45, 46, 47, 50, 52], 25: [51, 29, 29, 29, 29, 29, 29, 30, 32, 33, 34, 35, 36, 37, 39, 41, 43, 45, 47, 50, 52], 26: [52, 31, 29, 29, 29, 29, 29, 29, 30, 31, 32, 33, 34, 35, 37, 39, 41, 43, 45, 47, 50], 27: [53, 52, 31, 29, 29, 29, 29, 29, 29, 30, 31, 32, 33, 35, 36, 37, 39, 41, 45, 47, 50], 28: [54, 37, 36, 34, 31, 29, 29, 29, 29, 29, 29, 29, 31, 32, 33, 35, 36, 37, 41, 43, 51], 29: [55, 39, 36, 35, 34, 31, 30, 29, 29, 29, 29, 29, 29, 30, 31, 33, 34, 36, 37, 41, 45], 30: [56, 43, 40, 39, 36, 35, 34, 32, 31, 29, 29, 29, 29, 29, 29, 29, 31, 32, 34, 36, 37]}, {-30: 69.4824858973471, -29: 74.22155821586009, -28: -101.00655372336229, -27: -95.96108978257858, -26: -90.58823168846435, -25: -84.95754893082909, -24: -79.16475243579693, -23: -74.58170401077804, -22: -70.36863019795445, -21: -63.586926661485904, -20: -60.02907479536782, -19: -55.212667633886866, -18: -52.38349179625657, -17: -48.216986910707895, -16: -46.01174082494393, -15: -42.44710185282824, -14: -40.742373533820974, -13: -37.69704701968781, -12: -34.89393207779901, -11: -32.31714216980233, -10: -28.91660875050535, -9: -25.592966481131878, -8: -22.365124368647486, -7: -19.24851133918005, -6: -16.254902979862845, -5: -13.564556634478977, -4: -10.666186759844837, -3: -7.952165722745594, -2: -5.262395399595127, -1: -2.6081998861885047, 0: 0.0, 1: 2.5528981471717485, 2: 5.042451069170908, 3: 7.925414521710454, 4: 9.63299425477694, 5: 11.382642815080832, 6: 14.366042847308934, 7: 16.863939409778148, 8: 18.759797387531254, 9: 21.825095214441617, 10: 23.754188944270688, 11: 26.594388491213095, 12: 28.4853717841332, 13: 30.526578059588203, 14: 33.81010040801472, 15: 36.18142350614976, 16: 38.73251859515069, 17: 41.473309189333264, 18: 44.41176831153565, 19: 47.55289814717177, 20: 50.89754846543764, 21: 53.675401808659124, 22: 56.80862589172397, 23: 60.96525578904018, 24: 65.29756977222867, 25: 69.76472883361795, 26: 74.22155821586009, 27: -101.00655372336229, 28: -95.96108978257858, 29: -90.58823168846435, 30: -84.95754893082909})\n"
          ],
          "name": "stdout"
        }
      ]
    }
  ]
}