{
  "nbformat": 4,
  "nbformat_minor": 0,
  "metadata": {
    "colab": {
      "name": "Calculations - Analysis.ipynb",
      "provenance": [],
      "collapsed_sections": [],
      "toc_visible": true,
      "machine_shape": "hm",
      "include_colab_link": true
    },
    "kernelspec": {
      "name": "python3",
      "display_name": "Python 3"
    }
  },
  "cells": [
    {
      "cell_type": "markdown",
      "metadata": {
        "id": "view-in-github",
        "colab_type": "text"
      },
      "source": [
        "<a href=\"https://colab.research.google.com/github/douyang/echonet-function-evaluation/blob/master/Calculations_Analysis.ipynb\" target=\"_parent\"><img src=\"https://colab.research.google.com/assets/colab-badge.svg\" alt=\"Open In Colab\"/></a>"
      ]
    },
    {
      "cell_type": "markdown",
      "metadata": {
        "id": "1jGANGwopG4g"
      },
      "source": [
        "# Generating Image Samples"
      ]
    },
    {
      "cell_type": "code",
      "metadata": {
        "id": "pb8mnyOscRTj"
      },
      "source": [
        "from google.colab.patches import cv2_imshow\n",
        "import os\n",
        "import cv2\n",
        "import numpy as np"
      ],
      "execution_count": 1,
      "outputs": []
    },
    {
      "cell_type": "code",
      "metadata": {
        "id": "clYOAL30gH5-"
      },
      "source": [
        "path = \"/content/120135181_326257581976038_4332868179002762702_n.png\""
      ],
      "execution_count": 2,
      "outputs": []
    },
    {
      "cell_type": "markdown",
      "metadata": {
        "id": "DHXCX73VzjZn"
      },
      "source": [
        "#Get all of the coordinates of the edge of the segmented mask(Red Version)"
      ]
    },
    {
      "cell_type": "code",
      "metadata": {
        "id": "OkLPu6KZzieu"
      },
      "source": [
        "# # read image\n",
        "# img = cv2.imread(path)\n",
        "# rgb = cv2.cvtColor(img, cv2.COLOR_BGR2RGB)\n",
        "\n",
        "# # set lower and upper bounds on blue color\n",
        "# lower = (100,0,0)\n",
        "# upper = (255,0,0)\n",
        "\n",
        "# # threshold and invert so hexagon is white on black background\n",
        "# thresh = cv2.inRange(rgb, lower, upper)\n",
        "\n",
        "# # get contours\n",
        "# result = np.zeros_like(thresh)\n",
        "# contours = cv2.findContours(thresh, cv2.RETR_EXTERNAL, cv2.CHAIN_APPROX_NONE)\n",
        "# contours = contours[0] if len(contours) == 2 else contours[1]\n",
        "\n",
        "# points = []\n",
        "# # list contour points\n",
        "# for pt in contours:\n",
        "#     for i in pt:\n",
        "#       for coord in i:\n",
        "#         points.append(coord.tolist())\n",
        "# print(points)\n",
        "\n",
        "# print(\"Number of points: \", len(points))\n",
        "# # show thresh and contour  \n",
        "# cv2_imshow(thresh)\n",
        "# cv2_imshow(img)\n",
        "\n",
        "# cv2.waitKey(0)\n",
        "# cv2.destroyAllWindows()\n"
      ],
      "execution_count": null,
      "outputs": []
    },
    {
      "cell_type": "markdown",
      "metadata": {
        "id": "VxTYjT1ckr7z"
      },
      "source": [
        "# Blue Version"
      ]
    },
    {
      "cell_type": "code",
      "metadata": {
        "id": "XaHMKuUIhIpn"
      },
      "source": [
        "# # read image\n",
        "# img = cv2.imread(path)\n",
        "# rgb = cv2.cvtColor(img, cv2.COLOR_BGR2RGB)\n",
        "\n",
        "# # set lower and upper bounds on blue color\n",
        "# lower = (0,0,100)\n",
        "# upper = (255,255,255)\n",
        "\n",
        "# # threshold and invert so hexagon is white on black background\n",
        "# thresh = cv2.inRange(rgb, lower, upper)\n",
        "\n",
        "\n",
        "# # get contours\n",
        "# result = np.zeros_like(thresh)\n",
        "# contours = cv2.findContours(thresh, cv2.RETR_EXTERNAL, cv2.CHAIN_APPROX_NONE)\n",
        "# contours = contours[0] if len(contours) == 2 else contours[1]\n",
        "\n",
        "# points = []\n",
        "# # list contour points\n",
        "# for pt in contours:\n",
        "#     for i in pt:\n",
        "#       for coord in i:\n",
        "#         points.append(coord.tolist())\n",
        "# print(points)\n",
        "\n",
        "# print(\"Number of points: \", len(points))\n",
        "# # show thresh and contour  \n",
        "# cv2_imshow(thresh)\n",
        "# cv2_imshow(img)\n",
        "# # cv2_imshow(opening)\n",
        "# # cv2_imshow(closing)\n",
        "\n",
        "# cv2.waitKey(0)\n",
        "# cv2.destroyAllWindows()\n"
      ],
      "execution_count": null,
      "outputs": []
    },
    {
      "cell_type": "markdown",
      "metadata": {
        "id": "_eTgTNqmuMAy"
      },
      "source": [
        "# Mask from binary mask"
      ]
    },
    {
      "cell_type": "code",
      "metadata": {
        "id": "cago6URCuLd3",
        "outputId": "f6ee31bc-bbda-47ea-f922-ccd3b93e7918",
        "colab": {
          "base_uri": "https://localhost:8080/",
          "height": 295
        }
      },
      "source": [
        "# read image\n",
        "img = cv2.imread(path)\n",
        "rgb = cv2.cvtColor(img, cv2.COLOR_BGR2RGB)\n",
        "\n",
        "# set lower and upper bounds on blue color\n",
        "lower = (200,200,200)\n",
        "upper = (255,255,255)\n",
        "\n",
        "# threshold and invert so hexagon is white on black background\n",
        "thresh = cv2.inRange(rgb, lower, upper)\n",
        "\n",
        "# get contours\n",
        "result = np.zeros_like(thresh)\n",
        "contours = cv2.findContours(thresh, cv2.RETR_EXTERNAL, cv2.CHAIN_APPROX_NONE)\n",
        "contours = contours[0] if len(contours) == 2 else contours[1]\n",
        "\n",
        "points = []\n",
        "# list contour points\n",
        "for pt in contours:\n",
        "    for i in pt:\n",
        "      for coord in i:\n",
        "        points.append(coord.tolist())\n",
        "print(points)\n",
        "\n",
        "print(\"Number of points: \", len(points))\n",
        "# show thresh and contour  \n",
        "cv2_imshow(img)\n",
        "cv2_imshow(thresh)\n",
        "\n",
        "# cv2_imshow(opening)\n",
        "# cv2_imshow(closing)\n",
        "\n",
        "cv2.waitKey(0)\n",
        "cv2.destroyAllWindows()\n"
      ],
      "execution_count": 3,
      "outputs": [
        {
          "output_type": "stream",
          "text": [
            "[[59, 20], [58, 21], [57, 21], [56, 21], [55, 22], [54, 22], [53, 22], [52, 23], [51, 23], [50, 23], [49, 24], [48, 24], [47, 24], [46, 25], [45, 26], [44, 27], [43, 27], [42, 28], [41, 29], [41, 30], [40, 31], [39, 32], [38, 32], [37, 33], [36, 34], [36, 35], [35, 36], [35, 37], [35, 38], [34, 39], [34, 40], [33, 41], [33, 42], [32, 43], [32, 44], [32, 45], [31, 46], [31, 47], [31, 48], [31, 49], [32, 50], [32, 51], [32, 52], [33, 53], [34, 54], [35, 55], [36, 55], [37, 55], [38, 55], [39, 56], [40, 56], [41, 56], [42, 56], [43, 57], [44, 57], [45, 57], [46, 57], [47, 58], [48, 58], [49, 58], [50, 59], [51, 59], [52, 59], [53, 59], [54, 59], [55, 59], [56, 59], [57, 59], [58, 59], [59, 58], [59, 57], [59, 56], [60, 55], [60, 54], [61, 53], [61, 52], [62, 51], [62, 50], [63, 49], [63, 48], [63, 47], [64, 46], [64, 45], [65, 44], [65, 43], [65, 42], [65, 41], [65, 40], [66, 39], [66, 38], [66, 37], [67, 36], [67, 35], [67, 34], [67, 33], [67, 32], [68, 31], [68, 30], [68, 29], [68, 28], [68, 27], [68, 26], [68, 25], [68, 24], [68, 23], [68, 22], [68, 21], [67, 20], [66, 20], [65, 20], [64, 20], [63, 20], [62, 20], [61, 20], [60, 20]]\n",
            "Number of points:  115\n"
          ],
          "name": "stdout"
        },
        {
          "output_type": "display_data",
          "data": {
            "image/png": "[encoded data removed]",
            "text/plain": [
              "<PIL.Image.Image image mode=RGB size=112x112 at 0x7F45B113BF98>"
            ]
          },
          "metadata": {
            "tags": []
          }
        },
        {
          "output_type": "display_data",
          "data": {
            "image/png": "[encoded data removed]",
            "text/plain": [
              "<PIL.Image.Image image mode=L size=112x112 at 0x7F45B113BEB8>"
            ]
          },
          "metadata": {
            "tags": []
          }
        }
      ]
    },
    {
      "cell_type": "code",
      "metadata": {
        "id": "GrvWzR4MlKM8"
      },
      "source": [
        "pointGroups = []\n",
        "index = 0\n",
        "subgroup = [points[0]]\n",
        "\n",
        "for i in range(len(points) - 1):\n",
        "  prevPoint = points[i]\n",
        "  currentPoint = points[i+1]\n",
        "\n",
        "  if abs(prevPoint[0]-currentPoint[0]) <= 1 and abs(prevPoint[1]-currentPoint[1]) <= 1:\n",
        "    subgroup.append(currentPoint)\n",
        "  else:\n",
        "    pointGroups.append(subgroup[:])\n",
        "    subgroup = [currentPoint]\n",
        "\n",
        "pointGroups.append(subgroup)\n",
        "\n",
        "mainPointGroup = []\n",
        "maxPointGroupSize = 0\n",
        "\n",
        "for group in pointGroups:\n",
        "  if len(group) > maxPointGroupSize:\n",
        "    maxPointGroup = group\n",
        "    maxPointGroupSize = len(group)\n",
        "\n",
        "points = maxPointGroup[:]"
      ],
      "execution_count": 4,
      "outputs": []
    },
    {
      "cell_type": "markdown",
      "metadata": {
        "id": "eTM-6vUrz19L"
      },
      "source": [
        "# Top 5 and Bottom 5 Analysis(Heuristic 2)\n"
      ]
    },
    {
      "cell_type": "code",
      "metadata": {
        "id": "bXj9D_WPYf54",
        "outputId": "c51b380e-2213-42f9-8bec-c51f34b16dec",
        "colab": {
          "base_uri": "https://localhost:8080/",
          "height": 34
        }
      },
      "source": [
        "def getDistance(point1, point2):\n",
        "  return math.sqrt((point1[0]-point2[0])**2 + (point1[1]-point2[1])**2)\n",
        "\n",
        "def getSlope(point1, point2):\n",
        "  if ((point1[0] == point2[0])):\n",
        "    return -333\n",
        "  return (point1[1] - point2[1])/(point1[0] - point2[0])\n",
        "\n",
        "# Minimum and Maximum Y Coord\n",
        "maxY = max(points, key = lambda point: point[1])\n",
        "minY = min(points, key = lambda point: point[1])\n",
        "\n",
        "# MinY and MaxY With the limits\n",
        "minYWith5 = minY[1] + 5\n",
        "maxYWithout5 = maxY[1] - 15\n",
        "\n",
        "# Creating these arrays\n",
        "minYWith5Arr = []\n",
        "maxYWithout5Arr = []\n",
        "\n",
        "# Finding these points\n",
        "for point in points:\n",
        "  if point[1] == minYWith5:\n",
        "    minYWith5Arr.append(point)\n",
        "  if point[1] == maxYWithout5:\n",
        "    maxYWithout5Arr.append(point)\n",
        "\n",
        "# Average X Coordinates\n",
        "averageTopX = round((minYWith5Arr[0][0] + minYWith5Arr[-1][0])/2)\n",
        "averageBottomX = round((maxYWithout5Arr[0][0] + maxYWithout5Arr[-1][0])/2)\n",
        "slope = getSlope([averageTopX, minYWith5], [averageBottomX, maxYWithout5])\n",
        "\n",
        "if slope > 0:\n",
        "  averageTopX -= round((minYWith5Arr[-1][0] - minYWith5Arr[0][0])/1.5/slope)\n",
        "  averageBottomX += round((maxYWithout5Arr[-1][0] - maxYWithout5Arr[0][0])/3/slope)\n",
        "else:\n",
        "  averageTopX -= round((minYWith5Arr[-1][0] - minYWith5Arr[0][0])/1.5/slope)\n",
        "  averageBottomX += round((maxYWithout5Arr[-1][0] - maxYWithout5Arr[0][0])/3/slope)\n",
        "\n",
        "\n",
        "# Creating these arrays\n",
        "averageTopXArr = []\n",
        "averageBottomXArr = []\n",
        "\n",
        "# Finding these points\n",
        "condition = True\n",
        "if slope > 0:\n",
        "  while condition and averageTopX <= minYWith5Arr[-1][0] and averageBottomX >= maxYWithout5Arr[0][0]:\n",
        "    for point in points:\n",
        "      if point[0] == averageTopX:\n",
        "        averageTopXArr.append(point)\n",
        "      if point[0] == averageBottomX:\n",
        "        averageBottomXArr.append(point)\n",
        "    if len(averageTopXArr) > 0 and len(averageBottomXArr):\n",
        "      condition = False\n",
        "    if len(averageTopXArr) == 0:\n",
        "      averageTopX += 1\n",
        "    if len(averageBottomXArr) == 0:\n",
        "      averageBottomXArr -= 1\n",
        "else:\n",
        "  while condition and averageTopX >= minYWith5Arr[0][0] and averageBottomX <= maxYWithout5Arr[-1][0]:\n",
        "    for point in points:\n",
        "      if point[0] == averageTopX:\n",
        "        averageTopXArr.append(point)\n",
        "      if point[0] == averageBottomX:\n",
        "        averageBottomXArr.append(point)\n",
        "    if len(averageTopXArr) > 0 and len(averageBottomXArr):\n",
        "      condition = False\n",
        "    if len(averageTopXArr) == 0:\n",
        "      averageTopX -= 1\n",
        "    if len(averageBottomXArr) == 0:\n",
        "      averageBottomXArr += 1\n",
        "\n",
        "# Sorting Arrs\n",
        "averageTopXArr.sort(key=lambda point: point[1])\n",
        "averageBottomXArr.sort(key=lambda point: point[1])\n",
        "averageBottomXArr.reverse()\n",
        "\n",
        "\n",
        "# Finding Min Top and Max Bottom\n",
        "TopCoord = averageTopXArr[0]\n",
        "BottomCoord = averageBottomXArr[0]\n",
        "\n",
        "x1, y1 = TopCoord\n",
        "x2, y2 = BottomCoord\n",
        "\n",
        "if (x1 + y1) > (x2 + y2):\n",
        "  x1, y1, x2, y2 = x2, y2, x1, y1\n",
        "\n",
        "print(x1, y1, x2, y2)"
      ],
      "execution_count": 5,
      "outputs": [
        {
          "output_type": "stream",
          "text": [
            "64 20 43 57\n"
          ],
          "name": "stdout"
        }
      ]
    },
    {
      "cell_type": "markdown",
      "metadata": {
        "id": "h1Hbm3Zp0MMV"
      },
      "source": [
        "# Calculate Weighted Average"
      ]
    },
    {
      "cell_type": "code",
      "metadata": {
        "id": "FFDvJJ110O1H",
        "outputId": "07d2ca70-0c00-4a2a-cd66-7283c6796cc4",
        "colab": {
          "base_uri": "https://localhost:8080/",
          "height": 54
        }
      },
      "source": [
        "import math\n",
        "\n",
        "# parallel_dist = distance/21\n",
        "\n",
        "weighted_avg = []\n",
        "\n",
        "for n in range(1, 21, 1):\n",
        "  x_perpendicular = (((n*x1)+(21-n)*(x2))/21)\n",
        "  y_perpendicular = (((n*y1)+(21-n)*(y2))/21)\n",
        "  weighted_avg.append([x_perpendicular, y_perpendicular])\n",
        "\n",
        "print(weighted_avg)"
      ],
      "execution_count": 6,
      "outputs": [
        {
          "output_type": "stream",
          "text": [
            "[[44.0, 55.23809523809524], [45.0, 53.476190476190474], [46.0, 51.714285714285715], [47.0, 49.95238095238095], [48.0, 48.19047619047619], [49.0, 46.42857142857143], [50.0, 44.666666666666664], [51.0, 42.904761904761905], [52.0, 41.142857142857146], [53.0, 39.38095238095238], [54.0, 37.61904761904762], [55.0, 35.857142857142854], [56.0, 34.095238095238095], [57.0, 32.333333333333336], [58.0, 30.571428571428573], [59.0, 28.80952380952381], [60.0, 27.047619047619047], [61.0, 25.285714285714285], [62.0, 23.523809523809526], [63.0, 21.761904761904763]]\n"
          ],
          "name": "stdout"
        }
      ]
    },
    {
      "cell_type": "markdown",
      "metadata": {
        "id": "TLFxNNTyvynO"
      },
      "source": [
        "# Find All Mask White points"
      ]
    },
    {
      "cell_type": "code",
      "metadata": {
        "id": "EUn8wGqxv3Xz",
        "outputId": "730b792a-acdb-4667-b060-d65bf45621d3",
        "colab": {
          "base_uri": "https://localhost:8080/",
          "height": 71
        }
      },
      "source": [
        "p1Index = points.index([x1, y1])\n",
        "p2Index = points.index([x2, y2])\n",
        "\n",
        "lowerIndex = min(p1Index, p2Index)\n",
        "higherIndex = max(p1Index, p2Index)\n",
        "\n",
        "higherIntercept = points[lowerIndex:higherIndex]\n",
        "lowerIntercept = points[higherIndex:] + points[:lowerIndex]\n",
        "\n",
        "if (higherIntercept[0][0] + higherIntercept[0][1]) > (lowerIntercept[0][0] + lowerIntercept[0][1]):\n",
        "  lowerIntercept, higherIntercept = higherIntercept, lowerIntercept\n",
        "\n",
        "print(lowerIntercept)\n",
        "print(higherIntercept)"
      ],
      "execution_count": 7,
      "outputs": [
        {
          "output_type": "stream",
          "text": [
            "[[43, 57], [44, 57], [45, 57], [46, 57], [47, 58], [48, 58], [49, 58], [50, 59], [51, 59], [52, 59], [53, 59], [54, 59], [55, 59], [56, 59], [57, 59], [58, 59], [59, 58], [59, 57], [59, 56], [60, 55], [60, 54], [61, 53], [61, 52], [62, 51], [62, 50], [63, 49], [63, 48], [63, 47], [64, 46], [64, 45], [65, 44], [65, 43], [65, 42], [65, 41], [65, 40], [66, 39], [66, 38], [66, 37], [67, 36], [67, 35], [67, 34], [67, 33], [67, 32], [68, 31], [68, 30], [68, 29], [68, 28], [68, 27], [68, 26], [68, 25], [68, 24], [68, 23], [68, 22], [68, 21], [67, 20], [66, 20], [65, 20]]\n",
            "[[64, 20], [63, 20], [62, 20], [61, 20], [60, 20], [59, 20], [58, 21], [57, 21], [56, 21], [55, 22], [54, 22], [53, 22], [52, 23], [51, 23], [50, 23], [49, 24], [48, 24], [47, 24], [46, 25], [45, 26], [44, 27], [43, 27], [42, 28], [41, 29], [41, 30], [40, 31], [39, 32], [38, 32], [37, 33], [36, 34], [36, 35], [35, 36], [35, 37], [35, 38], [34, 39], [34, 40], [33, 41], [33, 42], [32, 43], [32, 44], [32, 45], [31, 46], [31, 47], [31, 48], [31, 49], [32, 50], [32, 51], [32, 52], [33, 53], [34, 54], [35, 55], [36, 55], [37, 55], [38, 55], [39, 56], [40, 56], [41, 56], [42, 56]]\n"
          ],
          "name": "stdout"
        }
      ]
    },
    {
      "cell_type": "code",
      "metadata": {
        "id": "jQSOeO-chFhD"
      },
      "source": [
        "def findCorrespondingMaskPoints(weighted_avg, lowerIntercept, higherIntercept, x1, y1, x2, y2, slope, i):\n",
        "  # Calculate perpendicular slope\n",
        "  try:\n",
        "    perp_slope = -1/slope\n",
        "  except:\n",
        "    perp_slope = 10000\n",
        "\n",
        "  # Indexing\n",
        "  lowerIndex = 0\n",
        "  higherIndex = 0\n",
        "\n",
        "  # Make sure its from top to bottom direction\n",
        "  if (weighted_avg[-1][0] + weighted_avg[-1][1]) < (weighted_avg[0][0] + weighted_avg[0][1]):\n",
        "    weighted_avg = weighted_avg[::-1]\n",
        "\n",
        "  # Make sure its from top to bottom direction\n",
        "  if getDistance(weighted_avg[0], higherIntercept[0]) > getDistance(weighted_avg[0], higherIntercept[-1]):\n",
        "      higherIntercept = higherIntercept[::-1]\n",
        "  \n",
        "  print(higherIntercept)\n",
        "\n",
        "  # Make sure its from top to bottom direction\n",
        "  if getDistance(weighted_avg[0], lowerIntercept[0]) > getDistance(weighted_avg[0], lowerIntercept[-1]):\n",
        "      lowerIntercept = lowerIntercept[::-1]\n",
        "\n",
        "  higherInterceptAveragePoints = []\n",
        "  lowerInterceptAveragePoints = []\n",
        "\n",
        "  for averagePoint in weighted_avg:\n",
        "    try:\n",
        "      condition = True\n",
        "      count = 0\n",
        "      while condition:\n",
        "        higherIndex = max(higherIndex, 1)\n",
        "        point = higherIntercept[higherIndex]\n",
        "        if higherIndex == 0:\n",
        "          prev_point =  [x1, y1] if getDistance(point, [x1, y1]) < getDistance(point, [x2, y2]) else [x2, y2]\n",
        "          start_point = prev_point[:]\n",
        "        else:\n",
        "          prev_point = higherIntercept[higherIndex-1]\n",
        "        \n",
        "        new_slope = getSlope(point, averagePoint)\n",
        "        prev_slope =  getSlope(prev_point, averagePoint)\n",
        "        betweenCond = ((point[0] < averagePoint[0] and prev_point[0] > averagePoint[0]) or (point[0] > averagePoint[0] and prev_point[0] < averagePoint[0])) and abs(new_slope) > abs(slope) and abs(prev_slope) > abs(slope)\n",
        "        slopeCond = (new_slope >= perp_slope and prev_slope<=perp_slope) or  (new_slope <= perp_slope and prev_slope>=perp_slope)\n",
        "        # print(slopeCond and not betweenCond, count, point, prev_point, averagePoint, prev_slope, new_slope, perp_slope)\n",
        "\n",
        "        count += 1\n",
        "        higherIndex += 1\n",
        "\n",
        "        if perp_slope == 10000:\n",
        "          if (point[0] < averagePoint[0] and prev_point[0] > averagePoint[0]) or (point[0] > averagePoint[0] and prev_point[0] < averagePoint[0]):\n",
        "            higherInterceptAveragePoints.append(point)\n",
        "            condition = False\n",
        "            higherIndex -= 1\n",
        "        elif not (len(higherInterceptAveragePoints)>0 and higherInterceptAveragePoints[0] == point and point == start_point):\n",
        "          if slopeCond and not betweenCond:\n",
        "            higherInterceptAveragePoints.append(point)\n",
        "            condition = False\n",
        "            higherIndex -= 1\n",
        "          elif abs(perp_slope) >= 6 and ((new_slope > 1.1*abs(slope) and prev_slope < -1.1*abs(slope)) or (new_slope < -1.1*abs(slope) and prev_slope > 1.1*abs(slope))):\n",
        "            higherInterceptAveragePoints.append(point)\n",
        "            condition = False\n",
        "            higherIndex -= 1\n",
        "          elif count >= len(higherIntercept)-1:\n",
        "            higherIndex -= count\n",
        "            if higherIndex == 0:\n",
        "              higherInterceptAveragePoints.append(start_point)\n",
        "            else:\n",
        "              higherInterceptAveragePoints.append(higherIntercept[higherIndex])\n",
        "            condition = False\n",
        "            higherIndex -= 1\n",
        "\n",
        "    except:\n",
        "      higherInterceptAveragePoints.append(higherIntercept[-1])\n",
        "  \n",
        "  for averagePoint in weighted_avg:\n",
        "    try:\n",
        "      condition = True\n",
        "      count = 0\n",
        "      while condition:\n",
        "        lowerIndex = max(lowerIndex, 1)\n",
        "        point = lowerIntercept[lowerIndex]\n",
        "\n",
        "        if lowerIndex == 0:\n",
        "          prev_point =  [x1, y1] if getDistance(point, [x1, y1]) < getDistance(point, [x2, y2]) else [x2, y2]\n",
        "          start_point = prev_point[:]\n",
        "        else:\n",
        "          prev_point = lowerIntercept[lowerIndex-1]\n",
        "\n",
        "\n",
        "        new_slope = getSlope(point, averagePoint)\n",
        "        prev_slope =  getSlope(prev_point, averagePoint)\n",
        "        betweenCond = ((point[0] < averagePoint[0] and prev_point[0] > averagePoint[0]) or (point[0] > averagePoint[0] and prev_point[0] < averagePoint[0])) and abs(new_slope) > abs(slope) and abs(prev_slope) > abs(slope)\n",
        "        slopeCond = (new_slope >= perp_slope and prev_slope<=perp_slope) or  (new_slope <= perp_slope and prev_slope>=perp_slope)\n",
        "        # print(slopeCond and not betweenCond, len(lowerInterceptAveragePoints), count, point, prev_point, averagePoint, prev_slope, new_slope, perp_slope)\n",
        "\n",
        "# False 0 [52, 50] [52, 49] [52.76190476190476, 49.04761904761905] 0.06250000000000466 -1.25 -16.0\n",
        "# False 0 [52, 50] [52, 49] [53.523809523809526, 49.095238095238095] 0.06249999999999971 -0.5937499999999996 -16.0\n",
        "# False 0 [52, 50] [52, 49] [54.285714285714285, 49.142857142857146] 0.06250000000000136 -0.37499999999999883 -16.0\n",
        "# False 0 [52, 50] [52, 49] [55.04761904761905, 49.19047619047619] 0.06249999999999971 -0.26562499999999994 -16.0\n",
        "# False 0 [52, 50] [52, 49] [55.80952380952381, 49.23809523809524] 0.0625000000000007 -0.19999999999999926 -16.0\n",
        "# False 0 [39, 54] [39, 53] [40.857142857142854, 53.04761904761905] 0.025641025641027507 -0.5128205128205119 -39.0\n",
        "\n",
        "# False 4 [41, 58] [40, 57] [40.857142857142854, 53.04761904761905] -4.611111111111123 34.666666666665904 -39.0\n",
        "\n",
        "        count += 1\n",
        "        lowerIndex += 1\n",
        "\n",
        "        if perp_slope == 10000:\n",
        "          if ((point[0] < averagePoint[0] and prev_point[0] > averagePoint[0]) or (point[0] > averagePoint[0] and prev_point[0] < averagePoint[0])):\n",
        "            print(\"here3\")\n",
        "            \n",
        "            lowerInterceptAveragePoints.append(point)\n",
        "            condition = False\n",
        "            lowerIndex -= 1\n",
        "        elif not (len(lowerInterceptAveragePoints)>0 and lowerInterceptAveragePoints[0] == point and point == start_point):\n",
        "          if slopeCond and not betweenCond:\n",
        "            print(\"here2\")\n",
        "            \n",
        "            lowerInterceptAveragePoints.append(point)\n",
        "            condition = False\n",
        "            lowerIndex -= 1\n",
        "          elif (abs(perp_slope) > 6) and ((new_slope > 1.1*abs(slope) and prev_slope < -1.1*abs(slope)) or (new_slope < -1.1*abs(slope) and prev_slope > 1.1*abs(slope))):\n",
        "           \n",
        "            lowerInterceptAveragePoints.append(point)\n",
        "            condition = False\n",
        "            lowerIndex -= 1\n",
        "          elif count >= len(lowerIntercept)-1:\n",
        "            lowerIndex -= count\n",
        "            if lowerIndex == 0:\n",
        "              lowerInterceptAveragePoints.append(start_point)\n",
        "            else:\n",
        "              lowerInterceptAveragePoints.append(lowerIntercept[lowerIndex])\n",
        "            condition = False\n",
        "            lowerIndex -= 1\n",
        "        # print(slopeCond and not betweenCond, len(lowerInterceptAveragePoints), count, point, prev_point, averagePoint, prev_slope, new_slope, perp_slope, point[0]-perp_slope*point[1])\n",
        "    except:\n",
        "      lowerInterceptAveragePoints.append(lowerIntercept[-1])\n",
        "\n",
        "  matchedAveragePoints = [lowerInterceptAveragePoints[i] + higherInterceptAveragePoints[i] for i in range(len(lowerInterceptAveragePoints))]\n",
        "  matchedAveragePoints.sort(key=lambda coord: (coord[0] + coord[2]) - perp_slope*(coord[1] + coord[3]))\n",
        "  lowerInterceptAveragePoints = [[matchedAveragePoints[i][0], matchedAveragePoints[i][1]] for i in range(len(matchedAveragePoints))]\n",
        "  higherInterceptAveragePoints = [[matchedAveragePoints[i][2], matchedAveragePoints[i][3]] for i in range(len(matchedAveragePoints))]\n",
        "\n",
        "  return (lowerInterceptAveragePoints, higherInterceptAveragePoints)\n",
        "\n",
        "\n",
        "# Create the 20 equally spaced points\n",
        "def getWeightedAveragePoints(x1, y1, x2, y2, number):\n",
        "  weighted_avg = []\n",
        "\n",
        "  for n in range(1, number+1, 1):\n",
        "    x_perpendicular = (((n*x1)+(number+1-n)*(x2))/(number+1))\n",
        "    y_perpendicular = (((n*y1)+(number+1-n)*(y2))/(number+1))\n",
        "    weighted_avg.append([x_perpendicular, y_perpendicular])\n",
        "\n",
        "  for pair in weighted_avg:\n",
        "    x, y = pair\n",
        "    if x == int(x):\n",
        "      pair[0] += 0.0001\n",
        "    if y == int(y):\n",
        "      pair[1] += 0.0001\n",
        "\n",
        "  return weighted_avg"
      ],
      "execution_count": 43,
      "outputs": []
    },
    {
      "cell_type": "code",
      "metadata": {
        "id": "BAHZKZA0gfnz",
        "outputId": "a056b5e9-4616-4ddc-88cc-465ba17dfeb0",
        "colab": {
          "base_uri": "https://localhost:8080/",
          "height": 445
        }
      },
      "source": [
        "i = 0\n",
        "\n",
        "x1, y1 = lowerIntercept[i]\n",
        "x2, y2 = higherIntercept[i]\n",
        "\n",
        "slope = getSlope([x1, y1], [x2, y2])\n",
        "\n",
        "p1Index = points.index([x1, y1])\n",
        "p2Index = points.index([x2, y2])\n",
        "\n",
        "lowerIndex = min(p1Index, p2Index)\n",
        "higherIndex = max(p1Index, p2Index)\n",
        "\n",
        "higherInterceptPoints = points[lowerIndex:higherIndex]\n",
        "lowerInterceptPoints = points[higherIndex:] + points[:lowerIndex]\n",
        "\n",
        "if (higherInterceptPoints[0][0] + higherInterceptPoints[0][1]) < (lowerInterceptPoints[0][0] + lowerInterceptPoints[0][1]):\n",
        "  lowerInterceptPoints, higherInterceptPoints = higherInterceptPoints, lowerInterceptPoints\n",
        "\n",
        "weighted_avg = getWeightedAveragePoints(x1, y1, x2, y2, 20)\n",
        "lowerInterceptAveragePoints, higherInterceptAveragePoints = findCorrespondingMaskPoints(weighted_avg, lowerInterceptPoints, higherInterceptPoints, x1, y1, x2, y2, slope, i)"
      ],
      "execution_count": 44,
      "outputs": [
        {
          "output_type": "stream",
          "text": [
            "[[65, 20], [66, 20], [67, 20], [68, 21], [68, 22], [68, 23], [68, 24], [68, 25], [68, 26], [68, 27], [68, 28], [68, 29], [68, 30], [68, 31], [67, 32], [67, 33], [67, 34], [67, 35], [67, 36], [66, 37], [66, 38], [66, 39], [65, 40], [65, 41], [65, 42], [65, 43], [65, 44], [64, 45], [64, 46], [63, 47], [63, 48], [63, 49], [62, 50], [62, 51], [61, 52], [61, 53], [60, 54], [60, 55], [59, 56], [59, 57], [59, 58], [58, 59], [57, 59], [56, 59], [55, 59], [54, 59], [53, 59], [52, 59], [51, 59], [50, 59], [49, 58], [48, 58], [47, 58], [46, 57], [45, 57], [44, 57], [43, 57]]\n",
            "here2\n",
            "here2\n",
            "here2\n",
            "here2\n",
            "here2\n",
            "here2\n",
            "here2\n",
            "here2\n",
            "here2\n",
            "here2\n",
            "here2\n",
            "here2\n",
            "here2\n",
            "here2\n",
            "here2\n",
            "here2\n",
            "here2\n",
            "here2\n",
            "here2\n",
            "[[59, 20], [42, 56], [55, 22], [52, 23], [49, 24], [46, 25], [45, 26], [43, 27], [41, 29], [40, 31], [39, 32], [37, 33], [36, 35], [35, 37], [34, 39], [33, 41], [32, 43], [32, 44], [31, 46], [31, 48]]\n",
            "[[68, 25], [43, 57], [68, 30], [67, 32], [67, 34], [67, 36], [66, 38], [65, 40], [65, 42], [65, 44], [64, 46], [63, 48], [62, 50], [61, 52], [60, 54], [59, 56], [59, 57], [58, 59], [54, 59], [50, 59]]\n",
            "[[31, 48], [42, 56], [31, 46], [32, 44], [32, 43], [33, 41], [34, 39], [35, 37], [36, 35], [37, 33], [39, 32], [40, 31], [41, 29], [43, 27], [45, 26], [46, 25], [49, 24], [52, 23], [55, 22], [59, 20]]\n",
            "[[50, 59], [43, 57], [54, 59], [58, 59], [59, 57], [59, 56], [60, 54], [61, 52], [62, 50], [63, 48], [64, 46], [65, 44], [65, 42], [65, 40], [66, 38], [67, 36], [67, 34], [67, 32], [68, 30], [68, 25]]\n"
          ],
          "name": "stdout"
        }
      ]
    },
    {
      "cell_type": "code",
      "metadata": {
        "id": "GVJJMIzfhbj8",
        "outputId": "144f2393-baf8-46f4-d8bd-2764a63c1c04",
        "colab": {
          "base_uri": "https://localhost:8080/",
          "height": 285
        }
      },
      "source": [
        "image = cv2.imread(path) \n",
        "\n",
        "height = image.shape[0]\n",
        "width = image.shape[1]\n",
        "\n",
        "\n",
        "# for point in weighted_avg:\n",
        "#   cv2.circle(image,(int(point[0]), int(point[1])), 1, (0,255,0), -1)\n",
        "  # if point[0] <50:\n",
        "  #   print(point)\n",
        "\n",
        "print(x1, y1)\n",
        "print(x2, y2)\n",
        "print(weighted_avg)\n",
        "for j in range(len(lowerInterceptAveragePoints)): \n",
        "    cv2.line(image, tuple(lowerInterceptAveragePoints[j]), tuple(higherInterceptAveragePoints[j]), (255,255,0), 1)\n",
        "\n",
        "for point in lowerInterceptAveragePoints:\n",
        "  if point == [42, 56]:\n",
        "    cv2.circle(image,(int(point[0]), int(point[1])), 1, (0,255,0), -1)\n",
        "\n",
        "\n",
        "\n",
        "cv2.line(image, (x1, y1), (x2, y2), (0,0,255), 1)\n",
        "\n",
        "cv2_imshow(image)\n",
        "\n",
        "print(lowerInterceptPoints)\n",
        "print(higherInterceptPoints)\n",
        "print(weighted_avg)\n",
        "print(lowerInterceptAveragePoints)\n",
        "print(higherInterceptAveragePoints)\n",
        "# print([x1, y1])\n",
        "# print([x2, y2])\n",
        "\n",
        "cv2.waitKey(0)\n",
        "cv2.destroyAllWindows()"
      ],
      "execution_count": 47,
      "outputs": [
        {
          "output_type": "stream",
          "text": [
            "43 57\n",
            "64 20\n",
            "[[63.0001, 21.761904761904763], [62.0001, 23.523809523809526], [61.0001, 25.285714285714285], [60.0001, 27.047619047619047], [59.0001, 28.80952380952381], [58.0001, 30.571428571428573], [57.0001, 32.333333333333336], [56.0001, 34.095238095238095], [55.0001, 35.857142857142854], [54.0001, 37.61904761904762], [53.0001, 39.38095238095238], [52.0001, 41.142857142857146], [51.0001, 42.904761904761905], [50.0001, 44.666666666666664], [49.0001, 46.42857142857143], [48.0001, 48.19047619047619], [47.0001, 49.95238095238095], [46.0001, 51.714285714285715], [45.0001, 53.476190476190474], [44.0001, 55.23809523809524]]\n"
          ],
          "name": "stdout"
        },
        {
          "output_type": "display_data",
          "data": {
            "image/png": "[encoded data removed]",
            "text/plain": [
              "<PIL.Image.Image image mode=RGB size=112x112 at 0x7F45A9242668>"
            ]
          },
          "metadata": {
            "tags": []
          }
        },
        {
          "output_type": "stream",
          "text": [
            "[[64, 20], [63, 20], [62, 20], [61, 20], [60, 20], [59, 20], [58, 21], [57, 21], [56, 21], [55, 22], [54, 22], [53, 22], [52, 23], [51, 23], [50, 23], [49, 24], [48, 24], [47, 24], [46, 25], [45, 26], [44, 27], [43, 27], [42, 28], [41, 29], [41, 30], [40, 31], [39, 32], [38, 32], [37, 33], [36, 34], [36, 35], [35, 36], [35, 37], [35, 38], [34, 39], [34, 40], [33, 41], [33, 42], [32, 43], [32, 44], [32, 45], [31, 46], [31, 47], [31, 48], [31, 49], [32, 50], [32, 51], [32, 52], [33, 53], [34, 54], [35, 55], [36, 55], [37, 55], [38, 55], [39, 56], [40, 56], [41, 56], [42, 56]]\n",
            "[[43, 57], [44, 57], [45, 57], [46, 57], [47, 58], [48, 58], [49, 58], [50, 59], [51, 59], [52, 59], [53, 59], [54, 59], [55, 59], [56, 59], [57, 59], [58, 59], [59, 58], [59, 57], [59, 56], [60, 55], [60, 54], [61, 53], [61, 52], [62, 51], [62, 50], [63, 49], [63, 48], [63, 47], [64, 46], [64, 45], [65, 44], [65, 43], [65, 42], [65, 41], [65, 40], [66, 39], [66, 38], [66, 37], [67, 36], [67, 35], [67, 34], [67, 33], [67, 32], [68, 31], [68, 30], [68, 29], [68, 28], [68, 27], [68, 26], [68, 25], [68, 24], [68, 23], [68, 22], [68, 21], [67, 20], [66, 20], [65, 20]]\n",
            "[[63.0001, 21.761904761904763], [62.0001, 23.523809523809526], [61.0001, 25.285714285714285], [60.0001, 27.047619047619047], [59.0001, 28.80952380952381], [58.0001, 30.571428571428573], [57.0001, 32.333333333333336], [56.0001, 34.095238095238095], [55.0001, 35.857142857142854], [54.0001, 37.61904761904762], [53.0001, 39.38095238095238], [52.0001, 41.142857142857146], [51.0001, 42.904761904761905], [50.0001, 44.666666666666664], [49.0001, 46.42857142857143], [48.0001, 48.19047619047619], [47.0001, 49.95238095238095], [46.0001, 51.714285714285715], [45.0001, 53.476190476190474], [44.0001, 55.23809523809524]]\n",
            "[[31, 48], [42, 56], [31, 46], [32, 44], [32, 43], [33, 41], [34, 39], [35, 37], [36, 35], [37, 33], [39, 32], [40, 31], [41, 29], [43, 27], [45, 26], [46, 25], [49, 24], [52, 23], [55, 22], [59, 20]]\n",
            "[[50, 59], [43, 57], [54, 59], [58, 59], [59, 57], [59, 56], [60, 54], [61, 52], [62, 50], [63, 48], [64, 46], [65, 44], [65, 42], [65, 40], [66, 38], [67, 36], [67, 34], [67, 32], [68, 30], [68, 25]]\n"
          ],
          "name": "stdout"
        }
      ]
    },
    {
      "cell_type": "markdown",
      "metadata": {
        "id": "lZ4W1B_vZwrf"
      },
      "source": [
        "# Split points into 2"
      ]
    },
    {
      "cell_type": "code",
      "metadata": {
        "id": "NUEyVIWLfWl2"
      },
      "source": [
        "# def findCorrespondingMaskPoints(weighted_avg, lowerIntercept, higherIntercept, x1, y1, x2, y2, slope, i):\n",
        "#   # Calculate perpendicular slope\n",
        "#   try:\n",
        "#     perp_slope = -1/slope\n",
        "#   except:\n",
        "#     perp_slope = 10000\n",
        "\n",
        "#   # Indexing\n",
        "#   lowerIndex = 0\n",
        "#   higherIndex = 0\n",
        "\n",
        "#   # Make sure its from top to bottom direction\n",
        "#   if (weighted_avg[-1][0] + weighted_avg[-1][1]) < (weighted_avg[0][0] + weighted_avg[0][1]):\n",
        "#     weighted_avg = weighted_avg[::-1]\n",
        "\n",
        "#   # Make sure its from top to bottom direction\n",
        "#   if getDistance(weighted_avg[0], higherIntercept[0]) > getDistance(weighted_avg[0], higherIntercept[-1]):\n",
        "#       higherIntercept = higherIntercept[::-1]\n",
        "\n",
        "#   # Make sure its from top to bottom direction\n",
        "#   if getDistance(weighted_avg[0], lowerIntercept[0]) > getDistance(weighted_avg[0], lowerIntercept[-1]):\n",
        "#       lowerIntercept = lowerIntercept[::-1]\n",
        "\n",
        "#   higherInterceptAveragePoints = []\n",
        "#   lowerInterceptAveragePoints = []\n",
        "\n",
        "#   for averagePoint in weighted_avg:\n",
        "#     try:\n",
        "#       condition = True\n",
        "#       count = 0\n",
        "#       while condition:\n",
        "#         point = higherIntercept[higherIndex]\n",
        "#         if higherIndex == 0:\n",
        "#           prev_point =  [x1, y1] if getDistance(point, [x1, y1]) < getDistance(point, [x2, y2]) else [x2, y2]\n",
        "#           start_point = prev_point[:]\n",
        "#         else:\n",
        "#           prev_point = higherIntercept[higherIndex-1]\n",
        "        \n",
        "#         new_slope = getSlope(point, averagePoint)\n",
        "#         prev_slope =  getSlope(prev_point, averagePoint)\n",
        "#         betweenCond = ((point[0] < averagePoint[0] and prev_point[0] > averagePoint[0]) or (point[0] > averagePoint[0] and prev_point[0] < averagePoint[0])) and abs(new_slope) > abs(slope) and abs(prev_slope) > abs(slope)\n",
        "#         slopeCond = (new_slope >= perp_slope and prev_slope<=perp_slope) or  (new_slope <= perp_slope and prev_slope>=perp_slope)\n",
        "\n",
        "#         if slopeCond and not betweenCond:\n",
        "#           higherInterceptAveragePoints.append(point)\n",
        "#           condition = False\n",
        "#         elif abs(perp_slope) >= 10 and ((new_slope > 0 and prev_slope < 0) or (new_slope < 0 and prev_slope > 0)):\n",
        "#           higherInterceptAveragePoints.append(point)\n",
        "#           condition = False\n",
        "#         elif count > len(higherIntercept)/2:\n",
        "#           higherIndex -= count\n",
        "#           if higherIndex == 0:\n",
        "#             higherInterceptAveragePoints.append(start_point)\n",
        "#           else:\n",
        "#             higherInterceptAveragePoints.append(higherIntercept[higherIndex])\n",
        "#           condition = False\n",
        "        \n",
        "#         count += 1\n",
        "#         higherIndex += 1\n",
        "#     except:\n",
        "#       higherInterceptAveragePoints.append(higherIntercept[higherIndex - 1])\n",
        "\n",
        "#   for averagePoint in weighted_avg:\n",
        "#     try:\n",
        "#       condition = True\n",
        "#       count = 0\n",
        "#       while condition:\n",
        "#         point = lowerIntercept[lowerIndex]\n",
        "#         if lowerIndex == 0:\n",
        "#           prev_point = [x1, y1] if getDistance(point, [x1, y1]) < getDistance(point, [x2, y2]) else [x2, y2]\n",
        "#           start_point = prev_point[:]\n",
        "#         else:\n",
        "#           prev_point = lowerIntercept[lowerIndex-1]\n",
        "\n",
        "#         new_slope = getSlope(point, averagePoint)\n",
        "#         prev_slope =  getSlope(prev_point, averagePoint)\n",
        "#         betweenCond = ((point[0] < averagePoint[0] and prev_point[0] > averagePoint[0]) or (point[0] > averagePoint[0] and prev_point[0] < averagePoint[0])) and abs(new_slope) > abs(slope) and abs(prev_slope) > abs(slope)\n",
        "#         slopeCond = (new_slope >= perp_slope and prev_slope<=perp_slope) or  (new_slope <= perp_slope and prev_slope>=perp_slope)\n",
        "\n",
        "#         if slopeCond and not betweenCond:\n",
        "#           lowerInterceptAveragePoints.append(point)\n",
        "#           condition = False\n",
        "#         elif abs(perp_slope) > 10 and ((new_slope > 0 and prev_slope < 0) or (new_slope < 0 and prev_slope > 0)):\n",
        "#           lowerInterceptAveragePoints.append(point)\n",
        "#           condition = False\n",
        "#         elif count > len(lowerIntercept)/2:\n",
        "#           lowerIndex -= count\n",
        "#           if lowerIndex == 0:\n",
        "#             lowerInterceptAveragePoints.append(start_point)\n",
        "#           else:\n",
        "#             lowerInterceptAveragePoints.append(lowerIntercept[lowerIndex])\n",
        "#           condition = False\n",
        "        \n",
        "#         count += 1\n",
        "#         lowerIndex += 1\n",
        "#     except:\n",
        "#       lowerInterceptAveragePoints.append(lowerIntercept[lowerIndex - 1])\n",
        "  \n",
        "#   if i == 30:\n",
        "#       print(higherIntercept)\n",
        "#       print(lowerIntercept)\n",
        "#       print(weighted_avg)\n",
        "#       print(lowerInterceptAveragePoints)\n",
        "#       print(higherInterceptAveragePoints)\n",
        "#   return (lowerInterceptAveragePoints, higherInterceptAveragePoints)\n",
        "\n",
        "#  \\\n"
      ],
      "execution_count": null,
      "outputs": []
    },
    {
      "cell_type": "code",
      "metadata": {
        "id": "Ko8MIoVRy2Wy"
      },
      "source": [
        "# i = 30\n",
        "\n",
        "# x1, y1 = lowerIntercept[i]\n",
        "# x2, y2 = higherIntercept[i]\n",
        "\n",
        "# print(x1, y1, x2, y2)\n",
        "\n",
        "# slope = getSlope([x1, y1], [x2, y2])\n",
        "\n",
        "# p1Index = points.index([x1, y1])\n",
        "# p2Index = points.index([x2, y2])\n",
        "\n",
        "# lowerIndex = min(p1Index, p2Index)\n",
        "# higherIndex = max(p1Index, p2Index)\n",
        "\n",
        "# higherInterceptPoints = points[lowerIndex:higherIndex]\n",
        "# lowerInterceptPoints = points[higherIndex:] + points[:lowerIndex]\n",
        "\n",
        "# if (higherInterceptPoints[0][0] + higherInterceptPoints[0][1]) < (lowerInterceptPoints[0][0] + lowerInterceptPoints[0][1]):\n",
        "#   lowerInterceptPoints, higherInterceptPoints = higherInterceptPoints, lowerInterceptPoints\n",
        "\n",
        "# weighted_avg = getWeightedAveragePoints(x1, y1, x2, y2, 20)\n",
        "# lowerInterceptAveragePoints, higherInterceptAveragePoints = findCorrespondingMaskPoints(weighted_avg, lowerInterceptPoints, higherInterceptPoints, x1, y1, x2, y2, slope, i)"
      ],
      "execution_count": null,
      "outputs": []
    },
    {
      "cell_type": "code",
      "metadata": {
        "id": "CqWLH5PHNHT5",
        "outputId": "694a1135-fc85-4c78-ff42-91c7fe220467",
        "colab": {
          "base_uri": "https://localhost:8080/",
          "height": 200
        }
      },
      "source": [
        "image = cv2.imread(path) \n",
        "\n",
        "height = image.shape[0]\n",
        "width = image.shape[1]\n",
        "\n",
        "\n",
        "# for point in weighted_avg:\n",
        "#   cv2.circle(image,(int(point[0]), int(point[1])), 1, (0,255,0), -1)\n",
        "  # if point[0] <50:\n",
        "  #   print(point)\n",
        "\n",
        "print(x1, y1)\n",
        "print(x2, y2)\n",
        "print(weighted_avg)\n",
        "for i in range(len(lowerInterceptAveragePoints)): \n",
        "  # cv2.circle(image,tuple(lowerInterceptAveragePoints[i]), 1, (0,255,0), -1)\n",
        "  cv2.line(image, tuple(lowerInterceptAveragePoints[i]), tuple(higherInterceptAveragePoints[i]), (255,0,0), 1)\n",
        "cv2.line(image, (x1, y1), (x2, y2), (0,0,255), 1)\n",
        "\n",
        "cv2_imshow(image)\n",
        "\n",
        "\n",
        "# print(lowerInterceptAveragePoints)\n",
        "# print(higherInterceptAveragePoints)\n",
        "# print([x1, y1])\n",
        "# print([x2, y2])\n",
        "\n",
        "cv2.waitKey(0)\n",
        "cv2.destroyAllWindows()"
      ],
      "execution_count": null,
      "outputs": [
        {
          "output_type": "stream",
          "text": [
            "80 56\n",
            "38 51\n",
            "[[40.0001, 51.23809523809524], [42.0001, 51.476190476190474], [44.0001, 51.714285714285715], [46.0001, 51.95238095238095], [48.0001, 52.19047619047619], [50.0001, 52.42857142857143], [52.0001, 52.666666666666664], [54.0001, 52.904761904761905], [56.0001, 53.142857142857146], [58.0001, 53.38095238095238], [60.0001, 53.61904761904762], [62.0001, 53.857142857142854], [64.0001, 54.095238095238095], [66.0001, 54.333333333333336], [68.0001, 54.57142857142857], [70.0001, 54.80952380952381], [72.0001, 55.04761904761905], [74.0001, 55.285714285714285], [76.0001, 55.523809523809526], [78.0001, 55.76190476190476]]\n"
          ],
          "name": "stdout"
        },
        {
          "output_type": "display_data",
          "data": {
            "image/png": "[encoded data removed]",
            "text/plain": [
              "<PIL.Image.Image image mode=RGB size=112x112 at 0x7F4E80A91C18>"
            ]
          },
          "metadata": {
            "tags": []
          }
        }
      ]
    },
    {
      "cell_type": "markdown",
      "metadata": {
        "id": "p95B-xh3cdJb"
      },
      "source": [
        "# Method of Disks"
      ]
    },
    {
      "cell_type": "code",
      "metadata": {
        "id": "b2vJeSdDDbDf",
        "outputId": "f7320f55-9363-4064-8694-8da5a55c5a9e",
        "colab": {
          "base_uri": "https://localhost:8080/",
          "height": 34
        }
      },
      "source": [
        "distance = getDistance([x1, y1], [x2, y2])\n",
        "parallelSeperationDistance = distance/21\n",
        "\n",
        "volume = 0\n",
        "\n",
        "for i in range(len(lowerInterceptAveragePoints)):\n",
        "  diameter = getDistance(lowerInterceptAveragePoints[i], higherInterceptAveragePoints[i])\n",
        "  radius = diameter/2\n",
        "  diskVolume = math.pi * radius**2 * parallelSeperationDistance\n",
        "  volume += diskVolume\n",
        "\n",
        "print(volume)"
      ],
      "execution_count": null,
      "outputs": [
        {
          "output_type": "stream",
          "text": [
            "41731.78976435809\n"
          ],
          "name": "stdout"
        }
      ]
    },
    {
      "cell_type": "markdown",
      "metadata": {
        "id": "P88Fd5CfaE2q"
      },
      "source": [
        "# Prolate Ellipsoid Model (Single Ellipsoid Method)"
      ]
    },
    {
      "cell_type": "code",
      "metadata": {
        "id": "ywdPFF4oaUbJ",
        "outputId": "88ce71e2-827d-46f0-f6d7-c1b5f9e5b810",
        "colab": {
          "base_uri": "https://localhost:8080/",
          "height": 34
        }
      },
      "source": [
        "long_axis_length = getDistance([x1, y1], [x2, y2])\n",
        "parallelSeperationDistance = distance/21\n",
        "\n",
        "# Manual Area Calc\n",
        "area = 0\n",
        "\n",
        "for i in range(len(lowerInterceptAveragePoints)):\n",
        "  length = getDistance(lowerInterceptAveragePoints[i], higherInterceptAveragePoints[i])\n",
        "  diskArea = length * parallelSeperationDistance\n",
        "  area += diskArea\n",
        "\n",
        "volume = 0.85 * area * long_axis_length\n",
        "\n",
        "print(volume)"
      ],
      "execution_count": null,
      "outputs": [
        {
          "output_type": "stream",
          "text": [
            "49730.174047767265\n"
          ],
          "name": "stdout"
        }
      ]
    },
    {
      "cell_type": "markdown",
      "metadata": {
        "id": "ic0RMEAWgNPE"
      },
      "source": [
        "# Prolate Ellipsoid Model (Biplane Area Length)"
      ]
    },
    {
      "cell_type": "code",
      "metadata": {
        "id": "47DUD_2BiBkz",
        "outputId": "95a30793-b32a-4475-c8f9-800a45956385",
        "colab": {
          "base_uri": "https://localhost:8080/",
          "height": 34
        }
      },
      "source": [
        "# Long axis Length\n",
        "long_axis_length = getDistance([x1, y1], [x2, y2])\n",
        "\n",
        "# Storing all perp lens\n",
        "lengthArr = []\n",
        "\n",
        "for i in range(len(lowerInterceptAveragePoints)):\n",
        "  length = getDistance(lowerInterceptAveragePoints[i], higherInterceptAveragePoints[i])\n",
        "  lengthArr.append(length)\n",
        "\n",
        "# 3 diff heuristics\n",
        "averageLength = sum(lengthArr)/len(lengthArr)\n",
        "maxLength = max(lengthArr)\n",
        "midLength = lengthArr[len(lengthArr)//2]\n",
        "\n",
        "# Volume Calc\n",
        "volume = math.pi/6 * midLength**2 * long_axis_length\n",
        "\n",
        "print(volume)"
      ],
      "execution_count": 11,
      "outputs": [
        {
          "output_type": "stream",
          "text": [
            "28286.779461691316\n"
          ],
          "name": "stdout"
        }
      ]
    },
    {
      "cell_type": "markdown",
      "metadata": {
        "id": "ggihUplhmqGW"
      },
      "source": [
        "# Bullet Method\n"
      ]
    },
    {
      "cell_type": "code",
      "metadata": {
        "id": "jGp5CslBoBix",
        "outputId": "57feb755-5959-4a43-e860-c6a1ae080c19",
        "colab": {
          "base_uri": "https://localhost:8080/",
          "height": 34
        }
      },
      "source": [
        "# Long axis Length\n",
        "long_axis_length = getDistance([x1, y1], [x2, y2])\n",
        "\n",
        "# Mid Values\n",
        "midIndex = len(lengthArr)//2\n",
        "midLength = getDistance(lowerInterceptAveragePoints[midIndex], higherInterceptAveragePoints[midIndex])\n",
        "\n",
        "area = math.pi * (midLength/2)**2 \n",
        "\n",
        "# Volume Calc\n",
        "volume = 5/6 * area * long_axis_length\n",
        "\n",
        "print(volume)"
      ],
      "execution_count": 12,
      "outputs": [
        {
          "output_type": "stream",
          "text": [
            "35358.47432711415\n"
          ],
          "name": "stdout"
        }
      ]
    },
    {
      "cell_type": "markdown",
      "metadata": {
        "id": "P0EE97ftjXzZ"
      },
      "source": [
        "# Will become local file\n"
      ]
    },
    {
      "cell_type": "code",
      "metadata": {
        "id": "qCNVzuPxwodU",
        "outputId": "89a12e1d-05c4-4f65-bb83-7d38f25e5de9",
        "colab": {
          "base_uri": "https://localhost:8080/",
          "height": 1000
        }
      },
      "source": [
        "import cv2\n",
        "import numpy as np\n",
        "import math\n",
        "import os\n",
        "\n",
        "# Gets all the contours for certain image\n",
        "def obtainContourPoints(path):\n",
        "  # read image\n",
        "  img = cv2.imread(path)\n",
        "  rgb = cv2.cvtColor(img, cv2.COLOR_BGR2RGB)\n",
        "\n",
        "  # set lower and upper bounds on blue color\n",
        "  lower = (200,200,200)\n",
        "  upper = (255,255,255)\n",
        "\n",
        "  # threshold and invert so hexagon is white on black background\n",
        "  thresh = cv2.inRange(rgb, lower, upper)\n",
        "\n",
        "  # get contours\n",
        "  result = np.zeros_like(thresh)\n",
        "  contours = cv2.findContours(thresh, cv2.RETR_EXTERNAL, cv2.CHAIN_APPROX_NONE)\n",
        "  contours = contours[0] if len(contours) == 2 else contours[1]\n",
        "\n",
        "  # Gets all contour points\n",
        "  points = []\n",
        "  for pt in contours:\n",
        "      for i in pt:\n",
        "        for coord in i:\n",
        "          points.append(coord.tolist())\n",
        "  \n",
        "  return points\n",
        "\n",
        "def getIdealPointGroup(points):\n",
        "  pointGroups = []\n",
        "  index = 0\n",
        "  subgroup = [points[0]]\n",
        "\n",
        "  for i in range(len(points) - 1):\n",
        "    prevPoint = points[i]\n",
        "    currentPoint = points[i+1]\n",
        "\n",
        "    if (abs(int(prevPoint[0])-int(currentPoint[0])) <= 1) and (abs(int(prevPoint[1])-int(currentPoint[1])) <= 1):\n",
        "      subgroup.append(currentPoint)\n",
        "    else:\n",
        "      pointGroups.append(subgroup[:])\n",
        "      subgroup = [currentPoint]\n",
        "\n",
        "  pointGroups.append(subgroup)\n",
        "\n",
        "  mainPointGroup = []\n",
        "  maxPointGroupSize = 0\n",
        "\n",
        "  for group in pointGroups:\n",
        "    if len(group) > maxPointGroupSize:\n",
        "      maxPointGroup = group\n",
        "      maxPointGroupSize = len(group)\n",
        "\n",
        "  return maxPointGroup\n",
        "\n",
        "# Finds points for main contour line\n",
        "def getTopAndBottomCoords(points):\n",
        "  # Minimum and Maximum Y Coord\n",
        "  maxY = max(points, key = lambda point: point[1])\n",
        "  minY = min(points, key = lambda point: point[1])\n",
        "\n",
        "  # MinY and MaxY With the limits\n",
        "  minYWith5 = minY[1] + 5\n",
        "  maxYWithout5 = maxY[1] - 15\n",
        "\n",
        "  # Creating these arrays\n",
        "  minYWith5Arr = []\n",
        "  maxYWithout5Arr = []\n",
        "\n",
        "  # Finding these points\n",
        "  for point in points:\n",
        "    if point[1] == minYWith5:\n",
        "      minYWith5Arr.append(point)\n",
        "    if point[1] == maxYWithout5:\n",
        "      maxYWithout5Arr.append(point)\n",
        "\n",
        "  # Average X Coordinates\n",
        "  averageTopX = round((minYWith5Arr[0][0] + minYWith5Arr[-1][0])/2)\n",
        "  averageBottomX = round((maxYWithout5Arr[0][0] + maxYWithout5Arr[-1][0])/2)\n",
        "  slope = getSlope([averageTopX, minYWith5], [averageBottomX, maxYWithout5])\n",
        "\n",
        "  averageTopX -= round((minYWith5Arr[-1][0] - minYWith5Arr[0][0])/1.5/slope)\n",
        "  averageBottomX += round((maxYWithout5Arr[-1][0] - maxYWithout5Arr[0][0])/3/slope)\n",
        "\n",
        "\n",
        "  # Creating these arrays\n",
        "  averageTopXArr = []\n",
        "  averageBottomXArr = []\n",
        "\n",
        "  # Finding these points\n",
        "  condition = True\n",
        "  if slope > 0:\n",
        "    while condition and averageTopX <= minYWith5Arr[-1][0] and averageBottomX >= maxYWithout5Arr[0][0]:\n",
        "      for point in points:\n",
        "        if point[0] == averageTopX:\n",
        "          averageTopXArr.append(point)\n",
        "        if point[0] == averageBottomX:\n",
        "          averageBottomXArr.append(point)\n",
        "      if len(averageTopXArr) > 0 and len(averageBottomXArr):\n",
        "        condition = False\n",
        "      if len(averageTopXArr) == 0:\n",
        "        averageTopX += 1\n",
        "      if len(averageBottomXArr) == 0:\n",
        "        averageBottomXArr -= 1\n",
        "  else:\n",
        "    while condition and averageTopX >= minYWith5Arr[0][0] and averageBottomX <= maxYWithout5Arr[-1][0]:\n",
        "      for point in points:\n",
        "        if point[0] == averageTopX:\n",
        "          averageTopXArr.append(point)\n",
        "        if point[0] == averageBottomX:\n",
        "          averageBottomXArr.append(point)\n",
        "      if len(averageTopXArr) > 0 and len(averageBottomXArr):\n",
        "        condition = False\n",
        "      if len(averageTopXArr) == 0:\n",
        "        averageTopX -= 1\n",
        "      if len(averageBottomXArr) == 0:\n",
        "        averageBottomXArr += 1\n",
        "\n",
        "  # Sorting Arrs\n",
        "  averageTopXArr.sort(key=lambda point: point[1])\n",
        "  averageBottomXArr.sort(key=lambda point: point[1])\n",
        "  averageBottomXArr.reverse()\n",
        "\n",
        "\n",
        "  # Finding Min Top and Max Botpp,\n",
        "  TopCoord = averageTopXArr[0]\n",
        "  BottomCoord = averageBottomXArr[0]\n",
        "\n",
        "  x1, y1 = TopCoord\n",
        "  x2, y2 = BottomCoord\n",
        "\n",
        "  return (x1, y1, x2, y2)\n",
        "\n",
        "\n",
        "# Create the 20 equally spaced points\n",
        "def getWeightedAveragePoints(x1, y1, x2, y2, number):\n",
        "  weighted_avg = []\n",
        "\n",
        "  for n in range(1, number+1, 1):\n",
        "    x_perpendicular = (((n*x1)+(number+1-n)*(x2))/(number+1))\n",
        "    y_perpendicular = (((n*y1)+(number+1-n)*(y2))/(number+1))\n",
        "    weighted_avg.append([x_perpendicular, y_perpendicular])\n",
        "\n",
        "  for pair in weighted_avg:\n",
        "    x, y = pair\n",
        "    if x == int(x):\n",
        "      pair[0] += 0.0001\n",
        "    if y == int(y):\n",
        "      pair[1] += 0.0001\n",
        "\n",
        "  return weighted_avg\n",
        "\n",
        "# Intercept slope\n",
        "def calcExpectedIntercept(x, y, slope):\n",
        "  return slope*x - y\n",
        "\n",
        "def splitPoints(x1, y1, x2, y2, slope, points):\n",
        "  p1Index = points.index([x1, y1])\n",
        "  p2Index = points.index([x2, y2])\n",
        "\n",
        "  lowerIndex = min(p1Index, p2Index)\n",
        "  higherIndex = max(p1Index, p2Index)\n",
        "\n",
        "  higherIntercept = points[lowerIndex:higherIndex]\n",
        "  lowerIntercept = points[higherIndex:] + points[:lowerIndex]\n",
        "\n",
        "  return (lowerIntercept, higherIntercept)\n",
        "\n",
        "# Distance Between 2 Pointss\n",
        "def getDistance(point1, point2):\n",
        "  return math.sqrt((point1[0]-point2[0])**2 + (point1[1]-point2[1])**2)\n",
        "\n",
        "# Slope between points \n",
        "def getSlope(point1, point2):\n",
        "  if ((point1[0] == point2[0])):\n",
        "    return -333\n",
        "  return (point1[1] - point2[1])/(point1[0] - point2[0])\n",
        "\n",
        "# Change to Method of Disks\n",
        "def volumeMethodOfDisks(x1, y1, x2, y2, number, lowerInterceptAveragePoints, higherInterceptAveragePoints):\n",
        "  # Long axis length and perp initialzation\n",
        "  distance = getDistance([x1, y1], [x2, y2])\n",
        "  parallelSeperationDistance = distance/(number + 1)\n",
        "\n",
        "  # Simpson Volume Methods\n",
        "  volume = 0\n",
        "\n",
        "  for i in range(len(lowerInterceptAveragePoints)):\n",
        "    diameter = getDistance(lowerInterceptAveragePoints[i], higherInterceptAveragePoints[i])\n",
        "    radius = diameter/2\n",
        "    diskVolume = math.pi * radius**2 * parallelSeperationDistance\n",
        "    volume += diskVolume\n",
        "\n",
        "  return volume\n",
        "\n",
        "# Prolate Ellipsoid Method\n",
        "def volumeProlateEllipsoidMethod(x1, y1, x2, y2, lowerInterceptAveragePoints, higherInterceptAveragePoints):\n",
        "  long_axis_length = getDistance([x1, y1], [x2, y2])\n",
        "  parallelSeperationDistance = long_axis_length/21\n",
        "\n",
        "  # Manual Area Calc\n",
        "  area = 0\n",
        "\n",
        "  for i in range(len(lowerInterceptAveragePoints)):\n",
        "    length = getDistance(lowerInterceptAveragePoints[i], higherInterceptAveragePoints[i])\n",
        "    diskArea = length * parallelSeperationDistance\n",
        "    area += diskArea\n",
        "\n",
        "  volume = 0.85 * area * long_axis_length\n",
        "\n",
        "  return volume\n",
        "\n",
        "# Bullet Method Calculation\n",
        "def volumeBulletMethod(x1, y1, x2, y2, lowerInterceptAveragePoints, higherInterceptAveragePoints):\n",
        "  # Long axis Length\n",
        "  long_axis_length = getDistance([x1, y1], [x2, y2])\n",
        "\n",
        "  # Storing all perp lens\n",
        "  lengthArr = []\n",
        "\n",
        "  for i in range(len(lowerInterceptAveragePoints)):\n",
        "    length = getDistance(lowerInterceptAveragePoints[i], higherInterceptAveragePoints[i])\n",
        "    lengthArr.append(length)\n",
        "\n",
        "  midIndex = len(lengthArr)//2\n",
        "  midLength = getDistance(lowerInterceptAveragePoints[midIndex], higherInterceptAveragePoints[midIndex])\n",
        "\n",
        "  area = math.pi * (midLength/2)**2 \n",
        "\n",
        "  # Volume Calc\n",
        "  volume = 5/6 * area * long_axis_length\n",
        "\n",
        "  return volume\n",
        "\n",
        "def findCorrespondingMaskPoints(weighted_avg, lowerIntercept, higherIntercept, x1, y1, x2, y2, slope, i):\n",
        "  # Calculate perpendicular slope\n",
        "  try:\n",
        "    perp_slope = -1/slope\n",
        "  except:\n",
        "    perp_slope = 10000\n",
        "\n",
        "  # Indexing\n",
        "  lowerIndex = 0\n",
        "  higherIndex = 0\n",
        "\n",
        "  # Make sure its from top to bottom direction\n",
        "  if (weighted_avg[-1][0] + weighted_avg[-1][1]) < (weighted_avg[0][0] + weighted_avg[0][1]):\n",
        "    weighted_avg = weighted_avg[::-1]\n",
        "\n",
        "  # Make sure its from top to bottom direction\n",
        "  if getDistance(weighted_avg[0], higherIntercept[0]) > getDistance(weighted_avg[0], higherIntercept[-1]):\n",
        "      higherIntercept = higherIntercept[::-1]\n",
        "  \n",
        "\n",
        "  # Make sure its from top to bottom direction\n",
        "  if getDistance(weighted_avg[0], lowerIntercept[0]) > getDistance(weighted_avg[0], lowerIntercept[-1]):\n",
        "      lowerIntercept = lowerIntercept[::-1]\n",
        "\n",
        "  higherInterceptAveragePoints = []\n",
        "  lowerInterceptAveragePoints = []\n",
        "\n",
        "  for averagePoint in weighted_avg:\n",
        "    try:\n",
        "      condition = True\n",
        "      count = 0\n",
        "      while condition:\n",
        "        higherIndex = max(higherIndex, 1)\n",
        "        point = higherIntercept[higherIndex]\n",
        "        if higherIndex == 0:\n",
        "          prev_point =  [x1, y1] if getDistance(point, [x1, y1]) < getDistance(point, [x2, y2]) else [x2, y2]\n",
        "          start_point = prev_point[:]\n",
        "        else:\n",
        "          prev_point = higherIntercept[higherIndex-1]\n",
        "        \n",
        "        new_slope = getSlope(point, averagePoint)\n",
        "        prev_slope =  getSlope(prev_point, averagePoint)\n",
        "        betweenCond = ((point[0] < averagePoint[0] and prev_point[0] > averagePoint[0]) or (point[0] > averagePoint[0] and prev_point[0] < averagePoint[0])) and abs(new_slope) > abs(slope) and abs(prev_slope) > abs(slope)\n",
        "        slopeCond = (new_slope >= perp_slope and prev_slope<=perp_slope) or  (new_slope <= perp_slope and prev_slope>=perp_slope)\n",
        "\n",
        "        count += 1\n",
        "        higherIndex += 1\n",
        "\n",
        "        if perp_slope == 10000:\n",
        "          if (point[0] < averagePoint[0] and prev_point[0] > averagePoint[0]) or (point[0] > averagePoint[0] and prev_point[0] < averagePoint[0]):\n",
        "            higherInterceptAveragePoints.append(point)\n",
        "            condition = False\n",
        "            higherIndex -= 1\n",
        "        elif not (len(higherInterceptAveragePoints)>0 and higherInterceptAveragePoints[0] == point and point == start_point):\n",
        "          if slopeCond and not betweenCond:\n",
        "            higherInterceptAveragePoints.append(point)\n",
        "            condition = False\n",
        "            higherIndex -= 1\n",
        "          elif abs(perp_slope) >= 6 and ((new_slope > 1.1*abs(slope) and prev_slope < -1.1*abs(slope)) or (new_slope < -1.1*abs(slope) and prev_slope > 1.1*abs(slope))):\n",
        "            higherInterceptAveragePoints.append(point)\n",
        "            condition = False\n",
        "            higherIndex -= 1\n",
        "          elif count >= len(higherIntercept)-1:\n",
        "            higherIndex -= count\n",
        "            if higherIndex == 0:\n",
        "              higherInterceptAveragePoints.append(start_point)\n",
        "            else:\n",
        "              higherInterceptAveragePoints.append(higherIntercept[higherIndex])\n",
        "            condition = False\n",
        "            higherIndex -= 1\n",
        "\n",
        "    except:\n",
        "      higherInterceptAveragePoints.append(higherIntercept[-1])\n",
        "  \n",
        "  for averagePoint in weighted_avg:\n",
        "    try:\n",
        "      condition = True\n",
        "      count = 0\n",
        "      while condition:\n",
        "        lowerIndex = max(lowerIndex, 1)\n",
        "        point = lowerIntercept[lowerIndex]\n",
        "\n",
        "        if lowerIndex == 0:\n",
        "          prev_point =  [x1, y1] if getDistance(point, [x1, y1]) < getDistance(point, [x2, y2]) else [x2, y2]\n",
        "          start_point = prev_point[:]\n",
        "        else:\n",
        "          prev_point = lowerIntercept[lowerIndex-1]\n",
        "\n",
        "\n",
        "        new_slope = getSlope(point, averagePoint)\n",
        "        prev_slope =  getSlope(prev_point, averagePoint)\n",
        "        betweenCond = ((point[0] < averagePoint[0] and prev_point[0] > averagePoint[0]) or (point[0] > averagePoint[0] and prev_point[0] < averagePoint[0])) and abs(new_slope) > abs(slope) and abs(prev_slope) > abs(slope)\n",
        "        slopeCond = (new_slope >= perp_slope and prev_slope<=perp_slope) or  (new_slope <= perp_slope and prev_slope>=perp_slope)\n",
        "\n",
        "        count += 1\n",
        "        lowerIndex += 1\n",
        "\n",
        "        if perp_slope == 10000:\n",
        "          if ((point[0] < averagePoint[0] and prev_point[0] > averagePoint[0]) or (point[0] > averagePoint[0] and prev_point[0] < averagePoint[0])):            \n",
        "            lowerInterceptAveragePoints.append(point)\n",
        "            condition = False\n",
        "            lowerIndex -= 1\n",
        "        elif not (len(lowerInterceptAveragePoints)>0 and lowerInterceptAveragePoints[0] == point and point == start_point):\n",
        "          if slopeCond and not betweenCond:\n",
        "            lowerInterceptAveragePoints.append(point)\n",
        "            condition = False\n",
        "            lowerIndex -= 1\n",
        "          elif (abs(perp_slope) > 6) and ((new_slope > 1.1*abs(slope) and prev_slope < -1.1*abs(slope)) or (new_slope < -1.1*abs(slope) and prev_slope > 1.1*abs(slope))):\n",
        "            lowerInterceptAveragePoints.append(point)\n",
        "            condition = False\n",
        "            lowerIndex -= 1\n",
        "          elif count >= len(lowerIntercept)-1:\n",
        "            lowerIndex -= count\n",
        "            if lowerIndex == 0:\n",
        "              lowerInterceptAveragePoints.append(start_point)\n",
        "            else:\n",
        "              lowerInterceptAveragePoints.append(lowerIntercept[lowerIndex])\n",
        "            condition = False\n",
        "            lowerIndex -= 1\n",
        "    except:\n",
        "      lowerInterceptAveragePoints.append(lowerIntercept[-1])\n",
        "  \n",
        "  matchedAveragePoints = [lowerInterceptAveragePoints[i] + higherInterceptAveragePoints[i] for i in range(len(lowerInterceptAveragePoints))]\n",
        "  matchedAveragePoints.sort(key=lambda coord: (coord[0] + coord[2]) - perp_slope*(coord[1] + coord[3]))\n",
        "  lowerInterceptAveragePoints = [[matchedAveragePoints[i][0], matchedAveragePoints[i][1]] for i in range(len(matchedAveragePoints))]\n",
        "  higherInterceptAveragePoints = [[matchedAveragePoints[i][2], matchedAveragePoints[i][3]] for i in range(len(matchedAveragePoints))]\n",
        "\n",
        "\n",
        "  return (lowerInterceptAveragePoints, higherInterceptAveragePoints)\n",
        "\n",
        "def calculateVolume(path, number, method = \"Method of Disks\"):\n",
        "  points = getIdealPointGroup(obtainContourPoints(path))\n",
        "\n",
        "  x1, y1, x2, y2 = getTopAndBottomCoords(points)\n",
        "  if (x1 + y1) > (x2 + y2):\n",
        "    x1, y1, x2, y2 = x2, y2, x1, y1\n",
        "\n",
        "  mainLineSlope = getSlope([x1, y1], [x2, y2])\n",
        "  baseAngle = math.atan(mainLineSlope)\n",
        "\n",
        "  if baseAngle>0:\n",
        "      baseAngle -= math.pi\n",
        "  lowerIntercept, higherIntercept = splitPoints(x1, y1, x2, y2, mainLineSlope, points)\n",
        "\n",
        "  if (higherIntercept[0][0] + higherIntercept[0][1]) > (lowerIntercept[0][0] + lowerIntercept[0][1]):\n",
        "    lowerIntercept, higherIntercept = higherIntercept, lowerIntercept\n",
        "\n",
        "  volumes = {}\n",
        "  x1s = {}\n",
        "  y1s = {}\n",
        "  x2s = {}\n",
        "  y2s = {}\n",
        "  degrees = {}\n",
        "\n",
        "  # Volumes for all 0 to 5 cases\n",
        "  for i in range(-30, 31, 1):\n",
        "    x1, y1 = lowerIntercept[i]\n",
        "    x2, y2 = higherIntercept[i]\n",
        "\n",
        "\n",
        "    slope = getSlope([x1, y1], [x2, y2])\n",
        "    angle = math.atan(slope)\n",
        "\n",
        "    if angle>0:\n",
        "      angle -= math.pi\n",
        "\n",
        "    degrees[i] = (baseAngle - angle) * 180/math.pi\n",
        "\n",
        "\n",
        "    p1Index = points.index([x1, y1])\n",
        "    p2Index = points.index([x2, y2])\n",
        "\n",
        "    lowerIndex = min(p1Index, p2Index)\n",
        "    higherIndex = max(p1Index, p2Index)\n",
        "\n",
        "    higherInterceptPoints = points[lowerIndex:higherIndex]\n",
        "    lowerInterceptPoints = points[higherIndex:] + points[:lowerIndex]\n",
        "\n",
        "    if (higherInterceptPoints[0][0] + higherInterceptPoints[0][1]) < (lowerInterceptPoints[0][0] + lowerInterceptPoints[0][1]):\n",
        "      lowerInterceptPoints, higherInterceptPoints = higherInterceptPoints, lowerInterceptPoints\n",
        "\n",
        "    weighted_avg = getWeightedAveragePoints(x1, y1, x2, y2, number)\n",
        "    lowerInterceptAveragePoints, higherInterceptAveragePoints = findCorrespondingMaskPoints(weighted_avg, lowerInterceptPoints, higherInterceptPoints, x1, y1, x2, y2, slope, i)\n",
        "    \n",
        "    x1s[i] = [x1] + [point[0] for point in lowerInterceptAveragePoints]\n",
        "    y1s[i] = [y1] + [point[1] for point in lowerInterceptAveragePoints]\n",
        "\n",
        "    x2s[i] = [x2] + [point[0] for point in higherInterceptAveragePoints]\n",
        "    y2s[i] = [y2] + [point[1] for point in higherInterceptAveragePoints]\n",
        "\n",
        "    if i < 100:\n",
        "      print(i)\n",
        "      image = cv2.imread(path) \n",
        "\n",
        "\n",
        "      # for point in points:\n",
        "      #   cv2.circle(image,tuple(point), 1, (255,255,255), -1)\n",
        "      #   if point[0] <50:\n",
        "      #     print(point)\n",
        "\n",
        "\n",
        "      # for point in weighted_avg: \n",
        "      #   cv2.circle(image,tuple((int(point[0]), int(point[1]))), 1, (0,0,0), -1)\n",
        "      \n",
        "      for j in range(len(lowerInterceptAveragePoints)): \n",
        "        cv2.line(image, tuple(lowerInterceptAveragePoints[j]), tuple(higherInterceptAveragePoints[j]), (255,255,0), 1)\n",
        "\n",
        "\n",
        "      cv2.line(image, (x1, y1), (x2, y2), (0,0,0), 1)\n",
        "\n",
        "      cv2_imshow(image)\n",
        "      cv2.waitKey(0)\n",
        "      cv2.destroyAllWindows()\n",
        "\n",
        "    if  method == \"Method of Disks\":\n",
        "      volumes[i] = volumeMethodOfDisks(x1, y1, x2, y2, number, lowerInterceptAveragePoints, higherInterceptAveragePoints)\n",
        "    elif method == \"Prolate Ellipsoid\":\n",
        "      volumes[i] = volumeProlateEllipsoidMethod(x1, y1, x2, y2, lowerInterceptAveragePoints, higherInterceptAveragePoints)\n",
        "    elif method == \"Bullet Method\":\n",
        "      volumes[i] = volumeBulletMethod(x1, y1, x2, y2, lowerInterceptAveragePoints, higherInterceptAveragePoints)\n",
        "    \n",
        "  return (volumes, x1s, y1s, x2s, y2s, degrees)\n",
        "\n",
        "print(calculateVolume(path, 20, method = \"Method of Disks\"))\n",
        "# print(calculateVolume(\"/content/output/image.png\", method = \"Single Ellipsoid\"))\n",
        "# print(calculateVolume(\"/content/output/image.png\", method = \"Biplane Area\"))\n",
        "# print(calculateVolume(\"/content/output/image.png\", method = \"Bullet\"))"
      ],
      "execution_count": 48,
      "outputs": [
        {
          "output_type": "stream",
          "text": [
            "-30\n"
          ],
          "name": "stdout"
        },
        {
          "output_type": "display_data",
          "data": {
            "image/png": "[encoded data removed]",
            "text/plain": [
              "<PIL.Image.Image image mode=RGB size=112x112 at 0x7F45A9158240>"
            ]
          },
          "metadata": {
            "tags": []
          }
        },
        {
          "output_type": "stream",
          "text": [
            "-29\n"
          ],
          "name": "stdout"
        },
        {
          "output_type": "display_data",
          "data": {
            "image/png": "[encoded data removed]",
            "text/plain": [
              "<PIL.Image.Image image mode=RGB size=112x112 at 0x7F45A9158278>"
            ]
          },
          "metadata": {
            "tags": []
          }
        },
        {
          "output_type": "stream",
          "text": [
            "-28\n"
          ],
          "name": "stdout"
        },
        {
          "output_type": "display_data",
          "data": {
            "image/png": "[encoded data removed]",
            "text/plain": [
              "<PIL.Image.Image image mode=RGB size=112x112 at 0x7F45A9158208>"
            ]
          },
          "metadata": {
            "tags": []
          }
        },
        {
          "output_type": "stream",
          "text": [
            "-27\n"
          ],
          "name": "stdout"
        },
        {
          "output_type": "display_data",
          "data": {
            "image/png": "[encoded data removed]",
            "text/plain": [
              "<PIL.Image.Image image mode=RGB size=112x112 at 0x7F45A91581D0>"
            ]
          },
          "metadata": {
            "tags": []
          }
        },
        {
          "output_type": "stream",
          "text": [
            "-26\n"
          ],
          "name": "stdout"
        },
        {
          "output_type": "display_data",
          "data": {
            "image/png": "[encoded data removed]",
            "text/plain": [
              "<PIL.Image.Image image mode=RGB size=112x112 at 0x7F45A9158128>"
            ]
          },
          "metadata": {
            "tags": []
          }
        },
        {
          "output_type": "stream",
          "text": [
            "-25\n"
          ],
          "name": "stdout"
        },
        {
          "output_type": "display_data",
          "data": {
            "image/png": "[encoded data removed]",
            "text/plain": [
              "<PIL.Image.Image image mode=RGB size=112x112 at 0x7F45A9158240>"
            ]
          },
          "metadata": {
            "tags": []
          }
        },
        {
          "output_type": "stream",
          "text": [
            "-24\n"
          ],
          "name": "stdout"
        },
        {
          "output_type": "display_data",
          "data": {
            "image/png": "[encoded data removed]",
            "text/plain": [
              "<PIL.Image.Image image mode=RGB size=112x112 at 0x7F45A9158278>"
            ]
          },
          "metadata": {
            "tags": []
          }
        },
        {
          "output_type": "stream",
          "text": [
            "-23\n"
          ],
          "name": "stdout"
        },
        {
          "output_type": "display_data",
          "data": {
            "image/png": "[encoded data removed]",
            "text/plain": [
              "<PIL.Image.Image image mode=RGB size=112x112 at 0x7F45A9158208>"
            ]
          },
          "metadata": {
            "tags": []
          }
        },
        {
          "output_type": "stream",
          "text": [
            "-22\n"
          ],
          "name": "stdout"
        },
        {
          "output_type": "display_data",
          "data": {
            "image/png": "[encoded data removed]",
            "text/plain": [
              "<PIL.Image.Image image mode=RGB size=112x112 at 0x7F45A91581D0>"
            ]
          },
          "metadata": {
            "tags": []
          }
        },
        {
          "output_type": "stream",
          "text": [
            "-21\n"
          ],
          "name": "stdout"
        },
        {
          "output_type": "display_data",
          "data": {
            "image/png": "[encoded data removed]",
            "text/plain": [
              "<PIL.Image.Image image mode=RGB size=112x112 at 0x7F45A9158128>"
            ]
          },
          "metadata": {
            "tags": []
          }
        },
        {
          "output_type": "stream",
          "text": [
            "-20\n"
          ],
          "name": "stdout"
        },
        {
          "output_type": "display_data",
          "data": {
            "image/png": "[encoded data removed]",
            "text/plain": [
              "<PIL.Image.Image image mode=RGB size=112x112 at 0x7F45A9158240>"
            ]
          },
          "metadata": {
            "tags": []
          }
        },
        {
          "output_type": "stream",
          "text": [
            "-19\n"
          ],
          "name": "stdout"
        },
        {
          "output_type": "display_data",
          "data": {
            "image/png": "[encoded data removed]",
            "text/plain": [
              "<PIL.Image.Image image mode=RGB size=112x112 at 0x7F45A9158278>"
            ]
          },
          "metadata": {
            "tags": []
          }
        },
        {
          "output_type": "stream",
          "text": [
            "-18\n"
          ],
          "name": "stdout"
        },
        {
          "output_type": "display_data",
          "data": {
            "image/png": "[encoded data removed]",
            "text/plain": [
              "<PIL.Image.Image image mode=RGB size=112x112 at 0x7F45A9158128>"
            ]
          },
          "metadata": {
            "tags": []
          }
        },
        {
          "output_type": "stream",
          "text": [
            "-17\n"
          ],
          "name": "stdout"
        },
        {
          "output_type": "display_data",
          "data": {
            "image/png": "[encoded data removed]",
            "text/plain": [
              "<PIL.Image.Image image mode=RGB size=112x112 at 0x7F45A9158240>"
            ]
          },
          "metadata": {
            "tags": []
          }
        },
        {
          "output_type": "stream",
          "text": [
            "-16\n"
          ],
          "name": "stdout"
        },
        {
          "output_type": "display_data",
          "data": {
            "image/png": "[encoded data removed]",
            "text/plain": [
              "<PIL.Image.Image image mode=RGB size=112x112 at 0x7F45A9158278>"
            ]
          },
          "metadata": {
            "tags": []
          }
        },
        {
          "output_type": "stream",
          "text": [
            "-15\n"
          ],
          "name": "stdout"
        },
        {
          "output_type": "display_data",
          "data": {
            "image/png": "[encoded data removed]",
            "text/plain": [
              "<PIL.Image.Image image mode=RGB size=112x112 at 0x7F45A91582B0>"
            ]
          },
          "metadata": {
            "tags": []
          }
        },
        {
          "output_type": "stream",
          "text": [
            "-14\n"
          ],
          "name": "stdout"
        },
        {
          "output_type": "display_data",
          "data": {
            "image/png": "[encoded data removed]",
            "text/plain": [
              "<PIL.Image.Image image mode=RGB size=112x112 at 0x7F45A9158128>"
            ]
          },
          "metadata": {
            "tags": []
          }
        },
        {
          "output_type": "stream",
          "text": [
            "-13\n"
          ],
          "name": "stdout"
        },
        {
          "output_type": "display_data",
          "data": {
            "image/png": "[encoded data removed]",
            "text/plain": [
              "<PIL.Image.Image image mode=RGB size=112x112 at 0x7F45A9158240>"
            ]
          },
          "metadata": {
            "tags": []
          }
        },
        {
          "output_type": "stream",
          "text": [
            "-12\n"
          ],
          "name": "stdout"
        },
        {
          "output_type": "display_data",
          "data": {
            "image/png": "[encoded data removed]",
            "text/plain": [
              "<PIL.Image.Image image mode=RGB size=112x112 at 0x7F45A9158278>"
            ]
          },
          "metadata": {
            "tags": []
          }
        },
        {
          "output_type": "stream",
          "text": [
            "-11\n"
          ],
          "name": "stdout"
        },
        {
          "output_type": "display_data",
          "data": {
            "image/png": "[encoded data removed]",
            "text/plain": [
              "<PIL.Image.Image image mode=RGB size=112x112 at 0x7F45A9158438>"
            ]
          },
          "metadata": {
            "tags": []
          }
        },
        {
          "output_type": "stream",
          "text": [
            "-10\n"
          ],
          "name": "stdout"
        },
        {
          "output_type": "display_data",
          "data": {
            "image/png": "[encoded data removed]",
            "text/plain": [
              "<PIL.Image.Image image mode=RGB size=112x112 at 0x7F45A91582B0>"
            ]
          },
          "metadata": {
            "tags": []
          }
        },
        {
          "output_type": "stream",
          "text": [
            "-9\n"
          ],
          "name": "stdout"
        },
        {
          "output_type": "display_data",
          "data": {
            "image/png": "[encoded data removed]",
            "text/plain": [
              "<PIL.Image.Image image mode=RGB size=112x112 at 0x7F45A9158128>"
            ]
          },
          "metadata": {
            "tags": []
          }
        },
        {
          "output_type": "stream",
          "text": [
            "-8\n"
          ],
          "name": "stdout"
        },
        {
          "output_type": "display_data",
          "data": {
            "image/png": "[encoded data removed]",
            "text/plain": [
              "<PIL.Image.Image image mode=RGB size=112x112 at 0x7F45A9158240>"
            ]
          },
          "metadata": {
            "tags": []
          }
        },
        {
          "output_type": "stream",
          "text": [
            "-7\n"
          ],
          "name": "stdout"
        },
        {
          "output_type": "display_data",
          "data": {
            "image/png": "[encoded data removed]",
            "text/plain": [
              "<PIL.Image.Image image mode=RGB size=112x112 at 0x7F45A9158278>"
            ]
          },
          "metadata": {
            "tags": []
          }
        },
        {
          "output_type": "stream",
          "text": [
            "-6\n"
          ],
          "name": "stdout"
        },
        {
          "output_type": "display_data",
          "data": {
            "image/png": "[encoded data removed]",
            "text/plain": [
              "<PIL.Image.Image image mode=RGB size=112x112 at 0x7F45A9158438>"
            ]
          },
          "metadata": {
            "tags": []
          }
        },
        {
          "output_type": "stream",
          "text": [
            "-5\n"
          ],
          "name": "stdout"
        },
        {
          "output_type": "display_data",
          "data": {
            "image/png": "[encoded data removed]",
            "text/plain": [
              "<PIL.Image.Image image mode=RGB size=112x112 at 0x7F45A91582B0>"
            ]
          },
          "metadata": {
            "tags": []
          }
        },
        {
          "output_type": "stream",
          "text": [
            "-4\n"
          ],
          "name": "stdout"
        },
        {
          "output_type": "display_data",
          "data": {
            "image/png": "[encoded data removed]",
            "text/plain": [
              "<PIL.Image.Image image mode=RGB size=112x112 at 0x7F45A9158128>"
            ]
          },
          "metadata": {
            "tags": []
          }
        },
        {
          "output_type": "stream",
          "text": [
            "-3\n"
          ],
          "name": "stdout"
        },
        {
          "output_type": "display_data",
          "data": {
            "image/png": "[encoded data removed]",
            "text/plain": [
              "<PIL.Image.Image image mode=RGB size=112x112 at 0x7F45A9158240>"
            ]
          },
          "metadata": {
            "tags": []
          }
        },
        {
          "output_type": "stream",
          "text": [
            "-2\n"
          ],
          "name": "stdout"
        },
        {
          "output_type": "display_data",
          "data": {
            "image/png": "[encoded data removed]",
            "text/plain": [
              "<PIL.Image.Image image mode=RGB size=112x112 at 0x7F45A9158278>"
            ]
          },
          "metadata": {
            "tags": []
          }
        },
        {
          "output_type": "stream",
          "text": [
            "-1\n"
          ],
          "name": "stdout"
        },
        {
          "output_type": "display_data",
          "data": {
            "image/png": "[encoded data removed]",
            "text/plain": [
              "<PIL.Image.Image image mode=RGB size=112x112 at 0x7F45A91582B0>"
            ]
          },
          "metadata": {
            "tags": []
          }
        },
        {
          "output_type": "stream",
          "text": [
            "0\n"
          ],
          "name": "stdout"
        },
        {
          "output_type": "display_data",
          "data": {
            "image/png": "[encoded data removed]",
            "text/plain": [
              "<PIL.Image.Image image mode=RGB size=112x112 at 0x7F45A9158278>"
            ]
          },
          "metadata": {
            "tags": []
          }
        },
        {
          "output_type": "stream",
          "text": [
            "1\n"
          ],
          "name": "stdout"
        },
        {
          "output_type": "display_data",
          "data": {
            "image/png": "[encoded data removed]",
            "text/plain": [
              "<PIL.Image.Image image mode=RGB size=112x112 at 0x7F45A9158438>"
            ]
          },
          "metadata": {
            "tags": []
          }
        },
        {
          "output_type": "stream",
          "text": [
            "2\n"
          ],
          "name": "stdout"
        },
        {
          "output_type": "display_data",
          "data": {
            "image/png": "[encoded data removed]",
            "text/plain": [
              "<PIL.Image.Image image mode=RGB size=112x112 at 0x7F45A9158278>"
            ]
          },
          "metadata": {
            "tags": []
          }
        },
        {
          "output_type": "stream",
          "text": [
            "3\n"
          ],
          "name": "stdout"
        },
        {
          "output_type": "display_data",
          "data": {
            "image/png": "[encoded data removed]",
            "text/plain": [
              "<PIL.Image.Image image mode=RGB size=112x112 at 0x7F45A91582B0>"
            ]
          },
          "metadata": {
            "tags": []
          }
        },
        {
          "output_type": "stream",
          "text": [
            "4\n"
          ],
          "name": "stdout"
        },
        {
          "output_type": "display_data",
          "data": {
            "image/png": "[encoded data removed]",
            "text/plain": [
              "<PIL.Image.Image image mode=RGB size=112x112 at 0x7F45A9158240>"
            ]
          },
          "metadata": {
            "tags": []
          }
        },
        {
          "output_type": "stream",
          "text": [
            "5\n"
          ],
          "name": "stdout"
        },
        {
          "output_type": "display_data",
          "data": {
            "image/png": "[encoded data removed]",
            "text/plain": [
              "<PIL.Image.Image image mode=RGB size=112x112 at 0x7F45A9158438>"
            ]
          },
          "metadata": {
            "tags": []
          }
        },
        {
          "output_type": "stream",
          "text": [
            "6\n"
          ],
          "name": "stdout"
        },
        {
          "output_type": "display_data",
          "data": {
            "image/png": "[encoded data removed]",
            "text/plain": [
              "<PIL.Image.Image image mode=RGB size=112x112 at 0x7F45A9158128>"
            ]
          },
          "metadata": {
            "tags": []
          }
        },
        {
          "output_type": "stream",
          "text": [
            "7\n"
          ],
          "name": "stdout"
        },
        {
          "output_type": "display_data",
          "data": {
            "image/png": "[encoded data removed]",
            "text/plain": [
              "<PIL.Image.Image image mode=RGB size=112x112 at 0x7F45A9158128>"
            ]
          },
          "metadata": {
            "tags": []
          }
        },
        {
          "output_type": "stream",
          "text": [
            "8\n"
          ],
          "name": "stdout"
        },
        {
          "output_type": "display_data",
          "data": {
            "image/png": "[encoded data removed]",
            "text/plain": [
              "<PIL.Image.Image image mode=RGB size=112x112 at 0x7F45A91582B0>"
            ]
          },
          "metadata": {
            "tags": []
          }
        },
        {
          "output_type": "stream",
          "text": [
            "9\n"
          ],
          "name": "stdout"
        },
        {
          "output_type": "display_data",
          "data": {
            "image/png": "[encoded data removed]",
            "text/plain": [
              "<PIL.Image.Image image mode=RGB size=112x112 at 0x7F45A9158438>"
            ]
          },
          "metadata": {
            "tags": []
          }
        },
        {
          "output_type": "stream",
          "text": [
            "10\n"
          ],
          "name": "stdout"
        },
        {
          "output_type": "display_data",
          "data": {
            "image/png": "[encoded data removed]",
            "text/plain": [
              "<PIL.Image.Image image mode=RGB size=112x112 at 0x7F45A9158278>"
            ]
          },
          "metadata": {
            "tags": []
          }
        },
        {
          "output_type": "stream",
          "text": [
            "11\n"
          ],
          "name": "stdout"
        },
        {
          "output_type": "display_data",
          "data": {
            "image/png": "[encoded data removed]",
            "text/plain": [
              "<PIL.Image.Image image mode=RGB size=112x112 at 0x7F45A9158438>"
            ]
          },
          "metadata": {
            "tags": []
          }
        },
        {
          "output_type": "stream",
          "text": [
            "12\n"
          ],
          "name": "stdout"
        },
        {
          "output_type": "display_data",
          "data": {
            "image/png": "[encoded data removed]",
            "text/plain": [
              "<PIL.Image.Image image mode=RGB size=112x112 at 0x7F45A91582B0>"
            ]
          },
          "metadata": {
            "tags": []
          }
        },
        {
          "output_type": "stream",
          "text": [
            "13\n"
          ],
          "name": "stdout"
        },
        {
          "output_type": "display_data",
          "data": {
            "image/png": "[encoded data removed]",
            "text/plain": [
              "<PIL.Image.Image image mode=RGB size=112x112 at 0x7F45A9158128>"
            ]
          },
          "metadata": {
            "tags": []
          }
        },
        {
          "output_type": "stream",
          "text": [
            "14\n"
          ],
          "name": "stdout"
        },
        {
          "output_type": "display_data",
          "data": {
            "image/png": "[encoded data removed]",
            "text/plain": [
              "<PIL.Image.Image image mode=RGB size=112x112 at 0x7F45A9158240>"
            ]
          },
          "metadata": {
            "tags": []
          }
        },
        {
          "output_type": "stream",
          "text": [
            "15\n"
          ],
          "name": "stdout"
        },
        {
          "output_type": "display_data",
          "data": {
            "image/png": "[encoded data removed]",
            "text/plain": [
              "<PIL.Image.Image image mode=RGB size=112x112 at 0x7F45A9158278>"
            ]
          },
          "metadata": {
            "tags": []
          }
        },
        {
          "output_type": "stream",
          "text": [
            "16\n"
          ],
          "name": "stdout"
        },
        {
          "output_type": "display_data",
          "data": {
            "image/png": "[encoded data removed]",
            "text/plain": [
              "<PIL.Image.Image image mode=RGB size=112x112 at 0x7F45A91582B0>"
            ]
          },
          "metadata": {
            "tags": []
          }
        },
        {
          "output_type": "stream",
          "text": [
            "17\n"
          ],
          "name": "stdout"
        },
        {
          "output_type": "display_data",
          "data": {
            "image/png": "[encoded data removed]",
            "text/plain": [
              "<PIL.Image.Image image mode=RGB size=112x112 at 0x7F45A91582B0>"
            ]
          },
          "metadata": {
            "tags": []
          }
        },
        {
          "output_type": "stream",
          "text": [
            "18\n"
          ],
          "name": "stdout"
        },
        {
          "output_type": "display_data",
          "data": {
            "image/png": "[encoded data removed]",
            "text/plain": [
              "<PIL.Image.Image image mode=RGB size=112x112 at 0x7F45A9158240>"
            ]
          },
          "metadata": {
            "tags": []
          }
        },
        {
          "output_type": "stream",
          "text": [
            "19\n"
          ],
          "name": "stdout"
        },
        {
          "output_type": "display_data",
          "data": {
            "image/png": "[encoded data removed]",
            "text/plain": [
              "<PIL.Image.Image image mode=RGB size=112x112 at 0x7F45A9158128>"
            ]
          },
          "metadata": {
            "tags": []
          }
        },
        {
          "output_type": "stream",
          "text": [
            "20\n"
          ],
          "name": "stdout"
        },
        {
          "output_type": "display_data",
          "data": {
            "image/png": "[encoded data removed]",
            "text/plain": [
              "<PIL.Image.Image image mode=RGB size=112x112 at 0x7F45A9158240>"
            ]
          },
          "metadata": {
            "tags": []
          }
        },
        {
          "output_type": "stream",
          "text": [
            "21\n"
          ],
          "name": "stdout"
        },
        {
          "output_type": "display_data",
          "data": {
            "image/png": "[encoded data removed]",
            "text/plain": [
              "<PIL.Image.Image image mode=RGB size=112x112 at 0x7F45A9158438>"
            ]
          },
          "metadata": {
            "tags": []
          }
        },
        {
          "output_type": "stream",
          "text": [
            "22\n"
          ],
          "name": "stdout"
        },
        {
          "output_type": "display_data",
          "data": {
            "image/png": "[encoded data removed]",
            "text/plain": [
              "<PIL.Image.Image image mode=RGB size=112x112 at 0x7F45A9158400>"
            ]
          },
          "metadata": {
            "tags": []
          }
        },
        {
          "output_type": "stream",
          "text": [
            "23\n"
          ],
          "name": "stdout"
        },
        {
          "output_type": "display_data",
          "data": {
            "image/png": "[encoded data removed]",
            "text/plain": [
              "<PIL.Image.Image image mode=RGB size=112x112 at 0x7F45A91582B0>"
            ]
          },
          "metadata": {
            "tags": []
          }
        },
        {
          "output_type": "stream",
          "text": [
            "24\n"
          ],
          "name": "stdout"
        },
        {
          "output_type": "display_data",
          "data": {
            "image/png": "[encoded data removed]",
            "text/plain": [
              "<PIL.Image.Image image mode=RGB size=112x112 at 0x7F45A91583C8>"
            ]
          },
          "metadata": {
            "tags": []
          }
        },
        {
          "output_type": "stream",
          "text": [
            "25\n"
          ],
          "name": "stdout"
        },
        {
          "output_type": "display_data",
          "data": {
            "image/png": "[encoded data removed]",
            "text/plain": [
              "<PIL.Image.Image image mode=RGB size=112x112 at 0x7F45A9158400>"
            ]
          },
          "metadata": {
            "tags": []
          }
        },
        {
          "output_type": "stream",
          "text": [
            "26\n"
          ],
          "name": "stdout"
        },
        {
          "output_type": "display_data",
          "data": {
            "image/png": "[encoded data removed]",
            "text/plain": [
              "<PIL.Image.Image image mode=RGB size=112x112 at 0x7F45A9158278>"
            ]
          },
          "metadata": {
            "tags": []
          }
        },
        {
          "output_type": "stream",
          "text": [
            "27\n"
          ],
          "name": "stdout"
        },
        {
          "output_type": "display_data",
          "data": {
            "image/png": "[encoded data removed]",
            "text/plain": [
              "<PIL.Image.Image image mode=RGB size=112x112 at 0x7F45A9158400>"
            ]
          },
          "metadata": {
            "tags": []
          }
        },
        {
          "output_type": "stream",
          "text": [
            "28\n"
          ],
          "name": "stdout"
        },
        {
          "output_type": "display_data",
          "data": {
            "image/png": "[encoded data removed]",
            "text/plain": [
              "<PIL.Image.Image image mode=RGB size=112x112 at 0x7F45A9158438>"
            ]
          },
          "metadata": {
            "tags": []
          }
        },
        {
          "output_type": "stream",
          "text": [
            "29\n"
          ],
          "name": "stdout"
        },
        {
          "output_type": "display_data",
          "data": {
            "image/png": "[encoded data removed]",
            "text/plain": [
              "<PIL.Image.Image image mode=RGB size=112x112 at 0x7F45A9158400>"
            ]
          },
          "metadata": {
            "tags": []
          }
        },
        {
          "output_type": "stream",
          "text": [
            "30\n"
          ],
          "name": "stdout"
        },
        {
          "output_type": "display_data",
          "data": {
            "image/png": "[encoded data removed]",
            "text/plain": [
              "<PIL.Image.Image image mode=RGB size=112x112 at 0x7F45A9158278>"
            ]
          },
          "metadata": {
            "tags": []
          }
        },
        {
          "output_type": "stream",
          "text": [
            "({-30: 28231.935238732844, -29: 28316.584529569725, -28: 27758.34031454608, -27: 27587.92150148304, -26: 26470.323091591108, -25: 23927.799571513988, -24: 23358.143422494813, -23: 23321.276464710947, -22: 23308.53946287089, -21: 22794.634868964837, -20: 21712.28774927222, -19: 21520.347619532447, -18: 21102.710547312006, -17: 20936.435156717722, -16: 21160.860759121035, -15: 20469.747276303442, -14: 20471.45244103833, -13: 20525.0072655201, -12: 20067.783565225694, -11: 20117.05995687082, -10: 19866.24967406793, -9: 19937.214661449998, -8: 19566.944491644037, -7: 19758.878385709657, -6: 19885.516499836318, -5: 19990.608620949093, -4: 20038.992023464005, -3: 19946.869355542618, -2: 19967.20203318663, -1: 20180.864022790076, 0: 20274.374988738487, 1: 20454.382053053985, 2: 20146.048084801358, 3: 20111.76093912626, 4: 20461.084375269147, 5: 20836.41203235224, 6: 20453.588306393358, 7: 21100.03090757879, 8: 21194.939751673173, 9: 20931.97128298416, 10: 21470.525199443153, 11: 21674.01760462163, 12: 21665.65833293691, 13: 22194.991709920334, 14: 23117.17274878001, 15: 23132.31398688793, 16: 24155.738151743193, 17: 24413.582574803288, 18: 24847.6118135732, 19: 25777.299782275764, 20: 26096.770713703423, 21: 27343.771512524505, 22: 27719.729254924623, 23: 27984.13370598658, 24: 28068.297764110204, 25: 28156.422525259146, 26: 27809.828862514638, 27: 28040.352348965156, 28: 28056.855979878135, 29: 28276.25745664157, 30: 27510.585463726107}, {-30: [63, 31, 32, 33, 34, 35, 37, 38, 39, 41, 43, 44, 45, 47, 48, 50, 51, 52, 54, 63, 55], -29: [64, 32, 34, 33, 35, 37, 39, 40, 41, 43, 44, 46, 47, 48, 50, 51, 53, 54, 56, 63, 57], -28: [64, 32, 34, 35, 37, 38, 40, 41, 43, 44, 45, 47, 48, 49, 50, 52, 53, 55, 56, 58, 64], -27: [65, 38, 39, 35, 37, 42, 33, 41, 44, 45, 47, 48, 50, 51, 52, 54, 55, 57, 62, 58, 64], -26: [65, 41, 62, 38, 42, 43, 39, 46, 45, 49, 34, 36, 60, 48, 52, 50, 53, 55, 56, 58, 65], -25: [65, 63, 61, 45, 46, 43, 47, 59, 40, 49, 42, 53, 57, 50, 55, 52, 56, 38, 39, 35, 65], -24: [65, 64, 62, 60, 58, 55, 57, 52, 45, 54, 47, 48, 42, 50, 51, 44, 41, 65, 38, 39, 35], -23: [65, 36, 37, 39, 40, 42, 43, 45, 46, 48, 49, 51, 52, 54, 55, 57, 58, 60, 61, 63, 64], -22: [66, 35, 40, 38, 41, 43, 45, 46, 48, 49, 51, 52, 54, 56, 57, 59, 65, 60, 62, 63, 65], -21: [66, 35, 38, 40, 41, 43, 45, 46, 48, 51, 49, 52, 54, 56, 57, 59, 60, 66, 62, 63, 65], -20: [66, 36, 40, 41, 43, 45, 47, 49, 50, 52, 54, 55, 57, 59, 60, 61, 66, 62, 63, 65, 65], -19: [67, 37, 41, 42, 44, 46, 48, 50, 52, 53, 55, 57, 59, 60, 61, 62, 66, 63, 64, 65, 66], -18: [67, 37, 41, 43, 45, 47, 49, 51, 53, 55, 56, 58, 59, 60, 62, 63, 67, 64, 65, 65, 66], -17: [67, 36, 41, 42, 45, 47, 49, 51, 53, 55, 57, 59, 60, 61, 62, 63, 64, 67, 65, 66, 67], -16: [67, 37, 41, 43, 45, 48, 50, 52, 54, 56, 58, 59, 60, 61, 62, 63, 64, 65, 67, 66, 67], -15: [67, 37, 41, 44, 46, 48, 51, 53, 55, 57, 59, 60, 61, 62, 63, 64, 65, 65, 67, 66, 67], -14: [68, 37, 41, 44, 46, 49, 52, 54, 56, 58, 59, 60, 61, 62, 63, 64, 65, 66, 67, 67, 67], -13: [68, 38, 43, 45, 48, 51, 53, 55, 58, 59, 60, 61, 62, 63, 64, 65, 65, 66, 67, 68, 67], -12: [68, 37, 43, 46, 49, 52, 54, 56, 59, 59, 60, 61, 62, 63, 64, 65, 66, 66, 67, 68, 68], -11: [68, 37, 43, 46, 49, 52, 55, 57, 59, 60, 61, 62, 63, 64, 65, 65, 66, 67, 67, 68, 68], -10: [68, 38, 44, 48, 51, 53, 56, 59, 59, 60, 61, 62, 63, 64, 65, 65, 66, 67, 67, 68, 68], -9: [68, 38, 45, 49, 52, 55, 58, 59, 60, 61, 62, 63, 64, 65, 65, 66, 67, 67, 68, 68, 68], -8: [68, 38, 46, 51, 53, 56, 59, 59, 60, 61, 63, 63, 64, 65, 65, 66, 67, 67, 68, 68, 68], -7: [68, 40, 48, 52, 55, 58, 59, 60, 61, 62, 63, 64, 65, 65, 66, 66, 67, 67, 68, 68, 68], -6: [68, 36, 31, 32, 32, 33, 34, 35, 36, 37, 39, 41, 42, 44, 45, 47, 49, 52, 54, 56, 61], -5: [68, 37, 31, 32, 33, 34, 35, 35, 36, 37, 40, 41, 42, 44, 46, 48, 50, 52, 55, 57, 62], -4: [68, 38, 31, 32, 32, 33, 34, 35, 36, 37, 39, 41, 42, 44, 45, 47, 50, 52, 55, 57, 63], -3: [67, 39, 31, 32, 32, 33, 34, 35, 36, 37, 39, 41, 41, 44, 45, 47, 49, 52, 55, 57, 63], -2: [66, 40, 31, 32, 32, 33, 34, 35, 36, 37, 39, 40, 41, 43, 45, 46, 49, 52, 54, 56, 62], -1: [65, 41, 31, 32, 32, 33, 34, 35, 35, 36, 38, 40, 41, 42, 44, 46, 48, 50, 53, 55, 61], 0: [43, 31, 42, 31, 32, 32, 33, 34, 35, 36, 37, 39, 40, 41, 43, 45, 46, 49, 52, 55, 59], 1: [44, 31, 43, 31, 32, 32, 33, 34, 35, 35, 36, 38, 40, 41, 42, 44, 46, 49, 51, 53, 58], 2: [45, 31, 44, 31, 32, 32, 33, 34, 35, 35, 36, 37, 39, 41, 42, 44, 45, 47, 49, 52, 61], 3: [46, 31, 45, 31, 31, 32, 33, 34, 34, 35, 36, 37, 39, 40, 41, 42, 45, 46, 49, 52, 60], 4: [47, 32, 31, 46, 31, 32, 32, 33, 34, 35, 35, 36, 37, 39, 41, 42, 44, 45, 48, 51, 59], 5: [48, 32, 32, 31, 47, 31, 32, 33, 33, 34, 35, 36, 36, 39, 40, 41, 42, 45, 46, 49, 58], 6: [49, 32, 31, 32, 31, 48, 32, 32, 33, 34, 35, 35, 36, 37, 39, 41, 41, 44, 45, 47, 57], 7: [50, 32, 32, 35, 31, 31, 32, 49, 32, 33, 34, 35, 35, 36, 37, 40, 41, 42, 44, 46, 56], 8: [51, 33, 32, 31, 32, 31, 39, 32, 33, 50, 33, 34, 35, 36, 36, 39, 40, 41, 44, 45, 55], 9: [52, 34, 33, 32, 31, 31, 32, 32, 33, 34, 34, 43, 51, 35, 36, 37, 39, 41, 41, 44, 54], 10: [53, 32, 35, 34, 32, 31, 31, 32, 32, 33, 34, 43, 35, 35, 36, 52, 37, 40, 41, 43, 53], 11: [54, 31, 32, 33, 31, 32, 35, 32, 33, 33, 39, 34, 35, 36, 36, 39, 47, 53, 41, 42, 49], 12: [55, 31, 31, 32, 31, 33, 34, 32, 33, 33, 34, 35, 39, 36, 37, 43, 40, 41, 47, 45, 54], 13: [56, 31, 32, 31, 32, 32, 32, 33, 34, 35, 34, 35, 35, 36, 40, 39, 41, 45, 46, 50, 55], 14: [57, 31, 31, 32, 32, 33, 34, 32, 32, 33, 35, 36, 37, 35, 40, 39, 45, 43, 47, 50, 56], 15: [58, 33, 32, 31, 31, 35, 34, 32, 36, 32, 32, 39, 33, 42, 35, 39, 43, 46, 49, 52, 57], 16: [59, 35, 37, 42, 31, 32, 35, 34, 33, 31, 32, 32, 33, 34, 36, 39, 43, 46, 48, 51, 58], 17: [59, 44, 35, 37, 35, 34, 31, 33, 32, 31, 32, 32, 33, 34, 36, 39, 43, 45, 47, 50, 59], 18: [59, 41, 36, 35, 34, 33, 32, 31, 32, 31, 32, 32, 34, 35, 37, 39, 43, 45, 47, 50, 59], 19: [60, 41, 35, 34, 33, 32, 32, 31, 31, 32, 32, 34, 35, 37, 39, 42, 43, 46, 48, 50, 59], 20: [60, 39, 35, 34, 32, 32, 31, 31, 32, 32, 33, 34, 35, 38, 40, 42, 44, 47, 48, 50, 60], 21: [61, 40, 34, 33, 32, 31, 31, 32, 32, 33, 34, 35, 37, 39, 41, 43, 45, 47, 49, 50, 60], 22: [61, 36, 34, 32, 31, 31, 32, 32, 33, 34, 35, 37, 39, 40, 42, 43, 46, 47, 49, 50, 61], 23: [62, 35, 32, 31, 31, 32, 32, 33, 34, 35, 37, 39, 40, 43, 44, 46, 47, 49, 50, 52, 61], 24: [62, 34, 31, 31, 32, 32, 33, 34, 35, 37, 39, 40, 42, 43, 44, 46, 47, 49, 50, 52, 62], 25: [63, 32, 32, 32, 33, 34, 35, 36, 38, 39, 40, 42, 43, 45, 47, 48, 49, 50, 52, 62, 54], 26: [63, 32, 32, 33, 34, 35, 36, 37, 39, 40, 42, 43, 44, 46, 47, 49, 50, 51, 53, 63, 55], 27: [63, 32, 32, 33, 34, 35, 36, 38, 39, 40, 42, 43, 45, 46, 47, 49, 50, 51, 53, 63, 55], 28: [64, 31, 33, 34, 35, 36, 38, 39, 41, 42, 43, 45, 47, 48, 49, 50, 52, 53, 55, 63, 57], 29: [64, 32, 34, 35, 36, 37, 39, 40, 42, 43, 44, 46, 47, 49, 50, 51, 53, 54, 56, 57, 64], 30: [65, 38, 36, 35, 39, 33, 41, 42, 43, 45, 46, 48, 49, 50, 52, 53, 55, 56, 61, 58, 64]}, {-30: [47, 48, 52, 53, 54, 55, 55, 55, 56, 56, 57, 57, 57, 58, 58, 59, 59, 59, 59, 48, 59], -29: [46, 50, 54, 53, 55, 55, 56, 56, 56, 57, 57, 57, 58, 58, 59, 59, 59, 59, 59, 47, 59], -28: [45, 51, 54, 55, 55, 55, 56, 56, 57, 57, 57, 58, 58, 58, 59, 59, 59, 59, 59, 59, 46], -27: [44, 55, 56, 55, 55, 56, 53, 56, 57, 57, 58, 58, 59, 59, 59, 59, 59, 59, 51, 59, 45], -26: [43, 56, 51, 55, 56, 57, 56, 57, 57, 58, 54, 55, 55, 58, 59, 59, 59, 59, 59, 59, 44], -25: [42, 49, 53, 57, 57, 57, 58, 58, 56, 58, 56, 59, 59, 59, 59, 59, 59, 55, 56, 55, 43], -24: [41, 46, 51, 55, 59, 59, 59, 59, 57, 59, 58, 58, 56, 59, 59, 57, 56, 42, 55, 56, 55], -23: [40, 55, 55, 56, 56, 56, 57, 57, 57, 58, 58, 59, 59, 59, 59, 59, 59, 55, 53, 49, 46], -22: [39, 55, 56, 55, 56, 57, 57, 57, 58, 58, 59, 59, 59, 59, 59, 58, 40, 55, 51, 49, 44], -21: [38, 55, 55, 56, 56, 57, 57, 57, 58, 59, 58, 59, 59, 59, 59, 58, 55, 39, 51, 49, 44], -20: [37, 55, 56, 56, 57, 57, 58, 58, 59, 59, 59, 59, 59, 58, 55, 53, 38, 51, 48, 44, 40], -19: [36, 55, 56, 56, 57, 57, 58, 59, 59, 59, 59, 59, 58, 55, 53, 51, 37, 49, 45, 42, 37], -18: [35, 55, 56, 57, 57, 58, 58, 59, 59, 59, 59, 59, 57, 54, 51, 49, 36, 46, 44, 40, 37], -17: [34, 55, 56, 56, 57, 58, 58, 59, 59, 59, 59, 58, 55, 53, 51, 49, 46, 35, 44, 39, 36], -16: [33, 55, 56, 57, 57, 58, 59, 59, 59, 59, 59, 58, 55, 53, 50, 48, 45, 43, 34, 39, 36], -15: [32, 55, 56, 57, 57, 58, 59, 59, 59, 59, 58, 55, 53, 51, 49, 46, 44, 41, 33, 38, 36], -14: [31, 55, 56, 57, 57, 58, 59, 59, 59, 59, 57, 54, 52, 50, 47, 45, 42, 39, 32, 36, 33], -13: [30, 55, 57, 57, 58, 59, 59, 59, 59, 58, 55, 53, 51, 49, 46, 44, 40, 38, 36, 31, 32], -12: [29, 55, 57, 57, 58, 59, 59, 59, 58, 56, 54, 52, 50, 47, 45, 43, 39, 37, 35, 30, 31], -11: [28, 55, 57, 57, 58, 59, 59, 59, 58, 55, 53, 51, 49, 46, 44, 42, 39, 36, 33, 29, 31], -10: [27, 55, 57, 58, 59, 59, 59, 58, 56, 54, 52, 50, 48, 45, 43, 40, 38, 36, 32, 30, 28], -9: [26, 55, 57, 58, 59, 59, 59, 57, 55, 53, 51, 49, 46, 44, 42, 39, 36, 34, 31, 29, 27], -8: [25, 55, 57, 59, 59, 59, 58, 56, 54, 52, 49, 47, 45, 43, 40, 38, 36, 33, 31, 28, 26], -7: [24, 56, 58, 59, 59, 59, 57, 55, 53, 51, 49, 46, 44, 42, 39, 37, 35, 32, 30, 27, 25], -6: [23, 55, 47, 45, 43, 41, 39, 36, 34, 33, 32, 30, 28, 27, 26, 24, 24, 23, 22, 21, 20], -5: [22, 55, 46, 44, 42, 40, 38, 36, 34, 33, 31, 30, 28, 27, 25, 24, 23, 23, 22, 21, 20], -4: [21, 55, 47, 45, 43, 41, 39, 36, 34, 33, 32, 30, 28, 27, 26, 24, 23, 23, 22, 21, 20], -3: [20, 56, 47, 45, 43, 41, 39, 37, 35, 33, 32, 30, 29, 27, 26, 24, 24, 23, 22, 21, 20], -2: [20, 56, 47, 45, 43, 41, 39, 37, 35, 33, 32, 31, 29, 27, 26, 25, 24, 23, 22, 21, 20], -1: [20, 56, 47, 45, 43, 41, 39, 38, 36, 34, 32, 31, 29, 28, 27, 25, 24, 23, 22, 22, 20], 0: [57, 48, 56, 46, 44, 43, 41, 39, 37, 35, 33, 32, 31, 29, 27, 26, 25, 24, 23, 22, 20], 1: [57, 49, 57, 46, 45, 43, 41, 39, 37, 36, 34, 32, 31, 29, 28, 27, 25, 24, 23, 22, 21], 2: [57, 49, 57, 47, 45, 43, 41, 40, 38, 36, 34, 33, 32, 30, 28, 27, 26, 24, 24, 23, 20], 3: [57, 49, 57, 47, 46, 44, 42, 40, 39, 37, 35, 33, 32, 31, 29, 28, 26, 25, 24, 23, 20], 4: [58, 51, 49, 57, 47, 45, 43, 42, 40, 38, 36, 35, 33, 32, 30, 28, 27, 26, 24, 23, 20], 5: [58, 52, 50, 48, 58, 46, 44, 42, 41, 39, 37, 35, 34, 32, 31, 29, 28, 26, 25, 24, 21], 6: [58, 52, 49, 51, 47, 58, 45, 43, 42, 40, 38, 36, 35, 33, 32, 30, 29, 27, 26, 24, 21], 7: [59, 52, 51, 55, 49, 47, 45, 58, 43, 41, 40, 38, 36, 34, 33, 31, 30, 28, 27, 25, 21], 8: [59, 53, 51, 48, 50, 46, 56, 44, 42, 59, 41, 39, 37, 35, 34, 32, 31, 29, 27, 26, 22], 9: [59, 54, 53, 51, 49, 47, 45, 44, 42, 40, 39, 57, 59, 37, 35, 33, 32, 30, 29, 27, 22], 10: [59, 52, 55, 54, 50, 48, 47, 45, 43, 41, 40, 57, 38, 36, 34, 59, 33, 31, 29, 27, 22], 11: [59, 48, 51, 53, 46, 50, 55, 44, 41, 42, 56, 39, 37, 34, 35, 32, 58, 59, 30, 28, 24], 12: [59, 49, 48, 51, 46, 53, 54, 44, 42, 41, 39, 37, 56, 35, 33, 57, 31, 30, 58, 26, 59], 13: [59, 47, 52, 49, 45, 51, 44, 42, 54, 55, 40, 36, 38, 34, 56, 32, 30, 26, 57, 59, 59], 14: [59, 47, 49, 45, 43, 41, 39, 52, 50, 53, 37, 35, 33, 55, 31, 56, 26, 57, 58, 59, 59], 15: [59, 41, 43, 47, 49, 37, 39, 45, 35, 50, 52, 32, 53, 28, 55, 56, 57, 57, 58, 59, 59], 16: [58, 36, 33, 28, 46, 44, 38, 40, 42, 48, 51, 50, 53, 54, 55, 56, 57, 57, 58, 59, 59], 17: [57, 27, 36, 33, 38, 40, 46, 42, 44, 48, 50, 51, 53, 54, 55, 56, 57, 57, 58, 59, 58], 18: [56, 29, 35, 37, 39, 41, 44, 47, 45, 49, 50, 52, 54, 55, 55, 56, 57, 57, 58, 59, 57], 19: [55, 30, 37, 39, 41, 44, 45, 48, 49, 51, 52, 54, 55, 55, 56, 56, 57, 57, 58, 59, 56], 20: [54, 32, 38, 40, 43, 45, 47, 49, 50, 52, 53, 54, 55, 55, 56, 56, 57, 58, 58, 59, 55], 21: [53, 31, 39, 42, 44, 47, 49, 50, 52, 53, 54, 55, 55, 56, 56, 57, 57, 58, 58, 59, 54], 22: [52, 35, 40, 44, 47, 48, 50, 51, 53, 54, 55, 55, 56, 56, 56, 57, 57, 58, 58, 59, 53], 23: [51, 37, 44, 47, 49, 50, 52, 53, 54, 55, 55, 56, 56, 57, 57, 57, 58, 58, 59, 59, 52], 24: [50, 40, 47, 49, 50, 52, 53, 54, 55, 55, 56, 56, 56, 57, 57, 57, 58, 58, 59, 59, 51], 25: [49, 44, 50, 51, 53, 54, 55, 55, 55, 56, 56, 56, 57, 57, 58, 58, 58, 59, 59, 50, 59], 26: [48, 45, 50, 53, 54, 55, 55, 55, 56, 56, 56, 57, 57, 57, 58, 58, 59, 59, 59, 49, 59], 27: [47, 45, 51, 53, 54, 55, 55, 55, 56, 56, 56, 57, 57, 57, 58, 58, 59, 59, 59, 48, 59], 28: [46, 49, 53, 54, 55, 55, 55, 56, 56, 56, 57, 57, 58, 58, 58, 59, 59, 59, 59, 47, 59], 29: [45, 50, 54, 55, 55, 55, 56, 56, 56, 57, 57, 57, 58, 58, 59, 59, 59, 59, 59, 59, 46], 30: [44, 55, 55, 55, 56, 53, 56, 56, 57, 57, 57, 58, 58, 59, 59, 59, 59, 59, 53, 59, 45]}, {-30: [37, 40, 47, 49, 51, 52, 55, 57, 58, 60, 62, 64, 65, 67, 68, 68, 68, 68, 67, 63, 66], -29: [36, 39, 47, 44, 49, 51, 52, 54, 56, 58, 60, 61, 63, 65, 66, 68, 68, 68, 68, 64, 67], -28: [36, 39, 44, 46, 48, 49, 51, 53, 55, 57, 58, 60, 61, 63, 64, 66, 67, 68, 68, 68, 64], -27: [35, 46, 48, 42, 44, 51, 38, 49, 53, 55, 56, 58, 60, 61, 63, 64, 66, 67, 68, 68, 65], -26: [35, 47, 68, 43, 49, 50, 45, 53, 52, 57, 38, 41, 67, 55, 60, 58, 61, 63, 64, 66, 65], -25: [35, 64, 63, 47, 48, 46, 50, 61, 43, 51, 44, 56, 60, 53, 57, 54, 58, 40, 41, 37, 65], -24: [34, 64, 63, 61, 60, 57, 58, 54, 46, 55, 48, 49, 43, 51, 52, 45, 42, 65, 39, 40, 36], -23: [34, 36, 37, 39, 40, 42, 43, 45, 46, 48, 49, 51, 52, 54, 55, 57, 58, 60, 61, 63, 64], -22: [33, 35, 39, 38, 41, 42, 44, 45, 47, 48, 50, 51, 53, 54, 56, 58, 66, 59, 61, 62, 64], -21: [33, 35, 37, 39, 40, 41, 43, 44, 46, 49, 47, 50, 52, 53, 55, 56, 58, 66, 60, 61, 63], -20: [32, 33, 36, 37, 39, 40, 42, 43, 45, 46, 48, 49, 51, 52, 54, 56, 66, 57, 59, 60, 62], -19: [32, 33, 36, 37, 39, 40, 41, 43, 44, 46, 47, 49, 50, 52, 54, 56, 67, 57, 59, 60, 62], -18: [32, 33, 35, 37, 38, 40, 41, 42, 44, 45, 47, 48, 50, 51, 53, 55, 67, 56, 58, 60, 61], -17: [31, 32, 35, 36, 37, 38, 40, 41, 43, 44, 46, 47, 49, 51, 52, 54, 56, 67, 57, 59, 61], -16: [31, 32, 34, 35, 36, 38, 39, 41, 42, 43, 45, 47, 48, 50, 52, 53, 55, 57, 67, 59, 60], -15: [31, 32, 34, 35, 36, 37, 39, 40, 42, 43, 45, 46, 48, 50, 51, 53, 55, 56, 67, 59, 60], -14: [31, 32, 34, 35, 36, 37, 38, 40, 41, 43, 45, 46, 48, 50, 52, 53, 55, 57, 68, 59, 61], -13: [32, 32, 34, 35, 36, 37, 38, 40, 41, 43, 44, 46, 47, 49, 51, 53, 55, 57, 59, 68, 61], -12: [32, 32, 33, 35, 35, 36, 38, 40, 41, 42, 44, 45, 47, 49, 51, 53, 55, 57, 59, 68, 61], -11: [32, 31, 33, 34, 35, 36, 37, 39, 41, 42, 43, 45, 47, 49, 50, 53, 55, 56, 59, 68, 61], -10: [33, 31, 33, 34, 35, 36, 37, 39, 40, 42, 43, 45, 46, 48, 50, 53, 54, 56, 59, 61, 68], -9: [34, 31, 33, 34, 35, 36, 37, 38, 40, 41, 43, 45, 46, 48, 50, 52, 54, 56, 59, 61, 68], -8: [35, 31, 33, 34, 35, 35, 37, 38, 40, 41, 43, 44, 46, 48, 50, 52, 54, 56, 59, 61, 68], -7: [36, 31, 33, 34, 35, 36, 37, 38, 40, 41, 43, 45, 46, 48, 50, 53, 55, 57, 59, 62, 68], -6: [37, 37, 41, 45, 50, 53, 56, 58, 59, 60, 61, 62, 63, 64, 65, 65, 66, 66, 67, 67, 68], -5: [38, 38, 43, 47, 51, 55, 58, 59, 60, 61, 62, 62, 63, 64, 65, 65, 66, 67, 67, 68, 68], -4: [39, 39, 43, 48, 52, 56, 58, 59, 60, 61, 62, 63, 64, 65, 65, 65, 66, 67, 67, 68, 68], -3: [40, 40, 44, 51, 54, 58, 59, 60, 60, 61, 62, 63, 64, 65, 65, 66, 66, 67, 67, 68, 68], -2: [41, 41, 47, 52, 56, 58, 59, 60, 61, 62, 63, 63, 64, 65, 65, 66, 67, 67, 67, 68, 68], -1: [42, 42, 50, 54, 58, 59, 59, 60, 61, 62, 63, 64, 64, 65, 65, 66, 67, 67, 67, 68, 68], 0: [64, 50, 43, 54, 58, 59, 59, 60, 61, 62, 63, 64, 65, 65, 65, 66, 67, 67, 67, 68, 68], 1: [63, 52, 44, 56, 58, 59, 60, 61, 62, 63, 63, 64, 65, 65, 65, 66, 67, 67, 67, 68, 68], 2: [62, 53, 45, 58, 59, 59, 60, 61, 62, 63, 63, 64, 65, 65, 66, 66, 67, 67, 67, 68, 68], 3: [61, 55, 46, 58, 59, 60, 61, 61, 62, 63, 64, 64, 65, 65, 66, 66, 67, 67, 67, 68, 68], 4: [60, 55, 58, 47, 59, 60, 61, 61, 62, 63, 64, 65, 65, 65, 66, 66, 67, 67, 68, 68, 68], 5: [59, 58, 59, 59, 48, 60, 61, 62, 63, 63, 64, 65, 65, 65, 66, 66, 67, 67, 68, 68, 68], 6: [58, 58, 59, 59, 60, 49, 61, 62, 63, 63, 64, 65, 65, 65, 66, 66, 67, 67, 68, 68, 68], 7: [57, 59, 59, 58, 60, 61, 62, 50, 63, 63, 64, 65, 65, 65, 66, 67, 67, 67, 68, 68, 68], 8: [56, 59, 60, 61, 61, 62, 58, 63, 64, 51, 64, 65, 65, 66, 66, 67, 67, 67, 68, 68, 68], 9: [55, 59, 60, 61, 62, 62, 63, 64, 64, 65, 65, 59, 52, 66, 66, 67, 67, 67, 68, 68, 68], 10: [54, 61, 59, 60, 62, 63, 63, 64, 65, 65, 65, 59, 66, 66, 67, 53, 67, 67, 68, 68, 68], 11: [53, 63, 62, 61, 64, 63, 60, 65, 65, 65, 59, 66, 67, 67, 67, 68, 59, 54, 68, 68, 68], 12: [52, 63, 64, 63, 65, 62, 61, 65, 65, 66, 67, 67, 60, 67, 68, 59, 68, 68, 59, 68, 55], 13: [51, 65, 63, 65, 65, 64, 66, 66, 62, 61, 67, 67, 67, 68, 60, 68, 68, 68, 60, 59, 56], 14: [50, 65, 65, 66, 67, 67, 67, 64, 65, 63, 68, 68, 68, 63, 68, 62, 68, 61, 60, 59, 57], 15: [49, 67, 67, 66, 65, 68, 68, 67, 68, 65, 65, 68, 64, 68, 63, 63, 62, 61, 60, 59, 58], 16: [48, 68, 68, 66, 67, 67, 68, 68, 68, 67, 65, 66, 65, 65, 64, 63, 62, 61, 60, 59, 59], 17: [47, 63, 68, 68, 68, 68, 67, 68, 68, 67, 66, 66, 65, 65, 64, 63, 63, 62, 61, 60, 59], 18: [46, 63, 68, 68, 68, 68, 68, 67, 68, 67, 67, 66, 65, 65, 65, 64, 63, 62, 61, 60, 59], 19: [45, 60, 67, 68, 68, 68, 68, 68, 68, 67, 67, 67, 66, 65, 65, 65, 64, 63, 62, 61, 60], 20: [44, 58, 65, 68, 68, 68, 68, 68, 68, 68, 67, 67, 67, 66, 65, 65, 64, 63, 63, 61, 60], 21: [43, 52, 62, 64, 67, 68, 68, 68, 68, 68, 68, 67, 67, 66, 66, 65, 65, 64, 63, 62, 61], 22: [42, 51, 58, 62, 64, 67, 68, 68, 68, 68, 68, 68, 67, 67, 66, 66, 65, 65, 64, 63, 61], 23: [41, 49, 55, 58, 61, 64, 66, 68, 68, 68, 68, 68, 68, 67, 67, 66, 65, 65, 64, 63, 62], 24: [41, 49, 55, 58, 61, 62, 64, 66, 68, 68, 68, 68, 68, 68, 67, 67, 66, 65, 65, 64, 62], 25: [40, 48, 52, 55, 57, 60, 61, 63, 65, 67, 68, 68, 68, 68, 68, 67, 67, 66, 65, 63, 64], 26: [39, 44, 50, 52, 54, 57, 58, 61, 62, 64, 66, 67, 68, 68, 68, 68, 68, 67, 66, 63, 65], 27: [38, 41, 48, 50, 52, 54, 56, 58, 60, 62, 64, 65, 67, 68, 68, 68, 68, 68, 67, 63, 65], 28: [37, 40, 46, 48, 50, 52, 54, 55, 58, 60, 61, 63, 64, 66, 68, 68, 68, 68, 67, 64, 66], 29: [36, 39, 44, 46, 48, 50, 52, 54, 55, 57, 59, 60, 62, 64, 65, 67, 68, 68, 68, 68, 64], 30: [36, 47, 45, 44, 49, 39, 51, 52, 54, 56, 57, 59, 61, 62, 64, 65, 67, 68, 68, 68, 65]}, {-30: [33, 31, 24, 24, 23, 23, 22, 21, 21, 20, 20, 20, 20, 20, 21, 23, 26, 29, 34, 47, 39], -29: [34, 32, 24, 27, 24, 23, 23, 22, 21, 21, 20, 20, 20, 20, 20, 21, 22, 26, 30, 46, 36], -28: [35, 32, 27, 25, 24, 24, 23, 22, 22, 21, 21, 20, 20, 20, 20, 20, 20, 22, 26, 30, 45], -27: [36, 25, 24, 28, 27, 23, 32, 24, 22, 22, 21, 21, 20, 20, 20, 20, 20, 20, 28, 22, 44], -26: [37, 24, 21, 27, 24, 23, 26, 22, 23, 21, 32, 30, 20, 22, 20, 21, 20, 20, 20, 20, 43], -25: [38, 20, 20, 24, 24, 25, 23, 20, 27, 23, 27, 21, 20, 22, 21, 22, 21, 31, 30, 33, 42], -24: [39, 20, 20, 20, 20, 21, 21, 22, 25, 22, 24, 24, 27, 23, 23, 26, 28, 41, 32, 31, 35], -23: [40, 35, 33, 32, 31, 28, 27, 26, 25, 24, 24, 23, 23, 22, 22, 21, 21, 20, 20, 20, 20], -22: [41, 38, 32, 32, 30, 28, 27, 26, 24, 24, 23, 23, 22, 22, 21, 21, 39, 20, 20, 20, 20], -21: [42, 38, 33, 32, 31, 29, 27, 27, 25, 24, 24, 23, 23, 22, 22, 21, 21, 38, 20, 20, 20], -20: [43, 41, 35, 33, 32, 31, 28, 27, 26, 25, 24, 24, 23, 23, 22, 21, 37, 21, 20, 20, 20], -19: [44, 42, 35, 33, 32, 31, 29, 27, 27, 25, 24, 24, 23, 23, 22, 21, 36, 21, 20, 20, 20], -18: [45, 42, 36, 33, 32, 31, 30, 28, 27, 26, 24, 24, 23, 23, 22, 22, 35, 21, 21, 20, 20], -17: [46, 43, 38, 35, 33, 32, 31, 30, 27, 27, 25, 24, 24, 23, 23, 22, 21, 34, 21, 20, 20], -16: [47, 44, 39, 36, 34, 32, 32, 30, 28, 27, 26, 24, 24, 23, 23, 22, 22, 21, 33, 20, 20], -15: [48, 45, 40, 38, 35, 33, 32, 31, 28, 27, 26, 25, 24, 23, 23, 22, 22, 21, 32, 20, 20], -14: [49, 45, 40, 38, 35, 33, 32, 31, 29, 27, 26, 25, 24, 23, 23, 22, 22, 21, 31, 20, 20], -13: [50, 45, 40, 38, 35, 33, 32, 31, 29, 27, 27, 25, 24, 24, 23, 22, 22, 21, 20, 30, 20], -12: [51, 45, 41, 38, 36, 34, 32, 31, 30, 28, 27, 26, 24, 24, 23, 22, 22, 21, 20, 29, 20], -11: [52, 46, 42, 40, 37, 35, 33, 32, 30, 28, 27, 26, 24, 24, 23, 22, 22, 21, 20, 28, 20], -10: [53, 46, 42, 40, 38, 35, 33, 32, 31, 28, 27, 26, 25, 24, 23, 22, 22, 21, 20, 20, 27], -9: [54, 47, 42, 40, 38, 35, 33, 32, 31, 29, 27, 26, 25, 24, 23, 23, 22, 21, 20, 20, 26], -8: [55, 47, 42, 40, 38, 36, 33, 32, 31, 30, 27, 27, 25, 24, 23, 23, 22, 21, 20, 20, 25], -7: [55, 46, 42, 40, 38, 35, 33, 32, 31, 29, 27, 26, 25, 24, 23, 22, 22, 21, 20, 20, 24], -6: [55, 55, 56, 57, 59, 59, 59, 59, 56, 54, 52, 50, 48, 46, 44, 41, 39, 37, 34, 32, 26], -5: [55, 55, 57, 58, 59, 59, 59, 57, 55, 53, 51, 50, 47, 45, 43, 40, 38, 36, 33, 31, 25], -4: [56, 56, 57, 58, 59, 59, 59, 56, 54, 52, 50, 48, 46, 44, 42, 40, 37, 35, 32, 30, 24], -3: [56, 56, 57, 59, 59, 59, 57, 55, 54, 52, 50, 47, 45, 43, 40, 39, 37, 34, 32, 29, 24], -2: [56, 56, 58, 59, 59, 59, 56, 54, 53, 51, 49, 47, 45, 43, 40, 38, 36, 34, 32, 30, 24], -1: [56, 56, 59, 59, 59, 58, 56, 54, 52, 50, 48, 46, 45, 42, 40, 38, 36, 34, 32, 30, 25], 0: [20, 59, 57, 59, 59, 57, 56, 54, 52, 50, 48, 46, 44, 42, 40, 38, 36, 34, 32, 30, 25], 1: [20, 59, 57, 59, 59, 56, 55, 53, 51, 49, 47, 46, 44, 42, 40, 38, 36, 34, 32, 30, 25], 2: [20, 59, 57, 59, 58, 56, 54, 52, 50, 49, 47, 45, 43, 41, 39, 37, 36, 33, 32, 30, 25], 3: [20, 59, 57, 59, 57, 55, 53, 52, 50, 48, 46, 45, 43, 41, 39, 37, 35, 33, 32, 29, 25], 4: [20, 59, 59, 58, 57, 55, 53, 52, 50, 48, 46, 44, 42, 40, 39, 37, 35, 33, 31, 29, 25], 5: [20, 59, 58, 56, 58, 54, 52, 51, 49, 47, 45, 44, 42, 40, 38, 37, 35, 33, 31, 29, 25], 6: [21, 59, 56, 57, 54, 58, 52, 50, 49, 47, 45, 44, 42, 40, 38, 37, 35, 33, 31, 30, 26], 7: [21, 57, 56, 59, 54, 52, 50, 59, 49, 47, 45, 44, 42, 40, 38, 36, 35, 33, 31, 29, 25], 8: [21, 57, 55, 52, 53, 50, 59, 48, 46, 59, 45, 43, 41, 39, 38, 36, 34, 32, 30, 29, 25], 9: [22, 57, 55, 53, 51, 50, 48, 46, 45, 43, 41, 58, 59, 39, 38, 36, 34, 32, 31, 29, 25], 10: [22, 53, 56, 54, 51, 49, 47, 46, 44, 42, 40, 58, 39, 37, 35, 59, 33, 32, 30, 28, 25], 11: [22, 47, 50, 52, 45, 49, 54, 43, 40, 42, 56, 38, 36, 33, 34, 31, 58, 59, 29, 27, 24], 12: [23, 47, 45, 48, 43, 50, 52, 41, 40, 38, 36, 34, 54, 33, 31, 56, 29, 27, 57, 24, 59], 13: [23, 43, 48, 44, 41, 46, 39, 37, 50, 52, 35, 32, 34, 30, 54, 28, 26, 23, 55, 57, 59], 14: [23, 40, 42, 38, 36, 34, 33, 46, 44, 48, 31, 29, 27, 49, 25, 51, 22, 53, 55, 57, 59], 15: [24, 32, 34, 38, 40, 28, 30, 36, 27, 42, 43, 25, 46, 21, 48, 49, 51, 53, 55, 57, 59], 16: [24, 25, 23, 20, 34, 33, 27, 29, 31, 36, 40, 38, 42, 44, 46, 48, 50, 52, 55, 57, 58], 17: [24, 20, 24, 22, 26, 28, 33, 29, 31, 35, 37, 39, 41, 43, 45, 47, 49, 51, 53, 55, 57], 18: [25, 20, 21, 23, 25, 27, 28, 32, 30, 34, 36, 38, 40, 42, 44, 46, 48, 50, 52, 54, 56], 19: [26, 20, 20, 22, 23, 25, 27, 29, 30, 33, 34, 36, 38, 41, 42, 44, 46, 49, 51, 53, 55], 20: [27, 21, 20, 21, 22, 24, 25, 27, 29, 31, 33, 35, 36, 39, 41, 43, 45, 48, 49, 52, 54], 21: [27, 23, 20, 20, 20, 21, 23, 25, 27, 29, 30, 33, 35, 37, 39, 42, 43, 46, 48, 51, 53], 22: [28, 23, 21, 20, 20, 20, 21, 23, 25, 27, 28, 30, 33, 35, 37, 39, 42, 44, 46, 49, 52], 23: [29, 24, 22, 21, 20, 20, 20, 21, 22, 24, 26, 28, 30, 33, 35, 38, 41, 43, 46, 49, 51], 24: [30, 24, 22, 21, 20, 20, 20, 20, 21, 22, 24, 26, 28, 30, 33, 35, 38, 41, 43, 46, 50], 25: [31, 24, 23, 22, 21, 20, 20, 20, 20, 20, 21, 23, 25, 27, 30, 33, 35, 39, 42, 49, 46], 26: [32, 27, 23, 23, 22, 21, 21, 20, 20, 20, 20, 20, 21, 24, 26, 29, 31, 35, 39, 48, 43], 27: [32, 30, 24, 23, 23, 22, 21, 21, 20, 20, 20, 20, 20, 21, 23, 26, 28, 31, 35, 47, 41], 28: [33, 31, 25, 24, 23, 23, 22, 22, 21, 20, 20, 20, 20, 20, 21, 22, 25, 28, 34, 46, 39], 29: [34, 32, 27, 25, 24, 23, 23, 22, 22, 21, 20, 20, 20, 20, 20, 20, 21, 24, 27, 31, 45], 30: [35, 24, 26, 27, 24, 32, 23, 23, 22, 21, 21, 20, 20, 20, 20, 20, 20, 21, 30, 25, 44]}, {-30: 91.27708291525497, -29: 96.37924816761314, -28: 99.92401462320801, -27: 104.6464215031238, -26: 108.26790620724111, -25: 111.98319531266988, -24: 115.88645269481006, -23: -60.42216131873867, -22: -56.95393205982152, -21: -53.51093419971398, -20: -50.41418151729733, -19: -47.547159759126195, -18: -44.47676541781581, -17: -41.987212495816664, -16: -39.17165581160543, -15: -36.45967234416049, -14: -34.47986582886699, -13: -31.36755721966152, -12: -28.99259570390015, -11: -26.73209379275888, -10: -23.81508650613117, -9: -20.94970147039484, -8: -18.14847231264493, -7: -16.331541767937804, -6: -14.512780869539522, -5: -12.6958503248324, -4: -10.066336275883476, -3: -7.292058964582688, -2: -5.199992685102542, -1: -2.9962184533111755, 0: 0.0, 1: 2.396727595784111, 2: 4.90097551092428, 3: 7.509939118851125, 4: 10.691751311552048, 5: 13.433499900977857, 6: 15.906531549065503, 7: 19.140363330143156, 8: 22.081981041531478, 9: 24.94237525435869, 10: 28.029680982283367, 11: 31.125996380239297, 12: 34.34148037198751, 13: 37.485001384219785, 14: 40.581379533010825, 15: 43.99861180877232, 16: 47.50575844326857, 17: 49.5609452031613, 18: 52.328815024048964, 19: 56.92771446133122, 20: 60.228506638314194, 21: 64.27299221249531, 22: 67.94532406612286, 23: 73.2456188273917, 24: 75.97501970855771, 25: 81.53079614943526, 26: 85.88777115528156, 27: 88.61408214918782, 28: 93.86788490045006, 29: 98.13010235415598, 30: 102.33637928232137})\n"
          ],
          "name": "stdout"
        }
      ]
    }
  ]
}