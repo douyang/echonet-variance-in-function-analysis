{
  "nbformat": 4,
  "nbformat_minor": 0,
  "metadata": {
    "colab": {
      "name": "Calculations - Analysis.ipynb",
      "provenance": [],
      "collapsed_sections": [],
      "toc_visible": true,
      "machine_shape": "hm",
      "include_colab_link": true
    },
    "kernelspec": {
      "name": "python3",
      "display_name": "Python 3"
    }
  },
  "cells": [
    {
      "cell_type": "markdown",
      "metadata": {
        "id": "view-in-github",
        "colab_type": "text"
      },
      "source": [
        "<a href=\"https://colab.research.google.com/github/douyang/echonet-function-evaluation/blob/master/Calculations_Analysis.ipynb\" target=\"_parent\"><img src=\"https://colab.research.google.com/assets/colab-badge.svg\" alt=\"Open In Colab\"/></a>"
      ]
    },
    {
      "cell_type": "markdown",
      "metadata": {
        "id": "1jGANGwopG4g"
      },
      "source": [
        "# Generating Image Samples"
      ]
    },
    {
      "cell_type": "code",
      "metadata": {
        "id": "pb8mnyOscRTj"
      },
      "source": [
        "from google.colab.patches import cv2_imshow\n",
        "import os\n",
        "import cv2\n",
        "import numpy as np"
      ],
      "execution_count": 1,
      "outputs": []
    },
    {
      "cell_type": "code",
      "metadata": {
        "id": "clYOAL30gH5-"
      },
      "source": [
        "path = \"/content/0X100CF05D141FF143.avi_148.png\""
      ],
      "execution_count": 2,
      "outputs": []
    },
    {
      "cell_type": "markdown",
      "metadata": {
        "id": "DHXCX73VzjZn"
      },
      "source": [
        "#Get all of the coordinates of the edge of the segmented mask(Red Version)"
      ]
    },
    {
      "cell_type": "code",
      "metadata": {
        "id": "OkLPu6KZzieu"
      },
      "source": [
        "# # read image\n",
        "# img = cv2.imread(path)\n",
        "# rgb = cv2.cvtColor(img, cv2.COLOR_BGR2RGB)\n",
        "\n",
        "# # set lower and upper bounds on blue color\n",
        "# lower = (100,0,0)\n",
        "# upper = (255,0,0)\n",
        "\n",
        "# # threshold and invert so hexagon is white on black background\n",
        "# thresh = cv2.inRange(rgb, lower, upper)\n",
        "\n",
        "# # get contours\n",
        "# result = np.zeros_like(thresh)\n",
        "# contours = cv2.findContours(thresh, cv2.RETR_EXTERNAL, cv2.CHAIN_APPROX_NONE)\n",
        "# contours = contours[0] if len(contours) == 2 else contours[1]\n",
        "\n",
        "# points = []\n",
        "# # list contour points\n",
        "# for pt in contours:\n",
        "#     for i in pt:\n",
        "#       for coord in i:\n",
        "#         points.append(coord.tolist())\n",
        "# print(points)\n",
        "\n",
        "# print(\"Number of points: \", len(points))\n",
        "# # show thresh and contour  \n",
        "# cv2_imshow(thresh)\n",
        "# cv2_imshow(img)\n",
        "\n",
        "# cv2.waitKey(0)\n",
        "# cv2.destroyAllWindows()\n"
      ],
      "execution_count": 3,
      "outputs": []
    },
    {
      "cell_type": "markdown",
      "metadata": {
        "id": "VxTYjT1ckr7z"
      },
      "source": [
        "# Blue Version"
      ]
    },
    {
      "cell_type": "code",
      "metadata": {
        "id": "XaHMKuUIhIpn"
      },
      "source": [
        "# # read image\n",
        "# img = cv2.imread(path)\n",
        "# rgb = cv2.cvtColor(img, cv2.COLOR_BGR2RGB)\n",
        "\n",
        "# # set lower and upper bounds on blue color\n",
        "# lower = (0,0,100)\n",
        "# upper = (255,255,255)\n",
        "\n",
        "# # threshold and invert so hexagon is white on black background\n",
        "# thresh = cv2.inRange(rgb, lower, upper)\n",
        "\n",
        "\n",
        "# # get contours\n",
        "# result = np.zeros_like(thresh)\n",
        "# contours = cv2.findContours(thresh, cv2.RETR_EXTERNAL, cv2.CHAIN_APPROX_NONE)\n",
        "# contours = contours[0] if len(contours) == 2 else contours[1]\n",
        "\n",
        "# points = []\n",
        "# # list contour points\n",
        "# for pt in contours:\n",
        "#     for i in pt:\n",
        "#       for coord in i:\n",
        "#         points.append(coord.tolist())\n",
        "# print(points)\n",
        "\n",
        "# print(\"Number of points: \", len(points))\n",
        "# # show thresh and contour  \n",
        "# cv2_imshow(thresh)\n",
        "# cv2_imshow(img)\n",
        "# # cv2_imshow(opening)\n",
        "# # cv2_imshow(closing)\n",
        "\n",
        "# cv2.waitKey(0)\n",
        "# cv2.destroyAllWindows()\n"
      ],
      "execution_count": 4,
      "outputs": []
    },
    {
      "cell_type": "markdown",
      "metadata": {
        "id": "_eTgTNqmuMAy"
      },
      "source": [
        "# Mask from binary mask"
      ]
    },
    {
      "cell_type": "code",
      "metadata": {
        "id": "cago6URCuLd3",
        "outputId": "dec15e66-805b-406f-a776-2b91911e9d44",
        "colab": {
          "base_uri": "https://localhost:8080/",
          "height": 295
        }
      },
      "source": [
        "# read image\n",
        "img = cv2.imread(path)\n",
        "rgb = cv2.cvtColor(img, cv2.COLOR_BGR2RGB)\n",
        "\n",
        "# set lower and upper bounds on blue color\n",
        "lower = (200,200,200)\n",
        "upper = (255,255,255)\n",
        "\n",
        "# threshold and invert so hexagon is white on black background\n",
        "thresh = cv2.inRange(rgb, lower, upper)\n",
        "\n",
        "# get contours\n",
        "result = np.zeros_like(thresh)\n",
        "contours = cv2.findContours(thresh, cv2.RETR_EXTERNAL, cv2.CHAIN_APPROX_NONE)\n",
        "contours = contours[0] if len(contours) == 2 else contours[1]\n",
        "\n",
        "points = []\n",
        "# list contour points\n",
        "for pt in contours:\n",
        "    for i in pt:\n",
        "      for coord in i:\n",
        "        points.append(coord.tolist())\n",
        "print(points)\n",
        "\n",
        "print(\"Number of points: \", len(points))\n",
        "# show thresh and contour  \n",
        "cv2_imshow(img)\n",
        "cv2_imshow(thresh)\n",
        "\n",
        "# cv2_imshow(opening)\n",
        "# cv2_imshow(closing)\n",
        "\n",
        "cv2.waitKey(0)\n",
        "cv2.destroyAllWindows()\n"
      ],
      "execution_count": 5,
      "outputs": [
        {
          "output_type": "stream",
          "text": [
            "[[51, 24], [51, 25], [51, 26], [51, 27], [51, 28], [51, 29], [52, 30], [52, 31], [52, 32], [52, 33], [52, 34], [52, 35], [52, 36], [52, 37], [52, 38], [52, 39], [52, 40], [52, 41], [52, 42], [52, 43], [52, 44], [52, 45], [52, 46], [52, 47], [52, 48], [52, 49], [52, 50], [52, 51], [51, 52], [51, 53], [51, 54], [51, 55], [51, 56], [51, 57], [50, 58], [50, 59], [49, 60], [49, 61], [49, 62], [49, 63], [49, 64], [49, 65], [49, 66], [49, 67], [49, 68], [50, 69], [50, 70], [50, 71], [51, 71], [52, 71], [53, 71], [54, 71], [55, 71], [56, 71], [57, 71], [58, 71], [59, 71], [60, 70], [61, 70], [62, 70], [63, 70], [64, 70], [65, 70], [66, 69], [67, 69], [68, 69], [69, 69], [70, 69], [70, 68], [70, 67], [70, 66], [70, 65], [70, 64], [70, 63], [70, 62], [70, 61], [70, 60], [70, 59], [69, 58], [69, 57], [69, 56], [69, 55], [69, 54], [69, 53], [69, 52], [68, 51], [68, 50], [68, 49], [68, 48], [68, 47], [67, 46], [67, 45], [67, 44], [66, 43], [66, 42], [66, 41], [66, 40], [66, 39], [65, 38], [65, 37], [64, 36], [63, 35], [62, 34], [62, 33], [62, 32], [61, 31], [60, 30], [59, 29], [58, 28], [57, 28], [56, 27], [55, 26], [54, 26], [53, 25], [52, 24]]\n",
            "Number of points:  115\n"
          ],
          "name": "stdout"
        },
        {
          "output_type": "display_data",
          "data": {
            "image/png": "[encoded data removed]",
            "text/plain": [
              "<PIL.Image.Image image mode=RGB size=112x112 at 0x7F8C747701D0>"
            ]
          },
          "metadata": {
            "tags": []
          }
        },
        {
          "output_type": "display_data",
          "data": {
            "image/png": "[encoded data removed]",
            "text/plain": [
              "<PIL.Image.Image image mode=L size=112x112 at 0x7F8C747701D0>"
            ]
          },
          "metadata": {
            "tags": []
          }
        }
      ]
    },
    {
      "cell_type": "code",
      "metadata": {
        "id": "GrvWzR4MlKM8"
      },
      "source": [
        "pointGroups = []\n",
        "index = 0\n",
        "subgroup = [points[0]]\n",
        "\n",
        "for i in range(len(points) - 1):\n",
        "  prevPoint = points[i]\n",
        "  currentPoint = points[i+1]\n",
        "\n",
        "  if abs(prevPoint[0]-currentPoint[0]) <= 1 and abs(prevPoint[1]-currentPoint[1]) <= 1:\n",
        "    subgroup.append(currentPoint)\n",
        "  else:\n",
        "    pointGroups.append(subgroup[:])\n",
        "    subgroup = [currentPoint]\n",
        "\n",
        "pointGroups.append(subgroup)\n",
        "\n",
        "mainPointGroup = []\n",
        "maxPointGroupSize = 0\n",
        "\n",
        "for group in pointGroups:\n",
        "  if len(group) > maxPointGroupSize:\n",
        "    maxPointGroup = group\n",
        "    maxPointGroupSize = len(group)\n",
        "\n",
        "points = maxPointGroup[:]"
      ],
      "execution_count": 6,
      "outputs": []
    },
    {
      "cell_type": "markdown",
      "metadata": {
        "id": "eTM-6vUrz19L"
      },
      "source": [
        "# Top 5 and Bottom 5 Analysis(Heuristic 2)\n"
      ]
    },
    {
      "cell_type": "code",
      "metadata": {
        "id": "bXj9D_WPYf54",
        "outputId": "21a8e8b5-c89c-4363-93b4-8aeb427ab3e7",
        "colab": {
          "base_uri": "https://localhost:8080/",
          "height": 34
        }
      },
      "source": [
        "def getDistance(point1, point2):\n",
        "  return math.sqrt((point1[0]-point2[0])**2 + (point1[1]-point2[1])**2)\n",
        "\n",
        "def getSlope(point1, point2):\n",
        "  if ((point1[0] == point2[0])):\n",
        "    return -333\n",
        "  return (point1[1] - point2[1])/(point1[0] - point2[0])\n",
        "\n",
        "# Minimum and Maximum Y Coord\n",
        "maxY = max(points, key = lambda point: point[1])\n",
        "minY = min(points, key = lambda point: point[1])\n",
        "\n",
        "# MinY and MaxY With the limits\n",
        "minYWith5 = minY[1] + 5\n",
        "maxYWithout5 = maxY[1] - 15\n",
        "\n",
        "# Creating these arrays\n",
        "minYWith5Arr = []\n",
        "maxYWithout5Arr = []\n",
        "\n",
        "# Finding these points\n",
        "for point in points:\n",
        "  if point[1] == minYWith5:\n",
        "    minYWith5Arr.append(point)\n",
        "  if point[1] == maxYWithout5:\n",
        "    maxYWithout5Arr.append(point)\n",
        "\n",
        "# Average X Coordinates\n",
        "averageTopX = round((minYWith5Arr[0][0] + minYWith5Arr[-1][0])/2)\n",
        "averageBottomX = round((maxYWithout5Arr[0][0] + maxYWithout5Arr[-1][0])/2)\n",
        "slope = getSlope([averageTopX, minYWith5], [averageBottomX, maxYWithout5])\n",
        "\n",
        "if slope > 0:\n",
        "  averageTopX -= round((minYWith5Arr[-1][0] - minYWith5Arr[0][0])/1.5/slope)\n",
        "  averageBottomX += round((maxYWithout5Arr[-1][0] - maxYWithout5Arr[0][0])/3/slope)\n",
        "else:\n",
        "  averageTopX -= round((minYWith5Arr[-1][0] - minYWith5Arr[0][0])/1.5/slope)\n",
        "  averageBottomX += round((maxYWithout5Arr[-1][0] - maxYWithout5Arr[0][0])/3/slope)\n",
        "\n",
        "\n",
        "# Creating these arrays\n",
        "averageTopXArr = []\n",
        "averageBottomXArr = []\n",
        "\n",
        "# Finding these points\n",
        "condition = True\n",
        "if slope > 0:\n",
        "  while condition and averageTopX <= minYWith5Arr[-1][0] and averageBottomX >= maxYWithout5Arr[0][0]:\n",
        "    for point in points:\n",
        "      if point[0] == averageTopX:\n",
        "        averageTopXArr.append(point)\n",
        "      if point[0] == averageBottomX:\n",
        "        averageBottomXArr.append(point)\n",
        "    if len(averageTopXArr) > 0 and len(averageBottomXArr):\n",
        "      condition = False\n",
        "    if len(averageTopXArr) == 0:\n",
        "      averageTopX += 1\n",
        "    if len(averageBottomXArr) == 0:\n",
        "      averageBottomXArr -= 1\n",
        "else:\n",
        "  while condition and averageTopX >= minYWith5Arr[0][0] and averageBottomX <= maxYWithout5Arr[-1][0]:\n",
        "    for point in points:\n",
        "      if point[0] == averageTopX:\n",
        "        averageTopXArr.append(point)\n",
        "      if point[0] == averageBottomX:\n",
        "        averageBottomXArr.append(point)\n",
        "    if len(averageTopXArr) > 0 and len(averageBottomXArr):\n",
        "      condition = False\n",
        "    if len(averageTopXArr) == 0:\n",
        "      averageTopX -= 1\n",
        "    if len(averageBottomXArr) == 0:\n",
        "      averageBottomXArr += 1\n",
        "\n",
        "# Sorting Arrs\n",
        "averageTopXArr.sort(key=lambda point: point[1])\n",
        "averageBottomXArr.sort(key=lambda point: point[1])\n",
        "averageBottomXArr.reverse()\n",
        "\n",
        "\n",
        "# Finding Min Top and Max Bottom\n",
        "TopCoord = averageTopXArr[0]\n",
        "BottomCoord = averageBottomXArr[0]\n",
        "\n",
        "x1, y1 = TopCoord\n",
        "x2, y2 = BottomCoord\n",
        "\n",
        "if (x1 + y1) > (x2 + y2):\n",
        "  x1, y1, x2, y2 = x2, y2, x1, y1\n",
        "\n",
        "print(x1, y1, x2, y2)"
      ],
      "execution_count": 7,
      "outputs": [
        {
          "output_type": "stream",
          "text": [
            "54 26 61 70\n"
          ],
          "name": "stdout"
        }
      ]
    },
    {
      "cell_type": "markdown",
      "metadata": {
        "id": "h1Hbm3Zp0MMV"
      },
      "source": [
        "# Calculate Weighted Average"
      ]
    },
    {
      "cell_type": "code",
      "metadata": {
        "id": "FFDvJJ110O1H",
        "outputId": "0dfab907-ec2c-4e96-9fd0-9d86101b8b77",
        "colab": {
          "base_uri": "https://localhost:8080/",
          "height": 54
        }
      },
      "source": [
        "import math\n",
        "\n",
        "# parallel_dist = distance/21\n",
        "\n",
        "weighted_avg = []\n",
        "\n",
        "for n in range(1, 21, 1):\n",
        "  x_perpendicular = (((n*x1)+(21-n)*(x2))/21)\n",
        "  y_perpendicular = (((n*y1)+(21-n)*(y2))/21)\n",
        "  weighted_avg.append([x_perpendicular, y_perpendicular])\n",
        "\n",
        "print(weighted_avg)"
      ],
      "execution_count": 8,
      "outputs": [
        {
          "output_type": "stream",
          "text": [
            "[[60.666666666666664, 67.9047619047619], [60.333333333333336, 65.80952380952381], [60.0, 63.714285714285715], [59.666666666666664, 61.61904761904762], [59.333333333333336, 59.523809523809526], [59.0, 57.42857142857143], [58.666666666666664, 55.333333333333336], [58.333333333333336, 53.23809523809524], [58.0, 51.142857142857146], [57.666666666666664, 49.04761904761905], [57.333333333333336, 46.95238095238095], [57.0, 44.857142857142854], [56.666666666666664, 42.76190476190476], [56.333333333333336, 40.666666666666664], [56.0, 38.57142857142857], [55.666666666666664, 36.476190476190474], [55.333333333333336, 34.38095238095238], [55.0, 32.285714285714285], [54.666666666666664, 30.19047619047619], [54.333333333333336, 28.095238095238095]]\n"
          ],
          "name": "stdout"
        }
      ]
    },
    {
      "cell_type": "markdown",
      "metadata": {
        "id": "TLFxNNTyvynO"
      },
      "source": [
        "# Find All Mask White points"
      ]
    },
    {
      "cell_type": "code",
      "metadata": {
        "id": "EUn8wGqxv3Xz",
        "outputId": "4f07dd10-4fa2-498b-ee5b-3c7922a72f78",
        "colab": {
          "base_uri": "https://localhost:8080/",
          "height": 71
        }
      },
      "source": [
        "p1Index = points.index([x1, y1])\n",
        "p2Index = points.index([x2, y2])\n",
        "\n",
        "lowerIndex = min(p1Index, p2Index)\n",
        "higherIndex = max(p1Index, p2Index)\n",
        "\n",
        "higherIntercept = points[lowerIndex:higherIndex]\n",
        "lowerIntercept = points[higherIndex:] + points[:lowerIndex]\n",
        "\n",
        "if (higherIntercept[0][0] + higherIntercept[0][1]) > (lowerIntercept[0][0] + lowerIntercept[0][1]):\n",
        "  lowerIntercept, higherIntercept = higherIntercept, lowerIntercept\n",
        "\n",
        "print(lowerIntercept)\n",
        "print(higherIntercept)"
      ],
      "execution_count": 9,
      "outputs": [
        {
          "output_type": "stream",
          "text": [
            "[[61, 70], [62, 70], [63, 70], [64, 70], [65, 70], [66, 69], [67, 69], [68, 69], [69, 69], [70, 69], [70, 68], [70, 67], [70, 66], [70, 65], [70, 64], [70, 63], [70, 62], [70, 61], [70, 60], [70, 59], [69, 58], [69, 57], [69, 56], [69, 55], [69, 54], [69, 53], [69, 52], [68, 51], [68, 50], [68, 49], [68, 48], [68, 47], [67, 46], [67, 45], [67, 44], [66, 43], [66, 42], [66, 41], [66, 40], [66, 39], [65, 38], [65, 37], [64, 36], [63, 35], [62, 34], [62, 33], [62, 32], [61, 31], [60, 30], [59, 29], [58, 28], [57, 28], [56, 27], [55, 26]]\n",
            "[[54, 26], [53, 25], [52, 24], [51, 24], [51, 25], [51, 26], [51, 27], [51, 28], [51, 29], [52, 30], [52, 31], [52, 32], [52, 33], [52, 34], [52, 35], [52, 36], [52, 37], [52, 38], [52, 39], [52, 40], [52, 41], [52, 42], [52, 43], [52, 44], [52, 45], [52, 46], [52, 47], [52, 48], [52, 49], [52, 50], [52, 51], [51, 52], [51, 53], [51, 54], [51, 55], [51, 56], [51, 57], [50, 58], [50, 59], [49, 60], [49, 61], [49, 62], [49, 63], [49, 64], [49, 65], [49, 66], [49, 67], [49, 68], [50, 69], [50, 70], [50, 71], [51, 71], [52, 71], [53, 71], [54, 71], [55, 71], [56, 71], [57, 71], [58, 71], [59, 71], [60, 70]]\n"
          ],
          "name": "stdout"
        }
      ]
    },
    {
      "cell_type": "code",
      "metadata": {
        "id": "jQSOeO-chFhD"
      },
      "source": [
        "def findCorrespondingMaskPoints(weighted_avg, lowerIntercept, higherIntercept, x1, y1, x2, y2, slope, i):\n",
        "  # Calculate perpendicular slope\n",
        "  try:\n",
        "    perp_slope = -1/slope\n",
        "  except:\n",
        "    perp_slope = 10000\n",
        "\n",
        "  # Indexing\n",
        "  lowerIndex = 0\n",
        "  higherIndex = 0\n",
        "\n",
        "  # Make sure its from top to bottom direction\n",
        "  if (weighted_avg[-1][0] + weighted_avg[-1][1]) < (weighted_avg[0][0] + weighted_avg[0][1]):\n",
        "    weighted_avg = weighted_avg[::-1]\n",
        "\n",
        "  # Make sure its from top to bottom direction\n",
        "  if getDistance(weighted_avg[0], higherIntercept[0]) > getDistance(weighted_avg[0], higherIntercept[-1]):\n",
        "      higherIntercept = higherIntercept[::-1]\n",
        "  \n",
        "  print(higherIntercept)\n",
        "\n",
        "  # Make sure its from top to bottom direction\n",
        "  if getDistance(weighted_avg[0], lowerIntercept[0]) > getDistance(weighted_avg[0], lowerIntercept[-1]):\n",
        "      lowerIntercept = lowerIntercept[::-1]\n",
        "\n",
        "  higherInterceptAveragePoints = []\n",
        "  lowerInterceptAveragePoints = []\n",
        "\n",
        "  for averagePoint in weighted_avg:\n",
        "    try:\n",
        "      condition = True\n",
        "      count = 0\n",
        "      while condition:\n",
        "        higherIndex = max(higherIndex, 1)\n",
        "        point = higherIntercept[higherIndex]\n",
        "        if higherIndex == 0:\n",
        "          prev_point =  [x1, y1] if getDistance(point, [x1, y1]) < getDistance(point, [x2, y2]) else [x2, y2]\n",
        "          start_point = prev_point[:]\n",
        "        else:\n",
        "          prev_point = higherIntercept[higherIndex-1]\n",
        "        \n",
        "        new_slope = getSlope(point, averagePoint)\n",
        "        prev_slope =  getSlope(prev_point, averagePoint)\n",
        "        betweenCond = ((point[0] < averagePoint[0] and prev_point[0] > averagePoint[0]) or (point[0] > averagePoint[0] and prev_point[0] < averagePoint[0])) and abs(new_slope) > abs(slope) and abs(prev_slope) > abs(slope)\n",
        "        slopeCond = (new_slope >= perp_slope and prev_slope<=perp_slope) or  (new_slope <= perp_slope and prev_slope>=perp_slope)\n",
        "        print(slopeCond and not betweenCond, count, point, prev_point, averagePoint, prev_slope, new_slope, perp_slope)\n",
        "\n",
        "        count += 1\n",
        "        higherIndex += 1\n",
        "\n",
        "        if perp_slope == 10000:\n",
        "          if (point[0] < averagePoint[0] and prev_point[0] > averagePoint[0]) or (point[0] > averagePoint[0] and prev_point[0] < averagePoint[0]):\n",
        "            higherInterceptAveragePoints.append(point)\n",
        "            condition = False\n",
        "            higherIndex -= 1\n",
        "        elif not (len(higherInterceptAveragePoints)>0 and higherInterceptAveragePoints[0] == point and point == start_point):\n",
        "          if slopeCond and not betweenCond:\n",
        "            higherInterceptAveragePoints.append(point)\n",
        "            condition = False\n",
        "            higherIndex -= 1\n",
        "          elif abs(perp_slope) >= 10 and ((new_slope > 0 and prev_slope < 0) or (new_slope < 0 and prev_slope > 0)):\n",
        "            higherInterceptAveragePoints.append(point)\n",
        "            condition = False\n",
        "            higherIndex -= 1\n",
        "          elif count >= len(higherIntercept)-1:\n",
        "            higherIndex -= count\n",
        "            if higherIndex == 0:\n",
        "              higherInterceptAveragePoints.append(start_point)\n",
        "            else:\n",
        "              higherInterceptAveragePoints.append(higherIntercept[higherIndex])\n",
        "            condition = False\n",
        "            higherIndex -= 1\n",
        "\n",
        "    except:\n",
        "      higherInterceptAveragePoints.append(higherIntercept[-1])\n",
        "  \n",
        "  for averagePoint in weighted_avg:\n",
        "    try:\n",
        "      condition = True\n",
        "      count = 0\n",
        "      while condition:\n",
        "        lowerIndex = max(lowerIndex, 1)\n",
        "        point = lowerIntercept[lowerIndex]\n",
        "\n",
        "        if lowerIndex == 0:\n",
        "          prev_point =  [x1, y1] if getDistance(point, [x1, y1]) < getDistance(point, [x2, y2]) else [x2, y2]\n",
        "          start_point = prev_point[:]\n",
        "\n",
        "        else:\n",
        "          prev_point = lowerIntercept[lowerIndex-1]\n",
        "\n",
        "\n",
        "        new_slope = getSlope(point, averagePoint)\n",
        "        prev_slope =  getSlope(prev_point, averagePoint)\n",
        "        betweenCond = ((point[0] < averagePoint[0] and prev_point[0] > averagePoint[0]) or (point[0] > averagePoint[0] and prev_point[0] < averagePoint[0])) and abs(new_slope) > abs(slope) and abs(prev_slope) > abs(slope)\n",
        "        slopeCond = (new_slope >= perp_slope and prev_slope<=perp_slope) or  (new_slope <= perp_slope and prev_slope>=perp_slope)\n",
        "        # print(slopeCond and not betweenCond, count, point, prev_point, averagePoint, prev_slope, new_slope, perp_slope)\n",
        "\n",
        "# False 0 [52, 50] [52, 49] [52.76190476190476, 49.04761904761905] 0.06250000000000466 -1.25 -16.0\n",
        "# False 0 [52, 50] [52, 49] [53.523809523809526, 49.095238095238095] 0.06249999999999971 -0.5937499999999996 -16.0\n",
        "# False 0 [52, 50] [52, 49] [54.285714285714285, 49.142857142857146] 0.06250000000000136 -0.37499999999999883 -16.0\n",
        "# False 0 [52, 50] [52, 49] [55.04761904761905, 49.19047619047619] 0.06249999999999971 -0.26562499999999994 -16.0\n",
        "# False 0 [52, 50] [52, 49] [55.80952380952381, 49.23809523809524] 0.0625000000000007 -0.19999999999999926 -16.0\n",
        "\n",
        "\n",
        "        count += 1\n",
        "        lowerIndex += 1\n",
        "\n",
        "        if perp_slope == 10000:\n",
        "          if ((point[0] < averagePoint[0] and prev_point[0] > averagePoint[0]) or (point[0] > averagePoint[0] and prev_point[0] < averagePoint[0])):\n",
        "            lowerInterceptAveragePoints.append(point)\n",
        "            condition = False\n",
        "            lowerIndex -= 1\n",
        "        elif not (len(lowerInterceptAveragePoints)>0 and lowerInterceptAveragePoints[0] == point and point == start_point):\n",
        "          if slopeCond and not betweenCond:\n",
        "            lowerInterceptAveragePoints.append(point)\n",
        "            condition = False\n",
        "            lowerIndex -= 1\n",
        "          elif abs(perp_slope) > 10 and ((new_slope > 0 and prev_slope < 0) or (new_slope < 0 and prev_slope > 0)):\n",
        "            lowerInterceptAveragePoints.append(point)\n",
        "            condition = False\n",
        "            lowerIndex -= 1\n",
        "          elif count >= len(lowerIntercept)-1:\n",
        "            lowerIndex -= count\n",
        "            if lowerIndex == 0:\n",
        "              lowerInterceptAveragePoints.append(start_point)\n",
        "            else:\n",
        "              lowerInterceptAveragePoints.append(lowerIntercept[lowerIndex])\n",
        "            condition = False\n",
        "            lowerIndex -= 1\n",
        "    except:\n",
        "      lowerInterceptAveragePoints.append(lowerIntercept[-1])\n",
        "\n",
        "  return (lowerInterceptAveragePoints, higherInterceptAveragePoints)\n",
        "\n",
        "\n",
        "# Create the 20 equally spaced points\n",
        "def getWeightedAveragePoints(x1, y1, x2, y2, number):\n",
        "  weighted_avg = []\n",
        "\n",
        "  for n in range(1, number+1, 1):\n",
        "    x_perpendicular = (((n*x1)+(number+1-n)*(x2))/(number+1))\n",
        "    y_perpendicular = (((n*y1)+(number+1-n)*(y2))/(number+1))\n",
        "    weighted_avg.append([x_perpendicular, y_perpendicular])\n",
        "\n",
        "  for pair in weighted_avg:\n",
        "    x, y = pair\n",
        "    if x == int(x):\n",
        "      pair[0] += 0.0001\n",
        "    if y == int(y):\n",
        "      pair[1] += 0.0001\n",
        "\n",
        "  return weighted_avg"
      ],
      "execution_count": 31,
      "outputs": []
    },
    {
      "cell_type": "code",
      "metadata": {
        "id": "BAHZKZA0gfnz",
        "outputId": "fbf645fb-94f7-4ec2-aea4-4417978618a8",
        "colab": {
          "base_uri": "https://localhost:8080/",
          "height": 1000
        }
      },
      "source": [
        "i = 28\n",
        "\n",
        "x1, y1 = lowerIntercept[i]\n",
        "x2, y2 = higherIntercept[i]\n",
        "\n",
        "slope = getSlope([x1, y1], [x2, y2])\n",
        "\n",
        "p1Index = points.index([x1, y1])\n",
        "p2Index = points.index([x2, y2])\n",
        "\n",
        "lowerIndex = min(p1Index, p2Index)\n",
        "higherIndex = max(p1Index, p2Index)\n",
        "\n",
        "higherInterceptPoints = points[lowerIndex:higherIndex]\n",
        "lowerInterceptPoints = points[higherIndex:] + points[:lowerIndex]\n",
        "\n",
        "if (higherInterceptPoints[0][0] + higherInterceptPoints[0][1]) < (lowerInterceptPoints[0][0] + lowerInterceptPoints[0][1]):\n",
        "  lowerInterceptPoints, higherInterceptPoints = higherInterceptPoints, lowerInterceptPoints\n",
        "\n",
        "weighted_avg = getWeightedAveragePoints(x1, y1, x2, y2, 20)\n",
        "lowerInterceptAveragePoints, higherInterceptAveragePoints = findCorrespondingMaskPoints(weighted_avg, lowerInterceptPoints, higherInterceptPoints, x1, y1, x2, y2, slope, i)"
      ],
      "execution_count": 32,
      "outputs": [
        {
          "output_type": "stream",
          "text": [
            "[[52, 48], [52, 47], [52, 46], [52, 45], [52, 44], [52, 43], [52, 42], [52, 41], [52, 40], [52, 39], [52, 38], [52, 37], [52, 36], [52, 35], [52, 34], [52, 33], [52, 32], [52, 31], [52, 30], [51, 29], [51, 28], [51, 27], [51, 26], [51, 25], [51, 24], [52, 24], [53, 25], [54, 26], [55, 26], [56, 27], [57, 28], [58, 28], [59, 29], [60, 30], [61, 31], [62, 32], [62, 33], [62, 34], [63, 35], [64, 36], [65, 37], [65, 38], [66, 39], [66, 40], [66, 41], [66, 42], [66, 43], [67, 44], [67, 45], [67, 46], [68, 47], [68, 48], [68, 49], [68, 50]]\n",
            "False 0 [52, 47] [52, 48] [52.76190476190476, 49.04761904761905] 1.3750000000000093 2.687500000000014 -16.0\n",
            "False 1 [52, 46] [52, 47] [52.76190476190476, 49.04761904761905] 2.687500000000014 4.000000000000019 -16.0\n",
            "False 2 [52, 45] [52, 46] [52.76190476190476, 49.04761904761905] 4.000000000000019 5.312500000000023 -16.0\n",
            "False 3 [52, 44] [52, 45] [52.76190476190476, 49.04761904761905] 5.312500000000023 6.625000000000028 -16.0\n",
            "False 4 [52, 43] [52, 44] [52.76190476190476, 49.04761904761905] 6.625000000000028 7.937500000000033 -16.0\n",
            "False 5 [52, 42] [52, 43] [52.76190476190476, 49.04761904761905] 7.937500000000033 9.250000000000037 -16.0\n",
            "False 6 [52, 41] [52, 42] [52.76190476190476, 49.04761904761905] 9.250000000000037 10.562500000000043 -16.0\n",
            "False 7 [52, 40] [52, 41] [52.76190476190476, 49.04761904761905] 10.562500000000043 11.875000000000046 -16.0\n",
            "False 8 [52, 39] [52, 40] [52.76190476190476, 49.04761904761905] 11.875000000000046 13.187500000000052 -16.0\n",
            "False 9 [52, 38] [52, 39] [52.76190476190476, 49.04761904761905] 13.187500000000052 14.500000000000057 -16.0\n",
            "False 10 [52, 37] [52, 38] [52.76190476190476, 49.04761904761905] 14.500000000000057 15.81250000000006 -16.0\n",
            "False 11 [52, 36] [52, 37] [52.76190476190476, 49.04761904761905] 15.81250000000006 17.125000000000064 -16.0\n",
            "False 12 [52, 35] [52, 36] [52.76190476190476, 49.04761904761905] 17.125000000000064 18.43750000000007 -16.0\n",
            "False 13 [52, 34] [52, 35] [52.76190476190476, 49.04761904761905] 18.43750000000007 19.750000000000075 -16.0\n",
            "False 14 [52, 33] [52, 34] [52.76190476190476, 49.04761904761905] 19.750000000000075 21.062500000000078 -16.0\n",
            "False 15 [52, 32] [52, 33] [52.76190476190476, 49.04761904761905] 21.062500000000078 22.375000000000085 -16.0\n",
            "False 16 [52, 31] [52, 32] [52.76190476190476, 49.04761904761905] 22.375000000000085 23.68750000000009 -16.0\n",
            "False 17 [52, 30] [52, 31] [52.76190476190476, 49.04761904761905] 23.68750000000009 25.000000000000092 -16.0\n",
            "False 18 [51, 29] [52, 30] [52.76190476190476, 49.04761904761905] 25.000000000000092 11.378378378378398 -16.0\n",
            "False 19 [51, 28] [51, 29] [52.76190476190476, 49.04761904761905] 11.378378378378398 11.945945945945967 -16.0\n",
            "False 20 [51, 27] [51, 28] [52.76190476190476, 49.04761904761905] 11.945945945945967 12.513513513513535 -16.0\n",
            "False 21 [51, 26] [51, 27] [52.76190476190476, 49.04761904761905] 12.513513513513535 13.081081081081104 -16.0\n",
            "False 22 [51, 25] [51, 26] [52.76190476190476, 49.04761904761905] 13.081081081081104 13.648648648648672 -16.0\n",
            "False 23 [51, 24] [51, 25] [52.76190476190476, 49.04761904761905] 13.648648648648672 14.21621621621624 -16.0\n",
            "False 24 [52, 24] [51, 24] [52.76190476190476, 49.04761904761905] 14.21621621621624 32.87500000000012 -16.0\n",
            "False 25 [53, 25] [52, 24] [52.76190476190476, 49.04761904761905] 32.87500000000012 -100.99999999999886 -16.0\n",
            "False 0 [53, 25] [52, 24] [53.523809523809526, 49.095238095238095] 16.468749999999982 45.99999999999985 -16.0\n",
            "False 0 [54, 26] [53, 25] [54.285714285714285, 49.142857142857146] 18.777777777777796 81.0000000000003 -16.0\n",
            "False 1 [55, 26] [54, 26] [54.285714285714285, 49.142857142857146] 81.0000000000003 -32.399999999999956 -16.0\n",
            "False 0 [55, 26] [54, 26] [55.04761904761905, 49.19047619047619] 22.136363636363566 486.9999999999654 -16.0\n",
            "False 1 [56, 27] [55, 26] [55.04761904761905, 49.19047619047619] 486.9999999999654 -23.300000000000082 -16.0\n",
            "False 0 [56, 27] [55, 26] [55.80952380952381, 49.23809523809524] 28.705882352941156 -116.75000000000043 -16.0\n",
            "False 0 [56, 27] [55, 26] [56.57142857142857, 49.285714285714285] 14.818181818181836 39.000000000000135 -16.0\n",
            "False 1 [57, 28] [56, 27] [56.57142857142857, 49.285714285714285] 39.000000000000135 -49.66666666666643 -16.0\n",
            "False 0 [57, 28] [56, 27] [57.333333333333336, 49.333333333333336] 16.74999999999997 63.99999999999955 -16.0\n",
            "False 1 [58, 28] [57, 28] [57.333333333333336, 49.333333333333336] 63.99999999999955 -32.00000000000012 -16.0\n",
            "False 0 [58, 28] [57, 28] [58.095238095238095, 49.38095238095238] 19.52173913043479 224.5000000000008 -16.0\n",
            "False 1 [59, 29] [58, 28] [58.095238095238095, 49.38095238095238] 224.5000000000008 -22.526315789473674 -16.0\n",
            "False 0 [59, 29] [58, 28] [58.857142857142854, 49.42857142857143] 25.000000000000092 -142.99999999999696 -16.0\n",
            "False 0 [59, 29] [58, 28] [59.61904761904762, 49.476190476190474] 13.26470588235293 33.076923076923 -16.0\n",
            "False 1 [60, 30] [59, 29] [59.61904761904762, 49.476190476190474] 33.076923076923 -51.12500000000018 -16.0\n",
            "False 0 [60, 30] [59, 29] [60.38095238095238, 49.523809523809526] 14.862068965517258 51.250000000000185 -16.0\n",
            "False 1 [61, 31] [60, 30] [60.38095238095238, 49.523809523809526] 51.250000000000185 -29.92307692307686 -16.0\n",
            "False 0 [61, 31] [60, 30] [61.142857142857146, 49.57142857142857] 17.124999999999954 129.99999999999721 -16.0\n",
            "False 1 [62, 32] [61, 31] [61.142857142857146, 49.57142857142857] 129.99999999999721 -20.50000000000007 -16.0\n",
            "False 0 [62, 32] [61, 31] [61.904761904761905, 49.61904761904762] 20.578947368421048 -185.00000000000068 -16.0\n",
            "False 0 [62, 32] [61, 31] [62.666666666666664, 49.666666666666664] 11.200000000000015 26.500000000000092 -16.0\n",
            "False 1 [62, 33] [62, 32] [62.666666666666664, 49.666666666666664] 26.500000000000092 25.000000000000085 -16.0\n",
            "False 2 [62, 34] [62, 33] [62.666666666666664, 49.666666666666664] 25.000000000000085 23.50000000000008 -16.0\n",
            "False 3 [63, 35] [62, 34] [62.666666666666664, 49.666666666666664] 23.50000000000008 -43.99999999999968 -16.0\n",
            "False 0 [63, 35] [62, 34] [63.42857142857143, 49.714285714285715] 10.999999999999986 34.33333333333317 -16.0\n",
            "False 1 [64, 36] [63, 35] [63.42857142857143, 49.714285714285715] 34.33333333333317 -24.00000000000009 -16.0\n",
            "False 0 [64, 36] [63, 35] [64.19047619047619, 49.76190476190476] 12.400000000000004 72.25000000000024 -16.0\n",
            "False 1 [65, 37] [64, 36] [64.19047619047619, 49.76190476190476] 72.25000000000024 -15.764705882352924 -16.0\n",
            "False 0 [65, 37] [64, 36] [64.95238095238095, 49.80952380952381] 14.500000000000052 -268.9999999999809 -16.0\n",
            "False 0 [65, 37] [64, 36] [65.71428571428571, 49.857142857142854] 8.08333333333336 18.00000000000015 -16.0\n",
            "False 1 [65, 38] [65, 37] [65.71428571428571, 49.857142857142854] 18.00000000000015 16.600000000000136 -16.0\n",
            "False 2 [66, 39] [65, 38] [65.71428571428571, 49.857142857142854] 16.600000000000136 -37.99999999999918 -16.0\n",
            "False 0 [66, 39] [65, 38] [66.47619047619048, 49.904761904761905] 8.06451612903223 22.89999999999974 -16.0\n",
            "False 1 [66, 40] [66, 39] [66.47619047619048, 49.904761904761905] 22.89999999999974 20.799999999999763 -16.0\n",
            "False 2 [66, 41] [66, 40] [66.47619047619048, 49.904761904761905] 20.799999999999763 18.69999999999979 -16.0\n",
            "False 3 [66, 42] [66, 41] [66.47619047619048, 49.904761904761905] 18.69999999999979 16.599999999999813 -16.0\n",
            "False 4 [66, 43] [66, 42] [66.47619047619048, 49.904761904761905] 16.599999999999813 14.499999999999837 -16.0\n",
            "False 5 [67, 44] [66, 43] [66.47619047619048, 49.904761904761905] 14.499999999999837 -11.27272727272739 -16.0\n",
            "False 0 [67, 44] [66, 43] [67.23809523809524, 49.95238095238095] 5.615384615384601 24.9999999999997 -16.0\n",
            "False 1 [67, 45] [67, 44] [67.23809523809524, 49.95238095238095] 24.9999999999997 20.79999999999975 -16.0\n",
            "False 2 [67, 46] [67, 45] [67.23809523809524, 49.95238095238095] 20.79999999999975 16.599999999999795 -16.0\n",
            "False 3 [68, 47] [67, 46] [67.23809523809524, 49.95238095238095] 16.599999999999795 -3.8750000000000093 -16.0\n"
          ],
          "name": "stdout"
        }
      ]
    },
    {
      "cell_type": "code",
      "metadata": {
        "id": "GVJJMIzfhbj8",
        "outputId": "95342109-b080-4749-8821-fac735e9adc0",
        "colab": {
          "base_uri": "https://localhost:8080/",
          "height": 285
        }
      },
      "source": [
        "image = cv2.imread(path) \n",
        "\n",
        "height = image.shape[0]\n",
        "width = image.shape[1]\n",
        "\n",
        "\n",
        "# for point in weighted_avg:\n",
        "#   cv2.circle(image,(int(point[0]), int(point[1])), 1, (0,255,0), -1)\n",
        "  # if point[0] <50:\n",
        "  #   print(point)\n",
        "\n",
        "print(x1, y1)\n",
        "print(x2, y2)\n",
        "print(weighted_avg)\n",
        "for i in range(len(lowerInterceptAveragePoints)): \n",
        "  # cv2.circle(image,tuple(lowerInterceptAveragePoints[i]), 1, (0,255,0), -1)\n",
        "  cv2.line(image, tuple(lowerInterceptAveragePoints[i]), tuple(higherInterceptAveragePoints[i]), (255,0,0), 1)\n",
        "cv2.line(image, (x1, y1), (x2, y2), (0,0,255), 1)\n",
        "\n",
        "cv2_imshow(image)\n",
        "\n",
        "print(lowerInterceptPoints)\n",
        "print(higherInterceptPoints)\n",
        "print(weighted_avg)\n",
        "print(lowerInterceptAveragePoints)\n",
        "print(higherInterceptAveragePoints)\n",
        "# print([x1, y1])\n",
        "# print([x2, y2])\n",
        "\n",
        "cv2.waitKey(0)\n",
        "cv2.destroyAllWindows()"
      ],
      "execution_count": 33,
      "outputs": [
        {
          "output_type": "stream",
          "text": [
            "68 50\n",
            "52 49\n",
            "[[52.76190476190476, 49.04761904761905], [53.523809523809526, 49.095238095238095], [54.285714285714285, 49.142857142857146], [55.04761904761905, 49.19047619047619], [55.80952380952381, 49.23809523809524], [56.57142857142857, 49.285714285714285], [57.333333333333336, 49.333333333333336], [58.095238095238095, 49.38095238095238], [58.857142857142854, 49.42857142857143], [59.61904761904762, 49.476190476190474], [60.38095238095238, 49.523809523809526], [61.142857142857146, 49.57142857142857], [61.904761904761905, 49.61904761904762], [62.666666666666664, 49.666666666666664], [63.42857142857143, 49.714285714285715], [64.19047619047619, 49.76190476190476], [64.95238095238095, 49.80952380952381], [65.71428571428571, 49.857142857142854], [66.47619047619048, 49.904761904761905], [67.23809523809524, 49.95238095238095]]\n"
          ],
          "name": "stdout"
        },
        {
          "output_type": "display_data",
          "data": {
            "image/png": "[encoded data removed]",
            "text/plain": [
              "<PIL.Image.Image image mode=RGB size=112x112 at 0x7F8C746A33C8>"
            ]
          },
          "metadata": {
            "tags": []
          }
        },
        {
          "output_type": "stream",
          "text": [
            "[[52, 49], [52, 50], [52, 51], [51, 52], [51, 53], [51, 54], [51, 55], [51, 56], [51, 57], [50, 58], [50, 59], [49, 60], [49, 61], [49, 62], [49, 63], [49, 64], [49, 65], [49, 66], [49, 67], [49, 68], [50, 69], [50, 70], [50, 71], [51, 71], [52, 71], [53, 71], [54, 71], [55, 71], [56, 71], [57, 71], [58, 71], [59, 71], [60, 70], [61, 70], [62, 70], [63, 70], [64, 70], [65, 70], [66, 69], [67, 69], [68, 69], [69, 69], [70, 69], [70, 68], [70, 67], [70, 66], [70, 65], [70, 64], [70, 63], [70, 62], [70, 61], [70, 60], [70, 59], [69, 58], [69, 57], [69, 56], [69, 55], [69, 54], [69, 53], [69, 52], [68, 51]]\n",
            "[[68, 50], [68, 49], [68, 48], [68, 47], [67, 46], [67, 45], [67, 44], [66, 43], [66, 42], [66, 41], [66, 40], [66, 39], [65, 38], [65, 37], [64, 36], [63, 35], [62, 34], [62, 33], [62, 32], [61, 31], [60, 30], [59, 29], [58, 28], [57, 28], [56, 27], [55, 26], [54, 26], [53, 25], [52, 24], [51, 24], [51, 25], [51, 26], [51, 27], [51, 28], [51, 29], [52, 30], [52, 31], [52, 32], [52, 33], [52, 34], [52, 35], [52, 36], [52, 37], [52, 38], [52, 39], [52, 40], [52, 41], [52, 42], [52, 43], [52, 44], [52, 45], [52, 46], [52, 47], [52, 48]]\n",
            "[[52.76190476190476, 49.04761904761905], [53.523809523809526, 49.095238095238095], [54.285714285714285, 49.142857142857146], [55.04761904761905, 49.19047619047619], [55.80952380952381, 49.23809523809524], [56.57142857142857, 49.285714285714285], [57.333333333333336, 49.333333333333336], [58.095238095238095, 49.38095238095238], [58.857142857142854, 49.42857142857143], [59.61904761904762, 49.476190476190474], [60.38095238095238, 49.523809523809526], [61.142857142857146, 49.57142857142857], [61.904761904761905, 49.61904761904762], [62.666666666666664, 49.666666666666664], [63.42857142857143, 49.714285714285715], [64.19047619047619, 49.76190476190476], [64.95238095238095, 49.80952380952381], [65.71428571428571, 49.857142857142854], [66.47619047619048, 49.904761904761905], [67.23809523809524, 49.95238095238095]]\n",
            "[[52, 50], [68, 51], [53, 71], [54, 71], [55, 71], [56, 71], [56, 71], [57, 71], [58, 71], [59, 71], [60, 70], [60, 70], [61, 70], [62, 70], [63, 70], [63, 70], [64, 70], [65, 70], [66, 69], [67, 69]]\n",
            "[[53, 25], [68, 50], [55, 26], [56, 27], [56, 27], [57, 28], [58, 28], [59, 29], [59, 29], [60, 30], [61, 31], [62, 32], [62, 32], [63, 35], [64, 36], [65, 37], [65, 37], [66, 39], [67, 44], [68, 47]]\n"
          ],
          "name": "stdout"
        }
      ]
    },
    {
      "cell_type": "markdown",
      "metadata": {
        "id": "lZ4W1B_vZwrf"
      },
      "source": [
        "# Split points into 2"
      ]
    },
    {
      "cell_type": "code",
      "metadata": {
        "id": "NUEyVIWLfWl2"
      },
      "source": [
        "# def findCorrespondingMaskPoints(weighted_avg, lowerIntercept, higherIntercept, x1, y1, x2, y2, slope, i):\n",
        "#   # Calculate perpendicular slope\n",
        "#   try:\n",
        "#     perp_slope = -1/slope\n",
        "#   except:\n",
        "#     perp_slope = 10000\n",
        "\n",
        "#   # Indexing\n",
        "#   lowerIndex = 0\n",
        "#   higherIndex = 0\n",
        "\n",
        "#   # Make sure its from top to bottom direction\n",
        "#   if (weighted_avg[-1][0] + weighted_avg[-1][1]) < (weighted_avg[0][0] + weighted_avg[0][1]):\n",
        "#     weighted_avg = weighted_avg[::-1]\n",
        "\n",
        "#   # Make sure its from top to bottom direction\n",
        "#   if getDistance(weighted_avg[0], higherIntercept[0]) > getDistance(weighted_avg[0], higherIntercept[-1]):\n",
        "#       higherIntercept = higherIntercept[::-1]\n",
        "\n",
        "#   # Make sure its from top to bottom direction\n",
        "#   if getDistance(weighted_avg[0], lowerIntercept[0]) > getDistance(weighted_avg[0], lowerIntercept[-1]):\n",
        "#       lowerIntercept = lowerIntercept[::-1]\n",
        "\n",
        "#   higherInterceptAveragePoints = []\n",
        "#   lowerInterceptAveragePoints = []\n",
        "\n",
        "#   for averagePoint in weighted_avg:\n",
        "#     try:\n",
        "#       condition = True\n",
        "#       count = 0\n",
        "#       while condition:\n",
        "#         point = higherIntercept[higherIndex]\n",
        "#         if higherIndex == 0:\n",
        "#           prev_point =  [x1, y1] if getDistance(point, [x1, y1]) < getDistance(point, [x2, y2]) else [x2, y2]\n",
        "#           start_point = prev_point[:]\n",
        "#         else:\n",
        "#           prev_point = higherIntercept[higherIndex-1]\n",
        "        \n",
        "#         new_slope = getSlope(point, averagePoint)\n",
        "#         prev_slope =  getSlope(prev_point, averagePoint)\n",
        "#         betweenCond = ((point[0] < averagePoint[0] and prev_point[0] > averagePoint[0]) or (point[0] > averagePoint[0] and prev_point[0] < averagePoint[0])) and abs(new_slope) > abs(slope) and abs(prev_slope) > abs(slope)\n",
        "#         slopeCond = (new_slope >= perp_slope and prev_slope<=perp_slope) or  (new_slope <= perp_slope and prev_slope>=perp_slope)\n",
        "\n",
        "#         if slopeCond and not betweenCond:\n",
        "#           higherInterceptAveragePoints.append(point)\n",
        "#           condition = False\n",
        "#         elif abs(perp_slope) >= 10 and ((new_slope > 0 and prev_slope < 0) or (new_slope < 0 and prev_slope > 0)):\n",
        "#           higherInterceptAveragePoints.append(point)\n",
        "#           condition = False\n",
        "#         elif count > len(higherIntercept)/2:\n",
        "#           higherIndex -= count\n",
        "#           if higherIndex == 0:\n",
        "#             higherInterceptAveragePoints.append(start_point)\n",
        "#           else:\n",
        "#             higherInterceptAveragePoints.append(higherIntercept[higherIndex])\n",
        "#           condition = False\n",
        "        \n",
        "#         count += 1\n",
        "#         higherIndex += 1\n",
        "#     except:\n",
        "#       higherInterceptAveragePoints.append(higherIntercept[higherIndex - 1])\n",
        "\n",
        "#   for averagePoint in weighted_avg:\n",
        "#     try:\n",
        "#       condition = True\n",
        "#       count = 0\n",
        "#       while condition:\n",
        "#         point = lowerIntercept[lowerIndex]\n",
        "#         if lowerIndex == 0:\n",
        "#           prev_point = [x1, y1] if getDistance(point, [x1, y1]) < getDistance(point, [x2, y2]) else [x2, y2]\n",
        "#           start_point = prev_point[:]\n",
        "#         else:\n",
        "#           prev_point = lowerIntercept[lowerIndex-1]\n",
        "\n",
        "#         new_slope = getSlope(point, averagePoint)\n",
        "#         prev_slope =  getSlope(prev_point, averagePoint)\n",
        "#         betweenCond = ((point[0] < averagePoint[0] and prev_point[0] > averagePoint[0]) or (point[0] > averagePoint[0] and prev_point[0] < averagePoint[0])) and abs(new_slope) > abs(slope) and abs(prev_slope) > abs(slope)\n",
        "#         slopeCond = (new_slope >= perp_slope and prev_slope<=perp_slope) or  (new_slope <= perp_slope and prev_slope>=perp_slope)\n",
        "\n",
        "#         if slopeCond and not betweenCond:\n",
        "#           lowerInterceptAveragePoints.append(point)\n",
        "#           condition = False\n",
        "#         elif abs(perp_slope) > 10 and ((new_slope > 0 and prev_slope < 0) or (new_slope < 0 and prev_slope > 0)):\n",
        "#           lowerInterceptAveragePoints.append(point)\n",
        "#           condition = False\n",
        "#         elif count > len(lowerIntercept)/2:\n",
        "#           lowerIndex -= count\n",
        "#           if lowerIndex == 0:\n",
        "#             lowerInterceptAveragePoints.append(start_point)\n",
        "#           else:\n",
        "#             lowerInterceptAveragePoints.append(lowerIntercept[lowerIndex])\n",
        "#           condition = False\n",
        "        \n",
        "#         count += 1\n",
        "#         lowerIndex += 1\n",
        "#     except:\n",
        "#       lowerInterceptAveragePoints.append(lowerIntercept[lowerIndex - 1])\n",
        "  \n",
        "#   if i == 30:\n",
        "#       print(higherIntercept)\n",
        "#       print(lowerIntercept)\n",
        "#       print(weighted_avg)\n",
        "#       print(lowerInterceptAveragePoints)\n",
        "#       print(higherInterceptAveragePoints)\n",
        "#   return (lowerInterceptAveragePoints, higherInterceptAveragePoints)\n",
        "\n",
        "#  \\\n"
      ],
      "execution_count": 13,
      "outputs": []
    },
    {
      "cell_type": "code",
      "metadata": {
        "id": "Ko8MIoVRy2Wy"
      },
      "source": [
        "# i = 30\n",
        "\n",
        "# x1, y1 = lowerIntercept[i]\n",
        "# x2, y2 = higherIntercept[i]\n",
        "\n",
        "# print(x1, y1, x2, y2)\n",
        "\n",
        "# slope = getSlope([x1, y1], [x2, y2])\n",
        "\n",
        "# p1Index = points.index([x1, y1])\n",
        "# p2Index = points.index([x2, y2])\n",
        "\n",
        "# lowerIndex = min(p1Index, p2Index)\n",
        "# higherIndex = max(p1Index, p2Index)\n",
        "\n",
        "# higherInterceptPoints = points[lowerIndex:higherIndex]\n",
        "# lowerInterceptPoints = points[higherIndex:] + points[:lowerIndex]\n",
        "\n",
        "# if (higherInterceptPoints[0][0] + higherInterceptPoints[0][1]) < (lowerInterceptPoints[0][0] + lowerInterceptPoints[0][1]):\n",
        "#   lowerInterceptPoints, higherInterceptPoints = higherInterceptPoints, lowerInterceptPoints\n",
        "\n",
        "# weighted_avg = getWeightedAveragePoints(x1, y1, x2, y2, 20)\n",
        "# lowerInterceptAveragePoints, higherInterceptAveragePoints = findCorrespondingMaskPoints(weighted_avg, lowerInterceptPoints, higherInterceptPoints, x1, y1, x2, y2, slope, i)"
      ],
      "execution_count": 14,
      "outputs": []
    },
    {
      "cell_type": "code",
      "metadata": {
        "id": "CqWLH5PHNHT5",
        "outputId": "fe4dec39-7e99-4e51-b118-99234157c27a",
        "colab": {
          "base_uri": "https://localhost:8080/",
          "height": 200
        }
      },
      "source": [
        "image = cv2.imread(path) \n",
        "\n",
        "height = image.shape[0]\n",
        "width = image.shape[1]\n",
        "\n",
        "\n",
        "# for point in weighted_avg:\n",
        "#   cv2.circle(image,(int(point[0]), int(point[1])), 1, (0,255,0), -1)\n",
        "  # if point[0] <50:\n",
        "  #   print(point)\n",
        "\n",
        "print(x1, y1)\n",
        "print(x2, y2)\n",
        "print(weighted_avg)\n",
        "for i in range(len(lowerInterceptAveragePoints)): \n",
        "  # cv2.circle(image,tuple(lowerInterceptAveragePoints[i]), 1, (0,255,0), -1)\n",
        "  cv2.line(image, tuple(lowerInterceptAveragePoints[i]), tuple(higherInterceptAveragePoints[i]), (255,0,0), 1)\n",
        "cv2.line(image, (x1, y1), (x2, y2), (0,0,255), 1)\n",
        "\n",
        "cv2_imshow(image)\n",
        "\n",
        "\n",
        "# print(lowerInterceptAveragePoints)\n",
        "# print(higherInterceptAveragePoints)\n",
        "# print([x1, y1])\n",
        "# print([x2, y2])\n",
        "\n",
        "cv2.waitKey(0)\n",
        "cv2.destroyAllWindows()"
      ],
      "execution_count": 15,
      "outputs": [
        {
          "output_type": "stream",
          "text": [
            "68 50\n",
            "52 49\n",
            "[[52.76190476190476, 49.04761904761905], [53.523809523809526, 49.095238095238095], [54.285714285714285, 49.142857142857146], [55.04761904761905, 49.19047619047619], [55.80952380952381, 49.23809523809524], [56.57142857142857, 49.285714285714285], [57.333333333333336, 49.333333333333336], [58.095238095238095, 49.38095238095238], [58.857142857142854, 49.42857142857143], [59.61904761904762, 49.476190476190474], [60.38095238095238, 49.523809523809526], [61.142857142857146, 49.57142857142857], [61.904761904761905, 49.61904761904762], [62.666666666666664, 49.666666666666664], [63.42857142857143, 49.714285714285715], [64.19047619047619, 49.76190476190476], [64.95238095238095, 49.80952380952381], [65.71428571428571, 49.857142857142854], [66.47619047619048, 49.904761904761905], [67.23809523809524, 49.95238095238095]]\n"
          ],
          "name": "stdout"
        },
        {
          "output_type": "display_data",
          "data": {
            "image/png": "[encoded data removed]",
            "text/plain": [
              "<PIL.Image.Image image mode=RGB size=112x112 at 0x7F8C74702748>"
            ]
          },
          "metadata": {
            "tags": []
          }
        }
      ]
    },
    {
      "cell_type": "markdown",
      "metadata": {
        "id": "p95B-xh3cdJb"
      },
      "source": [
        "# Method of Disks"
      ]
    },
    {
      "cell_type": "code",
      "metadata": {
        "id": "b2vJeSdDDbDf",
        "outputId": "27622460-9ef1-4cf2-a764-dd7c92e4e776",
        "colab": {
          "base_uri": "https://localhost:8080/",
          "height": 34
        }
      },
      "source": [
        "distance = getDistance([x1, y1], [x2, y2])\n",
        "parallelSeperationDistance = distance/21\n",
        "\n",
        "volume = 0\n",
        "\n",
        "for i in range(len(lowerInterceptAveragePoints)):\n",
        "  diameter = getDistance(lowerInterceptAveragePoints[i], higherInterceptAveragePoints[i])\n",
        "  radius = diameter/2\n",
        "  diskVolume = math.pi * radius**2 * parallelSeperationDistance\n",
        "  volume += diskVolume\n",
        "\n",
        "print(volume)"
      ],
      "execution_count": 16,
      "outputs": [
        {
          "output_type": "stream",
          "text": [
            "3643.5638509976748\n"
          ],
          "name": "stdout"
        }
      ]
    },
    {
      "cell_type": "markdown",
      "metadata": {
        "id": "P88Fd5CfaE2q"
      },
      "source": [
        "# Prolate Ellipsoid Model (Single Ellipsoid Method)"
      ]
    },
    {
      "cell_type": "code",
      "metadata": {
        "id": "ywdPFF4oaUbJ",
        "outputId": "221b694b-bc68-42f6-90d3-e278cb06a159",
        "colab": {
          "base_uri": "https://localhost:8080/",
          "height": 34
        }
      },
      "source": [
        "long_axis_length = getDistance([x1, y1], [x2, y2])\n",
        "parallelSeperationDistance = distance/21\n",
        "\n",
        "# Manual Area Calc\n",
        "area = 0\n",
        "\n",
        "for i in range(len(lowerInterceptAveragePoints)):\n",
        "  length = getDistance(lowerInterceptAveragePoints[i], higherInterceptAveragePoints[i])\n",
        "  diskArea = length * parallelSeperationDistance\n",
        "  area += diskArea\n",
        "\n",
        "volume = 0.85 * area * long_axis_length\n",
        "\n",
        "print(volume)"
      ],
      "execution_count": 17,
      "outputs": [
        {
          "output_type": "stream",
          "text": [
            "1898.9764603872618\n"
          ],
          "name": "stdout"
        }
      ]
    },
    {
      "cell_type": "markdown",
      "metadata": {
        "id": "ic0RMEAWgNPE"
      },
      "source": [
        "# Prolate Ellipsoid Model (Biplane Area Length)"
      ]
    },
    {
      "cell_type": "code",
      "metadata": {
        "id": "47DUD_2BiBkz",
        "outputId": "ca4fce8e-b9d7-4647-a7da-ae117694d914",
        "colab": {
          "base_uri": "https://localhost:8080/",
          "height": 34
        }
      },
      "source": [
        "# Long axis Length\n",
        "long_axis_length = getDistance([x1, y1], [x2, y2])\n",
        "\n",
        "# Storing all perp lens\n",
        "lengthArr = []\n",
        "\n",
        "for i in range(len(lowerInterceptAveragePoints)):\n",
        "  length = getDistance(lowerInterceptAveragePoints[i], higherInterceptAveragePoints[i])\n",
        "  lengthArr.append(length)\n",
        "\n",
        "# 3 diff heuristics\n",
        "averageLength = sum(lengthArr)/len(lengthArr)\n",
        "maxLength = max(lengthArr)\n",
        "midLength = lengthArr[len(lengthArr)//2]\n",
        "\n",
        "# Volume Calc\n",
        "volume = math.pi/6 * midLength**2 * long_axis_length\n",
        "\n",
        "print(volume)"
      ],
      "execution_count": 18,
      "outputs": [
        {
          "output_type": "stream",
          "text": [
            "8.393926923476622\n"
          ],
          "name": "stdout"
        }
      ]
    },
    {
      "cell_type": "markdown",
      "metadata": {
        "id": "ggihUplhmqGW"
      },
      "source": [
        "# Bullet Method\n"
      ]
    },
    {
      "cell_type": "code",
      "metadata": {
        "id": "jGp5CslBoBix",
        "outputId": "cc717141-12b5-4c7a-f8cb-557277e109ca",
        "colab": {
          "base_uri": "https://localhost:8080/",
          "height": 34
        }
      },
      "source": [
        "# Long axis Length\n",
        "long_axis_length = getDistance([x1, y1], [x2, y2])\n",
        "\n",
        "# Mid Values\n",
        "midIndex = len(lengthArr)//2\n",
        "midLength = getDistance(lowerInterceptAveragePoints[midIndex], higherInterceptAveragePoints[midIndex])\n",
        "\n",
        "area = math.pi * (midLength/2)**2 \n",
        "\n",
        "# Volume Calc\n",
        "volume = 5/6 * area * long_axis_length\n",
        "\n",
        "print(volume)"
      ],
      "execution_count": 19,
      "outputs": [
        {
          "output_type": "stream",
          "text": [
            "10.492408654345779\n"
          ],
          "name": "stdout"
        }
      ]
    },
    {
      "cell_type": "markdown",
      "metadata": {
        "id": "P0EE97ftjXzZ"
      },
      "source": [
        "# Will become local file\n"
      ]
    },
    {
      "cell_type": "code",
      "metadata": {
        "id": "qCNVzuPxwodU",
        "outputId": "d098cd3e-d94b-4d62-9892-7721d6a11625",
        "colab": {
          "base_uri": "https://localhost:8080/",
          "height": 1000
        }
      },
      "source": [
        "import cv2\n",
        "import numpy as np\n",
        "import math\n",
        "import os\n",
        "\n",
        "# Gets all the contours for certain image\n",
        "def obtainContourPoints(path):\n",
        "  # read image\n",
        "  img = cv2.imread(path)\n",
        "  rgb = cv2.cvtColor(img, cv2.COLOR_BGR2RGB)\n",
        "\n",
        "  # set lower and upper bounds on blue color\n",
        "  lower = (200,200,200)\n",
        "  upper = (255,255,255)\n",
        "\n",
        "  # threshold and invert so hexagon is white on black background\n",
        "  thresh = cv2.inRange(rgb, lower, upper)\n",
        "\n",
        "  # get contours\n",
        "  result = np.zeros_like(thresh)\n",
        "  contours = cv2.findContours(thresh, cv2.RETR_EXTERNAL, cv2.CHAIN_APPROX_NONE)\n",
        "  contours = contours[0] if len(contours) == 2 else contours[1]\n",
        "\n",
        "  # Gets all contour points\n",
        "  points = []\n",
        "  for pt in contours:\n",
        "      for i in pt:\n",
        "        for coord in i:\n",
        "          points.append(coord.tolist())\n",
        "  \n",
        "  return points\n",
        "\n",
        "def getIdealPointGroup(points):\n",
        "  pointGroups = []\n",
        "  index = 0\n",
        "  subgroup = [points[0]]\n",
        "\n",
        "  for i in range(len(points) - 1):\n",
        "    prevPoint = points[i]\n",
        "    currentPoint = points[i+1]\n",
        "\n",
        "    if (abs(int(prevPoint[0])-int(currentPoint[0])) <= 1) and (abs(int(prevPoint[1])-int(currentPoint[1])) <= 1):\n",
        "      subgroup.append(currentPoint)\n",
        "    else:\n",
        "      pointGroups.append(subgroup[:])\n",
        "      subgroup = [currentPoint]\n",
        "\n",
        "  pointGroups.append(subgroup)\n",
        "\n",
        "  mainPointGroup = []\n",
        "  maxPointGroupSize = 0\n",
        "\n",
        "  for group in pointGroups:\n",
        "    if len(group) > maxPointGroupSize:\n",
        "      maxPointGroup = group\n",
        "      maxPointGroupSize = len(group)\n",
        "\n",
        "  return maxPointGroup\n",
        "\n",
        "# Finds points for main contour line\n",
        "def getTopAndBottomCoords(points):\n",
        "  # Minimum and Maximum Y Coord\n",
        "  maxY = max(points, key = lambda point: point[1])\n",
        "  minY = min(points, key = lambda point: point[1])\n",
        "\n",
        "  # MinY and MaxY With the limits\n",
        "  minYWith5 = minY[1] + 5\n",
        "  maxYWithout5 = maxY[1] - 15\n",
        "\n",
        "  # Creating these arrays\n",
        "  minYWith5Arr = []\n",
        "  maxYWithout5Arr = []\n",
        "\n",
        "  # Finding these points\n",
        "  for point in points:\n",
        "    if point[1] == minYWith5:\n",
        "      minYWith5Arr.append(point)\n",
        "    if point[1] == maxYWithout5:\n",
        "      maxYWithout5Arr.append(point)\n",
        "\n",
        "  # Average X Coordinates\n",
        "  averageTopX = round((minYWith5Arr[0][0] + minYWith5Arr[-1][0])/2)\n",
        "  averageBottomX = round((maxYWithout5Arr[0][0] + maxYWithout5Arr[-1][0])/2)\n",
        "  slope = getSlope([averageTopX, minYWith5], [averageBottomX, maxYWithout5])\n",
        "\n",
        "  averageTopX -= round((minYWith5Arr[-1][0] - minYWith5Arr[0][0])/1.5/slope)\n",
        "  averageBottomX += round((maxYWithout5Arr[-1][0] - maxYWithout5Arr[0][0])/3/slope)\n",
        "\n",
        "\n",
        "  # Creating these arrays\n",
        "  averageTopXArr = []\n",
        "  averageBottomXArr = []\n",
        "\n",
        "  # Finding these points\n",
        "  condition = True\n",
        "  if slope > 0:\n",
        "    while condition and averageTopX <= minYWith5Arr[-1][0] and averageBottomX >= maxYWithout5Arr[0][0]:\n",
        "      for point in points:\n",
        "        if point[0] == averageTopX:\n",
        "          averageTopXArr.append(point)\n",
        "        if point[0] == averageBottomX:\n",
        "          averageBottomXArr.append(point)\n",
        "      if len(averageTopXArr) > 0 and len(averageBottomXArr):\n",
        "        condition = False\n",
        "      if len(averageTopXArr) == 0:\n",
        "        averageTopX += 1\n",
        "      if len(averageBottomXArr) == 0:\n",
        "        averageBottomXArr -= 1\n",
        "  else:\n",
        "    while condition and averageTopX >= minYWith5Arr[0][0] and averageBottomX <= maxYWithout5Arr[-1][0]:\n",
        "      for point in points:\n",
        "        if point[0] == averageTopX:\n",
        "          averageTopXArr.append(point)\n",
        "        if point[0] == averageBottomX:\n",
        "          averageBottomXArr.append(point)\n",
        "      if len(averageTopXArr) > 0 and len(averageBottomXArr):\n",
        "        condition = False\n",
        "      if len(averageTopXArr) == 0:\n",
        "        averageTopX -= 1\n",
        "      if len(averageBottomXArr) == 0:\n",
        "        averageBottomXArr += 1\n",
        "\n",
        "  # Sorting Arrs\n",
        "  averageTopXArr.sort(key=lambda point: point[1])\n",
        "  averageBottomXArr.sort(key=lambda point: point[1])\n",
        "  averageBottomXArr.reverse()\n",
        "\n",
        "\n",
        "  # Finding Min Top and Max Botpp,\n",
        "  TopCoord = averageTopXArr[0]\n",
        "  BottomCoord = averageBottomXArr[0]\n",
        "\n",
        "  x1, y1 = TopCoord\n",
        "  x2, y2 = BottomCoord\n",
        "\n",
        "  return (x1, y1, x2, y2)\n",
        "\n",
        "\n",
        "# Create the 20 equally spaced points\n",
        "def getWeightedAveragePoints(x1, y1, x2, y2, number):\n",
        "  weighted_avg = []\n",
        "\n",
        "  for n in range(1, number+1, 1):\n",
        "    x_perpendicular = (((n*x1)+(number+1-n)*(x2))/(number+1))\n",
        "    y_perpendicular = (((n*y1)+(number+1-n)*(y2))/(number+1))\n",
        "    weighted_avg.append([x_perpendicular, y_perpendicular])\n",
        "\n",
        "  for pair in weighted_avg:\n",
        "    x, y = pair\n",
        "    if x == int(x):\n",
        "      pair[0] += 0.0001\n",
        "    if y == int(y):\n",
        "      pair[1] += 0.0001\n",
        "\n",
        "  return weighted_avg\n",
        "\n",
        "# Intercept slope\n",
        "def calcExpectedIntercept(x, y, slope):\n",
        "  return slope*x - y\n",
        "\n",
        "def splitPoints(x1, y1, x2, y2, slope, points):\n",
        "  p1Index = points.index([x1, y1])\n",
        "  p2Index = points.index([x2, y2])\n",
        "\n",
        "  lowerIndex = min(p1Index, p2Index)\n",
        "  higherIndex = max(p1Index, p2Index)\n",
        "\n",
        "  higherIntercept = points[lowerIndex:higherIndex]\n",
        "  lowerIntercept = points[higherIndex:] + points[:lowerIndex]\n",
        "\n",
        "  return (lowerIntercept, higherIntercept)\n",
        "\n",
        "# Distance Between 2 Pointss\n",
        "def getDistance(point1, point2):\n",
        "  return math.sqrt((point1[0]-point2[0])**2 + (point1[1]-point2[1])**2)\n",
        "\n",
        "# Slope between points \n",
        "def getSlope(point1, point2):\n",
        "  if ((point1[0] == point2[0])):\n",
        "    return -333\n",
        "  return (point1[1] - point2[1])/(point1[0] - point2[0])\n",
        "\n",
        "# Change to Method of Disks\n",
        "def volumeMethodOfDisks(x1, y1, x2, y2, number, lowerInterceptAveragePoints, higherInterceptAveragePoints):\n",
        "  # Long axis length and perp initialzation\n",
        "  distance = getDistance([x1, y1], [x2, y2])\n",
        "  parallelSeperationDistance = distance/(number + 1)\n",
        "\n",
        "  # Simpson Volume Methods\n",
        "  volume = 0\n",
        "\n",
        "  for i in range(len(lowerInterceptAveragePoints)):\n",
        "    diameter = getDistance(lowerInterceptAveragePoints[i], higherInterceptAveragePoints[i])\n",
        "    radius = diameter/2\n",
        "    diskVolume = math.pi * radius**2 * parallelSeperationDistance\n",
        "    volume += diskVolume\n",
        "\n",
        "  return volume\n",
        "\n",
        "# Prolate Ellipsoid Method\n",
        "def volumeProlateEllipsoidMethod(x1, y1, x2, y2, lowerInterceptAveragePoints, higherInterceptAveragePoints):\n",
        "  long_axis_length = getDistance([x1, y1], [x2, y2])\n",
        "  parallelSeperationDistance = long_axis_length/21\n",
        "\n",
        "  # Manual Area Calc\n",
        "  area = 0\n",
        "\n",
        "  for i in range(len(lowerInterceptAveragePoints)):\n",
        "    length = getDistance(lowerInterceptAveragePoints[i], higherInterceptAveragePoints[i])\n",
        "    diskArea = length * parallelSeperationDistance\n",
        "    area += diskArea\n",
        "\n",
        "  volume = 0.85 * area * long_axis_length\n",
        "\n",
        "  return volume\n",
        "\n",
        "# Bullet Method Calculation\n",
        "def volumeBulletMethod(x1, y1, x2, y2, lowerInterceptAveragePoints, higherInterceptAveragePoints):\n",
        "  # Long axis Length\n",
        "  long_axis_length = getDistance([x1, y1], [x2, y2])\n",
        "\n",
        "  # Storing all perp lens\n",
        "  lengthArr = []\n",
        "\n",
        "  for i in range(len(lowerInterceptAveragePoints)):\n",
        "    length = getDistance(lowerInterceptAveragePoints[i], higherInterceptAveragePoints[i])\n",
        "    lengthArr.append(length)\n",
        "\n",
        "  midIndex = len(lengthArr)//2\n",
        "  midLength = getDistance(lowerInterceptAveragePoints[midIndex], higherInterceptAveragePoints[midIndex])\n",
        "\n",
        "  area = math.pi * (midLength/2)**2 \n",
        "\n",
        "  # Volume Calc\n",
        "  volume = 5/6 * area * long_axis_length\n",
        "\n",
        "  return volume\n",
        "\n",
        "\n",
        "def findCorrespondingMaskPoints(weighted_avg, lowerIntercept, higherIntercept, x1, y1, x2, y2, slope, i):\n",
        "  # Calculate perpendicular slope\n",
        "  try:\n",
        "    perp_slope = -1/slope\n",
        "  except:\n",
        "    perp_slope = 10000\n",
        "\n",
        "  # Indexing\n",
        "  lowerIndex = 0\n",
        "  higherIndex = 0\n",
        "\n",
        "  # Make sure its from top to bottom direction\n",
        "  if (weighted_avg[-1][0] + weighted_avg[-1][1]) < (weighted_avg[0][0] + weighted_avg[0][1]):\n",
        "    weighted_avg = weighted_avg[::-1]\n",
        "\n",
        "  # Make sure its from top to bottom direction\n",
        "  if getDistance(weighted_avg[0], higherIntercept[0]) > getDistance(weighted_avg[0], higherIntercept[-1]):\n",
        "      higherIntercept = higherIntercept[::-1]\n",
        "  \n",
        "  print(higherIntercept)\n",
        "\n",
        "  # Make sure its from top to bottom direction\n",
        "  if getDistance(weighted_avg[0], lowerIntercept[0]) > getDistance(weighted_avg[0], lowerIntercept[-1]):\n",
        "      lowerIntercept = lowerIntercept[::-1]\n",
        "\n",
        "  higherInterceptAveragePoints = []\n",
        "  lowerInterceptAveragePoints = []\n",
        "\n",
        "  for averagePoint in weighted_avg:\n",
        "    try:\n",
        "      condition = True\n",
        "      count = 0\n",
        "      while condition:\n",
        "        higherIndex = max(higherIndex, 1)\n",
        "        point = higherIntercept[higherIndex]\n",
        "        if higherIndex == 0:\n",
        "          prev_point =  [x1, y1] if getDistance(point, [x1, y1]) < getDistance(point, [x2, y2]) else [x2, y2]\n",
        "          start_point = prev_point[:]\n",
        "        else:\n",
        "          prev_point = higherIntercept[higherIndex-1]\n",
        "        \n",
        "        new_slope = getSlope(point, averagePoint)\n",
        "        prev_slope =  getSlope(prev_point, averagePoint)\n",
        "        betweenCond = ((point[0] < averagePoint[0] and prev_point[0] > averagePoint[0]) or (point[0] > averagePoint[0] and prev_point[0] < averagePoint[0])) and abs(new_slope) > abs(slope) and abs(prev_slope) > abs(slope)\n",
        "        slopeCond = (new_slope >= perp_slope and prev_slope<=perp_slope) or  (new_slope <= perp_slope and prev_slope>=perp_slope)\n",
        "        # print(slopeCond and not betweenCond, count, point, prev_point, averagePoint, prev_slope, new_slope, perp_slope)\n",
        "\n",
        "        count += 1\n",
        "        higherIndex += 1\n",
        "\n",
        "        if perp_slope == 10000:\n",
        "          if (point[0] < averagePoint[0] and prev_point[0] > averagePoint[0]) or (point[0] > averagePoint[0] and prev_point[0] < averagePoint[0]):\n",
        "            higherInterceptAveragePoints.append(point)\n",
        "            condition = False\n",
        "            higherIndex -= 1\n",
        "        elif not (len(higherInterceptAveragePoints)>0 and higherInterceptAveragePoints[0] == point and point == start_point):\n",
        "          if slopeCond and not betweenCond:\n",
        "            higherInterceptAveragePoints.append(point)\n",
        "            condition = False\n",
        "            higherIndex -= 1\n",
        "          elif abs(perp_slope) >= 10 and ((new_slope > 0 and prev_slope < 0) or (new_slope < 0 and prev_slope > 0)):\n",
        "            higherInterceptAveragePoints.append(point)\n",
        "            condition = False\n",
        "            higherIndex -= 1\n",
        "          elif count >= len(higherIntercept)-1:\n",
        "            higherIndex -= count\n",
        "            if higherIndex == 0:\n",
        "              higherInterceptAveragePoints.append(start_point)\n",
        "            else:\n",
        "              higherInterceptAveragePoints.append(higherIntercept[higherIndex])\n",
        "            condition = False\n",
        "            higherIndex -= 1\n",
        "\n",
        "    except:\n",
        "      higherInterceptAveragePoints.append(higherIntercept[-1])\n",
        "  \n",
        "  for averagePoint in weighted_avg:\n",
        "    try:\n",
        "      condition = True\n",
        "      count = 0\n",
        "      while condition:\n",
        "        lowerIndex = max(lowerIndex, 1)\n",
        "        point = lowerIntercept[lowerIndex]\n",
        "\n",
        "        if lowerIndex == 0:\n",
        "          prev_point =  [x1, y1] if getDistance(point, [x1, y1]) < getDistance(point, [x2, y2]) else [x2, y2]\n",
        "          start_point = prev_point[:]\n",
        "\n",
        "        else:\n",
        "          prev_point = lowerIntercept[lowerIndex-1]\n",
        "\n",
        "\n",
        "        new_slope = getSlope(point, averagePoint)\n",
        "        prev_slope =  getSlope(prev_point, averagePoint)\n",
        "        betweenCond = ((point[0] < averagePoint[0] and prev_point[0] > averagePoint[0]) or (point[0] > averagePoint[0] and prev_point[0] < averagePoint[0])) and abs(new_slope) > abs(slope) and abs(prev_slope) > abs(slope)\n",
        "        slopeCond = (new_slope >= perp_slope and prev_slope<=perp_slope) or  (new_slope <= perp_slope and prev_slope>=perp_slope)\n",
        "        # print(slopeCond and not betweenCond, count, point, prev_point, averagePoint, prev_slope, new_slope, perp_slope)\n",
        "\n",
        "# False 0 [52, 50] [52, 49] [52.76190476190476, 49.04761904761905] 0.06250000000000466 -1.25 -16.0\n",
        "# False 0 [52, 50] [52, 49] [53.523809523809526, 49.095238095238095] 0.06249999999999971 -0.5937499999999996 -16.0\n",
        "# False 0 [52, 50] [52, 49] [54.285714285714285, 49.142857142857146] 0.06250000000000136 -0.37499999999999883 -16.0\n",
        "# False 0 [52, 50] [52, 49] [55.04761904761905, 49.19047619047619] 0.06249999999999971 -0.26562499999999994 -16.0\n",
        "# False 0 [52, 50] [52, 49] [55.80952380952381, 49.23809523809524] 0.0625000000000007 -0.19999999999999926 -16.0\n",
        "\n",
        "\n",
        "        count += 1\n",
        "        lowerIndex += 1\n",
        "\n",
        "        if perp_slope == 10000:\n",
        "          if ((point[0] < averagePoint[0] and prev_point[0] > averagePoint[0]) or (point[0] > averagePoint[0] and prev_point[0] < averagePoint[0])):\n",
        "            lowerInterceptAveragePoints.append(point)\n",
        "            condition = False\n",
        "            lowerIndex -= 1\n",
        "        elif not (len(lowerInterceptAveragePoints)>0 and lowerInterceptAveragePoints[0] == point and point == start_point):\n",
        "          if slopeCond and not betweenCond:\n",
        "            lowerInterceptAveragePoints.append(point)\n",
        "            condition = False\n",
        "            lowerIndex -= 1\n",
        "          elif abs(perp_slope) > 10 and ((new_slope > 0 and prev_slope < 0) or (new_slope < 0 and prev_slope > 0)):\n",
        "            lowerInterceptAveragePoints.append(point)\n",
        "            condition = False\n",
        "            lowerIndex -= 1\n",
        "          elif count >= len(lowerIntercept)-1:\n",
        "            lowerIndex -= count\n",
        "            if lowerIndex == 0:\n",
        "              lowerInterceptAveragePoints.append(start_point)\n",
        "            else:\n",
        "              lowerInterceptAveragePoints.append(lowerIntercept[lowerIndex])\n",
        "            condition = False\n",
        "            lowerIndex -= 1\n",
        "    except:\n",
        "      lowerInterceptAveragePoints.append(lowerIntercept[-1])\n",
        "\n",
        "  return (lowerInterceptAveragePoints, higherInterceptAveragePoints)\n",
        "\n",
        "\n",
        "\n",
        "def calculateVolume(path, number, method = \"Method of Disks\"):\n",
        "  points = getIdealPointGroup(obtainContourPoints(path))\n",
        "\n",
        "  x1, y1, x2, y2 = getTopAndBottomCoords(points)\n",
        "  if (x1 + y1) > (x2 + y2):\n",
        "    x1, y1, x2, y2 = x2, y2, x1, y1\n",
        "\n",
        "  mainLineSlope = getSlope([x1, y1], [x2, y2])\n",
        "  baseAngle = math.atan(mainLineSlope)\n",
        "\n",
        "  if baseAngle>0:\n",
        "      baseAngle -= math.pi\n",
        "  lowerIntercept, higherIntercept = splitPoints(x1, y1, x2, y2, mainLineSlope, points)\n",
        "\n",
        "  if (higherIntercept[0][0] + higherIntercept[0][1]) > (lowerIntercept[0][0] + lowerIntercept[0][1]):\n",
        "    lowerIntercept, higherIntercept = higherIntercept, lowerIntercept\n",
        "\n",
        "  volumes = {}\n",
        "  x1s = {}\n",
        "  y1s = {}\n",
        "  x2s = {}\n",
        "  y2s = {}\n",
        "  degrees = {}\n",
        "\n",
        "  # Volumes for all 0 to 5 cases\n",
        "  for i in range(-30, 31, 1):\n",
        "    x1, y1 = lowerIntercept[i]\n",
        "    x2, y2 = higherIntercept[i]\n",
        "\n",
        "\n",
        "    slope = getSlope([x1, y1], [x2, y2])\n",
        "    angle = math.atan(slope)\n",
        "\n",
        "    if angle>0:\n",
        "      angle -= math.pi\n",
        "\n",
        "    degrees[i] = (baseAngle - angle) * 180/math.pi\n",
        "\n",
        "\n",
        "    p1Index = points.index([x1, y1])\n",
        "    p2Index = points.index([x2, y2])\n",
        "\n",
        "    lowerIndex = min(p1Index, p2Index)\n",
        "    higherIndex = max(p1Index, p2Index)\n",
        "\n",
        "    higherInterceptPoints = points[lowerIndex:higherIndex]\n",
        "    lowerInterceptPoints = points[higherIndex:] + points[:lowerIndex]\n",
        "\n",
        "    if (higherInterceptPoints[0][0] + higherInterceptPoints[0][1]) < (lowerInterceptPoints[0][0] + lowerInterceptPoints[0][1]):\n",
        "      lowerInterceptPoints, higherInterceptPoints = higherInterceptPoints, lowerInterceptPoints\n",
        "\n",
        "    weighted_avg = getWeightedAveragePoints(x1, y1, x2, y2, number)\n",
        "    lowerInterceptAveragePoints, higherInterceptAveragePoints = findCorrespondingMaskPoints(weighted_avg, lowerInterceptPoints, higherInterceptPoints, x1, y1, x2, y2, slope, i)\n",
        "    \n",
        "    x1s[i] = [x1] + [point[0] for point in lowerInterceptAveragePoints]\n",
        "    y1s[i] = [y1] + [point[1] for point in lowerInterceptAveragePoints]\n",
        "\n",
        "    x2s[i] = [x2] + [point[0] for point in higherInterceptAveragePoints]\n",
        "    y2s[i] = [y2] + [point[1] for point in higherInterceptAveragePoints]\n",
        "\n",
        "    if i < 100:\n",
        "      print(i)\n",
        "      image = cv2.imread(path) \n",
        "\n",
        "\n",
        "      # for point in points:\n",
        "      #   cv2.circle(image,tuple(point), 1, (255,255,255), -1)\n",
        "      #   if point[0] <50:\n",
        "      #     print(point)\n",
        "\n",
        "\n",
        "      # for point in weighted_avg: \n",
        "      #   cv2.circle(image,tuple((int(point[0]), int(point[1]))), 1, (0,0,0), -1)\n",
        "      \n",
        "      for j in range(len(lowerInterceptAveragePoints)): \n",
        "        cv2.line(image, tuple(lowerInterceptAveragePoints[j]), tuple(higherInterceptAveragePoints[j]), (255,255,0), 1)\n",
        "\n",
        "\n",
        "      cv2.line(image, (x1, y1), (x2, y2), (0,0,0), 1)\n",
        "\n",
        "      cv2_imshow(image)\n",
        "      cv2.waitKey(0)\n",
        "      cv2.destroyAllWindows()\n",
        "\n",
        "    if  method == \"Method of Disks\":\n",
        "      volumes[i] = volumeMethodOfDisks(x1, y1, x2, y2, number, lowerInterceptAveragePoints, higherInterceptAveragePoints)\n",
        "    elif method == \"Prolate Ellipsoid\":\n",
        "      volumes[i] = volumeProlateEllipsoidMethod(x1, y1, x2, y2, lowerInterceptAveragePoints, higherInterceptAveragePoints)\n",
        "    elif method == \"Bullet Method\":\n",
        "      volumes[i] = volumeBulletMethod(x1, y1, x2, y2, lowerInterceptAveragePoints, higherInterceptAveragePoints)\n",
        "    \n",
        "  return (volumes, x1s, y1s, x2s, y2s, degrees)\n",
        "\n",
        "print(calculateVolume(path, 20, method = \"Method of Disks\"))\n",
        "# print(calculateVolume(\"/content/output/image.png\", method = \"Single Ellipsoid\"))\n",
        "# print(calculateVolume(\"/content/output/image.png\", method = \"Biplane Area\"))\n",
        "# print(calculateVolume(\"/content/output/image.png\", method = \"Bullet\"))"
      ],
      "execution_count": 35,
      "outputs": [
        {
          "output_type": "stream",
          "text": [
            "[[52, 51], [52, 50], [52, 49], [52, 48], [52, 47], [52, 46], [52, 45], [52, 44], [52, 43], [52, 42], [52, 41], [52, 40], [52, 39], [52, 38], [52, 37], [52, 36], [52, 35], [52, 34], [52, 33], [52, 32], [52, 31], [52, 30], [51, 29], [51, 28], [51, 27], [51, 26], [51, 25], [51, 24], [52, 24], [53, 25], [54, 26], [55, 26], [56, 27], [57, 28], [58, 28], [59, 29], [60, 30], [61, 31], [62, 32], [62, 33], [62, 34], [63, 35], [64, 36], [65, 37], [65, 38], [66, 39], [66, 40], [66, 41], [66, 42], [66, 43], [67, 44], [67, 45], [67, 46], [68, 47], [68, 48], [68, 49], [68, 50], [68, 51], [69, 52], [69, 53], [69, 54]]\n",
            "-30\n"
          ],
          "name": "stdout"
        },
        {
          "output_type": "display_data",
          "data": {
            "image/png": "[encoded data removed]",
            "text/plain": [
              "<PIL.Image.Image image mode=RGB size=112x112 at 0x7F8C7459A6A0>"
            ]
          },
          "metadata": {
            "tags": []
          }
        },
        {
          "output_type": "stream",
          "text": [
            "[[51, 52], [52, 51], [52, 50], [52, 49], [52, 48], [52, 47], [52, 46], [52, 45], [52, 44], [52, 43], [52, 42], [52, 41], [52, 40], [52, 39], [52, 38], [52, 37], [52, 36], [52, 35], [52, 34], [52, 33], [52, 32], [52, 31], [52, 30], [51, 29], [51, 28], [51, 27], [51, 26], [51, 25], [51, 24], [52, 24], [53, 25], [54, 26], [55, 26], [56, 27], [57, 28], [58, 28], [59, 29], [60, 30], [61, 31], [62, 32], [62, 33], [62, 34], [63, 35], [64, 36], [65, 37], [65, 38], [66, 39], [66, 40], [66, 41], [66, 42], [66, 43], [67, 44], [67, 45], [67, 46], [68, 47], [68, 48], [68, 49], [68, 50], [68, 51], [69, 52], [69, 53]]\n",
            "-29\n"
          ],
          "name": "stdout"
        },
        {
          "output_type": "display_data",
          "data": {
            "image/png": "[encoded data removed]",
            "text/plain": [
              "<PIL.Image.Image image mode=RGB size=112x112 at 0x7F8C7459A5F8>"
            ]
          },
          "metadata": {
            "tags": []
          }
        },
        {
          "output_type": "stream",
          "text": [
            "[[51, 53], [51, 52], [52, 51], [52, 50], [52, 49], [52, 48], [52, 47], [52, 46], [52, 45], [52, 44], [52, 43], [52, 42], [52, 41], [52, 40], [52, 39], [52, 38], [52, 37], [52, 36], [52, 35], [52, 34], [52, 33], [52, 32], [52, 31], [52, 30], [51, 29], [51, 28], [51, 27], [51, 26], [51, 25], [51, 24], [52, 24], [53, 25], [54, 26], [55, 26], [56, 27], [57, 28], [58, 28], [59, 29], [60, 30], [61, 31], [62, 32], [62, 33], [62, 34], [63, 35], [64, 36], [65, 37], [65, 38], [66, 39], [66, 40], [66, 41], [66, 42], [66, 43], [67, 44], [67, 45], [67, 46], [68, 47], [68, 48], [68, 49], [68, 50], [68, 51], [69, 52]]\n",
            "-28\n"
          ],
          "name": "stdout"
        },
        {
          "output_type": "display_data",
          "data": {
            "image/png": "[encoded data removed]",
            "text/plain": [
              "<PIL.Image.Image image mode=RGB size=112x112 at 0x7F8C7459A668>"
            ]
          },
          "metadata": {
            "tags": []
          }
        },
        {
          "output_type": "stream",
          "text": [
            "[[51, 54], [51, 53], [51, 52], [52, 51], [52, 50], [52, 49], [52, 48], [52, 47], [52, 46], [52, 45], [52, 44], [52, 43], [52, 42], [52, 41], [52, 40], [52, 39], [52, 38], [52, 37], [52, 36], [52, 35], [52, 34], [52, 33], [52, 32], [52, 31], [52, 30], [51, 29], [51, 28], [51, 27], [51, 26], [51, 25], [51, 24], [52, 24], [53, 25], [54, 26], [55, 26], [56, 27], [57, 28], [58, 28], [59, 29], [60, 30], [61, 31], [62, 32], [62, 33], [62, 34], [63, 35], [64, 36], [65, 37], [65, 38], [66, 39], [66, 40], [66, 41], [66, 42], [66, 43], [67, 44], [67, 45], [67, 46], [68, 47], [68, 48], [68, 49], [68, 50], [68, 51]]\n",
            "-27\n"
          ],
          "name": "stdout"
        },
        {
          "output_type": "display_data",
          "data": {
            "image/png": "[encoded data removed]",
            "text/plain": [
              "<PIL.Image.Image image mode=RGB size=112x112 at 0x7F8C7459A550>"
            ]
          },
          "metadata": {
            "tags": []
          }
        },
        {
          "output_type": "stream",
          "text": [
            "[[51, 55], [51, 54], [51, 53], [51, 52], [52, 51], [52, 50], [52, 49], [52, 48], [52, 47], [52, 46], [52, 45], [52, 44], [52, 43], [52, 42], [52, 41], [52, 40], [52, 39], [52, 38], [52, 37], [52, 36], [52, 35], [52, 34], [52, 33], [52, 32], [52, 31], [52, 30], [51, 29], [51, 28], [51, 27], [51, 26], [51, 25], [51, 24], [52, 24], [53, 25], [54, 26], [55, 26], [56, 27], [57, 28], [58, 28], [59, 29], [60, 30], [61, 31], [62, 32], [62, 33], [62, 34], [63, 35], [64, 36], [65, 37], [65, 38], [66, 39], [66, 40], [66, 41], [66, 42], [66, 43], [67, 44], [67, 45], [67, 46], [68, 47], [68, 48], [68, 49], [68, 50]]\n",
            "-26\n"
          ],
          "name": "stdout"
        },
        {
          "output_type": "display_data",
          "data": {
            "image/png": "[encoded data removed]",
            "text/plain": [
              "<PIL.Image.Image image mode=RGB size=112x112 at 0x7F8C7459A6A0>"
            ]
          },
          "metadata": {
            "tags": []
          }
        },
        {
          "output_type": "stream",
          "text": [
            "[[51, 56], [51, 55], [51, 54], [51, 53], [51, 52], [52, 51], [52, 50], [52, 49], [52, 48], [52, 47], [52, 46], [52, 45], [52, 44], [52, 43], [52, 42], [52, 41], [52, 40], [52, 39], [52, 38], [52, 37], [52, 36], [52, 35], [52, 34], [52, 33], [52, 32], [52, 31], [52, 30], [51, 29], [51, 28], [51, 27], [51, 26], [51, 25], [51, 24], [52, 24], [53, 25], [54, 26], [55, 26], [56, 27], [57, 28], [58, 28], [59, 29], [60, 30], [61, 31], [62, 32], [62, 33], [62, 34], [63, 35], [64, 36], [65, 37], [65, 38], [66, 39], [66, 40], [66, 41], [66, 42], [66, 43], [67, 44], [67, 45], [67, 46], [68, 47], [68, 48], [68, 49]]\n",
            "-25\n"
          ],
          "name": "stdout"
        },
        {
          "output_type": "display_data",
          "data": {
            "image/png": "[encoded data removed]",
            "text/plain": [
              "<PIL.Image.Image image mode=RGB size=112x112 at 0x7F8C7459A5F8>"
            ]
          },
          "metadata": {
            "tags": []
          }
        },
        {
          "output_type": "stream",
          "text": [
            "[[51, 57], [51, 56], [51, 55], [51, 54], [51, 53], [51, 52], [52, 51], [52, 50], [52, 49], [52, 48], [52, 47], [52, 46], [52, 45], [52, 44], [52, 43], [52, 42], [52, 41], [52, 40], [52, 39], [52, 38], [52, 37], [52, 36], [52, 35], [52, 34], [52, 33], [52, 32], [52, 31], [52, 30], [51, 29], [51, 28], [51, 27], [51, 26], [51, 25], [51, 24], [52, 24], [53, 25], [54, 26], [55, 26], [56, 27], [57, 28], [58, 28], [59, 29], [60, 30], [61, 31], [62, 32], [62, 33], [62, 34], [63, 35], [64, 36], [65, 37], [65, 38], [66, 39], [66, 40], [66, 41], [66, 42], [66, 43], [67, 44], [67, 45], [67, 46], [68, 47], [68, 48]]\n",
            "-24\n"
          ],
          "name": "stdout"
        },
        {
          "output_type": "display_data",
          "data": {
            "image/png": "[encoded data removed]",
            "text/plain": [
              "<PIL.Image.Image image mode=RGB size=112x112 at 0x7F8C7459A668>"
            ]
          },
          "metadata": {
            "tags": []
          }
        },
        {
          "output_type": "stream",
          "text": [
            "[[50, 58], [51, 57], [51, 56], [51, 55], [51, 54], [51, 53], [51, 52], [52, 51], [52, 50], [52, 49], [52, 48], [52, 47], [52, 46], [52, 45], [52, 44], [52, 43], [52, 42], [52, 41], [52, 40], [52, 39], [52, 38], [52, 37], [52, 36], [52, 35], [52, 34], [52, 33], [52, 32], [52, 31], [52, 30], [51, 29], [51, 28], [51, 27], [51, 26], [51, 25], [51, 24], [52, 24], [53, 25], [54, 26], [55, 26], [56, 27], [57, 28], [58, 28], [59, 29], [60, 30], [61, 31], [62, 32], [62, 33], [62, 34], [63, 35], [64, 36], [65, 37], [65, 38], [66, 39], [66, 40], [66, 41], [66, 42], [66, 43], [67, 44], [67, 45], [67, 46], [68, 47]]\n",
            "-23\n"
          ],
          "name": "stdout"
        },
        {
          "output_type": "display_data",
          "data": {
            "image/png": "[encoded data removed]",
            "text/plain": [
              "<PIL.Image.Image image mode=RGB size=112x112 at 0x7F8C7459A550>"
            ]
          },
          "metadata": {
            "tags": []
          }
        },
        {
          "output_type": "stream",
          "text": [
            "[[50, 59], [50, 58], [51, 57], [51, 56], [51, 55], [51, 54], [51, 53], [51, 52], [52, 51], [52, 50], [52, 49], [52, 48], [52, 47], [52, 46], [52, 45], [52, 44], [52, 43], [52, 42], [52, 41], [52, 40], [52, 39], [52, 38], [52, 37], [52, 36], [52, 35], [52, 34], [52, 33], [52, 32], [52, 31], [52, 30], [51, 29], [51, 28], [51, 27], [51, 26], [51, 25], [51, 24], [52, 24], [53, 25], [54, 26], [55, 26], [56, 27], [57, 28], [58, 28], [59, 29], [60, 30], [61, 31], [62, 32], [62, 33], [62, 34], [63, 35], [64, 36], [65, 37], [65, 38], [66, 39], [66, 40], [66, 41], [66, 42], [66, 43], [67, 44], [67, 45], [67, 46]]\n",
            "-22\n"
          ],
          "name": "stdout"
        },
        {
          "output_type": "display_data",
          "data": {
            "image/png": "[encoded data removed]",
            "text/plain": [
              "<PIL.Image.Image image mode=RGB size=112x112 at 0x7F8C7459A6A0>"
            ]
          },
          "metadata": {
            "tags": []
          }
        },
        {
          "output_type": "stream",
          "text": [
            "[[49, 60], [50, 59], [50, 58], [51, 57], [51, 56], [51, 55], [51, 54], [51, 53], [51, 52], [52, 51], [52, 50], [52, 49], [52, 48], [52, 47], [52, 46], [52, 45], [52, 44], [52, 43], [52, 42], [52, 41], [52, 40], [52, 39], [52, 38], [52, 37], [52, 36], [52, 35], [52, 34], [52, 33], [52, 32], [52, 31], [52, 30], [51, 29], [51, 28], [51, 27], [51, 26], [51, 25], [51, 24], [52, 24], [53, 25], [54, 26], [55, 26], [56, 27], [57, 28], [58, 28], [59, 29], [60, 30], [61, 31], [62, 32], [62, 33], [62, 34], [63, 35], [64, 36], [65, 37], [65, 38], [66, 39], [66, 40], [66, 41], [66, 42], [66, 43], [67, 44], [67, 45]]\n",
            "-21\n"
          ],
          "name": "stdout"
        },
        {
          "output_type": "display_data",
          "data": {
            "image/png": "[encoded data removed]",
            "text/plain": [
              "<PIL.Image.Image image mode=RGB size=112x112 at 0x7F8C7459A5F8>"
            ]
          },
          "metadata": {
            "tags": []
          }
        },
        {
          "output_type": "stream",
          "text": [
            "[[49, 62], [49, 63], [49, 64], [49, 65], [49, 66], [49, 67], [49, 68], [50, 69], [50, 70], [50, 71], [51, 71], [52, 71], [53, 71], [54, 71], [55, 71], [56, 71], [57, 71], [58, 71], [59, 71], [60, 70], [61, 70], [62, 70], [63, 70], [64, 70], [65, 70], [66, 69], [67, 69], [68, 69], [69, 69], [70, 69], [70, 68], [70, 67], [70, 66], [70, 65], [70, 64], [70, 63], [70, 62], [70, 61], [70, 60], [70, 59], [69, 58], [69, 57], [69, 56], [69, 55], [69, 54], [69, 53], [69, 52], [68, 51], [68, 50], [68, 49], [68, 48], [68, 47], [67, 46], [67, 45]]\n",
            "-20\n"
          ],
          "name": "stdout"
        },
        {
          "output_type": "display_data",
          "data": {
            "image/png": "[encoded data removed]",
            "text/plain": [
              "<PIL.Image.Image image mode=RGB size=112x112 at 0x7F8C7459A668>"
            ]
          },
          "metadata": {
            "tags": []
          }
        },
        {
          "output_type": "stream",
          "text": [
            "[[67, 44], [67, 45], [67, 46], [68, 47], [68, 48], [68, 49], [68, 50], [68, 51], [69, 52], [69, 53], [69, 54], [69, 55], [69, 56], [69, 57], [69, 58], [70, 59], [70, 60], [70, 61], [70, 62], [70, 63], [70, 64], [70, 65], [70, 66], [70, 67], [70, 68], [70, 69], [69, 69], [68, 69], [67, 69], [66, 69], [65, 70], [64, 70], [63, 70], [62, 70], [61, 70], [60, 70], [59, 71], [58, 71], [57, 71], [56, 71], [55, 71], [54, 71], [53, 71], [52, 71], [51, 71], [50, 71], [50, 70], [50, 69], [49, 68], [49, 67], [49, 66], [49, 65], [49, 64], [49, 63]]\n",
            "-19\n"
          ],
          "name": "stdout"
        },
        {
          "output_type": "display_data",
          "data": {
            "image/png": "[encoded data removed]",
            "text/plain": [
              "<PIL.Image.Image image mode=RGB size=112x112 at 0x7F8C7459A550>"
            ]
          },
          "metadata": {
            "tags": []
          }
        },
        {
          "output_type": "stream",
          "text": [
            "[[66, 43], [67, 44], [67, 45], [67, 46], [68, 47], [68, 48], [68, 49], [68, 50], [68, 51], [69, 52], [69, 53], [69, 54], [69, 55], [69, 56], [69, 57], [69, 58], [70, 59], [70, 60], [70, 61], [70, 62], [70, 63], [70, 64], [70, 65], [70, 66], [70, 67], [70, 68], [70, 69], [69, 69], [68, 69], [67, 69], [66, 69], [65, 70], [64, 70], [63, 70], [62, 70], [61, 70], [60, 70], [59, 71], [58, 71], [57, 71], [56, 71], [55, 71], [54, 71], [53, 71], [52, 71], [51, 71], [50, 71], [50, 70], [50, 69], [49, 68], [49, 67], [49, 66], [49, 65], [49, 64]]\n",
            "-18\n"
          ],
          "name": "stdout"
        },
        {
          "output_type": "display_data",
          "data": {
            "image/png": "[encoded data removed]",
            "text/plain": [
              "<PIL.Image.Image image mode=RGB size=112x112 at 0x7F8C7459A6A0>"
            ]
          },
          "metadata": {
            "tags": []
          }
        },
        {
          "output_type": "stream",
          "text": [
            "[[66, 42], [66, 43], [67, 44], [67, 45], [67, 46], [68, 47], [68, 48], [68, 49], [68, 50], [68, 51], [69, 52], [69, 53], [69, 54], [69, 55], [69, 56], [69, 57], [69, 58], [70, 59], [70, 60], [70, 61], [70, 62], [70, 63], [70, 64], [70, 65], [70, 66], [70, 67], [70, 68], [70, 69], [69, 69], [68, 69], [67, 69], [66, 69], [65, 70], [64, 70], [63, 70], [62, 70], [61, 70], [60, 70], [59, 71], [58, 71], [57, 71], [56, 71], [55, 71], [54, 71], [53, 71], [52, 71], [51, 71], [50, 71], [50, 70], [50, 69], [49, 68], [49, 67], [49, 66], [49, 65]]\n",
            "-17\n"
          ],
          "name": "stdout"
        },
        {
          "output_type": "display_data",
          "data": {
            "image/png": "[encoded data removed]",
            "text/plain": [
              "<PIL.Image.Image image mode=RGB size=112x112 at 0x7F8C7459A668>"
            ]
          },
          "metadata": {
            "tags": []
          }
        },
        {
          "output_type": "stream",
          "text": [
            "[[66, 41], [66, 42], [66, 43], [67, 44], [67, 45], [67, 46], [68, 47], [68, 48], [68, 49], [68, 50], [68, 51], [69, 52], [69, 53], [69, 54], [69, 55], [69, 56], [69, 57], [69, 58], [70, 59], [70, 60], [70, 61], [70, 62], [70, 63], [70, 64], [70, 65], [70, 66], [70, 67], [70, 68], [70, 69], [69, 69], [68, 69], [67, 69], [66, 69], [65, 70], [64, 70], [63, 70], [62, 70], [61, 70], [60, 70], [59, 71], [58, 71], [57, 71], [56, 71], [55, 71], [54, 71], [53, 71], [52, 71], [51, 71], [50, 71], [50, 70], [50, 69], [49, 68], [49, 67], [49, 66]]\n",
            "-16\n"
          ],
          "name": "stdout"
        },
        {
          "output_type": "display_data",
          "data": {
            "image/png": "[encoded data removed]",
            "text/plain": [
              "<PIL.Image.Image image mode=RGB size=112x112 at 0x7F8C7459A5F8>"
            ]
          },
          "metadata": {
            "tags": []
          }
        },
        {
          "output_type": "stream",
          "text": [
            "[[66, 40], [66, 41], [66, 42], [66, 43], [67, 44], [67, 45], [67, 46], [68, 47], [68, 48], [68, 49], [68, 50], [68, 51], [69, 52], [69, 53], [69, 54], [69, 55], [69, 56], [69, 57], [69, 58], [70, 59], [70, 60], [70, 61], [70, 62], [70, 63], [70, 64], [70, 65], [70, 66], [70, 67], [70, 68], [70, 69], [69, 69], [68, 69], [67, 69], [66, 69], [65, 70], [64, 70], [63, 70], [62, 70], [61, 70], [60, 70], [59, 71], [58, 71], [57, 71], [56, 71], [55, 71], [54, 71], [53, 71], [52, 71], [51, 71], [50, 71], [50, 70], [50, 69], [49, 68], [49, 67]]\n",
            "-15\n"
          ],
          "name": "stdout"
        },
        {
          "output_type": "display_data",
          "data": {
            "image/png": "[encoded data removed]",
            "text/plain": [
              "<PIL.Image.Image image mode=RGB size=112x112 at 0x7F8C7459A550>"
            ]
          },
          "metadata": {
            "tags": []
          }
        },
        {
          "output_type": "stream",
          "text": [
            "[[66, 39], [66, 40], [66, 41], [66, 42], [66, 43], [67, 44], [67, 45], [67, 46], [68, 47], [68, 48], [68, 49], [68, 50], [68, 51], [69, 52], [69, 53], [69, 54], [69, 55], [69, 56], [69, 57], [69, 58], [70, 59], [70, 60], [70, 61], [70, 62], [70, 63], [70, 64], [70, 65], [70, 66], [70, 67], [70, 68], [70, 69], [69, 69], [68, 69], [67, 69], [66, 69], [65, 70], [64, 70], [63, 70], [62, 70], [61, 70], [60, 70], [59, 71], [58, 71], [57, 71], [56, 71], [55, 71], [54, 71], [53, 71], [52, 71], [51, 71], [50, 71], [50, 70], [50, 69], [49, 68]]\n",
            "-14\n"
          ],
          "name": "stdout"
        },
        {
          "output_type": "display_data",
          "data": {
            "image/png": "[encoded data removed]",
            "text/plain": [
              "<PIL.Image.Image image mode=RGB size=112x112 at 0x7F8C7459A550>"
            ]
          },
          "metadata": {
            "tags": []
          }
        },
        {
          "output_type": "stream",
          "text": [
            "[[65, 38], [66, 39], [66, 40], [66, 41], [66, 42], [66, 43], [67, 44], [67, 45], [67, 46], [68, 47], [68, 48], [68, 49], [68, 50], [68, 51], [69, 52], [69, 53], [69, 54], [69, 55], [69, 56], [69, 57], [69, 58], [70, 59], [70, 60], [70, 61], [70, 62], [70, 63], [70, 64], [70, 65], [70, 66], [70, 67], [70, 68], [70, 69], [69, 69], [68, 69], [67, 69], [66, 69], [65, 70], [64, 70], [63, 70], [62, 70], [61, 70], [60, 70], [59, 71], [58, 71], [57, 71], [56, 71], [55, 71], [54, 71], [53, 71], [52, 71], [51, 71], [50, 71], [50, 70], [50, 69]]\n",
            "-13\n"
          ],
          "name": "stdout"
        },
        {
          "output_type": "display_data",
          "data": {
            "image/png": "[encoded data removed]",
            "text/plain": [
              "<PIL.Image.Image image mode=RGB size=112x112 at 0x7F8C7459A6A0>"
            ]
          },
          "metadata": {
            "tags": []
          }
        },
        {
          "output_type": "stream",
          "text": [
            "[[65, 37], [65, 38], [66, 39], [66, 40], [66, 41], [66, 42], [66, 43], [67, 44], [67, 45], [67, 46], [68, 47], [68, 48], [68, 49], [68, 50], [68, 51], [69, 52], [69, 53], [69, 54], [69, 55], [69, 56], [69, 57], [69, 58], [70, 59], [70, 60], [70, 61], [70, 62], [70, 63], [70, 64], [70, 65], [70, 66], [70, 67], [70, 68], [70, 69], [69, 69], [68, 69], [67, 69], [66, 69], [65, 70], [64, 70], [63, 70], [62, 70], [61, 70], [60, 70], [59, 71], [58, 71], [57, 71], [56, 71], [55, 71], [54, 71], [53, 71], [52, 71], [51, 71], [50, 71], [50, 70]]\n",
            "-12\n"
          ],
          "name": "stdout"
        },
        {
          "output_type": "display_data",
          "data": {
            "image/png": "[encoded data removed]",
            "text/plain": [
              "<PIL.Image.Image image mode=RGB size=112x112 at 0x7F8C7459A668>"
            ]
          },
          "metadata": {
            "tags": []
          }
        },
        {
          "output_type": "stream",
          "text": [
            "[[64, 36], [65, 37], [65, 38], [66, 39], [66, 40], [66, 41], [66, 42], [66, 43], [67, 44], [67, 45], [67, 46], [68, 47], [68, 48], [68, 49], [68, 50], [68, 51], [69, 52], [69, 53], [69, 54], [69, 55], [69, 56], [69, 57], [69, 58], [70, 59], [70, 60], [70, 61], [70, 62], [70, 63], [70, 64], [70, 65], [70, 66], [70, 67], [70, 68], [70, 69], [69, 69], [68, 69], [67, 69], [66, 69], [65, 70], [64, 70], [63, 70], [62, 70], [61, 70], [60, 70], [59, 71], [58, 71], [57, 71], [56, 71], [55, 71], [54, 71], [53, 71], [52, 71], [51, 71], [50, 71]]\n",
            "-11\n"
          ],
          "name": "stdout"
        },
        {
          "output_type": "display_data",
          "data": {
            "image/png": "[encoded data removed]",
            "text/plain": [
              "<PIL.Image.Image image mode=RGB size=112x112 at 0x7F8C7459A5F8>"
            ]
          },
          "metadata": {
            "tags": []
          }
        },
        {
          "output_type": "stream",
          "text": [
            "[[63, 35], [64, 36], [65, 37], [65, 38], [66, 39], [66, 40], [66, 41], [66, 42], [66, 43], [67, 44], [67, 45], [67, 46], [68, 47], [68, 48], [68, 49], [68, 50], [68, 51], [69, 52], [69, 53], [69, 54], [69, 55], [69, 56], [69, 57], [69, 58], [70, 59], [70, 60], [70, 61], [70, 62], [70, 63], [70, 64], [70, 65], [70, 66], [70, 67], [70, 68], [70, 69], [69, 69], [68, 69], [67, 69], [66, 69], [65, 70], [64, 70], [63, 70], [62, 70], [61, 70], [60, 70], [59, 71], [58, 71], [57, 71], [56, 71], [55, 71], [54, 71], [53, 71], [52, 71], [51, 71]]\n",
            "-10\n"
          ],
          "name": "stdout"
        },
        {
          "output_type": "display_data",
          "data": {
            "image/png": "[encoded data removed]",
            "text/plain": [
              "<PIL.Image.Image image mode=RGB size=112x112 at 0x7F8C7459A5F8>"
            ]
          },
          "metadata": {
            "tags": []
          }
        },
        {
          "output_type": "stream",
          "text": [
            "[[62, 34], [63, 35], [64, 36], [65, 37], [65, 38], [66, 39], [66, 40], [66, 41], [66, 42], [66, 43], [67, 44], [67, 45], [67, 46], [68, 47], [68, 48], [68, 49], [68, 50], [68, 51], [69, 52], [69, 53], [69, 54], [69, 55], [69, 56], [69, 57], [69, 58], [70, 59], [70, 60], [70, 61], [70, 62], [70, 63], [70, 64], [70, 65], [70, 66], [70, 67], [70, 68], [70, 69], [69, 69], [68, 69], [67, 69], [66, 69], [65, 70], [64, 70], [63, 70], [62, 70], [61, 70], [60, 70], [59, 71], [58, 71], [57, 71], [56, 71], [55, 71], [54, 71], [53, 71], [52, 71]]\n",
            "-9\n"
          ],
          "name": "stdout"
        },
        {
          "output_type": "display_data",
          "data": {
            "image/png": "[encoded data removed]",
            "text/plain": [
              "<PIL.Image.Image image mode=RGB size=112x112 at 0x7F8C7459A6A0>"
            ]
          },
          "metadata": {
            "tags": []
          }
        },
        {
          "output_type": "stream",
          "text": [
            "[[62, 33], [62, 34], [63, 35], [64, 36], [65, 37], [65, 38], [66, 39], [66, 40], [66, 41], [66, 42], [66, 43], [67, 44], [67, 45], [67, 46], [68, 47], [68, 48], [68, 49], [68, 50], [68, 51], [69, 52], [69, 53], [69, 54], [69, 55], [69, 56], [69, 57], [69, 58], [70, 59], [70, 60], [70, 61], [70, 62], [70, 63], [70, 64], [70, 65], [70, 66], [70, 67], [70, 68], [70, 69], [69, 69], [68, 69], [67, 69], [66, 69], [65, 70], [64, 70], [63, 70], [62, 70], [61, 70], [60, 70], [59, 71], [58, 71], [57, 71], [56, 71], [55, 71], [54, 71], [53, 71]]\n",
            "-8\n"
          ],
          "name": "stdout"
        },
        {
          "output_type": "display_data",
          "data": {
            "image/png": "[encoded data removed]",
            "text/plain": [
              "<PIL.Image.Image image mode=RGB size=112x112 at 0x7F8C7459A5F8>"
            ]
          },
          "metadata": {
            "tags": []
          }
        },
        {
          "output_type": "stream",
          "text": [
            "[[62, 32], [62, 33], [62, 34], [63, 35], [64, 36], [65, 37], [65, 38], [66, 39], [66, 40], [66, 41], [66, 42], [66, 43], [67, 44], [67, 45], [67, 46], [68, 47], [68, 48], [68, 49], [68, 50], [68, 51], [69, 52], [69, 53], [69, 54], [69, 55], [69, 56], [69, 57], [69, 58], [70, 59], [70, 60], [70, 61], [70, 62], [70, 63], [70, 64], [70, 65], [70, 66], [70, 67], [70, 68], [70, 69], [69, 69], [68, 69], [67, 69], [66, 69], [65, 70], [64, 70], [63, 70], [62, 70], [61, 70], [60, 70], [59, 71], [58, 71], [57, 71], [56, 71], [55, 71], [54, 71]]\n",
            "-7\n"
          ],
          "name": "stdout"
        },
        {
          "output_type": "display_data",
          "data": {
            "image/png": "[encoded data removed]",
            "text/plain": [
              "<PIL.Image.Image image mode=RGB size=112x112 at 0x7F8C7459A5F8>"
            ]
          },
          "metadata": {
            "tags": []
          }
        },
        {
          "output_type": "stream",
          "text": [
            "[[61, 31], [62, 32], [62, 33], [62, 34], [63, 35], [64, 36], [65, 37], [65, 38], [66, 39], [66, 40], [66, 41], [66, 42], [66, 43], [67, 44], [67, 45], [67, 46], [68, 47], [68, 48], [68, 49], [68, 50], [68, 51], [69, 52], [69, 53], [69, 54], [69, 55], [69, 56], [69, 57], [69, 58], [70, 59], [70, 60], [70, 61], [70, 62], [70, 63], [70, 64], [70, 65], [70, 66], [70, 67], [70, 68], [70, 69], [69, 69], [68, 69], [67, 69], [66, 69], [65, 70], [64, 70], [63, 70], [62, 70], [61, 70], [60, 70], [59, 71], [58, 71], [57, 71], [56, 71], [55, 71]]\n",
            "-6\n"
          ],
          "name": "stdout"
        },
        {
          "output_type": "display_data",
          "data": {
            "image/png": "[encoded data removed]",
            "text/plain": [
              "<PIL.Image.Image image mode=RGB size=112x112 at 0x7F8C7459A5F8>"
            ]
          },
          "metadata": {
            "tags": []
          }
        },
        {
          "output_type": "stream",
          "text": [
            "[[60, 30], [61, 31], [62, 32], [62, 33], [62, 34], [63, 35], [64, 36], [65, 37], [65, 38], [66, 39], [66, 40], [66, 41], [66, 42], [66, 43], [67, 44], [67, 45], [67, 46], [68, 47], [68, 48], [68, 49], [68, 50], [68, 51], [69, 52], [69, 53], [69, 54], [69, 55], [69, 56], [69, 57], [69, 58], [70, 59], [70, 60], [70, 61], [70, 62], [70, 63], [70, 64], [70, 65], [70, 66], [70, 67], [70, 68], [70, 69], [69, 69], [68, 69], [67, 69], [66, 69], [65, 70], [64, 70], [63, 70], [62, 70], [61, 70], [60, 70], [59, 71], [58, 71], [57, 71], [56, 71]]\n",
            "-5\n"
          ],
          "name": "stdout"
        },
        {
          "output_type": "display_data",
          "data": {
            "image/png": "[encoded data removed]",
            "text/plain": [
              "<PIL.Image.Image image mode=RGB size=112x112 at 0x7F8C7459A5F8>"
            ]
          },
          "metadata": {
            "tags": []
          }
        },
        {
          "output_type": "stream",
          "text": [
            "[[59, 29], [60, 30], [61, 31], [62, 32], [62, 33], [62, 34], [63, 35], [64, 36], [65, 37], [65, 38], [66, 39], [66, 40], [66, 41], [66, 42], [66, 43], [67, 44], [67, 45], [67, 46], [68, 47], [68, 48], [68, 49], [68, 50], [68, 51], [69, 52], [69, 53], [69, 54], [69, 55], [69, 56], [69, 57], [69, 58], [70, 59], [70, 60], [70, 61], [70, 62], [70, 63], [70, 64], [70, 65], [70, 66], [70, 67], [70, 68], [70, 69], [69, 69], [68, 69], [67, 69], [66, 69], [65, 70], [64, 70], [63, 70], [62, 70], [61, 70], [60, 70], [59, 71], [58, 71], [57, 71]]\n",
            "-4\n"
          ],
          "name": "stdout"
        },
        {
          "output_type": "display_data",
          "data": {
            "image/png": "[encoded data removed]",
            "text/plain": [
              "<PIL.Image.Image image mode=RGB size=112x112 at 0x7F8C7459A5F8>"
            ]
          },
          "metadata": {
            "tags": []
          }
        },
        {
          "output_type": "stream",
          "text": [
            "[[58, 28], [59, 29], [60, 30], [61, 31], [62, 32], [62, 33], [62, 34], [63, 35], [64, 36], [65, 37], [65, 38], [66, 39], [66, 40], [66, 41], [66, 42], [66, 43], [67, 44], [67, 45], [67, 46], [68, 47], [68, 48], [68, 49], [68, 50], [68, 51], [69, 52], [69, 53], [69, 54], [69, 55], [69, 56], [69, 57], [69, 58], [70, 59], [70, 60], [70, 61], [70, 62], [70, 63], [70, 64], [70, 65], [70, 66], [70, 67], [70, 68], [70, 69], [69, 69], [68, 69], [67, 69], [66, 69], [65, 70], [64, 70], [63, 70], [62, 70], [61, 70], [60, 70], [59, 71], [58, 71]]\n",
            "-3\n"
          ],
          "name": "stdout"
        },
        {
          "output_type": "display_data",
          "data": {
            "image/png": "[encoded data removed]",
            "text/plain": [
              "<PIL.Image.Image image mode=RGB size=112x112 at 0x7F8C7459A630>"
            ]
          },
          "metadata": {
            "tags": []
          }
        },
        {
          "output_type": "stream",
          "text": [
            "[[57, 28], [58, 28], [59, 29], [60, 30], [61, 31], [62, 32], [62, 33], [62, 34], [63, 35], [64, 36], [65, 37], [65, 38], [66, 39], [66, 40], [66, 41], [66, 42], [66, 43], [67, 44], [67, 45], [67, 46], [68, 47], [68, 48], [68, 49], [68, 50], [68, 51], [69, 52], [69, 53], [69, 54], [69, 55], [69, 56], [69, 57], [69, 58], [70, 59], [70, 60], [70, 61], [70, 62], [70, 63], [70, 64], [70, 65], [70, 66], [70, 67], [70, 68], [70, 69], [69, 69], [68, 69], [67, 69], [66, 69], [65, 70], [64, 70], [63, 70], [62, 70], [61, 70], [60, 70], [59, 71]]\n",
            "-2\n"
          ],
          "name": "stdout"
        },
        {
          "output_type": "display_data",
          "data": {
            "image/png": "[encoded data removed]",
            "text/plain": [
              "<PIL.Image.Image image mode=RGB size=112x112 at 0x7F8C7459A630>"
            ]
          },
          "metadata": {
            "tags": []
          }
        },
        {
          "output_type": "stream",
          "text": [
            "[[56, 27], [57, 28], [58, 28], [59, 29], [60, 30], [61, 31], [62, 32], [62, 33], [62, 34], [63, 35], [64, 36], [65, 37], [65, 38], [66, 39], [66, 40], [66, 41], [66, 42], [66, 43], [67, 44], [67, 45], [67, 46], [68, 47], [68, 48], [68, 49], [68, 50], [68, 51], [69, 52], [69, 53], [69, 54], [69, 55], [69, 56], [69, 57], [69, 58], [70, 59], [70, 60], [70, 61], [70, 62], [70, 63], [70, 64], [70, 65], [70, 66], [70, 67], [70, 68], [70, 69], [69, 69], [68, 69], [67, 69], [66, 69], [65, 70], [64, 70], [63, 70], [62, 70], [61, 70], [60, 70]]\n",
            "-1\n"
          ],
          "name": "stdout"
        },
        {
          "output_type": "display_data",
          "data": {
            "image/png": "[encoded data removed]",
            "text/plain": [
              "<PIL.Image.Image image mode=RGB size=112x112 at 0x7F8C7459A6A0>"
            ]
          },
          "metadata": {
            "tags": []
          }
        },
        {
          "output_type": "stream",
          "text": [
            "[[55, 26], [56, 27], [57, 28], [58, 28], [59, 29], [60, 30], [61, 31], [62, 32], [62, 33], [62, 34], [63, 35], [64, 36], [65, 37], [65, 38], [66, 39], [66, 40], [66, 41], [66, 42], [66, 43], [67, 44], [67, 45], [67, 46], [68, 47], [68, 48], [68, 49], [68, 50], [68, 51], [69, 52], [69, 53], [69, 54], [69, 55], [69, 56], [69, 57], [69, 58], [70, 59], [70, 60], [70, 61], [70, 62], [70, 63], [70, 64], [70, 65], [70, 66], [70, 67], [70, 68], [70, 69], [69, 69], [68, 69], [67, 69], [66, 69], [65, 70], [64, 70], [63, 70], [62, 70], [61, 70]]\n",
            "0\n"
          ],
          "name": "stdout"
        },
        {
          "output_type": "display_data",
          "data": {
            "image/png": "[encoded data removed]",
            "text/plain": [
              "<PIL.Image.Image image mode=RGB size=112x112 at 0x7F8C7459A668>"
            ]
          },
          "metadata": {
            "tags": []
          }
        },
        {
          "output_type": "stream",
          "text": [
            "[[54, 26], [55, 26], [56, 27], [57, 28], [58, 28], [59, 29], [60, 30], [61, 31], [62, 32], [62, 33], [62, 34], [63, 35], [64, 36], [65, 37], [65, 38], [66, 39], [66, 40], [66, 41], [66, 42], [66, 43], [67, 44], [67, 45], [67, 46], [68, 47], [68, 48], [68, 49], [68, 50], [68, 51], [69, 52], [69, 53], [69, 54], [69, 55], [69, 56], [69, 57], [69, 58], [70, 59], [70, 60], [70, 61], [70, 62], [70, 63], [70, 64], [70, 65], [70, 66], [70, 67], [70, 68], [70, 69], [69, 69], [68, 69], [67, 69], [66, 69], [65, 70], [64, 70], [63, 70], [62, 70]]\n",
            "1\n"
          ],
          "name": "stdout"
        },
        {
          "output_type": "display_data",
          "data": {
            "image/png": "[encoded data removed]",
            "text/plain": [
              "<PIL.Image.Image image mode=RGB size=112x112 at 0x7F8C7459A5F8>"
            ]
          },
          "metadata": {
            "tags": []
          }
        },
        {
          "output_type": "stream",
          "text": [
            "[[53, 25], [54, 26], [55, 26], [56, 27], [57, 28], [58, 28], [59, 29], [60, 30], [61, 31], [62, 32], [62, 33], [62, 34], [63, 35], [64, 36], [65, 37], [65, 38], [66, 39], [66, 40], [66, 41], [66, 42], [66, 43], [67, 44], [67, 45], [67, 46], [68, 47], [68, 48], [68, 49], [68, 50], [68, 51], [69, 52], [69, 53], [69, 54], [69, 55], [69, 56], [69, 57], [69, 58], [70, 59], [70, 60], [70, 61], [70, 62], [70, 63], [70, 64], [70, 65], [70, 66], [70, 67], [70, 68], [70, 69], [69, 69], [68, 69], [67, 69], [66, 69], [65, 70], [64, 70], [63, 70]]\n",
            "2\n"
          ],
          "name": "stdout"
        },
        {
          "output_type": "display_data",
          "data": {
            "image/png": "[encoded data removed]",
            "text/plain": [
              "<PIL.Image.Image image mode=RGB size=112x112 at 0x7F8C7459A630>"
            ]
          },
          "metadata": {
            "tags": []
          }
        },
        {
          "output_type": "stream",
          "text": [
            "[[52, 24], [53, 25], [54, 26], [55, 26], [56, 27], [57, 28], [58, 28], [59, 29], [60, 30], [61, 31], [62, 32], [62, 33], [62, 34], [63, 35], [64, 36], [65, 37], [65, 38], [66, 39], [66, 40], [66, 41], [66, 42], [66, 43], [67, 44], [67, 45], [67, 46], [68, 47], [68, 48], [68, 49], [68, 50], [68, 51], [69, 52], [69, 53], [69, 54], [69, 55], [69, 56], [69, 57], [69, 58], [70, 59], [70, 60], [70, 61], [70, 62], [70, 63], [70, 64], [70, 65], [70, 66], [70, 67], [70, 68], [70, 69], [69, 69], [68, 69], [67, 69], [66, 69], [65, 70], [64, 70]]\n",
            "3\n"
          ],
          "name": "stdout"
        },
        {
          "output_type": "display_data",
          "data": {
            "image/png": "[encoded data removed]",
            "text/plain": [
              "<PIL.Image.Image image mode=RGB size=112x112 at 0x7F8C7459A630>"
            ]
          },
          "metadata": {
            "tags": []
          }
        },
        {
          "output_type": "stream",
          "text": [
            "[[51, 24], [52, 24], [53, 25], [54, 26], [55, 26], [56, 27], [57, 28], [58, 28], [59, 29], [60, 30], [61, 31], [62, 32], [62, 33], [62, 34], [63, 35], [64, 36], [65, 37], [65, 38], [66, 39], [66, 40], [66, 41], [66, 42], [66, 43], [67, 44], [67, 45], [67, 46], [68, 47], [68, 48], [68, 49], [68, 50], [68, 51], [69, 52], [69, 53], [69, 54], [69, 55], [69, 56], [69, 57], [69, 58], [70, 59], [70, 60], [70, 61], [70, 62], [70, 63], [70, 64], [70, 65], [70, 66], [70, 67], [70, 68], [70, 69], [69, 69], [68, 69], [67, 69], [66, 69], [65, 70]]\n",
            "4\n"
          ],
          "name": "stdout"
        },
        {
          "output_type": "display_data",
          "data": {
            "image/png": "[encoded data removed]",
            "text/plain": [
              "<PIL.Image.Image image mode=RGB size=112x112 at 0x7F8C7459A6A0>"
            ]
          },
          "metadata": {
            "tags": []
          }
        },
        {
          "output_type": "stream",
          "text": [
            "[[51, 25], [51, 24], [52, 24], [53, 25], [54, 26], [55, 26], [56, 27], [57, 28], [58, 28], [59, 29], [60, 30], [61, 31], [62, 32], [62, 33], [62, 34], [63, 35], [64, 36], [65, 37], [65, 38], [66, 39], [66, 40], [66, 41], [66, 42], [66, 43], [67, 44], [67, 45], [67, 46], [68, 47], [68, 48], [68, 49], [68, 50], [68, 51], [69, 52], [69, 53], [69, 54], [69, 55], [69, 56], [69, 57], [69, 58], [70, 59], [70, 60], [70, 61], [70, 62], [70, 63], [70, 64], [70, 65], [70, 66], [70, 67], [70, 68], [70, 69], [69, 69], [68, 69], [67, 69], [66, 69]]\n",
            "5\n"
          ],
          "name": "stdout"
        },
        {
          "output_type": "display_data",
          "data": {
            "image/png": "[encoded data removed]",
            "text/plain": [
              "<PIL.Image.Image image mode=RGB size=112x112 at 0x7F8C7459A668>"
            ]
          },
          "metadata": {
            "tags": []
          }
        },
        {
          "output_type": "stream",
          "text": [
            "[[51, 26], [51, 25], [51, 24], [52, 24], [53, 25], [54, 26], [55, 26], [56, 27], [57, 28], [58, 28], [59, 29], [60, 30], [61, 31], [62, 32], [62, 33], [62, 34], [63, 35], [64, 36], [65, 37], [65, 38], [66, 39], [66, 40], [66, 41], [66, 42], [66, 43], [67, 44], [67, 45], [67, 46], [68, 47], [68, 48], [68, 49], [68, 50], [68, 51], [69, 52], [69, 53], [69, 54], [69, 55], [69, 56], [69, 57], [69, 58], [70, 59], [70, 60], [70, 61], [70, 62], [70, 63], [70, 64], [70, 65], [70, 66], [70, 67], [70, 68], [70, 69], [69, 69], [68, 69], [67, 69]]\n",
            "6\n"
          ],
          "name": "stdout"
        },
        {
          "output_type": "display_data",
          "data": {
            "image/png": "[encoded data removed]",
            "text/plain": [
              "<PIL.Image.Image image mode=RGB size=112x112 at 0x7F8C7459A5F8>"
            ]
          },
          "metadata": {
            "tags": []
          }
        },
        {
          "output_type": "stream",
          "text": [
            "[[51, 27], [51, 26], [51, 25], [51, 24], [52, 24], [53, 25], [54, 26], [55, 26], [56, 27], [57, 28], [58, 28], [59, 29], [60, 30], [61, 31], [62, 32], [62, 33], [62, 34], [63, 35], [64, 36], [65, 37], [65, 38], [66, 39], [66, 40], [66, 41], [66, 42], [66, 43], [67, 44], [67, 45], [67, 46], [68, 47], [68, 48], [68, 49], [68, 50], [68, 51], [69, 52], [69, 53], [69, 54], [69, 55], [69, 56], [69, 57], [69, 58], [70, 59], [70, 60], [70, 61], [70, 62], [70, 63], [70, 64], [70, 65], [70, 66], [70, 67], [70, 68], [70, 69], [69, 69], [68, 69]]\n",
            "7\n"
          ],
          "name": "stdout"
        },
        {
          "output_type": "display_data",
          "data": {
            "image/png": "[encoded data removed]",
            "text/plain": [
              "<PIL.Image.Image image mode=RGB size=112x112 at 0x7F8C7459A5F8>"
            ]
          },
          "metadata": {
            "tags": []
          }
        },
        {
          "output_type": "stream",
          "text": [
            "[[51, 28], [51, 27], [51, 26], [51, 25], [51, 24], [52, 24], [53, 25], [54, 26], [55, 26], [56, 27], [57, 28], [58, 28], [59, 29], [60, 30], [61, 31], [62, 32], [62, 33], [62, 34], [63, 35], [64, 36], [65, 37], [65, 38], [66, 39], [66, 40], [66, 41], [66, 42], [66, 43], [67, 44], [67, 45], [67, 46], [68, 47], [68, 48], [68, 49], [68, 50], [68, 51], [69, 52], [69, 53], [69, 54], [69, 55], [69, 56], [69, 57], [69, 58], [70, 59], [70, 60], [70, 61], [70, 62], [70, 63], [70, 64], [70, 65], [70, 66], [70, 67], [70, 68], [70, 69], [69, 69]]\n",
            "8\n"
          ],
          "name": "stdout"
        },
        {
          "output_type": "display_data",
          "data": {
            "image/png": "[encoded data removed]",
            "text/plain": [
              "<PIL.Image.Image image mode=RGB size=112x112 at 0x7F8C7459A630>"
            ]
          },
          "metadata": {
            "tags": []
          }
        },
        {
          "output_type": "stream",
          "text": [
            "[[51, 29], [51, 28], [51, 27], [51, 26], [51, 25], [51, 24], [52, 24], [53, 25], [54, 26], [55, 26], [56, 27], [57, 28], [58, 28], [59, 29], [60, 30], [61, 31], [62, 32], [62, 33], [62, 34], [63, 35], [64, 36], [65, 37], [65, 38], [66, 39], [66, 40], [66, 41], [66, 42], [66, 43], [67, 44], [67, 45], [67, 46], [68, 47], [68, 48], [68, 49], [68, 50], [68, 51], [69, 52], [69, 53], [69, 54], [69, 55], [69, 56], [69, 57], [69, 58], [70, 59], [70, 60], [70, 61], [70, 62], [70, 63], [70, 64], [70, 65], [70, 66], [70, 67], [70, 68], [70, 69]]\n",
            "9\n"
          ],
          "name": "stdout"
        },
        {
          "output_type": "display_data",
          "data": {
            "image/png": "[encoded data removed]",
            "text/plain": [
              "<PIL.Image.Image image mode=RGB size=112x112 at 0x7F8C7459A630>"
            ]
          },
          "metadata": {
            "tags": []
          }
        },
        {
          "output_type": "stream",
          "text": [
            "[[52, 30], [51, 29], [51, 28], [51, 27], [51, 26], [51, 25], [51, 24], [52, 24], [53, 25], [54, 26], [55, 26], [56, 27], [57, 28], [58, 28], [59, 29], [60, 30], [61, 31], [62, 32], [62, 33], [62, 34], [63, 35], [64, 36], [65, 37], [65, 38], [66, 39], [66, 40], [66, 41], [66, 42], [66, 43], [67, 44], [67, 45], [67, 46], [68, 47], [68, 48], [68, 49], [68, 50], [68, 51], [69, 52], [69, 53], [69, 54], [69, 55], [69, 56], [69, 57], [69, 58], [70, 59], [70, 60], [70, 61], [70, 62], [70, 63], [70, 64], [70, 65], [70, 66], [70, 67], [70, 68]]\n",
            "10\n"
          ],
          "name": "stdout"
        },
        {
          "output_type": "display_data",
          "data": {
            "image/png": "[encoded data removed]",
            "text/plain": [
              "<PIL.Image.Image image mode=RGB size=112x112 at 0x7F8C7459A630>"
            ]
          },
          "metadata": {
            "tags": []
          }
        },
        {
          "output_type": "stream",
          "text": [
            "[[52, 31], [52, 30], [51, 29], [51, 28], [51, 27], [51, 26], [51, 25], [51, 24], [52, 24], [53, 25], [54, 26], [55, 26], [56, 27], [57, 28], [58, 28], [59, 29], [60, 30], [61, 31], [62, 32], [62, 33], [62, 34], [63, 35], [64, 36], [65, 37], [65, 38], [66, 39], [66, 40], [66, 41], [66, 42], [66, 43], [67, 44], [67, 45], [67, 46], [68, 47], [68, 48], [68, 49], [68, 50], [68, 51], [69, 52], [69, 53], [69, 54], [69, 55], [69, 56], [69, 57], [69, 58], [70, 59], [70, 60], [70, 61], [70, 62], [70, 63], [70, 64], [70, 65], [70, 66], [70, 67]]\n",
            "11\n"
          ],
          "name": "stdout"
        },
        {
          "output_type": "display_data",
          "data": {
            "image/png": "[encoded data removed]",
            "text/plain": [
              "<PIL.Image.Image image mode=RGB size=112x112 at 0x7F8C7459A668>"
            ]
          },
          "metadata": {
            "tags": []
          }
        },
        {
          "output_type": "stream",
          "text": [
            "[[52, 32], [52, 31], [52, 30], [51, 29], [51, 28], [51, 27], [51, 26], [51, 25], [51, 24], [52, 24], [53, 25], [54, 26], [55, 26], [56, 27], [57, 28], [58, 28], [59, 29], [60, 30], [61, 31], [62, 32], [62, 33], [62, 34], [63, 35], [64, 36], [65, 37], [65, 38], [66, 39], [66, 40], [66, 41], [66, 42], [66, 43], [67, 44], [67, 45], [67, 46], [68, 47], [68, 48], [68, 49], [68, 50], [68, 51], [69, 52], [69, 53], [69, 54], [69, 55], [69, 56], [69, 57], [69, 58], [70, 59], [70, 60], [70, 61], [70, 62], [70, 63], [70, 64], [70, 65], [70, 66]]\n",
            "12\n"
          ],
          "name": "stdout"
        },
        {
          "output_type": "display_data",
          "data": {
            "image/png": "[encoded data removed]",
            "text/plain": [
              "<PIL.Image.Image image mode=RGB size=112x112 at 0x7F8C7459A668>"
            ]
          },
          "metadata": {
            "tags": []
          }
        },
        {
          "output_type": "stream",
          "text": [
            "[[52, 33], [52, 32], [52, 31], [52, 30], [51, 29], [51, 28], [51, 27], [51, 26], [51, 25], [51, 24], [52, 24], [53, 25], [54, 26], [55, 26], [56, 27], [57, 28], [58, 28], [59, 29], [60, 30], [61, 31], [62, 32], [62, 33], [62, 34], [63, 35], [64, 36], [65, 37], [65, 38], [66, 39], [66, 40], [66, 41], [66, 42], [66, 43], [67, 44], [67, 45], [67, 46], [68, 47], [68, 48], [68, 49], [68, 50], [68, 51], [69, 52], [69, 53], [69, 54], [69, 55], [69, 56], [69, 57], [69, 58], [70, 59], [70, 60], [70, 61], [70, 62], [70, 63], [70, 64], [70, 65]]\n",
            "13\n"
          ],
          "name": "stdout"
        },
        {
          "output_type": "display_data",
          "data": {
            "image/png": "[encoded data removed]",
            "text/plain": [
              "<PIL.Image.Image image mode=RGB size=112x112 at 0x7F8C745B35C0>"
            ]
          },
          "metadata": {
            "tags": []
          }
        },
        {
          "output_type": "stream",
          "text": [
            "[[52, 34], [52, 33], [52, 32], [52, 31], [52, 30], [51, 29], [51, 28], [51, 27], [51, 26], [51, 25], [51, 24], [52, 24], [53, 25], [54, 26], [55, 26], [56, 27], [57, 28], [58, 28], [59, 29], [60, 30], [61, 31], [62, 32], [62, 33], [62, 34], [63, 35], [64, 36], [65, 37], [65, 38], [66, 39], [66, 40], [66, 41], [66, 42], [66, 43], [67, 44], [67, 45], [67, 46], [68, 47], [68, 48], [68, 49], [68, 50], [68, 51], [69, 52], [69, 53], [69, 54], [69, 55], [69, 56], [69, 57], [69, 58], [70, 59], [70, 60], [70, 61], [70, 62], [70, 63], [70, 64]]\n",
            "14\n"
          ],
          "name": "stdout"
        },
        {
          "output_type": "display_data",
          "data": {
            "image/png": "[encoded data removed]",
            "text/plain": [
              "<PIL.Image.Image image mode=RGB size=112x112 at 0x7F8C7459A5F8>"
            ]
          },
          "metadata": {
            "tags": []
          }
        },
        {
          "output_type": "stream",
          "text": [
            "[[52, 35], [52, 34], [52, 33], [52, 32], [52, 31], [52, 30], [51, 29], [51, 28], [51, 27], [51, 26], [51, 25], [51, 24], [52, 24], [53, 25], [54, 26], [55, 26], [56, 27], [57, 28], [58, 28], [59, 29], [60, 30], [61, 31], [62, 32], [62, 33], [62, 34], [63, 35], [64, 36], [65, 37], [65, 38], [66, 39], [66, 40], [66, 41], [66, 42], [66, 43], [67, 44], [67, 45], [67, 46], [68, 47], [68, 48], [68, 49], [68, 50], [68, 51], [69, 52], [69, 53], [69, 54], [69, 55], [69, 56], [69, 57], [69, 58], [70, 59], [70, 60], [70, 61], [70, 62], [70, 63]]\n",
            "15\n"
          ],
          "name": "stdout"
        },
        {
          "output_type": "display_data",
          "data": {
            "image/png": "[encoded data removed]",
            "text/plain": [
              "<PIL.Image.Image image mode=RGB size=112x112 at 0x7F8C7459A668>"
            ]
          },
          "metadata": {
            "tags": []
          }
        },
        {
          "output_type": "stream",
          "text": [
            "[[52, 36], [52, 35], [52, 34], [52, 33], [52, 32], [52, 31], [52, 30], [51, 29], [51, 28], [51, 27], [51, 26], [51, 25], [51, 24], [52, 24], [53, 25], [54, 26], [55, 26], [56, 27], [57, 28], [58, 28], [59, 29], [60, 30], [61, 31], [62, 32], [62, 33], [62, 34], [63, 35], [64, 36], [65, 37], [65, 38], [66, 39], [66, 40], [66, 41], [66, 42], [66, 43], [67, 44], [67, 45], [67, 46], [68, 47], [68, 48], [68, 49], [68, 50], [68, 51], [69, 52], [69, 53], [69, 54], [69, 55], [69, 56], [69, 57], [69, 58], [70, 59], [70, 60], [70, 61], [70, 62]]\n",
            "16\n"
          ],
          "name": "stdout"
        },
        {
          "output_type": "display_data",
          "data": {
            "image/png": "[encoded data removed]",
            "text/plain": [
              "<PIL.Image.Image image mode=RGB size=112x112 at 0x7F8C7459A630>"
            ]
          },
          "metadata": {
            "tags": []
          }
        },
        {
          "output_type": "stream",
          "text": [
            "[[52, 37], [52, 36], [52, 35], [52, 34], [52, 33], [52, 32], [52, 31], [52, 30], [51, 29], [51, 28], [51, 27], [51, 26], [51, 25], [51, 24], [52, 24], [53, 25], [54, 26], [55, 26], [56, 27], [57, 28], [58, 28], [59, 29], [60, 30], [61, 31], [62, 32], [62, 33], [62, 34], [63, 35], [64, 36], [65, 37], [65, 38], [66, 39], [66, 40], [66, 41], [66, 42], [66, 43], [67, 44], [67, 45], [67, 46], [68, 47], [68, 48], [68, 49], [68, 50], [68, 51], [69, 52], [69, 53], [69, 54], [69, 55], [69, 56], [69, 57], [69, 58], [70, 59], [70, 60], [70, 61]]\n",
            "17\n"
          ],
          "name": "stdout"
        },
        {
          "output_type": "display_data",
          "data": {
            "image/png": "[encoded data removed]",
            "text/plain": [
              "<PIL.Image.Image image mode=RGB size=112x112 at 0x7F8C7459A6A0>"
            ]
          },
          "metadata": {
            "tags": []
          }
        },
        {
          "output_type": "stream",
          "text": [
            "[[52, 38], [52, 37], [52, 36], [52, 35], [52, 34], [52, 33], [52, 32], [52, 31], [52, 30], [51, 29], [51, 28], [51, 27], [51, 26], [51, 25], [51, 24], [52, 24], [53, 25], [54, 26], [55, 26], [56, 27], [57, 28], [58, 28], [59, 29], [60, 30], [61, 31], [62, 32], [62, 33], [62, 34], [63, 35], [64, 36], [65, 37], [65, 38], [66, 39], [66, 40], [66, 41], [66, 42], [66, 43], [67, 44], [67, 45], [67, 46], [68, 47], [68, 48], [68, 49], [68, 50], [68, 51], [69, 52], [69, 53], [69, 54], [69, 55], [69, 56], [69, 57], [69, 58], [70, 59], [70, 60]]\n",
            "18\n"
          ],
          "name": "stdout"
        },
        {
          "output_type": "display_data",
          "data": {
            "image/png": "[encoded data removed]",
            "text/plain": [
              "<PIL.Image.Image image mode=RGB size=112x112 at 0x7F8C7459A5F8>"
            ]
          },
          "metadata": {
            "tags": []
          }
        },
        {
          "output_type": "stream",
          "text": [
            "[[52, 39], [52, 38], [52, 37], [52, 36], [52, 35], [52, 34], [52, 33], [52, 32], [52, 31], [52, 30], [51, 29], [51, 28], [51, 27], [51, 26], [51, 25], [51, 24], [52, 24], [53, 25], [54, 26], [55, 26], [56, 27], [57, 28], [58, 28], [59, 29], [60, 30], [61, 31], [62, 32], [62, 33], [62, 34], [63, 35], [64, 36], [65, 37], [65, 38], [66, 39], [66, 40], [66, 41], [66, 42], [66, 43], [67, 44], [67, 45], [67, 46], [68, 47], [68, 48], [68, 49], [68, 50], [68, 51], [69, 52], [69, 53], [69, 54], [69, 55], [69, 56], [69, 57], [69, 58], [70, 59]]\n",
            "19\n"
          ],
          "name": "stdout"
        },
        {
          "output_type": "display_data",
          "data": {
            "image/png": "[encoded data removed]",
            "text/plain": [
              "<PIL.Image.Image image mode=RGB size=112x112 at 0x7F8C7459A668>"
            ]
          },
          "metadata": {
            "tags": []
          }
        },
        {
          "output_type": "stream",
          "text": [
            "[[52, 40], [52, 39], [52, 38], [52, 37], [52, 36], [52, 35], [52, 34], [52, 33], [52, 32], [52, 31], [52, 30], [51, 29], [51, 28], [51, 27], [51, 26], [51, 25], [51, 24], [52, 24], [53, 25], [54, 26], [55, 26], [56, 27], [57, 28], [58, 28], [59, 29], [60, 30], [61, 31], [62, 32], [62, 33], [62, 34], [63, 35], [64, 36], [65, 37], [65, 38], [66, 39], [66, 40], [66, 41], [66, 42], [66, 43], [67, 44], [67, 45], [67, 46], [68, 47], [68, 48], [68, 49], [68, 50], [68, 51], [69, 52], [69, 53], [69, 54], [69, 55], [69, 56], [69, 57], [69, 58]]\n",
            "20\n"
          ],
          "name": "stdout"
        },
        {
          "output_type": "display_data",
          "data": {
            "image/png": "[encoded data removed]",
            "text/plain": [
              "<PIL.Image.Image image mode=RGB size=112x112 at 0x7F8C7459A668>"
            ]
          },
          "metadata": {
            "tags": []
          }
        },
        {
          "output_type": "stream",
          "text": [
            "[[52, 41], [52, 40], [52, 39], [52, 38], [52, 37], [52, 36], [52, 35], [52, 34], [52, 33], [52, 32], [52, 31], [52, 30], [51, 29], [51, 28], [51, 27], [51, 26], [51, 25], [51, 24], [52, 24], [53, 25], [54, 26], [55, 26], [56, 27], [57, 28], [58, 28], [59, 29], [60, 30], [61, 31], [62, 32], [62, 33], [62, 34], [63, 35], [64, 36], [65, 37], [65, 38], [66, 39], [66, 40], [66, 41], [66, 42], [66, 43], [67, 44], [67, 45], [67, 46], [68, 47], [68, 48], [68, 49], [68, 50], [68, 51], [69, 52], [69, 53], [69, 54], [69, 55], [69, 56], [69, 57]]\n",
            "21\n"
          ],
          "name": "stdout"
        },
        {
          "output_type": "display_data",
          "data": {
            "image/png": "[encoded data removed]",
            "text/plain": [
              "<PIL.Image.Image image mode=RGB size=112x112 at 0x7F8C7459A6A0>"
            ]
          },
          "metadata": {
            "tags": []
          }
        },
        {
          "output_type": "stream",
          "text": [
            "[[52, 42], [52, 41], [52, 40], [52, 39], [52, 38], [52, 37], [52, 36], [52, 35], [52, 34], [52, 33], [52, 32], [52, 31], [52, 30], [51, 29], [51, 28], [51, 27], [51, 26], [51, 25], [51, 24], [52, 24], [53, 25], [54, 26], [55, 26], [56, 27], [57, 28], [58, 28], [59, 29], [60, 30], [61, 31], [62, 32], [62, 33], [62, 34], [63, 35], [64, 36], [65, 37], [65, 38], [66, 39], [66, 40], [66, 41], [66, 42], [66, 43], [67, 44], [67, 45], [67, 46], [68, 47], [68, 48], [68, 49], [68, 50], [68, 51], [69, 52], [69, 53], [69, 54], [69, 55], [69, 56]]\n",
            "22\n"
          ],
          "name": "stdout"
        },
        {
          "output_type": "display_data",
          "data": {
            "image/png": "[encoded data removed]",
            "text/plain": [
              "<PIL.Image.Image image mode=RGB size=112x112 at 0x7F8C7459A5F8>"
            ]
          },
          "metadata": {
            "tags": []
          }
        },
        {
          "output_type": "stream",
          "text": [
            "[[52, 43], [52, 42], [52, 41], [52, 40], [52, 39], [52, 38], [52, 37], [52, 36], [52, 35], [52, 34], [52, 33], [52, 32], [52, 31], [52, 30], [51, 29], [51, 28], [51, 27], [51, 26], [51, 25], [51, 24], [52, 24], [53, 25], [54, 26], [55, 26], [56, 27], [57, 28], [58, 28], [59, 29], [60, 30], [61, 31], [62, 32], [62, 33], [62, 34], [63, 35], [64, 36], [65, 37], [65, 38], [66, 39], [66, 40], [66, 41], [66, 42], [66, 43], [67, 44], [67, 45], [67, 46], [68, 47], [68, 48], [68, 49], [68, 50], [68, 51], [69, 52], [69, 53], [69, 54], [69, 55]]\n",
            "23\n"
          ],
          "name": "stdout"
        },
        {
          "output_type": "display_data",
          "data": {
            "image/png": "[encoded data removed]",
            "text/plain": [
              "<PIL.Image.Image image mode=RGB size=112x112 at 0x7F8C7459A5F8>"
            ]
          },
          "metadata": {
            "tags": []
          }
        },
        {
          "output_type": "stream",
          "text": [
            "[[52, 44], [52, 43], [52, 42], [52, 41], [52, 40], [52, 39], [52, 38], [52, 37], [52, 36], [52, 35], [52, 34], [52, 33], [52, 32], [52, 31], [52, 30], [51, 29], [51, 28], [51, 27], [51, 26], [51, 25], [51, 24], [52, 24], [53, 25], [54, 26], [55, 26], [56, 27], [57, 28], [58, 28], [59, 29], [60, 30], [61, 31], [62, 32], [62, 33], [62, 34], [63, 35], [64, 36], [65, 37], [65, 38], [66, 39], [66, 40], [66, 41], [66, 42], [66, 43], [67, 44], [67, 45], [67, 46], [68, 47], [68, 48], [68, 49], [68, 50], [68, 51], [69, 52], [69, 53], [69, 54]]\n",
            "24\n"
          ],
          "name": "stdout"
        },
        {
          "output_type": "display_data",
          "data": {
            "image/png": "[encoded data removed]",
            "text/plain": [
              "<PIL.Image.Image image mode=RGB size=112x112 at 0x7F8C7459A5F8>"
            ]
          },
          "metadata": {
            "tags": []
          }
        },
        {
          "output_type": "stream",
          "text": [
            "[[52, 45], [52, 44], [52, 43], [52, 42], [52, 41], [52, 40], [52, 39], [52, 38], [52, 37], [52, 36], [52, 35], [52, 34], [52, 33], [52, 32], [52, 31], [52, 30], [51, 29], [51, 28], [51, 27], [51, 26], [51, 25], [51, 24], [52, 24], [53, 25], [54, 26], [55, 26], [56, 27], [57, 28], [58, 28], [59, 29], [60, 30], [61, 31], [62, 32], [62, 33], [62, 34], [63, 35], [64, 36], [65, 37], [65, 38], [66, 39], [66, 40], [66, 41], [66, 42], [66, 43], [67, 44], [67, 45], [67, 46], [68, 47], [68, 48], [68, 49], [68, 50], [68, 51], [69, 52], [69, 53]]\n",
            "25\n"
          ],
          "name": "stdout"
        },
        {
          "output_type": "display_data",
          "data": {
            "image/png": "[encoded data removed]",
            "text/plain": [
              "<PIL.Image.Image image mode=RGB size=112x112 at 0x7F8C7459A668>"
            ]
          },
          "metadata": {
            "tags": []
          }
        },
        {
          "output_type": "stream",
          "text": [
            "[[52, 46], [52, 45], [52, 44], [52, 43], [52, 42], [52, 41], [52, 40], [52, 39], [52, 38], [52, 37], [52, 36], [52, 35], [52, 34], [52, 33], [52, 32], [52, 31], [52, 30], [51, 29], [51, 28], [51, 27], [51, 26], [51, 25], [51, 24], [52, 24], [53, 25], [54, 26], [55, 26], [56, 27], [57, 28], [58, 28], [59, 29], [60, 30], [61, 31], [62, 32], [62, 33], [62, 34], [63, 35], [64, 36], [65, 37], [65, 38], [66, 39], [66, 40], [66, 41], [66, 42], [66, 43], [67, 44], [67, 45], [67, 46], [68, 47], [68, 48], [68, 49], [68, 50], [68, 51], [69, 52]]\n",
            "26\n"
          ],
          "name": "stdout"
        },
        {
          "output_type": "display_data",
          "data": {
            "image/png": "[encoded data removed]",
            "text/plain": [
              "<PIL.Image.Image image mode=RGB size=112x112 at 0x7F8C7459A550>"
            ]
          },
          "metadata": {
            "tags": []
          }
        },
        {
          "output_type": "stream",
          "text": [
            "[[52, 47], [52, 46], [52, 45], [52, 44], [52, 43], [52, 42], [52, 41], [52, 40], [52, 39], [52, 38], [52, 37], [52, 36], [52, 35], [52, 34], [52, 33], [52, 32], [52, 31], [52, 30], [51, 29], [51, 28], [51, 27], [51, 26], [51, 25], [51, 24], [52, 24], [53, 25], [54, 26], [55, 26], [56, 27], [57, 28], [58, 28], [59, 29], [60, 30], [61, 31], [62, 32], [62, 33], [62, 34], [63, 35], [64, 36], [65, 37], [65, 38], [66, 39], [66, 40], [66, 41], [66, 42], [66, 43], [67, 44], [67, 45], [67, 46], [68, 47], [68, 48], [68, 49], [68, 50], [68, 51]]\n",
            "27\n"
          ],
          "name": "stdout"
        },
        {
          "output_type": "display_data",
          "data": {
            "image/png": "[encoded data removed]",
            "text/plain": [
              "<PIL.Image.Image image mode=RGB size=112x112 at 0x7F8C7459A6A0>"
            ]
          },
          "metadata": {
            "tags": []
          }
        },
        {
          "output_type": "stream",
          "text": [
            "[[52, 48], [52, 47], [52, 46], [52, 45], [52, 44], [52, 43], [52, 42], [52, 41], [52, 40], [52, 39], [52, 38], [52, 37], [52, 36], [52, 35], [52, 34], [52, 33], [52, 32], [52, 31], [52, 30], [51, 29], [51, 28], [51, 27], [51, 26], [51, 25], [51, 24], [52, 24], [53, 25], [54, 26], [55, 26], [56, 27], [57, 28], [58, 28], [59, 29], [60, 30], [61, 31], [62, 32], [62, 33], [62, 34], [63, 35], [64, 36], [65, 37], [65, 38], [66, 39], [66, 40], [66, 41], [66, 42], [66, 43], [67, 44], [67, 45], [67, 46], [68, 47], [68, 48], [68, 49], [68, 50]]\n",
            "28\n"
          ],
          "name": "stdout"
        },
        {
          "output_type": "display_data",
          "data": {
            "image/png": "[encoded data removed]",
            "text/plain": [
              "<PIL.Image.Image image mode=RGB size=112x112 at 0x7F8C7459A5F8>"
            ]
          },
          "metadata": {
            "tags": []
          }
        },
        {
          "output_type": "stream",
          "text": [
            "[[52, 49], [52, 48], [52, 47], [52, 46], [52, 45], [52, 44], [52, 43], [52, 42], [52, 41], [52, 40], [52, 39], [52, 38], [52, 37], [52, 36], [52, 35], [52, 34], [52, 33], [52, 32], [52, 31], [52, 30], [51, 29], [51, 28], [51, 27], [51, 26], [51, 25], [51, 24], [52, 24], [53, 25], [54, 26], [55, 26], [56, 27], [57, 28], [58, 28], [59, 29], [60, 30], [61, 31], [62, 32], [62, 33], [62, 34], [63, 35], [64, 36], [65, 37], [65, 38], [66, 39], [66, 40], [66, 41], [66, 42], [66, 43], [67, 44], [67, 45], [67, 46], [68, 47], [68, 48], [68, 49]]\n",
            "29\n"
          ],
          "name": "stdout"
        },
        {
          "output_type": "display_data",
          "data": {
            "image/png": "[encoded data removed]",
            "text/plain": [
              "<PIL.Image.Image image mode=RGB size=112x112 at 0x7F8C7459A668>"
            ]
          },
          "metadata": {
            "tags": []
          }
        },
        {
          "output_type": "stream",
          "text": [
            "[[52, 50], [52, 49], [52, 48], [52, 47], [52, 46], [52, 45], [52, 44], [52, 43], [52, 42], [52, 41], [52, 40], [52, 39], [52, 38], [52, 37], [52, 36], [52, 35], [52, 34], [52, 33], [52, 32], [52, 31], [52, 30], [51, 29], [51, 28], [51, 27], [51, 26], [51, 25], [51, 24], [52, 24], [53, 25], [54, 26], [55, 26], [56, 27], [57, 28], [58, 28], [59, 29], [60, 30], [61, 31], [62, 32], [62, 33], [62, 34], [63, 35], [64, 36], [65, 37], [65, 38], [66, 39], [66, 40], [66, 41], [66, 42], [66, 43], [67, 44], [67, 45], [67, 46], [68, 47], [68, 48]]\n",
            "30\n"
          ],
          "name": "stdout"
        },
        {
          "output_type": "display_data",
          "data": {
            "image/png": "[encoded data removed]",
            "text/plain": [
              "<PIL.Image.Image image mode=RGB size=112x112 at 0x7F8C7459A668>"
            ]
          },
          "metadata": {
            "tags": []
          }
        },
        {
          "output_type": "stream",
          "text": [
            "({-30: 15202.246440753535, -29: 18379.663420351822, -28: 18777.93076443639, -27: 18011.578561685994, -26: 16876.814128205224, -25: 15232.006519853543, -24: 14068.393843858668, -23: 12527.04469563349, -22: 10919.881459508115, -21: 10176.212182818708, -20: 9642.325370928844, -19: 8532.964036489957, -18: 8505.770044104529, -17: 8405.928153500523, -16: 8474.225223759122, -15: 8589.154498278886, -14: 8452.30543483317, -13: 8440.743831015981, -12: 8347.330777382776, -11: 8160.9447934211385, -10: 8462.711484970061, -9: 8408.95615622406, -8: 8319.943651388663, -7: 8135.843029097502, -6: 8459.087932914354, -5: 8453.51760796301, -4: 8467.833916989039, -3: 8810.472333462949, -2: 8773.24746917118, -1: 8595.610769053961, 0: 8656.381616947348, 1: 8839.078667007063, 2: 8993.093744833406, 3: 9071.187664735147, 4: 9013.751681726708, 5: 8933.475592442772, 6: 9157.635856000916, 7: 9088.408165748908, 8: 9180.172170584392, 9: 9124.668754897015, 10: 9023.874097139651, 11: 9043.728219621566, 12: 9048.106483504494, 13: 8859.152645956037, 14: 8836.192005373068, 15: 8854.613262869785, 16: 8812.68716637802, 17: 8737.371446620939, 18: 8807.141014426974, 19: 8908.508254535565, 20: 8675.046285535505, 21: 8894.624825921444, 22: 9547.88906134789, 23: 10118.915806333222, 24: 10801.096848029441, 25: 12054.123217322693, 26: 13292.33827868332, 27: 14563.737907371455, 28: 15891.502364767706, 29: 17262.110718129676, 30: 18077.88427254632}, {-30: [69, 50, 69, 52, 53, 54, 55, 55, 56, 57, 58, 59, 60, 61, 62, 63, 63, 64, 65, 66, 67], -29: [69, 52, 53, 54, 55, 56, 57, 58, 58, 59, 60, 61, 62, 63, 64, 64, 65, 66, 67, 68, 69], -28: [69, 54, 69, 56, 57, 58, 59, 59, 60, 61, 62, 63, 64, 65, 65, 66, 67, 68, 69, 70, 70], -27: [68, 56, 69, 58, 59, 60, 60, 61, 62, 63, 64, 64, 65, 66, 67, 68, 68, 69, 70, 70, 70], -26: [68, 58, 68, 60, 60, 61, 62, 63, 64, 65, 66, 66, 67, 68, 69, 70, 70, 70, 70, 70, 69], -25: [68, 59, 68, 61, 62, 63, 64, 65, 66, 66, 67, 68, 69, 70, 70, 70, 70, 70, 70, 69, 69], -24: [68, 59, 68, 61, 62, 63, 64, 65, 66, 67, 68, 69, 70, 70, 70, 70, 70, 70, 69, 69, 68], -23: [68, 60, 68, 62, 63, 64, 65, 66, 67, 68, 70, 70, 70, 70, 70, 70, 70, 69, 69, 69, 68], -22: [67, 59, 68, 61, 63, 64, 66, 66, 68, 69, 70, 70, 70, 70, 70, 70, 69, 69, 69, 69, 68], -21: [67, 60, 67, 62, 64, 65, 66, 67, 69, 70, 70, 70, 70, 70, 70, 69, 69, 69, 69, 68, 68], -20: [67, 49, 67, 51, 51, 51, 51, 51, 52, 52, 52, 52, 52, 52, 52, 52, 52, 52, 52, 52, 52], -19: [66, 52, 49, 52, 52, 52, 52, 52, 52, 52, 52, 52, 52, 51, 51, 51, 51, 50, 50, 49, 49], -18: [66, 52, 49, 52, 52, 52, 52, 52, 52, 52, 52, 52, 51, 51, 51, 51, 50, 50, 49, 49, 49], -17: [66, 52, 49, 52, 52, 52, 52, 52, 52, 52, 52, 52, 51, 51, 51, 51, 50, 50, 49, 49, 49], -16: [66, 52, 49, 52, 52, 52, 52, 52, 52, 52, 52, 52, 51, 51, 51, 51, 50, 49, 49, 49, 49], -15: [66, 52, 49, 52, 52, 52, 52, 52, 52, 52, 52, 52, 51, 51, 51, 50, 50, 49, 49, 49, 49], -14: [65, 52, 49, 52, 52, 52, 52, 52, 52, 52, 52, 51, 51, 51, 51, 50, 49, 49, 49, 49, 49], -13: [65, 52, 49, 52, 52, 52, 52, 52, 52, 52, 52, 51, 51, 51, 51, 50, 49, 49, 49, 49, 49], -12: [64, 52, 50, 52, 52, 52, 52, 52, 52, 52, 52, 51, 51, 51, 50, 50, 49, 49, 49, 49, 49], -11: [63, 62, 50, 52, 52, 52, 52, 52, 52, 52, 52, 51, 51, 51, 50, 49, 49, 49, 49, 49, 50], -10: [62, 52, 50, 52, 52, 52, 52, 52, 52, 52, 52, 51, 51, 51, 50, 49, 49, 49, 49, 49, 50], -9: [62, 52, 51, 52, 52, 52, 52, 52, 52, 52, 52, 51, 51, 51, 50, 50, 49, 49, 49, 49, 50], -8: [62, 61, 52, 52, 52, 52, 52, 52, 52, 52, 52, 51, 51, 51, 51, 50, 49, 49, 49, 49, 50], -7: [61, 60, 53, 52, 52, 52, 52, 52, 52, 52, 52, 51, 51, 51, 51, 50, 49, 49, 49, 49, 50], -6: [60, 59, 54, 52, 52, 52, 52, 52, 52, 52, 52, 52, 51, 51, 51, 50, 49, 49, 49, 49, 50], -5: [59, 58, 55, 52, 52, 52, 52, 52, 52, 52, 52, 52, 51, 51, 51, 50, 49, 49, 49, 49, 50], -4: [58, 57, 56, 52, 52, 52, 52, 52, 52, 52, 52, 52, 51, 51, 51, 50, 49, 49, 49, 49, 50], -3: [57, 52, 57, 52, 52, 52, 52, 52, 52, 52, 52, 52, 51, 51, 51, 50, 49, 49, 49, 49, 50], -2: [56, 52, 58, 52, 52, 52, 52, 52, 52, 52, 52, 52, 51, 51, 51, 50, 49, 49, 49, 49, 50], -1: [55, 51, 59, 52, 52, 52, 52, 52, 52, 52, 52, 52, 51, 51, 51, 50, 49, 49, 49, 49, 50], 0: [61, 51, 60, 52, 52, 52, 52, 52, 52, 52, 52, 52, 51, 51, 51, 50, 49, 49, 49, 49, 50], 1: [62, 51, 61, 52, 52, 52, 52, 52, 52, 52, 52, 52, 51, 51, 51, 49, 49, 49, 49, 50, 50], 2: [63, 51, 62, 52, 52, 52, 52, 52, 52, 52, 52, 52, 51, 51, 51, 49, 49, 49, 49, 50, 50], 3: [64, 51, 63, 52, 52, 52, 52, 52, 52, 52, 52, 52, 51, 51, 50, 49, 49, 49, 49, 50, 53], 4: [65, 51, 64, 52, 52, 52, 52, 52, 52, 52, 52, 52, 51, 51, 50, 49, 49, 49, 49, 50, 55], 5: [66, 51, 65, 52, 52, 52, 52, 52, 52, 52, 52, 52, 51, 51, 50, 49, 49, 49, 50, 50, 54], 6: [67, 51, 66, 52, 52, 52, 52, 52, 52, 52, 52, 51, 51, 51, 49, 49, 49, 49, 50, 50, 56], 7: [68, 51, 67, 52, 52, 52, 52, 52, 52, 52, 52, 51, 51, 50, 49, 49, 49, 49, 50, 53, 58], 8: [69, 52, 68, 52, 52, 52, 52, 52, 52, 52, 51, 51, 51, 49, 49, 49, 49, 50, 50, 55, 62], 9: [70, 52, 69, 52, 52, 52, 52, 52, 52, 52, 51, 51, 50, 49, 49, 49, 49, 50, 52, 56, 63], 10: [70, 52, 70, 52, 52, 52, 52, 52, 52, 52, 51, 51, 50, 49, 49, 49, 49, 50, 51, 55, 62], 11: [70, 52, 70, 52, 52, 52, 52, 52, 52, 52, 51, 51, 50, 49, 49, 49, 49, 50, 50, 55, 59], 12: [70, 52, 70, 52, 52, 52, 52, 52, 52, 51, 51, 51, 50, 49, 49, 49, 49, 50, 50, 54, 58], 13: [70, 52, 70, 52, 52, 52, 52, 52, 52, 51, 51, 51, 50, 49, 49, 49, 49, 50, 50, 53, 57], 14: [70, 52, 70, 52, 52, 52, 52, 52, 52, 51, 51, 51, 49, 49, 49, 49, 49, 50, 50, 53, 56], 15: [70, 52, 70, 52, 52, 52, 52, 52, 52, 51, 51, 50, 49, 49, 49, 49, 49, 50, 50, 53, 56], 16: [70, 52, 70, 52, 52, 52, 52, 52, 51, 51, 51, 50, 49, 49, 49, 49, 50, 50, 50, 53, 55], 17: [70, 52, 70, 52, 52, 52, 52, 52, 51, 51, 51, 50, 49, 49, 49, 49, 50, 50, 51, 53, 55], 18: [70, 52, 70, 52, 52, 52, 52, 51, 51, 51, 50, 49, 49, 49, 49, 49, 50, 50, 52, 54, 56], 19: [70, 52, 70, 52, 52, 52, 52, 51, 51, 51, 49, 49, 49, 49, 49, 50, 50, 51, 52, 54, 56], 20: [69, 52, 70, 52, 52, 52, 52, 51, 51, 51, 49, 49, 49, 49, 49, 50, 50, 50, 52, 53, 55], 21: [69, 52, 69, 52, 52, 52, 51, 51, 51, 50, 49, 49, 49, 49, 50, 50, 50, 51, 53, 54, 56], 22: [69, 52, 69, 52, 52, 51, 51, 51, 49, 49, 49, 49, 49, 50, 50, 50, 52, 53, 54, 55, 57], 23: [69, 52, 69, 52, 51, 51, 51, 49, 49, 49, 49, 50, 50, 50, 51, 52, 53, 55, 56, 57, 58], 24: [69, 52, 69, 52, 51, 51, 49, 49, 49, 50, 50, 50, 51, 52, 53, 54, 55, 56, 57, 58, 59], 25: [69, 52, 69, 51, 49, 49, 49, 50, 50, 51, 52, 53, 54, 55, 55, 56, 57, 58, 59, 61, 62], 26: [69, 52, 69, 49, 50, 50, 51, 52, 52, 53, 54, 55, 56, 57, 58, 59, 60, 61, 62, 62, 63], 27: [68, 50, 69, 51, 51, 52, 53, 54, 54, 55, 56, 57, 58, 58, 59, 60, 61, 62, 63, 63, 64], 28: [68, 52, 68, 53, 54, 55, 56, 56, 57, 58, 59, 60, 60, 61, 62, 63, 63, 64, 65, 66, 67], 29: [68, 53, 68, 55, 56, 56, 57, 58, 59, 59, 60, 61, 62, 62, 63, 64, 65, 65, 66, 67, 68], 30: [68, 57, 68, 59, 59, 60, 61, 62, 62, 63, 64, 65, 66, 66, 67, 68, 68, 69, 70, 70, 70]}, {-30: [54, 69, 55, 71, 71, 71, 71, 71, 71, 71, 71, 71, 70, 70, 70, 70, 70, 70, 70, 69, 69], -29: [53, 71, 71, 71, 71, 71, 71, 71, 71, 71, 70, 70, 70, 70, 70, 70, 70, 69, 69, 69, 69], -28: [52, 71, 53, 71, 71, 71, 71, 71, 70, 70, 70, 70, 70, 70, 70, 69, 69, 69, 69, 69, 68], -27: [51, 71, 52, 71, 71, 70, 70, 70, 70, 70, 70, 70, 70, 69, 69, 69, 69, 69, 69, 66, 63], -26: [50, 71, 51, 70, 70, 70, 70, 70, 70, 70, 69, 69, 69, 69, 69, 69, 68, 65, 63, 60, 55], -25: [49, 71, 50, 70, 70, 70, 70, 70, 69, 69, 69, 69, 69, 69, 67, 65, 63, 61, 59, 55, 53], -24: [48, 71, 49, 70, 70, 70, 70, 70, 69, 69, 69, 69, 69, 67, 65, 63, 61, 59, 55, 53, 50], -23: [47, 70, 48, 70, 70, 70, 70, 69, 69, 69, 69, 68, 66, 64, 62, 61, 59, 55, 54, 52, 48], -22: [46, 71, 47, 70, 70, 70, 69, 69, 69, 69, 69, 67, 65, 64, 62, 60, 57, 55, 53, 52, 49], -21: [45, 70, 46, 70, 70, 70, 69, 69, 69, 69, 67, 65, 63, 62, 60, 57, 55, 54, 52, 49, 47], -20: [44, 60, 44, 57, 57, 55, 53, 52, 51, 49, 47, 46, 44, 42, 41, 39, 37, 35, 34, 32, 30], -19: [43, 33, 62, 37, 38, 40, 41, 43, 45, 46, 48, 50, 51, 52, 54, 55, 57, 58, 59, 60, 62], -18: [42, 33, 63, 37, 38, 40, 42, 43, 45, 47, 48, 50, 52, 53, 54, 56, 58, 59, 60, 61, 63], -17: [41, 33, 64, 37, 38, 40, 42, 44, 45, 47, 49, 50, 52, 53, 55, 57, 58, 59, 60, 62, 64], -16: [40, 33, 65, 37, 38, 40, 42, 44, 45, 47, 49, 51, 52, 54, 55, 57, 58, 60, 61, 63, 65], -15: [39, 33, 66, 36, 38, 40, 42, 44, 46, 47, 49, 51, 52, 54, 56, 58, 59, 60, 62, 64, 66], -14: [38, 33, 67, 37, 39, 41, 43, 44, 46, 48, 50, 52, 53, 55, 57, 58, 60, 61, 63, 65, 67], -13: [37, 33, 68, 37, 39, 41, 43, 44, 46, 48, 50, 52, 53, 55, 57, 58, 60, 62, 63, 65, 67], -12: [36, 33, 69, 37, 39, 41, 43, 45, 47, 49, 50, 52, 54, 56, 58, 59, 61, 63, 64, 66, 68], -11: [35, 34, 70, 37, 39, 41, 43, 45, 47, 49, 51, 52, 54, 56, 58, 60, 61, 63, 65, 67, 70], -10: [34, 33, 71, 37, 39, 41, 43, 45, 47, 49, 51, 52, 54, 56, 58, 60, 61, 63, 65, 67, 69], -9: [33, 33, 71, 37, 39, 41, 42, 44, 46, 48, 50, 52, 54, 56, 58, 59, 61, 63, 65, 67, 69], -8: [32, 31, 71, 36, 38, 40, 42, 44, 46, 48, 50, 52, 53, 55, 57, 59, 61, 63, 65, 67, 69], -7: [31, 30, 71, 36, 38, 40, 42, 44, 46, 48, 50, 52, 53, 55, 57, 59, 61, 63, 65, 67, 69], -6: [30, 29, 71, 35, 37, 39, 41, 43, 45, 47, 49, 51, 53, 55, 57, 59, 61, 63, 65, 67, 69], -5: [29, 28, 71, 35, 37, 39, 41, 43, 45, 47, 49, 51, 53, 55, 57, 59, 61, 63, 65, 67, 69], -4: [28, 28, 71, 35, 37, 39, 41, 43, 45, 47, 49, 51, 53, 55, 57, 59, 61, 63, 65, 67, 69], -3: [28, 31, 71, 35, 37, 39, 41, 43, 45, 47, 49, 51, 53, 55, 57, 59, 61, 64, 66, 68, 70], -2: [27, 30, 71, 34, 36, 38, 40, 43, 45, 47, 49, 51, 53, 55, 57, 59, 62, 64, 66, 68, 70], -1: [26, 29, 71, 33, 35, 37, 40, 42, 44, 46, 48, 50, 52, 55, 57, 59, 61, 63, 65, 68, 70], 0: [70, 29, 70, 33, 35, 38, 40, 42, 44, 46, 48, 50, 53, 55, 57, 59, 62, 64, 66, 68, 70], 1: [70, 28, 70, 32, 35, 37, 39, 41, 44, 46, 48, 50, 53, 55, 57, 60, 62, 64, 66, 69, 71], 2: [70, 27, 70, 31, 34, 36, 38, 41, 43, 45, 48, 50, 53, 55, 57, 60, 62, 65, 67, 69, 71], 3: [70, 27, 70, 31, 34, 36, 38, 41, 43, 46, 48, 50, 53, 55, 58, 61, 63, 65, 68, 70, 71], 4: [70, 28, 70, 32, 35, 37, 39, 42, 44, 46, 49, 51, 54, 56, 59, 61, 64, 66, 68, 70, 71], 5: [69, 29, 70, 33, 35, 38, 40, 42, 45, 47, 49, 51, 54, 56, 59, 62, 64, 66, 69, 70, 71], 6: [69, 28, 69, 34, 36, 39, 41, 43, 45, 48, 50, 53, 55, 57, 60, 63, 65, 67, 69, 71, 71], 7: [69, 29, 69, 35, 37, 40, 42, 44, 46, 49, 51, 54, 56, 59, 61, 64, 66, 68, 70, 71, 71], 8: [69, 31, 69, 36, 38, 41, 43, 45, 47, 50, 52, 55, 57, 60, 62, 65, 67, 69, 71, 71, 70], 9: [69, 33, 69, 37, 40, 42, 44, 46, 49, 51, 53, 56, 58, 61, 63, 66, 68, 70, 71, 71, 70], 10: [68, 34, 69, 38, 40, 42, 45, 47, 49, 51, 54, 56, 59, 61, 63, 66, 68, 70, 71, 71, 70], 11: [67, 35, 68, 39, 41, 43, 45, 47, 49, 51, 54, 56, 59, 61, 64, 66, 68, 69, 71, 71, 71], 12: [66, 36, 67, 40, 42, 44, 46, 48, 50, 52, 54, 56, 59, 62, 64, 66, 68, 69, 71, 71, 71], 13: [65, 36, 66, 40, 42, 44, 46, 48, 50, 53, 55, 57, 59, 62, 64, 66, 68, 69, 71, 71, 71], 14: [64, 37, 65, 41, 43, 45, 47, 49, 51, 53, 55, 57, 60, 62, 64, 66, 68, 69, 71, 71, 71], 15: [63, 38, 64, 42, 44, 46, 48, 50, 51, 54, 56, 58, 61, 63, 65, 66, 68, 69, 71, 71, 71], 16: [62, 39, 63, 43, 45, 47, 48, 50, 53, 54, 56, 59, 61, 63, 65, 67, 69, 70, 71, 71, 71], 17: [61, 40, 62, 44, 46, 47, 49, 51, 53, 55, 57, 59, 62, 64, 66, 67, 69, 70, 71, 71, 71], 18: [60, 41, 61, 45, 46, 48, 50, 53, 54, 56, 59, 61, 63, 65, 66, 68, 69, 71, 71, 71, 71], 19: [59, 42, 60, 46, 47, 49, 51, 53, 55, 57, 61, 62, 64, 66, 67, 69, 70, 71, 71, 71, 71], 20: [58, 43, 59, 46, 48, 50, 51, 54, 55, 57, 61, 62, 64, 66, 67, 69, 69, 71, 71, 71, 71], 21: [57, 44, 58, 47, 49, 51, 53, 55, 57, 59, 62, 64, 65, 67, 69, 69, 71, 71, 71, 71, 71], 22: [56, 45, 57, 49, 50, 53, 55, 57, 61, 63, 64, 66, 68, 69, 70, 71, 71, 71, 71, 71, 71], 23: [55, 46, 56, 50, 53, 55, 57, 62, 63, 65, 67, 69, 69, 71, 71, 71, 71, 71, 71, 71, 71], 24: [54, 47, 55, 51, 55, 57, 63, 65, 67, 69, 69, 71, 71, 71, 71, 71, 71, 71, 71, 71, 71], 25: [53, 49, 54, 56, 63, 65, 68, 69, 70, 71, 71, 71, 71, 71, 71, 71, 71, 71, 71, 70, 70], 26: [52, 50, 53, 67, 69, 69, 71, 71, 71, 71, 71, 71, 71, 71, 71, 71, 70, 70, 70, 70, 70], 27: [51, 69, 52, 71, 71, 71, 71, 71, 71, 71, 71, 71, 71, 71, 71, 70, 70, 70, 70, 70, 70], 28: [50, 50, 51, 71, 71, 71, 71, 71, 71, 71, 71, 70, 70, 70, 70, 70, 70, 70, 70, 69, 69], 29: [49, 71, 50, 71, 71, 71, 71, 71, 71, 71, 70, 70, 70, 70, 70, 70, 70, 70, 69, 69, 69], 30: [48, 71, 49, 71, 71, 70, 70, 70, 70, 70, 70, 70, 69, 69, 69, 69, 69, 69, 69, 67, 62]}, {-30: [51, 52, 69, 57, 58, 59, 59, 60, 61, 62, 62, 63, 64, 65, 65, 66, 66, 67, 68, 68, 69], -29: [51, 52, 53, 54, 55, 56, 57, 58, 58, 59, 60, 61, 62, 63, 64, 64, 65, 66, 67, 68, 69], -28: [51, 51, 69, 52, 52, 53, 53, 54, 55, 56, 57, 58, 59, 60, 61, 62, 63, 64, 65, 66, 68], -27: [51, 51, 68, 52, 52, 52, 52, 52, 52, 52, 53, 54, 55, 56, 57, 58, 59, 60, 61, 62, 64], -26: [51, 51, 68, 52, 52, 52, 52, 52, 52, 52, 52, 52, 51, 52, 53, 55, 55, 57, 58, 59, 61], -25: [51, 51, 68, 52, 52, 52, 52, 52, 52, 52, 52, 52, 52, 52, 51, 51, 52, 53, 55, 56, 58], -24: [50, 51, 68, 51, 52, 52, 52, 52, 52, 52, 52, 52, 52, 52, 52, 52, 51, 51, 52, 53, 55], -23: [50, 51, 68, 51, 51, 52, 52, 52, 52, 52, 52, 52, 52, 52, 52, 52, 52, 52, 51, 51, 52], -22: [49, 50, 67, 51, 51, 51, 52, 52, 52, 52, 52, 52, 52, 52, 52, 52, 52, 52, 52, 52, 51], -21: [49, 50, 67, 51, 51, 51, 51, 52, 52, 52, 52, 52, 52, 52, 52, 52, 52, 52, 52, 52, 51], -20: [49, 60, 67, 63, 64, 66, 67, 68, 70, 70, 70, 70, 70, 70, 70, 69, 69, 69, 68, 68, 67], -19: [49, 67, 49, 68, 69, 69, 69, 69, 70, 70, 70, 70, 70, 70, 69, 67, 65, 64, 63, 61, 59], -18: [49, 67, 49, 68, 68, 69, 69, 69, 69, 70, 70, 70, 70, 70, 70, 68, 66, 65, 63, 61, 59], -17: [49, 66, 49, 68, 68, 68, 69, 69, 69, 70, 70, 70, 70, 70, 70, 69, 66, 65, 63, 60, 59], -16: [49, 66, 49, 67, 68, 68, 69, 69, 69, 69, 70, 70, 70, 70, 70, 69, 67, 65, 63, 60, 59], -15: [49, 66, 49, 67, 68, 68, 69, 69, 69, 69, 70, 70, 70, 70, 70, 70, 67, 65, 62, 59, 58], -14: [49, 66, 49, 67, 68, 68, 68, 69, 69, 69, 70, 70, 70, 70, 70, 70, 68, 65, 63, 59, 58], -13: [50, 66, 50, 67, 67, 68, 68, 69, 69, 69, 69, 70, 70, 70, 70, 70, 69, 65, 64, 60, 58], -12: [50, 66, 50, 66, 67, 68, 68, 68, 69, 69, 69, 70, 70, 70, 70, 70, 70, 65, 63, 59, 57], -11: [50, 65, 50, 66, 67, 68, 68, 68, 69, 69, 69, 70, 70, 70, 70, 70, 70, 65, 63, 59, 55], -10: [51, 65, 51, 66, 66, 67, 68, 68, 69, 69, 69, 69, 70, 70, 70, 70, 70, 70, 65, 60, 57], -9: [52, 64, 52, 66, 66, 67, 67, 68, 68, 69, 69, 69, 70, 70, 70, 70, 70, 70, 66, 62, 59], -8: [53, 62, 53, 66, 66, 66, 67, 68, 68, 68, 69, 69, 69, 70, 70, 70, 70, 70, 69, 65, 59], -7: [54, 62, 54, 65, 66, 66, 67, 67, 68, 68, 69, 69, 69, 69, 70, 70, 70, 70, 70, 65, 59], -6: [55, 62, 55, 65, 66, 66, 66, 67, 68, 68, 68, 69, 69, 69, 70, 70, 70, 70, 70, 70, 63], -5: [56, 62, 56, 64, 65, 66, 66, 67, 67, 68, 68, 69, 69, 69, 69, 70, 70, 70, 70, 70, 65], -4: [57, 61, 57, 63, 65, 66, 66, 66, 67, 68, 68, 68, 69, 69, 69, 70, 70, 70, 70, 70, 65], -3: [58, 60, 58, 63, 65, 66, 66, 66, 67, 68, 68, 68, 69, 69, 69, 70, 70, 70, 70, 70, 70], -2: [59, 59, 59, 62, 63, 65, 66, 66, 67, 67, 68, 68, 69, 69, 69, 69, 70, 70, 70, 70, 70], -1: [60, 57, 60, 62, 62, 64, 65, 66, 66, 67, 67, 68, 68, 69, 69, 69, 70, 70, 70, 70, 70], 0: [54, 57, 61, 62, 62, 64, 65, 66, 66, 67, 67, 68, 68, 69, 69, 69, 69, 70, 70, 70, 70], 1: [53, 56, 62, 61, 62, 63, 65, 66, 66, 66, 67, 68, 68, 68, 69, 69, 69, 70, 70, 70, 70], 2: [52, 54, 63, 60, 62, 62, 64, 65, 66, 66, 67, 67, 68, 68, 69, 69, 69, 70, 70, 70, 70], 3: [51, 54, 64, 59, 61, 62, 63, 65, 66, 66, 67, 67, 68, 68, 69, 69, 69, 70, 70, 70, 70], 4: [51, 56, 65, 60, 62, 62, 64, 65, 66, 66, 67, 67, 68, 68, 69, 69, 69, 70, 70, 70, 70], 5: [51, 56, 66, 60, 62, 62, 64, 65, 66, 66, 67, 67, 68, 68, 69, 69, 69, 70, 70, 70, 70], 6: [51, 57, 67, 61, 62, 63, 64, 65, 66, 66, 67, 68, 68, 68, 69, 69, 69, 70, 70, 70, 70], 7: [51, 57, 68, 61, 62, 63, 65, 66, 66, 66, 67, 68, 68, 68, 69, 69, 69, 70, 70, 70, 70], 8: [51, 59, 69, 62, 62, 64, 65, 66, 66, 66, 67, 68, 68, 69, 69, 69, 69, 70, 70, 70, 70], 9: [52, 60, 70, 62, 63, 64, 65, 66, 66, 67, 67, 68, 68, 69, 69, 69, 70, 70, 70, 70, 70], 10: [52, 60, 70, 62, 63, 65, 65, 66, 66, 67, 67, 68, 68, 69, 69, 69, 69, 70, 70, 70, 70], 11: [52, 60, 70, 62, 63, 65, 65, 66, 66, 67, 67, 68, 68, 69, 69, 69, 69, 70, 70, 70, 70], 12: [52, 61, 70, 62, 64, 65, 66, 66, 66, 67, 67, 68, 68, 68, 69, 69, 69, 70, 70, 70, 70], 13: [52, 61, 70, 63, 64, 65, 66, 66, 66, 67, 67, 68, 68, 68, 69, 69, 69, 69, 70, 70, 70], 14: [52, 62, 70, 63, 64, 65, 66, 66, 66, 67, 67, 68, 68, 68, 69, 69, 69, 69, 70, 70, 70], 15: [52, 62, 70, 63, 64, 65, 66, 66, 66, 67, 67, 68, 68, 68, 69, 69, 69, 69, 70, 70, 70], 16: [52, 62, 70, 63, 64, 65, 66, 66, 66, 67, 67, 68, 68, 68, 68, 69, 69, 69, 69, 70, 70], 17: [52, 62, 70, 63, 64, 65, 66, 66, 66, 66, 67, 67, 68, 68, 68, 69, 69, 69, 69, 70, 70], 18: [52, 62, 70, 63, 64, 65, 66, 66, 66, 66, 67, 67, 68, 68, 68, 69, 69, 69, 69, 69, 70], 19: [52, 62, 70, 63, 64, 65, 65, 66, 66, 66, 67, 67, 68, 68, 68, 68, 69, 69, 69, 69, 70], 20: [52, 62, 69, 63, 64, 65, 65, 66, 66, 66, 67, 67, 67, 68, 68, 68, 68, 69, 69, 69, 69], 21: [52, 62, 69, 63, 64, 65, 65, 66, 66, 66, 66, 67, 67, 68, 68, 68, 68, 69, 69, 69, 69], 22: [52, 62, 69, 63, 64, 64, 65, 65, 66, 66, 66, 67, 67, 67, 68, 68, 68, 68, 69, 69, 69], 23: [52, 62, 69, 62, 63, 64, 65, 65, 66, 66, 66, 66, 67, 67, 67, 68, 68, 68, 69, 69, 69], 24: [52, 61, 69, 62, 62, 63, 64, 65, 65, 66, 66, 66, 66, 67, 67, 68, 68, 68, 68, 69, 69], 25: [52, 60, 69, 62, 62, 62, 63, 64, 64, 65, 65, 66, 66, 66, 67, 67, 68, 68, 68, 68, 69], 26: [52, 59, 69, 60, 61, 62, 62, 62, 63, 64, 65, 65, 66, 66, 66, 67, 67, 68, 68, 68, 69], 27: [52, 57, 68, 59, 59, 60, 61, 61, 62, 62, 63, 64, 64, 65, 65, 66, 66, 67, 67, 68, 68], 28: [52, 53, 68, 55, 56, 56, 57, 58, 59, 59, 60, 61, 62, 62, 63, 64, 65, 65, 66, 67, 68], 29: [52, 52, 68, 53, 54, 55, 56, 56, 57, 58, 59, 60, 60, 61, 62, 63, 64, 65, 65, 66, 67], 30: [52, 52, 68, 52, 52, 51, 52, 53, 54, 55, 56, 57, 58, 58, 59, 60, 61, 62, 64, 65, 66]}, {-30: [52, 50, 54, 28, 28, 29, 29, 30, 31, 32, 32, 35, 36, 37, 37, 39, 42, 44, 47, 48, 54], -29: [53, 51, 25, 26, 26, 27, 28, 28, 28, 29, 30, 31, 32, 35, 36, 36, 37, 39, 44, 47, 52], -28: [54, 52, 52, 39, 31, 25, 25, 26, 26, 27, 28, 28, 29, 30, 31, 32, 35, 36, 37, 39, 47], -27: [55, 53, 51, 48, 44, 41, 37, 33, 30, 24, 25, 26, 26, 27, 28, 28, 29, 30, 31, 32, 36], -26: [56, 53, 50, 51, 48, 45, 43, 40, 38, 35, 33, 30, 25, 24, 25, 26, 26, 28, 28, 29, 31], -25: [57, 54, 49, 51, 50, 48, 46, 44, 42, 40, 38, 36, 33, 31, 27, 25, 24, 25, 26, 27, 28], -24: [58, 56, 48, 53, 51, 51, 49, 47, 45, 43, 41, 39, 37, 35, 33, 31, 27, 25, 24, 25, 26], -23: [59, 57, 47, 54, 53, 51, 50, 48, 47, 45, 43, 41, 39, 37, 35, 34, 32, 30, 27, 25, 24], -22: [60, 58, 46, 57, 55, 53, 51, 51, 49, 47, 46, 44, 42, 40, 39, 37, 35, 33, 32, 30, 27], -21: [61, 59, 45, 57, 56, 54, 52, 51, 50, 48, 47, 45, 43, 41, 40, 38, 36, 35, 33, 31, 28], -20: [62, 70, 45, 70, 70, 69, 69, 69, 69, 67, 65, 64, 62, 60, 59, 56, 54, 52, 50, 48, 45], -19: [63, 46, 63, 50, 53, 54, 56, 58, 60, 62, 63, 65, 67, 68, 69, 69, 70, 70, 70, 70, 71], -18: [64, 45, 64, 49, 51, 53, 55, 57, 58, 61, 62, 64, 66, 67, 69, 69, 69, 70, 70, 70, 71], -17: [65, 43, 65, 48, 50, 51, 54, 56, 57, 60, 61, 63, 65, 67, 68, 69, 69, 70, 70, 70, 71], -16: [66, 42, 66, 46, 49, 51, 53, 55, 57, 58, 61, 63, 64, 66, 68, 69, 69, 70, 70, 70, 71], -15: [67, 41, 67, 46, 48, 50, 52, 54, 56, 58, 60, 62, 64, 66, 67, 69, 69, 70, 70, 71, 71], -14: [68, 41, 68, 45, 47, 49, 51, 53, 55, 57, 60, 61, 63, 65, 67, 69, 69, 70, 70, 71, 71], -13: [69, 40, 69, 44, 46, 48, 50, 52, 54, 56, 58, 60, 62, 64, 66, 68, 69, 70, 70, 70, 71], -12: [70, 39, 70, 43, 45, 48, 50, 51, 54, 56, 57, 60, 62, 64, 65, 67, 69, 70, 70, 71, 71], -11: [71, 38, 71, 42, 45, 47, 49, 51, 53, 55, 57, 59, 61, 63, 65, 67, 69, 70, 70, 71, 71], -10: [71, 37, 71, 41, 43, 46, 48, 50, 52, 54, 56, 58, 60, 62, 64, 66, 68, 69, 70, 70, 71], -9: [71, 36, 71, 40, 42, 44, 46, 49, 51, 53, 55, 57, 59, 61, 63, 65, 67, 68, 69, 70, 71], -8: [71, 34, 71, 39, 41, 43, 45, 48, 50, 51, 54, 56, 58, 60, 62, 64, 66, 68, 69, 70, 71], -7: [71, 34, 71, 38, 40, 42, 44, 46, 48, 50, 53, 54, 56, 58, 61, 63, 64, 66, 68, 70, 71], -6: [71, 33, 71, 37, 39, 41, 43, 45, 47, 49, 51, 53, 55, 57, 59, 61, 63, 65, 67, 69, 70], -5: [71, 32, 71, 36, 38, 40, 42, 44, 46, 48, 50, 52, 54, 56, 58, 60, 62, 64, 66, 68, 70], -4: [71, 31, 71, 35, 37, 39, 41, 43, 45, 47, 49, 51, 53, 55, 57, 60, 62, 64, 66, 68, 70], -3: [71, 30, 71, 35, 37, 39, 41, 43, 45, 47, 49, 51, 53, 55, 57, 59, 61, 63, 65, 67, 69], -2: [71, 29, 71, 33, 35, 37, 39, 42, 44, 46, 48, 50, 52, 54, 56, 58, 60, 62, 64, 67, 69], -1: [70, 28, 70, 32, 34, 36, 38, 40, 42, 44, 46, 48, 50, 52, 55, 57, 59, 61, 63, 65, 67], 0: [26, 28, 70, 32, 34, 36, 38, 40, 42, 44, 46, 48, 50, 52, 54, 56, 58, 60, 63, 65, 67], 1: [25, 27, 70, 31, 33, 35, 37, 39, 41, 43, 45, 47, 49, 51, 54, 56, 58, 60, 62, 64, 67], 2: [24, 26, 70, 30, 32, 34, 36, 38, 40, 42, 44, 46, 48, 51, 53, 55, 57, 60, 62, 64, 67], 3: [24, 26, 70, 29, 31, 33, 35, 37, 39, 42, 44, 46, 48, 50, 53, 55, 57, 59, 62, 64, 66], 4: [25, 27, 70, 30, 32, 34, 36, 38, 40, 42, 44, 46, 48, 51, 53, 55, 58, 60, 62, 64, 67], 5: [26, 27, 69, 30, 32, 34, 36, 38, 40, 42, 44, 46, 48, 50, 52, 55, 57, 59, 61, 64, 66], 6: [27, 28, 69, 31, 32, 35, 36, 38, 40, 42, 44, 47, 49, 51, 53, 55, 57, 59, 61, 64, 66], 7: [28, 28, 69, 31, 33, 35, 37, 39, 41, 43, 45, 47, 49, 51, 53, 55, 58, 60, 62, 64, 66], 8: [29, 29, 69, 32, 34, 36, 37, 39, 41, 43, 45, 47, 49, 52, 53, 56, 58, 60, 62, 64, 67], 9: [30, 30, 69, 33, 35, 36, 38, 40, 42, 44, 46, 48, 50, 52, 54, 56, 59, 60, 63, 65, 67], 10: [31, 30, 68, 33, 35, 37, 38, 40, 42, 44, 46, 48, 50, 52, 54, 56, 58, 60, 62, 64, 66], 11: [32, 30, 67, 34, 35, 37, 38, 40, 42, 44, 46, 47, 50, 52, 53, 55, 57, 59, 61, 63, 65], 12: [33, 31, 66, 34, 36, 37, 39, 40, 42, 44, 46, 47, 49, 51, 53, 55, 57, 59, 60, 62, 64], 13: [34, 31, 65, 35, 36, 37, 39, 40, 42, 44, 46, 47, 49, 51, 52, 54, 56, 58, 60, 62, 64], 14: [35, 32, 64, 35, 36, 37, 39, 40, 42, 44, 45, 47, 49, 50, 52, 54, 56, 57, 59, 61, 63], 15: [36, 32, 63, 35, 36, 37, 39, 40, 42, 44, 45, 47, 48, 50, 52, 53, 55, 57, 59, 60, 62], 16: [37, 32, 62, 35, 36, 37, 39, 40, 42, 44, 45, 47, 48, 49, 51, 52, 54, 56, 58, 59, 61], 17: [38, 32, 61, 35, 36, 37, 39, 40, 42, 43, 44, 46, 47, 49, 51, 52, 53, 55, 57, 59, 59], 18: [39, 33, 60, 35, 36, 37, 39, 40, 41, 43, 44, 46, 47, 48, 50, 52, 53, 54, 56, 58, 60], 19: [40, 33, 59, 35, 36, 37, 38, 39, 41, 43, 44, 45, 47, 48, 49, 51, 52, 54, 55, 57, 59], 20: [41, 33, 58, 35, 36, 37, 38, 39, 40, 42, 44, 44, 46, 47, 48, 50, 51, 52, 54, 55, 57], 21: [42, 33, 57, 35, 36, 37, 38, 39, 40, 41, 43, 44, 45, 47, 47, 49, 50, 52, 53, 54, 56], 22: [43, 32, 56, 35, 36, 36, 37, 38, 39, 40, 42, 44, 44, 46, 47, 48, 49, 51, 52, 53, 55], 23: [44, 32, 55, 34, 35, 36, 37, 37, 39, 39, 41, 42, 44, 44, 46, 47, 48, 50, 52, 52, 54], 24: [45, 31, 54, 32, 34, 35, 36, 37, 37, 39, 39, 41, 43, 44, 45, 47, 47, 49, 51, 52, 53], 25: [46, 30, 53, 32, 32, 34, 35, 36, 36, 37, 38, 39, 40, 42, 44, 45, 47, 47, 49, 51, 53], 26: [47, 29, 52, 30, 31, 32, 32, 34, 35, 36, 37, 37, 39, 39, 42, 44, 44, 47, 47, 50, 52], 27: [48, 28, 51, 29, 29, 30, 31, 31, 32, 33, 35, 36, 36, 37, 38, 39, 41, 44, 44, 47, 51], 28: [49, 25, 50, 26, 27, 27, 28, 28, 29, 29, 30, 31, 32, 32, 35, 36, 37, 37, 39, 44, 47], 29: [50, 37, 49, 25, 26, 26, 27, 27, 28, 28, 29, 30, 30, 31, 32, 35, 36, 37, 37, 39, 44], 30: [51, 46, 48, 38, 34, 24, 24, 25, 26, 26, 27, 28, 28, 28, 29, 30, 31, 32, 36, 37, 39]}, {-30: 74.62032545073498, -29: -99.03948280335513, -28: -92.69929105744522, -27: -85.79896288816792, -26: -79.59944797517893, -25: -73.83835915788005, -24: -69.98487870427799, -23: -65.34941527737534, -22: -61.16449915225691, -21: -57.40594346678493, -20: -54.03948280335513, -19: -49.40401937645248, -18: -46.73372327004429, -17: -44.35069624298831, -16: -42.21799446274786, -15: -40.30321449773255, -14: -37.11196973920807, -13: -34.154317689499685, -12: -31.419617855314694, -11: -28.894697172676175, -10: -25.596554178991767, -9: -23.78304563982585, -8: -22.034099595271623, -7: -18.965728310006824, -6: -15.99244027152903, -5: -13.125099583329995, -4: -10.37170265722476, -3: -7.707262949485485, -2: -5.138989060973239, -1: -2.556409110457883, 0: 0.0, 1: 2.270449670665086, 2: 4.409132248331395, 3: 6.741270506160262, 4: 8.242015568461516, 5: 10.191189572306156, 6: 11.814975236223225, 7: 13.481082799541758, 8: 15.188262514599048, 9: 15.735657765476809, 10: 16.90281268651656, 11: 18.176628753952357, 12: 19.570976862610088, 13: 21.10190274872023, 14: 22.787963773318, 15: 24.650584722624654, 16: 26.71440445108161, 17: 29.007559728470955, 18: 31.56181184164935, 19: 34.4123594976669, 20: 35.96051719664488, 21: 39.53685157164224, 22: 43.555160565236335, 23: 48.05527427365696, 24: 53.06324616569725, 25: 58.580382144685295, 26: 64.5709768626101, 27: 70.34086192048974, 28: 77.38418282164751, 29: -95.46314842835778, 30: -88.41982752719998})\n"
          ],
          "name": "stdout"
        }
      ]
    }
  ]
}