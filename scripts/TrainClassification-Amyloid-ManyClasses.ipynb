{
 "cells": [
  {
   "cell_type": "code",
   "execution_count": 1,
   "metadata": {},
   "outputs": [],
   "source": [
    "# Ishan Jain\n",
    "# 6 class amyloid classification\n",
    "\n",
    "import re\n",
    "import os, os.path\n",
    "from os.path import splitext\n",
    "import pydicom as dicom\n",
    "import numpy as np\n",
    "from pydicom.uid import UID, generate_uid\n",
    "import shutil\n",
    "from multiprocessing import dummy as multiprocessing\n",
    "import time\n",
    "import subprocess\n",
    "import datetime\n",
    "from datetime import date\n",
    "import sys\n",
    "import cv2\n",
    "import matplotlib.pyplot as plt\n",
    "import sys\n",
    "from shutil import copy\n",
    "import math\n",
    "import torch\n",
    "import torchvision\n",
    "import torch.utils.data\n",
    "import torch.nn as nn\n",
    "import skimage.draw\n",
    "import pathlib\n",
    "import collections\n",
    "import tqdm\n",
    "import Echo\n",
    "\n",
    "amyloidpath = \"C:\\\\Users\\\\Windows\\\\Dropbox\\\\Echo Research\\\\CodeBase\\\\Amyloid\\\\AmyloidEcho\"\n",
    "sys.path.append(amyloidpath)\n",
    "import echonet\n",
    "\n",
    "verbose = False\n",
    "\n",
    "\n",
    "frames = 16\n",
    "period = 2\n",
    "batch_size = 10\n",
    "num_epochs = 40\n",
    "resolution_h = 112\n",
    "resolution_w = 112\n",
    "lossfn = nn.CrossEntropyLoss() #nn.L1Loss()\n"
   ]
  },
  {
   "cell_type": "code",
   "execution_count": 2,
   "metadata": {},
   "outputs": [
    {
     "name": "stdout",
     "output_type": "stream",
     "text": [
      "4 448 448\n",
      "['Amyloid_Filenames', 'AS_Filenames', 'Athletes_Filenames', 'CrNativeRez', 'HCM_Filenames', 'HTN_Filenames'] D:\\ExpertCohortsFullRez\\Hypertrophy-Manifest.csv\n",
      "['Amyloid_Filenames', 'AS_Filenames', 'Athletes_Filenames', 'CrNativeRez', 'HCM_Filenames', 'HTN_Filenames'] D:\\ExpertCohortsFullRez\\Hypertrophy-Manifest.csv\n",
      "cuda is available\n"
     ]
    },
    {
     "name": "stderr",
     "output_type": "stream",
     "text": [
      "  0%|                                                    | 1/3651 [00:38<38:33:37, 38.03s/it, train1.0 0.9854 (0.9854)]C:\\Users\\Windows\\Anaconda3\\lib\\site-packages\\torch\\cuda\\nccl.py:24: UserWarning: PyTorch is not compiled with NCCL support\n",
      "  warnings.warn('PyTorch is not compiled with NCCL support')\n",
      "100%|██████████████████████████████████████████████████| 3651/3651 [1:52:09<00:00,  1.84s/it, train1.0 0.7715 (0.8843)]\n",
      "100%|████████████████████████████████████████████████████████| 766/766 [05:00<00:00,  2.55it/s, val1.0 0.7540 (0.5476)]\n"
     ]
    },
    {
     "name": "stdout",
     "output_type": "stream",
     "text": [
      "this is the best yet\n"
     ]
    },
    {
     "name": "stderr",
     "output_type": "stream",
     "text": [
      "100%|██████████████████████████████████████████████████| 3651/3651 [1:51:58<00:00,  1.84s/it, train2.0 0.7615 (0.9128)]\n",
      "100%|████████████████████████████████████████████████████████| 766/766 [04:59<00:00,  2.56it/s, val2.0 0.7455 (0.5647)]\n"
     ]
    },
    {
     "name": "stdout",
     "output_type": "stream",
     "text": [
      "this is the best yet\n"
     ]
    },
    {
     "name": "stderr",
     "output_type": "stream",
     "text": [
      "100%|██████████████████████████████████████████████████| 3651/3651 [1:51:45<00:00,  1.84s/it, train3.0 0.7546 (1.9893)]\n",
      "100%|████████████████████████████████████████████████████████| 766/766 [04:58<00:00,  2.57it/s, val3.0 0.7377 (1.0148)]\n"
     ]
    },
    {
     "name": "stdout",
     "output_type": "stream",
     "text": [
      "this is the best yet\n"
     ]
    },
    {
     "name": "stderr",
     "output_type": "stream",
     "text": [
      "100%|██████████████████████████████████████████████████| 3651/3651 [1:51:44<00:00,  1.84s/it, train4.0 0.7476 (1.3073)]\n",
      "100%|████████████████████████████████████████████████████████| 766/766 [04:59<00:00,  2.56it/s, val4.0 0.7343 (0.5544)]\n"
     ]
    },
    {
     "name": "stdout",
     "output_type": "stream",
     "text": [
      "this is the best yet\n"
     ]
    },
    {
     "name": "stderr",
     "output_type": "stream",
     "text": [
      "100%|██████████████████████████████████████████████████| 3651/3651 [1:51:45<00:00,  1.84s/it, train5.0 0.7437 (2.4223)]\n",
      "100%|████████████████████████████████████████████████████████| 766/766 [04:57<00:00,  2.57it/s, val5.0 0.7288 (1.0706)]\n"
     ]
    },
    {
     "name": "stdout",
     "output_type": "stream",
     "text": [
      "this is the best yet\n"
     ]
    },
    {
     "name": "stderr",
     "output_type": "stream",
     "text": [
      "100%|██████████████████████████████████████████████████| 3651/3651 [1:51:36<00:00,  1.83s/it, train6.0 0.7422 (1.1096)]\n",
      "100%|████████████████████████████████████████████████████████| 766/766 [04:58<00:00,  2.57it/s, val6.0 0.7262 (0.8997)]\n"
     ]
    },
    {
     "name": "stdout",
     "output_type": "stream",
     "text": [
      "this is the best yet\n"
     ]
    },
    {
     "name": "stderr",
     "output_type": "stream",
     "text": [
      "100%|██████████████████████████████████████████████████| 3651/3651 [1:51:48<00:00,  1.84s/it, train7.0 0.7385 (1.0027)]\n",
      "100%|████████████████████████████████████████████████████████| 766/766 [04:56<00:00,  2.59it/s, val7.0 0.7298 (0.2328)]\n",
      "100%|██████████████████████████████████████████████████| 3651/3651 [1:51:55<00:00,  1.84s/it, train8.0 0.7343 (1.3297)]\n",
      "100%|████████████████████████████████████████████████████████| 766/766 [05:02<00:00,  2.53it/s, val8.0 0.7207 (0.8409)]\n"
     ]
    },
    {
     "name": "stdout",
     "output_type": "stream",
     "text": [
      "this is the best yet\n"
     ]
    },
    {
     "name": "stderr",
     "output_type": "stream",
     "text": [
      "100%|██████████████████████████████████████████████████| 3651/3651 [1:53:10<00:00,  1.86s/it, train9.0 0.7336 (0.9914)]\n",
      "100%|████████████████████████████████████████████████████████| 766/766 [05:06<00:00,  2.50it/s, val9.0 0.7225 (0.5715)]\n",
      "100%|█████████████████████████████████████████████████| 3651/3651 [1:53:19<00:00,  1.86s/it, train10.0 0.7314 (0.9756)]\n",
      "100%|███████████████████████████████████████████████████████| 766/766 [05:05<00:00,  2.51it/s, val10.0 0.7236 (0.4735)]\n",
      "100%|█████████████████████████████████████████████████| 3651/3651 [1:53:43<00:00,  1.87s/it, train11.0 0.7255 (0.9007)]\n",
      "100%|███████████████████████████████████████████████████████| 766/766 [05:11<00:00,  2.46it/s, val11.0 0.7219 (0.5561)]\n",
      "100%|█████████████████████████████████████████████████| 3651/3651 [1:53:36<00:00,  1.87s/it, train12.0 0.7211 (1.4129)]\n",
      "100%|███████████████████████████████████████████████████████| 766/766 [05:05<00:00,  2.51it/s, val12.0 0.7198 (0.3482)]\n"
     ]
    },
    {
     "name": "stdout",
     "output_type": "stream",
     "text": [
      "this is the best yet\n"
     ]
    },
    {
     "name": "stderr",
     "output_type": "stream",
     "text": [
      "100%|█████████████████████████████████████████████████| 3651/3651 [1:52:03<00:00,  1.84s/it, train13.0 0.7176 (1.9348)]\n",
      "100%|███████████████████████████████████████████████████████| 766/766 [05:04<00:00,  2.52it/s, val13.0 0.7277 (0.6174)]\n",
      "100%|█████████████████████████████████████████████████| 3651/3651 [1:51:42<00:00,  1.84s/it, train14.0 0.7133 (1.2906)]\n",
      "100%|███████████████████████████████████████████████████████| 766/766 [05:03<00:00,  2.52it/s, val14.0 0.6958 (0.5400)]\n"
     ]
    },
    {
     "name": "stdout",
     "output_type": "stream",
     "text": [
      "this is the best yet\n"
     ]
    },
    {
     "name": "stderr",
     "output_type": "stream",
     "text": [
      "100%|█████████████████████████████████████████████████| 3651/3651 [1:51:49<00:00,  1.84s/it, train15.0 0.7072 (1.7638)]\n",
      "100%|███████████████████████████████████████████████████████| 766/766 [05:01<00:00,  2.54it/s, val15.0 0.7283 (0.6632)]\n",
      "100%|█████████████████████████████████████████████████| 3651/3651 [1:52:13<00:00,  1.84s/it, train16.0 0.6981 (0.8392)]\n",
      "100%|███████████████████████████████████████████████████████| 766/766 [05:04<00:00,  2.52it/s, val16.0 0.6917 (0.5208)]\n"
     ]
    },
    {
     "name": "stdout",
     "output_type": "stream",
     "text": [
      "this is the best yet\n"
     ]
    },
    {
     "name": "stderr",
     "output_type": "stream",
     "text": [
      "100%|█████████████████████████████████████████████████| 3651/3651 [1:51:37<00:00,  1.83s/it, train17.0 0.6846 (1.9965)]\n",
      "100%|███████████████████████████████████████████████████████| 766/766 [05:05<00:00,  2.51it/s, val17.0 0.6801 (0.7450)]\n"
     ]
    },
    {
     "name": "stdout",
     "output_type": "stream",
     "text": [
      "this is the best yet\n"
     ]
    },
    {
     "name": "stderr",
     "output_type": "stream",
     "text": [
      "100%|█████████████████████████████████████████████████| 3651/3651 [1:51:37<00:00,  1.83s/it, train18.0 0.6689 (0.7867)]\n",
      "100%|███████████████████████████████████████████████████████| 766/766 [05:06<00:00,  2.50it/s, val18.0 0.6729 (0.5856)]\n"
     ]
    },
    {
     "name": "stdout",
     "output_type": "stream",
     "text": [
      "this is the best yet\n"
     ]
    },
    {
     "name": "stderr",
     "output_type": "stream",
     "text": [
      "100%|█████████████████████████████████████████████████| 3651/3651 [1:51:36<00:00,  1.83s/it, train19.0 0.6550 (1.1946)]\n",
      "100%|███████████████████████████████████████████████████████| 766/766 [05:04<00:00,  2.51it/s, val19.0 0.6591 (0.6120)]\n"
     ]
    },
    {
     "name": "stdout",
     "output_type": "stream",
     "text": [
      "this is the best yet\n"
     ]
    },
    {
     "name": "stderr",
     "output_type": "stream",
     "text": [
      "100%|█████████████████████████████████████████████████| 3651/3651 [1:51:26<00:00,  1.83s/it, train20.0 0.6506 (0.6215)]\n",
      "100%|███████████████████████████████████████████████████████| 766/766 [05:02<00:00,  2.53it/s, val20.0 0.6464 (0.7285)]\n"
     ]
    },
    {
     "name": "stdout",
     "output_type": "stream",
     "text": [
      "this is the best yet\n"
     ]
    },
    {
     "name": "stderr",
     "output_type": "stream",
     "text": [
      "100%|█████████████████████████████████████████████████| 3651/3651 [1:51:36<00:00,  1.83s/it, train21.0 0.6427 (0.8238)]\n",
      "100%|███████████████████████████████████████████████████████| 766/766 [05:09<00:00,  2.48it/s, val21.0 0.6508 (0.9536)]\n",
      "100%|█████████████████████████████████████████████████| 3651/3651 [1:53:29<00:00,  1.87s/it, train22.0 0.6340 (2.3016)]\n",
      "100%|███████████████████████████████████████████████████████| 766/766 [05:06<00:00,  2.50it/s, val22.0 0.6492 (0.3753)]\n",
      "100%|█████████████████████████████████████████████████| 3651/3651 [1:53:14<00:00,  1.86s/it, train23.0 0.6307 (1.1197)]\n",
      "100%|███████████████████████████████████████████████████████| 766/766 [05:05<00:00,  2.50it/s, val23.0 0.6402 (0.3245)]\n"
     ]
    },
    {
     "name": "stdout",
     "output_type": "stream",
     "text": [
      "this is the best yet\n"
     ]
    },
    {
     "name": "stderr",
     "output_type": "stream",
     "text": [
      "100%|█████████████████████████████████████████████████| 3651/3651 [1:52:34<00:00,  1.85s/it, train24.0 0.6240 (0.5211)]\n",
      "100%|███████████████████████████████████████████████████████| 766/766 [04:59<00:00,  2.55it/s, val24.0 0.6328 (0.3002)]\n"
     ]
    },
    {
     "name": "stdout",
     "output_type": "stream",
     "text": [
      "this is the best yet\n"
     ]
    },
    {
     "name": "stderr",
     "output_type": "stream",
     "text": [
      "100%|█████████████████████████████████████████████████| 3651/3651 [1:51:44<00:00,  1.84s/it, train25.0 0.6185 (1.2652)]\n",
      "100%|███████████████████████████████████████████████████████| 766/766 [04:59<00:00,  2.55it/s, val25.0 0.6407 (0.9366)]\n",
      "100%|█████████████████████████████████████████████████| 3651/3651 [1:53:21<00:00,  1.86s/it, train26.0 0.6163 (0.2298)]\n",
      "100%|███████████████████████████████████████████████████████| 766/766 [05:04<00:00,  2.51it/s, val26.0 0.6398 (0.5604)]\n",
      "100%|█████████████████████████████████████████████████| 3651/3651 [1:53:39<00:00,  1.87s/it, train27.0 0.6101 (1.7602)]\n",
      "100%|███████████████████████████████████████████████████████| 766/766 [05:05<00:00,  2.50it/s, val27.0 0.6268 (0.8181)]\n"
     ]
    },
    {
     "name": "stdout",
     "output_type": "stream",
     "text": [
      "this is the best yet\n"
     ]
    },
    {
     "name": "stderr",
     "output_type": "stream",
     "text": [
      "100%|█████████████████████████████████████████████████| 3651/3651 [1:52:53<00:00,  1.86s/it, train28.0 0.6039 (1.4527)]\n",
      "100%|███████████████████████████████████████████████████████| 766/766 [05:03<00:00,  2.52it/s, val28.0 0.6278 (0.8305)]\n",
      "100%|█████████████████████████████████████████████████| 3651/3651 [1:52:53<00:00,  1.86s/it, train29.0 0.6000 (0.4789)]\n",
      "100%|███████████████████████████████████████████████████████| 766/766 [05:04<00:00,  2.52it/s, val29.0 0.6253 (0.4377)]\n"
     ]
    },
    {
     "name": "stdout",
     "output_type": "stream",
     "text": [
      "this is the best yet\n"
     ]
    },
    {
     "name": "stderr",
     "output_type": "stream",
     "text": [
      "100%|█████████████████████████████████████████████████| 3651/3651 [1:51:48<00:00,  1.84s/it, train30.0 0.5927 (0.8515)]\n",
      "100%|███████████████████████████████████████████████████████| 766/766 [04:58<00:00,  2.56it/s, val30.0 0.6341 (1.2065)]\n",
      "100%|█████████████████████████████████████████████████| 3651/3651 [1:51:24<00:00,  1.83s/it, train31.0 0.5864 (1.2387)]\n",
      "100%|███████████████████████████████████████████████████████| 766/766 [04:57<00:00,  2.57it/s, val31.0 0.6214 (0.9043)]\n"
     ]
    },
    {
     "name": "stdout",
     "output_type": "stream",
     "text": [
      "this is the best yet\n"
     ]
    },
    {
     "name": "stderr",
     "output_type": "stream",
     "text": [
      "100%|█████████████████████████████████████████████████| 3651/3651 [1:51:30<00:00,  1.83s/it, train32.0 0.5784 (3.0366)]\n",
      "100%|███████████████████████████████████████████████████████| 766/766 [04:55<00:00,  2.59it/s, val32.0 0.6319 (0.7494)]\n",
      "100%|█████████████████████████████████████████████████| 3651/3651 [1:51:28<00:00,  1.83s/it, train33.0 0.5779 (2.9606)]\n",
      "100%|███████████████████████████████████████████████████████| 766/766 [04:57<00:00,  2.57it/s, val33.0 0.6211 (0.6008)]\n"
     ]
    },
    {
     "name": "stdout",
     "output_type": "stream",
     "text": [
      "this is the best yet\n"
     ]
    },
    {
     "name": "stderr",
     "output_type": "stream",
     "text": [
      "100%|█████████████████████████████████████████████████| 3651/3651 [1:51:32<00:00,  1.83s/it, train34.0 0.5693 (2.0444)]\n",
      "100%|███████████████████████████████████████████████████████| 766/766 [05:01<00:00,  2.54it/s, val34.0 0.6344 (0.1996)]\n",
      "100%|█████████████████████████████████████████████████| 3651/3651 [1:51:51<00:00,  1.84s/it, train35.0 0.5657 (1.1061)]\n",
      "100%|███████████████████████████████████████████████████████| 766/766 [04:57<00:00,  2.58it/s, val35.0 0.6099 (0.6485)]\n"
     ]
    },
    {
     "name": "stdout",
     "output_type": "stream",
     "text": [
      "this is the best yet\n"
     ]
    },
    {
     "name": "stderr",
     "output_type": "stream",
     "text": [
      "100%|█████████████████████████████████████████████████| 3651/3651 [1:51:37<00:00,  1.83s/it, train36.0 0.5572 (0.1941)]\n",
      "100%|███████████████████████████████████████████████████████| 766/766 [04:57<00:00,  2.57it/s, val36.0 0.6364 (0.6481)]\n",
      "100%|█████████████████████████████████████████████████| 3651/3651 [1:51:51<00:00,  1.84s/it, train37.0 0.5494 (1.0379)]\n",
      "100%|███████████████████████████████████████████████████████| 766/766 [04:57<00:00,  2.57it/s, val37.0 0.6429 (1.0142)]\n",
      "100%|█████████████████████████████████████████████████| 3651/3651 [1:51:43<00:00,  1.84s/it, train38.0 0.5416 (0.9737)]\n",
      "100%|███████████████████████████████████████████████████████| 766/766 [04:57<00:00,  2.58it/s, val38.0 0.6186 (1.0298)]\n",
      "100%|█████████████████████████████████████████████████| 3651/3651 [1:51:39<00:00,  1.84s/it, train39.0 0.5338 (1.1567)]\n",
      "100%|███████████████████████████████████████████████████████| 766/766 [04:56<00:00,  2.59it/s, val39.0 0.6220 (0.7595)]\n"
     ]
    },
    {
     "name": "stdout",
     "output_type": "stream",
     "text": [
      "5 560 560\n",
      "['Amyloid_Filenames', 'AS_Filenames', 'Athletes_Filenames', 'CrNativeRez', 'HCM_Filenames', 'HTN_Filenames'] D:\\ExpertCohortsFullRez\\Hypertrophy-Manifest.csv\n",
      "['Amyloid_Filenames', 'AS_Filenames', 'Athletes_Filenames', 'CrNativeRez', 'HCM_Filenames', 'HTN_Filenames'] D:\\ExpertCohortsFullRez\\Hypertrophy-Manifest.csv\n",
      "cuda is available\n"
     ]
    },
    {
     "name": "stderr",
     "output_type": "stream",
     "text": [
      "  0%|                                                                                         | 0/3651 [00:37<?, ?it/s]\n"
     ]
    },
    {
     "ename": "RuntimeError",
     "evalue": "Caught RuntimeError in replica 0 on device 0.\nOriginal Traceback (most recent call last):\n  File \"C:\\Users\\Windows\\Anaconda3\\lib\\site-packages\\torch\\nn\\parallel\\parallel_apply.py\", line 60, in _worker\n    output = module(*input, **kwargs)\n  File \"C:\\Users\\Windows\\Anaconda3\\lib\\site-packages\\torch\\nn\\modules\\module.py\", line 541, in __call__\n    result = self.forward(*input, **kwargs)\n  File \"C:\\Users\\Windows\\Anaconda3\\lib\\site-packages\\torchvision\\models\\video\\resnet.py\", line 230, in forward\n    x = self.layer1(x)\n  File \"C:\\Users\\Windows\\Anaconda3\\lib\\site-packages\\torch\\nn\\modules\\module.py\", line 541, in __call__\n    result = self.forward(*input, **kwargs)\n  File \"C:\\Users\\Windows\\Anaconda3\\lib\\site-packages\\torch\\nn\\modules\\container.py\", line 92, in forward\n    input = module(input)\n  File \"C:\\Users\\Windows\\Anaconda3\\lib\\site-packages\\torch\\nn\\modules\\module.py\", line 541, in __call__\n    result = self.forward(*input, **kwargs)\n  File \"C:\\Users\\Windows\\Anaconda3\\lib\\site-packages\\torchvision\\models\\video\\resnet.py\", line 107, in forward\n    out = self.conv2(out)\n  File \"C:\\Users\\Windows\\Anaconda3\\lib\\site-packages\\torch\\nn\\modules\\module.py\", line 541, in __call__\n    result = self.forward(*input, **kwargs)\n  File \"C:\\Users\\Windows\\Anaconda3\\lib\\site-packages\\torch\\nn\\modules\\container.py\", line 92, in forward\n    input = module(input)\n  File \"C:\\Users\\Windows\\Anaconda3\\lib\\site-packages\\torch\\nn\\modules\\module.py\", line 541, in __call__\n    result = self.forward(*input, **kwargs)\n  File \"C:\\Users\\Windows\\Anaconda3\\lib\\site-packages\\torch\\nn\\modules\\container.py\", line 92, in forward\n    input = module(input)\n  File \"C:\\Users\\Windows\\Anaconda3\\lib\\site-packages\\torch\\nn\\modules\\module.py\", line 541, in __call__\n    result = self.forward(*input, **kwargs)\n  File \"C:\\Users\\Windows\\Anaconda3\\lib\\site-packages\\torch\\nn\\modules\\batchnorm.py\", line 81, in forward\n    exponential_average_factor, self.eps)\n  File \"C:\\Users\\Windows\\Anaconda3\\lib\\site-packages\\torch\\nn\\functional.py\", line 1670, in batch_norm\n    training, momentum, eps, torch.backends.cudnn.enabled\nRuntimeError: CUDA out of memory. Tried to allocate 690.00 MiB (GPU 0; 11.00 GiB total capacity; 8.12 GiB already allocated; 142.59 MiB free; 151.89 MiB cached)\n",
     "output_type": "error",
     "traceback": [
      "\u001b[1;31m---------------------------------------------------------------------------\u001b[0m",
      "\u001b[1;31mRuntimeError\u001b[0m                              Traceback (most recent call last)",
      "\u001b[1;32m<ipython-input-2-75b7677f5524>\u001b[0m in \u001b[0;36m<module>\u001b[1;34m\u001b[0m\n\u001b[0;32m    124\u001b[0m                             \u001b[0moutcome\u001b[0m \u001b[1;33m=\u001b[0m \u001b[0moutcome\u001b[0m\u001b[1;33m.\u001b[0m\u001b[0mto\u001b[0m\u001b[1;33m(\u001b[0m\u001b[0mdevice\u001b[0m\u001b[1;33m)\u001b[0m\u001b[1;33m\u001b[0m\u001b[1;33m\u001b[0m\u001b[0m\n\u001b[0;32m    125\u001b[0m \u001b[1;33m\u001b[0m\u001b[0m\n\u001b[1;32m--> 126\u001b[1;33m                             \u001b[0mp\u001b[0m \u001b[1;33m=\u001b[0m \u001b[0mmodel\u001b[0m\u001b[1;33m(\u001b[0m\u001b[0mx\u001b[0m\u001b[1;33m)\u001b[0m\u001b[1;31m#[\"out\"]\u001b[0m\u001b[1;33m\u001b[0m\u001b[1;33m\u001b[0m\u001b[0m\n\u001b[0m\u001b[0;32m    127\u001b[0m \u001b[1;33m\u001b[0m\u001b[0m\n\u001b[0;32m    128\u001b[0m                             \u001b[1;32mif\u001b[0m \u001b[0mverbose\u001b[0m\u001b[1;33m:\u001b[0m\u001b[1;33m\u001b[0m\u001b[1;33m\u001b[0m\u001b[0m\n",
      "\u001b[1;32m~\\Anaconda3\\lib\\site-packages\\torch\\nn\\modules\\module.py\u001b[0m in \u001b[0;36m__call__\u001b[1;34m(self, *input, **kwargs)\u001b[0m\n\u001b[0;32m    539\u001b[0m             \u001b[0mresult\u001b[0m \u001b[1;33m=\u001b[0m \u001b[0mself\u001b[0m\u001b[1;33m.\u001b[0m\u001b[0m_slow_forward\u001b[0m\u001b[1;33m(\u001b[0m\u001b[1;33m*\u001b[0m\u001b[0minput\u001b[0m\u001b[1;33m,\u001b[0m \u001b[1;33m**\u001b[0m\u001b[0mkwargs\u001b[0m\u001b[1;33m)\u001b[0m\u001b[1;33m\u001b[0m\u001b[1;33m\u001b[0m\u001b[0m\n\u001b[0;32m    540\u001b[0m         \u001b[1;32melse\u001b[0m\u001b[1;33m:\u001b[0m\u001b[1;33m\u001b[0m\u001b[1;33m\u001b[0m\u001b[0m\n\u001b[1;32m--> 541\u001b[1;33m             \u001b[0mresult\u001b[0m \u001b[1;33m=\u001b[0m \u001b[0mself\u001b[0m\u001b[1;33m.\u001b[0m\u001b[0mforward\u001b[0m\u001b[1;33m(\u001b[0m\u001b[1;33m*\u001b[0m\u001b[0minput\u001b[0m\u001b[1;33m,\u001b[0m \u001b[1;33m**\u001b[0m\u001b[0mkwargs\u001b[0m\u001b[1;33m)\u001b[0m\u001b[1;33m\u001b[0m\u001b[1;33m\u001b[0m\u001b[0m\n\u001b[0m\u001b[0;32m    542\u001b[0m         \u001b[1;32mfor\u001b[0m \u001b[0mhook\u001b[0m \u001b[1;32min\u001b[0m \u001b[0mself\u001b[0m\u001b[1;33m.\u001b[0m\u001b[0m_forward_hooks\u001b[0m\u001b[1;33m.\u001b[0m\u001b[0mvalues\u001b[0m\u001b[1;33m(\u001b[0m\u001b[1;33m)\u001b[0m\u001b[1;33m:\u001b[0m\u001b[1;33m\u001b[0m\u001b[1;33m\u001b[0m\u001b[0m\n\u001b[0;32m    543\u001b[0m             \u001b[0mhook_result\u001b[0m \u001b[1;33m=\u001b[0m \u001b[0mhook\u001b[0m\u001b[1;33m(\u001b[0m\u001b[0mself\u001b[0m\u001b[1;33m,\u001b[0m \u001b[0minput\u001b[0m\u001b[1;33m,\u001b[0m \u001b[0mresult\u001b[0m\u001b[1;33m)\u001b[0m\u001b[1;33m\u001b[0m\u001b[1;33m\u001b[0m\u001b[0m\n",
      "\u001b[1;32m~\\Anaconda3\\lib\\site-packages\\torch\\nn\\parallel\\data_parallel.py\u001b[0m in \u001b[0;36mforward\u001b[1;34m(self, *inputs, **kwargs)\u001b[0m\n\u001b[0;32m    150\u001b[0m             \u001b[1;32mreturn\u001b[0m \u001b[0mself\u001b[0m\u001b[1;33m.\u001b[0m\u001b[0mmodule\u001b[0m\u001b[1;33m(\u001b[0m\u001b[1;33m*\u001b[0m\u001b[0minputs\u001b[0m\u001b[1;33m[\u001b[0m\u001b[1;36m0\u001b[0m\u001b[1;33m]\u001b[0m\u001b[1;33m,\u001b[0m \u001b[1;33m**\u001b[0m\u001b[0mkwargs\u001b[0m\u001b[1;33m[\u001b[0m\u001b[1;36m0\u001b[0m\u001b[1;33m]\u001b[0m\u001b[1;33m)\u001b[0m\u001b[1;33m\u001b[0m\u001b[1;33m\u001b[0m\u001b[0m\n\u001b[0;32m    151\u001b[0m         \u001b[0mreplicas\u001b[0m \u001b[1;33m=\u001b[0m \u001b[0mself\u001b[0m\u001b[1;33m.\u001b[0m\u001b[0mreplicate\u001b[0m\u001b[1;33m(\u001b[0m\u001b[0mself\u001b[0m\u001b[1;33m.\u001b[0m\u001b[0mmodule\u001b[0m\u001b[1;33m,\u001b[0m \u001b[0mself\u001b[0m\u001b[1;33m.\u001b[0m\u001b[0mdevice_ids\u001b[0m\u001b[1;33m[\u001b[0m\u001b[1;33m:\u001b[0m\u001b[0mlen\u001b[0m\u001b[1;33m(\u001b[0m\u001b[0minputs\u001b[0m\u001b[1;33m)\u001b[0m\u001b[1;33m]\u001b[0m\u001b[1;33m)\u001b[0m\u001b[1;33m\u001b[0m\u001b[1;33m\u001b[0m\u001b[0m\n\u001b[1;32m--> 152\u001b[1;33m         \u001b[0moutputs\u001b[0m \u001b[1;33m=\u001b[0m \u001b[0mself\u001b[0m\u001b[1;33m.\u001b[0m\u001b[0mparallel_apply\u001b[0m\u001b[1;33m(\u001b[0m\u001b[0mreplicas\u001b[0m\u001b[1;33m,\u001b[0m \u001b[0minputs\u001b[0m\u001b[1;33m,\u001b[0m \u001b[0mkwargs\u001b[0m\u001b[1;33m)\u001b[0m\u001b[1;33m\u001b[0m\u001b[1;33m\u001b[0m\u001b[0m\n\u001b[0m\u001b[0;32m    153\u001b[0m         \u001b[1;32mreturn\u001b[0m \u001b[0mself\u001b[0m\u001b[1;33m.\u001b[0m\u001b[0mgather\u001b[0m\u001b[1;33m(\u001b[0m\u001b[0moutputs\u001b[0m\u001b[1;33m,\u001b[0m \u001b[0mself\u001b[0m\u001b[1;33m.\u001b[0m\u001b[0moutput_device\u001b[0m\u001b[1;33m)\u001b[0m\u001b[1;33m\u001b[0m\u001b[1;33m\u001b[0m\u001b[0m\n\u001b[0;32m    154\u001b[0m \u001b[1;33m\u001b[0m\u001b[0m\n",
      "\u001b[1;32m~\\Anaconda3\\lib\\site-packages\\torch\\nn\\parallel\\data_parallel.py\u001b[0m in \u001b[0;36mparallel_apply\u001b[1;34m(self, replicas, inputs, kwargs)\u001b[0m\n\u001b[0;32m    160\u001b[0m \u001b[1;33m\u001b[0m\u001b[0m\n\u001b[0;32m    161\u001b[0m     \u001b[1;32mdef\u001b[0m \u001b[0mparallel_apply\u001b[0m\u001b[1;33m(\u001b[0m\u001b[0mself\u001b[0m\u001b[1;33m,\u001b[0m \u001b[0mreplicas\u001b[0m\u001b[1;33m,\u001b[0m \u001b[0minputs\u001b[0m\u001b[1;33m,\u001b[0m \u001b[0mkwargs\u001b[0m\u001b[1;33m)\u001b[0m\u001b[1;33m:\u001b[0m\u001b[1;33m\u001b[0m\u001b[1;33m\u001b[0m\u001b[0m\n\u001b[1;32m--> 162\u001b[1;33m         \u001b[1;32mreturn\u001b[0m \u001b[0mparallel_apply\u001b[0m\u001b[1;33m(\u001b[0m\u001b[0mreplicas\u001b[0m\u001b[1;33m,\u001b[0m \u001b[0minputs\u001b[0m\u001b[1;33m,\u001b[0m \u001b[0mkwargs\u001b[0m\u001b[1;33m,\u001b[0m \u001b[0mself\u001b[0m\u001b[1;33m.\u001b[0m\u001b[0mdevice_ids\u001b[0m\u001b[1;33m[\u001b[0m\u001b[1;33m:\u001b[0m\u001b[0mlen\u001b[0m\u001b[1;33m(\u001b[0m\u001b[0mreplicas\u001b[0m\u001b[1;33m)\u001b[0m\u001b[1;33m]\u001b[0m\u001b[1;33m)\u001b[0m\u001b[1;33m\u001b[0m\u001b[1;33m\u001b[0m\u001b[0m\n\u001b[0m\u001b[0;32m    163\u001b[0m \u001b[1;33m\u001b[0m\u001b[0m\n\u001b[0;32m    164\u001b[0m     \u001b[1;32mdef\u001b[0m \u001b[0mgather\u001b[0m\u001b[1;33m(\u001b[0m\u001b[0mself\u001b[0m\u001b[1;33m,\u001b[0m \u001b[0moutputs\u001b[0m\u001b[1;33m,\u001b[0m \u001b[0moutput_device\u001b[0m\u001b[1;33m)\u001b[0m\u001b[1;33m:\u001b[0m\u001b[1;33m\u001b[0m\u001b[1;33m\u001b[0m\u001b[0m\n",
      "\u001b[1;32m~\\Anaconda3\\lib\\site-packages\\torch\\nn\\parallel\\parallel_apply.py\u001b[0m in \u001b[0;36mparallel_apply\u001b[1;34m(modules, inputs, kwargs_tup, devices)\u001b[0m\n\u001b[0;32m     83\u001b[0m         \u001b[0moutput\u001b[0m \u001b[1;33m=\u001b[0m \u001b[0mresults\u001b[0m\u001b[1;33m[\u001b[0m\u001b[0mi\u001b[0m\u001b[1;33m]\u001b[0m\u001b[1;33m\u001b[0m\u001b[1;33m\u001b[0m\u001b[0m\n\u001b[0;32m     84\u001b[0m         \u001b[1;32mif\u001b[0m \u001b[0misinstance\u001b[0m\u001b[1;33m(\u001b[0m\u001b[0moutput\u001b[0m\u001b[1;33m,\u001b[0m \u001b[0mExceptionWrapper\u001b[0m\u001b[1;33m)\u001b[0m\u001b[1;33m:\u001b[0m\u001b[1;33m\u001b[0m\u001b[1;33m\u001b[0m\u001b[0m\n\u001b[1;32m---> 85\u001b[1;33m             \u001b[0moutput\u001b[0m\u001b[1;33m.\u001b[0m\u001b[0mreraise\u001b[0m\u001b[1;33m(\u001b[0m\u001b[1;33m)\u001b[0m\u001b[1;33m\u001b[0m\u001b[1;33m\u001b[0m\u001b[0m\n\u001b[0m\u001b[0;32m     86\u001b[0m         \u001b[0moutputs\u001b[0m\u001b[1;33m.\u001b[0m\u001b[0mappend\u001b[0m\u001b[1;33m(\u001b[0m\u001b[0moutput\u001b[0m\u001b[1;33m)\u001b[0m\u001b[1;33m\u001b[0m\u001b[1;33m\u001b[0m\u001b[0m\n\u001b[0;32m     87\u001b[0m     \u001b[1;32mreturn\u001b[0m \u001b[0moutputs\u001b[0m\u001b[1;33m\u001b[0m\u001b[1;33m\u001b[0m\u001b[0m\n",
      "\u001b[1;32m~\\Anaconda3\\lib\\site-packages\\torch\\_utils.py\u001b[0m in \u001b[0;36mreraise\u001b[1;34m(self)\u001b[0m\n\u001b[0;32m    383\u001b[0m             \u001b[1;31m# (https://bugs.python.org/issue2651), so we work around it.\u001b[0m\u001b[1;33m\u001b[0m\u001b[1;33m\u001b[0m\u001b[1;33m\u001b[0m\u001b[0m\n\u001b[0;32m    384\u001b[0m             \u001b[0mmsg\u001b[0m \u001b[1;33m=\u001b[0m \u001b[0mKeyErrorMessage\u001b[0m\u001b[1;33m(\u001b[0m\u001b[0mmsg\u001b[0m\u001b[1;33m)\u001b[0m\u001b[1;33m\u001b[0m\u001b[1;33m\u001b[0m\u001b[0m\n\u001b[1;32m--> 385\u001b[1;33m         \u001b[1;32mraise\u001b[0m \u001b[0mself\u001b[0m\u001b[1;33m.\u001b[0m\u001b[0mexc_type\u001b[0m\u001b[1;33m(\u001b[0m\u001b[0mmsg\u001b[0m\u001b[1;33m)\u001b[0m\u001b[1;33m\u001b[0m\u001b[1;33m\u001b[0m\u001b[0m\n\u001b[0m",
      "\u001b[1;31mRuntimeError\u001b[0m: Caught RuntimeError in replica 0 on device 0.\nOriginal Traceback (most recent call last):\n  File \"C:\\Users\\Windows\\Anaconda3\\lib\\site-packages\\torch\\nn\\parallel\\parallel_apply.py\", line 60, in _worker\n    output = module(*input, **kwargs)\n  File \"C:\\Users\\Windows\\Anaconda3\\lib\\site-packages\\torch\\nn\\modules\\module.py\", line 541, in __call__\n    result = self.forward(*input, **kwargs)\n  File \"C:\\Users\\Windows\\Anaconda3\\lib\\site-packages\\torchvision\\models\\video\\resnet.py\", line 230, in forward\n    x = self.layer1(x)\n  File \"C:\\Users\\Windows\\Anaconda3\\lib\\site-packages\\torch\\nn\\modules\\module.py\", line 541, in __call__\n    result = self.forward(*input, **kwargs)\n  File \"C:\\Users\\Windows\\Anaconda3\\lib\\site-packages\\torch\\nn\\modules\\container.py\", line 92, in forward\n    input = module(input)\n  File \"C:\\Users\\Windows\\Anaconda3\\lib\\site-packages\\torch\\nn\\modules\\module.py\", line 541, in __call__\n    result = self.forward(*input, **kwargs)\n  File \"C:\\Users\\Windows\\Anaconda3\\lib\\site-packages\\torchvision\\models\\video\\resnet.py\", line 107, in forward\n    out = self.conv2(out)\n  File \"C:\\Users\\Windows\\Anaconda3\\lib\\site-packages\\torch\\nn\\modules\\module.py\", line 541, in __call__\n    result = self.forward(*input, **kwargs)\n  File \"C:\\Users\\Windows\\Anaconda3\\lib\\site-packages\\torch\\nn\\modules\\container.py\", line 92, in forward\n    input = module(input)\n  File \"C:\\Users\\Windows\\Anaconda3\\lib\\site-packages\\torch\\nn\\modules\\module.py\", line 541, in __call__\n    result = self.forward(*input, **kwargs)\n  File \"C:\\Users\\Windows\\Anaconda3\\lib\\site-packages\\torch\\nn\\modules\\container.py\", line 92, in forward\n    input = module(input)\n  File \"C:\\Users\\Windows\\Anaconda3\\lib\\site-packages\\torch\\nn\\modules\\module.py\", line 541, in __call__\n    result = self.forward(*input, **kwargs)\n  File \"C:\\Users\\Windows\\Anaconda3\\lib\\site-packages\\torch\\nn\\modules\\batchnorm.py\", line 81, in forward\n    exponential_average_factor, self.eps)\n  File \"C:\\Users\\Windows\\Anaconda3\\lib\\site-packages\\torch\\nn\\functional.py\", line 1670, in batch_norm\n    training, momentum, eps, torch.backends.cudnn.enabled\nRuntimeError: CUDA out of memory. Tried to allocate 690.00 MiB (GPU 0; 11.00 GiB total capacity; 8.12 GiB already allocated; 142.59 MiB free; 151.89 MiB cached)\n"
     ]
    }
   ],
   "source": [
    "# Training Classification Model \n",
    "# 6 classes\n",
    "# Sweep of sizes\n",
    "\n",
    "for i in [ 4, 5]:\n",
    "    \n",
    "    current_h = resolution_h * i \n",
    "    current_w = resolution_w * i \n",
    "    print(i, current_h, current_w)\n",
    "    \n",
    "    torch.cuda.empty_cache()\n",
    "\n",
    "    classifications = \"D:\\\\ExpertCohortsFullRez\\\\Hypertrophy-Manifest.csv\"\n",
    "\n",
    "    categories = ['Amyloid_Filenames', 'AS_Filenames', 'Athletes_Filenames', 'CrNativeRez', 'HCM_Filenames', 'HTN_Filenames']\n",
    "\n",
    "\n",
    "    device = torch.device(\"cuda\")\n",
    "\n",
    "    train_dataset = Echo.Echo(root = \"D:\\\\ExpertCohortsFullRez\\\\CombinedForAmyloidTraining\",\n",
    "                            split = \"train\",\n",
    "                            target_type = \"Classification\",\n",
    "                            length = frames, \n",
    "                            period = period,                 \n",
    "                            resolution_h = current_h,\n",
    "                            resolution_w = current_w,                                 \n",
    "                            classification_file = classifications,\n",
    "                            num_classes = 6, \n",
    "                            categories = categories)\n",
    "\n",
    "    train_dataloader = torch.utils.data.DataLoader(train_dataset, \n",
    "                                             batch_size = 2  , \n",
    "                                             num_workers = 10,\n",
    "                                             shuffle = True, \n",
    "                                             pin_memory=(device.type == \"cuda\"))\n",
    "\n",
    "\n",
    "    val_dataset = Echo.Echo(root = \"D:\\\\ExpertCohortsFullRez\\\\CombinedForAmyloidTraining\",\n",
    "                            split = \"val\",\n",
    "                            target_type = \"Classification\",\n",
    "                            length = frames, \n",
    "                            period = period,\n",
    "                            resolution_h = current_h,\n",
    "                            resolution_w = current_w,       \n",
    "                            classification_file = classifications,\n",
    "                            num_classes = 6, \n",
    "                            categories = categories)\n",
    "\n",
    "    val_dataloader = torch.utils.data.DataLoader(val_dataset, \n",
    "                                             batch_size = 2 , \n",
    "                                             num_workers = 10,\n",
    "                                             shuffle = True, \n",
    "                                             pin_memory=(device.type == \"cuda\"))\n",
    "\n",
    "    dataloaders = {'train':train_dataloader, 'val':val_dataloader}\n",
    "\n",
    "\n",
    "    model = torchvision.models.video.r2plus1d_18(pretrained=False, num_classes = 6) #r3d_18\n",
    "\n",
    "    startingEpoch = 0\n",
    "    startingBestLoss = 100000\n",
    "\n",
    "    priorCheckpoint =  os.path.join(\"C:\\\\Datasets\\\\checkpoints\", \"amyloid_rez\"+str(current_h)+'x'+str(current_w)+\"x\"+str(frames)+\"frames_CEloss_checkpoint.pt\")\n",
    "\n",
    "    toGPU = torch.cuda.is_available()\n",
    "    #toGPU = False\n",
    "\n",
    "    if toGPU:\n",
    "        print(\"cuda is available\")\n",
    "        device = torch.device(\"cuda\")\n",
    "        model = torch.nn.DataParallel(model)\n",
    "        model.to(device)\n",
    "\n",
    "    if os.path.exists(priorCheckpoint):   \n",
    "        if toGPU:\n",
    "            print(\"loading weights\")\n",
    "            checkpoint = torch.load(priorCheckpoint)\n",
    "            model.load_state_dict(checkpoint['state_dict'])\n",
    "            startingEpoch = checkpoint['epoch']\n",
    "            startingBestLoss = checkpoint['best_loss']\n",
    "        else:\n",
    "            print(\"cuda is not available, cpu weights\")\n",
    "            device = torch.device(\"cpu\")\n",
    "            checkpoint = torch.load(priorCheckpoint, map_location = \"cpu\")\n",
    "            state_dict_cpu = {k[7:]: v for (k, v) in checkpoint['state_dict'].items()}\n",
    "            model.load_state_dict(state_dict_cpu)\n",
    "            startingEpoch = checkpoint['epoch']\n",
    "            startingBestLoss = checkpoint['best_loss']\n",
    "\n",
    "    learning_rate = 1e-4\n",
    "    optim = torch.optim.Adam(model.parameters(), lr=learning_rate)\n",
    "    bestLoss = startingBestLoss\n",
    "\n",
    "    priorLines = None\n",
    "    logFilename = os.path.join(amyloidpath, \"scripts\", \"log_AmyloidVideoSweep\"+str(current_h)+'x'+str(current_w)+\".csv\")\n",
    "\n",
    "\n",
    "    if os.path.exists(\"LETS RESTART\"):\n",
    "        with open(logFilename, 'r') as output:\n",
    "            priorLines = output.readlines()\n",
    "\n",
    "    # with open(logFilename, 'w') as output:\n",
    "    #     for line in priorLines:\n",
    "    #         output.write(line)\n",
    "\n",
    "    with open(logFilename, 'w') as output:\n",
    "        for epoch in range(startingEpoch + 1, num_epochs):\n",
    "            if priorLines is not None:\n",
    "                for line in priorLines:\n",
    "                    output.write(line)\n",
    "                    print(line)\n",
    "\n",
    "            for phase in dataloaders.keys():\n",
    "                total = 0\n",
    "                n = 0\n",
    "\n",
    "                with torch.set_grad_enabled(phase == \"train\"):\n",
    "                    with tqdm.tqdm(total = len(dataloaders[phase])) as progressbar:\n",
    "                        for i, (x, outcome) in enumerate(dataloaders[phase]):\n",
    "                            if verbose:\n",
    "                                print(i, x.shape, outcome.shape)\n",
    "\n",
    "                            x = x.to(device)\n",
    "                            outcome = outcome.to(device)\n",
    "\n",
    "                            p = model(x)#[\"out\"]\n",
    "\n",
    "                            if verbose:\n",
    "                                print( x.shape, p.shape, outcome.shape)\n",
    "\n",
    "                            loss = lossfn(p, outcome)\n",
    "\n",
    "                            total += loss.item()\n",
    "                            n += x.shape[0]\n",
    "\n",
    "                            progressbar.set_postfix_str(phase +\"{:.1f} {:.4f} ({:.4f})\".format(epoch, total / n, loss.item() /  x.shape[0]))\n",
    "                            progressbar.update()\n",
    "\n",
    "                            if(phase == 'train'):\n",
    "                                optim.zero_grad()\n",
    "                                loss.backward()\n",
    "                                optim.step()\n",
    "\n",
    "                output.write(phase + \",\" + str(epoch) + \",\" + str(total/n) + \"\\n\")\n",
    "\n",
    "                save = {\n",
    "                    'epoch': epoch,\n",
    "                    'state_dict': model.state_dict(),\n",
    "                    'period': period,\n",
    "                    'frames':frames,\n",
    "                    'best_loss': bestLoss,\n",
    "                    'loss': total / n,\n",
    "                    'opt_dict': optim.state_dict()\n",
    "                    }\n",
    "\n",
    "                torch.save(save, os.path.join(\"C:\\\\Datasets\\\\checkpoints\", \"amyloid_rez\"+str(current_h)+'x'+str(current_w)+\"x\"+str(frames)+\"frames_CEloss_checkpoint.pt\"))\n",
    "\n",
    "                if total / n < bestLoss and phase == \"val\":\n",
    "                    torch.save(save, os.path.join(\"C:\\\\Datasets\\\\checkpoints\", \"amyloid_rez\"+str(current_h)+'x'+str(current_w)+\"x\"+str(frames)+\"frames_CEloss_best.pt\"))\n",
    "                    bestLoss = total / n\n",
    "                    print(\"this is the best yet\")"
   ]
  },
  {
   "cell_type": "code",
   "execution_count": 2,
   "metadata": {
    "scrolled": true
   },
   "outputs": [
    {
     "name": "stdout",
     "output_type": "stream",
     "text": [
      "3 336 336\n",
      "['Amyloid_Filenames', 'AS_Filenames', 'Athletes_Filenames', 'CrNativeRez', 'HCM_Filenames', 'HTN_Filenames'] D:\\ExpertCohortsFullRez\\Hypertrophy-Manifest.csv\n",
      "['Amyloid_Filenames', 'AS_Filenames', 'Athletes_Filenames', 'CrNativeRez', 'HCM_Filenames', 'HTN_Filenames'] D:\\ExpertCohortsFullRez\\Hypertrophy-Manifest.csv\n",
      "cuda is available\n"
     ]
    },
    {
     "name": "stderr",
     "output_type": "stream",
     "text": [
      "  0%|                                                    | 1/3651 [00:36<36:52:46, 36.37s/it, train1.0 0.9353 (0.9353)]C:\\Users\\Windows\\Anaconda3\\lib\\site-packages\\torch\\cuda\\nccl.py:24: UserWarning: PyTorch is not compiled with NCCL support\n",
      "  warnings.warn('PyTorch is not compiled with NCCL support')\n",
      "100%|██████████████████████████████████████████████████| 3651/3651 [1:30:01<00:00,  1.48s/it, train1.0 0.7703 (0.9843)]\n",
      "100%|████████████████████████████████████████████████████████| 766/766 [03:23<00:00,  3.76it/s, val1.0 0.7504 (0.4278)]\n"
     ]
    },
    {
     "name": "stdout",
     "output_type": "stream",
     "text": [
      "this is the best yet\n"
     ]
    },
    {
     "name": "stderr",
     "output_type": "stream",
     "text": [
      "100%|██████████████████████████████████████████████████| 3651/3651 [1:29:52<00:00,  1.48s/it, train2.0 0.7627 (0.9590)]\n",
      "100%|████████████████████████████████████████████████████████| 766/766 [03:21<00:00,  3.80it/s, val2.0 0.7342 (0.9144)]\n"
     ]
    },
    {
     "name": "stdout",
     "output_type": "stream",
     "text": [
      "this is the best yet\n"
     ]
    },
    {
     "name": "stderr",
     "output_type": "stream",
     "text": [
      "100%|██████████████████████████████████████████████████| 3651/3651 [1:29:46<00:00,  1.48s/it, train3.0 0.7442 (4.2896)]\n",
      "100%|████████████████████████████████████████████████████████| 766/766 [03:23<00:00,  3.76it/s, val3.0 0.7271 (0.7785)]\n"
     ]
    },
    {
     "name": "stdout",
     "output_type": "stream",
     "text": [
      "this is the best yet\n"
     ]
    },
    {
     "name": "stderr",
     "output_type": "stream",
     "text": [
      "100%|██████████████████████████████████████████████████| 3651/3651 [1:29:44<00:00,  1.47s/it, train4.0 0.7253 (1.1658)]\n",
      "100%|████████████████████████████████████████████████████████| 766/766 [03:24<00:00,  3.74it/s, val4.0 0.7123 (1.0224)]\n"
     ]
    },
    {
     "name": "stdout",
     "output_type": "stream",
     "text": [
      "this is the best yet\n"
     ]
    },
    {
     "name": "stderr",
     "output_type": "stream",
     "text": [
      "100%|██████████████████████████████████████████████████| 3651/3651 [1:29:32<00:00,  1.47s/it, train5.0 0.7092 (2.4279)]\n",
      "100%|████████████████████████████████████████████████████████| 766/766 [03:24<00:00,  3.74it/s, val5.0 0.6970 (0.2947)]\n"
     ]
    },
    {
     "name": "stdout",
     "output_type": "stream",
     "text": [
      "this is the best yet\n"
     ]
    },
    {
     "name": "stderr",
     "output_type": "stream",
     "text": [
      "100%|██████████████████████████████████████████████████| 3651/3651 [1:29:22<00:00,  1.47s/it, train6.0 0.6992 (1.4895)]\n",
      "100%|████████████████████████████████████████████████████████| 766/766 [03:23<00:00,  3.76it/s, val6.0 0.6780 (0.4744)]\n"
     ]
    },
    {
     "name": "stdout",
     "output_type": "stream",
     "text": [
      "this is the best yet\n"
     ]
    },
    {
     "name": "stderr",
     "output_type": "stream",
     "text": [
      "100%|██████████████████████████████████████████████████| 3651/3651 [1:29:45<00:00,  1.47s/it, train7.0 0.6865 (1.5477)]\n",
      "100%|████████████████████████████████████████████████████████| 766/766 [03:24<00:00,  3.74it/s, val7.0 0.6692 (0.3431)]\n"
     ]
    },
    {
     "name": "stdout",
     "output_type": "stream",
     "text": [
      "this is the best yet\n"
     ]
    },
    {
     "name": "stderr",
     "output_type": "stream",
     "text": [
      "100%|██████████████████████████████████████████████████| 3651/3651 [1:29:46<00:00,  1.48s/it, train8.0 0.6781 (0.2825)]\n",
      "100%|████████████████████████████████████████████████████████| 766/766 [03:25<00:00,  3.73it/s, val8.0 0.6675 (0.8954)]\n"
     ]
    },
    {
     "name": "stdout",
     "output_type": "stream",
     "text": [
      "this is the best yet\n"
     ]
    },
    {
     "name": "stderr",
     "output_type": "stream",
     "text": [
      "100%|██████████████████████████████████████████████████| 3651/3651 [1:29:50<00:00,  1.48s/it, train9.0 0.6694 (1.0516)]\n",
      "100%|████████████████████████████████████████████████████████| 766/766 [03:27<00:00,  3.69it/s, val9.0 0.6587 (1.1452)]\n"
     ]
    },
    {
     "name": "stdout",
     "output_type": "stream",
     "text": [
      "this is the best yet\n"
     ]
    },
    {
     "name": "stderr",
     "output_type": "stream",
     "text": [
      "100%|█████████████████████████████████████████████████| 3651/3651 [1:29:53<00:00,  1.48s/it, train10.0 0.6620 (1.9608)]\n",
      "100%|███████████████████████████████████████████████████████| 766/766 [03:21<00:00,  3.80it/s, val10.0 0.6787 (0.7810)]\n",
      "100%|█████████████████████████████████████████████████| 3651/3651 [1:29:55<00:00,  1.48s/it, train11.0 0.6539 (1.8820)]\n",
      "100%|███████████████████████████████████████████████████████| 766/766 [03:25<00:00,  3.73it/s, val11.0 0.6505 (0.4916)]\n"
     ]
    },
    {
     "name": "stdout",
     "output_type": "stream",
     "text": [
      "this is the best yet\n"
     ]
    },
    {
     "name": "stderr",
     "output_type": "stream",
     "text": [
      "100%|█████████████████████████████████████████████████| 3651/3651 [1:30:02<00:00,  1.48s/it, train12.0 0.6463 (0.8231)]\n",
      "100%|███████████████████████████████████████████████████████| 766/766 [03:21<00:00,  3.81it/s, val12.0 0.6583 (0.4700)]\n",
      "100%|█████████████████████████████████████████████████| 3651/3651 [1:29:46<00:00,  1.48s/it, train13.0 0.6403 (0.8046)]\n",
      "100%|███████████████████████████████████████████████████████| 766/766 [03:25<00:00,  3.73it/s, val13.0 0.6440 (0.6183)]\n"
     ]
    },
    {
     "name": "stdout",
     "output_type": "stream",
     "text": [
      "this is the best yet\n"
     ]
    },
    {
     "name": "stderr",
     "output_type": "stream",
     "text": [
      "100%|█████████████████████████████████████████████████| 3651/3651 [1:29:47<00:00,  1.48s/it, train14.0 0.6350 (0.7065)]\n",
      "100%|███████████████████████████████████████████████████████| 766/766 [03:26<00:00,  3.71it/s, val14.0 0.6593 (0.8611)]\n",
      "100%|█████████████████████████████████████████████████| 3651/3651 [1:29:40<00:00,  1.47s/it, train15.0 0.6279 (0.9881)]\n",
      "100%|███████████████████████████████████████████████████████| 766/766 [03:25<00:00,  3.74it/s, val15.0 0.6361 (0.6104)]\n"
     ]
    },
    {
     "name": "stdout",
     "output_type": "stream",
     "text": [
      "this is the best yet\n"
     ]
    },
    {
     "name": "stderr",
     "output_type": "stream",
     "text": [
      "100%|█████████████████████████████████████████████████| 3651/3651 [1:29:49<00:00,  1.48s/it, train16.0 0.6202 (1.2143)]\n",
      "100%|███████████████████████████████████████████████████████| 766/766 [03:23<00:00,  3.76it/s, val16.0 0.6213 (0.8330)]\n"
     ]
    },
    {
     "name": "stdout",
     "output_type": "stream",
     "text": [
      "this is the best yet\n"
     ]
    },
    {
     "name": "stderr",
     "output_type": "stream",
     "text": [
      "100%|█████████████████████████████████████████████████| 3651/3651 [1:29:55<00:00,  1.48s/it, train17.0 0.6157 (1.8416)]\n",
      "100%|███████████████████████████████████████████████████████| 766/766 [03:23<00:00,  3.76it/s, val17.0 0.6297 (0.9926)]\n",
      "100%|█████████████████████████████████████████████████| 3651/3651 [1:29:58<00:00,  1.48s/it, train18.0 0.6069 (0.8774)]\n",
      "100%|███████████████████████████████████████████████████████| 766/766 [03:23<00:00,  3.76it/s, val18.0 0.6190 (0.5547)]\n"
     ]
    },
    {
     "name": "stdout",
     "output_type": "stream",
     "text": [
      "this is the best yet\n"
     ]
    },
    {
     "name": "stderr",
     "output_type": "stream",
     "text": [
      "100%|█████████████████████████████████████████████████| 3651/3651 [1:29:55<00:00,  1.48s/it, train19.0 0.5992 (0.6880)]\n",
      "100%|███████████████████████████████████████████████████████| 766/766 [03:22<00:00,  3.78it/s, val19.0 0.6238 (0.8365)]\n",
      "100%|█████████████████████████████████████████████████| 3651/3651 [1:29:55<00:00,  1.48s/it, train20.0 0.5925 (0.2649)]\n",
      "100%|███████████████████████████████████████████████████████| 766/766 [03:22<00:00,  3.78it/s, val20.0 0.6007 (0.4436)]\n"
     ]
    },
    {
     "name": "stdout",
     "output_type": "stream",
     "text": [
      "this is the best yet\n"
     ]
    },
    {
     "name": "stderr",
     "output_type": "stream",
     "text": [
      "100%|█████████████████████████████████████████████████| 3651/3651 [1:29:58<00:00,  1.48s/it, train21.0 0.5882 (2.1884)]\n",
      "100%|███████████████████████████████████████████████████████| 766/766 [03:23<00:00,  3.77it/s, val21.0 0.6324 (0.7592)]\n",
      "100%|█████████████████████████████████████████████████| 3651/3651 [1:29:57<00:00,  1.48s/it, train22.0 0.5787 (3.7431)]\n",
      "100%|███████████████████████████████████████████████████████| 766/766 [03:23<00:00,  3.76it/s, val22.0 0.5999 (0.4378)]\n"
     ]
    },
    {
     "name": "stdout",
     "output_type": "stream",
     "text": [
      "this is the best yet\n"
     ]
    },
    {
     "name": "stderr",
     "output_type": "stream",
     "text": [
      "100%|█████████████████████████████████████████████████| 3651/3651 [1:30:03<00:00,  1.48s/it, train23.0 0.5769 (0.2018)]\n",
      "100%|███████████████████████████████████████████████████████| 766/766 [03:21<00:00,  3.80it/s, val23.0 0.5849 (0.5620)]\n"
     ]
    },
    {
     "name": "stdout",
     "output_type": "stream",
     "text": [
      "this is the best yet\n"
     ]
    },
    {
     "name": "stderr",
     "output_type": "stream",
     "text": [
      "100%|█████████████████████████████████████████████████| 3651/3651 [1:29:54<00:00,  1.48s/it, train24.0 0.5670 (0.5877)]\n",
      "100%|███████████████████████████████████████████████████████| 766/766 [03:20<00:00,  3.82it/s, val24.0 0.5834 (0.7176)]\n"
     ]
    },
    {
     "name": "stdout",
     "output_type": "stream",
     "text": [
      "this is the best yet\n"
     ]
    },
    {
     "name": "stderr",
     "output_type": "stream",
     "text": [
      "100%|█████████████████████████████████████████████████| 3651/3651 [1:29:54<00:00,  1.48s/it, train25.0 0.5609 (1.6820)]\n",
      "100%|███████████████████████████████████████████████████████| 766/766 [03:21<00:00,  3.79it/s, val25.0 0.5963 (0.3946)]\n",
      "100%|█████████████████████████████████████████████████| 3651/3651 [1:29:57<00:00,  1.48s/it, train26.0 0.5543 (0.2862)]\n",
      "100%|███████████████████████████████████████████████████████| 766/766 [03:21<00:00,  3.79it/s, val26.0 0.5947 (0.1477)]\n",
      "100%|█████████████████████████████████████████████████| 3651/3651 [1:30:00<00:00,  1.48s/it, train27.0 0.5453 (0.4859)]\n",
      "100%|███████████████████████████████████████████████████████| 766/766 [03:23<00:00,  3.76it/s, val27.0 0.6115 (0.1606)]\n",
      "100%|█████████████████████████████████████████████████| 3651/3651 [1:30:02<00:00,  1.48s/it, train28.0 0.5399 (1.5203)]\n",
      "100%|███████████████████████████████████████████████████████| 766/766 [03:23<00:00,  3.76it/s, val28.0 0.6008 (0.4038)]\n",
      "100%|█████████████████████████████████████████████████| 3651/3651 [1:30:02<00:00,  1.48s/it, train29.0 0.5341 (1.4157)]\n",
      "100%|███████████████████████████████████████████████████████| 766/766 [03:22<00:00,  3.78it/s, val29.0 0.5659 (0.3714)]\n"
     ]
    },
    {
     "name": "stdout",
     "output_type": "stream",
     "text": [
      "this is the best yet\n"
     ]
    },
    {
     "name": "stderr",
     "output_type": "stream",
     "text": [
      "100%|█████████████████████████████████████████████████| 3651/3651 [1:29:59<00:00,  1.48s/it, train30.0 0.5284 (0.4613)]\n",
      "100%|███████████████████████████████████████████████████████| 766/766 [03:26<00:00,  3.71it/s, val30.0 0.5682 (0.7362)]\n",
      "100%|█████████████████████████████████████████████████| 3651/3651 [1:30:00<00:00,  1.48s/it, train31.0 0.5207 (0.0629)]\n",
      "100%|███████████████████████████████████████████████████████| 766/766 [03:23<00:00,  3.76it/s, val31.0 0.5640 (0.0642)]\n"
     ]
    },
    {
     "name": "stdout",
     "output_type": "stream",
     "text": [
      "this is the best yet\n"
     ]
    },
    {
     "name": "stderr",
     "output_type": "stream",
     "text": [
      "100%|█████████████████████████████████████████████████| 3651/3651 [1:30:03<00:00,  1.48s/it, train32.0 0.5103 (0.9499)]\n",
      "100%|███████████████████████████████████████████████████████| 766/766 [03:24<00:00,  3.74it/s, val32.0 0.5715 (0.4893)]\n",
      "100%|█████████████████████████████████████████████████| 3651/3651 [1:29:56<00:00,  1.48s/it, train33.0 0.5036 (1.4217)]\n",
      "100%|███████████████████████████████████████████████████████| 766/766 [03:22<00:00,  3.77it/s, val33.0 0.5704 (0.5459)]\n",
      "100%|█████████████████████████████████████████████████| 3651/3651 [1:29:53<00:00,  1.48s/it, train34.0 0.4930 (0.9996)]\n",
      "100%|███████████████████████████████████████████████████████| 766/766 [03:22<00:00,  3.78it/s, val34.0 0.5748 (0.0516)]\n",
      "100%|█████████████████████████████████████████████████| 3651/3651 [1:29:49<00:00,  1.48s/it, train35.0 0.4892 (1.1214)]\n",
      "100%|███████████████████████████████████████████████████████| 766/766 [03:21<00:00,  3.80it/s, val35.0 0.5667 (0.4501)]\n",
      "100%|█████████████████████████████████████████████████| 3651/3651 [1:29:34<00:00,  1.47s/it, train36.0 0.4780 (1.8293)]\n",
      "100%|███████████████████████████████████████████████████████| 766/766 [03:19<00:00,  3.83it/s, val36.0 0.5602 (0.5706)]\n"
     ]
    },
    {
     "name": "stdout",
     "output_type": "stream",
     "text": [
      "this is the best yet\n"
     ]
    },
    {
     "name": "stderr",
     "output_type": "stream",
     "text": [
      "100%|█████████████████████████████████████████████████| 3651/3651 [1:29:47<00:00,  1.48s/it, train37.0 0.4716 (0.2131)]\n",
      "100%|███████████████████████████████████████████████████████| 766/766 [03:21<00:00,  3.80it/s, val37.0 0.5649 (0.2084)]\n",
      "100%|█████████████████████████████████████████████████| 3651/3651 [1:30:06<00:00,  1.48s/it, train38.0 0.4643 (0.5237)]\n",
      "100%|███████████████████████████████████████████████████████| 766/766 [03:22<00:00,  3.79it/s, val38.0 0.5567 (0.5289)]\n"
     ]
    },
    {
     "name": "stdout",
     "output_type": "stream",
     "text": [
      "this is the best yet\n"
     ]
    },
    {
     "name": "stderr",
     "output_type": "stream",
     "text": [
      "100%|█████████████████████████████████████████████████| 3651/3651 [1:29:51<00:00,  1.48s/it, train39.0 0.4556 (0.2876)]\n",
      "100%|███████████████████████████████████████████████████████| 766/766 [03:24<00:00,  3.75it/s, val39.0 0.5425 (0.3057)]\n"
     ]
    },
    {
     "name": "stdout",
     "output_type": "stream",
     "text": [
      "this is the best yet\n",
      "4 448 448\n",
      "['Amyloid_Filenames', 'AS_Filenames', 'Athletes_Filenames', 'CrNativeRez', 'HCM_Filenames', 'HTN_Filenames'] D:\\ExpertCohortsFullRez\\Hypertrophy-Manifest.csv\n",
      "['Amyloid_Filenames', 'AS_Filenames', 'Athletes_Filenames', 'CrNativeRez', 'HCM_Filenames', 'HTN_Filenames'] D:\\ExpertCohortsFullRez\\Hypertrophy-Manifest.csv\n",
      "cuda is available\n"
     ]
    },
    {
     "name": "stderr",
     "output_type": "stream",
     "text": [
      "  0%|                                                    | 1/3651 [00:36<36:41:21, 36.19s/it, train1.0 0.8537 (0.8537)]\n"
     ]
    },
    {
     "ename": "RuntimeError",
     "evalue": "Caught RuntimeError in replica 0 on device 0.\nOriginal Traceback (most recent call last):\n  File \"C:\\Users\\Windows\\Anaconda3\\lib\\site-packages\\torch\\nn\\parallel\\parallel_apply.py\", line 60, in _worker\n    output = module(*input, **kwargs)\n  File \"C:\\Users\\Windows\\Anaconda3\\lib\\site-packages\\torch\\nn\\modules\\module.py\", line 541, in __call__\n    result = self.forward(*input, **kwargs)\n  File \"C:\\Users\\Windows\\Anaconda3\\lib\\site-packages\\torchvision\\models\\video\\resnet.py\", line 233, in forward\n    x = self.layer4(x)\n  File \"C:\\Users\\Windows\\Anaconda3\\lib\\site-packages\\torch\\nn\\modules\\module.py\", line 541, in __call__\n    result = self.forward(*input, **kwargs)\n  File \"C:\\Users\\Windows\\Anaconda3\\lib\\site-packages\\torch\\nn\\modules\\container.py\", line 92, in forward\n    input = module(input)\n  File \"C:\\Users\\Windows\\Anaconda3\\lib\\site-packages\\torch\\nn\\modules\\module.py\", line 541, in __call__\n    result = self.forward(*input, **kwargs)\n  File \"C:\\Users\\Windows\\Anaconda3\\lib\\site-packages\\torchvision\\models\\video\\resnet.py\", line 107, in forward\n    out = self.conv2(out)\n  File \"C:\\Users\\Windows\\Anaconda3\\lib\\site-packages\\torch\\nn\\modules\\module.py\", line 541, in __call__\n    result = self.forward(*input, **kwargs)\n  File \"C:\\Users\\Windows\\Anaconda3\\lib\\site-packages\\torch\\nn\\modules\\container.py\", line 92, in forward\n    input = module(input)\n  File \"C:\\Users\\Windows\\Anaconda3\\lib\\site-packages\\torch\\nn\\modules\\module.py\", line 541, in __call__\n    result = self.forward(*input, **kwargs)\n  File \"C:\\Users\\Windows\\Anaconda3\\lib\\site-packages\\torch\\nn\\modules\\container.py\", line 92, in forward\n    input = module(input)\n  File \"C:\\Users\\Windows\\Anaconda3\\lib\\site-packages\\torch\\nn\\modules\\module.py\", line 541, in __call__\n    result = self.forward(*input, **kwargs)\n  File \"C:\\Users\\Windows\\Anaconda3\\lib\\site-packages\\torch\\nn\\modules\\batchnorm.py\", line 81, in forward\n    exponential_average_factor, self.eps)\n  File \"C:\\Users\\Windows\\Anaconda3\\lib\\site-packages\\torch\\nn\\functional.py\", line 1670, in batch_norm\n    training, momentum, eps, torch.backends.cudnn.enabled\nRuntimeError: CUDA out of memory. Tried to allocate 20.00 MiB (GPU 0; 11.00 GiB total capacity; 8.34 GiB already allocated; 14.59 MiB free; 47.48 MiB cached)\n",
     "output_type": "error",
     "traceback": [
      "\u001b[1;31m---------------------------------------------------------------------------\u001b[0m",
      "\u001b[1;31mRuntimeError\u001b[0m                              Traceback (most recent call last)",
      "\u001b[1;32m<ipython-input-2-32d18f413504>\u001b[0m in \u001b[0;36m<module>\u001b[1;34m\u001b[0m\n\u001b[0;32m    124\u001b[0m                             \u001b[0moutcome\u001b[0m \u001b[1;33m=\u001b[0m \u001b[0moutcome\u001b[0m\u001b[1;33m.\u001b[0m\u001b[0mto\u001b[0m\u001b[1;33m(\u001b[0m\u001b[0mdevice\u001b[0m\u001b[1;33m)\u001b[0m\u001b[1;33m\u001b[0m\u001b[1;33m\u001b[0m\u001b[0m\n\u001b[0;32m    125\u001b[0m \u001b[1;33m\u001b[0m\u001b[0m\n\u001b[1;32m--> 126\u001b[1;33m                             \u001b[0mp\u001b[0m \u001b[1;33m=\u001b[0m \u001b[0mmodel\u001b[0m\u001b[1;33m(\u001b[0m\u001b[0mx\u001b[0m\u001b[1;33m)\u001b[0m\u001b[1;31m#[\"out\"]\u001b[0m\u001b[1;33m\u001b[0m\u001b[1;33m\u001b[0m\u001b[0m\n\u001b[0m\u001b[0;32m    127\u001b[0m \u001b[1;33m\u001b[0m\u001b[0m\n\u001b[0;32m    128\u001b[0m                             \u001b[1;32mif\u001b[0m \u001b[0mverbose\u001b[0m\u001b[1;33m:\u001b[0m\u001b[1;33m\u001b[0m\u001b[1;33m\u001b[0m\u001b[0m\n",
      "\u001b[1;32m~\\Anaconda3\\lib\\site-packages\\torch\\nn\\modules\\module.py\u001b[0m in \u001b[0;36m__call__\u001b[1;34m(self, *input, **kwargs)\u001b[0m\n\u001b[0;32m    539\u001b[0m             \u001b[0mresult\u001b[0m \u001b[1;33m=\u001b[0m \u001b[0mself\u001b[0m\u001b[1;33m.\u001b[0m\u001b[0m_slow_forward\u001b[0m\u001b[1;33m(\u001b[0m\u001b[1;33m*\u001b[0m\u001b[0minput\u001b[0m\u001b[1;33m,\u001b[0m \u001b[1;33m**\u001b[0m\u001b[0mkwargs\u001b[0m\u001b[1;33m)\u001b[0m\u001b[1;33m\u001b[0m\u001b[1;33m\u001b[0m\u001b[0m\n\u001b[0;32m    540\u001b[0m         \u001b[1;32melse\u001b[0m\u001b[1;33m:\u001b[0m\u001b[1;33m\u001b[0m\u001b[1;33m\u001b[0m\u001b[0m\n\u001b[1;32m--> 541\u001b[1;33m             \u001b[0mresult\u001b[0m \u001b[1;33m=\u001b[0m \u001b[0mself\u001b[0m\u001b[1;33m.\u001b[0m\u001b[0mforward\u001b[0m\u001b[1;33m(\u001b[0m\u001b[1;33m*\u001b[0m\u001b[0minput\u001b[0m\u001b[1;33m,\u001b[0m \u001b[1;33m**\u001b[0m\u001b[0mkwargs\u001b[0m\u001b[1;33m)\u001b[0m\u001b[1;33m\u001b[0m\u001b[1;33m\u001b[0m\u001b[0m\n\u001b[0m\u001b[0;32m    542\u001b[0m         \u001b[1;32mfor\u001b[0m \u001b[0mhook\u001b[0m \u001b[1;32min\u001b[0m \u001b[0mself\u001b[0m\u001b[1;33m.\u001b[0m\u001b[0m_forward_hooks\u001b[0m\u001b[1;33m.\u001b[0m\u001b[0mvalues\u001b[0m\u001b[1;33m(\u001b[0m\u001b[1;33m)\u001b[0m\u001b[1;33m:\u001b[0m\u001b[1;33m\u001b[0m\u001b[1;33m\u001b[0m\u001b[0m\n\u001b[0;32m    543\u001b[0m             \u001b[0mhook_result\u001b[0m \u001b[1;33m=\u001b[0m \u001b[0mhook\u001b[0m\u001b[1;33m(\u001b[0m\u001b[0mself\u001b[0m\u001b[1;33m,\u001b[0m \u001b[0minput\u001b[0m\u001b[1;33m,\u001b[0m \u001b[0mresult\u001b[0m\u001b[1;33m)\u001b[0m\u001b[1;33m\u001b[0m\u001b[1;33m\u001b[0m\u001b[0m\n",
      "\u001b[1;32m~\\Anaconda3\\lib\\site-packages\\torch\\nn\\parallel\\data_parallel.py\u001b[0m in \u001b[0;36mforward\u001b[1;34m(self, *inputs, **kwargs)\u001b[0m\n\u001b[0;32m    150\u001b[0m             \u001b[1;32mreturn\u001b[0m \u001b[0mself\u001b[0m\u001b[1;33m.\u001b[0m\u001b[0mmodule\u001b[0m\u001b[1;33m(\u001b[0m\u001b[1;33m*\u001b[0m\u001b[0minputs\u001b[0m\u001b[1;33m[\u001b[0m\u001b[1;36m0\u001b[0m\u001b[1;33m]\u001b[0m\u001b[1;33m,\u001b[0m \u001b[1;33m**\u001b[0m\u001b[0mkwargs\u001b[0m\u001b[1;33m[\u001b[0m\u001b[1;36m0\u001b[0m\u001b[1;33m]\u001b[0m\u001b[1;33m)\u001b[0m\u001b[1;33m\u001b[0m\u001b[1;33m\u001b[0m\u001b[0m\n\u001b[0;32m    151\u001b[0m         \u001b[0mreplicas\u001b[0m \u001b[1;33m=\u001b[0m \u001b[0mself\u001b[0m\u001b[1;33m.\u001b[0m\u001b[0mreplicate\u001b[0m\u001b[1;33m(\u001b[0m\u001b[0mself\u001b[0m\u001b[1;33m.\u001b[0m\u001b[0mmodule\u001b[0m\u001b[1;33m,\u001b[0m \u001b[0mself\u001b[0m\u001b[1;33m.\u001b[0m\u001b[0mdevice_ids\u001b[0m\u001b[1;33m[\u001b[0m\u001b[1;33m:\u001b[0m\u001b[0mlen\u001b[0m\u001b[1;33m(\u001b[0m\u001b[0minputs\u001b[0m\u001b[1;33m)\u001b[0m\u001b[1;33m]\u001b[0m\u001b[1;33m)\u001b[0m\u001b[1;33m\u001b[0m\u001b[1;33m\u001b[0m\u001b[0m\n\u001b[1;32m--> 152\u001b[1;33m         \u001b[0moutputs\u001b[0m \u001b[1;33m=\u001b[0m \u001b[0mself\u001b[0m\u001b[1;33m.\u001b[0m\u001b[0mparallel_apply\u001b[0m\u001b[1;33m(\u001b[0m\u001b[0mreplicas\u001b[0m\u001b[1;33m,\u001b[0m \u001b[0minputs\u001b[0m\u001b[1;33m,\u001b[0m \u001b[0mkwargs\u001b[0m\u001b[1;33m)\u001b[0m\u001b[1;33m\u001b[0m\u001b[1;33m\u001b[0m\u001b[0m\n\u001b[0m\u001b[0;32m    153\u001b[0m         \u001b[1;32mreturn\u001b[0m \u001b[0mself\u001b[0m\u001b[1;33m.\u001b[0m\u001b[0mgather\u001b[0m\u001b[1;33m(\u001b[0m\u001b[0moutputs\u001b[0m\u001b[1;33m,\u001b[0m \u001b[0mself\u001b[0m\u001b[1;33m.\u001b[0m\u001b[0moutput_device\u001b[0m\u001b[1;33m)\u001b[0m\u001b[1;33m\u001b[0m\u001b[1;33m\u001b[0m\u001b[0m\n\u001b[0;32m    154\u001b[0m \u001b[1;33m\u001b[0m\u001b[0m\n",
      "\u001b[1;32m~\\Anaconda3\\lib\\site-packages\\torch\\nn\\parallel\\data_parallel.py\u001b[0m in \u001b[0;36mparallel_apply\u001b[1;34m(self, replicas, inputs, kwargs)\u001b[0m\n\u001b[0;32m    160\u001b[0m \u001b[1;33m\u001b[0m\u001b[0m\n\u001b[0;32m    161\u001b[0m     \u001b[1;32mdef\u001b[0m \u001b[0mparallel_apply\u001b[0m\u001b[1;33m(\u001b[0m\u001b[0mself\u001b[0m\u001b[1;33m,\u001b[0m \u001b[0mreplicas\u001b[0m\u001b[1;33m,\u001b[0m \u001b[0minputs\u001b[0m\u001b[1;33m,\u001b[0m \u001b[0mkwargs\u001b[0m\u001b[1;33m)\u001b[0m\u001b[1;33m:\u001b[0m\u001b[1;33m\u001b[0m\u001b[1;33m\u001b[0m\u001b[0m\n\u001b[1;32m--> 162\u001b[1;33m         \u001b[1;32mreturn\u001b[0m \u001b[0mparallel_apply\u001b[0m\u001b[1;33m(\u001b[0m\u001b[0mreplicas\u001b[0m\u001b[1;33m,\u001b[0m \u001b[0minputs\u001b[0m\u001b[1;33m,\u001b[0m \u001b[0mkwargs\u001b[0m\u001b[1;33m,\u001b[0m \u001b[0mself\u001b[0m\u001b[1;33m.\u001b[0m\u001b[0mdevice_ids\u001b[0m\u001b[1;33m[\u001b[0m\u001b[1;33m:\u001b[0m\u001b[0mlen\u001b[0m\u001b[1;33m(\u001b[0m\u001b[0mreplicas\u001b[0m\u001b[1;33m)\u001b[0m\u001b[1;33m]\u001b[0m\u001b[1;33m)\u001b[0m\u001b[1;33m\u001b[0m\u001b[1;33m\u001b[0m\u001b[0m\n\u001b[0m\u001b[0;32m    163\u001b[0m \u001b[1;33m\u001b[0m\u001b[0m\n\u001b[0;32m    164\u001b[0m     \u001b[1;32mdef\u001b[0m \u001b[0mgather\u001b[0m\u001b[1;33m(\u001b[0m\u001b[0mself\u001b[0m\u001b[1;33m,\u001b[0m \u001b[0moutputs\u001b[0m\u001b[1;33m,\u001b[0m \u001b[0moutput_device\u001b[0m\u001b[1;33m)\u001b[0m\u001b[1;33m:\u001b[0m\u001b[1;33m\u001b[0m\u001b[1;33m\u001b[0m\u001b[0m\n",
      "\u001b[1;32m~\\Anaconda3\\lib\\site-packages\\torch\\nn\\parallel\\parallel_apply.py\u001b[0m in \u001b[0;36mparallel_apply\u001b[1;34m(modules, inputs, kwargs_tup, devices)\u001b[0m\n\u001b[0;32m     83\u001b[0m         \u001b[0moutput\u001b[0m \u001b[1;33m=\u001b[0m \u001b[0mresults\u001b[0m\u001b[1;33m[\u001b[0m\u001b[0mi\u001b[0m\u001b[1;33m]\u001b[0m\u001b[1;33m\u001b[0m\u001b[1;33m\u001b[0m\u001b[0m\n\u001b[0;32m     84\u001b[0m         \u001b[1;32mif\u001b[0m \u001b[0misinstance\u001b[0m\u001b[1;33m(\u001b[0m\u001b[0moutput\u001b[0m\u001b[1;33m,\u001b[0m \u001b[0mExceptionWrapper\u001b[0m\u001b[1;33m)\u001b[0m\u001b[1;33m:\u001b[0m\u001b[1;33m\u001b[0m\u001b[1;33m\u001b[0m\u001b[0m\n\u001b[1;32m---> 85\u001b[1;33m             \u001b[0moutput\u001b[0m\u001b[1;33m.\u001b[0m\u001b[0mreraise\u001b[0m\u001b[1;33m(\u001b[0m\u001b[1;33m)\u001b[0m\u001b[1;33m\u001b[0m\u001b[1;33m\u001b[0m\u001b[0m\n\u001b[0m\u001b[0;32m     86\u001b[0m         \u001b[0moutputs\u001b[0m\u001b[1;33m.\u001b[0m\u001b[0mappend\u001b[0m\u001b[1;33m(\u001b[0m\u001b[0moutput\u001b[0m\u001b[1;33m)\u001b[0m\u001b[1;33m\u001b[0m\u001b[1;33m\u001b[0m\u001b[0m\n\u001b[0;32m     87\u001b[0m     \u001b[1;32mreturn\u001b[0m \u001b[0moutputs\u001b[0m\u001b[1;33m\u001b[0m\u001b[1;33m\u001b[0m\u001b[0m\n",
      "\u001b[1;32m~\\Anaconda3\\lib\\site-packages\\torch\\_utils.py\u001b[0m in \u001b[0;36mreraise\u001b[1;34m(self)\u001b[0m\n\u001b[0;32m    383\u001b[0m             \u001b[1;31m# (https://bugs.python.org/issue2651), so we work around it.\u001b[0m\u001b[1;33m\u001b[0m\u001b[1;33m\u001b[0m\u001b[1;33m\u001b[0m\u001b[0m\n\u001b[0;32m    384\u001b[0m             \u001b[0mmsg\u001b[0m \u001b[1;33m=\u001b[0m \u001b[0mKeyErrorMessage\u001b[0m\u001b[1;33m(\u001b[0m\u001b[0mmsg\u001b[0m\u001b[1;33m)\u001b[0m\u001b[1;33m\u001b[0m\u001b[1;33m\u001b[0m\u001b[0m\n\u001b[1;32m--> 385\u001b[1;33m         \u001b[1;32mraise\u001b[0m \u001b[0mself\u001b[0m\u001b[1;33m.\u001b[0m\u001b[0mexc_type\u001b[0m\u001b[1;33m(\u001b[0m\u001b[0mmsg\u001b[0m\u001b[1;33m)\u001b[0m\u001b[1;33m\u001b[0m\u001b[1;33m\u001b[0m\u001b[0m\n\u001b[0m",
      "\u001b[1;31mRuntimeError\u001b[0m: Caught RuntimeError in replica 0 on device 0.\nOriginal Traceback (most recent call last):\n  File \"C:\\Users\\Windows\\Anaconda3\\lib\\site-packages\\torch\\nn\\parallel\\parallel_apply.py\", line 60, in _worker\n    output = module(*input, **kwargs)\n  File \"C:\\Users\\Windows\\Anaconda3\\lib\\site-packages\\torch\\nn\\modules\\module.py\", line 541, in __call__\n    result = self.forward(*input, **kwargs)\n  File \"C:\\Users\\Windows\\Anaconda3\\lib\\site-packages\\torchvision\\models\\video\\resnet.py\", line 233, in forward\n    x = self.layer4(x)\n  File \"C:\\Users\\Windows\\Anaconda3\\lib\\site-packages\\torch\\nn\\modules\\module.py\", line 541, in __call__\n    result = self.forward(*input, **kwargs)\n  File \"C:\\Users\\Windows\\Anaconda3\\lib\\site-packages\\torch\\nn\\modules\\container.py\", line 92, in forward\n    input = module(input)\n  File \"C:\\Users\\Windows\\Anaconda3\\lib\\site-packages\\torch\\nn\\modules\\module.py\", line 541, in __call__\n    result = self.forward(*input, **kwargs)\n  File \"C:\\Users\\Windows\\Anaconda3\\lib\\site-packages\\torchvision\\models\\video\\resnet.py\", line 107, in forward\n    out = self.conv2(out)\n  File \"C:\\Users\\Windows\\Anaconda3\\lib\\site-packages\\torch\\nn\\modules\\module.py\", line 541, in __call__\n    result = self.forward(*input, **kwargs)\n  File \"C:\\Users\\Windows\\Anaconda3\\lib\\site-packages\\torch\\nn\\modules\\container.py\", line 92, in forward\n    input = module(input)\n  File \"C:\\Users\\Windows\\Anaconda3\\lib\\site-packages\\torch\\nn\\modules\\module.py\", line 541, in __call__\n    result = self.forward(*input, **kwargs)\n  File \"C:\\Users\\Windows\\Anaconda3\\lib\\site-packages\\torch\\nn\\modules\\container.py\", line 92, in forward\n    input = module(input)\n  File \"C:\\Users\\Windows\\Anaconda3\\lib\\site-packages\\torch\\nn\\modules\\module.py\", line 541, in __call__\n    result = self.forward(*input, **kwargs)\n  File \"C:\\Users\\Windows\\Anaconda3\\lib\\site-packages\\torch\\nn\\modules\\batchnorm.py\", line 81, in forward\n    exponential_average_factor, self.eps)\n  File \"C:\\Users\\Windows\\Anaconda3\\lib\\site-packages\\torch\\nn\\functional.py\", line 1670, in batch_norm\n    training, momentum, eps, torch.backends.cudnn.enabled\nRuntimeError: CUDA out of memory. Tried to allocate 20.00 MiB (GPU 0; 11.00 GiB total capacity; 8.34 GiB already allocated; 14.59 MiB free; 47.48 MiB cached)\n"
     ]
    }
   ],
   "source": [
    "# Training Classification Model \n",
    "# 6 classes\n",
    "# Sweep of sizes\n",
    "\n",
    "for i in [ 3 ]:\n",
    "    \n",
    "    current_h = resolution_h * i \n",
    "    current_w = resolution_w * i \n",
    "    print(i, current_h, current_w)\n",
    "    \n",
    "    torch.cuda.empty_cache()\n",
    "\n",
    "    classifications = \"D:\\\\ExpertCohortsFullRez\\\\Hypertrophy-Manifest.csv\"\n",
    "\n",
    "    categories = ['Amyloid_Filenames', 'AS_Filenames', 'Athletes_Filenames', 'CrNativeRez', 'HCM_Filenames', 'HTN_Filenames']\n",
    "\n",
    "\n",
    "    device = torch.device(\"cuda\")\n",
    "\n",
    "    train_dataset = Echo.Echo(root = \"D:\\\\ExpertCohortsFullRez\\\\CombinedForAmyloidTraining\",\n",
    "                            split = \"train\",\n",
    "                            target_type = \"Classification\",\n",
    "                            length = frames, \n",
    "                            period = period,                 \n",
    "                            resolution_h = current_h,\n",
    "                            resolution_w = current_w,                                 \n",
    "                            classification_file = classifications,\n",
    "                            num_classes = 6, \n",
    "                            categories = categories)\n",
    "\n",
    "    train_dataloader = torch.utils.data.DataLoader(train_dataset, \n",
    "                                             batch_size = 2  , \n",
    "                                             num_workers = 10,\n",
    "                                             shuffle = True, \n",
    "                                             pin_memory=(device.type == \"cuda\"))\n",
    "\n",
    "\n",
    "    val_dataset = Echo.Echo(root = \"D:\\\\ExpertCohortsFullRez\\\\CombinedForAmyloidTraining\",\n",
    "                            split = \"val\",\n",
    "                            target_type = \"Classification\",\n",
    "                            length = frames, \n",
    "                            period = period,\n",
    "                            resolution_h = current_h,\n",
    "                            resolution_w = current_w,       \n",
    "                            classification_file = classifications,\n",
    "                            num_classes = 6, \n",
    "                            categories = categories)\n",
    "\n",
    "    val_dataloader = torch.utils.data.DataLoader(val_dataset, \n",
    "                                             batch_size = 2 , \n",
    "                                             num_workers = 10,\n",
    "                                             shuffle = True, \n",
    "                                             pin_memory=(device.type == \"cuda\"))\n",
    "\n",
    "    dataloaders = {'train':train_dataloader, 'val':val_dataloader}\n",
    "\n",
    "\n",
    "    model = torchvision.models.video.r2plus1d_18(pretrained=False, num_classes = 6) #r3d_18\n",
    "\n",
    "    startingEpoch = 0\n",
    "    startingBestLoss = 100000\n",
    "\n",
    "    priorCheckpoint =  os.path.join(\"C:\\\\Datasets\\\\checkpoints\", \"amyloid_rez\"+str(current_h)+'x'+str(current_w)+\"x\"+str(frames)+\"frames_CEloss_checkpoint.pt\")\n",
    "\n",
    "    toGPU = torch.cuda.is_available()\n",
    "    #toGPU = False\n",
    "\n",
    "    if toGPU:\n",
    "        print(\"cuda is available\")\n",
    "        device = torch.device(\"cuda\")\n",
    "        model = torch.nn.DataParallel(model)\n",
    "        model.to(device)\n",
    "\n",
    "    if os.path.exists(priorCheckpoint):   \n",
    "        if toGPU:\n",
    "            print(\"loading weights\")\n",
    "            checkpoint = torch.load(priorCheckpoint)\n",
    "            model.load_state_dict(checkpoint['state_dict'])\n",
    "            startingEpoch = checkpoint['epoch']\n",
    "            startingBestLoss = checkpoint['best_loss']\n",
    "        else:\n",
    "            print(\"cuda is not available, cpu weights\")\n",
    "            device = torch.device(\"cpu\")\n",
    "            checkpoint = torch.load(priorCheckpoint, map_location = \"cpu\")\n",
    "            state_dict_cpu = {k[7:]: v for (k, v) in checkpoint['state_dict'].items()}\n",
    "            model.load_state_dict(state_dict_cpu)\n",
    "            startingEpoch = checkpoint['epoch']\n",
    "            startingBestLoss = checkpoint['best_loss']\n",
    "\n",
    "    learning_rate = 1e-4\n",
    "    optim = torch.optim.Adam(model.parameters(), lr=learning_rate)\n",
    "    bestLoss = startingBestLoss\n",
    "\n",
    "    priorLines = None\n",
    "    logFilename = os.path.join(amyloidpath, \"scripts\", \"log_AmyloidVideoSweep\"+str(current_h)+'x'+str(current_w)+\".csv\")\n",
    "\n",
    "\n",
    "    if os.path.exists(\"LETS RESTART\"):\n",
    "        with open(logFilename, 'r') as output:\n",
    "            priorLines = output.readlines()\n",
    "\n",
    "    # with open(logFilename, 'w') as output:\n",
    "    #     for line in priorLines:\n",
    "    #         output.write(line)\n",
    "\n",
    "    with open(logFilename, 'w') as output:\n",
    "        for epoch in range(startingEpoch + 1, num_epochs):\n",
    "            if priorLines is not None:\n",
    "                for line in priorLines:\n",
    "                    output.write(line)\n",
    "                    print(line)\n",
    "\n",
    "            for phase in dataloaders.keys():\n",
    "                total = 0\n",
    "                n = 0\n",
    "\n",
    "                with torch.set_grad_enabled(phase == \"train\"):\n",
    "                    with tqdm.tqdm(total = len(dataloaders[phase])) as progressbar:\n",
    "                        for i, (x, outcome) in enumerate(dataloaders[phase]):\n",
    "                            if verbose:\n",
    "                                print(i, x.shape, outcome.shape)\n",
    "\n",
    "                            x = x.to(device)\n",
    "                            outcome = outcome.to(device)\n",
    "\n",
    "                            p = model(x)#[\"out\"]\n",
    "\n",
    "                            if verbose:\n",
    "                                print( x.shape, p.shape, outcome.shape)\n",
    "\n",
    "                            loss = lossfn(p, outcome)\n",
    "\n",
    "                            total += loss.item()\n",
    "                            n += x.shape[0]\n",
    "\n",
    "                            progressbar.set_postfix_str(phase +\"{:.1f} {:.4f} ({:.4f})\".format(epoch, total / n, loss.item() /  x.shape[0]))\n",
    "                            progressbar.update()\n",
    "\n",
    "                            if(phase == 'train'):\n",
    "                                optim.zero_grad()\n",
    "                                loss.backward()\n",
    "                                optim.step()\n",
    "\n",
    "                output.write(phase + \",\" + str(epoch) + \",\" + str(total/n) + \"\\n\")\n",
    "\n",
    "                save = {\n",
    "                    'epoch': epoch,\n",
    "                    'state_dict': model.state_dict(),\n",
    "                    'period': period,\n",
    "                    'frames':frames,\n",
    "                    'best_loss': bestLoss,\n",
    "                    'loss': total / n,\n",
    "                    'opt_dict': optim.state_dict()\n",
    "                    }\n",
    "\n",
    "                torch.save(save, os.path.join(\"C:\\\\Datasets\\\\checkpoints\", \"amyloid_rez\"+str(current_h)+'x'+str(current_w)+\"x\"+str(frames)+\"frames_CEloss_checkpoint.pt\"))\n",
    "\n",
    "                if total / n < bestLoss and phase == \"val\":\n",
    "                    torch.save(save, os.path.join(\"C:\\\\Datasets\\\\checkpoints\", \"amyloid_rez\"+str(current_h)+'x'+str(current_w)+\"x\"+str(frames)+\"frames_CEloss_best.pt\"))\n",
    "                    bestLoss = total / n\n",
    "                    print(\"this is the best yet\")\n",
    "\n",
    "                  "
   ]
  },
  {
   "cell_type": "code",
   "execution_count": 2,
   "metadata": {
    "scrolled": true
   },
   "outputs": [
    {
     "name": "stdout",
     "output_type": "stream",
     "text": [
      "2 224 224\n",
      "['Amyloid_Filenames', 'AS_Filenames', 'Athletes_Filenames', 'CrNativeRez', 'HCM_Filenames', 'HTN_Filenames'] D:\\ExpertCohortsFullRez\\Hypertrophy-Manifest.csv\n",
      "['Amyloid_Filenames', 'AS_Filenames', 'Athletes_Filenames', 'CrNativeRez', 'HCM_Filenames', 'HTN_Filenames'] D:\\ExpertCohortsFullRez\\Hypertrophy-Manifest.csv\n",
      "cuda is available\n"
     ]
    },
    {
     "name": "stderr",
     "output_type": "stream",
     "text": [
      "  0%|                                                    | 1/1826 [00:36<18:33:21, 36.60s/it, train1.0 0.4385 (0.4385)]C:\\Users\\Windows\\Anaconda3\\lib\\site-packages\\torch\\cuda\\nccl.py:24: UserWarning: PyTorch is not compiled with NCCL support\n",
      "  warnings.warn('PyTorch is not compiled with NCCL support')\n",
      "100%|████████████████████████████████████████████████████| 1826/1826 [50:00<00:00,  1.64s/it, train1.0 0.3778 (1.1119)]\n",
      "100%|████████████████████████████████████████████████████████| 383/383 [02:30<00:00,  2.54it/s, val1.0 0.3630 (0.3304)]\n"
     ]
    },
    {
     "name": "stdout",
     "output_type": "stream",
     "text": [
      "this is the best yet\n"
     ]
    },
    {
     "name": "stderr",
     "output_type": "stream",
     "text": [
      "100%|████████████████████████████████████████████████████| 1826/1826 [49:59<00:00,  1.64s/it, train2.0 0.3606 (1.6734)]\n",
      "100%|████████████████████████████████████████████████████████| 383/383 [02:30<00:00,  2.55it/s, val2.0 0.3507 (0.3952)]\n"
     ]
    },
    {
     "name": "stdout",
     "output_type": "stream",
     "text": [
      "this is the best yet\n"
     ]
    },
    {
     "name": "stderr",
     "output_type": "stream",
     "text": [
      "100%|████████████████████████████████████████████████████| 1826/1826 [49:44<00:00,  1.63s/it, train3.0 0.3489 (0.7797)]\n",
      "100%|████████████████████████████████████████████████████████| 383/383 [02:29<00:00,  2.55it/s, val3.0 0.3415 (0.3394)]\n"
     ]
    },
    {
     "name": "stdout",
     "output_type": "stream",
     "text": [
      "this is the best yet\n"
     ]
    },
    {
     "name": "stderr",
     "output_type": "stream",
     "text": [
      "100%|████████████████████████████████████████████████████| 1826/1826 [49:45<00:00,  1.64s/it, train4.0 0.3419 (2.0520)]\n",
      "100%|████████████████████████████████████████████████████████| 383/383 [02:32<00:00,  2.51it/s, val4.0 0.3356 (0.3472)]\n"
     ]
    },
    {
     "name": "stdout",
     "output_type": "stream",
     "text": [
      "this is the best yet\n"
     ]
    },
    {
     "name": "stderr",
     "output_type": "stream",
     "text": [
      "100%|████████████████████████████████████████████████████| 1826/1826 [49:46<00:00,  1.64s/it, train5.0 0.3336 (1.6542)]\n",
      "100%|████████████████████████████████████████████████████████| 383/383 [02:29<00:00,  2.55it/s, val5.0 0.3384 (0.3137)]\n",
      "100%|████████████████████████████████████████████████████| 1826/1826 [49:46<00:00,  1.64s/it, train6.0 0.3268 (1.3402)]\n",
      "100%|████████████████████████████████████████████████████████| 383/383 [02:30<00:00,  2.55it/s, val6.0 0.3275 (0.4438)]\n"
     ]
    },
    {
     "name": "stdout",
     "output_type": "stream",
     "text": [
      "this is the best yet\n"
     ]
    },
    {
     "name": "stderr",
     "output_type": "stream",
     "text": [
      "100%|████████████████████████████████████████████████████| 1826/1826 [49:45<00:00,  1.64s/it, train7.0 0.3200 (0.4582)]\n",
      "100%|████████████████████████████████████████████████████████| 383/383 [02:30<00:00,  2.55it/s, val7.0 0.3244 (0.5001)]\n"
     ]
    },
    {
     "name": "stdout",
     "output_type": "stream",
     "text": [
      "this is the best yet\n"
     ]
    },
    {
     "name": "stderr",
     "output_type": "stream",
     "text": [
      "100%|████████████████████████████████████████████████████| 1826/1826 [49:54<00:00,  1.64s/it, train8.0 0.3136 (0.9177)]\n",
      "100%|████████████████████████████████████████████████████████| 383/383 [02:30<00:00,  2.55it/s, val8.0 0.3118 (0.1753)]\n"
     ]
    },
    {
     "name": "stdout",
     "output_type": "stream",
     "text": [
      "this is the best yet\n"
     ]
    },
    {
     "name": "stderr",
     "output_type": "stream",
     "text": [
      "100%|████████████████████████████████████████████████████| 1826/1826 [49:46<00:00,  1.64s/it, train9.0 0.3052 (1.7653)]\n",
      "100%|████████████████████████████████████████████████████████| 383/383 [02:30<00:00,  2.54it/s, val9.0 0.3130 (0.3741)]\n",
      "100%|███████████████████████████████████████████████████| 1826/1826 [49:47<00:00,  1.64s/it, train10.0 0.2997 (2.0767)]\n",
      "100%|███████████████████████████████████████████████████████| 383/383 [02:29<00:00,  2.56it/s, val10.0 0.2954 (0.1447)]\n"
     ]
    },
    {
     "name": "stdout",
     "output_type": "stream",
     "text": [
      "this is the best yet\n"
     ]
    },
    {
     "name": "stderr",
     "output_type": "stream",
     "text": [
      "100%|███████████████████████████████████████████████████| 1826/1826 [49:48<00:00,  1.64s/it, train11.0 0.2927 (0.8357)]\n",
      "100%|███████████████████████████████████████████████████████| 383/383 [02:30<00:00,  2.55it/s, val11.0 0.3074 (0.3835)]\n",
      "100%|███████████████████████████████████████████████████| 1826/1826 [49:45<00:00,  1.64s/it, train12.0 0.2846 (0.5007)]\n",
      "100%|███████████████████████████████████████████████████████| 383/383 [02:29<00:00,  2.55it/s, val12.0 0.3055 (0.2350)]\n",
      "100%|███████████████████████████████████████████████████| 1826/1826 [49:43<00:00,  1.63s/it, train13.0 0.2800 (0.3252)]\n",
      "100%|███████████████████████████████████████████████████████| 383/383 [02:30<00:00,  2.54it/s, val13.0 0.2865 (0.3646)]\n"
     ]
    },
    {
     "name": "stdout",
     "output_type": "stream",
     "text": [
      "this is the best yet\n"
     ]
    },
    {
     "name": "stderr",
     "output_type": "stream",
     "text": [
      "100%|███████████████████████████████████████████████████| 1826/1826 [49:51<00:00,  1.64s/it, train14.0 0.2735 (1.1327)]\n",
      "100%|███████████████████████████████████████████████████████| 383/383 [02:32<00:00,  2.51it/s, val14.0 0.3036 (0.2674)]\n",
      "100%|███████████████████████████████████████████████████| 1826/1826 [49:54<00:00,  1.64s/it, train15.0 0.2670 (0.1760)]\n",
      "100%|███████████████████████████████████████████████████████| 383/383 [02:31<00:00,  2.53it/s, val15.0 0.2869 (0.3993)]\n",
      "100%|███████████████████████████████████████████████████| 1826/1826 [49:46<00:00,  1.64s/it, train16.0 0.2596 (1.7970)]\n",
      "100%|███████████████████████████████████████████████████████| 383/383 [02:31<00:00,  2.52it/s, val16.0 0.2909 (0.4386)]\n",
      "100%|███████████████████████████████████████████████████| 1826/1826 [49:50<00:00,  1.64s/it, train17.0 0.2527 (0.9979)]\n",
      "100%|███████████████████████████████████████████████████████| 383/383 [02:31<00:00,  2.53it/s, val17.0 0.2952 (0.1411)]\n",
      "100%|███████████████████████████████████████████████████| 1826/1826 [49:48<00:00,  1.64s/it, train18.0 0.2458 (1.0443)]\n",
      "100%|███████████████████████████████████████████████████████| 383/383 [02:30<00:00,  2.54it/s, val18.0 0.2807 (0.3123)]\n"
     ]
    },
    {
     "name": "stdout",
     "output_type": "stream",
     "text": [
      "this is the best yet\n"
     ]
    },
    {
     "name": "stderr",
     "output_type": "stream",
     "text": [
      "100%|███████████████████████████████████████████████████| 1826/1826 [49:47<00:00,  1.64s/it, train19.0 0.2422 (0.7589)]\n",
      "100%|███████████████████████████████████████████████████████| 383/383 [02:30<00:00,  2.54it/s, val19.0 0.2792 (0.1776)]\n"
     ]
    },
    {
     "name": "stdout",
     "output_type": "stream",
     "text": [
      "this is the best yet\n"
     ]
    },
    {
     "name": "stderr",
     "output_type": "stream",
     "text": [
      "100%|███████████████████████████████████████████████████| 1826/1826 [49:49<00:00,  1.64s/it, train20.0 0.2326 (1.6389)]\n",
      "100%|███████████████████████████████████████████████████████| 383/383 [02:30<00:00,  2.54it/s, val20.0 0.2871 (0.2473)]\n",
      "100%|███████████████████████████████████████████████████| 1826/1826 [49:47<00:00,  1.64s/it, train21.0 0.2264 (1.2812)]\n",
      "100%|███████████████████████████████████████████████████████| 383/383 [02:31<00:00,  2.53it/s, val21.0 0.2766 (0.3292)]\n"
     ]
    },
    {
     "name": "stdout",
     "output_type": "stream",
     "text": [
      "this is the best yet\n"
     ]
    },
    {
     "name": "stderr",
     "output_type": "stream",
     "text": [
      "100%|███████████████████████████████████████████████████| 1826/1826 [49:55<00:00,  1.64s/it, train22.0 0.2180 (0.7816)]\n",
      "100%|███████████████████████████████████████████████████████| 383/383 [02:30<00:00,  2.55it/s, val22.0 0.2787 (0.1048)]\n",
      "100%|███████████████████████████████████████████████████| 1826/1826 [49:46<00:00,  1.64s/it, train23.0 0.2132 (2.2086)]\n",
      "100%|███████████████████████████████████████████████████████| 383/383 [02:31<00:00,  2.53it/s, val23.0 0.2786 (0.6652)]\n",
      "100%|███████████████████████████████████████████████████| 1826/1826 [49:47<00:00,  1.64s/it, train24.0 0.2083 (0.1574)]\n",
      "100%|███████████████████████████████████████████████████████| 383/383 [02:30<00:00,  2.54it/s, val24.0 0.2739 (0.1756)]\n"
     ]
    },
    {
     "name": "stdout",
     "output_type": "stream",
     "text": [
      "this is the best yet\n"
     ]
    },
    {
     "name": "stderr",
     "output_type": "stream",
     "text": [
      "100%|███████████████████████████████████████████████████| 1826/1826 [49:46<00:00,  1.64s/it, train25.0 0.1981 (0.4337)]\n",
      "100%|███████████████████████████████████████████████████████| 383/383 [02:30<00:00,  2.55it/s, val25.0 0.2692 (0.3521)]\n"
     ]
    },
    {
     "name": "stdout",
     "output_type": "stream",
     "text": [
      "this is the best yet\n"
     ]
    },
    {
     "name": "stderr",
     "output_type": "stream",
     "text": [
      "100%|███████████████████████████████████████████████████| 1826/1826 [49:42<00:00,  1.63s/it, train26.0 0.1913 (0.3543)]\n",
      "100%|███████████████████████████████████████████████████████| 383/383 [02:29<00:00,  2.55it/s, val26.0 0.2686 (0.3535)]\n"
     ]
    },
    {
     "name": "stdout",
     "output_type": "stream",
     "text": [
      "this is the best yet\n"
     ]
    },
    {
     "name": "stderr",
     "output_type": "stream",
     "text": [
      "100%|███████████████████████████████████████████████████| 1826/1826 [49:45<00:00,  1.63s/it, train27.0 0.1849 (4.3310)]\n",
      "100%|███████████████████████████████████████████████████████| 383/383 [02:29<00:00,  2.57it/s, val27.0 0.2722 (0.3658)]\n",
      "100%|███████████████████████████████████████████████████| 1826/1826 [49:42<00:00,  1.63s/it, train28.0 0.1745 (0.1594)]\n",
      "100%|███████████████████████████████████████████████████████| 383/383 [02:30<00:00,  2.54it/s, val28.0 0.2789 (0.2939)]\n",
      "100%|███████████████████████████████████████████████████| 1826/1826 [49:44<00:00,  1.63s/it, train29.0 0.1662 (0.9932)]\n",
      "100%|███████████████████████████████████████████████████████| 383/383 [02:29<00:00,  2.56it/s, val29.0 0.2767 (0.2460)]\n",
      "100%|███████████████████████████████████████████████████| 1826/1826 [49:46<00:00,  1.64s/it, train30.0 0.1593 (0.3840)]\n",
      "100%|███████████████████████████████████████████████████████| 383/383 [02:31<00:00,  2.52it/s, val30.0 0.2943 (0.5465)]\n",
      "100%|███████████████████████████████████████████████████| 1826/1826 [49:47<00:00,  1.64s/it, train31.0 0.1545 (0.8281)]\n",
      "100%|███████████████████████████████████████████████████████| 383/383 [02:31<00:00,  2.53it/s, val31.0 0.2926 (0.2153)]\n",
      "100%|███████████████████████████████████████████████████| 1826/1826 [49:48<00:00,  1.64s/it, train32.0 0.1448 (0.1012)]\n",
      "100%|███████████████████████████████████████████████████████| 383/383 [02:30<00:00,  2.54it/s, val32.0 0.2871 (0.0947)]\n",
      "100%|███████████████████████████████████████████████████| 1826/1826 [49:49<00:00,  1.64s/it, train33.0 0.1383 (0.8188)]\n",
      "100%|███████████████████████████████████████████████████████| 383/383 [02:31<00:00,  2.54it/s, val33.0 0.2899 (0.3817)]\n",
      "100%|███████████████████████████████████████████████████| 1826/1826 [49:49<00:00,  1.64s/it, train34.0 0.1280 (0.3899)]\n",
      "100%|███████████████████████████████████████████████████████| 383/383 [02:30<00:00,  2.55it/s, val34.0 0.2934 (0.5471)]\n",
      "100%|███████████████████████████████████████████████████| 1826/1826 [49:54<00:00,  1.64s/it, train35.0 0.1241 (0.2113)]\n",
      "100%|███████████████████████████████████████████████████████| 383/383 [02:30<00:00,  2.55it/s, val35.0 0.3082 (0.0402)]\n",
      "100%|███████████████████████████████████████████████████| 1826/1826 [49:47<00:00,  1.64s/it, train36.0 0.1149 (0.4953)]\n",
      "100%|███████████████████████████████████████████████████████| 383/383 [02:31<00:00,  2.53it/s, val36.0 0.3078 (0.0755)]\n",
      "100%|███████████████████████████████████████████████████| 1826/1826 [49:47<00:00,  1.64s/it, train37.0 0.1084 (0.4255)]\n",
      "100%|███████████████████████████████████████████████████████| 383/383 [02:30<00:00,  2.54it/s, val37.0 0.3133 (0.0237)]\n",
      "100%|███████████████████████████████████████████████████| 1826/1826 [49:49<00:00,  1.64s/it, train38.0 0.1047 (4.1199)]\n",
      "100%|███████████████████████████████████████████████████████| 383/383 [02:30<00:00,  2.55it/s, val38.0 0.3178 (0.3136)]\n",
      "100%|███████████████████████████████████████████████████| 1826/1826 [49:45<00:00,  1.63s/it, train39.0 0.0945 (0.0119)]\n",
      "100%|███████████████████████████████████████████████████████| 383/383 [02:29<00:00,  2.56it/s, val39.0 0.3250 (0.0105)]\n",
      " 80%|████████████████████████████████████████▉          | 1467/1826 [40:07<09:49,  1.64s/it, train40.0 0.0865 (0.0747)]\n"
     ]
    },
    {
     "ename": "KeyboardInterrupt",
     "evalue": "",
     "output_type": "error",
     "traceback": [
      "\u001b[1;31m---------------------------------------------------------------------------\u001b[0m",
      "\u001b[1;31mKeyboardInterrupt\u001b[0m                         Traceback (most recent call last)",
      "\u001b[1;32m<ipython-input-2-ed9e7101ecb2>\u001b[0m in \u001b[0;36m<module>\u001b[1;34m\u001b[0m\n\u001b[0;32m    140\u001b[0m                                 \u001b[0moptim\u001b[0m\u001b[1;33m.\u001b[0m\u001b[0mzero_grad\u001b[0m\u001b[1;33m(\u001b[0m\u001b[1;33m)\u001b[0m\u001b[1;33m\u001b[0m\u001b[1;33m\u001b[0m\u001b[0m\n\u001b[0;32m    141\u001b[0m                                 \u001b[0mloss\u001b[0m\u001b[1;33m.\u001b[0m\u001b[0mbackward\u001b[0m\u001b[1;33m(\u001b[0m\u001b[1;33m)\u001b[0m\u001b[1;33m\u001b[0m\u001b[1;33m\u001b[0m\u001b[0m\n\u001b[1;32m--> 142\u001b[1;33m                                 \u001b[0moptim\u001b[0m\u001b[1;33m.\u001b[0m\u001b[0mstep\u001b[0m\u001b[1;33m(\u001b[0m\u001b[1;33m)\u001b[0m\u001b[1;33m\u001b[0m\u001b[1;33m\u001b[0m\u001b[0m\n\u001b[0m\u001b[0;32m    143\u001b[0m \u001b[1;33m\u001b[0m\u001b[0m\n\u001b[0;32m    144\u001b[0m                 \u001b[0moutput\u001b[0m\u001b[1;33m.\u001b[0m\u001b[0mwrite\u001b[0m\u001b[1;33m(\u001b[0m\u001b[0mphase\u001b[0m \u001b[1;33m+\u001b[0m \u001b[1;34m\",\"\u001b[0m \u001b[1;33m+\u001b[0m \u001b[0mstr\u001b[0m\u001b[1;33m(\u001b[0m\u001b[0mepoch\u001b[0m\u001b[1;33m)\u001b[0m \u001b[1;33m+\u001b[0m \u001b[1;34m\",\"\u001b[0m \u001b[1;33m+\u001b[0m \u001b[0mstr\u001b[0m\u001b[1;33m(\u001b[0m\u001b[0mtotal\u001b[0m\u001b[1;33m/\u001b[0m\u001b[0mn\u001b[0m\u001b[1;33m)\u001b[0m \u001b[1;33m+\u001b[0m \u001b[1;34m\"\\n\"\u001b[0m\u001b[1;33m)\u001b[0m\u001b[1;33m\u001b[0m\u001b[1;33m\u001b[0m\u001b[0m\n",
      "\u001b[1;32m~\\Anaconda3\\lib\\site-packages\\torch\\optim\\adam.py\u001b[0m in \u001b[0;36mstep\u001b[1;34m(self, closure)\u001b[0m\n\u001b[0;32m     93\u001b[0m \u001b[1;33m\u001b[0m\u001b[0m\n\u001b[0;32m     94\u001b[0m                 \u001b[1;31m# Decay the first and second moment running average coefficient\u001b[0m\u001b[1;33m\u001b[0m\u001b[1;33m\u001b[0m\u001b[1;33m\u001b[0m\u001b[0m\n\u001b[1;32m---> 95\u001b[1;33m                 \u001b[0mexp_avg\u001b[0m\u001b[1;33m.\u001b[0m\u001b[0mmul_\u001b[0m\u001b[1;33m(\u001b[0m\u001b[0mbeta1\u001b[0m\u001b[1;33m)\u001b[0m\u001b[1;33m.\u001b[0m\u001b[0madd_\u001b[0m\u001b[1;33m(\u001b[0m\u001b[1;36m1\u001b[0m \u001b[1;33m-\u001b[0m \u001b[0mbeta1\u001b[0m\u001b[1;33m,\u001b[0m \u001b[0mgrad\u001b[0m\u001b[1;33m)\u001b[0m\u001b[1;33m\u001b[0m\u001b[1;33m\u001b[0m\u001b[0m\n\u001b[0m\u001b[0;32m     96\u001b[0m                 \u001b[0mexp_avg_sq\u001b[0m\u001b[1;33m.\u001b[0m\u001b[0mmul_\u001b[0m\u001b[1;33m(\u001b[0m\u001b[0mbeta2\u001b[0m\u001b[1;33m)\u001b[0m\u001b[1;33m.\u001b[0m\u001b[0maddcmul_\u001b[0m\u001b[1;33m(\u001b[0m\u001b[1;36m1\u001b[0m \u001b[1;33m-\u001b[0m \u001b[0mbeta2\u001b[0m\u001b[1;33m,\u001b[0m \u001b[0mgrad\u001b[0m\u001b[1;33m,\u001b[0m \u001b[0mgrad\u001b[0m\u001b[1;33m)\u001b[0m\u001b[1;33m\u001b[0m\u001b[1;33m\u001b[0m\u001b[0m\n\u001b[0;32m     97\u001b[0m                 \u001b[1;32mif\u001b[0m \u001b[0mamsgrad\u001b[0m\u001b[1;33m:\u001b[0m\u001b[1;33m\u001b[0m\u001b[1;33m\u001b[0m\u001b[0m\n",
      "\u001b[1;31mKeyboardInterrupt\u001b[0m: "
     ]
    }
   ],
   "source": [
    "# Training Classification Model \n",
    "# 6 classes\n",
    "# Sweep of sizes\n",
    "\n",
    "for i in [ 2 ]:\n",
    "    \n",
    "    current_h = resolution_h * i \n",
    "    current_w = resolution_w * i \n",
    "    print(i, current_h, current_w)\n",
    "    \n",
    "    torch.cuda.empty_cache()\n",
    "\n",
    "    classifications = \"D:\\\\ExpertCohortsFullRez\\\\Hypertrophy-Manifest.csv\"\n",
    "\n",
    "    categories = ['Amyloid_Filenames', 'AS_Filenames', 'Athletes_Filenames', 'CrNativeRez', 'HCM_Filenames', 'HTN_Filenames']\n",
    "\n",
    "\n",
    "    device = torch.device(\"cuda\")\n",
    "\n",
    "    train_dataset = Echo.Echo(root = \"D:\\\\ExpertCohortsFullRez\\\\CombinedForAmyloidTraining\",\n",
    "                            split = \"train\",\n",
    "                            target_type = \"Classification\",\n",
    "                            length = frames, \n",
    "                            period = period,                 \n",
    "                            resolution_h = current_h,\n",
    "                            resolution_w = current_w,                                 \n",
    "                            classification_file = classifications,\n",
    "                            num_classes = 6, \n",
    "                            categories = categories)\n",
    "\n",
    "    train_dataloader = torch.utils.data.DataLoader(train_dataset, \n",
    "                                             batch_size = int(batch_size / i / 1.5) + 1, \n",
    "                                             num_workers = 10,\n",
    "                                             shuffle = True, \n",
    "                                             pin_memory=(device.type == \"cuda\"))\n",
    "\n",
    "\n",
    "    val_dataset = Echo.Echo(root = \"D:\\\\ExpertCohortsFullRez\\\\CombinedForAmyloidTraining\",\n",
    "                            split = \"val\",\n",
    "                            target_type = \"Classification\",\n",
    "                            length = frames, \n",
    "                            period = period,\n",
    "                            resolution_h = current_h,\n",
    "                            resolution_w = current_w,       \n",
    "                            classification_file = classifications,\n",
    "                            num_classes = 6, \n",
    "                            categories = categories)\n",
    "\n",
    "    val_dataloader = torch.utils.data.DataLoader(val_dataset, \n",
    "                                             batch_size = int(batch_size / i / 1.5 ) + 1, \n",
    "                                             num_workers = 10,\n",
    "                                             shuffle = True, \n",
    "                                             pin_memory=(device.type == \"cuda\"))\n",
    "\n",
    "    dataloaders = {'train':train_dataloader, 'val':val_dataloader}\n",
    "\n",
    "\n",
    "    model = torchvision.models.video.r2plus1d_18(pretrained=False, num_classes = 6) #r3d_18\n",
    "\n",
    "    startingEpoch = 0\n",
    "    startingBestLoss = 100000\n",
    "\n",
    "    priorCheckpoint =  os.path.join(\"C:\\\\Datasets\\\\checkpoints\", \"amyloid_rez\"+str(current_h)+'x'+str(current_w)+\"_CEloss_checkpoint.pt\")\n",
    "\n",
    "    toGPU = torch.cuda.is_available()\n",
    "    #toGPU = False\n",
    "\n",
    "    if toGPU:\n",
    "        print(\"cuda is available\")\n",
    "        device = torch.device(\"cuda\")\n",
    "        model = torch.nn.DataParallel(model)\n",
    "        model.to(device)\n",
    "\n",
    "    if os.path.exists(priorCheckpoint):   \n",
    "        if toGPU:\n",
    "            print(\"loading weights\")\n",
    "            checkpoint = torch.load(priorCheckpoint)\n",
    "            model.load_state_dict(checkpoint['state_dict'])\n",
    "            startingEpoch = checkpoint['epoch']\n",
    "            startingBestLoss = checkpoint['best_loss']\n",
    "        else:\n",
    "            print(\"cuda is not available, cpu weights\")\n",
    "            device = torch.device(\"cpu\")\n",
    "            checkpoint = torch.load(priorCheckpoint, map_location = \"cpu\")\n",
    "            state_dict_cpu = {k[7:]: v for (k, v) in checkpoint['state_dict'].items()}\n",
    "            model.load_state_dict(state_dict_cpu)\n",
    "            startingEpoch = checkpoint['epoch']\n",
    "            startingBestLoss = checkpoint['best_loss']\n",
    "\n",
    "    learning_rate = 1e-4\n",
    "    optim = torch.optim.Adam(model.parameters(), lr=learning_rate)\n",
    "    bestLoss = startingBestLoss\n",
    "\n",
    "    priorLines = None\n",
    "    logFilename = os.path.join(amyloidpath, \"scripts\", \"log_AmyloidVideoSweep\"+str(current_h)+'x'+str(current_w)+\".csv\")\n",
    "\n",
    "\n",
    "    if os.path.exists(\"LETS RESTART\"):\n",
    "        with open(logFilename, 'r') as output:\n",
    "            priorLines = output.readlines()\n",
    "\n",
    "    # with open(logFilename, 'w') as output:\n",
    "    #     for line in priorLines:\n",
    "    #         output.write(line)\n",
    "\n",
    "    with open(logFilename, 'w') as output:\n",
    "        for epoch in range(startingEpoch + 1, num_epochs):\n",
    "            if priorLines is not None:\n",
    "                for line in priorLines:\n",
    "                    output.write(line)\n",
    "                    print(line)\n",
    "\n",
    "            for phase in dataloaders.keys():\n",
    "                total = 0\n",
    "                n = 0\n",
    "\n",
    "                with torch.set_grad_enabled(phase == \"train\"):\n",
    "                    with tqdm.tqdm(total = len(dataloaders[phase])) as progressbar:\n",
    "                        for i, (x, outcome) in enumerate(dataloaders[phase]):\n",
    "                            if verbose:\n",
    "                                print(i, x.shape, outcome.shape)\n",
    "\n",
    "                            x = x.to(device)\n",
    "                            outcome = outcome.to(device)\n",
    "\n",
    "                            p = model(x)#[\"out\"]\n",
    "\n",
    "                            if verbose:\n",
    "                                print( x.shape, p.shape, outcome.shape)\n",
    "\n",
    "                            loss = lossfn(p, outcome)\n",
    "\n",
    "                            total += loss.item()\n",
    "                            n += x.shape[0]\n",
    "\n",
    "                            progressbar.set_postfix_str(phase +\"{:.1f} {:.4f} ({:.4f})\".format(epoch, total / n, loss.item() /  x.shape[0]))\n",
    "                            progressbar.update()\n",
    "\n",
    "                            if(phase == 'train'):\n",
    "                                optim.zero_grad()\n",
    "                                loss.backward()\n",
    "                                optim.step()\n",
    "\n",
    "                output.write(phase + \",\" + str(epoch) + \",\" + str(total/n) + \"\\n\")\n",
    "\n",
    "                save = {\n",
    "                    'epoch': epoch,\n",
    "                    'state_dict': model.state_dict(),\n",
    "                    'period': period,\n",
    "                    'frames':frames,\n",
    "                    'best_loss': bestLoss,\n",
    "                    'loss': total / n,\n",
    "                    'opt_dict': optim.state_dict()\n",
    "                    }\n",
    "\n",
    "                torch.save(save, os.path.join(\"C:\\\\Datasets\\\\checkpoints\", \"amyloid_rez\"+str(current_h)+'x'+str(current_w)+\"_CEloss_checkpoint.pt\"))\n",
    "\n",
    "                if total / n < bestLoss and phase == \"val\":\n",
    "                    torch.save(save, os.path.join(\"C:\\\\Datasets\\\\checkpoints\", \"amyloid_rez\"+str(current_h)+'x'+str(current_w)+\"_CEloss_best.pt\"))\n",
    "                    bestLoss = total / n\n",
    "                    print(\"this is the best yet\")\n",
    "\n",
    "                  "
   ]
  },
  {
   "cell_type": "code",
   "execution_count": 2,
   "metadata": {},
   "outputs": [
    {
     "name": "stdout",
     "output_type": "stream",
     "text": [
      "['Amyloid_Filenames', 'AS_Filenames', 'Athletes_Filenames', 'CrNativeRez', 'HCM_Filenames', 'HTN_Filenames'] D:\\ExpertCohortsFullRez\\Hypertrophy-Manifest.csv\n",
      "['Amyloid_Filenames', 'AS_Filenames', 'Athletes_Filenames', 'CrNativeRez', 'HCM_Filenames', 'HTN_Filenames'] D:\\ExpertCohortsFullRez\\Hypertrophy-Manifest.csv\n",
      "cuda is available\n",
      "loading weights\n"
     ]
    },
    {
     "name": "stderr",
     "output_type": "stream",
     "text": [
      "  0%|                                                      | 1/731 [00:39<8:03:20, 39.73s/it, train2.0 0.1427 (0.1427)]C:\\Users\\Windows\\Anaconda3\\lib\\site-packages\\torch\\cuda\\nccl.py:24: UserWarning: PyTorch is not compiled with NCCL support\n",
      "  warnings.warn('PyTorch is not compiled with NCCL support')\n",
      "100%|██████████████████████████████████████████████████████| 731/731 [08:51<00:00,  1.38it/s, train2.0 0.1372 (0.7683)]\n",
      "100%|████████████████████████████████████████████████████████| 154/154 [01:43<00:00,  1.48it/s, val2.0 0.1367 (0.8164)]\n"
     ]
    },
    {
     "name": "stdout",
     "output_type": "stream",
     "text": [
      "this is the best yet\n"
     ]
    },
    {
     "name": "stderr",
     "output_type": "stream",
     "text": [
      "100%|██████████████████████████████████████████████████████| 731/731 [08:45<00:00,  1.39it/s, train3.0 0.1308 (0.7103)]\n",
      "100%|████████████████████████████████████████████████████████| 154/154 [01:40<00:00,  1.53it/s, val3.0 0.1292 (0.4529)]\n"
     ]
    },
    {
     "name": "stdout",
     "output_type": "stream",
     "text": [
      "this is the best yet\n"
     ]
    },
    {
     "name": "stderr",
     "output_type": "stream",
     "text": [
      "100%|██████████████████████████████████████████████████████| 731/731 [08:46<00:00,  1.39it/s, train4.0 0.1261 (2.6389)]\n",
      "100%|████████████████████████████████████████████████████████| 154/154 [01:38<00:00,  1.56it/s, val4.0 0.1299 (0.6857)]\n",
      "100%|██████████████████████████████████████████████████████| 731/731 [08:44<00:00,  1.39it/s, train5.0 0.1203 (1.9596)]\n",
      "100%|████████████████████████████████████████████████████████| 154/154 [01:40<00:00,  1.53it/s, val5.0 0.1268 (0.7897)]\n"
     ]
    },
    {
     "name": "stdout",
     "output_type": "stream",
     "text": [
      "this is the best yet\n"
     ]
    },
    {
     "name": "stderr",
     "output_type": "stream",
     "text": [
      "100%|██████████████████████████████████████████████████████| 731/731 [08:44<00:00,  1.39it/s, train6.0 0.1139 (2.1039)]\n",
      "100%|████████████████████████████████████████████████████████| 154/154 [01:42<00:00,  1.50it/s, val6.0 0.1194 (0.4281)]\n"
     ]
    },
    {
     "name": "stdout",
     "output_type": "stream",
     "text": [
      "this is the best yet\n"
     ]
    },
    {
     "name": "stderr",
     "output_type": "stream",
     "text": [
      "100%|██████████████████████████████████████████████████████| 731/731 [08:45<00:00,  1.39it/s, train7.0 0.1076 (1.9658)]\n",
      "100%|████████████████████████████████████████████████████████| 154/154 [01:40<00:00,  1.53it/s, val7.0 0.1225 (0.7856)]\n",
      "100%|██████████████████████████████████████████████████████| 731/731 [08:44<00:00,  1.39it/s, train8.0 0.1017 (1.7811)]\n",
      "100%|████████████████████████████████████████████████████████| 154/154 [01:41<00:00,  1.52it/s, val8.0 0.1194 (1.0085)]\n"
     ]
    },
    {
     "name": "stdout",
     "output_type": "stream",
     "text": [
      "this is the best yet\n"
     ]
    },
    {
     "name": "stderr",
     "output_type": "stream",
     "text": [
      "100%|██████████████████████████████████████████████████████| 731/731 [08:45<00:00,  1.39it/s, train9.0 0.0934 (0.6878)]\n",
      "100%|████████████████████████████████████████████████████████| 154/154 [01:41<00:00,  1.52it/s, val9.0 0.1151 (0.4566)]\n"
     ]
    },
    {
     "name": "stdout",
     "output_type": "stream",
     "text": [
      "this is the best yet\n"
     ]
    },
    {
     "name": "stderr",
     "output_type": "stream",
     "text": [
      "100%|█████████████████████████████████████████████████████| 731/731 [08:44<00:00,  1.39it/s, train10.0 0.0855 (0.8385)]\n",
      "100%|███████████████████████████████████████████████████████| 154/154 [01:41<00:00,  1.52it/s, val10.0 0.1167 (0.2595)]\n",
      "100%|█████████████████████████████████████████████████████| 731/731 [08:44<00:00,  1.39it/s, train11.0 0.0766 (2.1182)]\n",
      "100%|███████████████████████████████████████████████████████| 154/154 [01:38<00:00,  1.56it/s, val11.0 0.1221 (0.1942)]\n",
      "100%|█████████████████████████████████████████████████████| 731/731 [08:45<00:00,  1.39it/s, train12.0 0.0649 (3.7744)]\n",
      "100%|███████████████████████████████████████████████████████| 154/154 [01:40<00:00,  1.53it/s, val12.0 0.1281 (0.2891)]\n",
      "100%|█████████████████████████████████████████████████████| 731/731 [08:45<00:00,  1.39it/s, train13.0 0.0540 (0.2640)]\n",
      "100%|███████████████████████████████████████████████████████| 154/154 [01:41<00:00,  1.51it/s, val13.0 0.1373 (0.9299)]\n",
      "100%|█████████████████████████████████████████████████████| 731/731 [08:43<00:00,  1.40it/s, train14.0 0.0461 (0.5186)]\n",
      "100%|███████████████████████████████████████████████████████| 154/154 [01:39<00:00,  1.55it/s, val14.0 0.1483 (0.7880)]\n",
      "100%|█████████████████████████████████████████████████████| 731/731 [08:44<00:00,  1.39it/s, train15.0 0.0388 (0.1711)]\n",
      "100%|███████████████████████████████████████████████████████| 154/154 [01:42<00:00,  1.50it/s, val15.0 0.1501 (1.3759)]\n",
      "100%|█████████████████████████████████████████████████████| 731/731 [08:43<00:00,  1.40it/s, train16.0 0.0331 (1.8067)]\n",
      "100%|███████████████████████████████████████████████████████| 154/154 [01:40<00:00,  1.53it/s, val16.0 0.1560 (0.5256)]\n",
      "100%|█████████████████████████████████████████████████████| 731/731 [08:43<00:00,  1.40it/s, train17.0 0.0264 (0.1166)]\n",
      "100%|███████████████████████████████████████████████████████| 154/154 [01:41<00:00,  1.52it/s, val17.0 0.1590 (0.3602)]\n",
      "100%|█████████████████████████████████████████████████████| 731/731 [08:44<00:00,  1.39it/s, train18.0 0.0248 (0.0704)]\n",
      "100%|███████████████████████████████████████████████████████| 154/154 [01:41<00:00,  1.51it/s, val18.0 0.1726 (0.5996)]\n",
      "100%|█████████████████████████████████████████████████████| 731/731 [08:42<00:00,  1.40it/s, train19.0 0.0208 (0.1704)]\n",
      "100%|███████████████████████████████████████████████████████| 154/154 [01:40<00:00,  1.54it/s, val19.0 0.1822 (0.5364)]\n",
      "100%|█████████████████████████████████████████████████████| 731/731 [08:44<00:00,  1.39it/s, train20.0 0.0204 (0.0348)]\n",
      "100%|███████████████████████████████████████████████████████| 154/154 [01:43<00:00,  1.49it/s, val20.0 0.1845 (0.0273)]\n",
      "100%|█████████████████████████████████████████████████████| 731/731 [08:45<00:00,  1.39it/s, train21.0 0.0191 (2.5902)]\n",
      "100%|███████████████████████████████████████████████████████| 154/154 [01:40<00:00,  1.54it/s, val21.0 0.1777 (0.0455)]\n",
      "100%|█████████████████████████████████████████████████████| 731/731 [08:45<00:00,  1.39it/s, train22.0 0.0205 (0.2406)]\n",
      "100%|███████████████████████████████████████████████████████| 154/154 [01:43<00:00,  1.49it/s, val22.0 0.1864 (0.0711)]\n",
      "100%|█████████████████████████████████████████████████████| 731/731 [08:42<00:00,  1.40it/s, train23.0 0.0164 (0.0878)]\n",
      "100%|███████████████████████████████████████████████████████| 154/154 [01:40<00:00,  1.54it/s, val23.0 0.1897 (0.9382)]\n",
      "100%|█████████████████████████████████████████████████████| 731/731 [08:42<00:00,  1.40it/s, train24.0 0.0151 (0.0065)]\n",
      "100%|███████████████████████████████████████████████████████| 154/154 [01:40<00:00,  1.54it/s, val24.0 0.1954 (0.0270)]\n",
      "100%|█████████████████████████████████████████████████████| 731/731 [08:43<00:00,  1.40it/s, train25.0 0.0121 (0.0151)]\n",
      "100%|███████████████████████████████████████████████████████| 154/154 [01:40<00:00,  1.53it/s, val25.0 0.1994 (0.0088)]\n",
      "100%|█████████████████████████████████████████████████████| 731/731 [08:43<00:00,  1.40it/s, train26.0 0.0179 (2.9690)]\n",
      "100%|███████████████████████████████████████████████████████| 154/154 [01:41<00:00,  1.52it/s, val26.0 0.1991 (1.3439)]\n",
      "100%|█████████████████████████████████████████████████████| 731/731 [08:43<00:00,  1.40it/s, train27.0 0.0116 (0.0067)]\n",
      "100%|███████████████████████████████████████████████████████| 154/154 [01:40<00:00,  1.53it/s, val27.0 0.2001 (0.2566)]\n",
      "100%|█████████████████████████████████████████████████████| 731/731 [08:43<00:00,  1.40it/s, train28.0 0.0125 (0.0058)]\n",
      "100%|███████████████████████████████████████████████████████| 154/154 [01:40<00:00,  1.53it/s, val28.0 0.1943 (0.7639)]\n",
      "100%|█████████████████████████████████████████████████████| 731/731 [08:43<00:00,  1.40it/s, train29.0 0.0139 (0.0051)]\n",
      "100%|███████████████████████████████████████████████████████| 154/154 [01:40<00:00,  1.54it/s, val29.0 0.2224 (0.6296)]\n",
      "100%|█████████████████████████████████████████████████████| 731/731 [08:43<00:00,  1.40it/s, train30.0 0.0122 (0.9853)]\n",
      "100%|███████████████████████████████████████████████████████| 154/154 [01:41<00:00,  1.52it/s, val30.0 0.2008 (1.0045)]\n",
      "100%|█████████████████████████████████████████████████████| 731/731 [08:43<00:00,  1.40it/s, train31.0 0.0128 (0.0453)]\n",
      "100%|███████████████████████████████████████████████████████| 154/154 [01:41<00:00,  1.51it/s, val31.0 0.1998 (0.6894)]\n",
      "100%|█████████████████████████████████████████████████████| 731/731 [08:43<00:00,  1.40it/s, train32.0 0.0118 (2.7836)]\n",
      "100%|███████████████████████████████████████████████████████| 154/154 [01:43<00:00,  1.48it/s, val32.0 0.2090 (0.8455)]\n",
      "100%|█████████████████████████████████████████████████████| 731/731 [08:42<00:00,  1.40it/s, train33.0 0.0113 (1.3492)]\n",
      "100%|███████████████████████████████████████████████████████| 154/154 [01:41<00:00,  1.52it/s, val33.0 0.2023 (1.6561)]\n",
      "100%|█████████████████████████████████████████████████████| 731/731 [08:43<00:00,  1.40it/s, train34.0 0.0081 (0.1800)]\n",
      "100%|███████████████████████████████████████████████████████| 154/154 [01:44<00:00,  1.48it/s, val34.0 0.2128 (0.4996)]\n",
      "100%|█████████████████████████████████████████████████████| 731/731 [08:42<00:00,  1.40it/s, train35.0 0.0104 (0.0193)]\n",
      "100%|███████████████████████████████████████████████████████| 154/154 [01:42<00:00,  1.50it/s, val35.0 0.2223 (1.3565)]\n",
      "100%|█████████████████████████████████████████████████████| 731/731 [08:43<00:00,  1.40it/s, train36.0 0.0099 (1.5960)]\n",
      "100%|███████████████████████████████████████████████████████| 154/154 [01:42<00:00,  1.51it/s, val36.0 0.2198 (0.8884)]\n",
      "100%|█████████████████████████████████████████████████████| 731/731 [08:43<00:00,  1.40it/s, train37.0 0.0103 (1.5844)]\n",
      "100%|███████████████████████████████████████████████████████| 154/154 [01:42<00:00,  1.51it/s, val37.0 0.2189 (0.0005)]\n",
      "100%|█████████████████████████████████████████████████████| 731/731 [08:44<00:00,  1.39it/s, train38.0 0.0103 (0.0726)]\n",
      "100%|███████████████████████████████████████████████████████| 154/154 [01:39<00:00,  1.54it/s, val38.0 0.2189 (0.0076)]\n",
      "100%|█████████████████████████████████████████████████████| 731/731 [08:42<00:00,  1.40it/s, train39.0 0.0077 (0.0102)]\n",
      "100%|███████████████████████████████████████████████████████| 154/154 [01:40<00:00,  1.53it/s, val39.0 0.2351 (0.0098)]\n",
      "100%|█████████████████████████████████████████████████████| 731/731 [08:43<00:00,  1.40it/s, train40.0 0.0097 (1.2389)]\n",
      "100%|███████████████████████████████████████████████████████| 154/154 [01:41<00:00,  1.52it/s, val40.0 0.2151 (1.1815)]\n",
      "100%|█████████████████████████████████████████████████████| 731/731 [08:42<00:00,  1.40it/s, train41.0 0.0082 (2.4846)]\n",
      "100%|███████████████████████████████████████████████████████| 154/154 [01:42<00:00,  1.50it/s, val41.0 0.2347 (0.9810)]\n",
      "100%|█████████████████████████████████████████████████████| 731/731 [08:44<00:00,  1.39it/s, train42.0 0.0094 (1.4619)]\n",
      "100%|███████████████████████████████████████████████████████| 154/154 [01:39<00:00,  1.55it/s, val42.0 0.2317 (1.5769)]\n",
      "100%|█████████████████████████████████████████████████████| 731/731 [08:44<00:00,  1.39it/s, train43.0 0.0077 (0.9036)]\n",
      "100%|███████████████████████████████████████████████████████| 154/154 [01:40<00:00,  1.53it/s, val43.0 0.2261 (1.2925)]\n",
      "100%|█████████████████████████████████████████████████████| 731/731 [08:43<00:00,  1.40it/s, train44.0 0.0077 (0.1205)]\n",
      "100%|███████████████████████████████████████████████████████| 154/154 [01:39<00:00,  1.55it/s, val44.0 0.2375 (3.7438)]\n",
      "100%|█████████████████████████████████████████████████████| 731/731 [08:43<00:00,  1.40it/s, train45.0 0.0082 (1.9722)]\n",
      "100%|███████████████████████████████████████████████████████| 154/154 [01:41<00:00,  1.52it/s, val45.0 0.2391 (1.5493)]\n",
      "100%|█████████████████████████████████████████████████████| 731/731 [08:42<00:00,  1.40it/s, train46.0 0.0085 (0.0019)]\n",
      "100%|███████████████████████████████████████████████████████| 154/154 [01:40<00:00,  1.53it/s, val46.0 0.2320 (0.8815)]\n",
      "100%|█████████████████████████████████████████████████████| 731/731 [08:41<00:00,  1.40it/s, train47.0 0.0081 (0.0139)]\n",
      "100%|███████████████████████████████████████████████████████| 154/154 [01:40<00:00,  1.53it/s, val47.0 0.2378 (0.8567)]\n",
      "100%|█████████████████████████████████████████████████████| 731/731 [08:42<00:00,  1.40it/s, train48.0 0.0070 (0.0026)]\n",
      "100%|███████████████████████████████████████████████████████| 154/154 [01:39<00:00,  1.56it/s, val48.0 0.2331 (0.0096)]\n",
      "100%|█████████████████████████████████████████████████████| 731/731 [08:42<00:00,  1.40it/s, train49.0 0.0063 (0.4959)]\n",
      "100%|███████████████████████████████████████████████████████| 154/154 [01:43<00:00,  1.49it/s, val49.0 0.2298 (0.4492)]\n",
      "100%|█████████████████████████████████████████████████████| 731/731 [08:42<00:00,  1.40it/s, train50.0 0.0071 (0.6029)]\n",
      "100%|███████████████████████████████████████████████████████| 154/154 [01:43<00:00,  1.49it/s, val50.0 0.2431 (1.4495)]\n",
      "100%|█████████████████████████████████████████████████████| 731/731 [08:42<00:00,  1.40it/s, train51.0 0.0070 (0.0003)]\n",
      "100%|███████████████████████████████████████████████████████| 154/154 [01:42<00:00,  1.51it/s, val51.0 0.2323 (0.1766)]\n",
      "100%|█████████████████████████████████████████████████████| 731/731 [08:42<00:00,  1.40it/s, train52.0 0.0069 (0.0040)]\n",
      "100%|███████████████████████████████████████████████████████| 154/154 [01:40<00:00,  1.54it/s, val52.0 0.2342 (0.0114)]\n",
      "100%|█████████████████████████████████████████████████████| 731/731 [08:42<00:00,  1.40it/s, train53.0 0.0058 (0.0001)]\n",
      "100%|███████████████████████████████████████████████████████| 154/154 [01:40<00:00,  1.54it/s, val53.0 0.2567 (0.0010)]\n",
      "100%|█████████████████████████████████████████████████████| 731/731 [08:43<00:00,  1.40it/s, train54.0 0.0076 (3.1003)]\n",
      "100%|███████████████████████████████████████████████████████| 154/154 [01:40<00:00,  1.53it/s, val54.0 0.2345 (1.6765)]\n",
      "100%|█████████████████████████████████████████████████████| 731/731 [08:41<00:00,  1.40it/s, train55.0 0.0061 (0.6259)]\n",
      "100%|███████████████████████████████████████████████████████| 154/154 [01:40<00:00,  1.53it/s, val55.0 0.2376 (0.7284)]\n",
      "100%|█████████████████████████████████████████████████████| 731/731 [08:42<00:00,  1.40it/s, train56.0 0.0066 (0.0015)]\n",
      "100%|███████████████████████████████████████████████████████| 154/154 [01:40<00:00,  1.53it/s, val56.0 0.2412 (1.4642)]\n",
      "100%|█████████████████████████████████████████████████████| 731/731 [08:43<00:00,  1.40it/s, train57.0 0.0062 (0.0045)]\n",
      "100%|███████████████████████████████████████████████████████| 154/154 [01:40<00:00,  1.53it/s, val57.0 0.2463 (0.4499)]\n",
      "100%|█████████████████████████████████████████████████████| 731/731 [08:42<00:00,  1.40it/s, train58.0 0.0068 (0.0005)]\n",
      "100%|███████████████████████████████████████████████████████| 154/154 [01:40<00:00,  1.53it/s, val58.0 0.2466 (0.9948)]\n",
      "100%|█████████████████████████████████████████████████████| 731/731 [08:42<00:00,  1.40it/s, train59.0 0.0059 (0.0003)]\n",
      "100%|███████████████████████████████████████████████████████| 154/154 [01:41<00:00,  1.51it/s, val59.0 0.2535 (1.8040)]\n"
     ]
    }
   ],
   "source": [
    "# Training Classification Model \n",
    "# 6 classes\n",
    "\n",
    "classifications = \"D:\\\\ExpertCohortsFullRez\\\\Hypertrophy-Manifest.csv\"\n",
    "\n",
    "categories = ['Amyloid_Filenames', 'AS_Filenames', 'Athletes_Filenames', 'CrNativeRez', 'HCM_Filenames', 'HTN_Filenames']\n",
    "\n",
    "\n",
    "device = torch.device(\"cuda\")\n",
    "\n",
    "train_dataset = Echo.Echo(root = \"D:\\\\ExpertCohortsFullRez\\\\CombinedForAmyloidTraining\",\n",
    "                        split = \"train\",\n",
    "                        target_type = \"Classification\",\n",
    "                        length = frames, \n",
    "                        period = period,                 \n",
    "                        resolution_h = resolution_h,\n",
    "                        resolution_w = resolution_w,                                 \n",
    "                        classification_file = classifications,\n",
    "                        num_classes = 6, \n",
    "                        categories = categories)\n",
    "                                \n",
    "train_dataloader = torch.utils.data.DataLoader(train_dataset, \n",
    "                                         batch_size = batch_size, \n",
    "                                         num_workers = 10,\n",
    "                                         shuffle = True, \n",
    "                                         pin_memory=(device.type == \"cuda\"))\n",
    "\n",
    "\n",
    "val_dataset = Echo.Echo(root = \"D:\\\\ExpertCohortsFullRez\\\\CombinedForAmyloidTraining\",\n",
    "                        split = \"val\",\n",
    "                        target_type = \"Classification\",\n",
    "                        length = frames, \n",
    "                        period = period,\n",
    "                        resolution_h = resolution_h,\n",
    "                        resolution_w = resolution_w,       \n",
    "                        classification_file = classifications,\n",
    "                        num_classes = 6, \n",
    "                        categories = categories)\n",
    "                                \n",
    "val_dataloader = torch.utils.data.DataLoader(val_dataset, \n",
    "                                         batch_size = batch_size, \n",
    "                                         num_workers = 10,\n",
    "                                         shuffle = True, \n",
    "                                         pin_memory=(device.type == \"cuda\"))\n",
    "\n",
    "dataloaders = {'train':train_dataloader, 'val':val_dataloader}\n",
    "\n",
    "\n",
    "model = torchvision.models.video.r2plus1d_18(pretrained=False, num_classes = 6) #r3d_18\n",
    "\n",
    "startingEpoch = 0\n",
    "startingBestLoss = 100000\n",
    "\n",
    "priorCheckpoint =  os.path.join(\"C:\\\\Datasets\\\\checkpoints\", \"amyloid_rez\"+str(resolution_h)+'x'+str(resolution_w)+\"_CEloss_checkpoint.pt\")\n",
    "\n",
    "toGPU = torch.cuda.is_available()\n",
    "#toGPU = False\n",
    "\n",
    "if toGPU:\n",
    "    print(\"cuda is available\")\n",
    "    device = torch.device(\"cuda\")\n",
    "    model = torch.nn.DataParallel(model)\n",
    "    model.to(device)\n",
    "\n",
    "if os.path.exists(priorCheckpoint):   \n",
    "    if toGPU:\n",
    "        print(\"loading weights\")\n",
    "        checkpoint = torch.load(priorCheckpoint)\n",
    "        model.load_state_dict(checkpoint['state_dict'])\n",
    "        startingEpoch = checkpoint['epoch']\n",
    "        startingBestLoss = checkpoint['best_loss']\n",
    "    else:\n",
    "        print(\"cuda is not available, cpu weights\")\n",
    "        device = torch.device(\"cpu\")\n",
    "        checkpoint = torch.load(priorCheckpoint, map_location = \"cpu\")\n",
    "        state_dict_cpu = {k[7:]: v for (k, v) in checkpoint['state_dict'].items()}\n",
    "        model.load_state_dict(state_dict_cpu)\n",
    "        startingEpoch = checkpoint['epoch']\n",
    "        startingBestLoss = checkpoint['best_loss']\n",
    "        \n",
    "learning_rate = 1e-4\n",
    "optim = torch.optim.Adam(model.parameters(), lr=learning_rate)\n",
    "bestLoss = startingBestLoss\n",
    "\n",
    "priorLines = None\n",
    "logFilename = os.path.join(amyloidpath, \"scripts\", \"log_AmyloidVideoSweep\"+str(resolution_h)+'x'+str(resolution_w)+\".csv\")\n",
    "\n",
    "\n",
    "if os.path.exists(\"LETS RESTART\"):\n",
    "    with open(logFilename, 'r') as output:\n",
    "        priorLines = output.readlines()\n",
    "    \n",
    "# with open(logFilename, 'w') as output:\n",
    "#     for line in priorLines:\n",
    "#         output.write(line)\n",
    "    \n",
    "with open(logFilename, 'w') as output:\n",
    "    for epoch in range(startingEpoch + 1, num_epochs):\n",
    "        if priorLines is not None:\n",
    "            for line in priorLines:\n",
    "                output.write(line)\n",
    "                print(line)\n",
    "            \n",
    "        for phase in dataloaders.keys():\n",
    "            total = 0\n",
    "            n = 0\n",
    "            \n",
    "            with torch.set_grad_enabled(phase == \"train\"):\n",
    "                with tqdm.tqdm(total = len(dataloaders[phase])) as progressbar:\n",
    "                    for i, (x, outcome) in enumerate(dataloaders[phase]):\n",
    "                        if verbose:\n",
    "                            print(i, x.shape, outcome.shape)\n",
    "                        \n",
    "                        x = x.to(device)\n",
    "                        outcome = outcome.to(device)\n",
    "                        \n",
    "                        p = model(x)#[\"out\"]\n",
    "                        \n",
    "                        if verbose:\n",
    "                            print( x.shape, p.shape, outcome.shape)\n",
    "                        \n",
    "                        loss = lossfn(p, outcome)\n",
    "                        \n",
    "                        total += loss.item()\n",
    "                        n += x.shape[0]\n",
    "                        \n",
    "                        progressbar.set_postfix_str(phase +\"{:.1f} {:.4f} ({:.4f})\".format(epoch, total / n, loss.item() /  x.shape[0]))\n",
    "                        progressbar.update()\n",
    "                        \n",
    "                        if(phase == 'train'):\n",
    "                            optim.zero_grad()\n",
    "                            loss.backward()\n",
    "                            optim.step()\n",
    "                            \n",
    "            output.write(phase + \",\" + str(epoch) + \",\" + str(total/n) + \"\\n\")\n",
    "\n",
    "            save = {\n",
    "                'epoch': epoch,\n",
    "                'state_dict': model.state_dict(),\n",
    "                'period': period,\n",
    "                'frames':frames,\n",
    "                'best_loss': bestLoss,\n",
    "                'loss': total / n,\n",
    "                'opt_dict': optim.state_dict()\n",
    "                }\n",
    "\n",
    "            torch.save(save, os.path.join(\"C:\\\\Datasets\\\\checkpoints\", \"amyloid_rez\"+str(resolution_h)+'x'+str(resolution_w)+\"_CEloss_checkpoint.pt\"))\n",
    "\n",
    "            if total / n < bestLoss and phase == \"val\":\n",
    "                torch.save(save, os.path.join(\"C:\\\\Datasets\\\\checkpoints\", \"amyloid_rez\"+str(resolution_h)+'x'+str(resolution_w)+\"_CEloss_best.pt\"))\n",
    "                bestLoss = total / n\n",
    "                print(\"this is the best yet\")\n",
    "\n",
    "                        \n"
   ]
  },
  {
   "cell_type": "code",
   "execution_count": 4,
   "metadata": {},
   "outputs": [
    {
     "name": "stdout",
     "output_type": "stream",
     "text": [
      "loading weights\n",
      "['Amyloid_Filenames', 'AS_Filenames', 'Athletes_Filenames', 'CrNativeRez', 'HCM_Filenames', 'HTN_Filenames'] D:\\ExpertCohortsFullRez\\Hypertrophy-Manifest.csv\n"
     ]
    },
    {
     "name": "stderr",
     "output_type": "stream",
     "text": [
      "  0%|                                                                                          | 0/151 [00:34<?, ?it/s]\n"
     ]
    },
    {
     "ename": "RuntimeError",
     "evalue": "Caught RuntimeError in replica 1 on device 1.\nOriginal Traceback (most recent call last):\n  File \"C:\\Users\\Windows\\Anaconda3\\lib\\site-packages\\torch\\nn\\parallel\\parallel_apply.py\", line 60, in _worker\n    output = module(*input, **kwargs)\n  File \"C:\\Users\\Windows\\Anaconda3\\lib\\site-packages\\torch\\nn\\modules\\module.py\", line 541, in __call__\n    result = self.forward(*input, **kwargs)\n  File \"C:\\Users\\Windows\\Anaconda3\\lib\\site-packages\\torchvision\\models\\video\\resnet.py\", line 230, in forward\n    x = self.layer1(x)\n  File \"C:\\Users\\Windows\\Anaconda3\\lib\\site-packages\\torch\\nn\\modules\\module.py\", line 541, in __call__\n    result = self.forward(*input, **kwargs)\n  File \"C:\\Users\\Windows\\Anaconda3\\lib\\site-packages\\torch\\nn\\modules\\container.py\", line 92, in forward\n    input = module(input)\n  File \"C:\\Users\\Windows\\Anaconda3\\lib\\site-packages\\torch\\nn\\modules\\module.py\", line 541, in __call__\n    result = self.forward(*input, **kwargs)\n  File \"C:\\Users\\Windows\\Anaconda3\\lib\\site-packages\\torchvision\\models\\video\\resnet.py\", line 106, in forward\n    out = self.conv1(x)\n  File \"C:\\Users\\Windows\\Anaconda3\\lib\\site-packages\\torch\\nn\\modules\\module.py\", line 541, in __call__\n    result = self.forward(*input, **kwargs)\n  File \"C:\\Users\\Windows\\Anaconda3\\lib\\site-packages\\torch\\nn\\modules\\container.py\", line 92, in forward\n    input = module(input)\n  File \"C:\\Users\\Windows\\Anaconda3\\lib\\site-packages\\torch\\nn\\modules\\module.py\", line 541, in __call__\n    result = self.forward(*input, **kwargs)\n  File \"C:\\Users\\Windows\\Anaconda3\\lib\\site-packages\\torch\\nn\\modules\\container.py\", line 92, in forward\n    input = module(input)\n  File \"C:\\Users\\Windows\\Anaconda3\\lib\\site-packages\\torch\\nn\\modules\\module.py\", line 541, in __call__\n    result = self.forward(*input, **kwargs)\n  File \"C:\\Users\\Windows\\Anaconda3\\lib\\site-packages\\torch\\nn\\modules\\batchnorm.py\", line 81, in forward\n    exponential_average_factor, self.eps)\n  File \"C:\\Users\\Windows\\Anaconda3\\lib\\site-packages\\torch\\nn\\functional.py\", line 1670, in batch_norm\n    training, momentum, eps, torch.backends.cudnn.enabled\nRuntimeError: CUDA out of memory. Tried to allocate 276.00 MiB (GPU 1; 11.00 GiB total capacity; 8.14 GiB already allocated; 209.74 MiB free; 65.29 MiB cached)\n",
     "output_type": "error",
     "traceback": [
      "\u001b[1;31m---------------------------------------------------------------------------\u001b[0m",
      "\u001b[1;31mRuntimeError\u001b[0m                              Traceback (most recent call last)",
      "\u001b[1;32m<ipython-input-4-a88212038f3a>\u001b[0m in \u001b[0;36m<module>\u001b[1;34m\u001b[0m\n\u001b[0;32m     51\u001b[0m                     \u001b[0moutcome\u001b[0m \u001b[1;33m=\u001b[0m \u001b[0moutcome\u001b[0m\u001b[1;33m.\u001b[0m\u001b[0mto\u001b[0m\u001b[1;33m(\u001b[0m\u001b[0mdevice\u001b[0m\u001b[1;33m)\u001b[0m\u001b[1;33m\u001b[0m\u001b[1;33m\u001b[0m\u001b[0m\n\u001b[0;32m     52\u001b[0m \u001b[1;33m\u001b[0m\u001b[0m\n\u001b[1;32m---> 53\u001b[1;33m                     \u001b[0mp\u001b[0m \u001b[1;33m=\u001b[0m \u001b[0mmodel\u001b[0m\u001b[1;33m(\u001b[0m\u001b[0mx\u001b[0m\u001b[1;33m)\u001b[0m\u001b[1;31m#[\"out\"]\u001b[0m\u001b[1;33m\u001b[0m\u001b[1;33m\u001b[0m\u001b[0m\n\u001b[0m\u001b[0;32m     54\u001b[0m                     \u001b[0myhat\u001b[0m\u001b[1;33m.\u001b[0m\u001b[0mappend\u001b[0m\u001b[1;33m(\u001b[0m\u001b[0mp\u001b[0m\u001b[1;33m.\u001b[0m\u001b[0mto\u001b[0m\u001b[1;33m(\u001b[0m\u001b[1;34m\"cpu\"\u001b[0m\u001b[1;33m)\u001b[0m\u001b[1;33m.\u001b[0m\u001b[0mdetach\u001b[0m\u001b[1;33m(\u001b[0m\u001b[1;33m)\u001b[0m\u001b[1;33m.\u001b[0m\u001b[0mnumpy\u001b[0m\u001b[1;33m(\u001b[0m\u001b[1;33m)\u001b[0m\u001b[1;33m)\u001b[0m\u001b[1;33m\u001b[0m\u001b[1;33m\u001b[0m\u001b[0m\n\u001b[0;32m     55\u001b[0m                     \u001b[0mm\u001b[0m \u001b[1;33m=\u001b[0m \u001b[0mnn\u001b[0m\u001b[1;33m.\u001b[0m\u001b[0mSoftmax\u001b[0m\u001b[1;33m(\u001b[0m\u001b[0mdim\u001b[0m \u001b[1;33m=\u001b[0m \u001b[1;36m1\u001b[0m\u001b[1;33m)\u001b[0m\u001b[1;33m\u001b[0m\u001b[1;33m\u001b[0m\u001b[0m\n",
      "\u001b[1;32m~\\Anaconda3\\lib\\site-packages\\torch\\nn\\modules\\module.py\u001b[0m in \u001b[0;36m__call__\u001b[1;34m(self, *input, **kwargs)\u001b[0m\n\u001b[0;32m    539\u001b[0m             \u001b[0mresult\u001b[0m \u001b[1;33m=\u001b[0m \u001b[0mself\u001b[0m\u001b[1;33m.\u001b[0m\u001b[0m_slow_forward\u001b[0m\u001b[1;33m(\u001b[0m\u001b[1;33m*\u001b[0m\u001b[0minput\u001b[0m\u001b[1;33m,\u001b[0m \u001b[1;33m**\u001b[0m\u001b[0mkwargs\u001b[0m\u001b[1;33m)\u001b[0m\u001b[1;33m\u001b[0m\u001b[1;33m\u001b[0m\u001b[0m\n\u001b[0;32m    540\u001b[0m         \u001b[1;32melse\u001b[0m\u001b[1;33m:\u001b[0m\u001b[1;33m\u001b[0m\u001b[1;33m\u001b[0m\u001b[0m\n\u001b[1;32m--> 541\u001b[1;33m             \u001b[0mresult\u001b[0m \u001b[1;33m=\u001b[0m \u001b[0mself\u001b[0m\u001b[1;33m.\u001b[0m\u001b[0mforward\u001b[0m\u001b[1;33m(\u001b[0m\u001b[1;33m*\u001b[0m\u001b[0minput\u001b[0m\u001b[1;33m,\u001b[0m \u001b[1;33m**\u001b[0m\u001b[0mkwargs\u001b[0m\u001b[1;33m)\u001b[0m\u001b[1;33m\u001b[0m\u001b[1;33m\u001b[0m\u001b[0m\n\u001b[0m\u001b[0;32m    542\u001b[0m         \u001b[1;32mfor\u001b[0m \u001b[0mhook\u001b[0m \u001b[1;32min\u001b[0m \u001b[0mself\u001b[0m\u001b[1;33m.\u001b[0m\u001b[0m_forward_hooks\u001b[0m\u001b[1;33m.\u001b[0m\u001b[0mvalues\u001b[0m\u001b[1;33m(\u001b[0m\u001b[1;33m)\u001b[0m\u001b[1;33m:\u001b[0m\u001b[1;33m\u001b[0m\u001b[1;33m\u001b[0m\u001b[0m\n\u001b[0;32m    543\u001b[0m             \u001b[0mhook_result\u001b[0m \u001b[1;33m=\u001b[0m \u001b[0mhook\u001b[0m\u001b[1;33m(\u001b[0m\u001b[0mself\u001b[0m\u001b[1;33m,\u001b[0m \u001b[0minput\u001b[0m\u001b[1;33m,\u001b[0m \u001b[0mresult\u001b[0m\u001b[1;33m)\u001b[0m\u001b[1;33m\u001b[0m\u001b[1;33m\u001b[0m\u001b[0m\n",
      "\u001b[1;32m~\\Anaconda3\\lib\\site-packages\\torch\\nn\\parallel\\data_parallel.py\u001b[0m in \u001b[0;36mforward\u001b[1;34m(self, *inputs, **kwargs)\u001b[0m\n\u001b[0;32m    150\u001b[0m             \u001b[1;32mreturn\u001b[0m \u001b[0mself\u001b[0m\u001b[1;33m.\u001b[0m\u001b[0mmodule\u001b[0m\u001b[1;33m(\u001b[0m\u001b[1;33m*\u001b[0m\u001b[0minputs\u001b[0m\u001b[1;33m[\u001b[0m\u001b[1;36m0\u001b[0m\u001b[1;33m]\u001b[0m\u001b[1;33m,\u001b[0m \u001b[1;33m**\u001b[0m\u001b[0mkwargs\u001b[0m\u001b[1;33m[\u001b[0m\u001b[1;36m0\u001b[0m\u001b[1;33m]\u001b[0m\u001b[1;33m)\u001b[0m\u001b[1;33m\u001b[0m\u001b[1;33m\u001b[0m\u001b[0m\n\u001b[0;32m    151\u001b[0m         \u001b[0mreplicas\u001b[0m \u001b[1;33m=\u001b[0m \u001b[0mself\u001b[0m\u001b[1;33m.\u001b[0m\u001b[0mreplicate\u001b[0m\u001b[1;33m(\u001b[0m\u001b[0mself\u001b[0m\u001b[1;33m.\u001b[0m\u001b[0mmodule\u001b[0m\u001b[1;33m,\u001b[0m \u001b[0mself\u001b[0m\u001b[1;33m.\u001b[0m\u001b[0mdevice_ids\u001b[0m\u001b[1;33m[\u001b[0m\u001b[1;33m:\u001b[0m\u001b[0mlen\u001b[0m\u001b[1;33m(\u001b[0m\u001b[0minputs\u001b[0m\u001b[1;33m)\u001b[0m\u001b[1;33m]\u001b[0m\u001b[1;33m)\u001b[0m\u001b[1;33m\u001b[0m\u001b[1;33m\u001b[0m\u001b[0m\n\u001b[1;32m--> 152\u001b[1;33m         \u001b[0moutputs\u001b[0m \u001b[1;33m=\u001b[0m \u001b[0mself\u001b[0m\u001b[1;33m.\u001b[0m\u001b[0mparallel_apply\u001b[0m\u001b[1;33m(\u001b[0m\u001b[0mreplicas\u001b[0m\u001b[1;33m,\u001b[0m \u001b[0minputs\u001b[0m\u001b[1;33m,\u001b[0m \u001b[0mkwargs\u001b[0m\u001b[1;33m)\u001b[0m\u001b[1;33m\u001b[0m\u001b[1;33m\u001b[0m\u001b[0m\n\u001b[0m\u001b[0;32m    153\u001b[0m         \u001b[1;32mreturn\u001b[0m \u001b[0mself\u001b[0m\u001b[1;33m.\u001b[0m\u001b[0mgather\u001b[0m\u001b[1;33m(\u001b[0m\u001b[0moutputs\u001b[0m\u001b[1;33m,\u001b[0m \u001b[0mself\u001b[0m\u001b[1;33m.\u001b[0m\u001b[0moutput_device\u001b[0m\u001b[1;33m)\u001b[0m\u001b[1;33m\u001b[0m\u001b[1;33m\u001b[0m\u001b[0m\n\u001b[0;32m    154\u001b[0m \u001b[1;33m\u001b[0m\u001b[0m\n",
      "\u001b[1;32m~\\Anaconda3\\lib\\site-packages\\torch\\nn\\parallel\\data_parallel.py\u001b[0m in \u001b[0;36mparallel_apply\u001b[1;34m(self, replicas, inputs, kwargs)\u001b[0m\n\u001b[0;32m    160\u001b[0m \u001b[1;33m\u001b[0m\u001b[0m\n\u001b[0;32m    161\u001b[0m     \u001b[1;32mdef\u001b[0m \u001b[0mparallel_apply\u001b[0m\u001b[1;33m(\u001b[0m\u001b[0mself\u001b[0m\u001b[1;33m,\u001b[0m \u001b[0mreplicas\u001b[0m\u001b[1;33m,\u001b[0m \u001b[0minputs\u001b[0m\u001b[1;33m,\u001b[0m \u001b[0mkwargs\u001b[0m\u001b[1;33m)\u001b[0m\u001b[1;33m:\u001b[0m\u001b[1;33m\u001b[0m\u001b[1;33m\u001b[0m\u001b[0m\n\u001b[1;32m--> 162\u001b[1;33m         \u001b[1;32mreturn\u001b[0m \u001b[0mparallel_apply\u001b[0m\u001b[1;33m(\u001b[0m\u001b[0mreplicas\u001b[0m\u001b[1;33m,\u001b[0m \u001b[0minputs\u001b[0m\u001b[1;33m,\u001b[0m \u001b[0mkwargs\u001b[0m\u001b[1;33m,\u001b[0m \u001b[0mself\u001b[0m\u001b[1;33m.\u001b[0m\u001b[0mdevice_ids\u001b[0m\u001b[1;33m[\u001b[0m\u001b[1;33m:\u001b[0m\u001b[0mlen\u001b[0m\u001b[1;33m(\u001b[0m\u001b[0mreplicas\u001b[0m\u001b[1;33m)\u001b[0m\u001b[1;33m]\u001b[0m\u001b[1;33m)\u001b[0m\u001b[1;33m\u001b[0m\u001b[1;33m\u001b[0m\u001b[0m\n\u001b[0m\u001b[0;32m    163\u001b[0m \u001b[1;33m\u001b[0m\u001b[0m\n\u001b[0;32m    164\u001b[0m     \u001b[1;32mdef\u001b[0m \u001b[0mgather\u001b[0m\u001b[1;33m(\u001b[0m\u001b[0mself\u001b[0m\u001b[1;33m,\u001b[0m \u001b[0moutputs\u001b[0m\u001b[1;33m,\u001b[0m \u001b[0moutput_device\u001b[0m\u001b[1;33m)\u001b[0m\u001b[1;33m:\u001b[0m\u001b[1;33m\u001b[0m\u001b[1;33m\u001b[0m\u001b[0m\n",
      "\u001b[1;32m~\\Anaconda3\\lib\\site-packages\\torch\\nn\\parallel\\parallel_apply.py\u001b[0m in \u001b[0;36mparallel_apply\u001b[1;34m(modules, inputs, kwargs_tup, devices)\u001b[0m\n\u001b[0;32m     83\u001b[0m         \u001b[0moutput\u001b[0m \u001b[1;33m=\u001b[0m \u001b[0mresults\u001b[0m\u001b[1;33m[\u001b[0m\u001b[0mi\u001b[0m\u001b[1;33m]\u001b[0m\u001b[1;33m\u001b[0m\u001b[1;33m\u001b[0m\u001b[0m\n\u001b[0;32m     84\u001b[0m         \u001b[1;32mif\u001b[0m \u001b[0misinstance\u001b[0m\u001b[1;33m(\u001b[0m\u001b[0moutput\u001b[0m\u001b[1;33m,\u001b[0m \u001b[0mExceptionWrapper\u001b[0m\u001b[1;33m)\u001b[0m\u001b[1;33m:\u001b[0m\u001b[1;33m\u001b[0m\u001b[1;33m\u001b[0m\u001b[0m\n\u001b[1;32m---> 85\u001b[1;33m             \u001b[0moutput\u001b[0m\u001b[1;33m.\u001b[0m\u001b[0mreraise\u001b[0m\u001b[1;33m(\u001b[0m\u001b[1;33m)\u001b[0m\u001b[1;33m\u001b[0m\u001b[1;33m\u001b[0m\u001b[0m\n\u001b[0m\u001b[0;32m     86\u001b[0m         \u001b[0moutputs\u001b[0m\u001b[1;33m.\u001b[0m\u001b[0mappend\u001b[0m\u001b[1;33m(\u001b[0m\u001b[0moutput\u001b[0m\u001b[1;33m)\u001b[0m\u001b[1;33m\u001b[0m\u001b[1;33m\u001b[0m\u001b[0m\n\u001b[0;32m     87\u001b[0m     \u001b[1;32mreturn\u001b[0m \u001b[0moutputs\u001b[0m\u001b[1;33m\u001b[0m\u001b[1;33m\u001b[0m\u001b[0m\n",
      "\u001b[1;32m~\\Anaconda3\\lib\\site-packages\\torch\\_utils.py\u001b[0m in \u001b[0;36mreraise\u001b[1;34m(self)\u001b[0m\n\u001b[0;32m    383\u001b[0m             \u001b[1;31m# (https://bugs.python.org/issue2651), so we work around it.\u001b[0m\u001b[1;33m\u001b[0m\u001b[1;33m\u001b[0m\u001b[1;33m\u001b[0m\u001b[0m\n\u001b[0;32m    384\u001b[0m             \u001b[0mmsg\u001b[0m \u001b[1;33m=\u001b[0m \u001b[0mKeyErrorMessage\u001b[0m\u001b[1;33m(\u001b[0m\u001b[0mmsg\u001b[0m\u001b[1;33m)\u001b[0m\u001b[1;33m\u001b[0m\u001b[1;33m\u001b[0m\u001b[0m\n\u001b[1;32m--> 385\u001b[1;33m         \u001b[1;32mraise\u001b[0m \u001b[0mself\u001b[0m\u001b[1;33m.\u001b[0m\u001b[0mexc_type\u001b[0m\u001b[1;33m(\u001b[0m\u001b[0mmsg\u001b[0m\u001b[1;33m)\u001b[0m\u001b[1;33m\u001b[0m\u001b[1;33m\u001b[0m\u001b[0m\n\u001b[0m",
      "\u001b[1;31mRuntimeError\u001b[0m: Caught RuntimeError in replica 1 on device 1.\nOriginal Traceback (most recent call last):\n  File \"C:\\Users\\Windows\\Anaconda3\\lib\\site-packages\\torch\\nn\\parallel\\parallel_apply.py\", line 60, in _worker\n    output = module(*input, **kwargs)\n  File \"C:\\Users\\Windows\\Anaconda3\\lib\\site-packages\\torch\\nn\\modules\\module.py\", line 541, in __call__\n    result = self.forward(*input, **kwargs)\n  File \"C:\\Users\\Windows\\Anaconda3\\lib\\site-packages\\torchvision\\models\\video\\resnet.py\", line 230, in forward\n    x = self.layer1(x)\n  File \"C:\\Users\\Windows\\Anaconda3\\lib\\site-packages\\torch\\nn\\modules\\module.py\", line 541, in __call__\n    result = self.forward(*input, **kwargs)\n  File \"C:\\Users\\Windows\\Anaconda3\\lib\\site-packages\\torch\\nn\\modules\\container.py\", line 92, in forward\n    input = module(input)\n  File \"C:\\Users\\Windows\\Anaconda3\\lib\\site-packages\\torch\\nn\\modules\\module.py\", line 541, in __call__\n    result = self.forward(*input, **kwargs)\n  File \"C:\\Users\\Windows\\Anaconda3\\lib\\site-packages\\torchvision\\models\\video\\resnet.py\", line 106, in forward\n    out = self.conv1(x)\n  File \"C:\\Users\\Windows\\Anaconda3\\lib\\site-packages\\torch\\nn\\modules\\module.py\", line 541, in __call__\n    result = self.forward(*input, **kwargs)\n  File \"C:\\Users\\Windows\\Anaconda3\\lib\\site-packages\\torch\\nn\\modules\\container.py\", line 92, in forward\n    input = module(input)\n  File \"C:\\Users\\Windows\\Anaconda3\\lib\\site-packages\\torch\\nn\\modules\\module.py\", line 541, in __call__\n    result = self.forward(*input, **kwargs)\n  File \"C:\\Users\\Windows\\Anaconda3\\lib\\site-packages\\torch\\nn\\modules\\container.py\", line 92, in forward\n    input = module(input)\n  File \"C:\\Users\\Windows\\Anaconda3\\lib\\site-packages\\torch\\nn\\modules\\module.py\", line 541, in __call__\n    result = self.forward(*input, **kwargs)\n  File \"C:\\Users\\Windows\\Anaconda3\\lib\\site-packages\\torch\\nn\\modules\\batchnorm.py\", line 81, in forward\n    exponential_average_factor, self.eps)\n  File \"C:\\Users\\Windows\\Anaconda3\\lib\\site-packages\\torch\\nn\\functional.py\", line 1670, in batch_norm\n    training, momentum, eps, torch.backends.cudnn.enabled\nRuntimeError: CUDA out of memory. Tried to allocate 276.00 MiB (GPU 1; 11.00 GiB total capacity; 8.14 GiB already allocated; 209.74 MiB free; 65.29 MiB cached)\n"
     ]
    }
   ],
   "source": [
    "# Test Classification Model\n",
    "# Amyloid only\n",
    "i = 1\n",
    "\n",
    "output = os.path.join(amyloidpath, \"scripts\", \"classification_amyloidvsMany_rez\"+str(resolution_h * i)+'x'+str(resolution_w * i)+\".csv\")\n",
    "#classifications = \"C:\\\\Users\\\\Windows\\\\Dropbox\\\\Echo Research\\\\CodeBase\\\\Amyloid\\\\AmyloidEcho\\\\scripts\\\\manifest_amyloidOnly.csv\"\n",
    "\n",
    "classifications = \"D:\\\\ExpertCohortsFullRez\\\\Hypertrophy-Manifest.csv\"\n",
    "\n",
    "model = torchvision.models.video.r2plus1d_18(pretrained=False, num_classes = 6) #r3d_18\n",
    "\n",
    "if torch.cuda.is_available():\n",
    "    print(\"loading weights\")\n",
    "    device = torch.device(\"cuda\")\n",
    "    model = torch.nn.DataParallel(model)\n",
    "    model.to(device)\n",
    "    checkpoint = torch.load( os.path.join(\"C:\\\\Datasets\\\\checkpoints\", \"amyloid_rez\"+str(resolution_h)+'x'+str(resolution_w)+\"_CEloss_best.pt\"))\n",
    "    model.load_state_dict(checkpoint['state_dict'])\n",
    "    \n",
    "\n",
    "test_dataset = Echo.Echo(root = \"D:\\\\ExpertCohortsFullRez\\\\CombinedForAmyloidTraining\",\n",
    "                        split = \"test\",\n",
    "                        target_type = \"Classification\",\n",
    "                        length = frames, \n",
    "                        period = period,\n",
    "                        resolution_h = resolution_h * i,\n",
    "                        resolution_w = resolution_w * i,       \n",
    "                        classification_file = classifications,\n",
    "                        num_classes = 6, \n",
    "                        categories = categories)\n",
    "                                \n",
    "test_dataloader = torch.utils.data.DataLoader(test_dataset, \n",
    "                                         batch_size = int(batch_size / i), \n",
    "                                         num_workers = 10,\n",
    "                                         shuffle = False, \n",
    "                                         pin_memory=(device.type == \"cuda\"))\n",
    "\n",
    "total = 0 \n",
    "n = 0\n",
    "\n",
    "bestguess = []\n",
    "yhat = []\n",
    "y = []\n",
    "\n",
    "with torch.set_grad_enabled(False):\n",
    "            with tqdm.tqdm(total = len(test_dataloader)) as progressbar:\n",
    "                for (x, outcome) in test_dataloader:\n",
    "                    \n",
    "                    y.append(outcome.numpy())\n",
    "                    x = x.to(device)\n",
    "                    outcome = outcome.to(device)\n",
    "\n",
    "                    p = model(x)#[\"out\"]\n",
    "                    yhat.append(p.to(\"cpu\").detach().numpy())\n",
    "                    m = nn.Softmax(dim = 1)\n",
    "                    \n",
    "                    #for i in range(x.shape[0]):\n",
    "                    #    print(p[i,:].to(\"cpu\").detach().numpy())\n",
    "                    \n",
    "                    thisbestguess = np.argmax(m(p).to(\"cpu\").detach().numpy(), axis = 1)\n",
    "                    #print(bestguess, outcome)\n",
    "                    bestguess.append(thisbestguess)\n",
    "\n",
    "                    loss = lossfn(p, outcome)\n",
    "                    total += loss.item()\n",
    "                    n += x.shape[0]\n",
    "\n",
    "                    #print(y, yhat, bestguess)\n",
    "\n",
    "                    progressbar.set_postfix_str(\"testing\" +\"{:.1f} {:.4f} ({:.4f})\".format(1, total / n, loss.item() /  x.shape[0]))\n",
    "                    progressbar.update()\n"
   ]
  },
  {
   "cell_type": "code",
   "execution_count": null,
   "metadata": {},
   "outputs": [],
   "source": [
    "#output \n",
    "\n",
    "#print(y, yhat, bestguess)\n",
    "\n",
    "fnames = []\n",
    "\n",
    "with open(os.path.join(amyloidpath, \"scripts\", \"manifest_amyloidOnly.csv\"), 'r') as f:\n",
    "    for line in f.readlines():\n",
    "        if line.split(',')[1] == 'test':\n",
    "            fnames.append(line.split(',')[0])\n",
    "            \n",
    "#print(len(fnames), fnames)\n",
    "\n",
    "with open(output, \"w\") as g:\n",
    "    g.write('file,truth,pred,amyloid,control\\n')\n",
    "    for i, pair in enumerate(y):\n",
    "        #print(pair, yhat[i], bestguess[i])\n",
    "        for ii, item in enumerate(pair):\n",
    "            \n",
    "            #print(fnames[i*10 + ii],item, yhat[i][ii])\n",
    "            g.write(fnames[i*10 + ii] + \",\" + str(item) + \",\" + str(bestguess[i][ii]) + \n",
    "                    \",\" + str(yhat[i][ii][0]) + \n",
    "                    \",\" + str(yhat[i][ii][1]) +  \"\\n\")\n",
    "            \n",
    "            \n",
    "            "
   ]
  },
  {
   "cell_type": "code",
   "execution_count": null,
   "metadata": {},
   "outputs": [],
   "source": [
    "import os\n",
    "import numpy as np\n",
    "import matplotlib.pyplot as plt\n",
    "from itertools import cycle\n",
    "\n",
    "from sklearn import svm, datasets\n",
    "from sklearn.metrics import roc_curve, auc\n",
    "from sklearn.model_selection import train_test_split\n",
    "from sklearn.preprocessing import label_binarize\n",
    "from sklearn.multiclass import OneVsRestClassifier\n",
    "from scipy import interp\n",
    "from sklearn.metrics import roc_auc_score\n",
    "\n",
    "%matplotlib inline\n",
    "\n",
    "num_classes = 2\n",
    "\n",
    "y = []\n",
    "yhat = []\n",
    "bestguess = []\n",
    "\n",
    "amyloidpath = \"C:\\\\Users\\\\Windows\\\\Dropbox\\\\Echo Research\\\\CodeBase\\\\Amyloid\\\\AmyloidEcho\"\n",
    "output = os.path.join(amyloidpath, \"scripts\", \"classification_amyloidOnly_output.csv\")\n",
    "\n",
    "with open(output, 'r') as pred:\n",
    "    for i, line in enumerate(pred.readlines()):\n",
    "        if i > 0:\n",
    "            #print(line)\n",
    "            linesplit = line.strip().split(',')\n",
    "            thisy = [0,0]\n",
    "            thisy[int(linesplit[1])] = 1\n",
    "            y.append(thisy)\n",
    "            yhat.append([float(linesplit[3]), float(linesplit[4])])\n",
    "            bestguess.append(int(linesplit[2]))\n",
    "\n",
    "#print(y, yhat)\n",
    "\n",
    "# Compute ROC curve and ROC area for each class\n",
    "fpr = dict()\n",
    "tpr = dict()\n",
    "roc_auc = dict()\n",
    "for i in range(num_classes):\n",
    "    thisy = [thisclass[i] for thisclass in y]\n",
    "    thisyhat = [thisclass[i] for thisclass in yhat]\n",
    "    fpr[i], tpr[i], _ = roc_curve(thisy, thisyhat)\n",
    "    roc_auc[i] = auc(fpr[i], tpr[i])\n",
    "\n",
    "# Compute micro-average ROC curve and ROC area\n",
    "fpr[\"micro\"], tpr[\"micro\"], _ = roc_curve(np.ravel(y), np.ravel(yhat))\n",
    "roc_auc[\"micro\"] = auc(fpr[\"micro\"], tpr[\"micro\"])\n",
    "\n",
    "\n",
    "\n"
   ]
  },
  {
   "cell_type": "code",
   "execution_count": null,
   "metadata": {},
   "outputs": [],
   "source": [
    "plt.figure()\n",
    "lw = 2\n",
    "plt.plot(fpr[0], tpr[0], color='darkorange',\n",
    "         lw=lw, label='ROC curve (area = %0.2f)' % roc_auc[0])\n",
    "plt.plot([0, 1], [0, 1], color='navy', lw=lw, linestyle='--')\n",
    "plt.xlim([0.0, 1.0])\n",
    "plt.ylim([0.0, 1.05])\n",
    "plt.xlabel('False Positive Rate')\n",
    "plt.ylabel('True Positive Rate')\n",
    "plt.title('Receiver operating characteristic example')\n",
    "plt.legend(loc=\"lower right\")\n",
    "plt.show()"
   ]
  },
  {
   "cell_type": "code",
   "execution_count": null,
   "metadata": {},
   "outputs": [],
   "source": [
    "plt.figure()\n",
    "lw = 2\n",
    "plt.plot(fpr[1], tpr[1], color='darkorange',\n",
    "         lw=lw, label='ROC curve (area = %0.2f)' % roc_auc[1])\n",
    "plt.plot([0, 1], [0, 1], color='navy', lw=lw, linestyle='--')\n",
    "plt.xlim([0.0, 1.0])\n",
    "plt.ylim([0.0, 1.05])\n",
    "plt.xlabel('False Positive Rate')\n",
    "plt.ylabel('True Positive Rate')\n",
    "plt.title('Receiver operating characteristic example')\n",
    "plt.legend(loc=\"lower right\")\n",
    "plt.show()"
   ]
  },
  {
   "cell_type": "code",
   "execution_count": null,
   "metadata": {},
   "outputs": [],
   "source": [
    "n_classes = 2\n",
    "\n",
    "# First aggregate all false positive rates\n",
    "all_fpr = np.unique(np.concatenate([fpr[i] for i in range(n_classes)]))\n",
    "\n",
    "# Then interpolate all ROC curves at this points\n",
    "mean_tpr = np.zeros_like(all_fpr)\n",
    "for i in range(n_classes):\n",
    "    mean_tpr += interp(all_fpr, fpr[i], tpr[i])\n",
    "\n",
    "# Finally average it and compute AUC\n",
    "mean_tpr /= n_classes\n",
    "\n",
    "fpr[\"macro\"] = all_fpr\n",
    "tpr[\"macro\"] = mean_tpr\n",
    "roc_auc[\"macro\"] = auc(fpr[\"macro\"], tpr[\"macro\"])\n",
    "\n",
    "# Plot all ROC curves\n",
    "plt.figure()\n",
    "plt.plot(fpr[\"micro\"], tpr[\"micro\"],\n",
    "         label='micro-average ROC curve (area = {0:0.2f})'\n",
    "               ''.format(roc_auc[\"micro\"]),\n",
    "         color='deeppink', linestyle=':', linewidth=4)\n",
    "\n",
    "plt.plot(fpr[\"macro\"], tpr[\"macro\"],\n",
    "         label='macro-average ROC curve (area = {0:0.2f})'\n",
    "               ''.format(roc_auc[\"macro\"]),\n",
    "         color='navy', linestyle=':', linewidth=4)\n",
    "\n",
    "colors = cycle(['aqua', 'darkorange', 'cornflowerblue'])\n",
    "for i, color in zip(range(n_classes), colors):\n",
    "    plt.plot(fpr[i], tpr[i], color=color, lw=lw,\n",
    "             label='ROC curve of class {0} (area = {1:0.2f})'\n",
    "             ''.format(i, roc_auc[i]))\n",
    "\n",
    "plt.plot([0, 1], [0, 1], 'k--', lw=lw)\n",
    "plt.xlim([0.0, 1.0])\n",
    "plt.ylim([0.0, 1.05])\n",
    "plt.xlabel('False Positive Rate')\n",
    "plt.ylabel('True Positive Rate')\n",
    "plt.title('Some extension of Receiver operating characteristic to multi-class')\n",
    "plt.legend(loc=\"lower right\")\n",
    "plt.show()"
   ]
  },
  {
   "cell_type": "code",
   "execution_count": null,
   "metadata": {},
   "outputs": [],
   "source": [
    "from sklearn.metrics import confusion_matrix\n",
    "\n",
    "#print(bestguess)\n",
    "conf_matrix_y = []\n",
    "\n",
    "with open(output, 'r') as pred:\n",
    "    for i, line in enumerate(pred.readlines()):\n",
    "        if i > 0:\n",
    "            #print(line)\n",
    "            linesplit = line.strip().split(',')\n",
    "            conf_matrix_y.append(int(linesplit[1]))\n",
    "\n",
    "conf_matrix_bestguess = bestguess\n",
    "#np.concatenate(bestguess)\n",
    "\n",
    "\n",
    "array = confusion_matrix(conf_matrix_y, conf_matrix_bestguess)\n",
    "\n",
    "print(array)"
   ]
  },
  {
   "cell_type": "code",
   "execution_count": null,
   "metadata": {},
   "outputs": [],
   "source": [
    "import seaborn as sn\n",
    "import pandas as pd\n",
    "import matplotlib.pyplot as plt\n",
    "\n",
    "array = confusion_matrix(conf_matrix_y, conf_matrix_bestguess)\n",
    "\n",
    "df_cm = pd.DataFrame(array, range(2), range(2))\n",
    "# plt.figure(figsize=(10,7))\n",
    "sn.set(font_scale=1.4) # for label size\n",
    "sn.heatmap(df_cm, annot=True, annot_kws={\"size\": 16}) # font size\n",
    "\n",
    "plt.show()\n"
   ]
  },
  {
   "cell_type": "code",
   "execution_count": null,
   "metadata": {},
   "outputs": [],
   "source": []
  }
 ],
 "metadata": {
  "kernelspec": {
   "display_name": "Python 3",
   "language": "python",
   "name": "python3"
  },
  "language_info": {
   "codemirror_mode": {
    "name": "ipython",
    "version": 3
   },
   "file_extension": ".py",
   "mimetype": "text/x-python",
   "name": "python",
   "nbconvert_exporter": "python",
   "pygments_lexer": "ipython3",
   "version": "3.7.6"
  }
 },
 "nbformat": 4,
 "nbformat_minor": 2
}
