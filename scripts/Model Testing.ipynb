{
 "cells": [
  {
   "cell_type": "code",
   "execution_count": null,
   "metadata": {},
   "outputs": [],
   "source": [
    "# Ishan Jain\n",
    "\n",
    "# Load predictions vs. ground truth from FileList\n",
    "# Find average difference between two indexes\n",
    "\n",
    "import os\n",
    "import pandas\n",
    "\n",
    "root = \"/Users/ishan/Documents/Stanford/EchoData\"\n",
    "cedars_predictions = os.path.join(root, \"cedars_output.csv\")"
   ]
  },
  {
   "cell_type": "code",
   "execution_count": null,
   "metadata": {},
   "outputs": [],
   "source": [
    "# Finding Average Differences\n",
    "\n",
    "df = pd.read_csv(cedars_prediction)\n",
    "\n",
    "# axis is the column\n",
    "predictions_sum = df.sum(axis=1, skipna = True)\n",
    "truth_sum = df.sum(axis=1, skipna = True)\n",
    "\n",
    "average_difference = abs(predictions_sum - truth_su)"
   ]
  }
 ],
 "metadata": {
  "kernelspec": {
   "display_name": "Python 3",
   "language": "python",
   "name": "python3"
  },
  "language_info": {
   "codemirror_mode": {
    "name": "ipython",
    "version": 3
   },
   "file_extension": ".py",
   "mimetype": "text/x-python",
   "name": "python",
   "nbconvert_exporter": "python",
   "pygments_lexer": "ipython3",
   "version": "3.7.6"
  }
 },
 "nbformat": 4,
 "nbformat_minor": 2
}
