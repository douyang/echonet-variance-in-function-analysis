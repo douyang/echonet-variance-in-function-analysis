{
 "cells": [
  {
   "cell_type": "markdown",
   "metadata": {},
   "source": [
    "### Generation of masks with lines to determine volume calculation area"
   ]
  },
  {
   "cell_type": "code",
   "execution_count": 30,
   "metadata": {},
   "outputs": [
    {
     "name": "stderr",
     "output_type": "stream",
     "text": [
      "  0%|          | 1/19943 [00:00<37:07,  8.95it/s]"
     ]
    },
    {
     "name": "stdout",
     "output_type": "stream",
     "text": [
      "\n",
      "Iterating through each video and making frame if selected\n"
     ]
    },
    {
     "name": "stderr",
     "output_type": "stream",
     "text": [
      "  0%|          | 39/19943 [00:06<57:07,  5.81it/s]  \n"
     ]
    },
    {
     "ename": "IndexError",
     "evalue": "list index out of range",
     "output_type": "error",
     "traceback": [
      "\u001b[0;31m---------------------------------------------------------------------------\u001b[0m",
      "\u001b[0;31mIndexError\u001b[0m                                Traceback (most recent call last)",
      "\u001b[0;32m<ipython-input-30-285f9579559e>\u001b[0m in \u001b[0;36m<module>\u001b[0;34m\u001b[0m\n\u001b[1;32m     27\u001b[0m \u001b[0;34m\u001b[0m\u001b[0m\n\u001b[1;32m     28\u001b[0m     \u001b[0mpoints\u001b[0m \u001b[0;34m=\u001b[0m \u001b[0;34m[\u001b[0m\u001b[0;34m]\u001b[0m\u001b[0;34m\u001b[0m\u001b[0;34m\u001b[0m\u001b[0m\n\u001b[0;32m---> 29\u001b[0;31m     \u001b[0mvolumes\u001b[0m\u001b[0;34m,\u001b[0m \u001b[0mx1\u001b[0m\u001b[0;34m,\u001b[0m \u001b[0my1\u001b[0m\u001b[0;34m,\u001b[0m \u001b[0mx2\u001b[0m\u001b[0;34m,\u001b[0m \u001b[0my2\u001b[0m \u001b[0;34m=\u001b[0m \u001b[0mfuncs\u001b[0m\u001b[0;34m.\u001b[0m\u001b[0mcalculateVolumeErosionAndDilation\u001b[0m\u001b[0;34m(\u001b[0m\u001b[0mINPUT_FRAME_PATH\u001b[0m\u001b[0;34m,\u001b[0m \u001b[0;36m20\u001b[0m\u001b[0;34m,\u001b[0m \u001b[0miterations\u001b[0m\u001b[0;34m=\u001b[0m\u001b[0;36m10\u001b[0m\u001b[0;34m,\u001b[0m \u001b[0mmethod\u001b[0m\u001b[0;34m=\u001b[0m\u001b[0;34m\"Method of Disks\"\u001b[0m\u001b[0;34m)\u001b[0m\u001b[0;34m\u001b[0m\u001b[0;34m\u001b[0m\u001b[0m\n\u001b[0m\u001b[1;32m     30\u001b[0m     \u001b[0;31m#volumes, x1, y1, x2, y2 = funcs.calculateVolumeMainAxisTopShift(INPUT_FRAME_PATH, 20, pointShifts=10, method=\"Method of Disks\")\u001b[0m\u001b[0;34m\u001b[0m\u001b[0;34m\u001b[0m\u001b[0;34m\u001b[0m\u001b[0m\n\u001b[1;32m     31\u001b[0m     \u001b[0;31m#volumes, x1, y1, x2, y2, degrees = funcs.calculateVolumeAngleShift(INPUT_FRAME_PATH, 20, sweeps=10, method=\"Method of Disks\")\u001b[0m\u001b[0;34m\u001b[0m\u001b[0;34m\u001b[0m\u001b[0;34m\u001b[0m\u001b[0m\n",
      "\u001b[0;32m~/Documents/Stanford/echonet-function-evaluation/echofunctions/algorithms/funcs.py\u001b[0m in \u001b[0;36mcalculateVolumeErosionAndDilation\u001b[0;34m(path, number, iterations, method)\u001b[0m\n\u001b[1;32m    699\u001b[0m       \u001b[0mlowerIntercept\u001b[0m\u001b[0;34m,\u001b[0m \u001b[0mhigherIntercept\u001b[0m \u001b[0;34m=\u001b[0m \u001b[0mhigherIntercept\u001b[0m\u001b[0;34m,\u001b[0m \u001b[0mlowerIntercept\u001b[0m\u001b[0;34m\u001b[0m\u001b[0;34m\u001b[0m\u001b[0m\n\u001b[1;32m    700\u001b[0m \u001b[0;34m\u001b[0m\u001b[0m\n\u001b[0;32m--> 701\u001b[0;31m     \u001b[0mx1\u001b[0m\u001b[0;34m,\u001b[0m \u001b[0my1\u001b[0m\u001b[0;34m,\u001b[0m \u001b[0mx2\u001b[0m\u001b[0;34m,\u001b[0m \u001b[0my2\u001b[0m \u001b[0;34m=\u001b[0m \u001b[0mgetTopAndBottomCoords\u001b[0m\u001b[0;34m(\u001b[0m\u001b[0mpoints\u001b[0m\u001b[0;34m)\u001b[0m\u001b[0;34m\u001b[0m\u001b[0;34m\u001b[0m\u001b[0m\n\u001b[0m\u001b[1;32m    702\u001b[0m     \u001b[0;32mif\u001b[0m \u001b[0;34m(\u001b[0m\u001b[0mx1\u001b[0m \u001b[0;34m+\u001b[0m \u001b[0my1\u001b[0m\u001b[0;34m)\u001b[0m \u001b[0;34m>\u001b[0m \u001b[0;34m(\u001b[0m\u001b[0mx2\u001b[0m \u001b[0;34m+\u001b[0m \u001b[0my2\u001b[0m\u001b[0;34m)\u001b[0m\u001b[0;34m:\u001b[0m\u001b[0;34m\u001b[0m\u001b[0;34m\u001b[0m\u001b[0m\n\u001b[1;32m    703\u001b[0m       \u001b[0mx1\u001b[0m\u001b[0;34m,\u001b[0m \u001b[0my1\u001b[0m\u001b[0;34m,\u001b[0m \u001b[0mx2\u001b[0m\u001b[0;34m,\u001b[0m \u001b[0my2\u001b[0m \u001b[0;34m=\u001b[0m \u001b[0mx2\u001b[0m\u001b[0;34m,\u001b[0m \u001b[0my2\u001b[0m\u001b[0;34m,\u001b[0m \u001b[0mx1\u001b[0m\u001b[0;34m,\u001b[0m \u001b[0my1\u001b[0m\u001b[0;34m\u001b[0m\u001b[0;34m\u001b[0m\u001b[0m\n",
      "\u001b[0;32m~/Documents/Stanford/echonet-function-evaluation/echofunctions/algorithms/funcs.py\u001b[0m in \u001b[0;36mgetTopAndBottomCoords\u001b[0;34m(points)\u001b[0m\n\u001b[1;32m    149\u001b[0m   \u001b[0;31m# Average X Coordinates\u001b[0m\u001b[0;34m\u001b[0m\u001b[0;34m\u001b[0m\u001b[0;34m\u001b[0m\u001b[0m\n\u001b[1;32m    150\u001b[0m   \u001b[0maverageTopX\u001b[0m \u001b[0;34m=\u001b[0m \u001b[0mround\u001b[0m\u001b[0;34m(\u001b[0m\u001b[0;34m(\u001b[0m\u001b[0mminYWith5Arr\u001b[0m\u001b[0;34m[\u001b[0m\u001b[0;36m0\u001b[0m\u001b[0;34m]\u001b[0m\u001b[0;34m[\u001b[0m\u001b[0;36m0\u001b[0m\u001b[0;34m]\u001b[0m \u001b[0;34m+\u001b[0m \u001b[0mminYWith5Arr\u001b[0m\u001b[0;34m[\u001b[0m\u001b[0;34m-\u001b[0m\u001b[0;36m1\u001b[0m\u001b[0;34m]\u001b[0m\u001b[0;34m[\u001b[0m\u001b[0;36m0\u001b[0m\u001b[0;34m]\u001b[0m\u001b[0;34m)\u001b[0m\u001b[0;34m/\u001b[0m\u001b[0;36m2\u001b[0m\u001b[0;34m)\u001b[0m\u001b[0;34m\u001b[0m\u001b[0;34m\u001b[0m\u001b[0m\n\u001b[0;32m--> 151\u001b[0;31m   \u001b[0maverageBottomX\u001b[0m \u001b[0;34m=\u001b[0m \u001b[0mround\u001b[0m\u001b[0;34m(\u001b[0m\u001b[0;34m(\u001b[0m\u001b[0mmaxYWithout5Arr\u001b[0m\u001b[0;34m[\u001b[0m\u001b[0;36m0\u001b[0m\u001b[0;34m]\u001b[0m\u001b[0;34m[\u001b[0m\u001b[0;36m0\u001b[0m\u001b[0;34m]\u001b[0m \u001b[0;34m+\u001b[0m \u001b[0mmaxYWithout5Arr\u001b[0m\u001b[0;34m[\u001b[0m\u001b[0;34m-\u001b[0m\u001b[0;36m1\u001b[0m\u001b[0;34m]\u001b[0m\u001b[0;34m[\u001b[0m\u001b[0;36m0\u001b[0m\u001b[0;34m]\u001b[0m\u001b[0;34m)\u001b[0m\u001b[0;34m/\u001b[0m\u001b[0;36m2\u001b[0m\u001b[0;34m)\u001b[0m\u001b[0;34m\u001b[0m\u001b[0;34m\u001b[0m\u001b[0m\n\u001b[0m\u001b[1;32m    152\u001b[0m   \u001b[0mslope\u001b[0m \u001b[0;34m=\u001b[0m \u001b[0mgetSlope\u001b[0m\u001b[0;34m(\u001b[0m\u001b[0;34m[\u001b[0m\u001b[0maverageTopX\u001b[0m\u001b[0;34m,\u001b[0m \u001b[0mminYWith5\u001b[0m\u001b[0;34m]\u001b[0m\u001b[0;34m,\u001b[0m \u001b[0;34m[\u001b[0m\u001b[0maverageBottomX\u001b[0m\u001b[0;34m,\u001b[0m \u001b[0mmaxYWithout5\u001b[0m\u001b[0;34m]\u001b[0m\u001b[0;34m)\u001b[0m\u001b[0;34m\u001b[0m\u001b[0;34m\u001b[0m\u001b[0m\n\u001b[1;32m    153\u001b[0m \u001b[0;34m\u001b[0m\u001b[0m\n",
      "\u001b[0;31mIndexError\u001b[0m: list index out of range"
     ]
    }
   ],
   "source": [
    "import pandas as pd\n",
    "from ast import literal_eval\n",
    "import os\n",
    "import cv2\n",
    "from tqdm import tqdm\n",
    "from algorithms import funcs as funcs\n",
    "import loader\n",
    "from PIL import Image \n",
    "import skimage.draw\n",
    "import numpy as np\n",
    "from scipy.interpolate import interp1d\n",
    "import matplotlib.pyplot as plt\n",
    "\n",
    "root = \"/Users/ishan/Documents/Stanford/EchoData\"\n",
    "PATH_TO_SEGMENTED_FRAMES_PARENT_DIR = os.path.join(root, \"control_video_frames\")\n",
    "\n",
    "print(\"\\nIterating through each video and making frame if selected\")\n",
    "for i in tqdm(os.listdir(PATH_TO_SEGMENTED_FRAMES_PARENT_DIR)): # iterates through each row of data frame\n",
    "    videoName = i#.split(\"_\")[0]\n",
    "    #frame = i.split(\"_\")[1].split(\".\")[0]\n",
    "\n",
    "    videoPath = os.path.join(root, \"Videos\", videoName)\n",
    "    \n",
    "    video = loader.loadvideo(videoPath).astype(np.float32)\n",
    "    \n",
    "    INPUT_FRAME_PATH = os.path.join(PATH_TO_SEGMENTED_FRAMES_PARENT_DIR, i) # (data directory)/frames/(file name)\n",
    "    \n",
    "    points = []\n",
    "    volumes, x1, y1, x2, y2 = funcs.calculateVolumeErosionAndDilation(INPUT_FRAME_PATH, 20, iterations=10, method=\"Method of Disks\")\n",
    "    #volumes, x1, y1, x2, y2 = funcs.calculateVolumeMainAxisTopShift(INPUT_FRAME_PATH, 20, pointShifts=10, method=\"Method of Disks\")\n",
    "    #volumes, x1, y1, x2, y2, degrees = funcs.calculateVolumeAngleShift(INPUT_FRAME_PATH, 20, sweeps=10, method=\"Method of Disks\")\n",
    "    \n",
    "    for iteration in x1:\n",
    "        mask = loader.READ_AND_CROP_FRAME(videoPath, frame, False)\n",
    "        overlay = mask.copy() # overlay layer\n",
    "        \n",
    "        x = np.concatenate((x1[iteration][1:], np.flip(x2[iteration][1:])))\n",
    "        y = np.concatenate((y1[iteration][1:], np.flip(y2[iteration][1:])))\n",
    "        \n",
    "        x0 = np.concatenate((x1[0][1:], np.flip(x2[0][1:])))\n",
    "        y0 = np.concatenate((y1[0][1:], np.flip(y2[0][1:])))\n",
    "        \n",
    "        r, c = skimage.draw.polygon(np.rint(y).astype(np.int), np.rint(x).astype(np.int), (video.shape[2], video.shape[3]))\n",
    "        r0, c0 = skimage.draw.polygon(np.rint(y0).astype(np.int), np.rint(x0).astype(np.int), (video.shape[2], video.shape[3]))\n",
    "        #mask = np.zeros((video.shape[2], video.shape[3]), np.float32)\n",
    "        \n",
    "        mask[r, c] = (50, 100, 80)\n",
    "        overlay[r0, c0] = (50, 100, 80)\n",
    "\n",
    "        rescaled = (255.0 / mask.max() * (mask - mask.min())).astype(np.uint8)\n",
    "\n",
    "        if videoName == \"0X5A0750FDDF8BB7FD.avi\":\n",
    "            im = Image.fromarray(mask)\n",
    "            #if iteration > 0:\n",
    "            image_new = cv2.addWeighted(overlay, 0.7, np.array(im), 0.7, 0)\n",
    "            \n",
    "            image_new = Image.fromarray(np.uint8(image_new)).convert('RGB')\n",
    "            image_new.save(str(iteration) + \".png\")        \n"
   ]
  },
  {
   "cell_type": "code",
   "execution_count": null,
   "metadata": {},
   "outputs": [],
   "source": []
  }
 ],
 "metadata": {
  "kernelspec": {
   "display_name": "Python 3",
   "language": "python",
   "name": "python3"
  },
  "language_info": {
   "codemirror_mode": {
    "name": "ipython",
    "version": 3
   },
   "file_extension": ".py",
   "mimetype": "text/x-python",
   "name": "python",
   "nbconvert_exporter": "python",
   "pygments_lexer": "ipython3",
   "version": "3.7.6"
  }
 },
 "nbformat": 4,
 "nbformat_minor": 2
}
