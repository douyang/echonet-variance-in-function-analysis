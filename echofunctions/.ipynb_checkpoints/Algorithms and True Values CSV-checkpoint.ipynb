{
 "cells": [
  {
   "cell_type": "markdown",
   "metadata": {},
   "source": [
    "# Export a CSV with volume data (ESV, EDV, EF, split) from algorithms and VolumeTracings"
   ]
  },
  {
   "cell_type": "code",
   "execution_count": 37,
   "metadata": {},
   "outputs": [
    {
     "name": "stderr",
     "output_type": "stream",
     "text": [
      "100%|██████████| 20052/20052 [00:52<00:00, 378.78it/s]\n",
      "100%|██████████| 20052/20052 [00:07<00:00, 2796.09it/s]\n"
     ]
    }
   ],
   "source": [
    "# Dictionary with volumes from algorithms and VolumeTracings\n",
    "\n",
    "import pandas as pd\n",
    "import numpy as np\n",
    "import matplotlib.pyplot as plt\n",
    "import os\n",
    "import loader\n",
    "from algorithms import funcs as funcs\n",
    "import config\n",
    "from algorithms import volume_tracings_calculations as tracings\n",
    "from ast import literal_eval\n",
    "from tqdm import tqdm\n",
    "import operator\n",
    "\n",
    "tracings_path = \"/Users/ishan/Documents/Stanford/EchoData/VolumeTracings.csv\"\n",
    "frames_path = \"/Users/ishan/Documents/Stanford/EchoData/Masks_From_VolumeTracing\"\n",
    "\n",
    "df = pd.read_csv(tracings_path)\n",
    "df = df.astype(str).groupby(['FileName', 'Frame']).agg(','.join).reset_index() # group VolumeTracings.csv by FileName and Frame timing\n",
    "\n",
    "def sortVolumesFromAlgo():\n",
    "    all_volumes={}\n",
    "    exception_files = 0\n",
    "    \n",
    "    PATH_TO_RAW_FRAMES_PARENT_DIR = os.path.join(frames_path) # frames path\n",
    "    \n",
    "    frame_df = pd.read_csv(\"/Users/ishan/Documents/Stanford/EchoData/Frame Predictions.csv\")\n",
    "    for i in tqdm(range(len(df))): # iterates through each row of data frame\n",
    "        try:\n",
    "            videoName = frame_df.iloc[i, 1] # name of video\n",
    "            ESV_frameNumber = frame_df.iloc[i, 4] # ESV timing for clip\n",
    "            EDV_frameNumber = frame_df.iloc[i, 5] # EDV timing for clip\n",
    "\n",
    "            ESV_OUTPUT_FRAME_NAME = videoName + \"_\" + str(ESV_frameNumber) + \".png\" # concatenate video name with frame number as file name\n",
    "            EDV_OUTPUT_FRAME_NAME = videoName + \"_\" + str(EDV_frameNumber) + \".png\" # concatenate video name with frame number as file name\n",
    "\n",
    "            ESV_FRAMES_PATH = os.path.join(PATH_TO_RAW_FRAMES_PARENT_DIR, ESV_OUTPUT_FRAME_NAME) # path to each video\n",
    "            EDV_FRAMES_PATH = os.path.join(PATH_TO_RAW_FRAMES_PARENT_DIR, EDV_OUTPUT_FRAME_NAME) # path to each video\n",
    "\n",
    "            if os.path.exists(ESV_FRAMES_PATH) and os.path.exists(EDV_FRAMES_PATH):\n",
    "                ES_volumes, *_ = funcs.calculateVolumeMainAxisTopShift(ESV_FRAMES_PATH, 20, 1, \"Method of Disks\")\n",
    "                ED_volumes, *_ = funcs.calculateVolumeMainAxisTopShift(EDV_FRAMES_PATH, 20, 1, \"Method of Disks\")\n",
    "\n",
    "                all_volumes[videoName] = [ES_volumes[0], ED_volumes[0]]\n",
    "        except:\n",
    "            exception_files += 1\n",
    "        \n",
    "    return all_volumes\n",
    "\n",
    "def sortFrameVolumeTracings():\n",
    "    calculatedVolumeFromGroundTruth={}\n",
    "    \n",
    "    for i in tqdm(range(len(df))):\n",
    "        videoName = df.iloc[i, 0] + \".avi\"\n",
    "        x1 = list(literal_eval(df.iloc[i, 2])) # x1 coords\n",
    "        y1 = list(literal_eval(df.iloc[i, 3])) # y1 coords\n",
    "        x2 = list(literal_eval(df.iloc[i, 4])) # x2 coords\n",
    "        y2 = list(literal_eval(df.iloc[i, 5])) # y2 coords\n",
    "\n",
    "        number = len(x1) - 1\n",
    "\n",
    "        maxX1, maxY1, maxX2, maxY2, lowerInterceptAveragePoints, higherInterceptAveragePoints = tracings.calcParallelAndMaxPoints(x1, y1, x2, y2)\n",
    "\n",
    "        if number < 22:\n",
    "            ground_truth_volume = funcs.volumeMethodOfDisks(maxX1, maxY1, maxX2, maxY2, number, lowerInterceptAveragePoints, higherInterceptAveragePoints)\n",
    "            \n",
    "            if videoName not in calculatedVolumeFromGroundTruth:\n",
    "                calculatedVolumeFromGroundTruth[videoName] = []\n",
    "                \n",
    "            calculatedVolumeFromGroundTruth[videoName].append(ground_truth_volume)\n",
    "    return calculatedVolumeFromGroundTruth\n",
    "\n",
    "algorithm_values = sortVolumesFromAlgo()\n",
    "volume_tracings = sortFrameVolumeTracings()\n"
   ]
  },
  {
   "cell_type": "code",
   "execution_count": 38,
   "metadata": {},
   "outputs": [
    {
     "name": "stderr",
     "output_type": "stream",
     "text": [
      "100%|██████████| 10030/10030 [00:00<00:00, 20093.52it/s]\n"
     ]
    }
   ],
   "source": [
    "# Returns dictionary with split\n",
    "\n",
    "filelist_path = \"/Users/ishan/Documents/Stanford/EchoData/FileList.csv\"\n",
    "filelist_df = pd.read_csv(filelist_path)\n",
    "\n",
    "def sortVolumesFromFileList(root=config.CONFIG.DATA_DIR):\n",
    "    givenTrueDict={}\n",
    "        \n",
    "    for i in tqdm(range(len(filelist_df))):\n",
    "        videoName = filelist_df.iloc[i, 0]\n",
    "        split = filelist_df.iloc[i, 8]\n",
    "        \n",
    "        if videoName not in givenTrueDict:\n",
    "            givenTrueDict[videoName] = []\n",
    "        givenTrueDict[videoName] = split\n",
    "        \n",
    "    return givenTrueDict\n",
    "\n",
    "split = sortVolumesFromFileList()"
   ]
  },
  {
   "cell_type": "code",
   "execution_count": 41,
   "metadata": {},
   "outputs": [],
   "source": [
    "# Exports CSV with volume data from human tracings and algorithms\n",
    "\n",
    "dataList = []\n",
    "\n",
    "for videoName in volume_tracings:\n",
    "    if videoName in split:\n",
    "        current_split = split[videoName] # split of the video (train, val, or test)\n",
    "\n",
    "        volumeData = volume_tracings[videoName]\n",
    "        ground_truth_ESV = min(volumeData)\n",
    "        ground_truth_EDV = max(volumeData)\n",
    "        ground_truth_EF = (1 - (ground_truth_ESV/ground_truth_EDV)) * 100\n",
    "        if videoName in algorithm_values:\n",
    "            volumes = algorithm_values[videoName]\n",
    "\n",
    "            if len(volumes) > 1:\n",
    "                EDV = max(volumes)\n",
    "                ESV = min(volumes)\n",
    "                EF = (1 - (ESV/EDV)) * 100\n",
    "\n",
    "                if EF != 0 and ground_truth_EF != 0:\n",
    "                    calculatedData = {\"Video Name\": videoName, \"Split\": current_split, \n",
    "                                      \"Human Tracings EF\": ground_truth_EF,\"Human Tracings ESV\": ground_truth_ESV,\n",
    "                                      \"Human Tracings EDV\": ground_truth_EDV,\"Algorithm EF\": EF, \"Algorithm ESV\": ESV,\n",
    "                                      \"Algorithm EDV\": EDV}\n",
    "                    dataList.append(calculatedData)\n",
    "\n",
    "export_df = pd.DataFrame(dataList) # convert to dataframe\n",
    "export_path = os.path.join(\"/Users/ishan/Documents/Stanford/EchoData/Volume Data.csv\") # path to export\n",
    "\n",
    "export_df.to_csv(export_path) # export to CSV"
   ]
  },
  {
   "cell_type": "code",
   "execution_count": null,
   "metadata": {},
   "outputs": [],
   "source": []
  }
 ],
 "metadata": {
  "kernelspec": {
   "display_name": "Python 3",
   "language": "python",
   "name": "python3"
  },
  "language_info": {
   "codemirror_mode": {
    "name": "ipython",
    "version": 3
   },
   "file_extension": ".py",
   "mimetype": "text/x-python",
   "name": "python",
   "nbconvert_exporter": "python",
   "pygments_lexer": "ipython3",
   "version": "3.7.6"
  }
 },
 "nbformat": 4,
 "nbformat_minor": 2
}
